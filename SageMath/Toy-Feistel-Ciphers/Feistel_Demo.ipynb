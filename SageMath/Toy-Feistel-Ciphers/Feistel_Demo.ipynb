{
 "cells": [
  {
   "cell_type": "markdown",
   "metadata": {},
   "source": [
    "# Feistel-erf and Feistel-crf Polynomial Model Demonstration"
   ]
  },
  {
   "cell_type": "code",
   "execution_count": 1,
   "metadata": {},
   "outputs": [],
   "source": [
    "load(\"Feistel.sage\")"
   ]
  },
  {
   "cell_type": "markdown",
   "metadata": {},
   "source": [
    "## Expanding Round Function (erf)"
   ]
  },
  {
   "cell_type": "code",
   "execution_count": 2,
   "metadata": {},
   "outputs": [
    {
     "name": "stdout",
     "output_type": "stream",
     "text": [
      "Feistel Parameters\n",
      "Field: Finite Field of size 101\n",
      "n: 3\n",
      "Rounds: 4\n",
      "Mode: erf\n",
      "Matrix:\n",
      "[0 0 1]\n",
      "[1 0 0]\n",
      "[0 1 0]\n",
      "Constants: [(6, 84, 2), (9, 61, 76), (54, 66, 36), (3, 73, 53)]\n"
     ]
    }
   ],
   "source": [
    "field = GF(101)\n",
    "n = 3\n",
    "r = 4\n",
    "mode = \"erf\"\n",
    "\n",
    "feistel = Feistel(field=field, \n",
    "                  n=n, \n",
    "                  rounds=r,\n",
    "                  mode=mode)"
   ]
  },
  {
   "cell_type": "code",
   "execution_count": null,
   "metadata": {},
   "outputs": [
    {
     "data": {
      "text/plain": [
       "((10, 16, 88), (52, 97, 80), (31, 13, 13), True)"
      ]
     },
     "execution_count": 3,
     "metadata": {},
     "output_type": "execute_result"
    }
   ],
   "source": [
    "V = VectorSpace(feistel.field, feistel.n)\n",
    "\n",
    "plain = V.random_element()\n",
    "key = V.random_element()\n",
    "cipher = feistel.encryption(plain, key)\n",
    "\n",
    "plain, key, cipher, plain == feistel.decryption(cipher, key)"
   ]
  },
  {
   "cell_type": "code",
   "execution_count": null,
   "metadata": {},
   "outputs": [
    {
     "name": "stdout",
     "output_type": "stream",
     "text": [
      "Plaintext: (10, 16, 88)\n",
      "Ciphertext: (31, 13, 13)\n",
      "Term order: degrevlex\n",
      "----------------------------------------------------------------------\n",
      "-x_1__1 + y_1 + y_3 - 7\n",
      "y_3^2 - x_2__1 + y_1 + y_2 - 26*y_3 - 40\n",
      "y_3^2 - x_3__1 + y_2 - 25*y_3 - 15\n",
      "----------------------------------------------------------------------\n",
      "x_3__1 - x_1__2 + y_1 + 9\n",
      "x_3__1^2 + x_1__1 - x_2__2 + y_2 - 40\n",
      "x_3__1^2 + x_2__1 - x_3__2 + y_3 - 25\n",
      "----------------------------------------------------------------------\n",
      "x_3__2 - x_1__3 + y_1 - 47\n",
      "x_3__2^2 + x_1__2 - x_2__3 + y_2 - 35\n",
      "x_3__2^2 + x_2__2 - x_3__3 + y_3 + 36\n",
      "----------------------------------------------------------------------\n",
      "x_3__3 + y_1 - 28\n",
      "x_3__3^2 + x_1__3 + y_2 - 41\n",
      "x_3__3^2 + x_2__3 + y_3 + 40\n",
      "----------------------------------------------------------------------\n"
     ]
    }
   ],
   "source": [
    "polynomials = feistel.generate_polynomials(plain=plain, \n",
    "                                           cipher=cipher)\n",
    "\n",
    "print(70 * \"-\")\n",
    "\n",
    "for i in range(0, feistel.rounds):\n",
    "    for j in range(0, feistel.n):\n",
    "        print(polynomials[i * feistel.n + j])\n",
    "    print(70 * \"-\")"
   ]
  },
  {
   "cell_type": "code",
   "execution_count": 5,
   "metadata": {},
   "outputs": [
    {
     "name": "stdout",
     "output_type": "stream",
     "text": [
      "Is in generic coordinates: True\n",
      "Ideal of leading terms equal to (x_subs_1^d, ..., x_subs_n^d): True\n",
      "All terms of substituted Groebner basis contained in (x_subs_1, ..., x_subs_n): True\n",
      "----------------------------------------------------------------------\n",
      "Linear polynomials\n",
      "----------------------------------------------------------------------\n",
      "x_1__1 - y_1 - y_3 + 7\n",
      "x_2__1 - x_2__3 + 50*y_1 - 50*y_2 + 50*y_3 - 7\n",
      "x_3__1 - x_2__3 - 50*y_1 - 50*y_2 + 49*y_3 - 32\n",
      "x_1__2 - x_2__3 + 50*y_1 - 50*y_2 + 49*y_3 - 41\n",
      "x_2__2 - 50*y_1 + 50*y_2 + 50*y_3 + 2\n",
      "x_3__2 - x_2__3 + y_1 + y_2 - y_3 - 27\n",
      "x_1__3 - x_2__3 + y_2 - y_3 + 20\n",
      "x_3__3 + y_1 - 28\n",
      "----------------------------------------------------------------------\n",
      "Substitution polynomials\n",
      "----------------------------------------------------------------------\n",
      "x_2__3 - 2*x_subs_1 + x_subs_2 + 2*x_subs_4 + 37\n",
      "y_1 + x_subs_3 - 28\n",
      "y_2 - 2*x_subs_1 + 2*x_subs_2 - x_subs_3 + x_subs_4 + 38\n",
      "y_3 - x_subs_4\n",
      "----------------------------------------------------------------------\n",
      "Gröbner basis\n",
      "----------------------------------------------------------------------\n",
      "x_subs_4^2 + x_subs_1 - 2*x_subs_2 + x_subs_3 - 26*x_subs_4 + 48\n",
      "x_subs_1^2 + x_subs_1 - x_subs_2 - x_subs_3 - 22\n",
      "x_subs_2^2 + x_subs_1 - x_subs_2 + x_subs_4 + 1\n",
      "x_subs_3^2 + 2*x_subs_1 - x_subs_2 - x_subs_4 + 3\n"
     ]
    }
   ],
   "source": [
    "polys_lin, polys_subs, gb_subs = feistel.compute_Groebner_basis(polynomials)\n",
    "\n",
    "print(70 * \"-\")\n",
    "print(\"Linear polynomials\")\n",
    "print(70 * \"-\")\n",
    "for poly in polys_lin:\n",
    "    print(poly)\n",
    "\n",
    "print(70 * \"-\")\n",
    "print(\"Substitution polynomials\")\n",
    "print(70 * \"-\")\n",
    "for poly in polys_subs:\n",
    "    print(poly)\n",
    "\n",
    "print(70 * \"-\")\n",
    "print(\"Gröbner basis\")\n",
    "print(70 * \"-\")\n",
    "for poly in gb_subs:\n",
    "    print(poly)"
   ]
  },
  {
   "cell_type": "code",
   "execution_count": 6,
   "metadata": {},
   "outputs": [
    {
     "data": {
      "text/plain": [
       "True"
      ]
     },
     "execution_count": 6,
     "metadata": {},
     "output_type": "execute_result"
    }
   ],
   "source": [
    "ideal(polys_lin + polys_subs + gb_subs).basis_is_groebner()"
   ]
  },
  {
   "cell_type": "code",
   "execution_count": 7,
   "metadata": {},
   "outputs": [
    {
     "data": {
      "text/plain": [
       "[{x_subs_4: 18, x_subs_3: 16, x_subs_2: 1, x_subs_1: 82, y_3: 18, y_2: 21, y_1: 12, x_3__3: 16, x_2__3: 90, x_1__3: 67, x_3__2: 1, x_2__2: 62, x_1__2: 2, x_3__1: 82, x_2__1: 51, x_1__1: 23},\n",
       " {x_subs_4: 89, x_subs_3: 6, x_subs_2: 20, x_subs_1: 35, y_3: 89, y_2: 10, y_1: 22, x_3__3: 6, x_2__3: 37, x_1__3: 96, x_3__2: 20, x_2__2: 87, x_1__2: 66, x_3__1: 35, x_2__1: 44, x_1__1: 3},\n",
       " {x_subs_4: 80, x_subs_3: 77, x_subs_2: 70, x_subs_1: 38, y_3: 80, y_2: 97, y_1: 52, x_3__3: 77, x_2__3: 11, x_1__3: 75, x_3__2: 70, x_2__2: 10, x_1__2: 99, x_3__1: 38, x_2__1: 86, x_1__1: 24},\n",
       " {x_subs_4: 79, x_subs_3: 63, x_subs_2: 19, x_subs_1: 83, y_3: 79, y_2: 74, y_1: 66, x_3__3: 63, x_2__3: 53, x_1__3: 38, x_3__2: 19, x_2__2: 92, x_1__2: 57, x_3__1: 83, x_2__1: 45, x_1__1: 37}]"
      ]
     },
     "execution_count": 7,
     "metadata": {},
     "output_type": "execute_result"
    }
   ],
   "source": [
    "ideal(polys_lin + polys_subs + gb_subs).variety()"
   ]
  },
  {
   "cell_type": "markdown",
   "metadata": {},
   "source": [
    "## Contracting Round Function (crf)"
   ]
  },
  {
   "cell_type": "code",
   "execution_count": 8,
   "metadata": {},
   "outputs": [
    {
     "name": "stdout",
     "output_type": "stream",
     "text": [
      "Feistel Parameters\n",
      "Field: Finite Field of size 101\n",
      "n: 3\n",
      "Rounds: 4\n",
      "Mode: crf\n",
      "Matrix:\n",
      "[0 0 1]\n",
      "[1 0 0]\n",
      "[0 1 0]\n",
      "Constants: [(19, 27, 17), (95, 80, 98), (34, 57, 48), (40, 64, 58)]\n"
     ]
    }
   ],
   "source": [
    "field = GF(101)\n",
    "n = 3\n",
    "r = 4\n",
    "mode = \"crf\"\n",
    "\n",
    "feistel = Feistel(field=field, \n",
    "                  n=n, \n",
    "                  rounds=r,\n",
    "                  mode=mode)"
   ]
  },
  {
   "cell_type": "code",
   "execution_count": null,
   "metadata": {},
   "outputs": [
    {
     "data": {
      "text/plain": [
       "((55, 75, 19), (33, 17, 54), (51, 42, 17), True)"
      ]
     },
     "execution_count": 9,
     "metadata": {},
     "output_type": "execute_result"
    }
   ],
   "source": [
    "V = VectorSpace(feistel.field, feistel.n)\n",
    "\n",
    "plain = V.random_element()\n",
    "key = V.random_element()\n",
    "cipher = feistel.encryption(plain, key)\n",
    "\n",
    "plain, key, cipher, plain == feistel.decryption(cipher, key)"
   ]
  },
  {
   "cell_type": "code",
   "execution_count": null,
   "metadata": {},
   "outputs": [
    {
     "name": "stdout",
     "output_type": "stream",
     "text": [
      "Plaintext: (55, 75, 19)\n",
      "Ciphertext: (51, 42, 17)\n",
      "Term order: degrevlex\n",
      "----------------------------------------------------------------------\n",
      "y_1^2 + 2*y_1*y_2 + y_2^2 - x_1__1 - 42*y_1 - 43*y_2 + y_3 - 30\n",
      "-x_2__1 + y_1 + y_2 - 19\n",
      "-x_3__1 + y_2 + y_3 - 9\n",
      "----------------------------------------------------------------------\n",
      "x_1__1^2 + 2*x_1__1*x_2__1 + x_2__1^2 + x_3__1 - x_1__2 + y_1 - 6\n",
      "x_1__1 - x_2__2 + y_2 - 21\n",
      "x_2__1 - x_3__2 + y_3 - 3\n",
      "----------------------------------------------------------------------\n",
      "x_1__2^2 + 2*x_1__2*x_2__2 + x_2__2^2 + x_3__2 - x_1__3 + y_1 + 34\n",
      "x_1__2 - x_2__3 + y_2 - 44\n",
      "x_2__2 - x_3__3 + y_3 + 48\n",
      "----------------------------------------------------------------------\n",
      "x_1__3^2 + 2*x_1__3*x_2__3 + x_2__3^2 + x_3__3 + y_1 - 11\n",
      "x_1__3 + y_2 + 22\n",
      "x_2__3 + y_3 + 41\n",
      "----------------------------------------------------------------------\n"
     ]
    }
   ],
   "source": [
    "polynomials = feistel.generate_polynomials(plain=plain, \n",
    "                                           cipher=cipher)\n",
    "\n",
    "print(70 * \"-\")\n",
    "\n",
    "for i in range(0, feistel.rounds):\n",
    "    for j in range(0, feistel.n):\n",
    "        print(polynomials[i * feistel.n + j])\n",
    "    print(70 * \"-\")"
   ]
  },
  {
   "cell_type": "code",
   "execution_count": 11,
   "metadata": {},
   "outputs": [
    {
     "name": "stdout",
     "output_type": "stream",
     "text": [
      "Is in generic coordinates: True\n",
      "Ideal of leading terms equal to (x_subs_1^d, ..., x_subs_n^d): True\n",
      "All terms of substituted Groebner basis contained in (x_subs_1, ..., x_subs_n): True\n",
      "----------------------------------------------------------------------\n",
      "Linear polynomials\n",
      "----------------------------------------------------------------------\n",
      "x_1__1 - x_3__3 + y_2 + y_3 + 27\n",
      "x_2__1 - y_1 - y_2 + 19\n",
      "x_3__1 - y_2 - y_3 + 9\n",
      "x_1__2 + y_2 + y_3 - 3\n",
      "x_2__2 - x_3__3 + y_3 + 48\n",
      "x_3__2 - y_1 - y_2 - y_3 + 22\n",
      "x_1__3 + y_2 + 22\n",
      "x_2__3 + y_3 + 41\n",
      "----------------------------------------------------------------------\n",
      "Substitution polynomials\n",
      "----------------------------------------------------------------------\n",
      "x_3__3 - x_subs_1 + x_subs_3 + x_subs_4 + 17\n",
      "y_1 - x_subs_1 + x_subs_2 - x_subs_3 + 37\n",
      "y_2 + x_subs_1 - x_subs_2 + x_subs_3 - x_subs_4 - 37\n",
      "y_3 - x_subs_1 + x_subs_2 + x_subs_4 - 1\n",
      "----------------------------------------------------------------------\n",
      "Gröbner basis\n",
      "----------------------------------------------------------------------\n",
      "x_subs_4^2 + x_subs_1 - 2*x_subs_2 + x_subs_3 - 43*x_subs_4 + 16\n",
      "x_subs_1^2 + x_subs_1 - x_subs_2 - x_subs_3 + 21\n",
      "x_subs_2^2 + x_subs_1 - x_subs_2 + x_subs_4 + 35\n",
      "x_subs_3^2 + 2*x_subs_1 - x_subs_2 - x_subs_4 + 36\n"
     ]
    }
   ],
   "source": [
    "polys_lin, polys_subs, gb_subs = feistel.compute_Groebner_basis(polynomials)\n",
    "\n",
    "print(70 * \"-\")\n",
    "print(\"Linear polynomials\")\n",
    "print(70 * \"-\")\n",
    "for poly in polys_lin:\n",
    "    print(poly)\n",
    "\n",
    "print(70 * \"-\")\n",
    "print(\"Substitution polynomials\")\n",
    "print(70 * \"-\")\n",
    "for poly in polys_subs:\n",
    "    print(poly)\n",
    "\n",
    "print(70 * \"-\")\n",
    "print(\"Gröbner basis\")\n",
    "print(70 * \"-\")\n",
    "for poly in gb_subs:\n",
    "    print(poly)"
   ]
  },
  {
   "cell_type": "code",
   "execution_count": 12,
   "metadata": {},
   "outputs": [
    {
     "data": {
      "text/plain": [
       "True"
      ]
     },
     "execution_count": 12,
     "metadata": {},
     "output_type": "execute_result"
    }
   ],
   "source": [
    "ideal(polys_lin + polys_subs + gb_subs).basis_is_groebner()"
   ]
  },
  {
   "cell_type": "code",
   "execution_count": 13,
   "metadata": {},
   "outputs": [
    {
     "data": {
      "text/plain": [
       "[{x_subs_4: 70, x_subs_3: 73, x_subs_2: 93, x_subs_1: 25, y_3: 65, y_2: 1, y_1: 69, x_3__3: 67, x_2__3: 96, x_1__3: 78, x_3__2: 12, x_2__2: 55, x_1__2: 38, x_3__1: 57, x_2__1: 51, x_1__1: 75},\n",
       " {x_subs_4: 50, x_subs_3: 68, x_subs_2: 32, x_subs_1: 34, y_3: 54, y_2: 17, y_1: 33, x_3__3: 0, x_2__3: 6, x_1__3: 62, x_3__2: 82, x_2__2: 100, x_1__2: 33, x_3__1: 62, x_2__1: 31, x_1__1: 3}]"
      ]
     },
     "execution_count": 13,
     "metadata": {},
     "output_type": "execute_result"
    }
   ],
   "source": [
    "ideal(polys_lin + polys_subs + gb_subs).variety()"
   ]
  }
 ],
 "metadata": {
  "kernelspec": {
   "display_name": "SageMath 10.4",
   "language": "sage",
   "name": "sagemath"
  },
  "language_info": {
   "codemirror_mode": {
    "name": "ipython",
    "version": 3
   },
   "file_extension": ".py",
   "mimetype": "text/x-python",
   "name": "python",
   "nbconvert_exporter": "python",
   "pygments_lexer": "ipython3",
   "version": "3.10.12"
  }
 },
 "nbformat": 4,
 "nbformat_minor": 2
}
