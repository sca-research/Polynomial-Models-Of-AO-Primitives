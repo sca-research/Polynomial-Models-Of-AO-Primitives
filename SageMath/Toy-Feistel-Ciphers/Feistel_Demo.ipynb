{
 "cells": [
  {
   "cell_type": "markdown",
   "metadata": {},
   "source": [
    "# Feistel-erf and Feistel-crf Polynomial Model Demonstration"
   ]
  },
  {
   "cell_type": "code",
   "execution_count": 1,
   "metadata": {},
   "outputs": [],
   "source": [
    "load(\"Feistel.sage\")"
   ]
  },
  {
   "cell_type": "markdown",
   "metadata": {},
   "source": [
    "## Expanding Round Function (erf)"
   ]
  },
  {
   "cell_type": "code",
   "execution_count": 2,
   "metadata": {},
   "outputs": [
    {
     "name": "stdout",
     "output_type": "stream",
     "text": [
      "Feistel Parameters\n",
      "Field: Finite Field of size 101\n",
      "n: 3\n",
      "Rounds: 4\n",
      "Mode: erf\n",
      "Matrix:\n",
      "[0 0 1]\n",
      "[1 0 0]\n",
      "[0 1 0]\n",
      "Constants: [(97, 43, 36), (96, 31, 28), (95, 42, 55), (51, 100, 72)]\n"
     ]
    }
   ],
   "source": [
    "field = GF(101)\n",
    "n = 3\n",
    "r = 4\n",
    "mode = \"erf\"\n",
    "\n",
    "feistel = Feistel(field=field, \n",
    "                  n=n, \n",
    "                  rounds=r,\n",
    "                  mode=mode)"
   ]
  },
  {
   "cell_type": "code",
   "execution_count": 3,
   "metadata": {},
   "outputs": [
    {
     "data": {
      "text/plain": [
       "((36, 79, 28), (36, 80, 9), (12, 94, 12), True)"
      ]
     },
     "execution_count": 3,
     "metadata": {},
     "output_type": "execute_result"
    }
   ],
   "source": [
    "V = VectorSpace(feistel.field, feistel.n)\n",
    "\n",
    "plain = V.random_element()\n",
    "key = V.random_element()\n",
    "cipher = feistel.encryption(plain, key)\n",
    "\n",
    "plain, key, cipher, plain == feistel.decryption(cipher, key)"
   ]
  },
  {
   "cell_type": "code",
   "execution_count": 4,
   "metadata": {},
   "outputs": [
    {
     "name": "stdout",
     "output_type": "stream",
     "text": [
      "Plaintext: (36, 79, 28)\n",
      "Ciphertext: (12, 94, 12)\n",
      "Term order: degrevlex\n",
      "----------------------------------------------------------------------\n",
      "-x_1__1 + y_1 + y_3 + 24\n",
      "y_3^2 - x_2__1 + y_1 + y_2 - 45*y_3 - 46\n",
      "y_3^2 - x_3__1 + y_2 - 44*y_3 - 10\n",
      "----------------------------------------------------------------------\n",
      "x_3__1 - x_1__2 + y_1 - 5\n",
      "x_3__1^2 + x_1__1 - x_2__2 + y_2 + 31\n",
      "x_3__1^2 + x_2__1 - x_3__2 + y_3 + 28\n",
      "----------------------------------------------------------------------\n",
      "x_3__2 - x_1__3 + y_1 - 6\n",
      "x_3__2^2 + x_1__2 - x_2__3 + y_2 + 42\n",
      "x_3__2^2 + x_2__2 - x_3__3 + y_3 - 46\n",
      "----------------------------------------------------------------------\n",
      "x_3__3 + y_1 + 39\n",
      "x_3__3^2 + x_1__3 + y_2 + 6\n",
      "x_3__3^2 + x_2__3 + y_3 - 41\n",
      "----------------------------------------------------------------------\n"
     ]
    }
   ],
   "source": [
    "polynomials = feistel.generate_polynomials(plain=plain, \n",
    "                                           cipher=cipher)\n",
    "\n",
    "print(70 * \"-\")\n",
    "\n",
    "for i in range(0, feistel.rounds):\n",
    "    for j in range(0, feistel.n):\n",
    "        print(polynomials[i * feistel.n + j])\n",
    "    print(70 * \"-\")"
   ]
  },
  {
   "cell_type": "code",
   "execution_count": 5,
   "metadata": {},
   "outputs": [
    {
     "name": "stdout",
     "output_type": "stream",
     "text": [
      "Is in generic coordinates: True\n",
      "Ideal of leading terms equal to (x_subs_1^d, ..., x_subs_n^d): True\n",
      "All terms of substituted Groebner basis contained in (x_subs_1, ..., x_subs_n): True\n",
      "----------------------------------------------------------------------\n",
      "Linear polynomials\n",
      "----------------------------------------------------------------------\n",
      "x_1__1 - y_1 - y_3 - 24\n",
      "x_2__1 - x_2__3 + 50*y_1 - 50*y_2 + 50*y_3 + 47\n",
      "x_3__1 - x_2__3 - 50*y_1 - 50*y_2 + 49*y_3 + 11\n",
      "x_1__2 - x_2__3 + 50*y_1 - 50*y_2 + 49*y_3 + 16\n",
      "x_2__2 - 50*y_1 + 50*y_2 + 50*y_3 - 33\n",
      "x_3__2 - x_2__3 + y_1 + y_2 - y_3 + 41\n",
      "x_1__3 - x_2__3 + y_2 - y_3 + 47\n",
      "x_3__3 + y_1 + 39\n",
      "----------------------------------------------------------------------\n",
      "Substitution polynomials\n",
      "----------------------------------------------------------------------\n",
      "x_2__3 - 2*x_subs_1 + x_subs_2 + 2*x_subs_4 + 19\n",
      "y_1 + x_subs_3 + 39\n",
      "y_2 - 2*x_subs_1 + 2*x_subs_2 - x_subs_3 + x_subs_4 + 21\n",
      "y_3 - x_subs_4\n",
      "----------------------------------------------------------------------\n",
      "Gröbner basis\n",
      "----------------------------------------------------------------------\n",
      "x_subs_4^2 + x_subs_1 - 2*x_subs_2 + x_subs_3 - 45*x_subs_4 - 31\n",
      "x_subs_1^2 + x_subs_1 - x_subs_2 - x_subs_3 - 47\n",
      "x_subs_2^2 + x_subs_1 - x_subs_2 + x_subs_4 - 4\n",
      "x_subs_3^2 + 2*x_subs_1 - x_subs_2 - x_subs_4 + 41\n"
     ]
    }
   ],
   "source": [
    "polys_lin, polys_subs, gb_subs = feistel.compute_Groebner_basis(polynomials)\n",
    "\n",
    "print(70 * \"-\")\n",
    "print(\"Linear polynomials\")\n",
    "print(70 * \"-\")\n",
    "for poly in polys_lin:\n",
    "    print(poly)\n",
    "\n",
    "print(70 * \"-\")\n",
    "print(\"Substitution polynomials\")\n",
    "print(70 * \"-\")\n",
    "for poly in polys_subs:\n",
    "    print(poly)\n",
    "\n",
    "print(70 * \"-\")\n",
    "print(\"Gröbner basis\")\n",
    "print(70 * \"-\")\n",
    "for poly in gb_subs:\n",
    "    print(poly)"
   ]
  },
  {
   "cell_type": "code",
   "execution_count": 6,
   "metadata": {},
   "outputs": [
    {
     "data": {
      "text/plain": [
       "True"
      ]
     },
     "execution_count": 6,
     "metadata": {},
     "output_type": "execute_result"
    }
   ],
   "source": [
    "ideal(polys_lin + polys_subs + gb_subs).basis_is_groebner()"
   ]
  },
  {
   "cell_type": "code",
   "execution_count": 7,
   "metadata": {},
   "outputs": [
    {
     "data": {
      "text/plain": [
       "[{x_subs_4: 30,\n",
       "  x_subs_3: 58,\n",
       "  x_subs_2: 7,\n",
       "  x_subs_1: 33,\n",
       "  y_3: 30,\n",
       "  y_2: 59,\n",
       "  y_1: 4,\n",
       "  x_3__3: 58,\n",
       "  x_2__3: 81,\n",
       "  x_1__3: 5,\n",
       "  x_3__2: 7,\n",
       "  x_2__2: 25,\n",
       "  x_1__2: 32,\n",
       "  x_3__1: 33,\n",
       "  x_2__1: 72,\n",
       "  x_1__1: 58},\n",
       " {x_subs_4: 9,\n",
       "  x_subs_3: 26,\n",
       "  x_subs_2: 16,\n",
       "  x_subs_1: 58,\n",
       "  y_3: 9,\n",
       "  y_2: 80,\n",
       "  y_1: 36,\n",
       "  x_3__3: 26,\n",
       "  x_2__3: 63,\n",
       "  x_1__3: 46,\n",
       "  x_3__2: 16,\n",
       "  x_2__2: 9,\n",
       "  x_1__2: 89,\n",
       "  x_3__1: 58,\n",
       "  x_2__1: 49,\n",
       "  x_1__1: 69}]"
      ]
     },
     "execution_count": 7,
     "metadata": {},
     "output_type": "execute_result"
    }
   ],
   "source": [
    "ideal(polys_lin + polys_subs + gb_subs).variety()"
   ]
  },
  {
   "cell_type": "markdown",
   "metadata": {},
   "source": [
    "## Contracting Round Function (crf)"
   ]
  },
  {
   "cell_type": "code",
   "execution_count": 8,
   "metadata": {},
   "outputs": [
    {
     "name": "stdout",
     "output_type": "stream",
     "text": [
      "Feistel Parameters\n",
      "Field: Finite Field of size 101\n",
      "n: 3\n",
      "Rounds: 4\n",
      "Mode: crf\n",
      "Matrix:\n",
      "[0 0 1]\n",
      "[1 0 0]\n",
      "[0 1 0]\n",
      "Constants: [(36, 64, 57), (47, 18, 65), (26, 79, 12), (28, 80, 20)]\n"
     ]
    }
   ],
   "source": [
    "field = GF(101)\n",
    "n = 3\n",
    "r = 4\n",
    "mode = \"crf\"\n",
    "\n",
    "feistel = Feistel(field=field, \n",
    "                  n=n, \n",
    "                  rounds=r,\n",
    "                  mode=mode)"
   ]
  },
  {
   "cell_type": "code",
   "execution_count": 9,
   "metadata": {},
   "outputs": [
    {
     "data": {
      "text/plain": [
       "((91, 22, 96), (13, 85, 16), (92, 12, 35), True)"
      ]
     },
     "execution_count": 9,
     "metadata": {},
     "output_type": "execute_result"
    }
   ],
   "source": [
    "V = VectorSpace(feistel.field, feistel.n)\n",
    "\n",
    "plain = V.random_element()\n",
    "key = V.random_element()\n",
    "cipher = feistel.encryption(plain, key)\n",
    "\n",
    "plain, key, cipher, plain == feistel.decryption(cipher, key)"
   ]
  },
  {
   "cell_type": "code",
   "execution_count": 10,
   "metadata": {},
   "outputs": [
    {
     "name": "stdout",
     "output_type": "stream",
     "text": [
      "Plaintext: (91, 22, 96)\n",
      "Ciphertext: (92, 12, 35)\n",
      "Term order: degrevlex\n",
      "----------------------------------------------------------------------\n",
      "y_1^2 + 2*y_1*y_2 + y_2^2 - x_1__1 + 25*y_1 + 24*y_2 + y_3 - 27\n",
      "-x_2__1 + y_1 + y_2 - 47\n",
      "-x_3__1 + y_2 + y_3 - 22\n",
      "----------------------------------------------------------------------\n",
      "x_1__1^2 + 2*x_1__1*x_2__1 + x_2__1^2 + x_3__1 - x_1__2 + y_1 + 47\n",
      "x_1__1 - x_2__2 + y_2 + 18\n",
      "x_2__1 - x_3__2 + y_3 - 36\n",
      "----------------------------------------------------------------------\n",
      "x_1__2^2 + 2*x_1__2*x_2__2 + x_2__2^2 + x_3__2 - x_1__3 + y_1 + 26\n",
      "x_1__2 - x_2__3 + y_2 - 22\n",
      "x_2__2 - x_3__3 + y_3 + 12\n",
      "----------------------------------------------------------------------\n",
      "x_1__3^2 + 2*x_1__3*x_2__3 + x_2__3^2 + x_3__3 + y_1 + 37\n",
      "x_1__3 + y_2 - 33\n",
      "x_2__3 + y_3 - 15\n",
      "----------------------------------------------------------------------\n"
     ]
    }
   ],
   "source": [
    "polynomials = feistel.generate_polynomials(plain=plain, \n",
    "                                           cipher=cipher)\n",
    "\n",
    "print(70 * \"-\")\n",
    "\n",
    "for i in range(0, feistel.rounds):\n",
    "    for j in range(0, feistel.n):\n",
    "        print(polynomials[i * feistel.n + j])\n",
    "    print(70 * \"-\")"
   ]
  },
  {
   "cell_type": "code",
   "execution_count": 11,
   "metadata": {},
   "outputs": [
    {
     "name": "stdout",
     "output_type": "stream",
     "text": [
      "Is in generic coordinates: True\n",
      "Ideal of leading terms equal to (x_subs_1^d, ..., x_subs_n^d): True\n",
      "All terms of substituted Groebner basis contained in (x_subs_1, ..., x_subs_n): True\n",
      "----------------------------------------------------------------------\n",
      "Linear polynomials\n",
      "----------------------------------------------------------------------\n",
      "x_1__1 - x_3__3 + y_2 + y_3 + 30\n",
      "x_2__1 - y_1 - y_2 + 47\n",
      "x_3__1 - y_2 - y_3 + 22\n",
      "x_1__2 + y_2 + y_3 - 37\n",
      "x_2__2 - x_3__3 + y_3 + 12\n",
      "x_3__2 - y_1 - y_2 - y_3 - 18\n",
      "x_1__3 + y_2 - 33\n",
      "x_2__3 + y_3 - 15\n",
      "----------------------------------------------------------------------\n",
      "Substitution polynomials\n",
      "----------------------------------------------------------------------\n",
      "x_3__3 - x_subs_1 + x_subs_3 + x_subs_4 - 24\n",
      "y_1 - x_subs_1 + x_subs_2 - x_subs_3 + 47\n",
      "y_2 + x_subs_1 - x_subs_2 + x_subs_3 - x_subs_4 - 47\n",
      "y_3 - x_subs_1 + x_subs_2 + x_subs_4 - 1\n",
      "----------------------------------------------------------------------\n",
      "Gröbner basis\n",
      "----------------------------------------------------------------------\n",
      "x_subs_4^2 + x_subs_1 - 2*x_subs_2 + x_subs_3 + 24*x_subs_4 - 19\n",
      "x_subs_1^2 + x_subs_1 - x_subs_2 - x_subs_3 + 37\n",
      "x_subs_2^2 + x_subs_1 - x_subs_2 + x_subs_4 + 12\n",
      "x_subs_3^2 + 2*x_subs_1 - x_subs_2 - x_subs_4 + 14\n"
     ]
    }
   ],
   "source": [
    "polys_lin, polys_subs, gb_subs = feistel.compute_Groebner_basis(polynomials)\n",
    "\n",
    "print(70 * \"-\")\n",
    "print(\"Linear polynomials\")\n",
    "print(70 * \"-\")\n",
    "for poly in polys_lin:\n",
    "    print(poly)\n",
    "\n",
    "print(70 * \"-\")\n",
    "print(\"Substitution polynomials\")\n",
    "print(70 * \"-\")\n",
    "for poly in polys_subs:\n",
    "    print(poly)\n",
    "\n",
    "print(70 * \"-\")\n",
    "print(\"Gröbner basis\")\n",
    "print(70 * \"-\")\n",
    "for poly in gb_subs:\n",
    "    print(poly)"
   ]
  },
  {
   "cell_type": "code",
   "execution_count": 12,
   "metadata": {},
   "outputs": [
    {
     "data": {
      "text/plain": [
       "True"
      ]
     },
     "execution_count": 12,
     "metadata": {},
     "output_type": "execute_result"
    }
   ],
   "source": [
    "ideal(polys_lin + polys_subs + gb_subs).basis_is_groebner()"
   ]
  },
  {
   "cell_type": "code",
   "execution_count": 13,
   "metadata": {},
   "outputs": [
    {
     "data": {
      "text/plain": [
       "[{x_subs_4: 98,\n",
       "  x_subs_3: 48,\n",
       "  x_subs_2: 79,\n",
       "  x_subs_1: 91,\n",
       "  y_3: 16,\n",
       "  y_2: 85,\n",
       "  y_1: 13,\n",
       "  x_3__3: 70,\n",
       "  x_2__3: 100,\n",
       "  x_1__3: 49,\n",
       "  x_3__2: 31,\n",
       "  x_2__2: 42,\n",
       "  x_1__2: 37,\n",
       "  x_3__1: 79,\n",
       "  x_2__1: 51,\n",
       "  x_1__1: 40},\n",
       " {x_subs_4: 62,\n",
       "  x_subs_3: 63,\n",
       "  x_subs_2: 55,\n",
       "  x_subs_1: 87,\n",
       "  y_3: 72,\n",
       "  y_2: 14,\n",
       "  y_1: 48,\n",
       "  x_3__3: 87,\n",
       "  x_2__3: 44,\n",
       "  x_1__3: 19,\n",
       "  x_3__2: 51,\n",
       "  x_2__2: 3,\n",
       "  x_1__2: 52,\n",
       "  x_3__1: 64,\n",
       "  x_2__1: 15,\n",
       "  x_1__1: 72},\n",
       " {x_subs_4: 19,\n",
       "  x_subs_3: 53,\n",
       "  x_subs_2: 3,\n",
       "  x_subs_1: 64,\n",
       "  y_3: 43,\n",
       "  y_2: 53,\n",
       "  y_1: 67,\n",
       "  x_3__3: 16,\n",
       "  x_2__3: 73,\n",
       "  x_1__3: 81,\n",
       "  x_3__2: 80,\n",
       "  x_2__2: 62,\n",
       "  x_1__2: 42,\n",
       "  x_3__1: 74,\n",
       "  x_2__1: 73,\n",
       "  x_1__1: 92}]"
      ]
     },
     "execution_count": 13,
     "metadata": {},
     "output_type": "execute_result"
    }
   ],
   "source": [
    "ideal(polys_lin + polys_subs + gb_subs).variety()"
   ]
  }
 ],
 "metadata": {
  "kernelspec": {
   "display_name": "SageMath 10.6",
   "language": "sage",
   "name": "sagemath"
  },
  "language_info": {
   "codemirror_mode": {
    "name": "ipython",
    "version": 3
   },
   "file_extension": ".py",
   "mimetype": "text/x-python",
   "name": "python",
   "nbconvert_exporter": "python",
   "pygments_lexer": "ipython3",
   "version": "3.12.5"
  }
 },
 "nbformat": 4,
 "nbformat_minor": 2
}
