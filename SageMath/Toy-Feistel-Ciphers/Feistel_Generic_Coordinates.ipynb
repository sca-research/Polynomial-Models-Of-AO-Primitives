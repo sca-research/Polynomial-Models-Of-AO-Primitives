{
 "cells": [
  {
   "cell_type": "markdown",
   "metadata": {
    "vscode": {
     "languageId": "python"
    }
   },
   "source": [
    "# Verify Generic Coordinates For Feistel Polynomial Model"
   ]
  },
  {
   "cell_type": "code",
   "execution_count": 1,
   "metadata": {},
   "outputs": [],
   "source": [
    "load(\"Feistel.sage\")"
   ]
  },
  {
   "cell_type": "markdown",
   "metadata": {},
   "source": [
    "## Expanding Round Function (erf)"
   ]
  },
  {
   "cell_type": "code",
   "execution_count": 2,
   "metadata": {},
   "outputs": [
    {
     "name": "stdout",
     "output_type": "stream",
     "text": [
      "r: 10\n",
      "Generic coordinates: True\n",
      "r: 11\n",
      "Generic coordinates: False\n",
      "r: 12\n",
      "Generic coordinates: True\n",
      "r: 13\n",
      "Generic coordinates: False\n",
      "r: 14\n",
      "Generic coordinates: True\n",
      "r: 15\n",
      "Generic coordinates: False\n"
     ]
    }
   ],
   "source": [
    "K = GF(2**31 - 1)\n",
    "n = 3\n",
    "mode = \"erf\"\n",
    "r_min = 10\n",
    "r_max = 15\n",
    "\n",
    "for r in range(r_min, r_max + 1):\n",
    "    feistel = Feistel(field=K, n=n, rounds=r, mode=mode, info_level=0)\n",
    "    polys = feistel.generate_polynomials(info_level=0)\n",
    "    lin_polys, non_lin_polys = feistel.transform_polynomials(polys)\n",
    "    print(\"r:\", r)\n",
    "    print(\"Generic coordinates:\", feistel.generic_coordinates(lin_polys))"
   ]
  },
  {
   "cell_type": "code",
   "execution_count": 3,
   "metadata": {},
   "outputs": [
    {
     "name": "stdout",
     "output_type": "stream",
     "text": [
      "r: 10\n",
      "Generic coordinates: True\n",
      "r: 11\n",
      "Generic coordinates: False\n",
      "r: 12\n",
      "Generic coordinates: True\n",
      "r: 13\n",
      "Generic coordinates: True\n",
      "r: 14\n",
      "Generic coordinates: False\n",
      "r: 15\n",
      "Generic coordinates: True\n"
     ]
    }
   ],
   "source": [
    "K = GF(2**31 - 1)\n",
    "n = 4\n",
    "mode = \"erf\"\n",
    "r_min = 10\n",
    "r_max = 15\n",
    "\n",
    "for r in range(r_min, r_max + 1):\n",
    "    feistel = Feistel(field=K, n=n, rounds=r, mode=mode, info_level=0)\n",
    "    polys = feistel.generate_polynomials(info_level=0)\n",
    "    lin_polys, non_lin_polys = feistel.transform_polynomials(polys)\n",
    "    print(\"r:\", r)\n",
    "    print(\"Generic coordinates:\", feistel.generic_coordinates(lin_polys))"
   ]
  },
  {
   "cell_type": "code",
   "execution_count": 4,
   "metadata": {},
   "outputs": [
    {
     "name": "stdout",
     "output_type": "stream",
     "text": [
      "r: 10\n",
      "Generic coordinates: True\n",
      "r: 11\n",
      "Generic coordinates: False\n",
      "r: 12\n",
      "Generic coordinates: True\n",
      "r: 13\n",
      "Generic coordinates: False\n",
      "r: 14\n",
      "Generic coordinates: True\n",
      "r: 15\n",
      "Generic coordinates: False\n"
     ]
    }
   ],
   "source": [
    "K = GF(2**31 - 1)\n",
    "n = 5\n",
    "mode = \"erf\"\n",
    "r_min = 10\n",
    "r_max = 15\n",
    "\n",
    "for r in range(r_min, r_max + 1):\n",
    "    feistel = Feistel(field=K, n=n, rounds=r, mode=mode, info_level=0)\n",
    "    polys = feistel.generate_polynomials(info_level=0)\n",
    "    lin_polys, non_lin_polys = feistel.transform_polynomials(polys)\n",
    "    print(\"r:\", r)\n",
    "    print(\"Generic coordinates:\", feistel.generic_coordinates(lin_polys))"
   ]
  },
  {
   "cell_type": "markdown",
   "metadata": {},
   "source": [
    "## Contracting Round Function (crf)"
   ]
  },
  {
   "cell_type": "code",
   "execution_count": 5,
   "metadata": {},
   "outputs": [
    {
     "name": "stdout",
     "output_type": "stream",
     "text": [
      "r: 10\n",
      "Generic coordinates: True\n",
      "r: 11\n",
      "Generic coordinates: False\n",
      "r: 12\n",
      "Generic coordinates: True\n",
      "r: 13\n",
      "Generic coordinates: False\n",
      "r: 14\n",
      "Generic coordinates: True\n",
      "r: 15\n",
      "Generic coordinates: False\n"
     ]
    }
   ],
   "source": [
    "K = GF(2**31 - 1)\n",
    "n = 3\n",
    "mode = \"crf\"\n",
    "r_min = 10\n",
    "r_max = 15\n",
    "\n",
    "for r in range(r_min, r_max + 1):\n",
    "    feistel = Feistel(field=K, n=n, rounds=r, mode=mode, info_level=0)\n",
    "    polys = feistel.generate_polynomials(info_level=0)\n",
    "    lin_polys, non_lin_polys = feistel.transform_polynomials(polys)\n",
    "    print(\"r:\", r)\n",
    "    print(\"Generic coordinates:\", feistel.generic_coordinates(lin_polys))"
   ]
  },
  {
   "cell_type": "code",
   "execution_count": 6,
   "metadata": {},
   "outputs": [
    {
     "name": "stdout",
     "output_type": "stream",
     "text": [
      "r: 10\n",
      "Generic coordinates: True\n",
      "r: 11\n",
      "Generic coordinates: False\n",
      "r: 12\n",
      "Generic coordinates: True\n",
      "r: 13\n",
      "Generic coordinates: True\n",
      "r: 14\n",
      "Generic coordinates: False\n",
      "r: 15\n",
      "Generic coordinates: True\n"
     ]
    }
   ],
   "source": [
    "K = GF(2**31 - 1)\n",
    "n = 4\n",
    "mode = \"crf\"\n",
    "r_min = 10\n",
    "r_max = 15\n",
    "\n",
    "for r in range(r_min, r_max + 1):\n",
    "    feistel = Feistel(field=K, n=n, rounds=r, mode=mode, info_level=0)\n",
    "    polys = feistel.generate_polynomials(info_level=0)\n",
    "    lin_polys, non_lin_polys = feistel.transform_polynomials(polys)\n",
    "    print(\"r:\", r)\n",
    "    print(\"Generic coordinates:\", feistel.generic_coordinates(lin_polys))"
   ]
  },
  {
   "cell_type": "code",
   "execution_count": 7,
   "metadata": {},
   "outputs": [
    {
     "name": "stdout",
     "output_type": "stream",
     "text": [
      "r: 10\n",
      "Generic coordinates: True\n",
      "r: 11\n",
      "Generic coordinates: False\n",
      "r: 12\n",
      "Generic coordinates: True\n",
      "r: 13\n",
      "Generic coordinates: False\n",
      "r: 14\n",
      "Generic coordinates: True\n",
      "r: 15\n",
      "Generic coordinates: False\n"
     ]
    }
   ],
   "source": [
    "K = GF(2**31 - 1)\n",
    "n = 5\n",
    "mode = \"crf\"\n",
    "r_min = 10\n",
    "r_max = 15\n",
    "\n",
    "for r in range(r_min, r_max + 1):\n",
    "    feistel = Feistel(field=K, n=n, rounds=r, mode=mode, info_level=0)\n",
    "    polys = feistel.generate_polynomials(info_level=0)\n",
    "    lin_polys, non_lin_polys = feistel.transform_polynomials(polys)\n",
    "    print(\"r:\", r)\n",
    "    print(\"Generic coordinates:\", feistel.generic_coordinates(lin_polys))"
   ]
  }
 ],
 "metadata": {
  "kernelspec": {
   "display_name": "SageMath 10.4",
   "language": "sage",
   "name": "sagemath"
  },
  "language_info": {
   "codemirror_mode": {
    "name": "ipython",
    "version": 3
   },
   "file_extension": ".py",
   "mimetype": "text/x-python",
   "name": "python",
   "nbconvert_exporter": "python",
   "pygments_lexer": "ipython3",
   "version": "3.10.12"
  }
 },
 "nbformat": 4,
 "nbformat_minor": 2
}
