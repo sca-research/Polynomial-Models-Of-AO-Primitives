{
 "cells": [
  {
   "cell_type": "markdown",
   "metadata": {},
   "source": [
    "# MiMC Polynomial Systems Demonstrations"
   ]
  },
  {
   "cell_type": "code",
   "execution_count": 1,
   "metadata": {},
   "outputs": [],
   "source": [
    "load(\"MiMC.sage\")\n",
    "load(\"Feistel_MiMC.sage\")"
   ]
  },
  {
   "cell_type": "markdown",
   "metadata": {},
   "source": [
    "## MiMC"
   ]
  },
  {
   "cell_type": "markdown",
   "metadata": {},
   "source": [
    "### Single Plain/Ciphertext Sample"
   ]
  },
  {
   "cell_type": "code",
   "execution_count": 2,
   "metadata": {},
   "outputs": [
    {
     "name": "stdout",
     "output_type": "stream",
     "text": [
      "MiMC Parameters\n",
      "Field: Finite Field of size 101\n",
      "r: 5\n",
      "Constants: [97, 1, 24, 96, 6]\n"
     ]
    }
   ],
   "source": [
    "field = GF(101)\n",
    "rounds = 5\n",
    "\n",
    "mimc = MiMC(field=field, rounds=rounds)"
   ]
  },
  {
   "cell_type": "code",
   "execution_count": 3,
   "metadata": {},
   "outputs": [
    {
     "data": {
      "text/plain": [
       "32"
      ]
     },
     "execution_count": 3,
     "metadata": {},
     "output_type": "execute_result"
    }
   ],
   "source": [
    "key = mimc.field.random_element()\n",
    "key"
   ]
  },
  {
   "cell_type": "code",
   "execution_count": 4,
   "metadata": {},
   "outputs": [
    {
     "data": {
      "text/plain": [
       "5"
      ]
     },
     "execution_count": 4,
     "metadata": {},
     "output_type": "execute_result"
    }
   ],
   "source": [
    "plain = mimc.field.random_element()\n",
    "plain"
   ]
  },
  {
   "cell_type": "code",
   "execution_count": 5,
   "metadata": {},
   "outputs": [
    {
     "data": {
      "text/plain": [
       "28"
      ]
     },
     "execution_count": 5,
     "metadata": {},
     "output_type": "execute_result"
    }
   ],
   "source": [
    "cipher = mimc.encryption(plain, key)\n",
    "cipher"
   ]
  },
  {
   "cell_type": "code",
   "execution_count": 6,
   "metadata": {},
   "outputs": [
    {
     "name": "stdout",
     "output_type": "stream",
     "text": [
      "Plain: 5\n",
      "Cipher: 28\n",
      "Order: degrevlex\n",
      "----------------------------------------------------------------------\n",
      "y^3 + 3*y^2 - x_1 + 3*y + 1\n",
      "x_1^3 + 3*x_1^2*y + 3*x_1*y^2 + y^3 + 3*x_1^2 + 6*x_1*y + 3*y^2 + 3*x_1 - x_2 + 3*y + 1\n",
      "x_2^3 + 3*x_2^2*y + 3*x_2*y^2 + y^3 - 29*x_2^2 + 43*x_2*y - 29*y^2 + 11*x_2 - x_3 + 11*y - 13\n",
      "x_3^3 + 3*x_3^2*y + 3*x_3*y^2 + y^3 - 15*x_3^2 - 30*x_3*y - 15*y^2 - 26*x_3 - x_4 - 26*y - 24\n",
      "x_4^3 + 3*x_4^2*y + 3*x_4*y^2 + y^3 + 18*x_4^2 + 36*x_4*y + 18*y^2 + 7*x_4 + 8*y - 14\n"
     ]
    }
   ],
   "source": [
    "polys = mimc.generate_polynomials(plain=plain,\n",
    "                                  cipher=cipher)\n",
    "\n",
    "print(70 * \"-\")\n",
    "\n",
    "for poly in polys:\n",
    "    print(poly)"
   ]
  },
  {
   "cell_type": "code",
   "execution_count": 7,
   "metadata": {},
   "outputs": [
    {
     "name": "stdout",
     "output_type": "stream",
     "text": [
      "y^3 + 3*y^2 - x_1 + 3*y + 1\n",
      "x_1^3 + 3*x_1^2*y + 3*x_1*y^2 + y^3 + 3*x_1^2 + 6*x_1*y + 3*y^2 + 3*x_1 - x_2 + 3*y + 1\n",
      "x_2^3 + 3*x_2^2*y + 3*x_2*y^2 + y^3 - 29*x_2^2 + 43*x_2*y - 29*y^2 + 11*x_2 - x_3 + 11*y - 13\n",
      "x_3^3 + 3*x_3^2*y + 3*x_3*y^2 + y^3 - 15*x_3^2 - 30*x_3*y - 15*y^2 - 26*x_3 - x_4 - 26*y - 24\n",
      "x_4^3 + 3*x_4^2*y + 3*x_4*y^2 + y^3 + 18*x_4^2 + 36*x_4*y + 18*y^2 + 7*x_4 + 8*y - 14\n"
     ]
    }
   ],
   "source": [
    "for poly in polys:\n",
    "    print(poly)"
   ]
  },
  {
   "cell_type": "markdown",
   "metadata": {},
   "source": [
    "### Two Plain/Ciphertext Samples"
   ]
  },
  {
   "cell_type": "code",
   "execution_count": 8,
   "metadata": {},
   "outputs": [
    {
     "data": {
      "text/plain": [
       "(36, 24)"
      ]
     },
     "execution_count": 8,
     "metadata": {},
     "output_type": "execute_result"
    }
   ],
   "source": [
    "plain_1 = mimc.field.random_element()\n",
    "plain_2 = mimc.field.random_element()\n",
    "plain_1, plain_2"
   ]
  },
  {
   "cell_type": "code",
   "execution_count": 9,
   "metadata": {},
   "outputs": [
    {
     "data": {
      "text/plain": [
       "(23, 24)"
      ]
     },
     "execution_count": 9,
     "metadata": {},
     "output_type": "execute_result"
    }
   ],
   "source": [
    "cipher_1 = mimc.encryption(plain_1, key)\n",
    "cipher_2 = mimc.encryption(plain_2, key)\n",
    "cipher_1, cipher_2"
   ]
  },
  {
   "cell_type": "code",
   "execution_count": 10,
   "metadata": {},
   "outputs": [
    {
     "name": "stdout",
     "output_type": "stream",
     "text": [
      "Plain 1: 36\n",
      "Cipher 1: 23\n",
      "Plain 2: 24\n",
      "Cipher 2: 24\n",
      "Order: degrevlex\n",
      "----------------------------------------------------------------------\n",
      "y^3 - 5*y^2 - u_1 + 42*y + 44\n",
      "u_1^3 + 3*u_1^2*y + 3*u_1*y^2 + y^3 + 3*u_1^2 + 6*u_1*y + 3*y^2 + 3*u_1 - u_2 + 3*y + 1\n",
      "u_2^3 + 3*u_2^2*y + 3*u_2*y^2 + y^3 - 29*u_2^2 + 43*u_2*y - 29*y^2 + 11*u_2 - u_3 + 11*y - 13\n",
      "u_3^3 + 3*u_3^2*y + 3*u_3*y^2 + y^3 - 15*u_3^2 - 30*u_3*y - 15*y^2 - 26*u_3 - u_4 - 26*y - 24\n",
      "u_4^3 + 3*u_4^2*y + 3*u_4*y^2 + y^3 + 18*u_4^2 + 36*u_4*y + 18*y^2 + 7*u_4 + 8*y - 9\n",
      "----------------------------------------------------------------------\n",
      "y^3 - 41*y^2 - v_1 - 12*y + 21\n",
      "v_1^3 + 3*v_1^2*y + 3*v_1*y^2 + y^3 + 3*v_1^2 + 6*v_1*y + 3*y^2 + 3*v_1 - v_2 + 3*y + 1\n",
      "v_2^3 + 3*v_2^2*y + 3*v_2*y^2 + y^3 - 29*v_2^2 + 43*v_2*y - 29*y^2 + 11*v_2 - v_3 + 11*y - 13\n",
      "v_3^3 + 3*v_3^2*y + 3*v_3*y^2 + y^3 - 15*v_3^2 - 30*v_3*y - 15*y^2 - 26*v_3 - v_4 - 26*y - 24\n",
      "v_4^3 + 3*v_4^2*y + 3*v_4*y^2 + y^3 + 18*v_4^2 + 36*v_4*y + 18*y^2 + 7*v_4 + 8*y - 10\n",
      "----------------------------------------------------------------------\n"
     ]
    }
   ],
   "source": [
    "polys = mimc.generate_two_plain_text_polynomials(plain_1=plain_1,\n",
    "                                                 cipher_1=cipher_1,\n",
    "                                                 plain_2=plain_2,\n",
    "                                                 cipher_2=cipher_2)\n",
    "\n",
    "print(70 * \"-\")\n",
    "\n",
    "for i in range(0, 2):\n",
    "    for j in range(0, mimc.rounds):\n",
    "        print(polys[i * mimc.rounds + j])\n",
    "    print(70 * \"-\")"
   ]
  },
  {
   "cell_type": "markdown",
   "metadata": {},
   "source": [
    "## Feistel-MiMC"
   ]
  },
  {
   "cell_type": "code",
   "execution_count": 11,
   "metadata": {},
   "outputs": [
    {
     "name": "stdout",
     "output_type": "stream",
     "text": [
      "Feistel-MiMC Parameters\n",
      "Field: Finite Field of size 101\n",
      "r: 5\n",
      "Constants: [89, 1, 11, 25, 54]\n"
     ]
    }
   ],
   "source": [
    "field = GF(101)\n",
    "rounds = 5\n",
    "\n",
    "mimc = Feistel_MiMC(field=field, rounds=rounds)"
   ]
  },
  {
   "cell_type": "code",
   "execution_count": 12,
   "metadata": {},
   "outputs": [
    {
     "data": {
      "text/plain": [
       "57"
      ]
     },
     "execution_count": 12,
     "metadata": {},
     "output_type": "execute_result"
    }
   ],
   "source": [
    "key = mimc.field.random_element()\n",
    "key"
   ]
  },
  {
   "cell_type": "code",
   "execution_count": 13,
   "metadata": {},
   "outputs": [
    {
     "data": {
      "text/plain": [
       "[67, 37]"
      ]
     },
     "execution_count": 13,
     "metadata": {},
     "output_type": "execute_result"
    }
   ],
   "source": [
    "plain = [mimc.field.random_element(), \n",
    "         mimc.field.random_element()]\n",
    "plain"
   ]
  },
  {
   "cell_type": "code",
   "execution_count": 14,
   "metadata": {},
   "outputs": [
    {
     "data": {
      "text/plain": [
       "(15, 23)"
      ]
     },
     "execution_count": 14,
     "metadata": {},
     "output_type": "execute_result"
    }
   ],
   "source": [
    "cipher = mimc.encryption(plain, key)\n",
    "cipher"
   ]
  },
  {
   "cell_type": "code",
   "execution_count": 15,
   "metadata": {},
   "outputs": [
    {
     "name": "stdout",
     "output_type": "stream",
     "text": [
      "Plain: (67, 37)\n",
      "Cipher: (15, 23)\n",
      "Order: degrevlex\n",
      "----------------------------------------------------------------------\n",
      "y^3 - 37*y^2 - x_L_1 - 15*y - 36\n",
      "-x_R_1 - 34\n",
      "----------------------------------------------------------------------\n",
      "x_L_1^3 + 3*x_L_1^2*y + 3*x_L_1*y^2 + y^3 + 3*x_L_1^2 + 6*x_L_1*y + 3*y^2 + 3*x_L_1 + x_R_1 - x_L_2 + 3*y + 1\n",
      "x_L_1 - x_R_2\n",
      "----------------------------------------------------------------------\n",
      "x_L_2^3 + 3*x_L_2^2*y + 3*x_L_2*y^2 + y^3 + 33*x_L_2^2 - 35*x_L_2*y + 33*y^2 - 41*x_L_2 + x_R_2 - x_L_3 - 41*y + 18\n",
      "x_L_2 - x_R_3\n",
      "----------------------------------------------------------------------\n",
      "x_L_3^3 + 3*x_L_3^2*y + 3*x_L_3*y^2 + y^3 - 26*x_L_3^2 + 49*x_L_3*y - 26*y^2 - 44*x_L_3 + x_R_3 - x_L_4 - 44*y - 30\n",
      "x_L_3 - x_R_4\n",
      "----------------------------------------------------------------------\n",
      "x_L_4^3 + 3*x_L_4^2*y + 3*x_L_4*y^2 + y^3 - 40*x_L_4^2 + 21*x_L_4*y - 40*y^2 - 39*x_L_4 + x_R_4 - 38*y - 10\n",
      "x_L_4 - 23\n",
      "----------------------------------------------------------------------\n"
     ]
    }
   ],
   "source": [
    "polys = mimc.generate_polynomials(plain=plain,\n",
    "                                  cipher=cipher)\n",
    "print(70 * \"-\")\n",
    "\n",
    "for i in range(0, mimc.rounds):\n",
    "    for j in range(0, 2):\n",
    "        print(polys[2 * i + j])\n",
    "    print(70 * \"-\")"
   ]
  }
 ],
 "metadata": {
  "kernelspec": {
   "display_name": "SageMath 10.6",
   "language": "sage",
   "name": "sagemath"
  },
  "language_info": {
   "codemirror_mode": {
    "name": "ipython",
    "version": 3
   },
   "file_extension": ".py",
   "mimetype": "text/x-python",
   "name": "python",
   "nbconvert_exporter": "python",
   "pygments_lexer": "ipython3",
   "version": "3.12.5"
  }
 },
 "nbformat": 4,
 "nbformat_minor": 2
}
