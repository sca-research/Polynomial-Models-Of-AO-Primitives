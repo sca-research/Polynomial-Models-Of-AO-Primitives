{
 "cells": [
  {
   "cell_type": "markdown",
   "metadata": {},
   "source": [
    "# MiMC Polynomial Systems Demonstrations"
   ]
  },
  {
   "cell_type": "code",
   "execution_count": 1,
   "metadata": {},
   "outputs": [],
   "source": [
    "load(\"MiMC.sage\")\n",
    "load(\"Feistel_MiMC.sage\")"
   ]
  },
  {
   "cell_type": "markdown",
   "metadata": {},
   "source": [
    "## MiMC"
   ]
  },
  {
   "cell_type": "markdown",
   "metadata": {},
   "source": [
    "### Single Plain/Ciphertext Sample"
   ]
  },
  {
   "cell_type": "code",
   "execution_count": 2,
   "metadata": {},
   "outputs": [
    {
     "name": "stdout",
     "output_type": "stream",
     "text": [
      "MiMC Parameters\n",
      "Field: Finite Field of size 101\n",
      "r: 5\n",
      "Constants: [21, 7, 79, 32, 25]\n"
     ]
    }
   ],
   "source": [
    "field = GF(101)\n",
    "rounds = 5\n",
    "\n",
    "mimc = MiMC(field=field, rounds=rounds)"
   ]
  },
  {
   "cell_type": "code",
   "execution_count": 3,
   "metadata": {},
   "outputs": [
    {
     "data": {
      "text/plain": [
       "79"
      ]
     },
     "execution_count": 3,
     "metadata": {},
     "output_type": "execute_result"
    }
   ],
   "source": [
    "key = mimc.field.random_element()\n",
    "key"
   ]
  },
  {
   "cell_type": "code",
   "execution_count": 4,
   "metadata": {},
   "outputs": [
    {
     "data": {
      "text/plain": [
       "5"
      ]
     },
     "execution_count": 4,
     "metadata": {},
     "output_type": "execute_result"
    }
   ],
   "source": [
    "plain = mimc.field.random_element()\n",
    "plain"
   ]
  },
  {
   "cell_type": "code",
   "execution_count": 5,
   "metadata": {},
   "outputs": [
    {
     "data": {
      "text/plain": [
       "3"
      ]
     },
     "execution_count": 5,
     "metadata": {},
     "output_type": "execute_result"
    }
   ],
   "source": [
    "cipher = mimc.encryption(plain, key)\n",
    "cipher"
   ]
  },
  {
   "cell_type": "code",
   "execution_count": 6,
   "metadata": {},
   "outputs": [
    {
     "name": "stdout",
     "output_type": "stream",
     "text": [
      "Plain: 5\n",
      "Cipher: 3\n",
      "Order: degrevlex\n",
      "----------------------------------------------------------------------\n",
      "y^3 - 23*y^2 - x_1 + 8*y + 2\n",
      "x_1^3 + 3*x_1^2*y + 3*x_1*y^2 + y^3 + 21*x_1^2 + 42*x_1*y + 21*y^2 + 46*x_1 - x_2 + 46*y + 40\n",
      "x_2^3 + 3*x_2^2*y + 3*x_2*y^2 + y^3 + 35*x_2^2 - 31*x_2*y + 35*y^2 + 38*x_2 - x_3 + 38*y - 43\n",
      "x_3^3 + 3*x_3^2*y + 3*x_3*y^2 + y^3 - 5*x_3^2 - 10*x_3*y - 5*y^2 + 42*x_3 - x_4 + 42*y + 44\n",
      "x_4^3 + 3*x_4^2*y + 3*x_4*y^2 + y^3 - 26*x_4^2 + 49*x_4*y - 26*y^2 - 44*x_4 - 43*y - 33\n"
     ]
    }
   ],
   "source": [
    "polys = mimc.generate_polynomials(plain=plain,\n",
    "                                  cipher=cipher)\n",
    "\n",
    "print(70 * \"-\")\n",
    "\n",
    "for poly in polys:\n",
    "    print(poly)"
   ]
  },
  {
   "cell_type": "code",
   "execution_count": 7,
   "metadata": {},
   "outputs": [
    {
     "name": "stdout",
     "output_type": "stream",
     "text": [
      "y^3 - 23*y^2 - x_1 + 8*y + 2\n",
      "x_1^3 + 3*x_1^2*y + 3*x_1*y^2 + y^3 + 21*x_1^2 + 42*x_1*y + 21*y^2 + 46*x_1 - x_2 + 46*y + 40\n",
      "x_2^3 + 3*x_2^2*y + 3*x_2*y^2 + y^3 + 35*x_2^2 - 31*x_2*y + 35*y^2 + 38*x_2 - x_3 + 38*y - 43\n",
      "x_3^3 + 3*x_3^2*y + 3*x_3*y^2 + y^3 - 5*x_3^2 - 10*x_3*y - 5*y^2 + 42*x_3 - x_4 + 42*y + 44\n",
      "x_4^3 + 3*x_4^2*y + 3*x_4*y^2 + y^3 - 26*x_4^2 + 49*x_4*y - 26*y^2 - 44*x_4 - 43*y - 33\n"
     ]
    }
   ],
   "source": [
    "for poly in polys:\n",
    "    print(poly)"
   ]
  },
  {
   "cell_type": "markdown",
   "metadata": {},
   "source": [
    "### Two Plain/Ciphertext Samples"
   ]
  },
  {
   "cell_type": "code",
   "execution_count": 8,
   "metadata": {},
   "outputs": [
    {
     "data": {
      "text/plain": [
       "(26, 7)"
      ]
     },
     "execution_count": 8,
     "metadata": {},
     "output_type": "execute_result"
    }
   ],
   "source": [
    "plain_1 = mimc.field.random_element()\n",
    "plain_2 = mimc.field.random_element()\n",
    "plain_1, plain_2"
   ]
  },
  {
   "cell_type": "code",
   "execution_count": 9,
   "metadata": {},
   "outputs": [
    {
     "data": {
      "text/plain": [
       "(91, 13)"
      ]
     },
     "execution_count": 9,
     "metadata": {},
     "output_type": "execute_result"
    }
   ],
   "source": [
    "cipher_1 = mimc.encryption(plain_1, key)\n",
    "cipher_2 = mimc.encryption(plain_2, key)\n",
    "cipher_1, cipher_2"
   ]
  },
  {
   "cell_type": "code",
   "execution_count": 10,
   "metadata": {},
   "outputs": [
    {
     "name": "stdout",
     "output_type": "stream",
     "text": [
      "Plain 1: 26\n",
      "Cipher 1: 91\n",
      "Plain 2: 7\n",
      "Cipher 2: 13\n",
      "Order: degrevlex\n",
      "----------------------------------------------------------------------\n",
      "y^3 + 40*y^2 - u_1 - 39*y - 5\n",
      "u_1^3 + 3*u_1^2*y + 3*u_1*y^2 + y^3 + 21*u_1^2 + 42*u_1*y + 21*y^2 + 46*u_1 - u_2 + 46*y + 40\n",
      "u_2^3 + 3*u_2^2*y + 3*u_2*y^2 + y^3 + 35*u_2^2 - 31*u_2*y + 35*y^2 + 38*u_2 - u_3 + 38*y - 43\n",
      "u_3^3 + 3*u_3^2*y + 3*u_3*y^2 + y^3 - 5*u_3^2 - 10*u_3*y - 5*y^2 + 42*u_3 - u_4 + 42*y + 44\n",
      "u_4^3 + 3*u_4^2*y + 3*u_4*y^2 + y^3 - 26*u_4^2 + 49*u_4*y - 26*y^2 - 44*u_4 - 43*y - 20\n",
      "----------------------------------------------------------------------\n",
      "y^3 - 17*y^2 - v_1 + 29*y + 35\n",
      "v_1^3 + 3*v_1^2*y + 3*v_1*y^2 + y^3 + 21*v_1^2 + 42*v_1*y + 21*y^2 + 46*v_1 - v_2 + 46*y + 40\n",
      "v_2^3 + 3*v_2^2*y + 3*v_2*y^2 + y^3 + 35*v_2^2 - 31*v_2*y + 35*y^2 + 38*v_2 - v_3 + 38*y - 43\n",
      "v_3^3 + 3*v_3^2*y + 3*v_3*y^2 + y^3 - 5*v_3^2 - 10*v_3*y - 5*y^2 + 42*v_3 - v_4 + 42*y + 44\n",
      "v_4^3 + 3*v_4^2*y + 3*v_4*y^2 + y^3 - 26*v_4^2 + 49*v_4*y - 26*y^2 - 44*v_4 - 43*y - 43\n",
      "----------------------------------------------------------------------\n"
     ]
    }
   ],
   "source": [
    "polys = mimc.generate_two_plain_text_polynomials(plain_1=plain_1,\n",
    "                                                 cipher_1=cipher_1,\n",
    "                                                 plain_2=plain_2,\n",
    "                                                 cipher_2=cipher_2)\n",
    "\n",
    "print(70 * \"-\")\n",
    "\n",
    "for i in range(0, 2):\n",
    "    for j in range(0, mimc.rounds):\n",
    "        print(polys[i * mimc.rounds + j])\n",
    "    print(70 * \"-\")"
   ]
  },
  {
   "cell_type": "markdown",
   "metadata": {},
   "source": [
    "## Feistel-MiMC"
   ]
  },
  {
   "cell_type": "code",
   "execution_count": 11,
   "metadata": {},
   "outputs": [
    {
     "name": "stdout",
     "output_type": "stream",
     "text": [
      "Feistel-MiMC Parameters\n",
      "Field: Finite Field of size 101\n",
      "r: 5\n",
      "Constants: [75, 69, 86, 96, 15]\n"
     ]
    }
   ],
   "source": [
    "field = GF(101)\n",
    "rounds = 5\n",
    "\n",
    "mimc = Feistel_MiMC(field=field, rounds=rounds)"
   ]
  },
  {
   "cell_type": "code",
   "execution_count": 12,
   "metadata": {},
   "outputs": [
    {
     "data": {
      "text/plain": [
       "51"
      ]
     },
     "execution_count": 12,
     "metadata": {},
     "output_type": "execute_result"
    }
   ],
   "source": [
    "key = mimc.field.random_element()\n",
    "key"
   ]
  },
  {
   "cell_type": "code",
   "execution_count": 13,
   "metadata": {},
   "outputs": [
    {
     "data": {
      "text/plain": [
       "[53, 94]"
      ]
     },
     "execution_count": 13,
     "metadata": {},
     "output_type": "execute_result"
    }
   ],
   "source": [
    "plain = [mimc.field.random_element(), \n",
    "         mimc.field.random_element()]\n",
    "plain"
   ]
  },
  {
   "cell_type": "code",
   "execution_count": 14,
   "metadata": {},
   "outputs": [
    {
     "data": {
      "text/plain": [
       "(78, 72)"
      ]
     },
     "execution_count": 14,
     "metadata": {},
     "output_type": "execute_result"
    }
   ],
   "source": [
    "cipher = mimc.encryption(plain, key)\n",
    "cipher"
   ]
  },
  {
   "cell_type": "code",
   "execution_count": 15,
   "metadata": {},
   "outputs": [
    {
     "name": "stdout",
     "output_type": "stream",
     "text": [
      "Plain: (53, 94)\n",
      "Cipher: (78, 72)\n",
      "Order: degrevlex\n",
      "----------------------------------------------------------------------\n",
      "y^3 - 20*y^2 - x_L_1 - 35*y - 19\n",
      "-x_R_1 - 48\n",
      "----------------------------------------------------------------------\n",
      "x_L_1^3 + 3*x_L_1^2*y + 3*x_L_1*y^2 + y^3 + 5*x_L_1^2 + 10*x_L_1*y + 5*y^2 + 42*x_L_1 + x_R_1 - x_L_2 + 42*y - 44\n",
      "x_L_1 - x_R_2\n",
      "----------------------------------------------------------------------\n",
      "x_L_2^3 + 3*x_L_2^2*y + 3*x_L_2*y^2 + y^3 - 45*x_L_2^2 + 11*x_L_2*y - 45*y^2 - 32*x_L_2 + x_R_2 - x_L_3 - 32*y - 42\n",
      "x_L_2 - x_R_3\n",
      "----------------------------------------------------------------------\n",
      "x_L_3^3 + 3*x_L_3^2*y + 3*x_L_3*y^2 + y^3 - 15*x_L_3^2 - 30*x_L_3*y - 15*y^2 - 26*x_L_3 + x_R_3 - x_L_4 - 26*y - 24\n",
      "x_L_3 - x_R_4\n",
      "----------------------------------------------------------------------\n",
      "x_L_4^3 + 3*x_L_4^2*y + 3*x_L_4*y^2 + y^3 + 45*x_L_4^2 - 11*x_L_4*y + 45*y^2 - 32*x_L_4 + x_R_4 - 31*y - 36\n",
      "x_L_4 + 29\n",
      "----------------------------------------------------------------------\n"
     ]
    }
   ],
   "source": [
    "polys = mimc.generate_polynomials(plain=plain,\n",
    "                                  cipher=cipher)\n",
    "print(70 * \"-\")\n",
    "\n",
    "for i in range(0, mimc.rounds):\n",
    "    for j in range(0, 2):\n",
    "        print(polys[2 * i + j])\n",
    "    print(70 * \"-\")"
   ]
  }
 ],
 "metadata": {
  "kernelspec": {
   "display_name": "SageMath 10.5",
   "language": "sage",
   "name": "sagemath"
  },
  "language_info": {
   "codemirror_mode": {
    "name": "ipython",
    "version": 3
   },
   "file_extension": ".py",
   "mimetype": "text/x-python",
   "name": "python",
   "nbconvert_exporter": "python",
   "pygments_lexer": "ipython3",
   "version": "3.12.5"
  }
 },
 "nbformat": 4,
 "nbformat_minor": 2
}
