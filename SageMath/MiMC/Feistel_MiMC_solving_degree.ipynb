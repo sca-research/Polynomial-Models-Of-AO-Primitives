{
 "cells": [
  {
   "cell_type": "markdown",
   "metadata": {},
   "source": [
    "# Feistel-MiMC Solving Degree\n",
    "Empirical solving degree for increasing round numbers of Feistel-MiMC.\n",
    "\n",
    "Prime: $p = 2^{13} - 1$.\n",
    "\n",
    "Round numbers: $r \\in \\{ 3, 4, 5 \\}$."
   ]
  },
  {
   "cell_type": "code",
   "execution_count": 1,
   "metadata": {},
   "outputs": [],
   "source": [
    "from lazard_gb_algorithm import *\n",
    "load(\"Feistel_MiMC.sage\")\n",
    "load(\"utilities.sage\")"
   ]
  },
  {
   "cell_type": "markdown",
   "metadata": {},
   "source": [
    "## p = 2^13 - 1, r = 3"
   ]
  },
  {
   "cell_type": "code",
   "execution_count": 2,
   "metadata": {},
   "outputs": [
    {
     "name": "stdout",
     "output_type": "stream",
     "text": [
      "Feistel-MiMC Parameters\n",
      "Field: Finite Field of size 8191\n",
      "r: 3\n",
      "Constants: [294, 3467, 7170]\n",
      "\n",
      "Key: 2834\n",
      "Plain: (7278, 2231)\n",
      "Cipher: (7419, 1152)\n",
      "\n",
      "y^3 - 1857*y^2 - x_L_1 + 2743*y - 4023\n",
      "-x_R_1 - 913\n",
      "\n",
      "\n",
      "x_L_1^3 + 3*x_L_1^2*y + 3*x_L_1*y^2 + y^3 + 2210*x_L_1^2 - 3771*x_L_1*y + 2210*y^2 + 3485*x_L_1 + x_R_1 - x_L_2 + 3485*y + 2987\n",
      "x_L_1 - x_R_2\n",
      "\n",
      "\n",
      "x_L_2^3 + 3*x_L_2^2*y + 3*x_L_2*y^2 + y^3 - 3063*x_L_2^2 + 2065*x_L_2*y - 3063*y^2 - 1639*x_L_2 + x_R_2 - 1638*y - 1140\n",
      "x_L_2 - 1152\n",
      "\n",
      "\n"
     ]
    }
   ],
   "source": [
    "p = 2**13 - 1\n",
    "field = GF(p, \"a\")\n",
    "\n",
    "rounds = 3\n",
    "\n",
    "feistel_mimc = Feistel_MiMC(field=field, rounds=rounds)\n",
    "\n",
    "print(\"\")\n",
    "\n",
    "key = field.random_element()\n",
    "plain = vector([field.random_element(), field.random_element()])\n",
    "cipher = feistel_mimc.encryption(plain, key)\n",
    "print(\"Key:\", key)\n",
    "print(\"Plain:\", plain)\n",
    "print(\"Cipher:\", cipher)\n",
    "\n",
    "print(\"\")\n",
    "\n",
    "polys = feistel_mimc.generate_polynomials(plain, cipher, info_level=0)\n",
    "polys_h = [poly.homogenize() for poly in polys]\n",
    "\n",
    "for i in range(0, 2 * rounds, 2):\n",
    "    print(polys[i])\n",
    "    print(polys[i + 1])\n",
    "    print(\"\\n\")"
   ]
  },
  {
   "cell_type": "code",
   "execution_count": 3,
   "metadata": {},
   "outputs": [
    {
     "name": "stdout",
     "output_type": "stream",
     "text": [
      "Ring: Multivariate Polynomial Ring in x_L_1, x_R_1, x_L_2, x_R_2, y over Finite Field of size 8191\n",
      "Input polynomials:\n",
      "[y^3 - 1857*y^2 - x_L_1 + 2743*y - 4023, -x_R_1 - 913, x_L_1^3 + 3*x_L_1^2*y + 3*x_L_1*y^2 + y^3 + 2210*x_L_1^2 - 3771*x_L_1*y + 2210*y^2 + 3485*x_L_1 + x_R_1 - x_L_2 + 3485*y + 2987, x_L_1 - x_R_2, x_L_2^3 + 3*x_L_2^2*y + 3*x_L_2*y^2 + y^3 - 3063*x_L_2^2 + 2065*x_L_2*y - 3063*y^2 - 1639*x_L_2 + x_R_2 - 1638*y - 1140, x_L_2 - 1152]\n",
      "\n",
      "--- Degree 0 ---\n",
      "Computing all monomials up to degree: 0\n",
      "Time needed: 0.00016355514526367188\n",
      "Computing Macaulay matrix.\n",
      "Time needed: 1.9073486328125e-06\n",
      "Performing Gaussian Elimination.\n",
      "Time needed: 0.0002415180206298828\n",
      "Is Groebner Basis: False\n",
      "\n",
      "--- Degree 1 ---\n",
      "Computing all monomials up to degree: 1\n",
      "Time needed: 0.019683122634887695\n",
      "Computing Macaulay matrix.\n",
      "Time needed: 1.6689300537109375e-06\n",
      "Performing Gaussian Elimination.\n",
      "Time needed: 0.00015878677368164062\n",
      "Is Groebner Basis: False\n",
      "\n",
      "--- Degree 2 ---\n",
      "Computing all monomials up to degree: 2\n",
      "Time needed: 0.0013382434844970703\n",
      "Computing Macaulay matrix.\n",
      "Time needed: 2.1457672119140625e-06\n",
      "Performing Gaussian Elimination.\n",
      "Time needed: 0.00022745132446289062\n",
      "Is Groebner Basis: False\n",
      "\n",
      "--- Degree 3 ---\n",
      "Computing all monomials up to degree: 3\n",
      "Time needed: 0.002218961715698242\n",
      "Computing Macaulay matrix.\n",
      "Time needed: 9.5367431640625e-07\n",
      "Performing Gaussian Elimination.\n",
      "Time needed: 0.00042629241943359375\n",
      "Is Groebner Basis: False\n",
      "\n",
      "--- Degree 4 ---\n",
      "Computing all monomials up to degree: 4\n",
      "Time needed: 0.0034770965576171875\n",
      "Computing Macaulay matrix.\n",
      "Time needed: 3.0994415283203125e-06\n",
      "Performing Gaussian Elimination.\n",
      "Time needed: 0.0025949478149414062\n",
      "Is Groebner Basis: False\n",
      "\n",
      "--- Degree 5 ---\n",
      "Computing all monomials up to degree: 5\n",
      "Time needed: 0.005789756774902344\n",
      "Computing Macaulay matrix.\n",
      "Time needed: 1.9073486328125e-06\n",
      "Performing Gaussian Elimination.\n",
      "Time needed: 0.004224538803100586\n",
      "Is Groebner Basis: False\n",
      "\n",
      "--- Degree 6 ---\n",
      "Computing all monomials up to degree: 6\n",
      "Time needed: 0.009312868118286133\n",
      "Computing Macaulay matrix.\n",
      "Time needed: 2.384185791015625e-06\n",
      "Performing Gaussian Elimination.\n",
      "Time needed: 0.011675357818603516\n",
      "Is Groebner Basis: True\n",
      "Total time needed: 0.15151095390319824\n"
     ]
    },
    {
     "data": {
      "text/plain": [
       "[x_L_1 + 3970, x_R_1 + 913, x_L_2 - 1152, x_R_2 + 3970, y - 2834]"
      ]
     },
     "execution_count": 3,
     "metadata": {},
     "output_type": "execute_result"
    }
   ],
   "source": [
    "lazard_gb_algorithm(polys)"
   ]
  },
  {
   "cell_type": "code",
   "execution_count": 4,
   "metadata": {},
   "outputs": [
    {
     "name": "stdout",
     "output_type": "stream",
     "text": [
      "Ring: Multivariate Polynomial Ring in x_L_1, x_R_1, x_L_2, x_R_2, y, h over Finite Field of size 8191\n",
      "Input polynomials:\n",
      "[y^3 - 1857*y^2*h - x_L_1*h^2 + 2743*y*h^2 - 4023*h^3, -x_R_1 - 913*h, x_L_1^3 + 3*x_L_1^2*y + 3*x_L_1*y^2 + y^3 + 2210*x_L_1^2*h - 3771*x_L_1*y*h + 2210*y^2*h + 3485*x_L_1*h^2 + x_R_1*h^2 - x_L_2*h^2 + 3485*y*h^2 + 2987*h^3, x_L_1 - x_R_2, x_L_2^3 + 3*x_L_2^2*y + 3*x_L_2*y^2 + y^3 - 3063*x_L_2^2*h + 2065*x_L_2*y*h - 3063*y^2*h - 1639*x_L_2*h^2 + x_R_2*h^2 - 1638*y*h^2 - 1140*h^3, x_L_2 - 1152*h]\n",
      "\n",
      "--- Degree 0 ---\n",
      "Computing all monomials up to degree: 0\n",
      "Time needed: 0.0005657672882080078\n",
      "Computing Macaulay matrix.\n",
      "Time needed: 3.337860107421875e-06\n",
      "Performing Gaussian Elimination.\n",
      "Time needed: 0.00014495849609375\n",
      "Is Groebner Basis: False\n",
      "\n",
      "--- Degree 1 ---\n",
      "Computing all monomials up to degree: 1\n",
      "Time needed: 0.0018014907836914062\n",
      "Computing Macaulay matrix.\n",
      "Time needed: 3.5762786865234375e-06\n",
      "Performing Gaussian Elimination.\n",
      "Time needed: 0.00026154518127441406\n",
      "Is Groebner Basis: False\n",
      "\n",
      "--- Degree 2 ---\n",
      "Computing all monomials up to degree: 2\n",
      "Time needed: 0.0025594234466552734\n",
      "Computing Macaulay matrix.\n",
      "Time needed: 1.9073486328125e-06\n",
      "Performing Gaussian Elimination.\n",
      "Time needed: 0.0002624988555908203\n",
      "Is Groebner Basis: False\n",
      "\n",
      "--- Degree 3 ---\n",
      "Computing all monomials up to degree: 3\n",
      "Time needed: 0.003530263900756836\n",
      "Computing Macaulay matrix.\n",
      "Time needed: 1.430511474609375e-06\n",
      "Performing Gaussian Elimination.\n",
      "Time needed: 0.0006096363067626953\n",
      "Is Groebner Basis: False\n",
      "\n",
      "--- Degree 4 ---\n",
      "Computing all monomials up to degree: 4\n",
      "Time needed: 0.007908105850219727\n",
      "Computing Macaulay matrix.\n",
      "Time needed: 2.86102294921875e-06\n",
      "Performing Gaussian Elimination.\n",
      "Time needed: 0.002772808074951172\n",
      "Is Groebner Basis: False\n",
      "\n",
      "--- Degree 5 ---\n",
      "Computing all monomials up to degree: 5\n",
      "Time needed: 0.009434938430786133\n",
      "Computing Macaulay matrix.\n",
      "Time needed: 3.337860107421875e-06\n",
      "Performing Gaussian Elimination.\n",
      "Time needed: 0.010431766510009766\n",
      "Is Groebner Basis: False\n",
      "\n",
      "--- Degree 6 ---\n",
      "Computing all monomials up to degree: 6\n",
      "Time needed: 0.0166778564453125\n",
      "Computing Macaulay matrix.\n",
      "Time needed: 3.5762786865234375e-06\n",
      "Performing Gaussian Elimination.\n",
      "Time needed: 0.028188228607177734\n",
      "Is Groebner Basis: True\n",
      "Total time needed: 0.2863783836364746\n"
     ]
    },
    {
     "data": {
      "text/plain": [
       "[x_R_2*h^5 + 3970*h^6,\n",
       " y*h^5 - 2834*h^6,\n",
       " x_R_2^2*h^3 - 2539*x_R_2*h^4 + 2710*y*h^4 - 3298*h^5,\n",
       " x_R_2*y*h^2 - 568*x_R_2*h^3 + 1123*y*h^3 - 2172*h^4,\n",
       " x_R_2^3 + 3*x_R_2^2*y + 3*x_R_2*y^2 + 2210*x_R_2^2*h - 3771*x_R_2*y*h - 2619*x_R_2*h^2 - 3932*y*h^2 - 3509*h^3,\n",
       " y^3 - 742*x_R_2*h^2 + 1262*y*h^2 - 2622*h^3,\n",
       " y^2*h + 648*x_R_2*h^2 - 164*y*h^2 + 2290*h^3,\n",
       " x_L_1 - x_R_2,\n",
       " x_R_1 + 913*h,\n",
       " x_L_2 - 1152*h]"
      ]
     },
     "execution_count": 4,
     "metadata": {},
     "output_type": "execute_result"
    }
   ],
   "source": [
    "lazard_gb_algorithm(polys_h)"
   ]
  },
  {
   "cell_type": "code",
   "execution_count": 5,
   "metadata": {},
   "outputs": [
    {
     "data": {
      "text/plain": [
       "S(0) <-- S(-1)⊕S(-1)⊕S(-1)⊕S(-3)⊕S(-3)⊕S(-3) <-- S(-2)⊕S(-2)⊕S(-2)⊕S(-4)⊕S(-4)⊕S(-4)⊕S(-4)⊕S(-4)⊕S(-4)⊕S(-6)⊕S(-4)⊕S(-4)⊕S(-4)⊕S(-6)⊕S(-6)⊕S(-7) <-- S(-3)⊕S(-8)⊕S(-8)⊕S(-5)⊕S(-5)⊕S(-5)⊕S(-5)⊕S(-5)⊕S(-5)⊕S(-7)⊕S(-7)⊕S(-7)⊕S(-5)⊕S(-5)⊕S(-5)⊕S(-7)⊕S(-7)⊕S(-7)⊕S(-7)⊕S(-7)⊕S(-7)⊕S(-8)⊕S(-8)⊕S(-8) <-- S(-9)⊕S(-9)⊕S(-9)⊕S(-9)⊕S(-9)⊕S(-9)⊕S(-6)⊕S(-6)⊕S(-8)⊕S(-8)⊕S(-8)⊕S(-6)⊕S(-8)⊕S(-8)⊕S(-8)⊕S(-8)⊕S(-8)⊕S(-8)⊕S(-9)⊕S(-9)⊕S(-9) <-- S(-10)⊕S(-10)⊕S(-10)⊕S(-10)⊕S(-10)⊕S(-10)⊕S(-9)⊕S(-9)⊕S(-9)⊕S(-10) <-- S(-11)⊕S(-11) <-- 0"
      ]
     },
     "execution_count": 5,
     "metadata": {},
     "output_type": "execute_result"
    }
   ],
   "source": [
    "res = ideal(polys_h).graded_free_resolution(algorithm=\"minimal\")\n",
    "res"
   ]
  },
  {
   "cell_type": "code",
   "execution_count": 6,
   "metadata": {},
   "outputs": [
    {
     "data": {
      "text/plain": [
       "6"
      ]
     },
     "execution_count": 6,
     "metadata": {},
     "output_type": "execute_result"
    }
   ],
   "source": [
    "cm_regularity(res)"
   ]
  },
  {
   "cell_type": "markdown",
   "metadata": {},
   "source": [
    "## p = 2^13 - 1, r = 4"
   ]
  },
  {
   "cell_type": "code",
   "execution_count": 7,
   "metadata": {},
   "outputs": [
    {
     "name": "stdout",
     "output_type": "stream",
     "text": [
      "Feistel-MiMC Parameters\n",
      "Field: Finite Field of size 8191\n",
      "r: 4\n",
      "Constants: [4150, 2485, 8021, 762]\n",
      "\n",
      "Key: 5377\n",
      "Plain: (352, 7735)\n",
      "Cipher: (4592, 3511)\n",
      "\n",
      "y^3 - 2876*y^2 - x_L_1 + 2219*y + 1247\n",
      "-x_R_1 + 352\n",
      "\n",
      "\n",
      "x_L_1^3 + 3*x_L_1^2*y + 3*x_L_1*y^2 + y^3 - 736*x_L_1^2 - 1472*x_L_1*y - 736*y^2 - 2367*x_L_1 + x_R_1 - x_L_2 - 2367*y - 3016\n",
      "x_L_1 - x_R_2\n",
      "\n",
      "\n",
      "x_L_2^3 + 3*x_L_2^2*y + 3*x_L_2*y^2 + y^3 - 510*x_L_2^2 - 1020*x_L_2*y - 510*y^2 - 3401*x_L_2 + x_R_2 - x_L_3 - 3401*y + 1600\n",
      "x_L_2 - x_R_3\n",
      "\n",
      "\n",
      "x_L_3^3 + 3*x_L_3^2*y + 3*x_L_3*y^2 + y^3 + 2286*x_L_3^2 - 3619*x_L_3*y + 2286*y^2 - 2751*x_L_3 + x_R_3 - 2750*y + 1080\n",
      "x_L_3 - 3511\n",
      "\n",
      "\n"
     ]
    }
   ],
   "source": [
    "p = 2**13 - 1\n",
    "field = GF(p, \"a\")\n",
    "\n",
    "rounds = 4\n",
    "\n",
    "feistel_mimc = Feistel_MiMC(field=field, rounds=rounds)\n",
    "\n",
    "print(\"\")\n",
    "\n",
    "key = field.random_element()\n",
    "plain = vector([field.random_element(), field.random_element()])\n",
    "cipher = feistel_mimc.encryption(plain, key)\n",
    "print(\"Key:\", key)\n",
    "print(\"Plain:\", plain)\n",
    "print(\"Cipher:\", cipher)\n",
    "\n",
    "print(\"\")\n",
    "\n",
    "polys = feistel_mimc.generate_polynomials(plain, cipher, info_level=0)\n",
    "polys_h = [poly.homogenize() for poly in polys]\n",
    "\n",
    "for i in range(0, 2 * rounds, 2):\n",
    "    print(polys[i])\n",
    "    print(polys[i + 1])\n",
    "    print(\"\\n\")"
   ]
  },
  {
   "cell_type": "code",
   "execution_count": 8,
   "metadata": {},
   "outputs": [
    {
     "name": "stdout",
     "output_type": "stream",
     "text": [
      "Ring: Multivariate Polynomial Ring in x_L_1, x_R_1, x_L_2, x_R_2, x_L_3, x_R_3, y over Finite Field of size 8191\n",
      "Input polynomials:\n",
      "[y^3 - 2876*y^2 - x_L_1 + 2219*y + 1247, -x_R_1 + 352, x_L_1^3 + 3*x_L_1^2*y + 3*x_L_1*y^2 + y^3 - 736*x_L_1^2 - 1472*x_L_1*y - 736*y^2 - 2367*x_L_1 + x_R_1 - x_L_2 - 2367*y - 3016, x_L_1 - x_R_2, x_L_2^3 + 3*x_L_2^2*y + 3*x_L_2*y^2 + y^3 - 510*x_L_2^2 - 1020*x_L_2*y - 510*y^2 - 3401*x_L_2 + x_R_2 - x_L_3 - 3401*y + 1600, x_L_2 - x_R_3, x_L_3^3 + 3*x_L_3^2*y + 3*x_L_3*y^2 + y^3 + 2286*x_L_3^2 - 3619*x_L_3*y + 2286*y^2 - 2751*x_L_3 + x_R_3 - 2750*y + 1080, x_L_3 - 3511]\n",
      "\n",
      "--- Degree 0 ---\n",
      "Computing all monomials up to degree: 0\n",
      "Time needed: 0.0001933574676513672\n",
      "Computing Macaulay matrix.\n",
      "Time needed: 1.1920928955078125e-06\n",
      "Performing Gaussian Elimination.\n",
      "Time needed: 0.000110626220703125\n",
      "Is Groebner Basis: False\n",
      "\n",
      "--- Degree 1 ---\n",
      "Computing all monomials up to degree: 1\n",
      "Time needed: 0.0011420249938964844\n",
      "Computing Macaulay matrix.\n",
      "Time needed: 1.6689300537109375e-06\n",
      "Performing Gaussian Elimination.\n",
      "Time needed: 0.00016355514526367188\n",
      "Is Groebner Basis: False\n",
      "\n",
      "--- Degree 2 ---\n",
      "Computing all monomials up to degree: 2\n",
      "Time needed: 0.002190113067626953\n",
      "Computing Macaulay matrix.\n",
      "Time needed: 2.86102294921875e-06\n",
      "Performing Gaussian Elimination.\n",
      "Time needed: 0.0002868175506591797\n",
      "Is Groebner Basis: False\n",
      "\n",
      "--- Degree 3 ---\n",
      "Computing all monomials up to degree: 3\n",
      "Time needed: 0.0038118362426757812\n",
      "Computing Macaulay matrix.\n",
      "Time needed: 2.1457672119140625e-06\n",
      "Performing Gaussian Elimination.\n",
      "Time needed: 0.0019364356994628906\n",
      "Is Groebner Basis: False\n",
      "\n",
      "--- Degree 4 ---\n",
      "Computing all monomials up to degree: 4\n",
      "Time needed: 0.007963895797729492\n",
      "Computing Macaulay matrix.\n",
      "Time needed: 4.291534423828125e-06\n",
      "Performing Gaussian Elimination.\n",
      "Time needed: 0.004857301712036133\n",
      "Is Groebner Basis: False\n",
      "\n",
      "--- Degree 5 ---\n",
      "Computing all monomials up to degree: 5\n",
      "Time needed: 0.016033172607421875\n",
      "Computing Macaulay matrix.\n",
      "Time needed: 2.86102294921875e-06\n",
      "Performing Gaussian Elimination.\n",
      "Time needed: 0.021779537200927734\n",
      "Is Groebner Basis: False\n",
      "\n",
      "--- Degree 6 ---\n",
      "Computing all monomials up to degree: 6\n",
      "Time needed: 0.028701305389404297\n",
      "Computing Macaulay matrix.\n",
      "Time needed: 3.5762786865234375e-06\n",
      "Performing Gaussian Elimination.\n",
      "Time needed: 0.12725472450256348\n",
      "Is Groebner Basis: False\n",
      "\n",
      "--- Degree 7 ---\n",
      "Computing all monomials up to degree: 7\n",
      "Time needed: 0.0670313835144043\n",
      "Computing Macaulay matrix.\n",
      "Time needed: 4.5299530029296875e-06\n",
      "Performing Gaussian Elimination.\n",
      "Time needed: 0.6811835765838623\n",
      "Is Groebner Basis: False\n",
      "\n",
      "--- Degree 8 ---\n",
      "Computing all monomials up to degree: 8\n",
      "Time needed: 0.1151127815246582\n",
      "Computing Macaulay matrix.\n",
      "Time needed: 4.5299530029296875e-06\n",
      "Performing Gaussian Elimination.\n",
      "Time needed: 2.55271053314209\n",
      "Is Groebner Basis: True\n",
      "Total time needed: 5.071459531784058\n"
     ]
    },
    {
     "data": {
      "text/plain": [
       "[x_L_1 - 2544,\n",
       " x_R_1 - 352,\n",
       " x_L_2 - 2342,\n",
       " x_R_2 - 2544,\n",
       " x_L_3 - 3511,\n",
       " x_R_3 - 2342,\n",
       " y + 2814]"
      ]
     },
     "execution_count": 8,
     "metadata": {},
     "output_type": "execute_result"
    }
   ],
   "source": [
    "lazard_gb_algorithm(polys)"
   ]
  },
  {
   "cell_type": "code",
   "execution_count": 9,
   "metadata": {},
   "outputs": [
    {
     "name": "stdout",
     "output_type": "stream",
     "text": [
      "Ring: Multivariate Polynomial Ring in x_L_1, x_R_1, x_L_2, x_R_2, x_L_3, x_R_3, y, h over Finite Field of size 8191\n",
      "Input polynomials:\n",
      "[y^3 - 2876*y^2*h - x_L_1*h^2 + 2219*y*h^2 + 1247*h^3, -x_R_1 + 352*h, x_L_1^3 + 3*x_L_1^2*y + 3*x_L_1*y^2 + y^3 - 736*x_L_1^2*h - 1472*x_L_1*y*h - 736*y^2*h - 2367*x_L_1*h^2 + x_R_1*h^2 - x_L_2*h^2 - 2367*y*h^2 - 3016*h^3, x_L_1 - x_R_2, x_L_2^3 + 3*x_L_2^2*y + 3*x_L_2*y^2 + y^3 - 510*x_L_2^2*h - 1020*x_L_2*y*h - 510*y^2*h - 3401*x_L_2*h^2 + x_R_2*h^2 - x_L_3*h^2 - 3401*y*h^2 + 1600*h^3, x_L_2 - x_R_3, x_L_3^3 + 3*x_L_3^2*y + 3*x_L_3*y^2 + y^3 + 2286*x_L_3^2*h - 3619*x_L_3*y*h + 2286*y^2*h - 2751*x_L_3*h^2 + x_R_3*h^2 - 2750*y*h^2 + 1080*h^3, x_L_3 - 3511*h]\n",
      "\n",
      "--- Degree 0 ---\n",
      "Computing all monomials up to degree: 0\n",
      "Time needed: 0.0004782676696777344\n",
      "Computing Macaulay matrix.\n",
      "Time needed: 2.384185791015625e-06\n",
      "Performing Gaussian Elimination.\n",
      "Time needed: 0.00011038780212402344\n",
      "Is Groebner Basis: False\n",
      "\n",
      "--- Degree 1 ---\n",
      "Computing all monomials up to degree: 1\n",
      "Time needed: 0.0016331672668457031\n",
      "Computing Macaulay matrix.\n",
      "Time needed: 2.6226043701171875e-06\n",
      "Performing Gaussian Elimination.\n",
      "Time needed: 0.00030612945556640625\n",
      "Is Groebner Basis: False\n",
      "\n",
      "--- Degree 2 ---\n",
      "Computing all monomials up to degree: 2\n",
      "Time needed: 0.002576589584350586\n",
      "Computing Macaulay matrix.\n",
      "Time needed: 1.9073486328125e-06\n",
      "Performing Gaussian Elimination.\n",
      "Time needed: 0.0004787445068359375\n",
      "Is Groebner Basis: False\n",
      "\n",
      "--- Degree 3 ---\n",
      "Computing all monomials up to degree: 3\n",
      "Time needed: 0.004354715347290039\n",
      "Computing Macaulay matrix.\n",
      "Time needed: 3.5762786865234375e-06\n",
      "Performing Gaussian Elimination.\n",
      "Time needed: 0.0012197494506835938\n",
      "Is Groebner Basis: False\n",
      "\n",
      "--- Degree 4 ---\n",
      "Computing all monomials up to degree: 4\n",
      "Time needed: 0.009547710418701172\n",
      "Computing Macaulay matrix.\n",
      "Time needed: 2.384185791015625e-06\n",
      "Performing Gaussian Elimination.\n",
      "Time needed: 0.006139278411865234\n",
      "Is Groebner Basis: False\n",
      "\n",
      "--- Degree 5 ---\n",
      "Computing all monomials up to degree: 5\n",
      "Time needed: 0.03436684608459473\n",
      "Computing Macaulay matrix.\n",
      "Time needed: 1.9073486328125e-06\n",
      "Performing Gaussian Elimination.\n",
      "Time needed: 0.053084373474121094\n",
      "Is Groebner Basis: False\n",
      "\n",
      "--- Degree 6 ---\n",
      "Computing all monomials up to degree: 6\n",
      "Time needed: 0.0714411735534668\n",
      "Computing Macaulay matrix.\n",
      "Time needed: 4.76837158203125e-06\n",
      "Performing Gaussian Elimination.\n",
      "Time needed: 0.2960362434387207\n",
      "Is Groebner Basis: False\n",
      "\n",
      "--- Degree 7 ---\n",
      "Computing all monomials up to degree: 7\n",
      "Time needed: 0.13021111488342285\n",
      "Computing Macaulay matrix.\n",
      "Time needed: 4.0531158447265625e-06\n",
      "Performing Gaussian Elimination.\n",
      "Time needed: 1.7968449592590332\n",
      "Is Groebner Basis: False\n",
      "\n",
      "--- Degree 8 ---\n",
      "Computing all monomials up to degree: 8\n",
      "Time needed: 0.29995059967041016\n",
      "Computing Macaulay matrix.\n",
      "Time needed: 2.86102294921875e-06\n",
      "Performing Gaussian Elimination.\n",
      "Time needed: 9.524564027786255\n",
      "Is Groebner Basis: True\n",
      "Total time needed: 15.560309886932373\n"
     ]
    },
    {
     "data": {
      "text/plain": [
       "[x_R_2*h^7 - 2544*h^8,\n",
       " x_R_3*h^7 - 2342*h^8,\n",
       " y*h^7 + 2814*h^8,\n",
       " x_R_2*x_R_3*h^5 - 2719*x_R_2*h^6 - 3912*x_R_3*h^6 + 3795*y*h^6 + 3173*h^7,\n",
       " x_R_3^2*h^5 - 38*x_R_2*h^6 + 3612*x_R_3*h^6 - 3139*y*h^6 + 137*h^7,\n",
       " x_R_3*y*h^5 - 1666*x_R_2*h^6 + 4041*x_R_3*h^6 - 3753*y*h^6 + 2221*h^7,\n",
       " x_R_2*x_R_3^2*h^3 - 2670*x_R_2*x_R_3*h^4 + 2346*x_R_3^2*h^4 - 2464*x_R_3*y*h^4 + 1315*x_R_2*h^5 - 3139*x_R_3*h^5 - 1355*y*h^5 + 1445*h^6,\n",
       " x_R_3^2*y*h^3 - 2368*x_R_2*x_R_3*h^4 - 335*x_R_3^2*h^4 + 465*x_R_3*y*h^4 - 30*x_R_2*h^5 + 1825*x_R_3*h^5 + 2318*y*h^5 - 3499*h^6,\n",
       " x_R_2^2*h^3 + 2*x_R_2*x_R_3*h^3 + x_R_3^2*h^3 - 3109*x_R_3*y*h^3 - 188*x_R_2*h^4 + 795*x_R_3*h^4 + 1684*y*h^4 + 522*h^5,\n",
       " x_R_2*y*h^2 + x_R_3*y*h^2 + 26*x_R_2*h^3 + 713*x_R_3*h^3 - 2041*y*h^3 + 3725*h^4,\n",
       " x_R_2^3 + 3*x_R_2^2*y + 3*x_R_2*y^2 - 736*x_R_2^2*h - 1472*x_R_2*y*h - 336*x_R_2*h^2 + 2029*x_R_3*h^2 + 907*y*h^2 - 1586*h^3,\n",
       " x_R_3^3 + 3*x_R_3^2*y + 3*x_R_3*y^2 - 510*x_R_3^2*h - 1020*x_R_3*y*h + 3165*x_R_2*h^2 - 238*x_R_3*h^2 + 78*y*h^2 - 3994*h^3,\n",
       " y^3 - 1734*x_R_2*h^2 - 1733*x_R_3*h^2 + 915*y*h^2 - 3179*h^3,\n",
       " y^2*h + 4018*x_R_2*h^2 + 4018*x_R_3*h^2 - 3589*y*h^2 + 4037*h^3,\n",
       " x_L_1 - x_R_2,\n",
       " x_R_1 - 352*h,\n",
       " x_L_2 - x_R_3,\n",
       " x_L_3 - 3511*h]"
      ]
     },
     "execution_count": 9,
     "metadata": {},
     "output_type": "execute_result"
    }
   ],
   "source": [
    "lazard_gb_algorithm(polys_h)"
   ]
  },
  {
   "cell_type": "code",
   "execution_count": 10,
   "metadata": {},
   "outputs": [
    {
     "data": {
      "text/plain": [
       "S(0) <-- S(-1)⊕S(-1)⊕S(-1)⊕S(-1)⊕S(-3)⊕S(-3)⊕S(-3)⊕S(-3) <-- S(-2)⊕S(-2)⊕S(-2)⊕S(-2)⊕S(-2)⊕S(-2)⊕S(-4)⊕S(-4)⊕S(-4)⊕S(-4)⊕S(-4)⊕S(-4)⊕S(-4)⊕S(-4)⊕S(-6)⊕S(-4)⊕S(-4)⊕S(-4)⊕S(-4)⊕S(-6)⊕S(-6)⊕S(-4)⊕S(-4)⊕S(-4)⊕S(-4)⊕S(-6)⊕S(-6)⊕S(-6)⊕S(-9) <-- S(-3)⊕S(-3)⊕S(-3)⊕S(-3)⊕S(-5)⊕S(-5)⊕S(-5)⊕S(-5)⊕S(-5)⊕S(-5)⊕S(-5)⊕S(-5)⊕S(-5)⊕S(-5)⊕S(-5)⊕S(-5)⊕S(-7)⊕S(-7)⊕S(-7)⊕S(-7)⊕S(-5)⊕S(-5)⊕S(-5)⊕S(-5)⊕S(-5)⊕S(-5)⊕S(-7)⊕S(-7)⊕S(-7)⊕S(-7)⊕S(-7)⊕S(-7)⊕S(-7)⊕S(-7)⊕S(-9)⊕S(-5)⊕S(-5)⊕S(-5)⊕S(-5)⊕S(-5)⊕S(-5)⊕S(-7)⊕S(-7)⊕S(-7)⊕S(-7)⊕S(-7)⊕S(-7)⊕S(-7)⊕S(-7)⊕S(-9)⊕S(-7)⊕S(-7)⊕S(-7)⊕S(-7)⊕S(-9)⊕S(-9)⊕S(-10)⊕S(-10)⊕S(-10)⊕S(-10)⊕S(-10)⊕S(-10)⊕S(-10) <-- S(-4)⊕S(-11)⊕S(-11)⊕S(-11)⊕S(-6)⊕S(-6)⊕S(-6)⊕S(-6)⊕S(-6)⊕S(-6)⊕S(-6)⊕S(-6)⊕S(-8)⊕S(-8)⊕S(-8)⊕S(-8)⊕S(-8)⊕S(-8)⊕S(-6)⊕S(-6)⊕S(-6)⊕S(-6)⊕S(-8)⊕S(-8)⊕S(-8)⊕S(-8)⊕S(-8)⊕S(-8)⊕S(-8)⊕S(-8)⊕S(-8)⊕S(-8)⊕S(-8)⊕S(-8)⊕S(-10)⊕S(-10)⊕S(-10)⊕S(-10)⊕S(-6)⊕S(-6)⊕S(-6)⊕S(-6)⊕S(-8)⊕S(-8)⊕S(-8)⊕S(-8)⊕S(-8)⊕S(-8)⊕S(-8)⊕S(-8)⊕S(-8)⊕S(-8)⊕S(-8)⊕S(-8)⊕S(-10)⊕S(-10)⊕S(-10)⊕S(-10)⊕S(-8)⊕S(-8)⊕S(-8)⊕S(-8)⊕S(-8)⊕S(-8)⊕S(-10)⊕S(-10)⊕S(-10)⊕S(-10)⊕S(-10)⊕S(-10)⊕S(-10)⊕S(-10)⊕S(-11)⊕S(-11)⊕S(-11)⊕S(-11)⊕S(-11)⊕S(-11)⊕S(-11)⊕S(-11)⊕S(-11)⊕S(-11)⊕S(-11)⊕S(-11)⊕S(-11)⊕S(-11)⊕S(-11)⊕S(-11)⊕S(-11)⊕S(-11) <-- S(-12)⊕S(-12)⊕S(-12)⊕S(-12)⊕S(-12)⊕S(-12)⊕S(-12)⊕S(-12)⊕S(-12)⊕S(-12)⊕S(-12)⊕S(-12)⊕S(-7)⊕S(-7)⊕S(-9)⊕S(-9)⊕S(-9)⊕S(-9)⊕S(-7)⊕S(-9)⊕S(-9)⊕S(-9)⊕S(-9)⊕S(-9)⊕S(-9)⊕S(-9)⊕S(-9)⊕S(-11)⊕S(-11)⊕S(-11)⊕S(-11)⊕S(-11)⊕S(-11)⊕S(-7)⊕S(-9)⊕S(-9)⊕S(-9)⊕S(-9)⊕S(-9)⊕S(-9)⊕S(-9)⊕S(-9)⊕S(-11)⊕S(-11)⊕S(-11)⊕S(-11)⊕S(-11)⊕S(-11)⊕S(-9)⊕S(-9)⊕S(-9)⊕S(-9)⊕S(-11)⊕S(-11)⊕S(-11)⊕S(-11)⊕S(-11)⊕S(-11)⊕S(-11)⊕S(-11)⊕S(-11)⊕S(-11)⊕S(-11)⊕S(-11)⊕S(-12)⊕S(-12)⊕S(-12)⊕S(-12)⊕S(-12)⊕S(-12)⊕S(-12)⊕S(-12)⊕S(-12)⊕S(-12)⊕S(-12)⊕S(-12)⊕S(-12)⊕S(-12)⊕S(-12)⊕S(-12)⊕S(-12)⊕S(-12)⊕S(-12)⊕S(-12)⊕S(-12)⊕S(-12) <-- S(-13)⊕S(-13)⊕S(-13)⊕S(-13)⊕S(-13)⊕S(-13)⊕S(-13)⊕S(-13)⊕S(-13)⊕S(-13)⊕S(-13)⊕S(-13)⊕S(-13)⊕S(-13)⊕S(-13)⊕S(-13)⊕S(-13)⊕S(-13)⊕S(-10)⊕S(-10)⊕S(-10)⊕S(-12)⊕S(-12)⊕S(-12)⊕S(-12)⊕S(-10)⊕S(-10)⊕S(-12)⊕S(-12)⊕S(-12)⊕S(-12)⊕S(-10)⊕S(-12)⊕S(-12)⊕S(-12)⊕S(-12)⊕S(-12)⊕S(-12)⊕S(-12)⊕S(-12)⊕S(-13)⊕S(-13)⊕S(-13)⊕S(-13)⊕S(-13)⊕S(-13)⊕S(-13)⊕S(-13)⊕S(-13)⊕S(-13)⊕S(-13)⊕S(-13)⊕S(-13) <-- S(-14)⊕S(-14)⊕S(-14)⊕S(-14)⊕S(-14)⊕S(-14)⊕S(-14)⊕S(-14)⊕S(-14)⊕S(-14)⊕S(-14)⊕S(-14)⊕S(-13)⊕S(-13)⊕S(-13)⊕S(-13)⊕S(-14)⊕S(-14)⊕S(-14) <-- S(-15)⊕S(-15)⊕S(-15) <-- 0"
      ]
     },
     "execution_count": 10,
     "metadata": {},
     "output_type": "execute_result"
    }
   ],
   "source": [
    "res = ideal(polys_h).graded_free_resolution(algorithm=\"minimal\")\n",
    "res"
   ]
  },
  {
   "cell_type": "code",
   "execution_count": 11,
   "metadata": {},
   "outputs": [
    {
     "data": {
      "text/plain": [
       "8"
      ]
     },
     "execution_count": 11,
     "metadata": {},
     "output_type": "execute_result"
    }
   ],
   "source": [
    "cm_regularity(res)"
   ]
  },
  {
   "cell_type": "markdown",
   "metadata": {},
   "source": [
    "## p = 2^13 - 1, r = 5"
   ]
  },
  {
   "cell_type": "code",
   "execution_count": 12,
   "metadata": {},
   "outputs": [
    {
     "name": "stdout",
     "output_type": "stream",
     "text": [
      "Feistel-MiMC Parameters\n",
      "Field: Finite Field of size 8191\n",
      "r: 5\n",
      "Constants: [4526, 5582, 43, 595, 3497]\n",
      "\n",
      "Key: 5704\n",
      "Plain: (640, 2215)\n",
      "Cipher: (4826, 1430)\n",
      "\n",
      "y^3 - 884*y^2 - x_L_1 + 3834*y + 2417\n",
      "-x_R_1 + 640\n",
      "\n",
      "\n",
      "x_L_1^3 + 3*x_L_1^2*y + 3*x_L_1*y^2 + y^3 + 364*x_L_1^2 + 728*x_L_1*y + 364*y^2 + 480*x_L_1 + x_R_1 - x_L_2 + 480*y + 301\n",
      "x_L_1 - x_R_2\n",
      "\n",
      "\n",
      "x_L_2^3 + 3*x_L_2^2*y + 3*x_L_2*y^2 + y^3 + 129*x_L_2^2 + 258*x_L_2*y + 129*y^2 - 2644*x_L_2 + x_R_2 - x_L_3 - 2644*y - 2403\n",
      "x_L_2 - x_R_3\n",
      "\n",
      "\n",
      "x_L_3^3 + 3*x_L_3^2*y + 3*x_L_3*y^2 + y^3 + 1785*x_L_3^2 + 3570*x_L_3*y + 1785*y^2 - 2755*x_L_3 + x_R_3 - x_L_4 - 2755*y - 3072\n",
      "x_L_3 - x_R_4\n",
      "\n",
      "\n",
      "x_L_4^3 + 3*x_L_4^2*y + 3*x_L_4*y^2 + y^3 + 2300*x_L_4^2 - 3591*x_L_4*y + 2300*y^2 - 462*x_L_4 + x_R_4 - 461*y - 2758\n",
      "x_L_4 - 1430\n",
      "\n",
      "\n"
     ]
    }
   ],
   "source": [
    "p = 2**13 - 1\n",
    "field = GF(p, \"a\")\n",
    "\n",
    "rounds = 5\n",
    "\n",
    "feistel_mimc = Feistel_MiMC(field=field, rounds=rounds)\n",
    "\n",
    "print(\"\")\n",
    "\n",
    "key = field.random_element()\n",
    "plain = vector([field.random_element(), field.random_element()])\n",
    "cipher = feistel_mimc.encryption(plain, key)\n",
    "print(\"Key:\", key)\n",
    "print(\"Plain:\", plain)\n",
    "print(\"Cipher:\", cipher)\n",
    "\n",
    "print(\"\")\n",
    "\n",
    "polys = feistel_mimc.generate_polynomials(plain, cipher, info_level=0)\n",
    "polys_h = [poly.homogenize() for poly in polys]\n",
    "\n",
    "for i in range(0, 2 * rounds, 2):\n",
    "    print(polys[i])\n",
    "    print(polys[i + 1])\n",
    "    print(\"\\n\")"
   ]
  },
  {
   "cell_type": "code",
   "execution_count": 13,
   "metadata": {},
   "outputs": [
    {
     "name": "stdout",
     "output_type": "stream",
     "text": [
      "Ring: Multivariate Polynomial Ring in x_L_1, x_R_1, x_L_2, x_R_2, x_L_3, x_R_3, x_L_4, x_R_4, y over Finite Field of size 8191\n",
      "Input polynomials:\n",
      "[y^3 - 884*y^2 - x_L_1 + 3834*y + 2417, -x_R_1 + 640, x_L_1^3 + 3*x_L_1^2*y + 3*x_L_1*y^2 + y^3 + 364*x_L_1^2 + 728*x_L_1*y + 364*y^2 + 480*x_L_1 + x_R_1 - x_L_2 + 480*y + 301, x_L_1 - x_R_2, x_L_2^3 + 3*x_L_2^2*y + 3*x_L_2*y^2 + y^3 + 129*x_L_2^2 + 258*x_L_2*y + 129*y^2 - 2644*x_L_2 + x_R_2 - x_L_3 - 2644*y - 2403, x_L_2 - x_R_3, x_L_3^3 + 3*x_L_3^2*y + 3*x_L_3*y^2 + y^3 + 1785*x_L_3^2 + 3570*x_L_3*y + 1785*y^2 - 2755*x_L_3 + x_R_3 - x_L_4 - 2755*y - 3072, x_L_3 - x_R_4, x_L_4^3 + 3*x_L_4^2*y + 3*x_L_4*y^2 + y^3 + 2300*x_L_4^2 - 3591*x_L_4*y + 2300*y^2 - 462*x_L_4 + x_R_4 - 461*y - 2758, x_L_4 - 1430]\n",
      "\n",
      "--- Degree 0 ---\n",
      "Computing all monomials up to degree: 0\n",
      "Time needed: 0.0001842975616455078\n",
      "Computing Macaulay matrix.\n",
      "Time needed: 1.9073486328125e-06\n",
      "Performing Gaussian Elimination.\n",
      "Time needed: 8.702278137207031e-05\n",
      "Is Groebner Basis: False\n",
      "\n",
      "--- Degree 1 ---\n",
      "Computing all monomials up to degree: 1\n",
      "Time needed: 0.0014600753784179688\n",
      "Computing Macaulay matrix.\n",
      "Time needed: 1.430511474609375e-06\n",
      "Performing Gaussian Elimination.\n",
      "Time needed: 0.00028967857360839844\n",
      "Is Groebner Basis: False\n",
      "\n",
      "--- Degree 2 ---\n",
      "Computing all monomials up to degree: 2\n",
      "Time needed: 0.0025627613067626953\n",
      "Computing Macaulay matrix.\n",
      "Time needed: 3.0994415283203125e-06\n",
      "Performing Gaussian Elimination.\n",
      "Time needed: 0.0003781318664550781\n",
      "Is Groebner Basis: False\n",
      "\n",
      "--- Degree 3 ---\n",
      "Computing all monomials up to degree: 3\n",
      "Time needed: 0.006479024887084961\n",
      "Computing Macaulay matrix.\n",
      "Time needed: 2.384185791015625e-06\n",
      "Performing Gaussian Elimination.\n",
      "Time needed: 0.001965045928955078\n",
      "Is Groebner Basis: False\n",
      "\n",
      "--- Degree 4 ---\n",
      "Computing all monomials up to degree: 4\n",
      "Time needed: 0.027113676071166992\n",
      "Computing Macaulay matrix.\n",
      "Time needed: 5.0067901611328125e-06\n",
      "Performing Gaussian Elimination.\n",
      "Time needed: 0.0239870548248291\n",
      "Is Groebner Basis: False\n",
      "\n",
      "--- Degree 5 ---\n",
      "Computing all monomials up to degree: 5\n",
      "Time needed: 0.04330801963806152\n",
      "Computing Macaulay matrix.\n",
      "Time needed: 3.337860107421875e-06\n",
      "Performing Gaussian Elimination.\n",
      "Time needed: 0.14932894706726074\n",
      "Is Groebner Basis: False\n",
      "\n",
      "--- Degree 6 ---\n",
      "Computing all monomials up to degree: 6\n",
      "Time needed: 0.1473400592803955\n",
      "Computing Macaulay matrix.\n",
      "Time needed: 6.67572021484375e-06\n",
      "Performing Gaussian Elimination.\n",
      "Time needed: 0.950204610824585\n",
      "Is Groebner Basis: False\n",
      "\n",
      "--- Degree 7 ---\n",
      "Computing all monomials up to degree: 7\n",
      "Time needed: 0.3241312503814697\n",
      "Computing Macaulay matrix.\n",
      "Time needed: 5.7220458984375e-06\n",
      "Performing Gaussian Elimination.\n",
      "Time needed: 12.014105796813965\n",
      "Is Groebner Basis: False\n",
      "\n",
      "--- Degree 8 ---\n",
      "Computing all monomials up to degree: 8\n",
      "Time needed: 0.594489574432373\n",
      "Computing Macaulay matrix.\n",
      "Time needed: 6.198883056640625e-06\n",
      "Performing Gaussian Elimination.\n",
      "Time needed: 97.91081023216248\n",
      "Is Groebner Basis: False\n",
      "\n",
      "--- Degree 9 ---\n",
      "Computing all monomials up to degree: 9\n",
      "Time needed: 1.2486915588378906\n",
      "Computing Macaulay matrix.\n",
      "Time needed: 5.4836273193359375e-06\n",
      "Performing Gaussian Elimination.\n",
      "Time needed: 491.63578748703003\n",
      "Is Groebner Basis: False\n",
      "\n",
      "--- Degree 10 ---\n",
      "Computing all monomials up to degree: 10\n",
      "Time needed: 2.8220279216766357\n",
      "Computing Macaulay matrix.\n",
      "Time needed: 5.7220458984375e-06\n",
      "Performing Gaussian Elimination.\n",
      "Time needed: 1807.634292602539\n",
      "Is Groebner Basis: True\n",
      "Total time needed: 2448.8615493774414\n"
     ]
    },
    {
     "data": {
      "text/plain": [
       "[x_L_1 - 3766,\n",
       " x_R_1 - 640,\n",
       " x_L_2 + 958,\n",
       " x_R_2 - 3766,\n",
       " x_L_3 - 2768,\n",
       " x_R_3 + 958,\n",
       " x_L_4 - 1430,\n",
       " x_R_4 - 2768,\n",
       " y + 2487]"
      ]
     },
     "execution_count": 13,
     "metadata": {},
     "output_type": "execute_result"
    }
   ],
   "source": [
    "lazard_gb_algorithm(polys)"
   ]
  },
  {
   "cell_type": "code",
   "execution_count": 14,
   "metadata": {},
   "outputs": [
    {
     "name": "stdout",
     "output_type": "stream",
     "text": [
      "Ring: Multivariate Polynomial Ring in x_L_1, x_R_1, x_L_2, x_R_2, x_L_3, x_R_3, x_L_4, x_R_4, y, h over Finite Field of size 8191\n",
      "Input polynomials:\n",
      "[y^3 - 884*y^2*h - x_L_1*h^2 + 3834*y*h^2 + 2417*h^3, -x_R_1 + 640*h, x_L_1^3 + 3*x_L_1^2*y + 3*x_L_1*y^2 + y^3 + 364*x_L_1^2*h + 728*x_L_1*y*h + 364*y^2*h + 480*x_L_1*h^2 + x_R_1*h^2 - x_L_2*h^2 + 480*y*h^2 + 301*h^3, x_L_1 - x_R_2, x_L_2^3 + 3*x_L_2^2*y + 3*x_L_2*y^2 + y^3 + 129*x_L_2^2*h + 258*x_L_2*y*h + 129*y^2*h - 2644*x_L_2*h^2 + x_R_2*h^2 - x_L_3*h^2 - 2644*y*h^2 - 2403*h^3, x_L_2 - x_R_3, x_L_3^3 + 3*x_L_3^2*y + 3*x_L_3*y^2 + y^3 + 1785*x_L_3^2*h + 3570*x_L_3*y*h + 1785*y^2*h - 2755*x_L_3*h^2 + x_R_3*h^2 - x_L_4*h^2 - 2755*y*h^2 - 3072*h^3, x_L_3 - x_R_4, x_L_4^3 + 3*x_L_4^2*y + 3*x_L_4*y^2 + y^3 + 2300*x_L_4^2*h - 3591*x_L_4*y*h + 2300*y^2*h - 462*x_L_4*h^2 + x_R_4*h^2 - 461*y*h^2 - 2758*h^3, x_L_4 - 1430*h]\n",
      "\n",
      "--- Degree 0 ---\n",
      "Computing all monomials up to degree: 0\n",
      "Time needed: 0.0005133152008056641\n",
      "Computing Macaulay matrix.\n",
      "Time needed: 3.0994415283203125e-06\n",
      "Performing Gaussian Elimination.\n",
      "Time needed: 0.00018358230590820312\n",
      "Is Groebner Basis: False\n",
      "\n",
      "--- Degree 1 ---\n",
      "Computing all monomials up to degree: 1\n",
      "Time needed: 0.0014750957489013672\n",
      "Computing Macaulay matrix.\n",
      "Time needed: 1.6689300537109375e-06\n",
      "Performing Gaussian Elimination.\n",
      "Time needed: 0.00016880035400390625\n",
      "Is Groebner Basis: False\n",
      "\n",
      "--- Degree 2 ---\n",
      "Computing all monomials up to degree: 2\n",
      "Time needed: 0.0025413036346435547\n",
      "Computing Macaulay matrix.\n",
      "Time needed: 1.430511474609375e-06\n",
      "Performing Gaussian Elimination.\n",
      "Time needed: 0.00048828125\n",
      "Is Groebner Basis: False\n",
      "\n",
      "--- Degree 3 ---\n",
      "Computing all monomials up to degree: 3\n",
      "Time needed: 0.008285999298095703\n",
      "Computing Macaulay matrix.\n",
      "Time needed: 4.291534423828125e-06\n",
      "Performing Gaussian Elimination.\n",
      "Time needed: 0.0024404525756835938\n",
      "Is Groebner Basis: False\n",
      "\n",
      "--- Degree 4 ---\n",
      "Computing all monomials up to degree: 4\n",
      "Time needed: 0.03602886199951172\n",
      "Computing Macaulay matrix.\n",
      "Time needed: 4.76837158203125e-06\n",
      "Performing Gaussian Elimination.\n",
      "Time needed: 0.03000926971435547\n",
      "Is Groebner Basis: False\n",
      "\n",
      "--- Degree 5 ---\n",
      "Computing all monomials up to degree: 5\n",
      "Time needed: 0.1136023998260498\n",
      "Computing Macaulay matrix.\n",
      "Time needed: 4.291534423828125e-06\n",
      "Performing Gaussian Elimination.\n",
      "Time needed: 0.21170878410339355\n",
      "Is Groebner Basis: False\n",
      "\n",
      "--- Degree 6 ---\n",
      "Computing all monomials up to degree: 6\n",
      "Time needed: 0.1734914779663086\n",
      "Computing Macaulay matrix.\n",
      "Time needed: 4.5299530029296875e-06\n",
      "Performing Gaussian Elimination.\n",
      "Time needed: 2.4623305797576904\n",
      "Is Groebner Basis: False\n",
      "\n",
      "--- Degree 7 ---\n",
      "Computing all monomials up to degree: 7\n",
      "Time needed: 0.4162628650665283\n",
      "Computing Macaulay matrix.\n",
      "Time needed: 5.9604644775390625e-06\n",
      "Performing Gaussian Elimination.\n",
      "Time needed: 24.1730215549469\n",
      "Is Groebner Basis: False\n",
      "\n",
      "--- Degree 8 ---\n",
      "Computing all monomials up to degree: 8\n",
      "Time needed: 0.7611091136932373\n",
      "Computing Macaulay matrix.\n",
      "Time needed: 1.7642974853515625e-05\n",
      "Performing Gaussian Elimination.\n",
      "Time needed: 219.693838596344\n",
      "Is Groebner Basis: False\n",
      "\n",
      "--- Degree 9 ---\n",
      "Computing all monomials up to degree: 9\n",
      "Time needed: 1.9530348777770996\n",
      "Computing Macaulay matrix.\n",
      "Time needed: 4.5299530029296875e-06\n",
      "Performing Gaussian Elimination.\n",
      "Time needed: 1081.0064022541046\n",
      "Is Groebner Basis: False\n",
      "\n",
      "--- Degree 10 ---\n",
      "Computing all monomials up to degree: 10\n",
      "Time needed: 4.90807032585144\n",
      "Computing Macaulay matrix.\n",
      "Time needed: 5.245208740234375e-06\n",
      "Performing Gaussian Elimination.\n",
      "Time needed: 4481.331961631775\n",
      "Is Groebner Basis: True\n",
      "Total time needed: 5888.407606840134\n"
     ]
    },
    {
     "data": {
      "text/plain": [
       "[x_R_2*h^9 - 3766*h^10,\n",
       " x_R_3*h^9 + 958*h^10,\n",
       " x_R_4*h^9 - 2768*h^10,\n",
       " y*h^9 + 2487*h^10,\n",
       " x_R_3^2*h^7 + 1246*x_R_2*h^8 - 1118*x_R_3*h^8 - 360*x_R_4*h^8 + 3105*y*h^8 - 2188*h^9,\n",
       " x_R_4^2*h^7 + 4046*x_R_2*h^8 + 1748*x_R_3*h^8 - 3050*x_R_4*h^8 - 448*y*h^8 + 3875*h^9,\n",
       " x_R_3*y*h^7 - 3567*x_R_2*h^8 + 2305*x_R_3*h^8 - 398*x_R_4*h^8 - 4074*y*h^8 + 2036*h^9,\n",
       " x_R_4*y*h^7 + 3865*x_R_2*h^8 + 205*x_R_3*h^8 - 2629*x_R_4*h^8 - 3315*y*h^8 + 2404*h^9,\n",
       " x_R_3^2*y*h^5 - 923*x_R_3^2*h^6 - 833*x_R_4^2*h^6 - 298*x_R_3*y*h^6 - 380*x_R_4*y*h^6 - 2834*x_R_2*h^7 + 3103*x_R_3*h^7 - 1717*x_R_4*h^7 - 1242*y*h^7 - 2033*h^8,\n",
       " x_R_2*x_R_3*h^5 + 2514*x_R_4^2*h^5 + 942*x_R_3*y*h^5 - 525*x_R_4*y*h^5 + 2578*x_R_2*h^6 + 2487*x_R_3*h^6 + 2005*x_R_4*h^6 - 3889*y*h^6 + 3214*h^7,\n",
       " x_R_2*x_R_4*h^5 - 4077*x_R_4^2*h^5 + 1208*x_R_3*y*h^5 - 1865*x_R_4*y*h^5 - 3626*x_R_2*h^6 - 1008*x_R_3*h^6 + 1574*x_R_4*h^6 - 2523*y*h^6 + 2035*h^7,\n",
       " x_R_3*x_R_4*h^5 + 3149*x_R_4^2*h^5 - 2914*x_R_3*y*h^5 + 933*x_R_4*y*h^5 - 548*x_R_2*h^6 + 95*x_R_3*h^6 - 1302*x_R_4*h^6 - 587*y*h^6 + 3774*h^7,\n",
       " x_R_2*x_R_4^2*h^3 - 1640*x_R_2*x_R_4*h^4 - 165*x_R_4^2*h^4 + 1768*x_R_4*y*h^4 + 3963*x_R_2*h^5 - 3386*x_R_3*h^5 - 1619*x_R_4*h^5 - 2317*y*h^5 - 1686*h^6,\n",
       " x_R_4^2*y*h^3 - 3281*x_R_2*x_R_4*h^4 + 1689*x_R_4^2*h^4 - 3168*x_R_4*y*h^4 - 3716*x_R_2*h^5 - 1960*x_R_3*h^5 - 54*x_R_4*h^5 + 3882*y*h^5 + 666*h^6,\n",
       " x_R_2^2*h^3 + 2*x_R_2*x_R_4*h^3 + x_R_4^2*h^3 - 1944*x_R_4*y*h^3 - 3588*x_R_2*h^4 - 3289*x_R_4*h^4 - 2837*y*h^4 - 1408*h^5,\n",
       " x_R_2*y*h^2 + x_R_4*y*h^2 - 2075*x_R_2*h^3 - 1358*x_R_4*h^3 + 1125*y*h^3 + 3369*h^4,\n",
       " x_R_2^3 + 3*x_R_2^2*y + 3*x_R_2*y^2 + 364*x_R_2^2*h + 728*x_R_2*y*h - 3013*x_R_2*h^2 - x_R_3*h^2 - 3494*x_R_4*h^2 + 3037*y*h^2 + 2875*h^3,\n",
       " x_R_3^3 + 3*x_R_3^2*y + 3*x_R_3*y^2 + 129*x_R_3^2*h + 258*x_R_3*y*h - 3241*x_R_2*h^2 - 2644*x_R_3*h^2 - 3244*x_R_4*h^2 - 3371*y*h^2 - 376*h^3,\n",
       " x_R_4^3 + 3*x_R_4^2*y + 3*x_R_4*y^2 + 1785*x_R_4^2*h + 3570*x_R_4*y*h + 2518*x_R_2*h^2 + x_R_3*h^2 - 238*x_R_4*h^2 - 2090*y*h^2 + 3771*h^3,\n",
       " y^3 - 939*x_R_2*h^2 - 938*x_R_4*h^2 - 3082*y*h^2 - 3054*h^3,\n",
       " y^2*h - 1428*x_R_2*h^2 - 1428*x_R_4*h^2 + 474*y*h^2 - 627*h^3,\n",
       " x_L_1 - x_R_2,\n",
       " x_R_1 - 640*h,\n",
       " x_L_2 - x_R_3,\n",
       " x_L_3 - x_R_4,\n",
       " x_L_4 - 1430*h]"
      ]
     },
     "execution_count": 14,
     "metadata": {},
     "output_type": "execute_result"
    }
   ],
   "source": [
    "lazard_gb_algorithm(polys_h)"
   ]
  },
  {
   "cell_type": "code",
   "execution_count": 15,
   "metadata": {},
   "outputs": [
    {
     "data": {
      "text/plain": [
       "S(0) <-- S(-1)⊕S(-1)⊕S(-1)⊕S(-1)⊕S(-1)⊕S(-3)⊕S(-3)⊕S(-3)⊕S(-3)⊕S(-3) <-- S(-2)⊕S(-2)⊕S(-2)⊕S(-2)⊕S(-2)⊕S(-2)⊕S(-2)⊕S(-2)⊕S(-2)⊕S(-2)⊕S(-4)⊕S(-4)⊕S(-4)⊕S(-4)⊕S(-4)⊕S(-4)⊕S(-4)⊕S(-4)⊕S(-4)⊕S(-4)⊕S(-6)⊕S(-4)⊕S(-4)⊕S(-4)⊕S(-4)⊕S(-4)⊕S(-6)⊕S(-6)⊕S(-4)⊕S(-4)⊕S(-4)⊕S(-4)⊕S(-4)⊕S(-6)⊕S(-6)⊕S(-6)⊕S(-4)⊕S(-4)⊕S(-4)⊕S(-4)⊕S(-4)⊕S(-6)⊕S(-6)⊕S(-6)⊕S(-6)⊕S(-11) <-- S(-3)⊕S(-3)⊕S(-3)⊕S(-3)⊕S(-3)⊕S(-3)⊕S(-3)⊕S(-3)⊕S(-3)⊕S(-3)⊕S(-5)⊕S(-5)⊕S(-5)⊕S(-5)⊕S(-5)⊕S(-5)⊕S(-5)⊕S(-5)⊕S(-5)⊕S(-5)⊕S(-5)⊕S(-5)⊕S(-5)⊕S(-5)⊕S(-5)⊕S(-5)⊕S(-5)⊕S(-5)⊕S(-5)⊕S(-5)⊕S(-7)⊕S(-7)⊕S(-7)⊕S(-7)⊕S(-7)⊕S(-5)⊕S(-5)⊕S(-5)⊕S(-5)⊕S(-5)⊕S(-5)⊕S(-5)⊕S(-5)⊕S(-5)⊕S(-5)⊕S(-7)⊕S(-7)⊕S(-7)⊕S(-7)⊕S(-7)⊕S(-7)⊕S(-7)⊕S(-7)⊕S(-7)⊕S(-7)⊕S(-9)⊕S(-5)⊕S(-5)⊕S(-5)⊕S(-5)⊕S(-5)⊕S(-5)⊕S(-5)⊕S(-5)⊕S(-5)⊕S(-5)⊕S(-7)⊕S(-7)⊕S(-7)⊕S(-7)⊕S(-7)⊕S(-7)⊕S(-7)⊕S(-7)⊕S(-7)⊕S(-7)⊕S(-9)⊕S(-7)⊕S(-7)⊕S(-7)⊕S(-7)⊕S(-7)⊕S(-9)⊕S(-9)⊕S(-5)⊕S(-5)⊕S(-5)⊕S(-5)⊕S(-5)⊕S(-5)⊕S(-5)⊕S(-5)⊕S(-5)⊕S(-5)⊕S(-7)⊕S(-7)⊕S(-7)⊕S(-7)⊕S(-7)⊕S(-7)⊕S(-7)⊕S(-7)⊕S(-7)⊕S(-7)⊕S(-9)⊕S(-7)⊕S(-7)⊕S(-7)⊕S(-7)⊕S(-7)⊕S(-9)⊕S(-9)⊕S(-7)⊕S(-7)⊕S(-7)⊕S(-7)⊕S(-7)⊕S(-9)⊕S(-9)⊕S(-9)⊕S(-12)⊕S(-12)⊕S(-12)⊕S(-12)⊕S(-12)⊕S(-12)⊕S(-12)⊕S(-12)⊕S(-12) <-- S(-4)⊕S(-4)⊕S(-4)⊕S(-4)⊕S(-4)⊕S(-6)⊕S(-6)⊕S(-6)⊕S(-6)⊕S(-6)⊕S(-6)⊕S(-6)⊕S(-6)⊕S(-6)⊕S(-6)⊕S(-6)⊕S(-6)⊕S(-6)⊕S(-6)⊕S(-6)⊕S(-6)⊕S(-6)⊕S(-6)⊕S(-6)⊕S(-6)⊕S(-8)⊕S(-8)⊕S(-8)⊕S(-8)⊕S(-8)⊕S(-8)⊕S(-8)⊕S(-8)⊕S(-8)⊕S(-8)⊕S(-6)⊕S(-6)⊕S(-6)⊕S(-6)⊕S(-6)⊕S(-6)⊕S(-6)⊕S(-6)⊕S(-6)⊕S(-6)⊕S(-8)⊕S(-8)⊕S(-8)⊕S(-8)⊕S(-8)⊕S(-8)⊕S(-8)⊕S(-8)⊕S(-8)⊕S(-8)⊕S(-8)⊕S(-8)⊕S(-8)⊕S(-8)⊕S(-8)⊕S(-8)⊕S(-8)⊕S(-8)⊕S(-8)⊕S(-8)⊕S(-10)⊕S(-10)⊕S(-10)⊕S(-10)⊕S(-10)⊕S(-6)⊕S(-6)⊕S(-6)⊕S(-6)⊕S(-6)⊕S(-6)⊕S(-6)⊕S(-6)⊕S(-6)⊕S(-6)⊕S(-8)⊕S(-8)⊕S(-8)⊕S(-8)⊕S(-8)⊕S(-8)⊕S(-8)⊕S(-8)⊕S(-8)⊕S(-8)⊕S(-8)⊕S(-8)⊕S(-8)⊕S(-8)⊕S(-8)⊕S(-8)⊕S(-8)⊕S(-8)⊕S(-8)⊕S(-8)⊕S(-10)⊕S(-10)⊕S(-10)⊕S(-10)⊕S(-10)⊕S(-8)⊕S(-8)⊕S(-8)⊕S(-8)⊕S(-8)⊕S(-8)⊕S(-8)⊕S(-8)⊕S(-8)⊕S(-8)⊕S(-10)⊕S(-10)⊕S(-10)⊕S(-10)⊕S(-10)⊕S(-10)⊕S(-10)⊕S(-10)⊕S(-10)⊕S(-10)⊕S(-12)⊕S(-6)⊕S(-6)⊕S(-6)⊕S(-6)⊕S(-6)⊕S(-6)⊕S(-6)⊕S(-6)⊕S(-6)⊕S(-6)⊕S(-8)⊕S(-8)⊕S(-8)⊕S(-8)⊕S(-8)⊕S(-8)⊕S(-8)⊕S(-8)⊕S(-8)⊕S(-8)⊕S(-8)⊕S(-8)⊕S(-8)⊕S(-8)⊕S(-8)⊕S(-8)⊕S(-8)⊕S(-8)⊕S(-8)⊕S(-8)⊕S(-10)⊕S(-10)⊕S(-10)⊕S(-10)⊕S(-10)⊕S(-8)⊕S(-8)⊕S(-8)⊕S(-8)⊕S(-8)⊕S(-8)⊕S(-8)⊕S(-8)⊕S(-8)⊕S(-8)⊕S(-10)⊕S(-10)⊕S(-10)⊕S(-10)⊕S(-10)⊕S(-10)⊕S(-10)⊕S(-10)⊕S(-10)⊕S(-10)⊕S(-12)⊕S(-8)⊕S(-8)⊕S(-8)⊕S(-8)⊕S(-8)⊕S(-8)⊕S(-8)⊕S(-8)⊕S(-8)⊕S(-8)⊕S(-10)⊕S(-10)⊕S(-10)⊕S(-10)⊕S(-10)⊕S(-10)⊕S(-10)⊕S(-10)⊕S(-10)⊕S(-10)⊕S(-12)⊕S(-10)⊕S(-10)⊕S(-10)⊕S(-10)⊕S(-10)⊕S(-12)⊕S(-12)⊕S(-13)⊕S(-13)⊕S(-13)⊕S(-13)⊕S(-13)⊕S(-13)⊕S(-13)⊕S(-13)⊕S(-13)⊕S(-13)⊕S(-13)⊕S(-13)⊕S(-13)⊕S(-13)⊕S(-13)⊕S(-13)⊕S(-13)⊕S(-13)⊕S(-13)⊕S(-13)⊕S(-13)⊕S(-13)⊕S(-13)⊕S(-13)⊕S(-13)⊕S(-13)⊕S(-13)⊕S(-13)⊕S(-13)⊕S(-13)⊕S(-13)⊕S(-13)⊕S(-13)⊕S(-13)⊕S(-13)⊕S(-13) <-- S(-5)⊕S(-14)⊕S(-14)⊕S(-14)⊕S(-14)⊕S(-7)⊕S(-7)⊕S(-7)⊕S(-7)⊕S(-7)⊕S(-7)⊕S(-7)⊕S(-7)⊕S(-7)⊕S(-7)⊕S(-9)⊕S(-9)⊕S(-9)⊕S(-9)⊕S(-9)⊕S(-9)⊕S(-9)⊕S(-9)⊕S(-9)⊕S(-9)⊕S(-7)⊕S(-7)⊕S(-7)⊕S(-7)⊕S(-7)⊕S(-9)⊕S(-9)⊕S(-9)⊕S(-9)⊕S(-9)⊕S(-9)⊕S(-9)⊕S(-9)⊕S(-9)⊕S(-9)⊕S(-9)⊕S(-9)⊕S(-9)⊕S(-9)⊕S(-9)⊕S(-9)⊕S(-9)⊕S(-9)⊕S(-9)⊕S(-9)⊕S(-11)⊕S(-11)⊕S(-11)⊕S(-11)⊕S(-11)⊕S(-11)⊕S(-11)⊕S(-11)⊕S(-11)⊕S(-11)⊕S(-7)⊕S(-7)⊕S(-7)⊕S(-7)⊕S(-7)⊕S(-9)⊕S(-9)⊕S(-9)⊕S(-9)⊕S(-9)⊕S(-9)⊕S(-9)⊕S(-9)⊕S(-9)⊕S(-9)⊕S(-9)⊕S(-9)⊕S(-9)⊕S(-9)⊕S(-9)⊕S(-9)⊕S(-9)⊕S(-9)⊕S(-9)⊕S(-9)⊕S(-11)⊕S(-11)⊕S(-11)⊕S(-11)⊕S(-11)⊕S(-11)⊕S(-11)⊕S(-11)⊕S(-11)⊕S(-11)⊕S(-9)⊕S(-9)⊕S(-9)⊕S(-9)⊕S(-9)⊕S(-9)⊕S(-9)⊕S(-9)⊕S(-9)⊕S(-9)⊕S(-11)⊕S(-11)⊕S(-11)⊕S(-11)⊕S(-11)⊕S(-11)⊕S(-11)⊕S(-11)⊕S(-11)⊕S(-11)⊕S(-11)⊕S(-11)⊕S(-11)⊕S(-11)⊕S(-11)⊕S(-11)⊕S(-11)⊕S(-11)⊕S(-11)⊕S(-11)⊕S(-13)⊕S(-13)⊕S(-13)⊕S(-13)⊕S(-13)⊕S(-7)⊕S(-7)⊕S(-7)⊕S(-7)⊕S(-7)⊕S(-9)⊕S(-9)⊕S(-9)⊕S(-9)⊕S(-9)⊕S(-9)⊕S(-9)⊕S(-9)⊕S(-9)⊕S(-9)⊕S(-9)⊕S(-9)⊕S(-9)⊕S(-9)⊕S(-9)⊕S(-9)⊕S(-9)⊕S(-9)⊕S(-9)⊕S(-9)⊕S(-11)⊕S(-11)⊕S(-11)⊕S(-11)⊕S(-11)⊕S(-11)⊕S(-11)⊕S(-11)⊕S(-11)⊕S(-11)⊕S(-9)⊕S(-9)⊕S(-9)⊕S(-9)⊕S(-9)⊕S(-9)⊕S(-9)⊕S(-9)⊕S(-9)⊕S(-9)⊕S(-11)⊕S(-11)⊕S(-11)⊕S(-11)⊕S(-11)⊕S(-11)⊕S(-11)⊕S(-11)⊕S(-11)⊕S(-11)⊕S(-11)⊕S(-11)⊕S(-11)⊕S(-11)⊕S(-11)⊕S(-11)⊕S(-11)⊕S(-11)⊕S(-11)⊕S(-11)⊕S(-13)⊕S(-13)⊕S(-13)⊕S(-13)⊕S(-13)⊕S(-9)⊕S(-9)⊕S(-9)⊕S(-9)⊕S(-9)⊕S(-9)⊕S(-9)⊕S(-9)⊕S(-9)⊕S(-9)⊕S(-11)⊕S(-11)⊕S(-11)⊕S(-11)⊕S(-11)⊕S(-11)⊕S(-11)⊕S(-11)⊕S(-11)⊕S(-11)⊕S(-11)⊕S(-11)⊕S(-11)⊕S(-11)⊕S(-11)⊕S(-11)⊕S(-11)⊕S(-11)⊕S(-11)⊕S(-11)⊕S(-13)⊕S(-13)⊕S(-13)⊕S(-13)⊕S(-13)⊕S(-11)⊕S(-11)⊕S(-11)⊕S(-11)⊕S(-11)⊕S(-11)⊕S(-11)⊕S(-11)⊕S(-11)⊕S(-11)⊕S(-13)⊕S(-13)⊕S(-13)⊕S(-13)⊕S(-13)⊕S(-13)⊕S(-13)⊕S(-13)⊕S(-13)⊕S(-13)⊕S(-14)⊕S(-14)⊕S(-14)⊕S(-14)⊕S(-14)⊕S(-14)⊕S(-14)⊕S(-14)⊕S(-14)⊕S(-14)⊕S(-14)⊕S(-14)⊕S(-14)⊕S(-14)⊕S(-14)⊕S(-14)⊕S(-14)⊕S(-14)⊕S(-14)⊕S(-14)⊕S(-14)⊕S(-14)⊕S(-14)⊕S(-14)⊕S(-14)⊕S(-14)⊕S(-14)⊕S(-14)⊕S(-14)⊕S(-14)⊕S(-14)⊕S(-14)⊕S(-14)⊕S(-14)⊕S(-14)⊕S(-14)⊕S(-14)⊕S(-14)⊕S(-14)⊕S(-14)⊕S(-14)⊕S(-14)⊕S(-14)⊕S(-14)⊕S(-14)⊕S(-14)⊕S(-14)⊕S(-14)⊕S(-14)⊕S(-14)⊕S(-14)⊕S(-14)⊕S(-14)⊕S(-14)⊕S(-14)⊕S(-14)⊕S(-14)⊕S(-14)⊕S(-14)⊕S(-14)⊕S(-14)⊕S(-14)⊕S(-14)⊕S(-14)⊕S(-14)⊕S(-14)⊕S(-14)⊕S(-14)⊕S(-14)⊕S(-14)⊕S(-14)⊕S(-14)⊕S(-14)⊕S(-14)⊕S(-14)⊕S(-14)⊕S(-14)⊕S(-14)⊕S(-14)⊕S(-14) <-- S(-15)⊕S(-15)⊕S(-15)⊕S(-15)⊕S(-15)⊕S(-15)⊕S(-15)⊕S(-15)⊕S(-15)⊕S(-15)⊕S(-15)⊕S(-15)⊕S(-15)⊕S(-15)⊕S(-15)⊕S(-15)⊕S(-15)⊕S(-15)⊕S(-15)⊕S(-15)⊕S(-8)⊕S(-8)⊕S(-10)⊕S(-10)⊕S(-10)⊕S(-10)⊕S(-10)⊕S(-8)⊕S(-10)⊕S(-10)⊕S(-10)⊕S(-10)⊕S(-10)⊕S(-10)⊕S(-10)⊕S(-10)⊕S(-10)⊕S(-10)⊕S(-12)⊕S(-12)⊕S(-12)⊕S(-12)⊕S(-12)⊕S(-12)⊕S(-12)⊕S(-12)⊕S(-12)⊕S(-12)⊕S(-8)⊕S(-10)⊕S(-10)⊕S(-10)⊕S(-10)⊕S(-10)⊕S(-10)⊕S(-10)⊕S(-10)⊕S(-10)⊕S(-10)⊕S(-12)⊕S(-12)⊕S(-12)⊕S(-12)⊕S(-12)⊕S(-12)⊕S(-12)⊕S(-12)⊕S(-12)⊕S(-12)⊕S(-10)⊕S(-10)⊕S(-10)⊕S(-10)⊕S(-10)⊕S(-12)⊕S(-12)⊕S(-12)⊕S(-12)⊕S(-12)⊕S(-12)⊕S(-12)⊕S(-12)⊕S(-12)⊕S(-12)⊕S(-12)⊕S(-12)⊕S(-12)⊕S(-12)⊕S(-12)⊕S(-12)⊕S(-12)⊕S(-12)⊕S(-12)⊕S(-12)⊕S(-14)⊕S(-14)⊕S(-14)⊕S(-14)⊕S(-14)⊕S(-14)⊕S(-14)⊕S(-14)⊕S(-14)⊕S(-14)⊕S(-8)⊕S(-10)⊕S(-10)⊕S(-10)⊕S(-10)⊕S(-10)⊕S(-10)⊕S(-10)⊕S(-10)⊕S(-10)⊕S(-10)⊕S(-12)⊕S(-12)⊕S(-12)⊕S(-12)⊕S(-12)⊕S(-12)⊕S(-12)⊕S(-12)⊕S(-12)⊕S(-12)⊕S(-10)⊕S(-10)⊕S(-10)⊕S(-10)⊕S(-10)⊕S(-12)⊕S(-12)⊕S(-12)⊕S(-12)⊕S(-12)⊕S(-12)⊕S(-12)⊕S(-12)⊕S(-12)⊕S(-12)⊕S(-12)⊕S(-12)⊕S(-12)⊕S(-12)⊕S(-12)⊕S(-12)⊕S(-12)⊕S(-12)⊕S(-12)⊕S(-12)⊕S(-14)⊕S(-14)⊕S(-14)⊕S(-14)⊕S(-14)⊕S(-14)⊕S(-14)⊕S(-14)⊕S(-14)⊕S(-14)⊕S(-10)⊕S(-10)⊕S(-10)⊕S(-10)⊕S(-10)⊕S(-12)⊕S(-12)⊕S(-12)⊕S(-12)⊕S(-12)⊕S(-12)⊕S(-12)⊕S(-12)⊕S(-12)⊕S(-12)⊕S(-12)⊕S(-12)⊕S(-12)⊕S(-12)⊕S(-12)⊕S(-12)⊕S(-12)⊕S(-12)⊕S(-12)⊕S(-12)⊕S(-14)⊕S(-14)⊕S(-14)⊕S(-14)⊕S(-14)⊕S(-14)⊕S(-14)⊕S(-14)⊕S(-14)⊕S(-14)⊕S(-12)⊕S(-12)⊕S(-12)⊕S(-12)⊕S(-12)⊕S(-12)⊕S(-12)⊕S(-12)⊕S(-12)⊕S(-12)⊕S(-14)⊕S(-14)⊕S(-14)⊕S(-14)⊕S(-14)⊕S(-14)⊕S(-14)⊕S(-14)⊕S(-14)⊕S(-14)⊕S(-14)⊕S(-14)⊕S(-14)⊕S(-14)⊕S(-14)⊕S(-14)⊕S(-14)⊕S(-14)⊕S(-14)⊕S(-14)⊕S(-15)⊕S(-15)⊕S(-15)⊕S(-15)⊕S(-15)⊕S(-15)⊕S(-15)⊕S(-15)⊕S(-15)⊕S(-15)⊕S(-15)⊕S(-15)⊕S(-15)⊕S(-15)⊕S(-15)⊕S(-15)⊕S(-15)⊕S(-15)⊕S(-15)⊕S(-15)⊕S(-15)⊕S(-15)⊕S(-15)⊕S(-15)⊕S(-15)⊕S(-15)⊕S(-15)⊕S(-15)⊕S(-15)⊕S(-15)⊕S(-15)⊕S(-15)⊕S(-15)⊕S(-15)⊕S(-15)⊕S(-15)⊕S(-15)⊕S(-15)⊕S(-15)⊕S(-15)⊕S(-15)⊕S(-15)⊕S(-15)⊕S(-15)⊕S(-15)⊕S(-15)⊕S(-15)⊕S(-15)⊕S(-15)⊕S(-15)⊕S(-15)⊕S(-15)⊕S(-15)⊕S(-15)⊕S(-15)⊕S(-15)⊕S(-15)⊕S(-15)⊕S(-15)⊕S(-15)⊕S(-15)⊕S(-15)⊕S(-15)⊕S(-15)⊕S(-15)⊕S(-15)⊕S(-15)⊕S(-15)⊕S(-15)⊕S(-15)⊕S(-15)⊕S(-15)⊕S(-15)⊕S(-15)⊕S(-15)⊕S(-15)⊕S(-15)⊕S(-15)⊕S(-15)⊕S(-15)⊕S(-15)⊕S(-15)⊕S(-15)⊕S(-15)⊕S(-15)⊕S(-15)⊕S(-15)⊕S(-15)⊕S(-15)⊕S(-15)⊕S(-15)⊕S(-15)⊕S(-15)⊕S(-15)⊕S(-15)⊕S(-15)⊕S(-15)⊕S(-15)⊕S(-15)⊕S(-15)⊕S(-15)⊕S(-15)⊕S(-15)⊕S(-15)⊕S(-15) <-- S(-16)⊕S(-16)⊕S(-16)⊕S(-16)⊕S(-16)⊕S(-16)⊕S(-16)⊕S(-16)⊕S(-16)⊕S(-16)⊕S(-16)⊕S(-16)⊕S(-16)⊕S(-16)⊕S(-16)⊕S(-16)⊕S(-16)⊕S(-16)⊕S(-16)⊕S(-16)⊕S(-16)⊕S(-16)⊕S(-16)⊕S(-16)⊕S(-16)⊕S(-16)⊕S(-16)⊕S(-16)⊕S(-16)⊕S(-16)⊕S(-16)⊕S(-16)⊕S(-16)⊕S(-16)⊕S(-16)⊕S(-16)⊕S(-16)⊕S(-16)⊕S(-16)⊕S(-16)⊕S(-11)⊕S(-11)⊕S(-11)⊕S(-13)⊕S(-13)⊕S(-13)⊕S(-13)⊕S(-13)⊕S(-11)⊕S(-11)⊕S(-13)⊕S(-13)⊕S(-13)⊕S(-13)⊕S(-13)⊕S(-11)⊕S(-13)⊕S(-13)⊕S(-13)⊕S(-13)⊕S(-13)⊕S(-13)⊕S(-13)⊕S(-13)⊕S(-13)⊕S(-13)⊕S(-15)⊕S(-15)⊕S(-15)⊕S(-15)⊕S(-15)⊕S(-15)⊕S(-15)⊕S(-15)⊕S(-15)⊕S(-15)⊕S(-11)⊕S(-11)⊕S(-13)⊕S(-13)⊕S(-13)⊕S(-13)⊕S(-13)⊕S(-11)⊕S(-13)⊕S(-13)⊕S(-13)⊕S(-13)⊕S(-13)⊕S(-13)⊕S(-13)⊕S(-13)⊕S(-13)⊕S(-13)⊕S(-15)⊕S(-15)⊕S(-15)⊕S(-15)⊕S(-15)⊕S(-15)⊕S(-15)⊕S(-15)⊕S(-15)⊕S(-15)⊕S(-11)⊕S(-13)⊕S(-13)⊕S(-13)⊕S(-13)⊕S(-13)⊕S(-13)⊕S(-13)⊕S(-13)⊕S(-13)⊕S(-13)⊕S(-15)⊕S(-15)⊕S(-15)⊕S(-15)⊕S(-15)⊕S(-15)⊕S(-15)⊕S(-15)⊕S(-15)⊕S(-15)⊕S(-13)⊕S(-13)⊕S(-13)⊕S(-13)⊕S(-13)⊕S(-15)⊕S(-15)⊕S(-15)⊕S(-15)⊕S(-15)⊕S(-15)⊕S(-15)⊕S(-15)⊕S(-15)⊕S(-15)⊕S(-15)⊕S(-15)⊕S(-15)⊕S(-15)⊕S(-15)⊕S(-15)⊕S(-15)⊕S(-15)⊕S(-15)⊕S(-15)⊕S(-16)⊕S(-16)⊕S(-16)⊕S(-16)⊕S(-16)⊕S(-16)⊕S(-16)⊕S(-16)⊕S(-16)⊕S(-16)⊕S(-16)⊕S(-16)⊕S(-16)⊕S(-16)⊕S(-16)⊕S(-16)⊕S(-16)⊕S(-16)⊕S(-16)⊕S(-16)⊕S(-16)⊕S(-16)⊕S(-16)⊕S(-16)⊕S(-16)⊕S(-16)⊕S(-16)⊕S(-16)⊕S(-16)⊕S(-16)⊕S(-16)⊕S(-16)⊕S(-16)⊕S(-16)⊕S(-16)⊕S(-16)⊕S(-16)⊕S(-16)⊕S(-16)⊕S(-16)⊕S(-16)⊕S(-16)⊕S(-16)⊕S(-16)⊕S(-16)⊕S(-16)⊕S(-16)⊕S(-16)⊕S(-16)⊕S(-16)⊕S(-16)⊕S(-16)⊕S(-16)⊕S(-16)⊕S(-16)⊕S(-16)⊕S(-16)⊕S(-16)⊕S(-16)⊕S(-16)⊕S(-16)⊕S(-16)⊕S(-16)⊕S(-16)⊕S(-16)⊕S(-16)⊕S(-16)⊕S(-16)⊕S(-16)⊕S(-16)⊕S(-16)⊕S(-16)⊕S(-16)⊕S(-16)⊕S(-16)⊕S(-16)⊕S(-16)⊕S(-16)⊕S(-16)⊕S(-16)⊕S(-16) <-- S(-17)⊕S(-17)⊕S(-17)⊕S(-17)⊕S(-17)⊕S(-17)⊕S(-17)⊕S(-17)⊕S(-17)⊕S(-17)⊕S(-17)⊕S(-17)⊕S(-17)⊕S(-17)⊕S(-17)⊕S(-17)⊕S(-17)⊕S(-17)⊕S(-17)⊕S(-17)⊕S(-17)⊕S(-17)⊕S(-17)⊕S(-17)⊕S(-17)⊕S(-17)⊕S(-17)⊕S(-17)⊕S(-17)⊕S(-17)⊕S(-17)⊕S(-17)⊕S(-17)⊕S(-17)⊕S(-17)⊕S(-17)⊕S(-17)⊕S(-17)⊕S(-17)⊕S(-17)⊕S(-14)⊕S(-14)⊕S(-14)⊕S(-14)⊕S(-16)⊕S(-16)⊕S(-16)⊕S(-16)⊕S(-16)⊕S(-14)⊕S(-14)⊕S(-14)⊕S(-16)⊕S(-16)⊕S(-16)⊕S(-16)⊕S(-16)⊕S(-14)⊕S(-14)⊕S(-16)⊕S(-16)⊕S(-16)⊕S(-16)⊕S(-16)⊕S(-14)⊕S(-16)⊕S(-16)⊕S(-16)⊕S(-16)⊕S(-16)⊕S(-16)⊕S(-16)⊕S(-16)⊕S(-16)⊕S(-16)⊕S(-17)⊕S(-17)⊕S(-17)⊕S(-17)⊕S(-17)⊕S(-17)⊕S(-17)⊕S(-17)⊕S(-17)⊕S(-17)⊕S(-17)⊕S(-17)⊕S(-17)⊕S(-17)⊕S(-17)⊕S(-17)⊕S(-17)⊕S(-17)⊕S(-17)⊕S(-17)⊕S(-17)⊕S(-17)⊕S(-17)⊕S(-17)⊕S(-17)⊕S(-17)⊕S(-17)⊕S(-17)⊕S(-17)⊕S(-17)⊕S(-17)⊕S(-17)⊕S(-17)⊕S(-17) <-- S(-18)⊕S(-18)⊕S(-18)⊕S(-18)⊕S(-18)⊕S(-18)⊕S(-18)⊕S(-18)⊕S(-18)⊕S(-18)⊕S(-18)⊕S(-18)⊕S(-18)⊕S(-18)⊕S(-18)⊕S(-18)⊕S(-18)⊕S(-18)⊕S(-18)⊕S(-18)⊕S(-17)⊕S(-17)⊕S(-17)⊕S(-17)⊕S(-17)⊕S(-18)⊕S(-18)⊕S(-18)⊕S(-18)⊕S(-18)⊕S(-18) <-- S(-19)⊕S(-19)⊕S(-19)⊕S(-19) <-- 0"
      ]
     },
     "execution_count": 15,
     "metadata": {},
     "output_type": "execute_result"
    }
   ],
   "source": [
    "res = ideal(polys_h).graded_free_resolution(algorithm=\"minimal\")\n",
    "res"
   ]
  },
  {
   "cell_type": "code",
   "execution_count": 16,
   "metadata": {},
   "outputs": [
    {
     "data": {
      "text/plain": [
       "10"
      ]
     },
     "execution_count": 16,
     "metadata": {},
     "output_type": "execute_result"
    }
   ],
   "source": [
    "cm_regularity(res)"
   ]
  }
 ],
 "metadata": {
  "kernelspec": {
   "display_name": "SageMath 10.5",
   "language": "sage",
   "name": "sagemath"
  },
  "language_info": {
   "codemirror_mode": {
    "name": "ipython",
    "version": 3
   },
   "file_extension": ".py",
   "mimetype": "text/x-python",
   "name": "python",
   "nbconvert_exporter": "python",
   "pygments_lexer": "ipython3",
   "version": "3.12.5"
  }
 },
 "nbformat": 4,
 "nbformat_minor": 4
}
