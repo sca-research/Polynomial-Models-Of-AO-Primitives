{
 "cells": [
  {
   "cell_type": "markdown",
   "metadata": {},
   "source": [
    "# Feistel-MiMC Solving Degree\n",
    "Empirical solving degree for increasing round numbers of Feistel-MiMC.\n",
    "\n",
    "Prime: $p = 2^{13} - 1$.\n",
    "\n",
    "Round numbers: $r \\in \\{ 3, 4, 5 \\}$."
   ]
  },
  {
   "cell_type": "code",
   "execution_count": 1,
   "metadata": {},
   "outputs": [],
   "source": [
    "from lazard_gb_algorithm import *\n",
    "load(\"Feistel_MiMC.sage\")\n",
    "load(\"utilities.sage\")"
   ]
  },
  {
   "cell_type": "markdown",
   "metadata": {},
   "source": [
    "## p = 2^13 - 1, r = 3"
   ]
  },
  {
   "cell_type": "code",
   "execution_count": 2,
   "metadata": {},
   "outputs": [
    {
     "name": "stdout",
     "output_type": "stream",
     "text": [
      "Feistel-MiMC Parameters\n",
      "Field: Finite Field of size 8191\n",
      "r: 3\n",
      "Constants: [3439, 509, 7315]\n",
      "\n",
      "Key: 8158\n",
      "Plain: (4585, 1868)\n",
      "Cipher: (4314, 7075)\n",
      "\n",
      "y^3 - 501*y^2 - x_L_1 + 1757*y - 3107\n",
      "-x_R_1 - 3606\n",
      "\n",
      "\n",
      "x_L_1^3 + 3*x_L_1^2*y + 3*x_L_1*y^2 + y^3 + 1527*x_L_1^2 + 3054*x_L_1*y + 1527*y^2 - 902*x_L_1 + x_R_1 - x_L_2 - 902*y - 2871\n",
      "x_L_1 - x_R_2\n",
      "\n",
      "\n",
      "x_L_2^3 + 3*x_L_2^2*y + 3*x_L_2*y^2 + y^3 - 2628*x_L_2^2 + 2935*x_L_2*y - 2628*y^2 + 457*x_L_2 + x_R_2 + 458*y + 1489\n",
      "x_L_2 + 1116\n",
      "\n",
      "\n"
     ]
    }
   ],
   "source": [
    "p = 2**13 - 1\n",
    "field = GF(p, \"a\")\n",
    "\n",
    "rounds = 3\n",
    "\n",
    "feistel_mimc = Feistel_MiMC(field=field, rounds=rounds)\n",
    "\n",
    "print(\"\")\n",
    "\n",
    "key = field.random_element()\n",
    "plain = vector([field.random_element(), field.random_element()])\n",
    "cipher = feistel_mimc.encryption(plain, key)\n",
    "print(\"Key:\", key)\n",
    "print(\"Plain:\", plain)\n",
    "print(\"Cipher:\", cipher)\n",
    "\n",
    "print(\"\")\n",
    "\n",
    "polys = feistel_mimc.generate_polynomials(plain, cipher, info_level=0)\n",
    "polys_h = [poly.homogenize() for poly in polys]\n",
    "\n",
    "for i in range(0, 2 * rounds, 2):\n",
    "    print(polys[i])\n",
    "    print(polys[i + 1])\n",
    "    print(\"\\n\")"
   ]
  },
  {
   "cell_type": "code",
   "execution_count": 3,
   "metadata": {},
   "outputs": [
    {
     "name": "stdout",
     "output_type": "stream",
     "text": [
      "Ring: Multivariate Polynomial Ring in x_L_1, x_R_1, x_L_2, x_R_2, y over Finite Field of size 8191\n",
      "Input polynomials:\n",
      "[y^3 - 501*y^2 - x_L_1 + 1757*y - 3107, -x_R_1 - 3606, x_L_1^3 + 3*x_L_1^2*y + 3*x_L_1*y^2 + y^3 + 1527*x_L_1^2 + 3054*x_L_1*y + 1527*y^2 - 902*x_L_1 + x_R_1 - x_L_2 - 902*y - 2871, x_L_1 - x_R_2, x_L_2^3 + 3*x_L_2^2*y + 3*x_L_2*y^2 + y^3 - 2628*x_L_2^2 + 2935*x_L_2*y - 2628*y^2 + 457*x_L_2 + x_R_2 + 458*y + 1489, x_L_2 + 1116]\n",
      "\n",
      "--- Degree 0 ---\n",
      "Computing all monomials up to degree: 0\n",
      "Time needed: 0.0004875659942626953\n",
      "Computing Macaulay matrix.\n",
      "Time needed: 3.5762786865234375e-06\n",
      "Performing Gaussian Elimination.\n",
      "Time needed: 0.0002918243408203125\n",
      "Is Groebner Basis: False\n",
      "\n",
      "--- Degree 1 ---\n",
      "Computing all monomials up to degree: 1\n",
      "Time needed: 0.048838138580322266\n",
      "Computing Macaulay matrix.\n",
      "Time needed: 1.9073486328125e-06\n",
      "Performing Gaussian Elimination.\n",
      "Time needed: 0.00022840499877929688\n",
      "Is Groebner Basis: False\n",
      "\n",
      "--- Degree 2 ---\n",
      "Computing all monomials up to degree: 2\n",
      "Time needed: 0.0023941993713378906\n",
      "Computing Macaulay matrix.\n",
      "Time needed: 1.9073486328125e-06\n",
      "Performing Gaussian Elimination.\n",
      "Time needed: 0.00023031234741210938\n",
      "Is Groebner Basis: False\n",
      "\n",
      "--- Degree 3 ---\n",
      "Computing all monomials up to degree: 3\n",
      "Time needed: 0.00778651237487793\n",
      "Computing Macaulay matrix.\n",
      "Time needed: 2.6226043701171875e-06\n",
      "Performing Gaussian Elimination.\n",
      "Time needed: 0.0007905960083007812\n",
      "Is Groebner Basis: False\n",
      "\n",
      "--- Degree 4 ---\n",
      "Computing all monomials up to degree: 4\n",
      "Time needed: 0.00978231430053711\n",
      "Computing Macaulay matrix.\n",
      "Time needed: 4.5299530029296875e-06\n",
      "Performing Gaussian Elimination.\n",
      "Time needed: 0.0030562877655029297\n",
      "Is Groebner Basis: False\n",
      "\n",
      "--- Degree 5 ---\n",
      "Computing all monomials up to degree: 5\n",
      "Time needed: 0.011765480041503906\n",
      "Computing Macaulay matrix.\n",
      "Time needed: 2.6226043701171875e-06\n",
      "Performing Gaussian Elimination.\n",
      "Time needed: 0.004575490951538086\n",
      "Is Groebner Basis: False\n",
      "\n",
      "--- Degree 6 ---\n",
      "Computing all monomials up to degree: 6\n",
      "Time needed: 0.010759830474853516\n",
      "Computing Macaulay matrix.\n",
      "Time needed: 3.337860107421875e-06\n",
      "Performing Gaussian Elimination.\n",
      "Time needed: 0.012095212936401367\n",
      "Is Groebner Basis: True\n",
      "Total time needed: 0.2502713203430176\n"
     ]
    },
    {
     "data": {
      "text/plain": [
       "[x_L_1 + 3716, x_R_1 + 3606, x_L_2 + 1116, x_R_2 + 3716, y + 33]"
      ]
     },
     "execution_count": 3,
     "metadata": {},
     "output_type": "execute_result"
    }
   ],
   "source": [
    "lazard_gb_algorithm(polys)"
   ]
  },
  {
   "cell_type": "code",
   "execution_count": 4,
   "metadata": {},
   "outputs": [
    {
     "name": "stdout",
     "output_type": "stream",
     "text": [
      "Ring: Multivariate Polynomial Ring in x_L_1, x_R_1, x_L_2, x_R_2, y, h over Finite Field of size 8191\n",
      "Input polynomials:\n",
      "[y^3 - 501*y^2*h - x_L_1*h^2 + 1757*y*h^2 - 3107*h^3, -x_R_1 - 3606*h, x_L_1^3 + 3*x_L_1^2*y + 3*x_L_1*y^2 + y^3 + 1527*x_L_1^2*h + 3054*x_L_1*y*h + 1527*y^2*h - 902*x_L_1*h^2 + x_R_1*h^2 - x_L_2*h^2 - 902*y*h^2 - 2871*h^3, x_L_1 - x_R_2, x_L_2^3 + 3*x_L_2^2*y + 3*x_L_2*y^2 + y^3 - 2628*x_L_2^2*h + 2935*x_L_2*y*h - 2628*y^2*h + 457*x_L_2*h^2 + x_R_2*h^2 + 458*y*h^2 + 1489*h^3, x_L_2 + 1116*h]\n",
      "\n",
      "--- Degree 0 ---\n",
      "Computing all monomials up to degree: 0\n",
      "Time needed: 0.0009562969207763672\n",
      "Computing Macaulay matrix.\n",
      "Time needed: 4.0531158447265625e-06\n",
      "Performing Gaussian Elimination.\n",
      "Time needed: 0.000133514404296875\n",
      "Is Groebner Basis: False\n",
      "\n",
      "--- Degree 1 ---\n",
      "Computing all monomials up to degree: 1\n",
      "Time needed: 0.0016200542449951172\n",
      "Computing Macaulay matrix.\n",
      "Time needed: 2.1457672119140625e-06\n",
      "Performing Gaussian Elimination.\n",
      "Time needed: 0.00023484230041503906\n",
      "Is Groebner Basis: False\n",
      "\n",
      "--- Degree 2 ---\n",
      "Computing all monomials up to degree: 2\n",
      "Time needed: 0.002509593963623047\n",
      "Computing Macaulay matrix.\n",
      "Time needed: 2.6226043701171875e-06\n",
      "Performing Gaussian Elimination.\n",
      "Time needed: 0.0006010532379150391\n",
      "Is Groebner Basis: False\n",
      "\n",
      "--- Degree 3 ---\n",
      "Computing all monomials up to degree: 3\n",
      "Time needed: 0.004002809524536133\n",
      "Computing Macaulay matrix.\n",
      "Time needed: 4.0531158447265625e-06\n",
      "Performing Gaussian Elimination.\n",
      "Time needed: 0.0008029937744140625\n",
      "Is Groebner Basis: False\n",
      "\n",
      "--- Degree 4 ---\n",
      "Computing all monomials up to degree: 4\n",
      "Time needed: 0.008589029312133789\n",
      "Computing Macaulay matrix.\n",
      "Time needed: 4.291534423828125e-06\n",
      "Performing Gaussian Elimination.\n",
      "Time needed: 0.0029358863830566406\n",
      "Is Groebner Basis: False\n",
      "\n",
      "--- Degree 5 ---\n",
      "Computing all monomials up to degree: 5\n",
      "Time needed: 0.012751340866088867\n",
      "Computing Macaulay matrix.\n",
      "Time needed: 3.814697265625e-06\n",
      "Performing Gaussian Elimination.\n",
      "Time needed: 0.009347677230834961\n",
      "Is Groebner Basis: False\n",
      "\n",
      "--- Degree 6 ---\n",
      "Computing all monomials up to degree: 6\n",
      "Time needed: 0.02219223976135254\n",
      "Computing Macaulay matrix.\n",
      "Time needed: 4.0531158447265625e-06\n",
      "Performing Gaussian Elimination.\n",
      "Time needed: 0.027109146118164062\n",
      "Is Groebner Basis: True\n",
      "Total time needed: 0.3321075439453125\n"
     ]
    },
    {
     "data": {
      "text/plain": [
       "[x_R_2*h^5 + 3716*h^6,\n",
       " y*h^5 + 33*h^6,\n",
       " x_R_2^2*h^3 - 3891*x_R_2*h^4 - 1249*y*h^4 - 733*h^5,\n",
       " x_R_2*y*h^2 - 4032*x_R_2*h^3 - 3648*y*h^3 + 1145*h^4,\n",
       " x_R_2^3 + 3*x_R_2^2*y + 3*x_R_2*y^2 + 1527*x_R_2^2*h + 3054*x_R_2*y*h - 999*x_R_2*h^2 + 1750*y*h^2 - 2846*h^3,\n",
       " y^3 + 1453*x_R_2*h^2 + 2037*y*h^2 - 1846*h^3,\n",
       " y^2*h - 2286*x_R_2*h^2 - 3302*y*h^2 + 3910*h^3,\n",
       " x_L_1 - x_R_2,\n",
       " x_R_1 + 3606*h,\n",
       " x_L_2 + 1116*h]"
      ]
     },
     "execution_count": 4,
     "metadata": {},
     "output_type": "execute_result"
    }
   ],
   "source": [
    "lazard_gb_algorithm(polys_h)"
   ]
  },
  {
   "cell_type": "code",
   "execution_count": 5,
   "metadata": {},
   "outputs": [
    {
     "data": {
      "text/plain": [
       "S(0) <-- S(-1)⊕S(-1)⊕S(-1)⊕S(-3)⊕S(-3)⊕S(-3) <-- S(-2)⊕S(-2)⊕S(-2)⊕S(-4)⊕S(-4)⊕S(-4)⊕S(-4)⊕S(-4)⊕S(-4)⊕S(-6)⊕S(-4)⊕S(-4)⊕S(-4)⊕S(-6)⊕S(-6)⊕S(-7) <-- S(-3)⊕S(-8)⊕S(-8)⊕S(-5)⊕S(-5)⊕S(-5)⊕S(-5)⊕S(-5)⊕S(-5)⊕S(-7)⊕S(-7)⊕S(-7)⊕S(-5)⊕S(-5)⊕S(-5)⊕S(-7)⊕S(-7)⊕S(-7)⊕S(-7)⊕S(-7)⊕S(-7)⊕S(-8)⊕S(-8)⊕S(-8) <-- S(-9)⊕S(-9)⊕S(-9)⊕S(-9)⊕S(-9)⊕S(-9)⊕S(-6)⊕S(-6)⊕S(-8)⊕S(-8)⊕S(-8)⊕S(-6)⊕S(-8)⊕S(-8)⊕S(-8)⊕S(-8)⊕S(-8)⊕S(-8)⊕S(-9)⊕S(-9)⊕S(-9) <-- S(-10)⊕S(-10)⊕S(-10)⊕S(-10)⊕S(-10)⊕S(-10)⊕S(-9)⊕S(-9)⊕S(-9)⊕S(-10) <-- S(-11)⊕S(-11) <-- 0"
      ]
     },
     "execution_count": 5,
     "metadata": {},
     "output_type": "execute_result"
    }
   ],
   "source": [
    "res = ideal(polys_h).graded_free_resolution(algorithm=\"minimal\")\n",
    "res"
   ]
  },
  {
   "cell_type": "code",
   "execution_count": 6,
   "metadata": {},
   "outputs": [
    {
     "data": {
      "text/plain": [
       "6"
      ]
     },
     "execution_count": 6,
     "metadata": {},
     "output_type": "execute_result"
    }
   ],
   "source": [
    "cm_regularity(res)"
   ]
  },
  {
   "cell_type": "markdown",
   "metadata": {},
   "source": [
    "## p = 2^13 - 1, r = 4"
   ]
  },
  {
   "cell_type": "code",
   "execution_count": 7,
   "metadata": {},
   "outputs": [
    {
     "name": "stdout",
     "output_type": "stream",
     "text": [
      "Feistel-MiMC Parameters\n",
      "Field: Finite Field of size 8191\n",
      "r: 4\n",
      "Constants: [2803, 5945, 6136, 1250]\n",
      "\n",
      "Key: 7310\n",
      "Plain: (548, 7072)\n",
      "Cipher: (5959, 2319)\n",
      "\n",
      "y^3 + 1862*y^2 - x_L_1 - 1980*y - 1209\n",
      "-x_R_1 + 548\n",
      "\n",
      "\n",
      "x_L_1^3 + 3*x_L_1^2*y + 3*x_L_1*y^2 + y^3 + 1453*x_L_1^2 + 2906*x_L_1*y + 1453*y^2 - 3420*x_L_1 + x_R_1 - x_L_2 - 3420*y - 3343\n",
      "x_L_1 - x_R_2\n",
      "\n",
      "\n",
      "x_L_2^3 + 3*x_L_2^2*y + 3*x_L_2*y^2 + y^3 + 2026*x_L_2^2 + 4052*x_L_2*y + 2026*y^2 - 2402*x_L_2 + x_R_2 - x_L_3 - 2402*y - 1021\n",
      "x_L_2 - x_R_3\n",
      "\n",
      "\n",
      "x_L_3^3 + 3*x_L_3^2*y + 3*x_L_3*y^2 + y^3 + 3750*x_L_3^2 - 691*x_L_3*y + 3750*y^2 + 2248*x_L_3 + x_R_3 + 2249*y - 336\n",
      "x_L_3 - 2319\n",
      "\n",
      "\n"
     ]
    }
   ],
   "source": [
    "p = 2**13 - 1\n",
    "field = GF(p, \"a\")\n",
    "\n",
    "rounds = 4\n",
    "\n",
    "feistel_mimc = Feistel_MiMC(field=field, rounds=rounds)\n",
    "\n",
    "print(\"\")\n",
    "\n",
    "key = field.random_element()\n",
    "plain = vector([field.random_element(), field.random_element()])\n",
    "cipher = feistel_mimc.encryption(plain, key)\n",
    "print(\"Key:\", key)\n",
    "print(\"Plain:\", plain)\n",
    "print(\"Cipher:\", cipher)\n",
    "\n",
    "print(\"\")\n",
    "\n",
    "polys = feistel_mimc.generate_polynomials(plain, cipher, info_level=0)\n",
    "polys_h = [poly.homogenize() for poly in polys]\n",
    "\n",
    "for i in range(0, 2 * rounds, 2):\n",
    "    print(polys[i])\n",
    "    print(polys[i + 1])\n",
    "    print(\"\\n\")"
   ]
  },
  {
   "cell_type": "code",
   "execution_count": 8,
   "metadata": {},
   "outputs": [
    {
     "name": "stdout",
     "output_type": "stream",
     "text": [
      "Ring: Multivariate Polynomial Ring in x_L_1, x_R_1, x_L_2, x_R_2, x_L_3, x_R_3, y over Finite Field of size 8191\n",
      "Input polynomials:\n",
      "[y^3 + 1862*y^2 - x_L_1 - 1980*y - 1209, -x_R_1 + 548, x_L_1^3 + 3*x_L_1^2*y + 3*x_L_1*y^2 + y^3 + 1453*x_L_1^2 + 2906*x_L_1*y + 1453*y^2 - 3420*x_L_1 + x_R_1 - x_L_2 - 3420*y - 3343, x_L_1 - x_R_2, x_L_2^3 + 3*x_L_2^2*y + 3*x_L_2*y^2 + y^3 + 2026*x_L_2^2 + 4052*x_L_2*y + 2026*y^2 - 2402*x_L_2 + x_R_2 - x_L_3 - 2402*y - 1021, x_L_2 - x_R_3, x_L_3^3 + 3*x_L_3^2*y + 3*x_L_3*y^2 + y^3 + 3750*x_L_3^2 - 691*x_L_3*y + 3750*y^2 + 2248*x_L_3 + x_R_3 + 2249*y - 336, x_L_3 - 2319]\n",
      "\n",
      "--- Degree 0 ---\n",
      "Computing all monomials up to degree: 0\n",
      "Time needed: 0.0005478858947753906\n",
      "Computing Macaulay matrix.\n",
      "Time needed: 3.5762786865234375e-06\n",
      "Performing Gaussian Elimination.\n",
      "Time needed: 0.00017976760864257812\n",
      "Is Groebner Basis: False\n",
      "\n",
      "--- Degree 1 ---\n",
      "Computing all monomials up to degree: 1\n",
      "Time needed: 0.0022296905517578125\n",
      "Computing Macaulay matrix.\n",
      "Time needed: 2.1457672119140625e-06\n",
      "Performing Gaussian Elimination.\n",
      "Time needed: 0.00021696090698242188\n",
      "Is Groebner Basis: False\n",
      "\n",
      "--- Degree 2 ---\n",
      "Computing all monomials up to degree: 2\n",
      "Time needed: 0.0023851394653320312\n",
      "Computing Macaulay matrix.\n",
      "Time needed: 2.384185791015625e-06\n",
      "Performing Gaussian Elimination.\n",
      "Time needed: 0.00033664703369140625\n",
      "Is Groebner Basis: False\n",
      "\n",
      "--- Degree 3 ---\n",
      "Computing all monomials up to degree: 3\n",
      "Time needed: 0.004842042922973633\n",
      "Computing Macaulay matrix.\n",
      "Time needed: 2.384185791015625e-06\n",
      "Performing Gaussian Elimination.\n",
      "Time needed: 0.0010008811950683594\n",
      "Is Groebner Basis: False\n",
      "\n",
      "--- Degree 4 ---\n",
      "Computing all monomials up to degree: 4\n",
      "Time needed: 0.007604837417602539\n",
      "Computing Macaulay matrix.\n",
      "Time needed: 3.814697265625e-06\n",
      "Performing Gaussian Elimination.\n",
      "Time needed: 0.0046803951263427734\n",
      "Is Groebner Basis: False\n",
      "\n",
      "--- Degree 5 ---\n",
      "Computing all monomials up to degree: 5\n",
      "Time needed: 0.014705657958984375\n",
      "Computing Macaulay matrix.\n",
      "Time needed: 4.0531158447265625e-06\n",
      "Performing Gaussian Elimination.\n",
      "Time needed: 0.034619808197021484\n",
      "Is Groebner Basis: False\n",
      "\n",
      "--- Degree 6 ---\n",
      "Computing all monomials up to degree: 6\n",
      "Time needed: 0.02698373794555664\n",
      "Computing Macaulay matrix.\n",
      "Time needed: 2.6226043701171875e-06\n",
      "Performing Gaussian Elimination.\n",
      "Time needed: 0.10808277130126953\n",
      "Is Groebner Basis: False\n",
      "\n",
      "--- Degree 7 ---\n",
      "Computing all monomials up to degree: 7\n",
      "Time needed: 0.12077474594116211\n",
      "Computing Macaulay matrix.\n",
      "Time needed: 7.867813110351562e-06\n",
      "Performing Gaussian Elimination.\n",
      "Time needed: 0.635728120803833\n",
      "Is Groebner Basis: False\n",
      "\n",
      "--- Degree 8 ---\n",
      "Computing all monomials up to degree: 8\n",
      "Time needed: 0.12775349617004395\n",
      "Computing Macaulay matrix.\n",
      "Time needed: 7.152557373046875e-06\n",
      "Performing Gaussian Elimination.\n",
      "Time needed: 4.003377437591553\n",
      "Is Groebner Basis: True\n",
      "Total time needed: 6.969628095626831\n"
     ]
    },
    {
     "data": {
      "text/plain": [
       "[x_L_1 - 1642,\n",
       " x_R_1 - 548,\n",
       " x_L_2 - 3223,\n",
       " x_R_2 - 1642,\n",
       " x_L_3 - 2319,\n",
       " x_R_3 - 3223,\n",
       " y + 881]"
      ]
     },
     "execution_count": 8,
     "metadata": {},
     "output_type": "execute_result"
    }
   ],
   "source": [
    "lazard_gb_algorithm(polys)"
   ]
  },
  {
   "cell_type": "code",
   "execution_count": 9,
   "metadata": {},
   "outputs": [
    {
     "name": "stdout",
     "output_type": "stream",
     "text": [
      "Ring: Multivariate Polynomial Ring in x_L_1, x_R_1, x_L_2, x_R_2, x_L_3, x_R_3, y, h over Finite Field of size 8191\n",
      "Input polynomials:\n",
      "[y^3 + 1862*y^2*h - x_L_1*h^2 - 1980*y*h^2 - 1209*h^3, -x_R_1 + 548*h, x_L_1^3 + 3*x_L_1^2*y + 3*x_L_1*y^2 + y^3 + 1453*x_L_1^2*h + 2906*x_L_1*y*h + 1453*y^2*h - 3420*x_L_1*h^2 + x_R_1*h^2 - x_L_2*h^2 - 3420*y*h^2 - 3343*h^3, x_L_1 - x_R_2, x_L_2^3 + 3*x_L_2^2*y + 3*x_L_2*y^2 + y^3 + 2026*x_L_2^2*h + 4052*x_L_2*y*h + 2026*y^2*h - 2402*x_L_2*h^2 + x_R_2*h^2 - x_L_3*h^2 - 2402*y*h^2 - 1021*h^3, x_L_2 - x_R_3, x_L_3^3 + 3*x_L_3^2*y + 3*x_L_3*y^2 + y^3 + 3750*x_L_3^2*h - 691*x_L_3*y*h + 3750*y^2*h + 2248*x_L_3*h^2 + x_R_3*h^2 + 2249*y*h^2 - 336*h^3, x_L_3 - 2319*h]\n",
      "\n",
      "--- Degree 0 ---\n",
      "Computing all monomials up to degree: 0\n",
      "Time needed: 0.0006594657897949219\n",
      "Computing Macaulay matrix.\n",
      "Time needed: 1.6689300537109375e-06\n",
      "Performing Gaussian Elimination.\n",
      "Time needed: 8.344650268554688e-05\n",
      "Is Groebner Basis: False\n",
      "\n",
      "--- Degree 1 ---\n",
      "Computing all monomials up to degree: 1\n",
      "Time needed: 0.0013086795806884766\n",
      "Computing Macaulay matrix.\n",
      "Time needed: 1.1920928955078125e-06\n",
      "Performing Gaussian Elimination.\n",
      "Time needed: 0.00016880035400390625\n",
      "Is Groebner Basis: False\n",
      "\n",
      "--- Degree 2 ---\n",
      "Computing all monomials up to degree: 2\n",
      "Time needed: 0.0021882057189941406\n",
      "Computing Macaulay matrix.\n",
      "Time needed: 3.0994415283203125e-06\n",
      "Performing Gaussian Elimination.\n",
      "Time needed: 0.0006239414215087891\n",
      "Is Groebner Basis: False\n",
      "\n",
      "--- Degree 3 ---\n",
      "Computing all monomials up to degree: 3\n",
      "Time needed: 0.007276058197021484\n",
      "Computing Macaulay matrix.\n",
      "Time needed: 3.5762786865234375e-06\n",
      "Performing Gaussian Elimination.\n",
      "Time needed: 0.001165151596069336\n",
      "Is Groebner Basis: False\n",
      "\n",
      "--- Degree 4 ---\n",
      "Computing all monomials up to degree: 4\n",
      "Time needed: 0.012929201126098633\n",
      "Computing Macaulay matrix.\n",
      "Time needed: 3.0994415283203125e-06\n",
      "Performing Gaussian Elimination.\n",
      "Time needed: 0.009186506271362305\n",
      "Is Groebner Basis: False\n",
      "\n",
      "--- Degree 5 ---\n",
      "Computing all monomials up to degree: 5\n",
      "Time needed: 0.023615121841430664\n",
      "Computing Macaulay matrix.\n",
      "Time needed: 4.76837158203125e-06\n",
      "Performing Gaussian Elimination.\n",
      "Time needed: 0.06765270233154297\n",
      "Is Groebner Basis: False\n",
      "\n",
      "--- Degree 6 ---\n",
      "Computing all monomials up to degree: 6\n",
      "Time needed: 0.07496428489685059\n",
      "Computing Macaulay matrix.\n",
      "Time needed: 4.291534423828125e-06\n",
      "Performing Gaussian Elimination.\n",
      "Time needed: 0.22660303115844727\n",
      "Is Groebner Basis: False\n",
      "\n",
      "--- Degree 7 ---\n",
      "Computing all monomials up to degree: 7\n",
      "Time needed: 0.10737395286560059\n",
      "Computing Macaulay matrix.\n",
      "Time needed: 6.67572021484375e-06\n",
      "Performing Gaussian Elimination.\n",
      "Time needed: 2.280935525894165\n",
      "Is Groebner Basis: False\n",
      "\n",
      "--- Degree 8 ---\n",
      "Computing all monomials up to degree: 8\n",
      "Time needed: 0.2504444122314453\n",
      "Computing Macaulay matrix.\n",
      "Time needed: 5.245208740234375e-06\n",
      "Performing Gaussian Elimination.\n",
      "Time needed: 17.024751663208008\n",
      "Is Groebner Basis: True\n",
      "Total time needed: 23.95747447013855\n"
     ]
    },
    {
     "data": {
      "text/plain": [
       "[x_R_2*h^7 - 1642*h^8,\n",
       " x_R_3*h^7 - 3223*h^8,\n",
       " y*h^7 + 881*h^8,\n",
       " x_R_2*x_R_3*h^5 - 2938*x_R_2*h^6 + 3732*x_R_3*h^6 + 497*y*h^6 - 1197*h^7,\n",
       " x_R_3^2*h^5 + 1004*x_R_2*h^6 - 847*x_R_3*h^6 - 2993*y*h^6 - 771*h^7,\n",
       " x_R_3*y*h^5 - 867*x_R_2*h^6 + 1992*x_R_3*h^6 - 140*y*h^6 - 3381*h^7,\n",
       " x_R_2*x_R_3^2*h^3 + 2476*x_R_2*x_R_3*h^4 - 3453*x_R_3^2*h^4 + 206*x_R_3*y*h^4 - 3692*x_R_2*h^5 + 1211*x_R_3*h^5 + 409*y*h^5 - 1995*h^6,\n",
       " x_R_3^2*y*h^3 + 354*x_R_2*x_R_3*h^4 + 3886*x_R_3^2*h^4 + 2207*x_R_3*y*h^4 + 1066*x_R_2*h^5 + 29*x_R_3*h^5 + 1588*y*h^5 + 3558*h^6,\n",
       " x_R_2^2*h^3 + 2*x_R_2*x_R_3*h^3 + x_R_3^2*h^3 + 1784*x_R_3*y*h^3 + 1541*x_R_2*h^4 - 2332*x_R_3*h^4 + 1945*y*h^4 + 3693*h^5,\n",
       " x_R_2*y*h^2 + x_R_3*y*h^2 + 1996*x_R_2*h^3 + 1342*x_R_3*h^3 + 539*y*h^3 + 503*h^4,\n",
       " x_R_2^3 + 3*x_R_2^2*y + 3*x_R_2*y^2 + 1453*x_R_2^2*h + 2906*x_R_2*y*h + 101*x_R_2*h^2 + 3519*x_R_3*h^2 - 1726*y*h^2 + 3497*h^3,\n",
       " x_R_3^3 + 3*x_R_3^2*y + 3*x_R_3*y^2 + 2026*x_R_3^2*h + 4052*x_R_3*y*h + 1154*x_R_2*h^2 - 1250*x_R_3*h^2 - 3792*y*h^2 + 2660*h^3,\n",
       " y^3 - 1106*x_R_2*h^2 - 1105*x_R_3*h^2 - 3682*y*h^2 + 744*h^3,\n",
       " y^2*h + 1791*x_R_2*h^2 + 1791*x_R_3*h^2 + 520*y*h^2 + 3417*h^3,\n",
       " x_L_1 - x_R_2,\n",
       " x_R_1 - 548*h,\n",
       " x_L_2 - x_R_3,\n",
       " x_L_3 - 2319*h]"
      ]
     },
     "execution_count": 9,
     "metadata": {},
     "output_type": "execute_result"
    }
   ],
   "source": [
    "lazard_gb_algorithm(polys_h)"
   ]
  },
  {
   "cell_type": "code",
   "execution_count": 10,
   "metadata": {},
   "outputs": [
    {
     "data": {
      "text/plain": [
       "S(0) <-- S(-1)⊕S(-1)⊕S(-1)⊕S(-1)⊕S(-3)⊕S(-3)⊕S(-3)⊕S(-3) <-- S(-2)⊕S(-2)⊕S(-2)⊕S(-2)⊕S(-2)⊕S(-2)⊕S(-4)⊕S(-4)⊕S(-4)⊕S(-4)⊕S(-4)⊕S(-4)⊕S(-4)⊕S(-4)⊕S(-6)⊕S(-4)⊕S(-4)⊕S(-4)⊕S(-4)⊕S(-6)⊕S(-6)⊕S(-4)⊕S(-4)⊕S(-4)⊕S(-4)⊕S(-6)⊕S(-6)⊕S(-6)⊕S(-9) <-- S(-3)⊕S(-3)⊕S(-3)⊕S(-3)⊕S(-5)⊕S(-5)⊕S(-5)⊕S(-5)⊕S(-5)⊕S(-5)⊕S(-5)⊕S(-5)⊕S(-5)⊕S(-5)⊕S(-5)⊕S(-5)⊕S(-7)⊕S(-7)⊕S(-7)⊕S(-7)⊕S(-5)⊕S(-5)⊕S(-5)⊕S(-5)⊕S(-5)⊕S(-5)⊕S(-7)⊕S(-7)⊕S(-7)⊕S(-7)⊕S(-7)⊕S(-7)⊕S(-7)⊕S(-7)⊕S(-9)⊕S(-5)⊕S(-5)⊕S(-5)⊕S(-5)⊕S(-5)⊕S(-5)⊕S(-7)⊕S(-7)⊕S(-7)⊕S(-7)⊕S(-7)⊕S(-7)⊕S(-7)⊕S(-7)⊕S(-9)⊕S(-7)⊕S(-7)⊕S(-7)⊕S(-7)⊕S(-9)⊕S(-9)⊕S(-10)⊕S(-10)⊕S(-10)⊕S(-10)⊕S(-10)⊕S(-10)⊕S(-10) <-- S(-4)⊕S(-11)⊕S(-11)⊕S(-11)⊕S(-6)⊕S(-6)⊕S(-6)⊕S(-6)⊕S(-6)⊕S(-6)⊕S(-6)⊕S(-6)⊕S(-8)⊕S(-8)⊕S(-8)⊕S(-8)⊕S(-8)⊕S(-8)⊕S(-6)⊕S(-6)⊕S(-6)⊕S(-6)⊕S(-8)⊕S(-8)⊕S(-8)⊕S(-8)⊕S(-8)⊕S(-8)⊕S(-8)⊕S(-8)⊕S(-8)⊕S(-8)⊕S(-8)⊕S(-8)⊕S(-10)⊕S(-10)⊕S(-10)⊕S(-10)⊕S(-6)⊕S(-6)⊕S(-6)⊕S(-6)⊕S(-8)⊕S(-8)⊕S(-8)⊕S(-8)⊕S(-8)⊕S(-8)⊕S(-8)⊕S(-8)⊕S(-8)⊕S(-8)⊕S(-8)⊕S(-8)⊕S(-10)⊕S(-10)⊕S(-10)⊕S(-10)⊕S(-8)⊕S(-8)⊕S(-8)⊕S(-8)⊕S(-8)⊕S(-8)⊕S(-10)⊕S(-10)⊕S(-10)⊕S(-10)⊕S(-10)⊕S(-10)⊕S(-10)⊕S(-10)⊕S(-11)⊕S(-11)⊕S(-11)⊕S(-11)⊕S(-11)⊕S(-11)⊕S(-11)⊕S(-11)⊕S(-11)⊕S(-11)⊕S(-11)⊕S(-11)⊕S(-11)⊕S(-11)⊕S(-11)⊕S(-11)⊕S(-11)⊕S(-11) <-- S(-12)⊕S(-12)⊕S(-12)⊕S(-12)⊕S(-12)⊕S(-12)⊕S(-12)⊕S(-12)⊕S(-12)⊕S(-12)⊕S(-12)⊕S(-12)⊕S(-7)⊕S(-7)⊕S(-9)⊕S(-9)⊕S(-9)⊕S(-9)⊕S(-7)⊕S(-9)⊕S(-9)⊕S(-9)⊕S(-9)⊕S(-9)⊕S(-9)⊕S(-9)⊕S(-9)⊕S(-11)⊕S(-11)⊕S(-11)⊕S(-11)⊕S(-11)⊕S(-11)⊕S(-7)⊕S(-9)⊕S(-9)⊕S(-9)⊕S(-9)⊕S(-9)⊕S(-9)⊕S(-9)⊕S(-9)⊕S(-11)⊕S(-11)⊕S(-11)⊕S(-11)⊕S(-11)⊕S(-11)⊕S(-9)⊕S(-9)⊕S(-9)⊕S(-9)⊕S(-11)⊕S(-11)⊕S(-11)⊕S(-11)⊕S(-11)⊕S(-11)⊕S(-11)⊕S(-11)⊕S(-11)⊕S(-11)⊕S(-11)⊕S(-11)⊕S(-12)⊕S(-12)⊕S(-12)⊕S(-12)⊕S(-12)⊕S(-12)⊕S(-12)⊕S(-12)⊕S(-12)⊕S(-12)⊕S(-12)⊕S(-12)⊕S(-12)⊕S(-12)⊕S(-12)⊕S(-12)⊕S(-12)⊕S(-12)⊕S(-12)⊕S(-12)⊕S(-12)⊕S(-12) <-- S(-13)⊕S(-13)⊕S(-13)⊕S(-13)⊕S(-13)⊕S(-13)⊕S(-13)⊕S(-13)⊕S(-13)⊕S(-13)⊕S(-13)⊕S(-13)⊕S(-13)⊕S(-13)⊕S(-13)⊕S(-13)⊕S(-13)⊕S(-13)⊕S(-10)⊕S(-10)⊕S(-10)⊕S(-12)⊕S(-12)⊕S(-12)⊕S(-12)⊕S(-10)⊕S(-10)⊕S(-12)⊕S(-12)⊕S(-12)⊕S(-12)⊕S(-10)⊕S(-12)⊕S(-12)⊕S(-12)⊕S(-12)⊕S(-12)⊕S(-12)⊕S(-12)⊕S(-12)⊕S(-13)⊕S(-13)⊕S(-13)⊕S(-13)⊕S(-13)⊕S(-13)⊕S(-13)⊕S(-13)⊕S(-13)⊕S(-13)⊕S(-13)⊕S(-13)⊕S(-13) <-- S(-14)⊕S(-14)⊕S(-14)⊕S(-14)⊕S(-14)⊕S(-14)⊕S(-14)⊕S(-14)⊕S(-14)⊕S(-14)⊕S(-14)⊕S(-14)⊕S(-13)⊕S(-13)⊕S(-13)⊕S(-13)⊕S(-14)⊕S(-14)⊕S(-14) <-- S(-15)⊕S(-15)⊕S(-15) <-- 0"
      ]
     },
     "execution_count": 10,
     "metadata": {},
     "output_type": "execute_result"
    }
   ],
   "source": [
    "res = ideal(polys_h).graded_free_resolution(algorithm=\"minimal\")\n",
    "res"
   ]
  },
  {
   "cell_type": "code",
   "execution_count": 11,
   "metadata": {},
   "outputs": [
    {
     "data": {
      "text/plain": [
       "8"
      ]
     },
     "execution_count": 11,
     "metadata": {},
     "output_type": "execute_result"
    }
   ],
   "source": [
    "cm_regularity(res)"
   ]
  },
  {
   "cell_type": "markdown",
   "metadata": {},
   "source": [
    "## p = 2^13 - 1, r = 5"
   ]
  },
  {
   "cell_type": "code",
   "execution_count": 12,
   "metadata": {},
   "outputs": [
    {
     "name": "stdout",
     "output_type": "stream",
     "text": [
      "Feistel-MiMC Parameters\n",
      "Field: Finite Field of size 8191\n",
      "r: 5\n",
      "Constants: [1674, 5239, 7482, 3311, 1545]\n",
      "\n",
      "Key: 3733\n",
      "Plain: (5019, 4902)\n",
      "Cipher: (5628, 6815)\n",
      "\n",
      "y^3 + 3697*y^2 - x_L_1 - 990*y - 409\n",
      "-x_R_1 - 3172\n",
      "\n",
      "\n",
      "x_L_1^3 + 3*x_L_1^2*y + 3*x_L_1*y^2 + y^3 - 665*x_L_1^2 - 1330*x_L_1*y - 665*y^2 - 2760*x_L_1 + x_R_1 - x_L_2 - 2760*y - 3572\n",
      "x_L_1 - x_R_2\n",
      "\n",
      "\n",
      "x_L_2^3 + 3*x_L_2^2*y + 3*x_L_2*y^2 + y^3 - 2127*x_L_2^2 + 3937*x_L_2*y - 2127*y^2 + 899*x_L_2 + x_R_2 - x_L_3 + 899*y - 2228\n",
      "x_L_2 - x_R_3\n",
      "\n",
      "\n",
      "x_L_3^3 + 3*x_L_3^2*y + 3*x_L_3*y^2 + y^3 + 1742*x_L_3^2 + 3484*x_L_3*y + 1742*y^2 + 1298*x_L_3 + x_R_3 - x_L_4 + 1298*y - 3596\n",
      "x_L_3 - x_R_4\n",
      "\n",
      "\n",
      "x_L_4^3 + 3*x_L_4^2*y + 3*x_L_4*y^2 + y^3 - 3556*x_L_4^2 + 1079*x_L_4*y - 3556*y^2 + 2141*x_L_4 + x_R_4 + 2142*y - 607\n",
      "x_L_4 + 1376\n",
      "\n",
      "\n"
     ]
    }
   ],
   "source": [
    "p = 2**13 - 1\n",
    "field = GF(p, \"a\")\n",
    "\n",
    "rounds = 5\n",
    "\n",
    "feistel_mimc = Feistel_MiMC(field=field, rounds=rounds)\n",
    "\n",
    "print(\"\")\n",
    "\n",
    "key = field.random_element()\n",
    "plain = vector([field.random_element(), field.random_element()])\n",
    "cipher = feistel_mimc.encryption(plain, key)\n",
    "print(\"Key:\", key)\n",
    "print(\"Plain:\", plain)\n",
    "print(\"Cipher:\", cipher)\n",
    "\n",
    "print(\"\")\n",
    "\n",
    "polys = feistel_mimc.generate_polynomials(plain, cipher, info_level=0)\n",
    "polys_h = [poly.homogenize() for poly in polys]\n",
    "\n",
    "for i in range(0, 2 * rounds, 2):\n",
    "    print(polys[i])\n",
    "    print(polys[i + 1])\n",
    "    print(\"\\n\")"
   ]
  },
  {
   "cell_type": "code",
   "execution_count": 13,
   "metadata": {},
   "outputs": [
    {
     "name": "stdout",
     "output_type": "stream",
     "text": [
      "Ring: Multivariate Polynomial Ring in x_L_1, x_R_1, x_L_2, x_R_2, x_L_3, x_R_3, x_L_4, x_R_4, y over Finite Field of size 8191\n",
      "Input polynomials:\n",
      "[y^3 + 3697*y^2 - x_L_1 - 990*y - 409, -x_R_1 - 3172, x_L_1^3 + 3*x_L_1^2*y + 3*x_L_1*y^2 + y^3 - 665*x_L_1^2 - 1330*x_L_1*y - 665*y^2 - 2760*x_L_1 + x_R_1 - x_L_2 - 2760*y - 3572, x_L_1 - x_R_2, x_L_2^3 + 3*x_L_2^2*y + 3*x_L_2*y^2 + y^3 - 2127*x_L_2^2 + 3937*x_L_2*y - 2127*y^2 + 899*x_L_2 + x_R_2 - x_L_3 + 899*y - 2228, x_L_2 - x_R_3, x_L_3^3 + 3*x_L_3^2*y + 3*x_L_3*y^2 + y^3 + 1742*x_L_3^2 + 3484*x_L_3*y + 1742*y^2 + 1298*x_L_3 + x_R_3 - x_L_4 + 1298*y - 3596, x_L_3 - x_R_4, x_L_4^3 + 3*x_L_4^2*y + 3*x_L_4*y^2 + y^3 - 3556*x_L_4^2 + 1079*x_L_4*y - 3556*y^2 + 2141*x_L_4 + x_R_4 + 2142*y - 607, x_L_4 + 1376]\n",
      "\n",
      "--- Degree 0 ---\n",
      "Computing all monomials up to degree: 0\n",
      "Time needed: 0.00026035308837890625\n",
      "Computing Macaulay matrix.\n",
      "Time needed: 2.86102294921875e-06\n",
      "Performing Gaussian Elimination.\n",
      "Time needed: 0.00010991096496582031\n",
      "Is Groebner Basis: False\n",
      "\n",
      "--- Degree 1 ---\n",
      "Computing all monomials up to degree: 1\n",
      "Time needed: 0.0024907588958740234\n",
      "Computing Macaulay matrix.\n",
      "Time needed: 2.6226043701171875e-06\n",
      "Performing Gaussian Elimination.\n",
      "Time needed: 0.0002827644348144531\n",
      "Is Groebner Basis: False\n",
      "\n",
      "--- Degree 2 ---\n",
      "Computing all monomials up to degree: 2\n",
      "Time needed: 0.0028867721557617188\n",
      "Computing Macaulay matrix.\n",
      "Time needed: 5.7220458984375e-06\n",
      "Performing Gaussian Elimination.\n",
      "Time needed: 0.0007371902465820312\n",
      "Is Groebner Basis: False\n",
      "\n",
      "--- Degree 3 ---\n",
      "Computing all monomials up to degree: 3\n",
      "Time needed: 0.00830841064453125\n",
      "Computing Macaulay matrix.\n",
      "Time needed: 4.0531158447265625e-06\n",
      "Performing Gaussian Elimination.\n",
      "Time needed: 0.003910064697265625\n",
      "Is Groebner Basis: False\n",
      "\n",
      "--- Degree 4 ---\n",
      "Computing all monomials up to degree: 4\n",
      "Time needed: 0.023049354553222656\n",
      "Computing Macaulay matrix.\n",
      "Time needed: 4.5299530029296875e-06\n",
      "Performing Gaussian Elimination.\n",
      "Time needed: 0.02335500717163086\n",
      "Is Groebner Basis: False\n",
      "\n",
      "--- Degree 5 ---\n",
      "Computing all monomials up to degree: 5\n",
      "Time needed: 0.057821035385131836\n",
      "Computing Macaulay matrix.\n",
      "Time needed: 7.62939453125e-06\n",
      "Performing Gaussian Elimination.\n",
      "Time needed: 0.21958208084106445\n",
      "Is Groebner Basis: False\n",
      "\n",
      "--- Degree 6 ---\n",
      "Computing all monomials up to degree: 6\n",
      "Time needed: 0.16864895820617676\n",
      "Computing Macaulay matrix.\n",
      "Time needed: 8.106231689453125e-06\n",
      "Performing Gaussian Elimination.\n",
      "Time needed: 1.1778621673583984\n",
      "Is Groebner Basis: False\n",
      "\n",
      "--- Degree 7 ---\n",
      "Computing all monomials up to degree: 7\n",
      "Time needed: 0.3205411434173584\n",
      "Computing Macaulay matrix.\n",
      "Time needed: 5.245208740234375e-06\n",
      "Performing Gaussian Elimination.\n",
      "Time needed: 14.577434301376343\n",
      "Is Groebner Basis: False\n",
      "\n",
      "--- Degree 8 ---\n",
      "Computing all monomials up to degree: 8\n",
      "Time needed: 0.671377420425415\n",
      "Computing Macaulay matrix.\n",
      "Time needed: 6.9141387939453125e-06\n",
      "Performing Gaussian Elimination.\n",
      "Time needed: 121.5702052116394\n",
      "Is Groebner Basis: False\n",
      "\n",
      "--- Degree 9 ---\n",
      "Computing all monomials up to degree: 9\n",
      "Time needed: 1.7684202194213867\n",
      "Computing Macaulay matrix.\n",
      "Time needed: 0.00010085105895996094\n",
      "Performing Gaussian Elimination.\n",
      "Time needed: 598.1171569824219\n",
      "Is Groebner Basis: False\n",
      "\n",
      "--- Degree 10 ---\n",
      "Computing all monomials up to degree: 10\n",
      "Time needed: 2.0460026264190674\n",
      "Computing Macaulay matrix.\n",
      "Time needed: 5.245208740234375e-06\n",
      "Performing Gaussian Elimination.\n",
      "Time needed: 2367.3065440654755\n",
      "Is Groebner Basis: True\n",
      "Total time needed: 3147.9679090976715\n"
     ]
    },
    {
     "data": {
      "text/plain": [
       "[x_L_1 + 223,\n",
       " x_R_1 + 3172,\n",
       " x_L_2 + 1361,\n",
       " x_R_2 + 223,\n",
       " x_L_3 - 1007,\n",
       " x_R_3 + 1361,\n",
       " x_L_4 + 1376,\n",
       " x_R_4 - 1007,\n",
       " y - 3733]"
      ]
     },
     "execution_count": 13,
     "metadata": {},
     "output_type": "execute_result"
    }
   ],
   "source": [
    "lazard_gb_algorithm(polys)"
   ]
  },
  {
   "cell_type": "code",
   "execution_count": 14,
   "metadata": {},
   "outputs": [
    {
     "name": "stdout",
     "output_type": "stream",
     "text": [
      "Ring: Multivariate Polynomial Ring in x_L_1, x_R_1, x_L_2, x_R_2, x_L_3, x_R_3, x_L_4, x_R_4, y, h over Finite Field of size 8191\n",
      "Input polynomials:\n",
      "[y^3 + 3697*y^2*h - x_L_1*h^2 - 990*y*h^2 - 409*h^3, -x_R_1 - 3172*h, x_L_1^3 + 3*x_L_1^2*y + 3*x_L_1*y^2 + y^3 - 665*x_L_1^2*h - 1330*x_L_1*y*h - 665*y^2*h - 2760*x_L_1*h^2 + x_R_1*h^2 - x_L_2*h^2 - 2760*y*h^2 - 3572*h^3, x_L_1 - x_R_2, x_L_2^3 + 3*x_L_2^2*y + 3*x_L_2*y^2 + y^3 - 2127*x_L_2^2*h + 3937*x_L_2*y*h - 2127*y^2*h + 899*x_L_2*h^2 + x_R_2*h^2 - x_L_3*h^2 + 899*y*h^2 - 2228*h^3, x_L_2 - x_R_3, x_L_3^3 + 3*x_L_3^2*y + 3*x_L_3*y^2 + y^3 + 1742*x_L_3^2*h + 3484*x_L_3*y*h + 1742*y^2*h + 1298*x_L_3*h^2 + x_R_3*h^2 - x_L_4*h^2 + 1298*y*h^2 - 3596*h^3, x_L_3 - x_R_4, x_L_4^3 + 3*x_L_4^2*y + 3*x_L_4*y^2 + y^3 - 3556*x_L_4^2*h + 1079*x_L_4*y*h - 3556*y^2*h + 2141*x_L_4*h^2 + x_R_4*h^2 + 2142*y*h^2 - 607*h^3, x_L_4 + 1376*h]\n",
      "\n",
      "--- Degree 0 ---\n",
      "Computing all monomials up to degree: 0\n",
      "Time needed: 0.0011706352233886719\n",
      "Computing Macaulay matrix.\n",
      "Time needed: 2.6226043701171875e-06\n",
      "Performing Gaussian Elimination.\n",
      "Time needed: 0.00027823448181152344\n",
      "Is Groebner Basis: False\n",
      "\n",
      "--- Degree 1 ---\n",
      "Computing all monomials up to degree: 1\n",
      "Time needed: 0.00341033935546875\n",
      "Computing Macaulay matrix.\n",
      "Time needed: 3.0994415283203125e-06\n",
      "Performing Gaussian Elimination.\n",
      "Time needed: 0.0002548694610595703\n",
      "Is Groebner Basis: False\n",
      "\n",
      "--- Degree 2 ---\n",
      "Computing all monomials up to degree: 2\n",
      "Time needed: 0.004587888717651367\n",
      "Computing Macaulay matrix.\n",
      "Time needed: 4.0531158447265625e-06\n",
      "Performing Gaussian Elimination.\n",
      "Time needed: 0.0011301040649414062\n",
      "Is Groebner Basis: False\n",
      "\n",
      "--- Degree 3 ---\n",
      "Computing all monomials up to degree: 3\n",
      "Time needed: 0.014875650405883789\n",
      "Computing Macaulay matrix.\n",
      "Time needed: 3.814697265625e-06\n",
      "Performing Gaussian Elimination.\n",
      "Time needed: 0.0045986175537109375\n",
      "Is Groebner Basis: False\n",
      "\n",
      "--- Degree 4 ---\n",
      "Computing all monomials up to degree: 4\n",
      "Time needed: 0.04733848571777344\n",
      "Computing Macaulay matrix.\n",
      "Time needed: 3.0994415283203125e-06\n",
      "Performing Gaussian Elimination.\n",
      "Time needed: 0.038320302963256836\n",
      "Is Groebner Basis: False\n",
      "\n",
      "--- Degree 5 ---\n",
      "Computing all monomials up to degree: 5\n",
      "Time needed: 0.07867598533630371\n",
      "Computing Macaulay matrix.\n",
      "Time needed: 4.0531158447265625e-06\n",
      "Performing Gaussian Elimination.\n",
      "Time needed: 0.3172585964202881\n",
      "Is Groebner Basis: False\n",
      "\n",
      "--- Degree 6 ---\n",
      "Computing all monomials up to degree: 6\n",
      "Time needed: 0.40191078186035156\n",
      "Computing Macaulay matrix.\n",
      "Time needed: 7.62939453125e-06\n",
      "Performing Gaussian Elimination.\n",
      "Time needed: 2.9388041496276855\n",
      "Is Groebner Basis: False\n",
      "\n",
      "--- Degree 7 ---\n",
      "Computing all monomials up to degree: 7\n",
      "Time needed: 0.5343680381774902\n",
      "Computing Macaulay matrix.\n",
      "Time needed: 7.152557373046875e-06\n",
      "Performing Gaussian Elimination.\n",
      "Time needed: 49.20562028884888\n",
      "Is Groebner Basis: False\n",
      "\n",
      "--- Degree 8 ---\n",
      "Computing all monomials up to degree: 8\n",
      "Time needed: 1.2223210334777832\n",
      "Computing Macaulay matrix.\n",
      "Time needed: 8.106231689453125e-06\n",
      "Performing Gaussian Elimination.\n",
      "Time needed: 319.66847801208496\n",
      "Is Groebner Basis: False\n",
      "\n",
      "--- Degree 9 ---\n",
      "Computing all monomials up to degree: 9\n",
      "Time needed: 2.4990789890289307\n",
      "Computing Macaulay matrix.\n",
      "Time needed: 7.152557373046875e-06\n",
      "Performing Gaussian Elimination.\n",
      "Time needed: 1702.0158829689026\n",
      "Is Groebner Basis: False\n",
      "\n",
      "--- Degree 10 ---\n",
      "Computing all monomials up to degree: 10\n",
      "Time needed: 5.806915283203125\n",
      "Computing Macaulay matrix.\n",
      "Time needed: 8.58306884765625e-06\n",
      "Performing Gaussian Elimination.\n",
      "Time needed: 6765.684726715088\n",
      "Is Groebner Basis: True\n",
      "Total time needed: 8941.061687469482\n"
     ]
    },
    {
     "data": {
      "text/plain": [
       "[x_R_2*h^9 + 223*h^10,\n",
       " x_R_3*h^9 + 1361*h^10,\n",
       " x_R_4*h^9 - 1007*h^10,\n",
       " y*h^9 - 3733*h^10,\n",
       " x_R_3^2*h^7 + 2007*x_R_2*h^8 - 2958*x_R_3*h^8 - 2544*x_R_4*h^8 - 1571*y*h^8 - 2153*h^9,\n",
       " x_R_4^2*h^7 + 103*x_R_2*h^8 + 3286*x_R_3*h^8 + 1299*x_R_4*h^8 - 1739*y*h^8 - 1318*h^9,\n",
       " x_R_3*y*h^7 - 1067*x_R_2*h^8 + 2671*x_R_3*h^8 + 2482*x_R_4*h^8 - 1770*y*h^8 - 3628*h^9,\n",
       " x_R_4*y*h^7 - 3661*x_R_2*h^8 - 2921*x_R_3*h^8 + 461*x_R_4*h^8 + 1939*y*h^8 - 2585*h^9,\n",
       " x_R_3^2*y*h^5 + 672*x_R_3^2*h^6 + 378*x_R_4^2*h^6 - 1749*x_R_3*y*h^6 - 2819*x_R_4*y*h^6 - 1870*x_R_2*h^7 + 2067*x_R_3*h^7 + 2486*x_R_4*h^7 + 898*y*h^7 - 3772*h^8,\n",
       " x_R_2*x_R_3*h^5 - 1188*x_R_4^2*h^5 + 3886*x_R_3*y*h^5 - 3398*x_R_4*y*h^5 - 718*x_R_2*h^6 - 1336*x_R_3*h^6 - 2459*x_R_4*h^6 - 2738*y*h^6 - 2984*h^7,\n",
       " x_R_2*x_R_4*h^5 - 3395*x_R_4^2*h^5 + 1441*x_R_3*y*h^5 + 3364*x_R_4*y*h^5 - 2498*x_R_2*h^6 + 1814*x_R_3*h^6 - 3513*x_R_4*h^6 + 2448*y*h^6 + 1042*h^7,\n",
       " x_R_3*x_R_4*h^5 + 3864*x_R_4^2*h^5 + 1355*x_R_3*y*h^5 - 258*x_R_4*y*h^5 - 3171*x_R_2*h^6 - 2279*x_R_3*h^6 + 472*x_R_4*h^6 - 808*y*h^6 - 2844*h^7,\n",
       " x_R_2*x_R_4^2*h^3 - 2780*x_R_2*x_R_4*h^4 + 1403*x_R_4^2*h^4 + 1145*x_R_4*y*h^4 + 2231*x_R_2*h^5 + 2555*x_R_3*h^5 + 2851*x_R_4*h^5 + 770*y*h^5 + 2342*h^6,\n",
       " x_R_4^2*y*h^3 + 2566*x_R_2*x_R_4*h^4 - 587*x_R_4^2*h^4 - 1941*x_R_4*y*h^4 - 221*x_R_2*h^5 - 3964*x_R_3*h^5 + 2470*x_R_4*h^5 + 2484*y*h^5 + 3761*h^6,\n",
       " x_R_2^2*h^3 + 2*x_R_2*x_R_4*h^3 + x_R_4^2*h^3 + 2878*x_R_4*y*h^3 - 3916*x_R_2*h^4 - 2583*x_R_4*h^4 - 3339*y*h^4 - 2769*h^5,\n",
       " x_R_2*y*h^2 + x_R_4*y*h^2 - 2506*x_R_2*h^3 + 684*x_R_4*h^3 - 725*y*h^3 - 1684*h^4,\n",
       " x_R_2^3 + 3*x_R_2^2*y + 3*x_R_2*y^2 - 665*x_R_2^2*h - 1330*x_R_2*y*h - 547*x_R_2*h^2 - x_R_3*h^2 + 2212*x_R_4*h^2 + 2572*y*h^2 - 2917*h^3,\n",
       " x_R_3^3 + 3*x_R_3^2*y + 3*x_R_3*y^2 - 2127*x_R_3^2*h + 3937*x_R_3*y*h + 2193*x_R_2*h^2 + 899*x_R_3*h^2 + 2190*x_R_4*h^2 - 3712*y*h^2 - 2840*h^3,\n",
       " x_R_4^3 + 3*x_R_4^2*y + 3*x_R_4*y^2 + 1742*x_R_4^2*h + 3484*x_R_4*y*h + 2735*x_R_2*h^2 + x_R_3*h^2 + 4032*x_R_4*h^2 + 3374*y*h^2 - 1556*h^3,\n",
       " y^3 + 1985*x_R_2*h^2 + 1986*x_R_4*h^2 - 291*y*h^2 - 3028*h^3,\n",
       " y^2*h - 3849*x_R_2*h^2 - 3849*x_R_4*h^2 + 3013*y*h^2 - 356*h^3,\n",
       " x_L_1 - x_R_2,\n",
       " x_R_1 + 3172*h,\n",
       " x_L_2 - x_R_3,\n",
       " x_L_3 - x_R_4,\n",
       " x_L_4 + 1376*h]"
      ]
     },
     "execution_count": 14,
     "metadata": {},
     "output_type": "execute_result"
    }
   ],
   "source": [
    "lazard_gb_algorithm(polys_h)"
   ]
  },
  {
   "cell_type": "code",
   "execution_count": 15,
   "metadata": {},
   "outputs": [
    {
     "data": {
      "text/plain": [
       "S(0) <-- S(-1)⊕S(-1)⊕S(-1)⊕S(-1)⊕S(-1)⊕S(-3)⊕S(-3)⊕S(-3)⊕S(-3)⊕S(-3) <-- S(-2)⊕S(-2)⊕S(-2)⊕S(-2)⊕S(-2)⊕S(-2)⊕S(-2)⊕S(-2)⊕S(-2)⊕S(-2)⊕S(-4)⊕S(-4)⊕S(-4)⊕S(-4)⊕S(-4)⊕S(-4)⊕S(-4)⊕S(-4)⊕S(-4)⊕S(-4)⊕S(-6)⊕S(-4)⊕S(-4)⊕S(-4)⊕S(-4)⊕S(-4)⊕S(-6)⊕S(-6)⊕S(-4)⊕S(-4)⊕S(-4)⊕S(-4)⊕S(-4)⊕S(-6)⊕S(-6)⊕S(-6)⊕S(-4)⊕S(-4)⊕S(-4)⊕S(-4)⊕S(-4)⊕S(-6)⊕S(-6)⊕S(-6)⊕S(-6)⊕S(-11) <-- S(-3)⊕S(-3)⊕S(-3)⊕S(-3)⊕S(-3)⊕S(-3)⊕S(-3)⊕S(-3)⊕S(-3)⊕S(-3)⊕S(-5)⊕S(-5)⊕S(-5)⊕S(-5)⊕S(-5)⊕S(-5)⊕S(-5)⊕S(-5)⊕S(-5)⊕S(-5)⊕S(-5)⊕S(-5)⊕S(-5)⊕S(-5)⊕S(-5)⊕S(-5)⊕S(-5)⊕S(-5)⊕S(-5)⊕S(-5)⊕S(-7)⊕S(-7)⊕S(-7)⊕S(-7)⊕S(-7)⊕S(-5)⊕S(-5)⊕S(-5)⊕S(-5)⊕S(-5)⊕S(-5)⊕S(-5)⊕S(-5)⊕S(-5)⊕S(-5)⊕S(-7)⊕S(-7)⊕S(-7)⊕S(-7)⊕S(-7)⊕S(-7)⊕S(-7)⊕S(-7)⊕S(-7)⊕S(-7)⊕S(-9)⊕S(-5)⊕S(-5)⊕S(-5)⊕S(-5)⊕S(-5)⊕S(-5)⊕S(-5)⊕S(-5)⊕S(-5)⊕S(-5)⊕S(-7)⊕S(-7)⊕S(-7)⊕S(-7)⊕S(-7)⊕S(-7)⊕S(-7)⊕S(-7)⊕S(-7)⊕S(-7)⊕S(-9)⊕S(-7)⊕S(-7)⊕S(-7)⊕S(-7)⊕S(-7)⊕S(-9)⊕S(-9)⊕S(-5)⊕S(-5)⊕S(-5)⊕S(-5)⊕S(-5)⊕S(-5)⊕S(-5)⊕S(-5)⊕S(-5)⊕S(-5)⊕S(-7)⊕S(-7)⊕S(-7)⊕S(-7)⊕S(-7)⊕S(-7)⊕S(-7)⊕S(-7)⊕S(-7)⊕S(-7)⊕S(-9)⊕S(-7)⊕S(-7)⊕S(-7)⊕S(-7)⊕S(-7)⊕S(-9)⊕S(-9)⊕S(-7)⊕S(-7)⊕S(-7)⊕S(-7)⊕S(-7)⊕S(-9)⊕S(-9)⊕S(-9)⊕S(-12)⊕S(-12)⊕S(-12)⊕S(-12)⊕S(-12)⊕S(-12)⊕S(-12)⊕S(-12)⊕S(-12) <-- S(-4)⊕S(-4)⊕S(-4)⊕S(-4)⊕S(-4)⊕S(-6)⊕S(-6)⊕S(-6)⊕S(-6)⊕S(-6)⊕S(-6)⊕S(-6)⊕S(-6)⊕S(-6)⊕S(-6)⊕S(-6)⊕S(-6)⊕S(-6)⊕S(-6)⊕S(-6)⊕S(-6)⊕S(-6)⊕S(-6)⊕S(-6)⊕S(-6)⊕S(-8)⊕S(-8)⊕S(-8)⊕S(-8)⊕S(-8)⊕S(-8)⊕S(-8)⊕S(-8)⊕S(-8)⊕S(-8)⊕S(-6)⊕S(-6)⊕S(-6)⊕S(-6)⊕S(-6)⊕S(-6)⊕S(-6)⊕S(-6)⊕S(-6)⊕S(-6)⊕S(-8)⊕S(-8)⊕S(-8)⊕S(-8)⊕S(-8)⊕S(-8)⊕S(-8)⊕S(-8)⊕S(-8)⊕S(-8)⊕S(-8)⊕S(-8)⊕S(-8)⊕S(-8)⊕S(-8)⊕S(-8)⊕S(-8)⊕S(-8)⊕S(-8)⊕S(-8)⊕S(-10)⊕S(-10)⊕S(-10)⊕S(-10)⊕S(-10)⊕S(-6)⊕S(-6)⊕S(-6)⊕S(-6)⊕S(-6)⊕S(-6)⊕S(-6)⊕S(-6)⊕S(-6)⊕S(-6)⊕S(-8)⊕S(-8)⊕S(-8)⊕S(-8)⊕S(-8)⊕S(-8)⊕S(-8)⊕S(-8)⊕S(-8)⊕S(-8)⊕S(-8)⊕S(-8)⊕S(-8)⊕S(-8)⊕S(-8)⊕S(-8)⊕S(-8)⊕S(-8)⊕S(-8)⊕S(-8)⊕S(-10)⊕S(-10)⊕S(-10)⊕S(-10)⊕S(-10)⊕S(-8)⊕S(-8)⊕S(-8)⊕S(-8)⊕S(-8)⊕S(-8)⊕S(-8)⊕S(-8)⊕S(-8)⊕S(-8)⊕S(-10)⊕S(-10)⊕S(-10)⊕S(-10)⊕S(-10)⊕S(-10)⊕S(-10)⊕S(-10)⊕S(-10)⊕S(-10)⊕S(-12)⊕S(-6)⊕S(-6)⊕S(-6)⊕S(-6)⊕S(-6)⊕S(-6)⊕S(-6)⊕S(-6)⊕S(-6)⊕S(-6)⊕S(-8)⊕S(-8)⊕S(-8)⊕S(-8)⊕S(-8)⊕S(-8)⊕S(-8)⊕S(-8)⊕S(-8)⊕S(-8)⊕S(-8)⊕S(-8)⊕S(-8)⊕S(-8)⊕S(-8)⊕S(-8)⊕S(-8)⊕S(-8)⊕S(-8)⊕S(-8)⊕S(-10)⊕S(-10)⊕S(-10)⊕S(-10)⊕S(-10)⊕S(-8)⊕S(-8)⊕S(-8)⊕S(-8)⊕S(-8)⊕S(-8)⊕S(-8)⊕S(-8)⊕S(-8)⊕S(-8)⊕S(-10)⊕S(-10)⊕S(-10)⊕S(-10)⊕S(-10)⊕S(-10)⊕S(-10)⊕S(-10)⊕S(-10)⊕S(-10)⊕S(-12)⊕S(-8)⊕S(-8)⊕S(-8)⊕S(-8)⊕S(-8)⊕S(-8)⊕S(-8)⊕S(-8)⊕S(-8)⊕S(-8)⊕S(-10)⊕S(-10)⊕S(-10)⊕S(-10)⊕S(-10)⊕S(-10)⊕S(-10)⊕S(-10)⊕S(-10)⊕S(-10)⊕S(-12)⊕S(-10)⊕S(-10)⊕S(-10)⊕S(-10)⊕S(-10)⊕S(-12)⊕S(-12)⊕S(-13)⊕S(-13)⊕S(-13)⊕S(-13)⊕S(-13)⊕S(-13)⊕S(-13)⊕S(-13)⊕S(-13)⊕S(-13)⊕S(-13)⊕S(-13)⊕S(-13)⊕S(-13)⊕S(-13)⊕S(-13)⊕S(-13)⊕S(-13)⊕S(-13)⊕S(-13)⊕S(-13)⊕S(-13)⊕S(-13)⊕S(-13)⊕S(-13)⊕S(-13)⊕S(-13)⊕S(-13)⊕S(-13)⊕S(-13)⊕S(-13)⊕S(-13)⊕S(-13)⊕S(-13)⊕S(-13)⊕S(-13) <-- S(-5)⊕S(-14)⊕S(-14)⊕S(-14)⊕S(-14)⊕S(-7)⊕S(-7)⊕S(-7)⊕S(-7)⊕S(-7)⊕S(-7)⊕S(-7)⊕S(-7)⊕S(-7)⊕S(-7)⊕S(-9)⊕S(-9)⊕S(-9)⊕S(-9)⊕S(-9)⊕S(-9)⊕S(-9)⊕S(-9)⊕S(-9)⊕S(-9)⊕S(-7)⊕S(-7)⊕S(-7)⊕S(-7)⊕S(-7)⊕S(-9)⊕S(-9)⊕S(-9)⊕S(-9)⊕S(-9)⊕S(-9)⊕S(-9)⊕S(-9)⊕S(-9)⊕S(-9)⊕S(-9)⊕S(-9)⊕S(-9)⊕S(-9)⊕S(-9)⊕S(-9)⊕S(-9)⊕S(-9)⊕S(-9)⊕S(-9)⊕S(-11)⊕S(-11)⊕S(-11)⊕S(-11)⊕S(-11)⊕S(-11)⊕S(-11)⊕S(-11)⊕S(-11)⊕S(-11)⊕S(-7)⊕S(-7)⊕S(-7)⊕S(-7)⊕S(-7)⊕S(-9)⊕S(-9)⊕S(-9)⊕S(-9)⊕S(-9)⊕S(-9)⊕S(-9)⊕S(-9)⊕S(-9)⊕S(-9)⊕S(-9)⊕S(-9)⊕S(-9)⊕S(-9)⊕S(-9)⊕S(-9)⊕S(-9)⊕S(-9)⊕S(-9)⊕S(-9)⊕S(-11)⊕S(-11)⊕S(-11)⊕S(-11)⊕S(-11)⊕S(-11)⊕S(-11)⊕S(-11)⊕S(-11)⊕S(-11)⊕S(-9)⊕S(-9)⊕S(-9)⊕S(-9)⊕S(-9)⊕S(-9)⊕S(-9)⊕S(-9)⊕S(-9)⊕S(-9)⊕S(-11)⊕S(-11)⊕S(-11)⊕S(-11)⊕S(-11)⊕S(-11)⊕S(-11)⊕S(-11)⊕S(-11)⊕S(-11)⊕S(-11)⊕S(-11)⊕S(-11)⊕S(-11)⊕S(-11)⊕S(-11)⊕S(-11)⊕S(-11)⊕S(-11)⊕S(-11)⊕S(-13)⊕S(-13)⊕S(-13)⊕S(-13)⊕S(-13)⊕S(-7)⊕S(-7)⊕S(-7)⊕S(-7)⊕S(-7)⊕S(-9)⊕S(-9)⊕S(-9)⊕S(-9)⊕S(-9)⊕S(-9)⊕S(-9)⊕S(-9)⊕S(-9)⊕S(-9)⊕S(-9)⊕S(-9)⊕S(-9)⊕S(-9)⊕S(-9)⊕S(-9)⊕S(-9)⊕S(-9)⊕S(-9)⊕S(-9)⊕S(-11)⊕S(-11)⊕S(-11)⊕S(-11)⊕S(-11)⊕S(-11)⊕S(-11)⊕S(-11)⊕S(-11)⊕S(-11)⊕S(-9)⊕S(-9)⊕S(-9)⊕S(-9)⊕S(-9)⊕S(-9)⊕S(-9)⊕S(-9)⊕S(-9)⊕S(-9)⊕S(-11)⊕S(-11)⊕S(-11)⊕S(-11)⊕S(-11)⊕S(-11)⊕S(-11)⊕S(-11)⊕S(-11)⊕S(-11)⊕S(-11)⊕S(-11)⊕S(-11)⊕S(-11)⊕S(-11)⊕S(-11)⊕S(-11)⊕S(-11)⊕S(-11)⊕S(-11)⊕S(-13)⊕S(-13)⊕S(-13)⊕S(-13)⊕S(-13)⊕S(-9)⊕S(-9)⊕S(-9)⊕S(-9)⊕S(-9)⊕S(-9)⊕S(-9)⊕S(-9)⊕S(-9)⊕S(-9)⊕S(-11)⊕S(-11)⊕S(-11)⊕S(-11)⊕S(-11)⊕S(-11)⊕S(-11)⊕S(-11)⊕S(-11)⊕S(-11)⊕S(-11)⊕S(-11)⊕S(-11)⊕S(-11)⊕S(-11)⊕S(-11)⊕S(-11)⊕S(-11)⊕S(-11)⊕S(-11)⊕S(-13)⊕S(-13)⊕S(-13)⊕S(-13)⊕S(-13)⊕S(-11)⊕S(-11)⊕S(-11)⊕S(-11)⊕S(-11)⊕S(-11)⊕S(-11)⊕S(-11)⊕S(-11)⊕S(-11)⊕S(-13)⊕S(-13)⊕S(-13)⊕S(-13)⊕S(-13)⊕S(-13)⊕S(-13)⊕S(-13)⊕S(-13)⊕S(-13)⊕S(-14)⊕S(-14)⊕S(-14)⊕S(-14)⊕S(-14)⊕S(-14)⊕S(-14)⊕S(-14)⊕S(-14)⊕S(-14)⊕S(-14)⊕S(-14)⊕S(-14)⊕S(-14)⊕S(-14)⊕S(-14)⊕S(-14)⊕S(-14)⊕S(-14)⊕S(-14)⊕S(-14)⊕S(-14)⊕S(-14)⊕S(-14)⊕S(-14)⊕S(-14)⊕S(-14)⊕S(-14)⊕S(-14)⊕S(-14)⊕S(-14)⊕S(-14)⊕S(-14)⊕S(-14)⊕S(-14)⊕S(-14)⊕S(-14)⊕S(-14)⊕S(-14)⊕S(-14)⊕S(-14)⊕S(-14)⊕S(-14)⊕S(-14)⊕S(-14)⊕S(-14)⊕S(-14)⊕S(-14)⊕S(-14)⊕S(-14)⊕S(-14)⊕S(-14)⊕S(-14)⊕S(-14)⊕S(-14)⊕S(-14)⊕S(-14)⊕S(-14)⊕S(-14)⊕S(-14)⊕S(-14)⊕S(-14)⊕S(-14)⊕S(-14)⊕S(-14)⊕S(-14)⊕S(-14)⊕S(-14)⊕S(-14)⊕S(-14)⊕S(-14)⊕S(-14)⊕S(-14)⊕S(-14)⊕S(-14)⊕S(-14)⊕S(-14)⊕S(-14)⊕S(-14)⊕S(-14) <-- S(-15)⊕S(-15)⊕S(-15)⊕S(-15)⊕S(-15)⊕S(-15)⊕S(-15)⊕S(-15)⊕S(-15)⊕S(-15)⊕S(-15)⊕S(-15)⊕S(-15)⊕S(-15)⊕S(-15)⊕S(-15)⊕S(-15)⊕S(-15)⊕S(-15)⊕S(-15)⊕S(-8)⊕S(-8)⊕S(-10)⊕S(-10)⊕S(-10)⊕S(-10)⊕S(-10)⊕S(-8)⊕S(-10)⊕S(-10)⊕S(-10)⊕S(-10)⊕S(-10)⊕S(-10)⊕S(-10)⊕S(-10)⊕S(-10)⊕S(-10)⊕S(-12)⊕S(-12)⊕S(-12)⊕S(-12)⊕S(-12)⊕S(-12)⊕S(-12)⊕S(-12)⊕S(-12)⊕S(-12)⊕S(-8)⊕S(-10)⊕S(-10)⊕S(-10)⊕S(-10)⊕S(-10)⊕S(-10)⊕S(-10)⊕S(-10)⊕S(-10)⊕S(-10)⊕S(-12)⊕S(-12)⊕S(-12)⊕S(-12)⊕S(-12)⊕S(-12)⊕S(-12)⊕S(-12)⊕S(-12)⊕S(-12)⊕S(-10)⊕S(-10)⊕S(-10)⊕S(-10)⊕S(-10)⊕S(-12)⊕S(-12)⊕S(-12)⊕S(-12)⊕S(-12)⊕S(-12)⊕S(-12)⊕S(-12)⊕S(-12)⊕S(-12)⊕S(-12)⊕S(-12)⊕S(-12)⊕S(-12)⊕S(-12)⊕S(-12)⊕S(-12)⊕S(-12)⊕S(-12)⊕S(-12)⊕S(-14)⊕S(-14)⊕S(-14)⊕S(-14)⊕S(-14)⊕S(-14)⊕S(-14)⊕S(-14)⊕S(-14)⊕S(-14)⊕S(-8)⊕S(-10)⊕S(-10)⊕S(-10)⊕S(-10)⊕S(-10)⊕S(-10)⊕S(-10)⊕S(-10)⊕S(-10)⊕S(-10)⊕S(-12)⊕S(-12)⊕S(-12)⊕S(-12)⊕S(-12)⊕S(-12)⊕S(-12)⊕S(-12)⊕S(-12)⊕S(-12)⊕S(-10)⊕S(-10)⊕S(-10)⊕S(-10)⊕S(-10)⊕S(-12)⊕S(-12)⊕S(-12)⊕S(-12)⊕S(-12)⊕S(-12)⊕S(-12)⊕S(-12)⊕S(-12)⊕S(-12)⊕S(-12)⊕S(-12)⊕S(-12)⊕S(-12)⊕S(-12)⊕S(-12)⊕S(-12)⊕S(-12)⊕S(-12)⊕S(-12)⊕S(-14)⊕S(-14)⊕S(-14)⊕S(-14)⊕S(-14)⊕S(-14)⊕S(-14)⊕S(-14)⊕S(-14)⊕S(-14)⊕S(-10)⊕S(-10)⊕S(-10)⊕S(-10)⊕S(-10)⊕S(-12)⊕S(-12)⊕S(-12)⊕S(-12)⊕S(-12)⊕S(-12)⊕S(-12)⊕S(-12)⊕S(-12)⊕S(-12)⊕S(-12)⊕S(-12)⊕S(-12)⊕S(-12)⊕S(-12)⊕S(-12)⊕S(-12)⊕S(-12)⊕S(-12)⊕S(-12)⊕S(-14)⊕S(-14)⊕S(-14)⊕S(-14)⊕S(-14)⊕S(-14)⊕S(-14)⊕S(-14)⊕S(-14)⊕S(-14)⊕S(-12)⊕S(-12)⊕S(-12)⊕S(-12)⊕S(-12)⊕S(-12)⊕S(-12)⊕S(-12)⊕S(-12)⊕S(-12)⊕S(-14)⊕S(-14)⊕S(-14)⊕S(-14)⊕S(-14)⊕S(-14)⊕S(-14)⊕S(-14)⊕S(-14)⊕S(-14)⊕S(-14)⊕S(-14)⊕S(-14)⊕S(-14)⊕S(-14)⊕S(-14)⊕S(-14)⊕S(-14)⊕S(-14)⊕S(-14)⊕S(-15)⊕S(-15)⊕S(-15)⊕S(-15)⊕S(-15)⊕S(-15)⊕S(-15)⊕S(-15)⊕S(-15)⊕S(-15)⊕S(-15)⊕S(-15)⊕S(-15)⊕S(-15)⊕S(-15)⊕S(-15)⊕S(-15)⊕S(-15)⊕S(-15)⊕S(-15)⊕S(-15)⊕S(-15)⊕S(-15)⊕S(-15)⊕S(-15)⊕S(-15)⊕S(-15)⊕S(-15)⊕S(-15)⊕S(-15)⊕S(-15)⊕S(-15)⊕S(-15)⊕S(-15)⊕S(-15)⊕S(-15)⊕S(-15)⊕S(-15)⊕S(-15)⊕S(-15)⊕S(-15)⊕S(-15)⊕S(-15)⊕S(-15)⊕S(-15)⊕S(-15)⊕S(-15)⊕S(-15)⊕S(-15)⊕S(-15)⊕S(-15)⊕S(-15)⊕S(-15)⊕S(-15)⊕S(-15)⊕S(-15)⊕S(-15)⊕S(-15)⊕S(-15)⊕S(-15)⊕S(-15)⊕S(-15)⊕S(-15)⊕S(-15)⊕S(-15)⊕S(-15)⊕S(-15)⊕S(-15)⊕S(-15)⊕S(-15)⊕S(-15)⊕S(-15)⊕S(-15)⊕S(-15)⊕S(-15)⊕S(-15)⊕S(-15)⊕S(-15)⊕S(-15)⊕S(-15)⊕S(-15)⊕S(-15)⊕S(-15)⊕S(-15)⊕S(-15)⊕S(-15)⊕S(-15)⊕S(-15)⊕S(-15)⊕S(-15)⊕S(-15)⊕S(-15)⊕S(-15)⊕S(-15)⊕S(-15)⊕S(-15)⊕S(-15)⊕S(-15)⊕S(-15)⊕S(-15)⊕S(-15)⊕S(-15)⊕S(-15)⊕S(-15)⊕S(-15) <-- S(-16)⊕S(-16)⊕S(-16)⊕S(-16)⊕S(-16)⊕S(-16)⊕S(-16)⊕S(-16)⊕S(-16)⊕S(-16)⊕S(-16)⊕S(-16)⊕S(-16)⊕S(-16)⊕S(-16)⊕S(-16)⊕S(-16)⊕S(-16)⊕S(-16)⊕S(-16)⊕S(-16)⊕S(-16)⊕S(-16)⊕S(-16)⊕S(-16)⊕S(-16)⊕S(-16)⊕S(-16)⊕S(-16)⊕S(-16)⊕S(-16)⊕S(-16)⊕S(-16)⊕S(-16)⊕S(-16)⊕S(-16)⊕S(-16)⊕S(-16)⊕S(-16)⊕S(-16)⊕S(-11)⊕S(-11)⊕S(-11)⊕S(-13)⊕S(-13)⊕S(-13)⊕S(-13)⊕S(-13)⊕S(-11)⊕S(-11)⊕S(-13)⊕S(-13)⊕S(-13)⊕S(-13)⊕S(-13)⊕S(-11)⊕S(-13)⊕S(-13)⊕S(-13)⊕S(-13)⊕S(-13)⊕S(-13)⊕S(-13)⊕S(-13)⊕S(-13)⊕S(-13)⊕S(-15)⊕S(-15)⊕S(-15)⊕S(-15)⊕S(-15)⊕S(-15)⊕S(-15)⊕S(-15)⊕S(-15)⊕S(-15)⊕S(-11)⊕S(-11)⊕S(-13)⊕S(-13)⊕S(-13)⊕S(-13)⊕S(-13)⊕S(-11)⊕S(-13)⊕S(-13)⊕S(-13)⊕S(-13)⊕S(-13)⊕S(-13)⊕S(-13)⊕S(-13)⊕S(-13)⊕S(-13)⊕S(-15)⊕S(-15)⊕S(-15)⊕S(-15)⊕S(-15)⊕S(-15)⊕S(-15)⊕S(-15)⊕S(-15)⊕S(-15)⊕S(-11)⊕S(-13)⊕S(-13)⊕S(-13)⊕S(-13)⊕S(-13)⊕S(-13)⊕S(-13)⊕S(-13)⊕S(-13)⊕S(-13)⊕S(-15)⊕S(-15)⊕S(-15)⊕S(-15)⊕S(-15)⊕S(-15)⊕S(-15)⊕S(-15)⊕S(-15)⊕S(-15)⊕S(-13)⊕S(-13)⊕S(-13)⊕S(-13)⊕S(-13)⊕S(-15)⊕S(-15)⊕S(-15)⊕S(-15)⊕S(-15)⊕S(-15)⊕S(-15)⊕S(-15)⊕S(-15)⊕S(-15)⊕S(-15)⊕S(-15)⊕S(-15)⊕S(-15)⊕S(-15)⊕S(-15)⊕S(-15)⊕S(-15)⊕S(-15)⊕S(-15)⊕S(-16)⊕S(-16)⊕S(-16)⊕S(-16)⊕S(-16)⊕S(-16)⊕S(-16)⊕S(-16)⊕S(-16)⊕S(-16)⊕S(-16)⊕S(-16)⊕S(-16)⊕S(-16)⊕S(-16)⊕S(-16)⊕S(-16)⊕S(-16)⊕S(-16)⊕S(-16)⊕S(-16)⊕S(-16)⊕S(-16)⊕S(-16)⊕S(-16)⊕S(-16)⊕S(-16)⊕S(-16)⊕S(-16)⊕S(-16)⊕S(-16)⊕S(-16)⊕S(-16)⊕S(-16)⊕S(-16)⊕S(-16)⊕S(-16)⊕S(-16)⊕S(-16)⊕S(-16)⊕S(-16)⊕S(-16)⊕S(-16)⊕S(-16)⊕S(-16)⊕S(-16)⊕S(-16)⊕S(-16)⊕S(-16)⊕S(-16)⊕S(-16)⊕S(-16)⊕S(-16)⊕S(-16)⊕S(-16)⊕S(-16)⊕S(-16)⊕S(-16)⊕S(-16)⊕S(-16)⊕S(-16)⊕S(-16)⊕S(-16)⊕S(-16)⊕S(-16)⊕S(-16)⊕S(-16)⊕S(-16)⊕S(-16)⊕S(-16)⊕S(-16)⊕S(-16)⊕S(-16)⊕S(-16)⊕S(-16)⊕S(-16)⊕S(-16)⊕S(-16)⊕S(-16)⊕S(-16)⊕S(-16) <-- S(-17)⊕S(-17)⊕S(-17)⊕S(-17)⊕S(-17)⊕S(-17)⊕S(-17)⊕S(-17)⊕S(-17)⊕S(-17)⊕S(-17)⊕S(-17)⊕S(-17)⊕S(-17)⊕S(-17)⊕S(-17)⊕S(-17)⊕S(-17)⊕S(-17)⊕S(-17)⊕S(-17)⊕S(-17)⊕S(-17)⊕S(-17)⊕S(-17)⊕S(-17)⊕S(-17)⊕S(-17)⊕S(-17)⊕S(-17)⊕S(-17)⊕S(-17)⊕S(-17)⊕S(-17)⊕S(-17)⊕S(-17)⊕S(-17)⊕S(-17)⊕S(-17)⊕S(-17)⊕S(-14)⊕S(-14)⊕S(-14)⊕S(-14)⊕S(-16)⊕S(-16)⊕S(-16)⊕S(-16)⊕S(-16)⊕S(-14)⊕S(-14)⊕S(-14)⊕S(-16)⊕S(-16)⊕S(-16)⊕S(-16)⊕S(-16)⊕S(-14)⊕S(-14)⊕S(-16)⊕S(-16)⊕S(-16)⊕S(-16)⊕S(-16)⊕S(-14)⊕S(-16)⊕S(-16)⊕S(-16)⊕S(-16)⊕S(-16)⊕S(-16)⊕S(-16)⊕S(-16)⊕S(-16)⊕S(-16)⊕S(-17)⊕S(-17)⊕S(-17)⊕S(-17)⊕S(-17)⊕S(-17)⊕S(-17)⊕S(-17)⊕S(-17)⊕S(-17)⊕S(-17)⊕S(-17)⊕S(-17)⊕S(-17)⊕S(-17)⊕S(-17)⊕S(-17)⊕S(-17)⊕S(-17)⊕S(-17)⊕S(-17)⊕S(-17)⊕S(-17)⊕S(-17)⊕S(-17)⊕S(-17)⊕S(-17)⊕S(-17)⊕S(-17)⊕S(-17)⊕S(-17)⊕S(-17)⊕S(-17)⊕S(-17) <-- S(-18)⊕S(-18)⊕S(-18)⊕S(-18)⊕S(-18)⊕S(-18)⊕S(-18)⊕S(-18)⊕S(-18)⊕S(-18)⊕S(-18)⊕S(-18)⊕S(-18)⊕S(-18)⊕S(-18)⊕S(-18)⊕S(-18)⊕S(-18)⊕S(-18)⊕S(-18)⊕S(-17)⊕S(-17)⊕S(-17)⊕S(-17)⊕S(-17)⊕S(-18)⊕S(-18)⊕S(-18)⊕S(-18)⊕S(-18)⊕S(-18) <-- S(-19)⊕S(-19)⊕S(-19)⊕S(-19) <-- 0"
      ]
     },
     "execution_count": 15,
     "metadata": {},
     "output_type": "execute_result"
    }
   ],
   "source": [
    "res = ideal(polys_h).graded_free_resolution(algorithm=\"minimal\")\n",
    "res"
   ]
  },
  {
   "cell_type": "code",
   "execution_count": 16,
   "metadata": {},
   "outputs": [
    {
     "data": {
      "text/plain": [
       "10"
      ]
     },
     "execution_count": 16,
     "metadata": {},
     "output_type": "execute_result"
    }
   ],
   "source": [
    "cm_regularity(res)"
   ]
  }
 ],
 "metadata": {
  "kernelspec": {
   "display_name": "SageMath 10.6",
   "language": "sage",
   "name": "sagemath"
  },
  "language_info": {
   "codemirror_mode": {
    "name": "ipython",
    "version": 3
   },
   "file_extension": ".py",
   "mimetype": "text/x-python",
   "name": "python",
   "nbconvert_exporter": "python",
   "pygments_lexer": "ipython3",
   "version": "3.12.5"
  }
 },
 "nbformat": 4,
 "nbformat_minor": 4
}
