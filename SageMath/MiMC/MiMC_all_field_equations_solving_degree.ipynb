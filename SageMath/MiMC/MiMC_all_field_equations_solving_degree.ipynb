{
 "cells": [
  {
   "cell_type": "markdown",
   "metadata": {},
   "source": [
    "# MiMC Solving Degree For Attack With All Field Equations\n",
    "Empirical solving degree for increasing round numbers of MiMC together with all field equations.\n",
    "\n",
    "Primes: $p \\in \\{ 5, 11 \\}$.\n",
    "\n",
    "Round numbers: $r \\in \\{ 3, 4, 5 \\}$."
   ]
  },
  {
   "cell_type": "code",
   "execution_count": 1,
   "metadata": {},
   "outputs": [],
   "source": [
    "from lazard_gb_algorithm import *\n",
    "load(\"MiMC.sage\")\n",
    "load(\"utilities.sage\")"
   ]
  },
  {
   "cell_type": "markdown",
   "metadata": {},
   "source": [
    "## p = 5, r = 3"
   ]
  },
  {
   "cell_type": "code",
   "execution_count": 2,
   "metadata": {},
   "outputs": [
    {
     "name": "stdout",
     "output_type": "stream",
     "text": [
      "MiMC Parameters\n",
      "Field: Finite Field of size 5\n",
      "r: 3\n",
      "Constants: [0, 1, 2]\n",
      "\n",
      "Plain: 3\n",
      "Key: 2\n",
      "Cipher: 3\n",
      "\n",
      "y^3 - y^2 - x_1 + 2*y + 2\n",
      "x_1^3 - 2*x_1^2*y - 2*x_1*y^2 + y^3 - 2*x_1^2 + x_1*y - 2*y^2 - 2*x_1 - x_2 - 2*y + 1\n",
      "x_2^3 - 2*x_2^2*y - 2*x_2*y^2 + y^3 + x_2^2 + 2*x_2*y + y^2 + 2*x_2 - 2*y\n"
     ]
    }
   ],
   "source": [
    "p = 5\n",
    "field = GF(p, \"a\")\n",
    "\n",
    "rounds = 3\n",
    "\n",
    "mimc = MiMC(field=field, rounds=rounds)\n",
    "\n",
    "print(\"\")\n",
    "\n",
    "plain = field.random_element()\n",
    "key = field.random_element()\n",
    "cipher = mimc.encryption(plain, key)\n",
    "print(\"Plain:\", plain)\n",
    "print(\"Key:\", key)\n",
    "print(\"Cipher:\", cipher)\n",
    "\n",
    "polys = mimc.generate_polynomials(plain, cipher, info_level=0)\n",
    "polys_h = [poly.homogenize() for poly in polys]\n",
    "I = ideal(polys)\n",
    "variables = polys[0].parent().gens()\n",
    "fes = [var**field.order() - var for var in variables]\n",
    "fes_h = [fe.homogenize() for fe in fes]\n",
    "\n",
    "print(\"\")\n",
    "\n",
    "for poly in polys:\n",
    "    print(poly)"
   ]
  },
  {
   "cell_type": "code",
   "execution_count": 3,
   "metadata": {
    "scrolled": true
   },
   "outputs": [
    {
     "name": "stdout",
     "output_type": "stream",
     "text": [
      "Ring: Multivariate Polynomial Ring in x_1, x_2, y over Finite Field of size 5\n",
      "Input polynomials:\n",
      "[y^3 - y^2 - x_1 + 2*y + 2, x_1^3 - 2*x_1^2*y - 2*x_1*y^2 + y^3 - 2*x_1^2 + x_1*y - 2*y^2 - 2*x_1 - x_2 - 2*y + 1, x_2^3 - 2*x_2^2*y - 2*x_2*y^2 + y^3 + x_2^2 + 2*x_2*y + y^2 + 2*x_2 - 2*y, x_1^5 - x_1, x_2^5 - x_2, y^5 - y]\n",
      "\n",
      "--- Degree 0 ---\n",
      "Computing all monomials up to degree: 0\n",
      "Time needed: 0.08628678321838379\n",
      "Computing Macaulay matrix.\n",
      "Time needed: 2.1457672119140625e-06\n",
      "Performing Gaussian Elimination.\n",
      "Time needed: 0.00024008750915527344\n",
      "Is Groebner Basis: False\n",
      "\n",
      "--- Degree 1 ---\n",
      "Computing all monomials up to degree: 1\n",
      "Time needed: 0.017948150634765625\n",
      "Computing Macaulay matrix.\n",
      "Time needed: 1.6689300537109375e-06\n",
      "Performing Gaussian Elimination.\n",
      "Time needed: 0.00015783309936523438\n",
      "Is Groebner Basis: False\n",
      "\n",
      "--- Degree 2 ---\n",
      "Computing all monomials up to degree: 2\n",
      "Time needed: 0.001111745834350586\n",
      "Computing Macaulay matrix.\n",
      "Time needed: 9.5367431640625e-07\n",
      "Performing Gaussian Elimination.\n",
      "Time needed: 0.00012254714965820312\n",
      "Is Groebner Basis: False\n",
      "\n",
      "--- Degree 3 ---\n",
      "Computing all monomials up to degree: 3\n",
      "Time needed: 0.0012874603271484375\n",
      "Computing Macaulay matrix.\n",
      "Time needed: 1.6689300537109375e-06\n",
      "Performing Gaussian Elimination.\n",
      "Time needed: 0.0002143383026123047\n",
      "Is Groebner Basis: False\n",
      "\n",
      "--- Degree 4 ---\n",
      "Computing all monomials up to degree: 4\n",
      "Time needed: 0.0019338130950927734\n",
      "Computing Macaulay matrix.\n",
      "Time needed: 1.1920928955078125e-06\n",
      "Performing Gaussian Elimination.\n",
      "Time needed: 0.0002818107604980469\n",
      "Is Groebner Basis: False\n",
      "\n",
      "--- Degree 5 ---\n",
      "Computing all monomials up to degree: 5\n",
      "Time needed: 0.0037615299224853516\n",
      "Computing Macaulay matrix.\n",
      "Time needed: 1.430511474609375e-06\n",
      "Performing Gaussian Elimination.\n",
      "Time needed: 0.0005505084991455078\n",
      "Is Groebner Basis: False\n",
      "\n",
      "--- Degree 6 ---\n",
      "Computing all monomials up to degree: 6\n",
      "Time needed: 0.003313302993774414\n",
      "Computing Macaulay matrix.\n",
      "Time needed: 1.6689300537109375e-06\n",
      "Performing Gaussian Elimination.\n",
      "Time needed: 0.0012807846069335938\n",
      "Is Groebner Basis: False\n",
      "\n",
      "--- Degree 7 ---\n",
      "Computing all monomials up to degree: 7\n",
      "Time needed: 0.005685329437255859\n",
      "Computing Macaulay matrix.\n",
      "Time needed: 1.6689300537109375e-06\n",
      "Performing Gaussian Elimination.\n",
      "Time needed: 0.0023894309997558594\n",
      "Is Groebner Basis: True\n",
      "Total time needed: 0.19276189804077148\n"
     ]
    },
    {
     "data": {
      "text/plain": [
       "[y^2 + 1, x_1 - y + 2, x_2 + 2*y - 1]"
      ]
     },
     "execution_count": 3,
     "metadata": {},
     "output_type": "execute_result"
    }
   ],
   "source": [
    "lazard_gb_algorithm(polys + fes)"
   ]
  },
  {
   "cell_type": "code",
   "execution_count": 4,
   "metadata": {},
   "outputs": [
    {
     "data": {
      "text/plain": [
       "S(0) <-- S(-3)⊕S(-3)⊕S(-3)⊕S(-5)⊕S(-5)⊕S(-5) <-- S(-8)⊕S(-6)⊕S(-8)⊕S(-8)⊕S(-6)⊕S(-6)⊕S(-7)⊕S(-7)⊕S(-7)⊕S(-7)⊕S(-7)⊕S(-7)⊕S(-8)⊕S(-8)⊕S(-8)⊕S(-8)⊕S(-8)⊕S(-8)⊕S(-8)⊕S(-8) <-- S(-9)⊕S(-9)⊕S(-9)⊕S(-9)⊕S(-9)⊕S(-9)⊕S(-9)⊕S(-9)⊕S(-9)⊕S(-9)⊕S(-9)⊕S(-9)⊕S(-9)⊕S(-9)⊕S(-9)⊕S(-9)⊕S(-9)⊕S(-9)⊕S(-9)⊕S(-9)⊕S(-9)⊕S(-9)⊕S(-9)⊕S(-9)⊕S(-9) <-- S(-10)⊕S(-10)⊕S(-10)⊕S(-10)⊕S(-10)⊕S(-10)⊕S(-10)⊕S(-10)⊕S(-10)⊕S(-11) <-- 0"
      ]
     },
     "execution_count": 4,
     "metadata": {},
     "output_type": "execute_result"
    }
   ],
   "source": [
    "res = ideal(polys_h + fes_h).graded_free_resolution(algorithm=\"minimal\")\n",
    "res"
   ]
  },
  {
   "cell_type": "code",
   "execution_count": 5,
   "metadata": {},
   "outputs": [
    {
     "data": {
      "text/plain": [
       "7"
      ]
     },
     "execution_count": 5,
     "metadata": {},
     "output_type": "execute_result"
    }
   ],
   "source": [
    "cm_regularity(res)"
   ]
  },
  {
   "cell_type": "markdown",
   "metadata": {},
   "source": [
    "## p = 5, r = 4"
   ]
  },
  {
   "cell_type": "code",
   "execution_count": 6,
   "metadata": {},
   "outputs": [
    {
     "name": "stdout",
     "output_type": "stream",
     "text": [
      "MiMC Parameters\n",
      "Field: Finite Field of size 5\n",
      "r: 4\n",
      "Constants: [3, 1, 1, 1]\n",
      "\n",
      "Plain: 1\n",
      "Key: 0\n",
      "Cipher: 3\n",
      "\n",
      "y^3 + 2*y^2 - x_1 - 2*y - 1\n",
      "x_1^3 - 2*x_1^2*y - 2*x_1*y^2 + y^3 - 2*x_1^2 + x_1*y - 2*y^2 - 2*x_1 - x_2 - 2*y + 1\n",
      "x_2^3 - 2*x_2^2*y - 2*x_2*y^2 + y^3 - 2*x_2^2 + x_2*y - 2*y^2 - 2*x_2 - x_3 - 2*y + 1\n",
      "x_3^3 - 2*x_3^2*y - 2*x_3*y^2 + y^3 - 2*x_3^2 + x_3*y - 2*y^2 - 2*x_3 - y - 2\n"
     ]
    }
   ],
   "source": [
    "p = 5\n",
    "field = GF(p, \"a\")\n",
    "\n",
    "rounds = 4\n",
    "\n",
    "mimc = MiMC(field=field, rounds=rounds)\n",
    "\n",
    "print(\"\")\n",
    "\n",
    "plain = field.random_element()\n",
    "key = field.random_element()\n",
    "cipher = mimc.encryption(plain, key)\n",
    "print(\"Plain:\", plain)\n",
    "print(\"Key:\", key)\n",
    "print(\"Cipher:\", cipher)\n",
    "\n",
    "polys = mimc.generate_polynomials(plain, cipher, info_level=0)\n",
    "polys_h = [poly.homogenize() for poly in polys]\n",
    "I = ideal(polys)\n",
    "variables = polys[0].parent().gens()\n",
    "fes = [var**field.order() - var for var in variables]\n",
    "fes_h = [fe.homogenize() for fe in fes]\n",
    "\n",
    "print(\"\")\n",
    "\n",
    "for poly in polys:\n",
    "    print(poly)"
   ]
  },
  {
   "cell_type": "code",
   "execution_count": 7,
   "metadata": {},
   "outputs": [
    {
     "name": "stdout",
     "output_type": "stream",
     "text": [
      "Ring: Multivariate Polynomial Ring in x_1, x_2, x_3, y over Finite Field of size 5\n",
      "Input polynomials:\n",
      "[y^3 + 2*y^2 - x_1 - 2*y - 1, x_1^3 - 2*x_1^2*y - 2*x_1*y^2 + y^3 - 2*x_1^2 + x_1*y - 2*y^2 - 2*x_1 - x_2 - 2*y + 1, x_2^3 - 2*x_2^2*y - 2*x_2*y^2 + y^3 - 2*x_2^2 + x_2*y - 2*y^2 - 2*x_2 - x_3 - 2*y + 1, x_3^3 - 2*x_3^2*y - 2*x_3*y^2 + y^3 - 2*x_3^2 + x_3*y - 2*y^2 - 2*x_3 - y - 2, x_1^5 - x_1, x_2^5 - x_2, x_3^5 - x_3, y^5 - y]\n",
      "\n",
      "--- Degree 0 ---\n",
      "Computing all monomials up to degree: 0\n",
      "Time needed: 0.0010652542114257812\n",
      "Computing Macaulay matrix.\n",
      "Time needed: 1.9073486328125e-06\n",
      "Performing Gaussian Elimination.\n",
      "Time needed: 0.00015354156494140625\n",
      "Is Groebner Basis: False\n",
      "\n",
      "--- Degree 1 ---\n",
      "Computing all monomials up to degree: 1\n",
      "Time needed: 0.0030841827392578125\n",
      "Computing Macaulay matrix.\n",
      "Time needed: 3.0994415283203125e-06\n",
      "Performing Gaussian Elimination.\n",
      "Time needed: 0.0002465248107910156\n",
      "Is Groebner Basis: False\n",
      "\n",
      "--- Degree 2 ---\n",
      "Computing all monomials up to degree: 2\n",
      "Time needed: 0.0028581619262695312\n",
      "Computing Macaulay matrix.\n",
      "Time needed: 1.430511474609375e-06\n",
      "Performing Gaussian Elimination.\n",
      "Time needed: 0.0001518726348876953\n",
      "Is Groebner Basis: False\n",
      "\n",
      "--- Degree 3 ---\n",
      "Computing all monomials up to degree: 3\n",
      "Time needed: 0.0019881725311279297\n",
      "Computing Macaulay matrix.\n",
      "Time needed: 1.6689300537109375e-06\n",
      "Performing Gaussian Elimination.\n",
      "Time needed: 0.0003554821014404297\n",
      "Is Groebner Basis: False\n",
      "\n",
      "--- Degree 4 ---\n",
      "Computing all monomials up to degree: 4\n",
      "Time needed: 0.0027074813842773438\n",
      "Computing Macaulay matrix.\n",
      "Time needed: 1.9073486328125e-06\n",
      "Performing Gaussian Elimination.\n",
      "Time needed: 0.0003924369812011719\n",
      "Is Groebner Basis: False\n",
      "\n",
      "--- Degree 5 ---\n",
      "Computing all monomials up to degree: 5\n",
      "Time needed: 0.003724336624145508\n",
      "Computing Macaulay matrix.\n",
      "Time needed: 2.384185791015625e-06\n",
      "Performing Gaussian Elimination.\n",
      "Time needed: 0.001001596450805664\n",
      "Is Groebner Basis: False\n",
      "\n",
      "--- Degree 6 ---\n",
      "Computing all monomials up to degree: 6\n",
      "Time needed: 0.005626201629638672\n",
      "Computing Macaulay matrix.\n",
      "Time needed: 3.5762786865234375e-06\n",
      "Performing Gaussian Elimination.\n",
      "Time needed: 0.003053426742553711\n",
      "Is Groebner Basis: False\n",
      "\n",
      "--- Degree 7 ---\n",
      "Computing all monomials up to degree: 7\n",
      "Time needed: 0.007732868194580078\n",
      "Computing Macaulay matrix.\n",
      "Time needed: 3.814697265625e-06\n",
      "Performing Gaussian Elimination.\n",
      "Time needed: 0.009401798248291016\n",
      "Is Groebner Basis: True\n",
      "Total time needed: 0.13887381553649902\n"
     ]
    },
    {
     "data": {
      "text/plain": [
       "[y^2 - 2*y, x_1 - y + 1, x_2 - 2*y, x_3 - y - 1]"
      ]
     },
     "execution_count": 7,
     "metadata": {},
     "output_type": "execute_result"
    }
   ],
   "source": [
    "lazard_gb_algorithm(polys + fes)"
   ]
  },
  {
   "cell_type": "code",
   "execution_count": 8,
   "metadata": {},
   "outputs": [
    {
     "data": {
      "text/plain": [
       "S(0) <-- S(-3)⊕S(-3)⊕S(-3)⊕S(-3)⊕S(-5)⊕S(-5)⊕S(-5)⊕S(-5) <-- S(-8)⊕S(-6)⊕S(-8)⊕S(-8)⊕S(-6)⊕S(-6)⊕S(-8)⊕S(-8)⊕S(-8)⊕S(-6)⊕S(-6)⊕S(-6)⊕S(-7)⊕S(-7)⊕S(-7)⊕S(-7)⊕S(-8)⊕S(-8)⊕S(-8)⊕S(-8)⊕S(-8)⊕S(-8)⊕S(-8)⊕S(-8)⊕S(-8)⊕S(-8)⊕S(-8)⊕S(-8)⊕S(-8)⊕S(-8)⊕S(-8)⊕S(-8)⊕S(-8)⊕S(-8)⊕S(-8)⊕S(-8)⊕S(-8)⊕S(-8)⊕S(-8)⊕S(-8)⊕S(-8)⊕S(-8)⊕S(-8)⊕S(-8)⊕S(-8)⊕S(-8)⊕S(-8)⊕S(-8)⊕S(-8)⊕S(-8)⊕S(-8)⊕S(-8)⊕S(-8)⊕S(-8)⊕S(-8)⊕S(-8) <-- S(-9)⊕S(-9)⊕S(-9)⊕S(-9)⊕S(-9)⊕S(-9)⊕S(-9)⊕S(-9)⊕S(-9)⊕S(-9)⊕S(-9)⊕S(-9)⊕S(-9)⊕S(-9)⊕S(-9)⊕S(-9)⊕S(-9)⊕S(-9)⊕S(-9)⊕S(-9)⊕S(-9)⊕S(-9)⊕S(-9)⊕S(-9)⊕S(-9)⊕S(-9)⊕S(-9)⊕S(-9)⊕S(-9)⊕S(-9)⊕S(-9)⊕S(-9)⊕S(-9)⊕S(-9)⊕S(-9)⊕S(-9)⊕S(-9)⊕S(-9)⊕S(-9)⊕S(-9)⊕S(-9)⊕S(-9)⊕S(-9)⊕S(-9)⊕S(-9)⊕S(-9)⊕S(-9)⊕S(-9)⊕S(-9)⊕S(-9)⊕S(-9)⊕S(-9)⊕S(-9)⊕S(-9)⊕S(-9)⊕S(-9)⊕S(-9)⊕S(-9)⊕S(-9)⊕S(-9)⊕S(-9)⊕S(-9)⊕S(-10)⊕S(-10)⊕S(-9)⊕S(-9)⊕S(-9)⊕S(-9)⊕S(-9)⊕S(-9)⊕S(-9)⊕S(-9)⊕S(-9)⊕S(-9)⊕S(-9)⊕S(-9)⊕S(-9)⊕S(-9)⊕S(-9)⊕S(-9)⊕S(-9)⊕S(-9)⊕S(-9)⊕S(-9)⊕S(-9)⊕S(-9)⊕S(-9)⊕S(-9)⊕S(-9)⊕S(-9)⊕S(-9)⊕S(-9)⊕S(-9)⊕S(-9)⊕S(-10) <-- S(-10)⊕S(-10)⊕S(-10)⊕S(-10)⊕S(-10)⊕S(-10)⊕S(-10)⊕S(-10)⊕S(-10)⊕S(-10)⊕S(-10)⊕S(-10)⊕S(-10)⊕S(-10)⊕S(-10)⊕S(-10)⊕S(-10)⊕S(-10)⊕S(-10)⊕S(-10)⊕S(-10)⊕S(-10)⊕S(-10)⊕S(-10)⊕S(-10)⊕S(-10)⊕S(-10)⊕S(-10)⊕S(-10)⊕S(-10)⊕S(-10)⊕S(-10)⊕S(-10)⊕S(-10)⊕S(-10)⊕S(-10)⊕S(-10)⊕S(-10)⊕S(-11)⊕S(-11)⊕S(-11)⊕S(-11)⊕S(-11)⊕S(-11)⊕S(-11)⊕S(-11)⊕S(-11)⊕S(-11)⊕S(-11)⊕S(-11)⊕S(-11)⊕S(-11)⊕S(-11)⊕S(-11)⊕S(-11)⊕S(-11)⊕S(-11)⊕S(-11)⊕S(-12) <-- S(-11)⊕S(-11)⊕S(-11)⊕S(-11)⊕S(-12)⊕S(-12)⊕S(-12)⊕S(-12)⊕S(-12)⊕S(-12)⊕S(-12)⊕S(-12)⊕S(-14) <-- 0"
      ]
     },
     "execution_count": 8,
     "metadata": {},
     "output_type": "execute_result"
    }
   ],
   "source": [
    "res = ideal(polys_h + fes_h).graded_free_resolution(algorithm=\"minimal\")\n",
    "res"
   ]
  },
  {
   "cell_type": "code",
   "execution_count": 9,
   "metadata": {},
   "outputs": [
    {
     "data": {
      "text/plain": [
       "9"
      ]
     },
     "execution_count": 9,
     "metadata": {},
     "output_type": "execute_result"
    }
   ],
   "source": [
    "cm_regularity(res)"
   ]
  },
  {
   "cell_type": "markdown",
   "metadata": {},
   "source": [
    "## p = 5, r = 5"
   ]
  },
  {
   "cell_type": "code",
   "execution_count": 10,
   "metadata": {},
   "outputs": [
    {
     "name": "stdout",
     "output_type": "stream",
     "text": [
      "MiMC Parameters\n",
      "Field: Finite Field of size 5\n",
      "r: 5\n",
      "Constants: [4, 3, 0, 0, 0]\n",
      "\n",
      "Plain: 3\n",
      "Key: 1\n",
      "Cipher: 1\n",
      "\n",
      "y^3 + y^2 - x_1 + 2*y - 2\n",
      "x_1^3 - 2*x_1^2*y - 2*x_1*y^2 + y^3 - x_1^2 - 2*x_1*y - y^2 + 2*x_1 - x_2 + 2*y + 2\n",
      "x_2^3 - 2*x_2^2*y - 2*x_2*y^2 + y^3 - x_3\n",
      "x_3^3 - 2*x_3^2*y - 2*x_3*y^2 + y^3 - x_4\n",
      "x_4^3 - 2*x_4^2*y - 2*x_4*y^2 + y^3 + y - 1\n"
     ]
    }
   ],
   "source": [
    "p = 5\n",
    "field = GF(p, \"a\")\n",
    "\n",
    "rounds = 5\n",
    "\n",
    "mimc = MiMC(field=field, rounds=rounds)\n",
    "\n",
    "print(\"\")\n",
    "\n",
    "plain = field.random_element()\n",
    "key = field.random_element()\n",
    "cipher = mimc.encryption(plain, key)\n",
    "print(\"Plain:\", plain)\n",
    "print(\"Key:\", key)\n",
    "print(\"Cipher:\", cipher)\n",
    "\n",
    "polys = mimc.generate_polynomials(plain, cipher, info_level=0)\n",
    "polys_h = [poly.homogenize() for poly in polys]\n",
    "I = ideal(polys)\n",
    "variables = polys[0].parent().gens()\n",
    "fes = [var**field.order() - var for var in variables]\n",
    "fes_h = [fe.homogenize() for fe in fes]\n",
    "\n",
    "print(\"\")\n",
    "\n",
    "for poly in polys:\n",
    "    print(poly)"
   ]
  },
  {
   "cell_type": "code",
   "execution_count": 11,
   "metadata": {},
   "outputs": [
    {
     "name": "stdout",
     "output_type": "stream",
     "text": [
      "Ring: Multivariate Polynomial Ring in x_1, x_2, x_3, x_4, y over Finite Field of size 5\n",
      "Input polynomials:\n",
      "[y^3 + y^2 - x_1 + 2*y - 2, x_1^3 - 2*x_1^2*y - 2*x_1*y^2 + y^3 - x_1^2 - 2*x_1*y - y^2 + 2*x_1 - x_2 + 2*y + 2, x_2^3 - 2*x_2^2*y - 2*x_2*y^2 + y^3 - x_3, x_3^3 - 2*x_3^2*y - 2*x_3*y^2 + y^3 - x_4, x_4^3 - 2*x_4^2*y - 2*x_4*y^2 + y^3 + y - 1, x_1^5 - x_1, x_2^5 - x_2, x_3^5 - x_3, x_4^5 - x_4, y^5 - y]\n",
      "\n",
      "--- Degree 0 ---\n",
      "Computing all monomials up to degree: 0\n",
      "Time needed: 0.0006506443023681641\n",
      "Computing Macaulay matrix.\n",
      "Time needed: 1.9073486328125e-06\n",
      "Performing Gaussian Elimination.\n",
      "Time needed: 8.916854858398438e-05\n",
      "Is Groebner Basis: False\n",
      "\n",
      "--- Degree 1 ---\n",
      "Computing all monomials up to degree: 1\n",
      "Time needed: 0.0014717578887939453\n",
      "Computing Macaulay matrix.\n",
      "Time needed: 2.384185791015625e-06\n",
      "Performing Gaussian Elimination.\n",
      "Time needed: 0.00018525123596191406\n",
      "Is Groebner Basis: False\n",
      "\n",
      "--- Degree 2 ---\n",
      "Computing all monomials up to degree: 2\n",
      "Time needed: 0.0015282630920410156\n",
      "Computing Macaulay matrix.\n",
      "Time needed: 1.6689300537109375e-06\n",
      "Performing Gaussian Elimination.\n",
      "Time needed: 0.00016951560974121094\n",
      "Is Groebner Basis: False\n",
      "\n",
      "--- Degree 3 ---\n",
      "Computing all monomials up to degree: 3\n",
      "Time needed: 0.0035254955291748047\n",
      "Computing Macaulay matrix.\n",
      "Time needed: 2.86102294921875e-06\n",
      "Performing Gaussian Elimination.\n",
      "Time needed: 0.0005700588226318359\n",
      "Is Groebner Basis: False\n",
      "\n",
      "--- Degree 4 ---\n",
      "Computing all monomials up to degree: 4\n",
      "Time needed: 0.005807638168334961\n",
      "Computing Macaulay matrix.\n",
      "Time needed: 3.814697265625e-06\n",
      "Performing Gaussian Elimination.\n",
      "Time needed: 0.0007824897766113281\n",
      "Is Groebner Basis: False\n",
      "\n",
      "--- Degree 5 ---\n",
      "Computing all monomials up to degree: 5\n",
      "Time needed: 0.009258270263671875\n",
      "Computing Macaulay matrix.\n",
      "Time needed: 4.5299530029296875e-06\n",
      "Performing Gaussian Elimination.\n",
      "Time needed: 0.002155780792236328\n",
      "Is Groebner Basis: False\n",
      "\n",
      "--- Degree 6 ---\n",
      "Computing all monomials up to degree: 6\n",
      "Time needed: 0.014902353286743164\n",
      "Computing Macaulay matrix.\n",
      "Time needed: 8.821487426757812e-06\n",
      "Performing Gaussian Elimination.\n",
      "Time needed: 0.008649110794067383\n",
      "Is Groebner Basis: False\n",
      "\n",
      "--- Degree 7 ---\n",
      "Computing all monomials up to degree: 7\n",
      "Time needed: 0.02580714225769043\n",
      "Computing Macaulay matrix.\n",
      "Time needed: 5.245208740234375e-06\n",
      "Performing Gaussian Elimination.\n",
      "Time needed: 0.026795625686645508\n",
      "Is Groebner Basis: False\n",
      "\n",
      "--- Degree 8 ---\n",
      "Computing all monomials up to degree: 8\n",
      "Time needed: 0.025658369064331055\n",
      "Computing Macaulay matrix.\n",
      "Time needed: 5.4836273193359375e-06\n",
      "Performing Gaussian Elimination.\n",
      "Time needed: 0.08827972412109375\n",
      "Is Groebner Basis: True\n",
      "Total time needed: 0.5769693851470947\n"
     ]
    },
    {
     "data": {
      "text/plain": [
       "[x_3^2 + x_3 - 2,\n",
       " x_3*y - x_3 - y + 1,\n",
       " y^2 - 2*x_3 - 2*y + 2,\n",
       " x_1 + 2*x_3 + 2*y,\n",
       " x_2 + 2*x_3 + y + 2,\n",
       " x_4 + 2*y - 1]"
      ]
     },
     "execution_count": 11,
     "metadata": {},
     "output_type": "execute_result"
    }
   ],
   "source": [
    "lazard_gb_algorithm(polys + fes)"
   ]
  },
  {
   "cell_type": "code",
   "execution_count": 12,
   "metadata": {},
   "outputs": [
    {
     "data": {
      "text/plain": [
       "S(0) <-- S(-3)⊕S(-3)⊕S(-3)⊕S(-3)⊕S(-3)⊕S(-5)⊕S(-5)⊕S(-5)⊕S(-5)⊕S(-5) <-- S(-8)⊕S(-6)⊕S(-8)⊕S(-8)⊕S(-6)⊕S(-6)⊕S(-8)⊕S(-8)⊕S(-8)⊕S(-6)⊕S(-6)⊕S(-6)⊕S(-8)⊕S(-8)⊕S(-8)⊕S(-8)⊕S(-6)⊕S(-6)⊕S(-6)⊕S(-6)⊕S(-7)⊕S(-8)⊕S(-8)⊕S(-8)⊕S(-8)⊕S(-8)⊕S(-8)⊕S(-8)⊕S(-8)⊕S(-8)⊕S(-8)⊕S(-8)⊕S(-8)⊕S(-8)⊕S(-8)⊕S(-8)⊕S(-8)⊕S(-8)⊕S(-8)⊕S(-8)⊕S(-8)⊕S(-8)⊕S(-8)⊕S(-8)⊕S(-8)⊕S(-8)⊕S(-8)⊕S(-8)⊕S(-8)⊕S(-8)⊕S(-8)⊕S(-8)⊕S(-8)⊕S(-8)⊕S(-8)⊕S(-8)⊕S(-8)⊕S(-8)⊕S(-8)⊕S(-8)⊕S(-8)⊕S(-8)⊕S(-8)⊕S(-8)⊕S(-8)⊕S(-8)⊕S(-8)⊕S(-8)⊕S(-8)⊕S(-8)⊕S(-8)⊕S(-8)⊕S(-8)⊕S(-8)⊕S(-8)⊕S(-8)⊕S(-8)⊕S(-8)⊕S(-8)⊕S(-8)⊕S(-8)⊕S(-8)⊕S(-8)⊕S(-8)⊕S(-8)⊕S(-8)⊕S(-8)⊕S(-8)⊕S(-8)⊕S(-8)⊕S(-8)⊕S(-8)⊕S(-8)⊕S(-8)⊕S(-8)⊕S(-8)⊕S(-8)⊕S(-8)⊕S(-8)⊕S(-8)⊕S(-8)⊕S(-8)⊕S(-8)⊕S(-9)⊕S(-9) <-- S(-9)⊕S(-9)⊕S(-9)⊕S(-9)⊕S(-9)⊕S(-9)⊕S(-9)⊕S(-9)⊕S(-9)⊕S(-9)⊕S(-9)⊕S(-9)⊕S(-9)⊕S(-9)⊕S(-9)⊕S(-9)⊕S(-9)⊕S(-9)⊕S(-9)⊕S(-9)⊕S(-9)⊕S(-9)⊕S(-9)⊕S(-9)⊕S(-9)⊕S(-9)⊕S(-9)⊕S(-9)⊕S(-9)⊕S(-9)⊕S(-9)⊕S(-9)⊕S(-9)⊕S(-9)⊕S(-9)⊕S(-9)⊕S(-9)⊕S(-9)⊕S(-9)⊕S(-9)⊕S(-9)⊕S(-9)⊕S(-9)⊕S(-9)⊕S(-9)⊕S(-9)⊕S(-9)⊕S(-9)⊕S(-9)⊕S(-9)⊕S(-9)⊕S(-9)⊕S(-9)⊕S(-9)⊕S(-9)⊕S(-9)⊕S(-9)⊕S(-9)⊕S(-9)⊕S(-9)⊕S(-9)⊕S(-9)⊕S(-9)⊕S(-9)⊕S(-9)⊕S(-9)⊕S(-9)⊕S(-9)⊕S(-9)⊕S(-9)⊕S(-9)⊕S(-9)⊕S(-9)⊕S(-9)⊕S(-9)⊕S(-9)⊕S(-9)⊕S(-9)⊕S(-9)⊕S(-9)⊕S(-9)⊕S(-9)⊕S(-9)⊕S(-9)⊕S(-9)⊕S(-9)⊕S(-9)⊕S(-9)⊕S(-9)⊕S(-9)⊕S(-9)⊕S(-9)⊕S(-9)⊕S(-9)⊕S(-9)⊕S(-9)⊕S(-9)⊕S(-9)⊕S(-9)⊕S(-9)⊕S(-9)⊕S(-9)⊕S(-9)⊕S(-9)⊕S(-9)⊕S(-9)⊕S(-9)⊕S(-9)⊕S(-9)⊕S(-9)⊕S(-9)⊕S(-9)⊕S(-9)⊕S(-9)⊕S(-9)⊕S(-9)⊕S(-9)⊕S(-9)⊕S(-9)⊕S(-10)⊕S(-9)⊕S(-10)⊕S(-9)⊕S(-10)⊕S(-10)⊕S(-10)⊕S(-9)⊕S(-10)⊕S(-9)⊕S(-10)⊕S(-10)⊕S(-10)⊕S(-10)⊕S(-10)⊕S(-10)⊕S(-10)⊕S(-10)⊕S(-10)⊕S(-10)⊕S(-10)⊕S(-10)⊕S(-10)⊕S(-10)⊕S(-10)⊕S(-10)⊕S(-10)⊕S(-10)⊕S(-10)⊕S(-10)⊕S(-10)⊕S(-10)⊕S(-10)⊕S(-10)⊕S(-10)⊕S(-10)⊕S(-10)⊕S(-10)⊕S(-10)⊕S(-10)⊕S(-10)⊕S(-10)⊕S(-10)⊕S(-10)⊕S(-10)⊕S(-10)⊕S(-10)⊕S(-10)⊕S(-10)⊕S(-10)⊕S(-10)⊕S(-10)⊕S(-10)⊕S(-10)⊕S(-10)⊕S(-10)⊕S(-10)⊕S(-10)⊕S(-10)⊕S(-9)⊕S(-9)⊕S(-9)⊕S(-9)⊕S(-9)⊕S(-9)⊕S(-9)⊕S(-9)⊕S(-9)⊕S(-9)⊕S(-9)⊕S(-9)⊕S(-9)⊕S(-9)⊕S(-9)⊕S(-9)⊕S(-9)⊕S(-9)⊕S(-9)⊕S(-9)⊕S(-9)⊕S(-9)⊕S(-9)⊕S(-9)⊕S(-9)⊕S(-9)⊕S(-9)⊕S(-9)⊕S(-9)⊕S(-9)⊕S(-9)⊕S(-9)⊕S(-9)⊕S(-9)⊕S(-9)⊕S(-9)⊕S(-9)⊕S(-9)⊕S(-9)⊕S(-9)⊕S(-9)⊕S(-9)⊕S(-9)⊕S(-9)⊕S(-9)⊕S(-9)⊕S(-9)⊕S(-9)⊕S(-9)⊕S(-9)⊕S(-9)⊕S(-10)⊕S(-10)⊕S(-10)⊕S(-10)⊕S(-10)⊕S(-10)⊕S(-10) <-- S(-10)⊕S(-10)⊕S(-10)⊕S(-10)⊕S(-10)⊕S(-10)⊕S(-10)⊕S(-10)⊕S(-10)⊕S(-10)⊕S(-10)⊕S(-10)⊕S(-10)⊕S(-10)⊕S(-10)⊕S(-10)⊕S(-10)⊕S(-10)⊕S(-10)⊕S(-10)⊕S(-10)⊕S(-10)⊕S(-10)⊕S(-10)⊕S(-10)⊕S(-10)⊕S(-10)⊕S(-10)⊕S(-10)⊕S(-10)⊕S(-10)⊕S(-10)⊕S(-10)⊕S(-10)⊕S(-10)⊕S(-10)⊕S(-10)⊕S(-10)⊕S(-10)⊕S(-10)⊕S(-10)⊕S(-10)⊕S(-10)⊕S(-10)⊕S(-10)⊕S(-10)⊕S(-10)⊕S(-10)⊕S(-10)⊕S(-10)⊕S(-10)⊕S(-10)⊕S(-10)⊕S(-10)⊕S(-10)⊕S(-10)⊕S(-10)⊕S(-10)⊕S(-10)⊕S(-10)⊕S(-10)⊕S(-10)⊕S(-10)⊕S(-10)⊕S(-10)⊕S(-10)⊕S(-10)⊕S(-10)⊕S(-10)⊕S(-10)⊕S(-10)⊕S(-10)⊕S(-11)⊕S(-11)⊕S(-11)⊕S(-11)⊕S(-11)⊕S(-11)⊕S(-11)⊕S(-11)⊕S(-11)⊕S(-11)⊕S(-11)⊕S(-11)⊕S(-11)⊕S(-11)⊕S(-11)⊕S(-11)⊕S(-11)⊕S(-11)⊕S(-11)⊕S(-11)⊕S(-11)⊕S(-11)⊕S(-11)⊕S(-11)⊕S(-11)⊕S(-11)⊕S(-11)⊕S(-11)⊕S(-11)⊕S(-11)⊕S(-11)⊕S(-11)⊕S(-11)⊕S(-11)⊕S(-11)⊕S(-11)⊕S(-11)⊕S(-11)⊕S(-11)⊕S(-11)⊕S(-11)⊕S(-11)⊕S(-11)⊕S(-11)⊕S(-11)⊕S(-11)⊕S(-11)⊕S(-11)⊕S(-11)⊕S(-11)⊕S(-11)⊕S(-11)⊕S(-11)⊕S(-11)⊕S(-11)⊕S(-11)⊕S(-11)⊕S(-11)⊕S(-11)⊕S(-11)⊕S(-11)⊕S(-11)⊕S(-11)⊕S(-11)⊕S(-11)⊕S(-11)⊕S(-11)⊕S(-11)⊕S(-11)⊕S(-11)⊕S(-11)⊕S(-11)⊕S(-11)⊕S(-11)⊕S(-11)⊕S(-11)⊕S(-11)⊕S(-11)⊕S(-11)⊕S(-11)⊕S(-11)⊕S(-11)⊕S(-11)⊕S(-11)⊕S(-11)⊕S(-11)⊕S(-11)⊕S(-11)⊕S(-11)⊕S(-11)⊕S(-11)⊕S(-11)⊕S(-11)⊕S(-11)⊕S(-11)⊕S(-11)⊕S(-11)⊕S(-11)⊕S(-11)⊕S(-11)⊕S(-11)⊕S(-11)⊕S(-11)⊕S(-11)⊕S(-11)⊕S(-11)⊕S(-11)⊕S(-11)⊕S(-11)⊕S(-11)⊕S(-11)⊕S(-11)⊕S(-11)⊕S(-11)⊕S(-11)⊕S(-11)⊕S(-11)⊕S(-11)⊕S(-11)⊕S(-11)⊕S(-11)⊕S(-11)⊕S(-11)⊕S(-11)⊕S(-11)⊕S(-11)⊕S(-11)⊕S(-11)⊕S(-11)⊕S(-11)⊕S(-11)⊕S(-11)⊕S(-11)⊕S(-11)⊕S(-11)⊕S(-11)⊕S(-11)⊕S(-11)⊕S(-11)⊕S(-11)⊕S(-12)⊕S(-12)⊕S(-12)⊕S(-12)⊕S(-12)⊕S(-12)⊕S(-12)⊕S(-12)⊕S(-12) <-- S(-11)⊕S(-11)⊕S(-11)⊕S(-11)⊕S(-11)⊕S(-12)⊕S(-12)⊕S(-12)⊕S(-12)⊕S(-12)⊕S(-12)⊕S(-12)⊕S(-12)⊕S(-12)⊕S(-12)⊕S(-12)⊕S(-12)⊕S(-12)⊕S(-12)⊕S(-12)⊕S(-12)⊕S(-12)⊕S(-12)⊕S(-12)⊕S(-12)⊕S(-12)⊕S(-12)⊕S(-12)⊕S(-12)⊕S(-12)⊕S(-12)⊕S(-12)⊕S(-12)⊕S(-12)⊕S(-12)⊕S(-12)⊕S(-12)⊕S(-12)⊕S(-12)⊕S(-12)⊕S(-12)⊕S(-12)⊕S(-12)⊕S(-12)⊕S(-12)⊕S(-12)⊕S(-12)⊕S(-12)⊕S(-12)⊕S(-12)⊕S(-12)⊕S(-12)⊕S(-12)⊕S(-12)⊕S(-12)⊕S(-12)⊕S(-12)⊕S(-12)⊕S(-12)⊕S(-12)⊕S(-12)⊕S(-12)⊕S(-12)⊕S(-12)⊕S(-12)⊕S(-12)⊕S(-12)⊕S(-12)⊕S(-12)⊕S(-12)⊕S(-12)⊕S(-12)⊕S(-12)⊕S(-12)⊕S(-12)⊕S(-12)⊕S(-12)⊕S(-12)⊕S(-12)⊕S(-12)⊕S(-12)⊕S(-13)⊕S(-13)⊕S(-13)⊕S(-13)⊕S(-13)⊕S(-13)⊕S(-13)⊕S(-13)⊕S(-13)⊕S(-13)⊕S(-13)⊕S(-13)⊕S(-13)⊕S(-14)⊕S(-14)⊕S(-14)⊕S(-14)⊕S(-14)⊕S(-15) <-- S(-13)⊕S(-13)⊕S(-13)⊕S(-13)⊕S(-13)⊕S(-13)⊕S(-13)⊕S(-13)⊕S(-13)⊕S(-13)⊕S(-13)⊕S(-14)⊕S(-14)⊕S(-14)⊕S(-14)⊕S(-14)⊕S(-14)⊕S(-14)⊕S(-17) <-- 0"
      ]
     },
     "execution_count": 12,
     "metadata": {},
     "output_type": "execute_result"
    }
   ],
   "source": [
    "res = ideal(polys_h + fes_h).graded_free_resolution(algorithm=\"minimal\")\n",
    "res"
   ]
  },
  {
   "cell_type": "code",
   "execution_count": 13,
   "metadata": {},
   "outputs": [
    {
     "data": {
      "text/plain": [
       "11"
      ]
     },
     "execution_count": 13,
     "metadata": {},
     "output_type": "execute_result"
    }
   ],
   "source": [
    "cm_regularity(res)"
   ]
  },
  {
   "cell_type": "markdown",
   "metadata": {},
   "source": [
    "## p = 11, r = 3"
   ]
  },
  {
   "cell_type": "code",
   "execution_count": 14,
   "metadata": {},
   "outputs": [
    {
     "name": "stdout",
     "output_type": "stream",
     "text": [
      "MiMC Parameters\n",
      "Field: Finite Field of size 11\n",
      "r: 3\n",
      "Constants: [2, 6, 9]\n",
      "\n",
      "Plain: 3\n",
      "Key: 10\n",
      "Cipher: 7\n",
      "\n",
      "y^3 + 4*y^2 - x_1 - 2*y + 4\n",
      "x_1^3 + 3*x_1^2*y + 3*x_1*y^2 + y^3 - 4*x_1^2 + 3*x_1*y - 4*y^2 - 2*x_1 - x_2 - 2*y - 4\n",
      "x_2^3 + 3*x_2^2*y + 3*x_2*y^2 + y^3 + 5*x_2^2 - x_2*y + 5*y^2 + x_2 + 2*y - 4\n"
     ]
    }
   ],
   "source": [
    "p = 11\n",
    "field = GF(p, \"a\")\n",
    "\n",
    "rounds = 3\n",
    "\n",
    "mimc = MiMC(field=field, rounds=rounds)\n",
    "\n",
    "print(\"\")\n",
    "\n",
    "plain = field.random_element()\n",
    "key = field.random_element()\n",
    "cipher = mimc.encryption(plain, key)\n",
    "print(\"Plain:\", plain)\n",
    "print(\"Key:\", key)\n",
    "print(\"Cipher:\", cipher)\n",
    "\n",
    "polys = mimc.generate_polynomials(plain, cipher, info_level=0)\n",
    "polys_h = [poly.homogenize() for poly in polys]\n",
    "I = ideal(polys)\n",
    "variables = polys[0].parent().gens()\n",
    "fes = [var**field.order() - var for var in variables]\n",
    "fes_h = [fe.homogenize() for fe in fes]\n",
    "\n",
    "print(\"\")\n",
    "\n",
    "for poly in polys:\n",
    "    print(poly)"
   ]
  },
  {
   "cell_type": "code",
   "execution_count": 15,
   "metadata": {},
   "outputs": [
    {
     "name": "stdout",
     "output_type": "stream",
     "text": [
      "Ring: Multivariate Polynomial Ring in x_1, x_2, y over Finite Field of size 11\n",
      "Input polynomials:\n",
      "[y^3 + 4*y^2 - x_1 - 2*y + 4, x_1^3 + 3*x_1^2*y + 3*x_1*y^2 + y^3 - 4*x_1^2 + 3*x_1*y - 4*y^2 - 2*x_1 - x_2 - 2*y - 4, x_2^3 + 3*x_2^2*y + 3*x_2*y^2 + y^3 + 5*x_2^2 - x_2*y + 5*y^2 + x_2 + 2*y - 4, x_1^11 - x_1, x_2^11 - x_2, y^11 - y]\n",
      "\n",
      "--- Degree 0 ---\n",
      "Computing all monomials up to degree: 0\n",
      "Time needed: 0.0006194114685058594\n",
      "Computing Macaulay matrix.\n",
      "Time needed: 1.430511474609375e-06\n",
      "Performing Gaussian Elimination.\n",
      "Time needed: 0.00012373924255371094\n",
      "Is Groebner Basis: False\n",
      "\n",
      "--- Degree 1 ---\n",
      "Computing all monomials up to degree: 1\n",
      "Time needed: 0.0011105537414550781\n",
      "Computing Macaulay matrix.\n",
      "Time needed: 1.9073486328125e-06\n",
      "Performing Gaussian Elimination.\n",
      "Time needed: 0.0002086162567138672\n",
      "Is Groebner Basis: False\n",
      "\n",
      "--- Degree 2 ---\n",
      "Computing all monomials up to degree: 2\n",
      "Time needed: 0.0010061264038085938\n",
      "Computing Macaulay matrix.\n",
      "Time needed: 9.5367431640625e-07\n",
      "Performing Gaussian Elimination.\n",
      "Time needed: 0.00013113021850585938\n",
      "Is Groebner Basis: False\n",
      "\n",
      "--- Degree 3 ---\n",
      "Computing all monomials up to degree: 3\n",
      "Time needed: 0.001203775405883789\n",
      "Computing Macaulay matrix.\n",
      "Time needed: 9.5367431640625e-07\n",
      "Performing Gaussian Elimination.\n",
      "Time needed: 0.00018095970153808594\n",
      "Is Groebner Basis: False\n",
      "\n",
      "--- Degree 4 ---\n",
      "Computing all monomials up to degree: 4\n",
      "Time needed: 0.002279996871948242\n",
      "Computing Macaulay matrix.\n",
      "Time needed: 1.9073486328125e-06\n",
      "Performing Gaussian Elimination.\n",
      "Time needed: 0.0002765655517578125\n",
      "Is Groebner Basis: False\n",
      "\n",
      "--- Degree 5 ---\n",
      "Computing all monomials up to degree: 5\n",
      "Time needed: 0.00200653076171875\n",
      "Computing Macaulay matrix.\n",
      "Time needed: 9.5367431640625e-07\n",
      "Performing Gaussian Elimination.\n",
      "Time needed: 0.0003960132598876953\n",
      "Is Groebner Basis: False\n",
      "\n",
      "--- Degree 6 ---\n",
      "Computing all monomials up to degree: 6\n",
      "Time needed: 0.002683877944946289\n",
      "Computing Macaulay matrix.\n",
      "Time needed: 2.384185791015625e-06\n",
      "Performing Gaussian Elimination.\n",
      "Time needed: 0.0010089874267578125\n",
      "Is Groebner Basis: False\n",
      "\n",
      "--- Degree 7 ---\n",
      "Computing all monomials up to degree: 7\n",
      "Time needed: 0.003866434097290039\n",
      "Computing Macaulay matrix.\n",
      "Time needed: 1.430511474609375e-06\n",
      "Performing Gaussian Elimination.\n",
      "Time needed: 0.001825094223022461\n",
      "Is Groebner Basis: False\n",
      "\n",
      "--- Degree 8 ---\n",
      "Computing all monomials up to degree: 8\n",
      "Time needed: 0.006460428237915039\n",
      "Computing Macaulay matrix.\n",
      "Time needed: 3.814697265625e-06\n",
      "Performing Gaussian Elimination.\n",
      "Time needed: 0.004453182220458984\n",
      "Is Groebner Basis: False\n",
      "\n",
      "--- Degree 9 ---\n",
      "Computing all monomials up to degree: 9\n",
      "Time needed: 0.006352663040161133\n",
      "Computing Macaulay matrix.\n",
      "Time needed: 4.291534423828125e-06\n",
      "Performing Gaussian Elimination.\n",
      "Time needed: 0.006150245666503906\n",
      "Is Groebner Basis: False\n",
      "\n",
      "--- Degree 10 ---\n",
      "Computing all monomials up to degree: 10\n",
      "Time needed: 0.007928848266601562\n",
      "Computing Macaulay matrix.\n",
      "Time needed: 3.5762786865234375e-06\n",
      "Performing Gaussian Elimination.\n",
      "Time needed: 0.009624719619750977\n",
      "Is Groebner Basis: False\n",
      "\n",
      "--- Degree 11 ---\n",
      "Computing all monomials up to degree: 11\n",
      "Time needed: 0.008342742919921875\n",
      "Computing Macaulay matrix.\n",
      "Time needed: 2.86102294921875e-06\n",
      "Performing Gaussian Elimination.\n",
      "Time needed: 0.011858940124511719\n",
      "Is Groebner Basis: False\n",
      "\n",
      "--- Degree 12 ---\n",
      "Computing all monomials up to degree: 12\n",
      "Time needed: 0.009470939636230469\n",
      "Computing Macaulay matrix.\n",
      "Time needed: 4.291534423828125e-06\n",
      "Performing Gaussian Elimination.\n",
      "Time needed: 0.019262313842773438\n",
      "Is Groebner Basis: False\n",
      "\n",
      "--- Degree 13 ---\n",
      "Computing all monomials up to degree: 13\n",
      "Time needed: 0.009484052658081055\n",
      "Computing Macaulay matrix.\n",
      "Time needed: 3.5762786865234375e-06\n",
      "Performing Gaussian Elimination.\n",
      "Time needed: 0.04371523857116699\n",
      "Is Groebner Basis: True\n",
      "Total time needed: 0.6574392318725586\n"
     ]
    },
    {
     "data": {
      "text/plain": [
       "[x_1 + 2, x_2 - 5, y + 1]"
      ]
     },
     "execution_count": 15,
     "metadata": {},
     "output_type": "execute_result"
    }
   ],
   "source": [
    "lazard_gb_algorithm(polys + fes)"
   ]
  },
  {
   "cell_type": "code",
   "execution_count": 16,
   "metadata": {},
   "outputs": [
    {
     "data": {
      "text/plain": [
       "S(0) <-- S(-3)⊕S(-3)⊕S(-3)⊕S(-11)⊕S(-11)⊕S(-11) <-- S(-6)⊕S(-6)⊕S(-6)⊕S(-13)⊕S(-13)⊕S(-13)⊕S(-13)⊕S(-14)⊕S(-14)⊕S(-14)⊕S(-14)⊕S(-14)⊕S(-14)⊕S(-14)⊕S(-14)⊕S(-14)⊕S(-14)⊕S(-14)⊕S(-14)⊕S(-14)⊕S(-14)⊕S(-14)⊕S(-14)⊕S(-14)⊕S(-14) <-- S(-15)⊕S(-15)⊕S(-15)⊕S(-15)⊕S(-15)⊕S(-15)⊕S(-15)⊕S(-15)⊕S(-15)⊕S(-9)⊕S(-15)⊕S(-15)⊕S(-15)⊕S(-15)⊕S(-15)⊕S(-15)⊕S(-15)⊕S(-15)⊕S(-15)⊕S(-15)⊕S(-15)⊕S(-15)⊕S(-15)⊕S(-15)⊕S(-15)⊕S(-15)⊕S(-15)⊕S(-15)⊕S(-15)⊕S(-15)⊕S(-15)⊕S(-15)⊕S(-15)⊕S(-15) <-- S(-16)⊕S(-16)⊕S(-16)⊕S(-16)⊕S(-16)⊕S(-16)⊕S(-16)⊕S(-16)⊕S(-16)⊕S(-16)⊕S(-16)⊕S(-16)⊕S(-16)⊕S(-16) <-- 0"
      ]
     },
     "execution_count": 16,
     "metadata": {},
     "output_type": "execute_result"
    }
   ],
   "source": [
    "res = ideal(polys_h + fes_h).graded_free_resolution(algorithm=\"minimal\")\n",
    "res"
   ]
  },
  {
   "cell_type": "code",
   "execution_count": 17,
   "metadata": {},
   "outputs": [
    {
     "data": {
      "text/plain": [
       "13"
      ]
     },
     "execution_count": 17,
     "metadata": {},
     "output_type": "execute_result"
    }
   ],
   "source": [
    "cm_regularity(res)"
   ]
  },
  {
   "cell_type": "markdown",
   "metadata": {},
   "source": [
    "## p = 11, r = 4"
   ]
  },
  {
   "cell_type": "code",
   "execution_count": 18,
   "metadata": {},
   "outputs": [
    {
     "name": "stdout",
     "output_type": "stream",
     "text": [
      "MiMC Parameters\n",
      "Field: Finite Field of size 11\n",
      "r: 4\n",
      "Constants: [4, 6, 8, 5]\n",
      "\n",
      "Plain: 2\n",
      "Key: 7\n",
      "Cipher: 3\n",
      "\n",
      "y^3 - 4*y^2 - x_1 - 2*y - 4\n",
      "x_1^3 + 3*x_1^2*y + 3*x_1*y^2 + y^3 - 4*x_1^2 + 3*x_1*y - 4*y^2 - 2*x_1 - x_2 - 2*y - 4\n",
      "x_2^3 + 3*x_2^2*y + 3*x_2*y^2 + y^3 + 2*x_2^2 + 4*x_2*y + 2*y^2 + 5*x_2 - x_3 + 5*y - 5\n",
      "x_3^3 + 3*x_3^2*y + 3*x_3*y^2 + y^3 + 4*x_3^2 - 3*x_3*y + 4*y^2 - 2*x_3 - y + 1\n"
     ]
    }
   ],
   "source": [
    "p = 11\n",
    "field = GF(p, \"a\")\n",
    "\n",
    "rounds = 4\n",
    "\n",
    "mimc = MiMC(field=field, rounds=rounds)\n",
    "\n",
    "print(\"\")\n",
    "\n",
    "plain = field.random_element()\n",
    "key = field.random_element()\n",
    "cipher = mimc.encryption(plain, key)\n",
    "print(\"Plain:\", plain)\n",
    "print(\"Key:\", key)\n",
    "print(\"Cipher:\", cipher)\n",
    "\n",
    "polys = mimc.generate_polynomials(plain, cipher, info_level=0)\n",
    "polys_h = [poly.homogenize() for poly in polys]\n",
    "I = ideal(polys)\n",
    "variables = polys[0].parent().gens()\n",
    "fes = [var**field.order() - var for var in variables]\n",
    "fes_h = [fe.homogenize() for fe in fes]\n",
    "\n",
    "print(\"\")\n",
    "\n",
    "for poly in polys:\n",
    "    print(poly)"
   ]
  },
  {
   "cell_type": "code",
   "execution_count": 19,
   "metadata": {},
   "outputs": [
    {
     "name": "stdout",
     "output_type": "stream",
     "text": [
      "Ring: Multivariate Polynomial Ring in x_1, x_2, x_3, y over Finite Field of size 11\n",
      "Input polynomials:\n",
      "[y^3 - 4*y^2 - x_1 - 2*y - 4, x_1^3 + 3*x_1^2*y + 3*x_1*y^2 + y^3 - 4*x_1^2 + 3*x_1*y - 4*y^2 - 2*x_1 - x_2 - 2*y - 4, x_2^3 + 3*x_2^2*y + 3*x_2*y^2 + y^3 + 2*x_2^2 + 4*x_2*y + 2*y^2 + 5*x_2 - x_3 + 5*y - 5, x_3^3 + 3*x_3^2*y + 3*x_3*y^2 + y^3 + 4*x_3^2 - 3*x_3*y + 4*y^2 - 2*x_3 - y + 1, x_1^11 - x_1, x_2^11 - x_2, x_3^11 - x_3, y^11 - y]\n",
      "\n",
      "--- Degree 0 ---\n",
      "Computing all monomials up to degree: 0\n",
      "Time needed: 0.0006384849548339844\n",
      "Computing Macaulay matrix.\n",
      "Time needed: 1.1920928955078125e-06\n",
      "Performing Gaussian Elimination.\n",
      "Time needed: 8.177757263183594e-05\n",
      "Is Groebner Basis: False\n",
      "\n",
      "--- Degree 1 ---\n",
      "Computing all monomials up to degree: 1\n",
      "Time needed: 0.0009214878082275391\n",
      "Computing Macaulay matrix.\n",
      "Time needed: 1.430511474609375e-06\n",
      "Performing Gaussian Elimination.\n",
      "Time needed: 0.00043702125549316406\n",
      "Is Groebner Basis: False\n",
      "\n",
      "--- Degree 2 ---\n",
      "Computing all monomials up to degree: 2\n",
      "Time needed: 0.0015304088592529297\n",
      "Computing Macaulay matrix.\n",
      "Time needed: 1.1920928955078125e-06\n",
      "Performing Gaussian Elimination.\n",
      "Time needed: 0.0002319812774658203\n",
      "Is Groebner Basis: False\n",
      "\n",
      "--- Degree 3 ---\n",
      "Computing all monomials up to degree: 3\n",
      "Time needed: 0.0036132335662841797\n",
      "Computing Macaulay matrix.\n",
      "Time needed: 3.337860107421875e-06\n",
      "Performing Gaussian Elimination.\n",
      "Time needed: 0.0005068778991699219\n",
      "Is Groebner Basis: False\n",
      "\n",
      "--- Degree 4 ---\n",
      "Computing all monomials up to degree: 4\n",
      "Time needed: 0.0029268264770507812\n",
      "Computing Macaulay matrix.\n",
      "Time needed: 2.1457672119140625e-06\n",
      "Performing Gaussian Elimination.\n",
      "Time needed: 0.00042748451232910156\n",
      "Is Groebner Basis: False\n",
      "\n",
      "--- Degree 5 ---\n",
      "Computing all monomials up to degree: 5\n",
      "Time needed: 0.0033316612243652344\n",
      "Computing Macaulay matrix.\n",
      "Time needed: 1.9073486328125e-06\n",
      "Performing Gaussian Elimination.\n",
      "Time needed: 0.0008018016815185547\n",
      "Is Groebner Basis: False\n",
      "\n",
      "--- Degree 6 ---\n",
      "Computing all monomials up to degree: 6\n",
      "Time needed: 0.005270481109619141\n",
      "Computing Macaulay matrix.\n",
      "Time needed: 4.291534423828125e-06\n",
      "Performing Gaussian Elimination.\n",
      "Time needed: 0.0034694671630859375\n",
      "Is Groebner Basis: False\n",
      "\n",
      "--- Degree 7 ---\n",
      "Computing all monomials up to degree: 7\n",
      "Time needed: 0.013814210891723633\n",
      "Computing Macaulay matrix.\n",
      "Time needed: 3.814697265625e-06\n",
      "Performing Gaussian Elimination.\n",
      "Time needed: 0.005485057830810547\n",
      "Is Groebner Basis: False\n",
      "\n",
      "--- Degree 8 ---\n",
      "Computing all monomials up to degree: 8\n",
      "Time needed: 0.010351419448852539\n",
      "Computing Macaulay matrix.\n",
      "Time needed: 2.86102294921875e-06\n",
      "Performing Gaussian Elimination.\n",
      "Time needed: 0.012551546096801758\n",
      "Is Groebner Basis: False\n",
      "\n",
      "--- Degree 9 ---\n",
      "Computing all monomials up to degree: 9\n",
      "Time needed: 0.015407562255859375\n",
      "Computing Macaulay matrix.\n",
      "Time needed: 3.5762786865234375e-06\n",
      "Performing Gaussian Elimination.\n",
      "Time needed: 0.021975994110107422\n",
      "Is Groebner Basis: False\n",
      "\n",
      "--- Degree 10 ---\n",
      "Computing all monomials up to degree: 10\n",
      "Time needed: 0.01530146598815918\n",
      "Computing Macaulay matrix.\n",
      "Time needed: 5.0067901611328125e-06\n",
      "Performing Gaussian Elimination.\n",
      "Time needed: 0.0439755916595459\n",
      "Is Groebner Basis: False\n",
      "\n",
      "--- Degree 11 ---\n",
      "Computing all monomials up to degree: 11\n",
      "Time needed: 0.024147748947143555\n",
      "Computing Macaulay matrix.\n",
      "Time needed: 3.0994415283203125e-06\n",
      "Performing Gaussian Elimination.\n",
      "Time needed: 0.0934150218963623\n",
      "Is Groebner Basis: False\n",
      "\n",
      "--- Degree 12 ---\n",
      "Computing all monomials up to degree: 12\n",
      "Time needed: 0.04226541519165039\n",
      "Computing Macaulay matrix.\n",
      "Time needed: 3.5762786865234375e-06\n",
      "Performing Gaussian Elimination.\n",
      "Time needed: 0.19157934188842773\n",
      "Is Groebner Basis: False\n",
      "\n",
      "--- Degree 13 ---\n",
      "Computing all monomials up to degree: 13\n",
      "Time needed: 0.04430270195007324\n",
      "Computing Macaulay matrix.\n",
      "Time needed: 6.9141387939453125e-06\n",
      "Performing Gaussian Elimination.\n",
      "Time needed: 0.45244789123535156\n",
      "Is Groebner Basis: False\n",
      "\n",
      "--- Degree 14 ---\n",
      "Computing all monomials up to degree: 14\n",
      "Time needed: 0.04199957847595215\n",
      "Computing Macaulay matrix.\n",
      "Time needed: 4.5299530029296875e-06\n",
      "Performing Gaussian Elimination.\n",
      "Time needed: 0.7307686805725098\n",
      "Is Groebner Basis: True\n",
      "Total time needed: 4.203182220458984\n"
     ]
    },
    {
     "data": {
      "text/plain": [
       "[x_2^2 + 2*x_2 - y - 3,\n",
       " x_2*y - 4*x_2 - y - 1,\n",
       " y^2 - 5*x_2 - 4*y - 4,\n",
       " x_1 + 2*x_2 + 4*y - 1,\n",
       " x_3 + 3*y - 4]"
      ]
     },
     "execution_count": 19,
     "metadata": {},
     "output_type": "execute_result"
    }
   ],
   "source": [
    "lazard_gb_algorithm(polys + fes)"
   ]
  },
  {
   "cell_type": "code",
   "execution_count": 20,
   "metadata": {},
   "outputs": [
    {
     "data": {
      "text/plain": [
       "S(0) <-- S(-3)⊕S(-3)⊕S(-3)⊕S(-3)⊕S(-11)⊕S(-11)⊕S(-11)⊕S(-11) <-- S(-6)⊕S(-6)⊕S(-6)⊕S(-6)⊕S(-6)⊕S(-6)⊕S(-14)⊕S(-14)⊕S(-14)⊕S(-14)⊕S(-14)⊕S(-14)⊕S(-14)⊕S(-14)⊕S(-14)⊕S(-14)⊕S(-14)⊕S(-14)⊕S(-14)⊕S(-14)⊕S(-14)⊕S(-14)⊕S(-14)⊕S(-14)⊕S(-14)⊕S(-14)⊕S(-14)⊕S(-14)⊕S(-14)⊕S(-14)⊕S(-14)⊕S(-14)⊕S(-14)⊕S(-14)⊕S(-14)⊕S(-14)⊕S(-14)⊕S(-14)⊕S(-14)⊕S(-14)⊕S(-14)⊕S(-14)⊕S(-14)⊕S(-14)⊕S(-14)⊕S(-14)⊕S(-14)⊕S(-14)⊕S(-14)⊕S(-14)⊕S(-14)⊕S(-14)⊕S(-14)⊕S(-14)⊕S(-14)⊕S(-14)⊕S(-14)⊕S(-14)⊕S(-14)⊕S(-14)⊕S(-14)⊕S(-14)⊕S(-14)⊕S(-14)⊕S(-14)⊕S(-14)⊕S(-14)⊕S(-14) <-- S(-15)⊕S(-15)⊕S(-15)⊕S(-15)⊕S(-15)⊕S(-15)⊕S(-15)⊕S(-15)⊕S(-15)⊕S(-15)⊕S(-15)⊕S(-15)⊕S(-15)⊕S(-15)⊕S(-15)⊕S(-15)⊕S(-15)⊕S(-15)⊕S(-15)⊕S(-15)⊕S(-15)⊕S(-15)⊕S(-15)⊕S(-15)⊕S(-15)⊕S(-15)⊕S(-15)⊕S(-15)⊕S(-15)⊕S(-9)⊕S(-9)⊕S(-9)⊕S(-9)⊕S(-15)⊕S(-15)⊕S(-15)⊕S(-15)⊕S(-15)⊕S(-15)⊕S(-15)⊕S(-15)⊕S(-15)⊕S(-15)⊕S(-15)⊕S(-15)⊕S(-15)⊕S(-15)⊕S(-15)⊕S(-15)⊕S(-15)⊕S(-15)⊕S(-15)⊕S(-15)⊕S(-15)⊕S(-15)⊕S(-15)⊕S(-15)⊕S(-15)⊕S(-15)⊕S(-15)⊕S(-15)⊕S(-15)⊕S(-15)⊕S(-15)⊕S(-15)⊕S(-15)⊕S(-15)⊕S(-15)⊕S(-15)⊕S(-15)⊕S(-15)⊕S(-15)⊕S(-15)⊕S(-15)⊕S(-15)⊕S(-15)⊕S(-15)⊕S(-15)⊕S(-15)⊕S(-15)⊕S(-15)⊕S(-15)⊕S(-15)⊕S(-15)⊕S(-15)⊕S(-15)⊕S(-15)⊕S(-15)⊕S(-15)⊕S(-15)⊕S(-15)⊕S(-15)⊕S(-15)⊕S(-15)⊕S(-15)⊕S(-15)⊕S(-15)⊕S(-15)⊕S(-15)⊕S(-15)⊕S(-15)⊕S(-15)⊕S(-15)⊕S(-15)⊕S(-15)⊕S(-15)⊕S(-15)⊕S(-15)⊕S(-15)⊕S(-15)⊕S(-15)⊕S(-15) <-- S(-16)⊕S(-16)⊕S(-16)⊕S(-16)⊕S(-16)⊕S(-16)⊕S(-16)⊕S(-16)⊕S(-16)⊕S(-16)⊕S(-16)⊕S(-16)⊕S(-16)⊕S(-16)⊕S(-16)⊕S(-16)⊕S(-16)⊕S(-16)⊕S(-16)⊕S(-16)⊕S(-16)⊕S(-16)⊕S(-16)⊕S(-16)⊕S(-16)⊕S(-16)⊕S(-17)⊕S(-17)⊕S(-17)⊕S(-17)⊕S(-17)⊕S(-17)⊕S(-17)⊕S(-17)⊕S(-17)⊕S(-17)⊕S(-17)⊕S(-17)⊕S(-17)⊕S(-17)⊕S(-17)⊕S(-17)⊕S(-17)⊕S(-17)⊕S(-17)⊕S(-17)⊕S(-17)⊕S(-17)⊕S(-17)⊕S(-17)⊕S(-17)⊕S(-17)⊕S(-17)⊕S(-17)⊕S(-17)⊕S(-17)⊕S(-17)⊕S(-17)⊕S(-12)⊕S(-16)⊕S(-16)⊕S(-16)⊕S(-16)⊕S(-16)⊕S(-16)⊕S(-16)⊕S(-16)⊕S(-16)⊕S(-16) <-- S(-18)⊕S(-18)⊕S(-18)⊕S(-18)⊕S(-18)⊕S(-18)⊕S(-18)⊕S(-18)⊕S(-18)⊕S(-18)⊕S(-18)⊕S(-18)⊕S(-18)⊕S(-18)⊕S(-18)⊕S(-18)⊕S(-18)⊕S(-18) <-- 0"
      ]
     },
     "execution_count": 20,
     "metadata": {},
     "output_type": "execute_result"
    }
   ],
   "source": [
    "res = ideal(polys_h + fes_h).graded_free_resolution(algorithm=\"minimal\")\n",
    "res"
   ]
  },
  {
   "cell_type": "code",
   "execution_count": 21,
   "metadata": {},
   "outputs": [
    {
     "data": {
      "text/plain": [
       "14"
      ]
     },
     "execution_count": 21,
     "metadata": {},
     "output_type": "execute_result"
    }
   ],
   "source": [
    "cm_regularity(res)"
   ]
  },
  {
   "cell_type": "markdown",
   "metadata": {},
   "source": [
    "## p = 11, r = 5"
   ]
  },
  {
   "cell_type": "code",
   "execution_count": 22,
   "metadata": {},
   "outputs": [
    {
     "name": "stdout",
     "output_type": "stream",
     "text": [
      "MiMC Parameters\n",
      "Field: Finite Field of size 11\n",
      "r: 5\n",
      "Constants: [4, 3, 8, 9, 0]\n",
      "\n",
      "Plain: 7\n",
      "Key: 1\n",
      "Cipher: 6\n",
      "\n",
      "y^3 - x_1\n",
      "x_1^3 + 3*x_1^2*y + 3*x_1*y^2 + y^3 - 2*x_1^2 - 4*x_1*y - 2*y^2 + 5*x_1 - x_2 + 5*y + 5\n",
      "x_2^3 + 3*x_2^2*y + 3*x_2*y^2 + y^3 + 2*x_2^2 + 4*x_2*y + 2*y^2 + 5*x_2 - x_3 + 5*y - 5\n",
      "x_3^3 + 3*x_3^2*y + 3*x_3*y^2 + y^3 + 5*x_3^2 - x_3*y + 5*y^2 + x_3 - x_4 + y + 3\n",
      "x_4^3 + 3*x_4^2*y + 3*x_4*y^2 + y^3 + y + 5\n"
     ]
    }
   ],
   "source": [
    "p = 11\n",
    "field = GF(p, \"a\")\n",
    "\n",
    "rounds = 5\n",
    "\n",
    "mimc = MiMC(field=field, rounds=rounds)\n",
    "\n",
    "print(\"\")\n",
    "\n",
    "plain = field.random_element()\n",
    "key = field.random_element()\n",
    "cipher = mimc.encryption(plain, key)\n",
    "print(\"Plain:\", plain)\n",
    "print(\"Key:\", key)\n",
    "print(\"Cipher:\", cipher)\n",
    "\n",
    "polys = mimc.generate_polynomials(plain, cipher, info_level=0)\n",
    "polys_h = [poly.homogenize() for poly in polys]\n",
    "I = ideal(polys)\n",
    "variables = polys[0].parent().gens()\n",
    "fes = [var**field.order() - var for var in variables]\n",
    "fes_h = [fe.homogenize() for fe in fes]\n",
    "\n",
    "print(\"\")\n",
    "\n",
    "for poly in polys:\n",
    "    print(poly)"
   ]
  },
  {
   "cell_type": "code",
   "execution_count": 23,
   "metadata": {},
   "outputs": [
    {
     "name": "stdout",
     "output_type": "stream",
     "text": [
      "Ring: Multivariate Polynomial Ring in x_1, x_2, x_3, x_4, y over Finite Field of size 11\n",
      "Input polynomials:\n",
      "[y^3 - x_1, x_1^3 + 3*x_1^2*y + 3*x_1*y^2 + y^3 - 2*x_1^2 - 4*x_1*y - 2*y^2 + 5*x_1 - x_2 + 5*y + 5, x_2^3 + 3*x_2^2*y + 3*x_2*y^2 + y^3 + 2*x_2^2 + 4*x_2*y + 2*y^2 + 5*x_2 - x_3 + 5*y - 5, x_3^3 + 3*x_3^2*y + 3*x_3*y^2 + y^3 + 5*x_3^2 - x_3*y + 5*y^2 + x_3 - x_4 + y + 3, x_4^3 + 3*x_4^2*y + 3*x_4*y^2 + y^3 + y + 5, x_1^11 - x_1, x_2^11 - x_2, x_3^11 - x_3, x_4^11 - x_4, y^11 - y]\n",
      "\n",
      "--- Degree 0 ---\n",
      "Computing all monomials up to degree: 0\n",
      "Time needed: 0.0005729198455810547\n",
      "Computing Macaulay matrix.\n",
      "Time needed: 1.1920928955078125e-06\n",
      "Performing Gaussian Elimination.\n",
      "Time needed: 7.510185241699219e-05\n",
      "Is Groebner Basis: False\n",
      "\n",
      "--- Degree 1 ---\n",
      "Computing all monomials up to degree: 1\n",
      "Time needed: 0.0010304450988769531\n",
      "Computing Macaulay matrix.\n",
      "Time needed: 1.1920928955078125e-06\n",
      "Performing Gaussian Elimination.\n",
      "Time needed: 0.00012755393981933594\n",
      "Is Groebner Basis: False\n",
      "\n",
      "--- Degree 2 ---\n",
      "Computing all monomials up to degree: 2\n",
      "Time needed: 0.0012097358703613281\n",
      "Computing Macaulay matrix.\n",
      "Time needed: 1.430511474609375e-06\n",
      "Performing Gaussian Elimination.\n",
      "Time needed: 0.00013399124145507812\n",
      "Is Groebner Basis: False\n",
      "\n",
      "--- Degree 3 ---\n",
      "Computing all monomials up to degree: 3\n",
      "Time needed: 0.0017249584197998047\n",
      "Computing Macaulay matrix.\n",
      "Time needed: 1.1920928955078125e-06\n",
      "Performing Gaussian Elimination.\n",
      "Time needed: 0.0002257823944091797\n",
      "Is Groebner Basis: False\n",
      "\n",
      "--- Degree 4 ---\n",
      "Computing all monomials up to degree: 4\n",
      "Time needed: 0.0035238265991210938\n",
      "Computing Macaulay matrix.\n",
      "Time needed: 1.9073486328125e-06\n",
      "Performing Gaussian Elimination.\n",
      "Time needed: 0.0004405975341796875\n",
      "Is Groebner Basis: False\n",
      "\n",
      "--- Degree 5 ---\n",
      "Computing all monomials up to degree: 5\n",
      "Time needed: 0.0050811767578125\n",
      "Computing Macaulay matrix.\n",
      "Time needed: 3.337860107421875e-06\n",
      "Performing Gaussian Elimination.\n",
      "Time needed: 0.0021958351135253906\n",
      "Is Groebner Basis: False\n",
      "\n",
      "--- Degree 6 ---\n",
      "Computing all monomials up to degree: 6\n",
      "Time needed: 0.016609668731689453\n",
      "Computing Macaulay matrix.\n",
      "Time needed: 3.0994415283203125e-06\n",
      "Performing Gaussian Elimination.\n",
      "Time needed: 0.005590200424194336\n",
      "Is Groebner Basis: False\n",
      "\n",
      "--- Degree 7 ---\n",
      "Computing all monomials up to degree: 7\n",
      "Time needed: 0.012079477310180664\n",
      "Computing Macaulay matrix.\n",
      "Time needed: 1.6689300537109375e-06\n",
      "Performing Gaussian Elimination.\n",
      "Time needed: 0.01165318489074707\n",
      "Is Groebner Basis: False\n",
      "\n",
      "--- Degree 8 ---\n",
      "Computing all monomials up to degree: 8\n",
      "Time needed: 0.01806354522705078\n",
      "Computing Macaulay matrix.\n",
      "Time needed: 1.430511474609375e-06\n",
      "Performing Gaussian Elimination.\n",
      "Time needed: 0.03251934051513672\n",
      "Is Groebner Basis: False\n",
      "\n",
      "--- Degree 9 ---\n",
      "Computing all monomials up to degree: 9\n",
      "Time needed: 0.027316808700561523\n",
      "Computing Macaulay matrix.\n",
      "Time needed: 3.0994415283203125e-06\n",
      "Performing Gaussian Elimination.\n",
      "Time needed: 0.08673572540283203\n",
      "Is Groebner Basis: False\n",
      "\n",
      "--- Degree 10 ---\n",
      "Computing all monomials up to degree: 10\n",
      "Time needed: 0.04369544982910156\n",
      "Computing Macaulay matrix.\n",
      "Time needed: 2.6226043701171875e-06\n",
      "Performing Gaussian Elimination.\n",
      "Time needed: 0.23958253860473633\n",
      "Is Groebner Basis: False\n",
      "\n",
      "--- Degree 11 ---\n",
      "Computing all monomials up to degree: 11\n",
      "Time needed: 0.0619654655456543\n",
      "Computing Macaulay matrix.\n",
      "Time needed: 3.5762786865234375e-06\n",
      "Performing Gaussian Elimination.\n",
      "Time needed: 0.5688967704772949\n",
      "Is Groebner Basis: False\n",
      "\n",
      "--- Degree 12 ---\n",
      "Computing all monomials up to degree: 12\n",
      "Time needed: 0.11053729057312012\n",
      "Computing Macaulay matrix.\n",
      "Time needed: 5.0067901611328125e-06\n",
      "Performing Gaussian Elimination.\n",
      "Time needed: 1.8248319625854492\n",
      "Is Groebner Basis: False\n",
      "\n",
      "--- Degree 13 ---\n",
      "Computing all monomials up to degree: 13\n",
      "Time needed: 0.3817422389984131\n",
      "Computing Macaulay matrix.\n",
      "Time needed: 6.198883056640625e-06\n",
      "Performing Gaussian Elimination.\n",
      "Time needed: 6.891995429992676\n",
      "Is Groebner Basis: False\n",
      "\n",
      "--- Degree 14 ---\n",
      "Computing all monomials up to degree: 14\n",
      "Time needed: 0.1604299545288086\n",
      "Computing Macaulay matrix.\n",
      "Time needed: 5.0067901611328125e-06\n",
      "Performing Gaussian Elimination.\n",
      "Time needed: 16.650496006011963\n",
      "Is Groebner Basis: True\n",
      "Total time needed: 39.458844900131226\n"
     ]
    },
    {
     "data": {
      "text/plain": [
       "[x_4^2 + 3*x_4 - 5*y - 5,\n",
       " x_4*y - 2*x_4 - y + 3,\n",
       " y^2 - 2*x_4 - 4*y - 4,\n",
       " x_1 - x_4 + 1,\n",
       " x_2 + 3*x_4 + 1,\n",
       " x_3 - 4*x_4 + 5*y - 5]"
      ]
     },
     "execution_count": 23,
     "metadata": {},
     "output_type": "execute_result"
    }
   ],
   "source": [
    "lazard_gb_algorithm(polys + fes)"
   ]
  },
  {
   "cell_type": "code",
   "execution_count": 24,
   "metadata": {},
   "outputs": [
    {
     "data": {
      "text/plain": [
       "S(0) <-- S(-3)⊕S(-3)⊕S(-3)⊕S(-3)⊕S(-3)⊕S(-11)⊕S(-11)⊕S(-11)⊕S(-11)⊕S(-11) <-- S(-6)⊕S(-6)⊕S(-6)⊕S(-6)⊕S(-6)⊕S(-6)⊕S(-6)⊕S(-6)⊕S(-6)⊕S(-6)⊕S(-15)⊕S(-14)⊕S(-14)⊕S(-14)⊕S(-14)⊕S(-14)⊕S(-14)⊕S(-14)⊕S(-14)⊕S(-14)⊕S(-14)⊕S(-14)⊕S(-14)⊕S(-14)⊕S(-14)⊕S(-14)⊕S(-14)⊕S(-14)⊕S(-14)⊕S(-14)⊕S(-14)⊕S(-14)⊕S(-14)⊕S(-14)⊕S(-14)⊕S(-14)⊕S(-14)⊕S(-14)⊕S(-14)⊕S(-14)⊕S(-14)⊕S(-14)⊕S(-14)⊕S(-14)⊕S(-14)⊕S(-14)⊕S(-14)⊕S(-14)⊕S(-14)⊕S(-14)⊕S(-14)⊕S(-14)⊕S(-14)⊕S(-14)⊕S(-14)⊕S(-14)⊕S(-14)⊕S(-14)⊕S(-14)⊕S(-14)⊕S(-14)⊕S(-14)⊕S(-14)⊕S(-14)⊕S(-14)⊕S(-14)⊕S(-14)⊕S(-14)⊕S(-14)⊕S(-15)⊕S(-15)⊕S(-15)⊕S(-15)⊕S(-15)⊕S(-15)⊕S(-15)⊕S(-15)⊕S(-15)⊕S(-15)⊕S(-15)⊕S(-15)⊕S(-15)⊕S(-15)⊕S(-15)⊕S(-15)⊕S(-15)⊕S(-15)⊕S(-15)⊕S(-15)⊕S(-15)⊕S(-15)⊕S(-15)⊕S(-15)⊕S(-15)⊕S(-15)⊕S(-15)⊕S(-15)⊕S(-15)⊕S(-15)⊕S(-15)⊕S(-15)⊕S(-15)⊕S(-15)⊕S(-15)⊕S(-15)⊕S(-15)⊕S(-15)⊕S(-15)⊕S(-15)⊕S(-15)⊕S(-15) <-- S(-9)⊕S(-9)⊕S(-9)⊕S(-9)⊕S(-9)⊕S(-9)⊕S(-9)⊕S(-9)⊕S(-9)⊕S(-9)⊕S(-16)⊕S(-16)⊕S(-16)⊕S(-16)⊕S(-16)⊕S(-16)⊕S(-16)⊕S(-16)⊕S(-16)⊕S(-16)⊕S(-16)⊕S(-16)⊕S(-16)⊕S(-16)⊕S(-16)⊕S(-16)⊕S(-16)⊕S(-16)⊕S(-16)⊕S(-16)⊕S(-16)⊕S(-16)⊕S(-16)⊕S(-16)⊕S(-16)⊕S(-16)⊕S(-16)⊕S(-16)⊕S(-16)⊕S(-16)⊕S(-16)⊕S(-16)⊕S(-16)⊕S(-16)⊕S(-16)⊕S(-16)⊕S(-16)⊕S(-16)⊕S(-16)⊕S(-16)⊕S(-16)⊕S(-16)⊕S(-16)⊕S(-16)⊕S(-16)⊕S(-16)⊕S(-16)⊕S(-16)⊕S(-16)⊕S(-16)⊕S(-16)⊕S(-16)⊕S(-16)⊕S(-16)⊕S(-16)⊕S(-16)⊕S(-16)⊕S(-16)⊕S(-16)⊕S(-16)⊕S(-16)⊕S(-16)⊕S(-16)⊕S(-16)⊕S(-16)⊕S(-16)⊕S(-16)⊕S(-16)⊕S(-16)⊕S(-16)⊕S(-16)⊕S(-16)⊕S(-16)⊕S(-16)⊕S(-16)⊕S(-16)⊕S(-16)⊕S(-16)⊕S(-16)⊕S(-16)⊕S(-16)⊕S(-16)⊕S(-16)⊕S(-16)⊕S(-16)⊕S(-16)⊕S(-16)⊕S(-16)⊕S(-16)⊕S(-16)⊕S(-16)⊕S(-16)⊕S(-16)⊕S(-16)⊕S(-16)⊕S(-16)⊕S(-16)⊕S(-16)⊕S(-16)⊕S(-16)⊕S(-16)⊕S(-16)⊕S(-16)⊕S(-16)⊕S(-16)⊕S(-16)⊕S(-16)⊕S(-16)⊕S(-16)⊕S(-16)⊕S(-16)⊕S(-16)⊕S(-16)⊕S(-16)⊕S(-16)⊕S(-16)⊕S(-16)⊕S(-16)⊕S(-16)⊕S(-16)⊕S(-16)⊕S(-16)⊕S(-16)⊕S(-16)⊕S(-16)⊕S(-16)⊕S(-16)⊕S(-16)⊕S(-16)⊕S(-16)⊕S(-16)⊕S(-16)⊕S(-16)⊕S(-16)⊕S(-16)⊕S(-16)⊕S(-16)⊕S(-16)⊕S(-16)⊕S(-16)⊕S(-16)⊕S(-16)⊕S(-16)⊕S(-16)⊕S(-16)⊕S(-16)⊕S(-16)⊕S(-16)⊕S(-16)⊕S(-16)⊕S(-16)⊕S(-16)⊕S(-16)⊕S(-16)⊕S(-16)⊕S(-16)⊕S(-16)⊕S(-16)⊕S(-16)⊕S(-16)⊕S(-16)⊕S(-16)⊕S(-16)⊕S(-16)⊕S(-16)⊕S(-16)⊕S(-16)⊕S(-16)⊕S(-16)⊕S(-16)⊕S(-16)⊕S(-16)⊕S(-16)⊕S(-16)⊕S(-16)⊕S(-16)⊕S(-16)⊕S(-16)⊕S(-16)⊕S(-16)⊕S(-16)⊕S(-16)⊕S(-16)⊕S(-16)⊕S(-16)⊕S(-16)⊕S(-16)⊕S(-16)⊕S(-16)⊕S(-16)⊕S(-16)⊕S(-16)⊕S(-16)⊕S(-16)⊕S(-16)⊕S(-16)⊕S(-16)⊕S(-16)⊕S(-16)⊕S(-16)⊕S(-16)⊕S(-16)⊕S(-16)⊕S(-16)⊕S(-16)⊕S(-16)⊕S(-16)⊕S(-16)⊕S(-16)⊕S(-16)⊕S(-16)⊕S(-16)⊕S(-16)⊕S(-16)⊕S(-16)⊕S(-16)⊕S(-16)⊕S(-16)⊕S(-16)⊕S(-16)⊕S(-16)⊕S(-16)⊕S(-16)⊕S(-16)⊕S(-16)⊕S(-16)⊕S(-16)⊕S(-16)⊕S(-16)⊕S(-16)⊕S(-16)⊕S(-16)⊕S(-16)⊕S(-16)⊕S(-16)⊕S(-16)⊕S(-16)⊕S(-16)⊕S(-16)⊕S(-16)⊕S(-16)⊕S(-16)⊕S(-16)⊕S(-16)⊕S(-16)⊕S(-16)⊕S(-16)⊕S(-16)⊕S(-16)⊕S(-16)⊕S(-16)⊕S(-16)⊕S(-16)⊕S(-16)⊕S(-16)⊕S(-16)⊕S(-16)⊕S(-16)⊕S(-16)⊕S(-16)⊕S(-16)⊕S(-16)⊕S(-16)⊕S(-16)⊕S(-16)⊕S(-16)⊕S(-16)⊕S(-16)⊕S(-16)⊕S(-16)⊕S(-16)⊕S(-16)⊕S(-16)⊕S(-16)⊕S(-16)⊕S(-16)⊕S(-16)⊕S(-16)⊕S(-16)⊕S(-16)⊕S(-16)⊕S(-16)⊕S(-16)⊕S(-16)⊕S(-16)⊕S(-16)⊕S(-16)⊕S(-16)⊕S(-16)⊕S(-16)⊕S(-16)⊕S(-16)⊕S(-16)⊕S(-16)⊕S(-16)⊕S(-16)⊕S(-16)⊕S(-16)⊕S(-16)⊕S(-16)⊕S(-16)⊕S(-16)⊕S(-16)⊕S(-16)⊕S(-16)⊕S(-16)⊕S(-16)⊕S(-16)⊕S(-16)⊕S(-16)⊕S(-16)⊕S(-16)⊕S(-16)⊕S(-16)⊕S(-16)⊕S(-16)⊕S(-16)⊕S(-16)⊕S(-16)⊕S(-16)⊕S(-16)⊕S(-16)⊕S(-16)⊕S(-16)⊕S(-16)⊕S(-16)⊕S(-16)⊕S(-16)⊕S(-16)⊕S(-16)⊕S(-16)⊕S(-16)⊕S(-16)⊕S(-16)⊕S(-16)⊕S(-16)⊕S(-16)⊕S(-16)⊕S(-16)⊕S(-16)⊕S(-16)⊕S(-16)⊕S(-16)⊕S(-16)⊕S(-16)⊕S(-16)⊕S(-16)⊕S(-16)⊕S(-16)⊕S(-16)⊕S(-16)⊕S(-16)⊕S(-16)⊕S(-16)⊕S(-16)⊕S(-16)⊕S(-16)⊕S(-16)⊕S(-16)⊕S(-16)⊕S(-16)⊕S(-16)⊕S(-16)⊕S(-16)⊕S(-16)⊕S(-16)⊕S(-16)⊕S(-16)⊕S(-16)⊕S(-16)⊕S(-16)⊕S(-16)⊕S(-16)⊕S(-16)⊕S(-16)⊕S(-16)⊕S(-16)⊕S(-16)⊕S(-16)⊕S(-16)⊕S(-16)⊕S(-16)⊕S(-16)⊕S(-16)⊕S(-16)⊕S(-16)⊕S(-16)⊕S(-16)⊕S(-16)⊕S(-16)⊕S(-16)⊕S(-16)⊕S(-16)⊕S(-16)⊕S(-16)⊕S(-16)⊕S(-16)⊕S(-16)⊕S(-16)⊕S(-16)⊕S(-16)⊕S(-16)⊕S(-16)⊕S(-16)⊕S(-16)⊕S(-16)⊕S(-16)⊕S(-16)⊕S(-16)⊕S(-16)⊕S(-16)⊕S(-16)⊕S(-16)⊕S(-16)⊕S(-16)⊕S(-16)⊕S(-16)⊕S(-16)⊕S(-16)⊕S(-16)⊕S(-16)⊕S(-16)⊕S(-16)⊕S(-16)⊕S(-16)⊕S(-16)⊕S(-16)⊕S(-16)⊕S(-16)⊕S(-16)⊕S(-16)⊕S(-16)⊕S(-16)⊕S(-16)⊕S(-16)⊕S(-16)⊕S(-16)⊕S(-16)⊕S(-16)⊕S(-16)⊕S(-16)⊕S(-16)⊕S(-16)⊕S(-16)⊕S(-16)⊕S(-16)⊕S(-16)⊕S(-16)⊕S(-16)⊕S(-16)⊕S(-16)⊕S(-16)⊕S(-16)⊕S(-16)⊕S(-16)⊕S(-16) <-- S(-17)⊕S(-17)⊕S(-17)⊕S(-17)⊕S(-17)⊕S(-17)⊕S(-17)⊕S(-17)⊕S(-17)⊕S(-17)⊕S(-17)⊕S(-17)⊕S(-17)⊕S(-17)⊕S(-17)⊕S(-17)⊕S(-17)⊕S(-17)⊕S(-17)⊕S(-17)⊕S(-17)⊕S(-17)⊕S(-17)⊕S(-17)⊕S(-17)⊕S(-17)⊕S(-17)⊕S(-17)⊕S(-17)⊕S(-17)⊕S(-17)⊕S(-17)⊕S(-17)⊕S(-17)⊕S(-17)⊕S(-17)⊕S(-17)⊕S(-17)⊕S(-17)⊕S(-17)⊕S(-17)⊕S(-17)⊕S(-17)⊕S(-17)⊕S(-17)⊕S(-17)⊕S(-17)⊕S(-17)⊕S(-17)⊕S(-17)⊕S(-17)⊕S(-17)⊕S(-17)⊕S(-17)⊕S(-17)⊕S(-17)⊕S(-17)⊕S(-17)⊕S(-17)⊕S(-17)⊕S(-17)⊕S(-17)⊕S(-17)⊕S(-17)⊕S(-17)⊕S(-17)⊕S(-17)⊕S(-17)⊕S(-17)⊕S(-17)⊕S(-17)⊕S(-17)⊕S(-17)⊕S(-17)⊕S(-17)⊕S(-17)⊕S(-17)⊕S(-17)⊕S(-17)⊕S(-17)⊕S(-17)⊕S(-17)⊕S(-17)⊕S(-17)⊕S(-17)⊕S(-17)⊕S(-17)⊕S(-17)⊕S(-17)⊕S(-17)⊕S(-17)⊕S(-17)⊕S(-17)⊕S(-17)⊕S(-17)⊕S(-17)⊕S(-17)⊕S(-17)⊕S(-17)⊕S(-17)⊕S(-17)⊕S(-17)⊕S(-17)⊕S(-17)⊕S(-17)⊕S(-17)⊕S(-17)⊕S(-17)⊕S(-17)⊕S(-17)⊕S(-17)⊕S(-17)⊕S(-17)⊕S(-17)⊕S(-17)⊕S(-17)⊕S(-17)⊕S(-17)⊕S(-17)⊕S(-17)⊕S(-17)⊕S(-17)⊕S(-17)⊕S(-17)⊕S(-17)⊕S(-17)⊕S(-17)⊕S(-17)⊕S(-17)⊕S(-17)⊕S(-17)⊕S(-17)⊕S(-17)⊕S(-17)⊕S(-17)⊕S(-17)⊕S(-17)⊕S(-17)⊕S(-17)⊕S(-17)⊕S(-17)⊕S(-17)⊕S(-17)⊕S(-17)⊕S(-17)⊕S(-17)⊕S(-17)⊕S(-17)⊕S(-17)⊕S(-17)⊕S(-17)⊕S(-17)⊕S(-17)⊕S(-17)⊕S(-17)⊕S(-17)⊕S(-17)⊕S(-17)⊕S(-17)⊕S(-17)⊕S(-17)⊕S(-17)⊕S(-17)⊕S(-17)⊕S(-17)⊕S(-17)⊕S(-17)⊕S(-17)⊕S(-17)⊕S(-17)⊕S(-17)⊕S(-17)⊕S(-17)⊕S(-17)⊕S(-17)⊕S(-17)⊕S(-17)⊕S(-17)⊕S(-17)⊕S(-17)⊕S(-17)⊕S(-17)⊕S(-17)⊕S(-17)⊕S(-17)⊕S(-17)⊕S(-17)⊕S(-17)⊕S(-17)⊕S(-17)⊕S(-17)⊕S(-17)⊕S(-17)⊕S(-17)⊕S(-17)⊕S(-17)⊕S(-17)⊕S(-17)⊕S(-17)⊕S(-17)⊕S(-17)⊕S(-17)⊕S(-17)⊕S(-17)⊕S(-17)⊕S(-17)⊕S(-17)⊕S(-17)⊕S(-17)⊕S(-17)⊕S(-17)⊕S(-17)⊕S(-17)⊕S(-17)⊕S(-17)⊕S(-17)⊕S(-17)⊕S(-17)⊕S(-17)⊕S(-17)⊕S(-17)⊕S(-17)⊕S(-17)⊕S(-17)⊕S(-17)⊕S(-17)⊕S(-17)⊕S(-17)⊕S(-17)⊕S(-17)⊕S(-17)⊕S(-17)⊕S(-17)⊕S(-17)⊕S(-17)⊕S(-17)⊕S(-17)⊕S(-17)⊕S(-17)⊕S(-17)⊕S(-17)⊕S(-17)⊕S(-17)⊕S(-17)⊕S(-17)⊕S(-17)⊕S(-17)⊕S(-17)⊕S(-17)⊕S(-17)⊕S(-17)⊕S(-17)⊕S(-17)⊕S(-17)⊕S(-17)⊕S(-17)⊕S(-17)⊕S(-17)⊕S(-17)⊕S(-17)⊕S(-17)⊕S(-17)⊕S(-17)⊕S(-17)⊕S(-17)⊕S(-17)⊕S(-17)⊕S(-17)⊕S(-17)⊕S(-17)⊕S(-17)⊕S(-17)⊕S(-17)⊕S(-17)⊕S(-17)⊕S(-17)⊕S(-17)⊕S(-17)⊕S(-17)⊕S(-17)⊕S(-17)⊕S(-17)⊕S(-17)⊕S(-17)⊕S(-17)⊕S(-17)⊕S(-17)⊕S(-17)⊕S(-17)⊕S(-17)⊕S(-17)⊕S(-17)⊕S(-17)⊕S(-17)⊕S(-17)⊕S(-17)⊕S(-17)⊕S(-17)⊕S(-17)⊕S(-17)⊕S(-17)⊕S(-17)⊕S(-17)⊕S(-17)⊕S(-17)⊕S(-17)⊕S(-17)⊕S(-17)⊕S(-17)⊕S(-17)⊕S(-17)⊕S(-17)⊕S(-17)⊕S(-17)⊕S(-17)⊕S(-17)⊕S(-17)⊕S(-17)⊕S(-17)⊕S(-17)⊕S(-17)⊕S(-17)⊕S(-17)⊕S(-17)⊕S(-17)⊕S(-17)⊕S(-17)⊕S(-17)⊕S(-17)⊕S(-17)⊕S(-17)⊕S(-17)⊕S(-17)⊕S(-17)⊕S(-17)⊕S(-17)⊕S(-17)⊕S(-17)⊕S(-17)⊕S(-17)⊕S(-17)⊕S(-17)⊕S(-17)⊕S(-17)⊕S(-17)⊕S(-17)⊕S(-17)⊕S(-17)⊕S(-17)⊕S(-17)⊕S(-17)⊕S(-17)⊕S(-17)⊕S(-17)⊕S(-17)⊕S(-17)⊕S(-17)⊕S(-17)⊕S(-17)⊕S(-17)⊕S(-17)⊕S(-17)⊕S(-17)⊕S(-17)⊕S(-17)⊕S(-17)⊕S(-17)⊕S(-17)⊕S(-17)⊕S(-17)⊕S(-17)⊕S(-17)⊕S(-17)⊕S(-17)⊕S(-17)⊕S(-17)⊕S(-17)⊕S(-17)⊕S(-17)⊕S(-17)⊕S(-17)⊕S(-17)⊕S(-17)⊕S(-17)⊕S(-17)⊕S(-17)⊕S(-17)⊕S(-17)⊕S(-17)⊕S(-17)⊕S(-17)⊕S(-17)⊕S(-17)⊕S(-17)⊕S(-17)⊕S(-17)⊕S(-17)⊕S(-17)⊕S(-17)⊕S(-17)⊕S(-17)⊕S(-17)⊕S(-17)⊕S(-17)⊕S(-17)⊕S(-17)⊕S(-17)⊕S(-17)⊕S(-17)⊕S(-17)⊕S(-17)⊕S(-17)⊕S(-17)⊕S(-17)⊕S(-17)⊕S(-17)⊕S(-17)⊕S(-17)⊕S(-17)⊕S(-17)⊕S(-17)⊕S(-17)⊕S(-17)⊕S(-17)⊕S(-17)⊕S(-17)⊕S(-17)⊕S(-17)⊕S(-17)⊕S(-17)⊕S(-17)⊕S(-17)⊕S(-17)⊕S(-17)⊕S(-17)⊕S(-17)⊕S(-17)⊕S(-17)⊕S(-17)⊕S(-17)⊕S(-17)⊕S(-17)⊕S(-17)⊕S(-17)⊕S(-17)⊕S(-17)⊕S(-17)⊕S(-17)⊕S(-17)⊕S(-17)⊕S(-17)⊕S(-17)⊕S(-17)⊕S(-17)⊕S(-17)⊕S(-17)⊕S(-17)⊕S(-17)⊕S(-17)⊕S(-17)⊕S(-17)⊕S(-17)⊕S(-17)⊕S(-17)⊕S(-17)⊕S(-17)⊕S(-17)⊕S(-17)⊕S(-17)⊕S(-17)⊕S(-17)⊕S(-17)⊕S(-17)⊕S(-17)⊕S(-17)⊕S(-17)⊕S(-17)⊕S(-17)⊕S(-17)⊕S(-17)⊕S(-17)⊕S(-17)⊕S(-17)⊕S(-17)⊕S(-17)⊕S(-17)⊕S(-17)⊕S(-17)⊕S(-17)⊕S(-17)⊕S(-17)⊕S(-17)⊕S(-17)⊕S(-17)⊕S(-17)⊕S(-17)⊕S(-17)⊕S(-17)⊕S(-17)⊕S(-17)⊕S(-17)⊕S(-17)⊕S(-17)⊕S(-17)⊕S(-17)⊕S(-17)⊕S(-17)⊕S(-17)⊕S(-17)⊕S(-17)⊕S(-17)⊕S(-17)⊕S(-17)⊕S(-17)⊕S(-17)⊕S(-17)⊕S(-17)⊕S(-17)⊕S(-17)⊕S(-17)⊕S(-17)⊕S(-17)⊕S(-17)⊕S(-17)⊕S(-17)⊕S(-17)⊕S(-17)⊕S(-17)⊕S(-17)⊕S(-17)⊕S(-17)⊕S(-17)⊕S(-17)⊕S(-17)⊕S(-17)⊕S(-17)⊕S(-17)⊕S(-17)⊕S(-17)⊕S(-17)⊕S(-17)⊕S(-17)⊕S(-17)⊕S(-17)⊕S(-17)⊕S(-17)⊕S(-17)⊕S(-17)⊕S(-18)⊕S(-18)⊕S(-18)⊕S(-18)⊕S(-18)⊕S(-18)⊕S(-18)⊕S(-18)⊕S(-18)⊕S(-12)⊕S(-12)⊕S(-12)⊕S(-12)⊕S(-12)⊕S(-17)⊕S(-17)⊕S(-17)⊕S(-17)⊕S(-17)⊕S(-17)⊕S(-17)⊕S(-17)⊕S(-17)⊕S(-17)⊕S(-17)⊕S(-17)⊕S(-17)⊕S(-17)⊕S(-17)⊕S(-17)⊕S(-17)⊕S(-17)⊕S(-17)⊕S(-17)⊕S(-17)⊕S(-17)⊕S(-17)⊕S(-17)⊕S(-17)⊕S(-17)⊕S(-17)⊕S(-17)⊕S(-17)⊕S(-17)⊕S(-17)⊕S(-17)⊕S(-17)⊕S(-17)⊕S(-17)⊕S(-17)⊕S(-17)⊕S(-17)⊕S(-17)⊕S(-17)⊕S(-17)⊕S(-17)⊕S(-17)⊕S(-17)⊕S(-17)⊕S(-17)⊕S(-17)⊕S(-17)⊕S(-17)⊕S(-17)⊕S(-17)⊕S(-17)⊕S(-17)⊕S(-17)⊕S(-17)⊕S(-17)⊕S(-17)⊕S(-17)⊕S(-17)⊕S(-17)⊕S(-17)⊕S(-17)⊕S(-17)⊕S(-17)⊕S(-17)⊕S(-17)⊕S(-17)⊕S(-17)⊕S(-17)⊕S(-17)⊕S(-17)⊕S(-17)⊕S(-17)⊕S(-17)⊕S(-17)⊕S(-17)⊕S(-17)⊕S(-17)⊕S(-17)⊕S(-17)⊕S(-17)⊕S(-17)⊕S(-17)⊕S(-17)⊕S(-17)⊕S(-17)⊕S(-17)⊕S(-17)⊕S(-17)⊕S(-17)⊕S(-17)⊕S(-17)⊕S(-17)⊕S(-17)⊕S(-17)⊕S(-17)⊕S(-17)⊕S(-17)⊕S(-17)⊕S(-17)⊕S(-17)⊕S(-17)⊕S(-17)⊕S(-17)⊕S(-17)⊕S(-17)⊕S(-17)⊕S(-18)⊕S(-18) <-- S(-18)⊕S(-18)⊕S(-18)⊕S(-18)⊕S(-18)⊕S(-18)⊕S(-18)⊕S(-18)⊕S(-18)⊕S(-18)⊕S(-18)⊕S(-18)⊕S(-18)⊕S(-18)⊕S(-18)⊕S(-18)⊕S(-18)⊕S(-18)⊕S(-18)⊕S(-18)⊕S(-18)⊕S(-18)⊕S(-18)⊕S(-18)⊕S(-18)⊕S(-18)⊕S(-18)⊕S(-18)⊕S(-18)⊕S(-18)⊕S(-18)⊕S(-18)⊕S(-18)⊕S(-18)⊕S(-18)⊕S(-18)⊕S(-18)⊕S(-18)⊕S(-18)⊕S(-18)⊕S(-18)⊕S(-18)⊕S(-18)⊕S(-18)⊕S(-18)⊕S(-18)⊕S(-18)⊕S(-18)⊕S(-18)⊕S(-18)⊕S(-18)⊕S(-18)⊕S(-18)⊕S(-18)⊕S(-18)⊕S(-18)⊕S(-18)⊕S(-18)⊕S(-18)⊕S(-18)⊕S(-18)⊕S(-18)⊕S(-18)⊕S(-18)⊕S(-18)⊕S(-18)⊕S(-18)⊕S(-18)⊕S(-18)⊕S(-18)⊕S(-18)⊕S(-18)⊕S(-18)⊕S(-18)⊕S(-18)⊕S(-18)⊕S(-18)⊕S(-18)⊕S(-18)⊕S(-18)⊕S(-18)⊕S(-18)⊕S(-18)⊕S(-18)⊕S(-18)⊕S(-18)⊕S(-18)⊕S(-18)⊕S(-18)⊕S(-18)⊕S(-18)⊕S(-18)⊕S(-18)⊕S(-18)⊕S(-18)⊕S(-18)⊕S(-18)⊕S(-18)⊕S(-18)⊕S(-18)⊕S(-18)⊕S(-18)⊕S(-18)⊕S(-18)⊕S(-18)⊕S(-18)⊕S(-18)⊕S(-18)⊕S(-18)⊕S(-18)⊕S(-18)⊕S(-18)⊕S(-18)⊕S(-18)⊕S(-18)⊕S(-18)⊕S(-18)⊕S(-18)⊕S(-18)⊕S(-18)⊕S(-18)⊕S(-18)⊕S(-18)⊕S(-18)⊕S(-18)⊕S(-18)⊕S(-18)⊕S(-18)⊕S(-18)⊕S(-18)⊕S(-18)⊕S(-18)⊕S(-18)⊕S(-18)⊕S(-18)⊕S(-18)⊕S(-18)⊕S(-18)⊕S(-18)⊕S(-18)⊕S(-18)⊕S(-18)⊕S(-18)⊕S(-18)⊕S(-18)⊕S(-18)⊕S(-18)⊕S(-18)⊕S(-18)⊕S(-18)⊕S(-18)⊕S(-18)⊕S(-18)⊕S(-18)⊕S(-18)⊕S(-18)⊕S(-18)⊕S(-18)⊕S(-18)⊕S(-18)⊕S(-18)⊕S(-18)⊕S(-18)⊕S(-18)⊕S(-18)⊕S(-18)⊕S(-18)⊕S(-18)⊕S(-18)⊕S(-18)⊕S(-18)⊕S(-18)⊕S(-18)⊕S(-18)⊕S(-18)⊕S(-18)⊕S(-18)⊕S(-18)⊕S(-18)⊕S(-18)⊕S(-18)⊕S(-18)⊕S(-18)⊕S(-18)⊕S(-18)⊕S(-18)⊕S(-18)⊕S(-18)⊕S(-18)⊕S(-18)⊕S(-18)⊕S(-18)⊕S(-18)⊕S(-18)⊕S(-18)⊕S(-18)⊕S(-18)⊕S(-18)⊕S(-18)⊕S(-18)⊕S(-18)⊕S(-18)⊕S(-18)⊕S(-18)⊕S(-18)⊕S(-18)⊕S(-18)⊕S(-18)⊕S(-18)⊕S(-18)⊕S(-18)⊕S(-18)⊕S(-18)⊕S(-18)⊕S(-18)⊕S(-18)⊕S(-18)⊕S(-18)⊕S(-18)⊕S(-18)⊕S(-18)⊕S(-18)⊕S(-18)⊕S(-18)⊕S(-18)⊕S(-18)⊕S(-18)⊕S(-18)⊕S(-18)⊕S(-18)⊕S(-18)⊕S(-18)⊕S(-18)⊕S(-18)⊕S(-18)⊕S(-18)⊕S(-18)⊕S(-18)⊕S(-18)⊕S(-18)⊕S(-18)⊕S(-18)⊕S(-18)⊕S(-18)⊕S(-18)⊕S(-18)⊕S(-18)⊕S(-18)⊕S(-18)⊕S(-18)⊕S(-18)⊕S(-18)⊕S(-18)⊕S(-18)⊕S(-18)⊕S(-18)⊕S(-18)⊕S(-18)⊕S(-18)⊕S(-18)⊕S(-18)⊕S(-18)⊕S(-18)⊕S(-18)⊕S(-18)⊕S(-18)⊕S(-18)⊕S(-18)⊕S(-18)⊕S(-18)⊕S(-18)⊕S(-18)⊕S(-18)⊕S(-18)⊕S(-18)⊕S(-18)⊕S(-18)⊕S(-18)⊕S(-18)⊕S(-18)⊕S(-18)⊕S(-18)⊕S(-18)⊕S(-18)⊕S(-18)⊕S(-18)⊕S(-18)⊕S(-18)⊕S(-18)⊕S(-18)⊕S(-18)⊕S(-18)⊕S(-18)⊕S(-18)⊕S(-18)⊕S(-18)⊕S(-18)⊕S(-18)⊕S(-18)⊕S(-18)⊕S(-18)⊕S(-18)⊕S(-18)⊕S(-18)⊕S(-18)⊕S(-18)⊕S(-18)⊕S(-18)⊕S(-18)⊕S(-18)⊕S(-18)⊕S(-18)⊕S(-18)⊕S(-18)⊕S(-18)⊕S(-18)⊕S(-18)⊕S(-18)⊕S(-18)⊕S(-18)⊕S(-18)⊕S(-18)⊕S(-18)⊕S(-18)⊕S(-18)⊕S(-18)⊕S(-18)⊕S(-18)⊕S(-18)⊕S(-18)⊕S(-18)⊕S(-18)⊕S(-18)⊕S(-18)⊕S(-18)⊕S(-18)⊕S(-18)⊕S(-18)⊕S(-18)⊕S(-18)⊕S(-18)⊕S(-18)⊕S(-18)⊕S(-18)⊕S(-18)⊕S(-18)⊕S(-18)⊕S(-18)⊕S(-18)⊕S(-18)⊕S(-18)⊕S(-18)⊕S(-18)⊕S(-18)⊕S(-18)⊕S(-18)⊕S(-18)⊕S(-19)⊕S(-19)⊕S(-19)⊕S(-19)⊕S(-19)⊕S(-19)⊕S(-19)⊕S(-19)⊕S(-19)⊕S(-19)⊕S(-19)⊕S(-19)⊕S(-19)⊕S(-19)⊕S(-19)⊕S(-19)⊕S(-19)⊕S(-19)⊕S(-19)⊕S(-19)⊕S(-19)⊕S(-19)⊕S(-15)⊕S(-18)⊕S(-18)⊕S(-18)⊕S(-18)⊕S(-19)⊕S(-19) <-- S(-19)⊕S(-19)⊕S(-19)⊕S(-19)⊕S(-19)⊕S(-19)⊕S(-19)⊕S(-19)⊕S(-19)⊕S(-19)⊕S(-19)⊕S(-19)⊕S(-19)⊕S(-19)⊕S(-19)⊕S(-19)⊕S(-19)⊕S(-19)⊕S(-19)⊕S(-19)⊕S(-19)⊕S(-19)⊕S(-19)⊕S(-19)⊕S(-19)⊕S(-19)⊕S(-19)⊕S(-19)⊕S(-19)⊕S(-19)⊕S(-19)⊕S(-19)⊕S(-19)⊕S(-19)⊕S(-19)⊕S(-19)⊕S(-19)⊕S(-19)⊕S(-19)⊕S(-19)⊕S(-19)⊕S(-19)⊕S(-19)⊕S(-19)⊕S(-19)⊕S(-19)⊕S(-19)⊕S(-19)⊕S(-19)⊕S(-19)⊕S(-19)⊕S(-19)⊕S(-19)⊕S(-19)⊕S(-19)⊕S(-19)⊕S(-19)⊕S(-19)⊕S(-19)⊕S(-19)⊕S(-19)⊕S(-19)⊕S(-19)⊕S(-19)⊕S(-19)⊕S(-19)⊕S(-20)⊕S(-20)⊕S(-20)⊕S(-20)⊕S(-20)⊕S(-20)⊕S(-20)⊕S(-20)⊕S(-20)⊕S(-20)⊕S(-20)⊕S(-20)⊕S(-21) <-- 0"
      ]
     },
     "execution_count": 24,
     "metadata": {},
     "output_type": "execute_result"
    }
   ],
   "source": [
    "res = ideal(polys_h + fes_h).graded_free_resolution(algorithm=\"minimal\")\n",
    "res"
   ]
  },
  {
   "cell_type": "code",
   "execution_count": 25,
   "metadata": {},
   "outputs": [
    {
     "data": {
      "text/plain": [
       "15"
      ]
     },
     "execution_count": 25,
     "metadata": {},
     "output_type": "execute_result"
    }
   ],
   "source": [
    "cm_regularity(res)"
   ]
  }
 ],
 "metadata": {
  "kernelspec": {
   "display_name": "SageMath 10.5",
   "language": "sage",
   "name": "sagemath"
  },
  "language_info": {
   "codemirror_mode": {
    "name": "ipython",
    "version": 3
   },
   "file_extension": ".py",
   "mimetype": "text/x-python",
   "name": "python",
   "nbconvert_exporter": "python",
   "pygments_lexer": "ipython3",
   "version": "3.12.5"
  }
 },
 "nbformat": 4,
 "nbformat_minor": 4
}
