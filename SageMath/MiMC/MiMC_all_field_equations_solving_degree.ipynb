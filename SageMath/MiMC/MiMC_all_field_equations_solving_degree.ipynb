{
 "cells": [
  {
   "cell_type": "markdown",
   "metadata": {},
   "source": [
    "# MiMC Solving Degree For Attack With All Field Equations\n",
    "Empirical solving degree for increasing round numbers of MiMC together with all field equations.\n",
    "\n",
    "Primes: $p \\in \\{ 5, 11 \\}$.\n",
    "\n",
    "Round numbers: $r \\in \\{ 3, 4, 5 \\}$."
   ]
  },
  {
   "cell_type": "code",
   "execution_count": 1,
   "metadata": {},
   "outputs": [],
   "source": [
    "from lazard_gb_algorithm import *\n",
    "load(\"MiMC.sage\")\n",
    "load(\"utilities.sage\")"
   ]
  },
  {
   "cell_type": "markdown",
   "metadata": {},
   "source": [
    "## p = 5, r = 3"
   ]
  },
  {
   "cell_type": "code",
   "execution_count": 2,
   "metadata": {},
   "outputs": [
    {
     "name": "stdout",
     "output_type": "stream",
     "text": [
      "MiMC Parameters\n",
      "Field: Finite Field of size 5\n",
      "r: 3\n",
      "Constants: [3, 4, 4]\n",
      "\n",
      "Plain: 3\n",
      "Key: 0\n",
      "Cipher: 4\n",
      "\n",
      "y^3 - 2*y^2 - x_1 - 2*y + 1\n",
      "x_1^3 - 2*x_1^2*y - 2*x_1*y^2 + y^3 + 2*x_1^2 - x_1*y + 2*y^2 - 2*x_1 - x_2 - 2*y - 1\n",
      "x_2^3 - 2*x_2^2*y - 2*x_2*y^2 + y^3 + 2*x_2^2 - x_2*y + 2*y^2 - 2*x_2 - y\n"
     ]
    }
   ],
   "source": [
    "p = 5\n",
    "field = GF(p, \"a\")\n",
    "\n",
    "rounds = 3\n",
    "\n",
    "mimc = MiMC(field=field, rounds=rounds)\n",
    "\n",
    "print(\"\")\n",
    "\n",
    "plain = field.random_element()\n",
    "key = field.random_element()\n",
    "cipher = mimc.encryption(plain, key)\n",
    "print(\"Plain:\", plain)\n",
    "print(\"Key:\", key)\n",
    "print(\"Cipher:\", cipher)\n",
    "\n",
    "polys = mimc.generate_polynomials(plain, cipher, info_level=0)\n",
    "polys_h = [poly.homogenize() for poly in polys]\n",
    "I = ideal(polys)\n",
    "variables = polys[0].parent().gens()\n",
    "fes = [var**field.order() - var for var in variables]\n",
    "fes_h = [fe.homogenize() for fe in fes]\n",
    "\n",
    "print(\"\")\n",
    "\n",
    "for poly in polys:\n",
    "    print(poly)"
   ]
  },
  {
   "cell_type": "code",
   "execution_count": 3,
   "metadata": {
    "scrolled": true
   },
   "outputs": [
    {
     "name": "stdout",
     "output_type": "stream",
     "text": [
      "Ring: Multivariate Polynomial Ring in x_1, x_2, y over Finite Field of size 5\n",
      "Input polynomials:\n",
      "[y^3 - 2*y^2 - x_1 - 2*y + 1, x_1^3 - 2*x_1^2*y - 2*x_1*y^2 + y^3 + 2*x_1^2 - x_1*y + 2*y^2 - 2*x_1 - x_2 - 2*y - 1, x_2^3 - 2*x_2^2*y - 2*x_2*y^2 + y^3 + 2*x_2^2 - x_2*y + 2*y^2 - 2*x_2 - y, x_1^5 - x_1, x_2^5 - x_2, y^5 - y]\n",
      "\n",
      "--- Degree 0 ---\n",
      "Computing all monomials up to degree: 0\n",
      "Time needed: 0.11740589141845703\n",
      "Computing Macaulay matrix.\n",
      "Time needed: 2.384185791015625e-06\n",
      "Performing Gaussian Elimination.\n",
      "Time needed: 0.000324249267578125\n",
      "Is Groebner Basis: False\n",
      "\n",
      "--- Degree 1 ---\n",
      "Computing all monomials up to degree: 1\n",
      "Time needed: 0.030722618103027344\n",
      "Computing Macaulay matrix.\n",
      "Time needed: 2.384185791015625e-06\n",
      "Performing Gaussian Elimination.\n",
      "Time needed: 0.0001823902130126953\n",
      "Is Groebner Basis: False\n",
      "\n",
      "--- Degree 2 ---\n",
      "Computing all monomials up to degree: 2\n",
      "Time needed: 0.0020694732666015625\n",
      "Computing Macaulay matrix.\n",
      "Time needed: 2.1457672119140625e-06\n",
      "Performing Gaussian Elimination.\n",
      "Time needed: 0.00018405914306640625\n",
      "Is Groebner Basis: False\n",
      "\n",
      "--- Degree 3 ---\n",
      "Computing all monomials up to degree: 3\n",
      "Time needed: 0.0019600391387939453\n",
      "Computing Macaulay matrix.\n",
      "Time needed: 3.1948089599609375e-05\n",
      "Performing Gaussian Elimination.\n",
      "Time needed: 0.00030159950256347656\n",
      "Is Groebner Basis: False\n",
      "\n",
      "--- Degree 4 ---\n",
      "Computing all monomials up to degree: 4\n",
      "Time needed: 0.002508878707885742\n",
      "Computing Macaulay matrix.\n",
      "Time needed: 2.384185791015625e-06\n",
      "Performing Gaussian Elimination.\n",
      "Time needed: 0.0004398822784423828\n",
      "Is Groebner Basis: False\n",
      "\n",
      "--- Degree 5 ---\n",
      "Computing all monomials up to degree: 5\n",
      "Time needed: 0.0056688785552978516\n",
      "Computing Macaulay matrix.\n",
      "Time needed: 4.5299530029296875e-06\n",
      "Performing Gaussian Elimination.\n",
      "Time needed: 0.001873016357421875\n",
      "Is Groebner Basis: False\n",
      "\n",
      "--- Degree 6 ---\n",
      "Computing all monomials up to degree: 6\n",
      "Time needed: 0.003662586212158203\n",
      "Computing Macaulay matrix.\n",
      "Time needed: 2.1457672119140625e-06\n",
      "Performing Gaussian Elimination.\n",
      "Time needed: 0.0014019012451171875\n",
      "Is Groebner Basis: False\n",
      "\n",
      "--- Degree 7 ---\n",
      "Computing all monomials up to degree: 7\n",
      "Time needed: 0.004817962646484375\n",
      "Computing Macaulay matrix.\n",
      "Time needed: 2.384185791015625e-06\n",
      "Performing Gaussian Elimination.\n",
      "Time needed: 0.0027937889099121094\n",
      "Is Groebner Basis: True\n",
      "Total time needed: 0.2753000259399414\n"
     ]
    },
    {
     "data": {
      "text/plain": [
       "[y^3 - 2*y^2 + x_2 - y, x_2^2 - 2*x_2, x_2*y - 2*y, x_1 + x_2 + y - 1]"
      ]
     },
     "execution_count": 3,
     "metadata": {},
     "output_type": "execute_result"
    }
   ],
   "source": [
    "lazard_gb_algorithm(polys + fes)"
   ]
  },
  {
   "cell_type": "code",
   "execution_count": 4,
   "metadata": {},
   "outputs": [
    {
     "data": {
      "text/plain": [
       "S(0) <-- S(-3)⊕S(-3)⊕S(-3)⊕S(-5)⊕S(-5)⊕S(-5) <-- S(-8)⊕S(-6)⊕S(-8)⊕S(-6)⊕S(-6)⊕S(-7)⊕S(-7)⊕S(-7)⊕S(-7)⊕S(-7)⊕S(-7)⊕S(-7)⊕S(-7)⊕S(-8)⊕S(-8)⊕S(-8) <-- S(-9)⊕S(-9)⊕S(-9)⊕S(-9)⊕S(-9)⊕S(-9)⊕S(-9)⊕S(-9)⊕S(-9)⊕S(-9)⊕S(-9)⊕S(-9)⊕S(-9)⊕S(-9)⊕S(-9)⊕S(-9)⊕S(-9)⊕S(-9)⊕S(-9) <-- S(-10)⊕S(-10)⊕S(-10)⊕S(-10)⊕S(-10)⊕S(-10)⊕S(-10)⊕S(-11) <-- 0"
      ]
     },
     "execution_count": 4,
     "metadata": {},
     "output_type": "execute_result"
    }
   ],
   "source": [
    "res = ideal(polys_h + fes_h).graded_free_resolution(algorithm=\"minimal\")\n",
    "res"
   ]
  },
  {
   "cell_type": "code",
   "execution_count": 5,
   "metadata": {},
   "outputs": [
    {
     "data": {
      "text/plain": [
       "7"
      ]
     },
     "execution_count": 5,
     "metadata": {},
     "output_type": "execute_result"
    }
   ],
   "source": [
    "cm_regularity(res)"
   ]
  },
  {
   "cell_type": "markdown",
   "metadata": {},
   "source": [
    "## p = 5, r = 4"
   ]
  },
  {
   "cell_type": "code",
   "execution_count": 6,
   "metadata": {},
   "outputs": [
    {
     "name": "stdout",
     "output_type": "stream",
     "text": [
      "MiMC Parameters\n",
      "Field: Finite Field of size 5\n",
      "r: 4\n",
      "Constants: [4, 0, 4, 2]\n",
      "\n",
      "Plain: 3\n",
      "Key: 2\n",
      "Cipher: 0\n",
      "\n",
      "y^3 + y^2 - x_1 + 2*y - 2\n",
      "x_1^3 - 2*x_1^2*y - 2*x_1*y^2 + y^3 - x_2\n",
      "x_2^3 - 2*x_2^2*y - 2*x_2*y^2 + y^3 + 2*x_2^2 - x_2*y + 2*y^2 - 2*x_2 - x_3 - 2*y - 1\n",
      "x_3^3 - 2*x_3^2*y - 2*x_3*y^2 + y^3 + x_3^2 + 2*x_3*y + y^2 + 2*x_3 - 2*y - 2\n"
     ]
    }
   ],
   "source": [
    "p = 5\n",
    "field = GF(p, \"a\")\n",
    "\n",
    "rounds = 4\n",
    "\n",
    "mimc = MiMC(field=field, rounds=rounds)\n",
    "\n",
    "print(\"\")\n",
    "\n",
    "plain = field.random_element()\n",
    "key = field.random_element()\n",
    "cipher = mimc.encryption(plain, key)\n",
    "print(\"Plain:\", plain)\n",
    "print(\"Key:\", key)\n",
    "print(\"Cipher:\", cipher)\n",
    "\n",
    "polys = mimc.generate_polynomials(plain, cipher, info_level=0)\n",
    "polys_h = [poly.homogenize() for poly in polys]\n",
    "I = ideal(polys)\n",
    "variables = polys[0].parent().gens()\n",
    "fes = [var**field.order() - var for var in variables]\n",
    "fes_h = [fe.homogenize() for fe in fes]\n",
    "\n",
    "print(\"\")\n",
    "\n",
    "for poly in polys:\n",
    "    print(poly)"
   ]
  },
  {
   "cell_type": "code",
   "execution_count": 7,
   "metadata": {},
   "outputs": [
    {
     "name": "stdout",
     "output_type": "stream",
     "text": [
      "Ring: Multivariate Polynomial Ring in x_1, x_2, x_3, y over Finite Field of size 5\n",
      "Input polynomials:\n",
      "[y^3 + y^2 - x_1 + 2*y - 2, x_1^3 - 2*x_1^2*y - 2*x_1*y^2 + y^3 - x_2, x_2^3 - 2*x_2^2*y - 2*x_2*y^2 + y^3 + 2*x_2^2 - x_2*y + 2*y^2 - 2*x_2 - x_3 - 2*y - 1, x_3^3 - 2*x_3^2*y - 2*x_3*y^2 + y^3 + x_3^2 + 2*x_3*y + y^2 + 2*x_3 - 2*y - 2, x_1^5 - x_1, x_2^5 - x_2, x_3^5 - x_3, y^5 - y]\n",
      "\n",
      "--- Degree 0 ---\n",
      "Computing all monomials up to degree: 0\n",
      "Time needed: 0.0008931159973144531\n",
      "Computing Macaulay matrix.\n",
      "Time needed: 2.384185791015625e-06\n",
      "Performing Gaussian Elimination.\n",
      "Time needed: 0.00012731552124023438\n",
      "Is Groebner Basis: False\n",
      "\n",
      "--- Degree 1 ---\n",
      "Computing all monomials up to degree: 1\n",
      "Time needed: 0.002139568328857422\n",
      "Computing Macaulay matrix.\n",
      "Time needed: 2.384185791015625e-06\n",
      "Performing Gaussian Elimination.\n",
      "Time needed: 0.00022459030151367188\n",
      "Is Groebner Basis: False\n",
      "\n",
      "--- Degree 2 ---\n",
      "Computing all monomials up to degree: 2\n",
      "Time needed: 0.0018966197967529297\n",
      "Computing Macaulay matrix.\n",
      "Time needed: 2.6226043701171875e-06\n",
      "Performing Gaussian Elimination.\n",
      "Time needed: 0.0002694129943847656\n",
      "Is Groebner Basis: False\n",
      "\n",
      "--- Degree 3 ---\n",
      "Computing all monomials up to degree: 3\n",
      "Time needed: 0.002721071243286133\n",
      "Computing Macaulay matrix.\n",
      "Time needed: 4.291534423828125e-06\n",
      "Performing Gaussian Elimination.\n",
      "Time needed: 0.00022125244140625\n",
      "Is Groebner Basis: False\n",
      "\n",
      "--- Degree 4 ---\n",
      "Computing all monomials up to degree: 4\n",
      "Time needed: 0.002839326858520508\n",
      "Computing Macaulay matrix.\n",
      "Time needed: 3.0994415283203125e-06\n",
      "Performing Gaussian Elimination.\n",
      "Time needed: 0.00044035911560058594\n",
      "Is Groebner Basis: False\n",
      "\n",
      "--- Degree 5 ---\n",
      "Computing all monomials up to degree: 5\n",
      "Time needed: 0.0034635066986083984\n",
      "Computing Macaulay matrix.\n",
      "Time needed: 4.0531158447265625e-06\n",
      "Performing Gaussian Elimination.\n",
      "Time needed: 0.0011909008026123047\n",
      "Is Groebner Basis: False\n",
      "\n",
      "--- Degree 6 ---\n",
      "Computing all monomials up to degree: 6\n",
      "Time needed: 0.007039546966552734\n",
      "Computing Macaulay matrix.\n",
      "Time needed: 2.384185791015625e-06\n",
      "Performing Gaussian Elimination.\n",
      "Time needed: 0.0021538734436035156\n",
      "Is Groebner Basis: False\n",
      "\n",
      "--- Degree 7 ---\n",
      "Computing all monomials up to degree: 7\n",
      "Time needed: 0.010494470596313477\n",
      "Computing Macaulay matrix.\n",
      "Time needed: 5.0067901611328125e-06\n",
      "Performing Gaussian Elimination.\n",
      "Time needed: 0.011394262313842773\n",
      "Is Groebner Basis: False\n",
      "\n",
      "--- Degree 8 ---\n",
      "Computing all monomials up to degree: 8\n",
      "Time needed: 0.008627653121948242\n",
      "Computing Macaulay matrix.\n",
      "Time needed: 5.9604644775390625e-06\n",
      "Performing Gaussian Elimination.\n",
      "Time needed: 0.02664661407470703\n",
      "Is Groebner Basis: True\n",
      "Total time needed: 0.23990774154663086\n"
     ]
    },
    {
     "data": {
      "text/plain": [
       "[x_1 + 1, x_2 - 1, x_3 + 2, y - 2]"
      ]
     },
     "execution_count": 7,
     "metadata": {},
     "output_type": "execute_result"
    }
   ],
   "source": [
    "lazard_gb_algorithm(polys + fes)"
   ]
  },
  {
   "cell_type": "code",
   "execution_count": 8,
   "metadata": {},
   "outputs": [
    {
     "data": {
      "text/plain": [
       "S(0) <-- S(-3)⊕S(-3)⊕S(-3)⊕S(-3)⊕S(-5)⊕S(-5)⊕S(-5)⊕S(-5) <-- S(-8)⊕S(-6)⊕S(-8)⊕S(-8)⊕S(-6)⊕S(-6)⊕S(-8)⊕S(-8)⊕S(-8)⊕S(-6)⊕S(-6)⊕S(-6)⊕S(-7)⊕S(-7)⊕S(-8)⊕S(-8)⊕S(-8)⊕S(-8)⊕S(-8)⊕S(-8)⊕S(-8)⊕S(-8)⊕S(-8)⊕S(-8)⊕S(-8)⊕S(-8)⊕S(-8)⊕S(-8)⊕S(-8)⊕S(-8)⊕S(-8)⊕S(-8)⊕S(-8)⊕S(-8)⊕S(-8)⊕S(-8)⊕S(-8)⊕S(-8)⊕S(-8)⊕S(-8)⊕S(-8)⊕S(-8)⊕S(-8)⊕S(-8)⊕S(-8)⊕S(-8)⊕S(-8)⊕S(-8)⊕S(-8)⊕S(-8)⊕S(-8)⊕S(-8)⊕S(-8)⊕S(-8)⊕S(-8)⊕S(-8)⊕S(-8)⊕S(-8)⊕S(-8)⊕S(-8)⊕S(-8)⊕S(-8)⊕S(-8) <-- S(-9)⊕S(-9)⊕S(-9)⊕S(-9)⊕S(-9)⊕S(-9)⊕S(-9)⊕S(-9)⊕S(-9)⊕S(-9)⊕S(-9)⊕S(-9)⊕S(-9)⊕S(-9)⊕S(-9)⊕S(-9)⊕S(-9)⊕S(-9)⊕S(-9)⊕S(-9)⊕S(-9)⊕S(-9)⊕S(-9)⊕S(-9)⊕S(-9)⊕S(-9)⊕S(-9)⊕S(-9)⊕S(-9)⊕S(-9)⊕S(-9)⊕S(-9)⊕S(-9)⊕S(-9)⊕S(-9)⊕S(-9)⊕S(-9)⊕S(-9)⊕S(-9)⊕S(-9)⊕S(-9)⊕S(-9)⊕S(-9)⊕S(-9)⊕S(-9)⊕S(-9)⊕S(-9)⊕S(-9)⊕S(-9)⊕S(-9)⊕S(-9)⊕S(-9)⊕S(-9)⊕S(-9)⊕S(-9)⊕S(-9)⊕S(-9)⊕S(-9)⊕S(-9)⊕S(-9)⊕S(-9)⊕S(-9)⊕S(-9)⊕S(-9)⊕S(-9)⊕S(-9)⊕S(-9)⊕S(-9)⊕S(-9)⊕S(-9)⊕S(-9)⊕S(-9)⊕S(-9)⊕S(-9)⊕S(-9)⊕S(-9)⊕S(-9)⊕S(-9)⊕S(-9)⊕S(-9)⊕S(-10)⊕S(-9)⊕S(-9)⊕S(-9)⊕S(-9)⊕S(-9)⊕S(-9)⊕S(-9)⊕S(-9)⊕S(-9)⊕S(-9)⊕S(-9)⊕S(-9)⊕S(-9)⊕S(-9)⊕S(-9)⊕S(-9)⊕S(-9)⊕S(-9)⊕S(-9)⊕S(-9)⊕S(-9)⊕S(-9)⊕S(-9)⊕S(-9)⊕S(-9)⊕S(-9)⊕S(-9)⊕S(-9)⊕S(-10) <-- S(-10)⊕S(-10)⊕S(-10)⊕S(-10)⊕S(-10)⊕S(-10)⊕S(-10)⊕S(-10)⊕S(-10)⊕S(-10)⊕S(-10)⊕S(-10)⊕S(-10)⊕S(-10)⊕S(-10)⊕S(-10)⊕S(-10)⊕S(-10)⊕S(-10)⊕S(-10)⊕S(-10)⊕S(-10)⊕S(-10)⊕S(-10)⊕S(-10)⊕S(-10)⊕S(-10)⊕S(-10)⊕S(-10)⊕S(-10)⊕S(-10)⊕S(-10)⊕S(-10)⊕S(-10)⊕S(-10)⊕S(-10)⊕S(-10)⊕S(-10)⊕S(-10)⊕S(-10)⊕S(-10)⊕S(-10)⊕S(-10)⊕S(-10)⊕S(-10)⊕S(-10)⊕S(-10)⊕S(-10)⊕S(-10)⊕S(-10)⊕S(-10)⊕S(-11)⊕S(-11)⊕S(-11)⊕S(-11)⊕S(-11)⊕S(-11)⊕S(-11)⊕S(-11)⊕S(-11)⊕S(-11)⊕S(-11)⊕S(-11)⊕S(-11)⊕S(-11)⊕S(-12) <-- S(-11)⊕S(-11)⊕S(-11)⊕S(-11)⊕S(-12)⊕S(-12)⊕S(-12)⊕S(-12)⊕S(-12)⊕S(-12)⊕S(-12)⊕S(-14) <-- 0"
      ]
     },
     "execution_count": 8,
     "metadata": {},
     "output_type": "execute_result"
    }
   ],
   "source": [
    "res = ideal(polys_h + fes_h).graded_free_resolution(algorithm=\"minimal\")\n",
    "res"
   ]
  },
  {
   "cell_type": "code",
   "execution_count": 9,
   "metadata": {},
   "outputs": [
    {
     "data": {
      "text/plain": [
       "9"
      ]
     },
     "execution_count": 9,
     "metadata": {},
     "output_type": "execute_result"
    }
   ],
   "source": [
    "cm_regularity(res)"
   ]
  },
  {
   "cell_type": "markdown",
   "metadata": {},
   "source": [
    "## p = 5, r = 5"
   ]
  },
  {
   "cell_type": "code",
   "execution_count": 10,
   "metadata": {},
   "outputs": [
    {
     "name": "stdout",
     "output_type": "stream",
     "text": [
      "MiMC Parameters\n",
      "Field: Finite Field of size 5\n",
      "r: 5\n",
      "Constants: [0, 4, 0, 3, 3]\n",
      "\n",
      "Plain: 1\n",
      "Key: 3\n",
      "Cipher: 4\n",
      "\n",
      "y^3 - 2*y^2 - x_1 - 2*y + 1\n",
      "x_1^3 - 2*x_1^2*y - 2*x_1*y^2 + y^3 + 2*x_1^2 - x_1*y + 2*y^2 - 2*x_1 - x_2 - 2*y - 1\n",
      "x_2^3 - 2*x_2^2*y - 2*x_2*y^2 + y^3 - x_3\n",
      "x_3^3 - 2*x_3^2*y - 2*x_3*y^2 + y^3 - x_3^2 - 2*x_3*y - y^2 + 2*x_3 - x_4 + 2*y + 2\n",
      "x_4^3 - 2*x_4^2*y - 2*x_4*y^2 + y^3 - x_4^2 - 2*x_4*y - y^2 + 2*x_4 - 2*y - 2\n"
     ]
    }
   ],
   "source": [
    "p = 5\n",
    "field = GF(p, \"a\")\n",
    "\n",
    "rounds = 5\n",
    "\n",
    "mimc = MiMC(field=field, rounds=rounds)\n",
    "\n",
    "print(\"\")\n",
    "\n",
    "plain = field.random_element()\n",
    "key = field.random_element()\n",
    "cipher = mimc.encryption(plain, key)\n",
    "print(\"Plain:\", plain)\n",
    "print(\"Key:\", key)\n",
    "print(\"Cipher:\", cipher)\n",
    "\n",
    "polys = mimc.generate_polynomials(plain, cipher, info_level=0)\n",
    "polys_h = [poly.homogenize() for poly in polys]\n",
    "I = ideal(polys)\n",
    "variables = polys[0].parent().gens()\n",
    "fes = [var**field.order() - var for var in variables]\n",
    "fes_h = [fe.homogenize() for fe in fes]\n",
    "\n",
    "print(\"\")\n",
    "\n",
    "for poly in polys:\n",
    "    print(poly)"
   ]
  },
  {
   "cell_type": "code",
   "execution_count": 11,
   "metadata": {},
   "outputs": [
    {
     "name": "stdout",
     "output_type": "stream",
     "text": [
      "Ring: Multivariate Polynomial Ring in x_1, x_2, x_3, x_4, y over Finite Field of size 5\n",
      "Input polynomials:\n",
      "[y^3 - 2*y^2 - x_1 - 2*y + 1, x_1^3 - 2*x_1^2*y - 2*x_1*y^2 + y^3 + 2*x_1^2 - x_1*y + 2*y^2 - 2*x_1 - x_2 - 2*y - 1, x_2^3 - 2*x_2^2*y - 2*x_2*y^2 + y^3 - x_3, x_3^3 - 2*x_3^2*y - 2*x_3*y^2 + y^3 - x_3^2 - 2*x_3*y - y^2 + 2*x_3 - x_4 + 2*y + 2, x_4^3 - 2*x_4^2*y - 2*x_4*y^2 + y^3 - x_4^2 - 2*x_4*y - y^2 + 2*x_4 - 2*y - 2, x_1^5 - x_1, x_2^5 - x_2, x_3^5 - x_3, x_4^5 - x_4, y^5 - y]\n",
      "\n",
      "--- Degree 0 ---\n",
      "Computing all monomials up to degree: 0\n",
      "Time needed: 0.0011591911315917969\n",
      "Computing Macaulay matrix.\n",
      "Time needed: 2.86102294921875e-06\n",
      "Performing Gaussian Elimination.\n",
      "Time needed: 0.00014019012451171875\n",
      "Is Groebner Basis: False\n",
      "\n",
      "--- Degree 1 ---\n",
      "Computing all monomials up to degree: 1\n",
      "Time needed: 0.0020203590393066406\n",
      "Computing Macaulay matrix.\n",
      "Time needed: 2.6226043701171875e-06\n",
      "Performing Gaussian Elimination.\n",
      "Time needed: 0.0002613067626953125\n",
      "Is Groebner Basis: False\n",
      "\n",
      "--- Degree 2 ---\n",
      "Computing all monomials up to degree: 2\n",
      "Time needed: 0.002788543701171875\n",
      "Computing Macaulay matrix.\n",
      "Time needed: 4.291534423828125e-06\n",
      "Performing Gaussian Elimination.\n",
      "Time needed: 0.0003345012664794922\n",
      "Is Groebner Basis: False\n",
      "\n",
      "--- Degree 3 ---\n",
      "Computing all monomials up to degree: 3\n",
      "Time needed: 0.005089282989501953\n",
      "Computing Macaulay matrix.\n",
      "Time needed: 4.291534423828125e-06\n",
      "Performing Gaussian Elimination.\n",
      "Time needed: 0.0005595684051513672\n",
      "Is Groebner Basis: False\n",
      "\n",
      "--- Degree 4 ---\n",
      "Computing all monomials up to degree: 4\n",
      "Time needed: 0.008210420608520508\n",
      "Computing Macaulay matrix.\n",
      "Time needed: 3.337860107421875e-06\n",
      "Performing Gaussian Elimination.\n",
      "Time needed: 0.0007588863372802734\n",
      "Is Groebner Basis: False\n",
      "\n",
      "--- Degree 5 ---\n",
      "Computing all monomials up to degree: 5\n",
      "Time needed: 0.0065729618072509766\n",
      "Computing Macaulay matrix.\n",
      "Time needed: 2.6226043701171875e-06\n",
      "Performing Gaussian Elimination.\n",
      "Time needed: 0.003208160400390625\n",
      "Is Groebner Basis: False\n",
      "\n",
      "--- Degree 6 ---\n",
      "Computing all monomials up to degree: 6\n",
      "Time needed: 0.013714790344238281\n",
      "Computing Macaulay matrix.\n",
      "Time needed: 2.384185791015625e-06\n",
      "Performing Gaussian Elimination.\n",
      "Time needed: 0.005423307418823242\n",
      "Is Groebner Basis: False\n",
      "\n",
      "--- Degree 7 ---\n",
      "Computing all monomials up to degree: 7\n",
      "Time needed: 0.014387130737304688\n",
      "Computing Macaulay matrix.\n",
      "Time needed: 3.0994415283203125e-06\n",
      "Performing Gaussian Elimination.\n",
      "Time needed: 0.024347305297851562\n",
      "Is Groebner Basis: False\n",
      "\n",
      "--- Degree 8 ---\n",
      "Computing all monomials up to degree: 8\n",
      "Time needed: 0.019862651824951172\n",
      "Computing Macaulay matrix.\n",
      "Time needed: 4.0531158447265625e-06\n",
      "Performing Gaussian Elimination.\n",
      "Time needed: 0.07874488830566406\n",
      "Is Groebner Basis: True\n",
      "Total time needed: 0.5186271667480469\n"
     ]
    },
    {
     "data": {
      "text/plain": [
       "[x_1 + 1, x_2 - 1, x_3 + 1, x_4, y + 2]"
      ]
     },
     "execution_count": 11,
     "metadata": {},
     "output_type": "execute_result"
    }
   ],
   "source": [
    "lazard_gb_algorithm(polys + fes)"
   ]
  },
  {
   "cell_type": "code",
   "execution_count": 12,
   "metadata": {},
   "outputs": [
    {
     "data": {
      "text/plain": [
       "S(0) <-- S(-3)⊕S(-3)⊕S(-3)⊕S(-3)⊕S(-3)⊕S(-5)⊕S(-5)⊕S(-5)⊕S(-5)⊕S(-5) <-- S(-8)⊕S(-6)⊕S(-8)⊕S(-8)⊕S(-6)⊕S(-6)⊕S(-8)⊕S(-8)⊕S(-8)⊕S(-6)⊕S(-6)⊕S(-6)⊕S(-8)⊕S(-8)⊕S(-8)⊕S(-8)⊕S(-6)⊕S(-6)⊕S(-6)⊕S(-6)⊕S(-7)⊕S(-7)⊕S(-8)⊕S(-8)⊕S(-8)⊕S(-8)⊕S(-8)⊕S(-8)⊕S(-8)⊕S(-8)⊕S(-8)⊕S(-8)⊕S(-8)⊕S(-8)⊕S(-8)⊕S(-8)⊕S(-8)⊕S(-8)⊕S(-8)⊕S(-8)⊕S(-8)⊕S(-8)⊕S(-8)⊕S(-8)⊕S(-8)⊕S(-8)⊕S(-8)⊕S(-8)⊕S(-8)⊕S(-8)⊕S(-8)⊕S(-8)⊕S(-8)⊕S(-8)⊕S(-8)⊕S(-8)⊕S(-8)⊕S(-8)⊕S(-8)⊕S(-8)⊕S(-8)⊕S(-8)⊕S(-8)⊕S(-8)⊕S(-8)⊕S(-8)⊕S(-8)⊕S(-8)⊕S(-8)⊕S(-8)⊕S(-8)⊕S(-8)⊕S(-8)⊕S(-8)⊕S(-8)⊕S(-8)⊕S(-8)⊕S(-8)⊕S(-8)⊕S(-8)⊕S(-8)⊕S(-8)⊕S(-8)⊕S(-8)⊕S(-8)⊕S(-8)⊕S(-8)⊕S(-8)⊕S(-8)⊕S(-8)⊕S(-8)⊕S(-8)⊕S(-8)⊕S(-8)⊕S(-8)⊕S(-8)⊕S(-9)⊕S(-9) <-- S(-9)⊕S(-9)⊕S(-9)⊕S(-9)⊕S(-9)⊕S(-9)⊕S(-9)⊕S(-9)⊕S(-9)⊕S(-9)⊕S(-9)⊕S(-9)⊕S(-9)⊕S(-9)⊕S(-9)⊕S(-9)⊕S(-9)⊕S(-9)⊕S(-9)⊕S(-9)⊕S(-9)⊕S(-9)⊕S(-9)⊕S(-9)⊕S(-9)⊕S(-9)⊕S(-9)⊕S(-9)⊕S(-9)⊕S(-9)⊕S(-9)⊕S(-9)⊕S(-9)⊕S(-9)⊕S(-9)⊕S(-9)⊕S(-9)⊕S(-9)⊕S(-9)⊕S(-9)⊕S(-9)⊕S(-9)⊕S(-9)⊕S(-9)⊕S(-9)⊕S(-9)⊕S(-9)⊕S(-9)⊕S(-9)⊕S(-9)⊕S(-9)⊕S(-9)⊕S(-9)⊕S(-9)⊕S(-9)⊕S(-9)⊕S(-9)⊕S(-9)⊕S(-9)⊕S(-9)⊕S(-9)⊕S(-9)⊕S(-9)⊕S(-9)⊕S(-9)⊕S(-9)⊕S(-9)⊕S(-9)⊕S(-9)⊕S(-9)⊕S(-9)⊕S(-9)⊕S(-9)⊕S(-9)⊕S(-9)⊕S(-9)⊕S(-9)⊕S(-9)⊕S(-9)⊕S(-9)⊕S(-9)⊕S(-9)⊕S(-9)⊕S(-9)⊕S(-9)⊕S(-9)⊕S(-9)⊕S(-9)⊕S(-10)⊕S(-9)⊕S(-9)⊕S(-10)⊕S(-10)⊕S(-9)⊕S(-9)⊕S(-9)⊕S(-10)⊕S(-10)⊕S(-9)⊕S(-9)⊕S(-10)⊕S(-10)⊕S(-10)⊕S(-10)⊕S(-10)⊕S(-10)⊕S(-9)⊕S(-10)⊕S(-10)⊕S(-10)⊕S(-10)⊕S(-10)⊕S(-10)⊕S(-10)⊕S(-9)⊕S(-10)⊕S(-10)⊕S(-10)⊕S(-10)⊕S(-10)⊕S(-10)⊕S(-10)⊕S(-10)⊕S(-10)⊕S(-10)⊕S(-10)⊕S(-10)⊕S(-9)⊕S(-10)⊕S(-10)⊕S(-10)⊕S(-10)⊕S(-10)⊕S(-10)⊕S(-10)⊕S(-10)⊕S(-10)⊕S(-10)⊕S(-10)⊕S(-10)⊕S(-10)⊕S(-10)⊕S(-10)⊕S(-10)⊕S(-10)⊕S(-10)⊕S(-10)⊕S(-9)⊕S(-9)⊕S(-9)⊕S(-9)⊕S(-9)⊕S(-9)⊕S(-9)⊕S(-9)⊕S(-9)⊕S(-9)⊕S(-9)⊕S(-9)⊕S(-9)⊕S(-9)⊕S(-9)⊕S(-9)⊕S(-9)⊕S(-9)⊕S(-9)⊕S(-9)⊕S(-9)⊕S(-9)⊕S(-9)⊕S(-9)⊕S(-9)⊕S(-9)⊕S(-9)⊕S(-9)⊕S(-9)⊕S(-9)⊕S(-9)⊕S(-9)⊕S(-9)⊕S(-9)⊕S(-9)⊕S(-9)⊕S(-9)⊕S(-9)⊕S(-9)⊕S(-9)⊕S(-9)⊕S(-9)⊕S(-9)⊕S(-9)⊕S(-9)⊕S(-9)⊕S(-9)⊕S(-9)⊕S(-9)⊕S(-9)⊕S(-9)⊕S(-10)⊕S(-10)⊕S(-10)⊕S(-10)⊕S(-10)⊕S(-10)⊕S(-10) <-- S(-10)⊕S(-10)⊕S(-10)⊕S(-10)⊕S(-10)⊕S(-10)⊕S(-10)⊕S(-10)⊕S(-10)⊕S(-10)⊕S(-10)⊕S(-10)⊕S(-10)⊕S(-10)⊕S(-10)⊕S(-10)⊕S(-10)⊕S(-10)⊕S(-10)⊕S(-10)⊕S(-10)⊕S(-10)⊕S(-10)⊕S(-10)⊕S(-10)⊕S(-10)⊕S(-11)⊕S(-11)⊕S(-11)⊕S(-11)⊕S(-11)⊕S(-11)⊕S(-11)⊕S(-11)⊕S(-11)⊕S(-11)⊕S(-11)⊕S(-11)⊕S(-11)⊕S(-11)⊕S(-11)⊕S(-11)⊕S(-11)⊕S(-11)⊕S(-11)⊕S(-11)⊕S(-11)⊕S(-11)⊕S(-11)⊕S(-11)⊕S(-11)⊕S(-11)⊕S(-11)⊕S(-11)⊕S(-11)⊕S(-11)⊕S(-11)⊕S(-11)⊕S(-11)⊕S(-11)⊕S(-11)⊕S(-11)⊕S(-11)⊕S(-11)⊕S(-11)⊕S(-11)⊕S(-11)⊕S(-11)⊕S(-11)⊕S(-11)⊕S(-11)⊕S(-11)⊕S(-11)⊕S(-11)⊕S(-11)⊕S(-11)⊕S(-11)⊕S(-11)⊕S(-11)⊕S(-11)⊕S(-11)⊕S(-11)⊕S(-11)⊕S(-11)⊕S(-11)⊕S(-11)⊕S(-11)⊕S(-11)⊕S(-11)⊕S(-11)⊕S(-11)⊕S(-11)⊕S(-11)⊕S(-11)⊕S(-11)⊕S(-11)⊕S(-11)⊕S(-11)⊕S(-11)⊕S(-11)⊕S(-11)⊕S(-11)⊕S(-11)⊕S(-11)⊕S(-11)⊕S(-11)⊕S(-11)⊕S(-11)⊕S(-11)⊕S(-11)⊕S(-11)⊕S(-11)⊕S(-11)⊕S(-11)⊕S(-11)⊕S(-11)⊕S(-11)⊕S(-11)⊕S(-11)⊕S(-11)⊕S(-11)⊕S(-11)⊕S(-11)⊕S(-11)⊕S(-11)⊕S(-11)⊕S(-11)⊕S(-11)⊕S(-11)⊕S(-11)⊕S(-11)⊕S(-11)⊕S(-11)⊕S(-11)⊕S(-11)⊕S(-11)⊕S(-11)⊕S(-11)⊕S(-11)⊕S(-11)⊕S(-11)⊕S(-11)⊕S(-11)⊕S(-11)⊕S(-11)⊕S(-11)⊕S(-11)⊕S(-11)⊕S(-11)⊕S(-11)⊕S(-11)⊕S(-11)⊕S(-11)⊕S(-11)⊕S(-11)⊕S(-11)⊕S(-11)⊕S(-11)⊕S(-11)⊕S(-11)⊕S(-11)⊕S(-11)⊕S(-11)⊕S(-11)⊕S(-11)⊕S(-11)⊕S(-11)⊕S(-11)⊕S(-11)⊕S(-11)⊕S(-11)⊕S(-11)⊕S(-11)⊕S(-11)⊕S(-11)⊕S(-11)⊕S(-11)⊕S(-11)⊕S(-11)⊕S(-11)⊕S(-11)⊕S(-11)⊕S(-11)⊕S(-11)⊕S(-11)⊕S(-11)⊕S(-11)⊕S(-11)⊕S(-11)⊕S(-11)⊕S(-11)⊕S(-11)⊕S(-11)⊕S(-11)⊕S(-11)⊕S(-11)⊕S(-12)⊕S(-12)⊕S(-12)⊕S(-12)⊕S(-12)⊕S(-12)⊕S(-12)⊕S(-12)⊕S(-12) <-- S(-12)⊕S(-12)⊕S(-12)⊕S(-12)⊕S(-12)⊕S(-12)⊕S(-12)⊕S(-12)⊕S(-12)⊕S(-12)⊕S(-12)⊕S(-12)⊕S(-12)⊕S(-12)⊕S(-12)⊕S(-12)⊕S(-12)⊕S(-12)⊕S(-12)⊕S(-12)⊕S(-12)⊕S(-12)⊕S(-12)⊕S(-12)⊕S(-12)⊕S(-12)⊕S(-12)⊕S(-12)⊕S(-12)⊕S(-12)⊕S(-12)⊕S(-12)⊕S(-12)⊕S(-12)⊕S(-12)⊕S(-12)⊕S(-12)⊕S(-12)⊕S(-12)⊕S(-12)⊕S(-12)⊕S(-12)⊕S(-12)⊕S(-12)⊕S(-12)⊕S(-12)⊕S(-12)⊕S(-12)⊕S(-12)⊕S(-12)⊕S(-12)⊕S(-12)⊕S(-12)⊕S(-12)⊕S(-12)⊕S(-12)⊕S(-12)⊕S(-12)⊕S(-12)⊕S(-12)⊕S(-12)⊕S(-12)⊕S(-12)⊕S(-12)⊕S(-12)⊕S(-12)⊕S(-12)⊕S(-12)⊕S(-12)⊕S(-12)⊕S(-12)⊕S(-12)⊕S(-12)⊕S(-12)⊕S(-12)⊕S(-12)⊕S(-12)⊕S(-12)⊕S(-12)⊕S(-12)⊕S(-12)⊕S(-12)⊕S(-12)⊕S(-12)⊕S(-12)⊕S(-12)⊕S(-12)⊕S(-12)⊕S(-12)⊕S(-12)⊕S(-12)⊕S(-12)⊕S(-13)⊕S(-13)⊕S(-13)⊕S(-13)⊕S(-13)⊕S(-13)⊕S(-13)⊕S(-13)⊕S(-13)⊕S(-13)⊕S(-13)⊕S(-13)⊕S(-13)⊕S(-14)⊕S(-14)⊕S(-14)⊕S(-14)⊕S(-14)⊕S(-15) <-- S(-13)⊕S(-13)⊕S(-13)⊕S(-13)⊕S(-13)⊕S(-13)⊕S(-13)⊕S(-13)⊕S(-13)⊕S(-13)⊕S(-13)⊕S(-13)⊕S(-13)⊕S(-13)⊕S(-14)⊕S(-14)⊕S(-14)⊕S(-14)⊕S(-14)⊕S(-14)⊕S(-14)⊕S(-17) <-- 0"
      ]
     },
     "execution_count": 12,
     "metadata": {},
     "output_type": "execute_result"
    }
   ],
   "source": [
    "res = ideal(polys_h + fes_h).graded_free_resolution(algorithm=\"minimal\")\n",
    "res"
   ]
  },
  {
   "cell_type": "code",
   "execution_count": 13,
   "metadata": {},
   "outputs": [
    {
     "data": {
      "text/plain": [
       "11"
      ]
     },
     "execution_count": 13,
     "metadata": {},
     "output_type": "execute_result"
    }
   ],
   "source": [
    "cm_regularity(res)"
   ]
  },
  {
   "cell_type": "markdown",
   "metadata": {},
   "source": [
    "## p = 11, r = 3"
   ]
  },
  {
   "cell_type": "code",
   "execution_count": 14,
   "metadata": {},
   "outputs": [
    {
     "name": "stdout",
     "output_type": "stream",
     "text": [
      "MiMC Parameters\n",
      "Field: Finite Field of size 11\n",
      "r: 3\n",
      "Constants: [8, 3, 10]\n",
      "\n",
      "Plain: 7\n",
      "Key: 4\n",
      "Cipher: 4\n",
      "\n",
      "y^3 + y^2 - x_1 + 4*y - 2\n",
      "x_1^3 + 3*x_1^2*y + 3*x_1*y^2 + y^3 - 2*x_1^2 - 4*x_1*y - 2*y^2 + 5*x_1 - x_2 + 5*y + 5\n",
      "x_2^3 + 3*x_2^2*y + 3*x_2*y^2 + y^3 - 3*x_2^2 + 5*x_2*y - 3*y^2 + 3*x_2 + 4*y - 5\n"
     ]
    }
   ],
   "source": [
    "p = 11\n",
    "field = GF(p, \"a\")\n",
    "\n",
    "rounds = 3\n",
    "\n",
    "mimc = MiMC(field=field, rounds=rounds)\n",
    "\n",
    "print(\"\")\n",
    "\n",
    "plain = field.random_element()\n",
    "key = field.random_element()\n",
    "cipher = mimc.encryption(plain, key)\n",
    "print(\"Plain:\", plain)\n",
    "print(\"Key:\", key)\n",
    "print(\"Cipher:\", cipher)\n",
    "\n",
    "polys = mimc.generate_polynomials(plain, cipher, info_level=0)\n",
    "polys_h = [poly.homogenize() for poly in polys]\n",
    "I = ideal(polys)\n",
    "variables = polys[0].parent().gens()\n",
    "fes = [var**field.order() - var for var in variables]\n",
    "fes_h = [fe.homogenize() for fe in fes]\n",
    "\n",
    "print(\"\")\n",
    "\n",
    "for poly in polys:\n",
    "    print(poly)"
   ]
  },
  {
   "cell_type": "code",
   "execution_count": 15,
   "metadata": {},
   "outputs": [
    {
     "name": "stdout",
     "output_type": "stream",
     "text": [
      "Ring: Multivariate Polynomial Ring in x_1, x_2, y over Finite Field of size 11\n",
      "Input polynomials:\n",
      "[y^3 + y^2 - x_1 + 4*y - 2, x_1^3 + 3*x_1^2*y + 3*x_1*y^2 + y^3 - 2*x_1^2 - 4*x_1*y - 2*y^2 + 5*x_1 - x_2 + 5*y + 5, x_2^3 + 3*x_2^2*y + 3*x_2*y^2 + y^3 - 3*x_2^2 + 5*x_2*y - 3*y^2 + 3*x_2 + 4*y - 5, x_1^11 - x_1, x_2^11 - x_2, y^11 - y]\n",
      "\n",
      "--- Degree 0 ---\n",
      "Computing all monomials up to degree: 0\n",
      "Time needed: 0.006737232208251953\n",
      "Computing Macaulay matrix.\n",
      "Time needed: 3.0994415283203125e-06\n",
      "Performing Gaussian Elimination.\n",
      "Time needed: 0.0031898021697998047\n",
      "Is Groebner Basis: False\n",
      "\n",
      "--- Degree 1 ---\n",
      "Computing all monomials up to degree: 1\n",
      "Time needed: 0.015495061874389648\n",
      "Computing Macaulay matrix.\n",
      "Time needed: 1.9073486328125e-06\n",
      "Performing Gaussian Elimination.\n",
      "Time needed: 0.0006608963012695312\n",
      "Is Groebner Basis: False\n",
      "\n",
      "--- Degree 2 ---\n",
      "Computing all monomials up to degree: 2\n",
      "Time needed: 0.0025832653045654297\n",
      "Computing Macaulay matrix.\n",
      "Time needed: 2.86102294921875e-06\n",
      "Performing Gaussian Elimination.\n",
      "Time needed: 0.0009334087371826172\n",
      "Is Groebner Basis: False\n",
      "\n",
      "--- Degree 3 ---\n",
      "Computing all monomials up to degree: 3\n",
      "Time needed: 0.0035448074340820312\n",
      "Computing Macaulay matrix.\n",
      "Time needed: 3.5762786865234375e-06\n",
      "Performing Gaussian Elimination.\n",
      "Time needed: 0.00046324729919433594\n",
      "Is Groebner Basis: False\n",
      "\n",
      "--- Degree 4 ---\n",
      "Computing all monomials up to degree: 4\n",
      "Time needed: 0.0029201507568359375\n",
      "Computing Macaulay matrix.\n",
      "Time needed: 2.6226043701171875e-06\n",
      "Performing Gaussian Elimination.\n",
      "Time needed: 0.0012226104736328125\n",
      "Is Groebner Basis: False\n",
      "\n",
      "--- Degree 5 ---\n",
      "Computing all monomials up to degree: 5\n",
      "Time needed: 0.003026247024536133\n",
      "Computing Macaulay matrix.\n",
      "Time needed: 2.6226043701171875e-06\n",
      "Performing Gaussian Elimination.\n",
      "Time needed: 0.0007152557373046875\n",
      "Is Groebner Basis: False\n",
      "\n",
      "--- Degree 6 ---\n",
      "Computing all monomials up to degree: 6\n",
      "Time needed: 0.003191709518432617\n",
      "Computing Macaulay matrix.\n",
      "Time needed: 5.245208740234375e-06\n",
      "Performing Gaussian Elimination.\n",
      "Time needed: 0.0023355484008789062\n",
      "Is Groebner Basis: False\n",
      "\n",
      "--- Degree 7 ---\n",
      "Computing all monomials up to degree: 7\n",
      "Time needed: 0.005059003829956055\n",
      "Computing Macaulay matrix.\n",
      "Time needed: 5.245208740234375e-06\n",
      "Performing Gaussian Elimination.\n",
      "Time needed: 0.006365776062011719\n",
      "Is Groebner Basis: False\n",
      "\n",
      "--- Degree 8 ---\n",
      "Computing all monomials up to degree: 8\n",
      "Time needed: 0.008696317672729492\n",
      "Computing Macaulay matrix.\n",
      "Time needed: 5.9604644775390625e-06\n",
      "Performing Gaussian Elimination.\n",
      "Time needed: 0.01199650764465332\n",
      "Is Groebner Basis: False\n",
      "\n",
      "--- Degree 9 ---\n",
      "Computing all monomials up to degree: 9\n",
      "Time needed: 0.010848522186279297\n",
      "Computing Macaulay matrix.\n",
      "Time needed: 4.291534423828125e-06\n",
      "Performing Gaussian Elimination.\n",
      "Time needed: 0.011375665664672852\n",
      "Is Groebner Basis: False\n",
      "\n",
      "--- Degree 10 ---\n",
      "Computing all monomials up to degree: 10\n",
      "Time needed: 0.007727146148681641\n",
      "Computing Macaulay matrix.\n",
      "Time needed: 4.0531158447265625e-06\n",
      "Performing Gaussian Elimination.\n",
      "Time needed: 0.012781143188476562\n",
      "Is Groebner Basis: False\n",
      "\n",
      "--- Degree 11 ---\n",
      "Computing all monomials up to degree: 11\n",
      "Time needed: 0.009337186813354492\n",
      "Computing Macaulay matrix.\n",
      "Time needed: 4.76837158203125e-06\n",
      "Performing Gaussian Elimination.\n",
      "Time needed: 0.017784833908081055\n",
      "Is Groebner Basis: False\n",
      "\n",
      "--- Degree 12 ---\n",
      "Computing all monomials up to degree: 12\n",
      "Time needed: 0.011122703552246094\n",
      "Computing Macaulay matrix.\n",
      "Time needed: 4.5299530029296875e-06\n",
      "Performing Gaussian Elimination.\n",
      "Time needed: 0.026972532272338867\n",
      "Is Groebner Basis: False\n",
      "\n",
      "--- Degree 13 ---\n",
      "Computing all monomials up to degree: 13\n",
      "Time needed: 0.014105796813964844\n",
      "Computing Macaulay matrix.\n",
      "Time needed: 4.76837158203125e-06\n",
      "Performing Gaussian Elimination.\n",
      "Time needed: 0.038475990295410156\n",
      "Is Groebner Basis: True\n",
      "Total time needed: 1.8330574035644531\n"
     ]
    },
    {
     "data": {
      "text/plain": [
       "[x_1 + 5, x_2 + 3, y - 4]"
      ]
     },
     "execution_count": 15,
     "metadata": {},
     "output_type": "execute_result"
    }
   ],
   "source": [
    "lazard_gb_algorithm(polys + fes)"
   ]
  },
  {
   "cell_type": "code",
   "execution_count": 16,
   "metadata": {},
   "outputs": [
    {
     "data": {
      "text/plain": [
       "S(0) <-- S(-3)⊕S(-3)⊕S(-3)⊕S(-11)⊕S(-11)⊕S(-11) <-- S(-6)⊕S(-6)⊕S(-6)⊕S(-13)⊕S(-13)⊕S(-13)⊕S(-13)⊕S(-14)⊕S(-14)⊕S(-14)⊕S(-14)⊕S(-14)⊕S(-14)⊕S(-14)⊕S(-14)⊕S(-14)⊕S(-14)⊕S(-14)⊕S(-14)⊕S(-14)⊕S(-14)⊕S(-14)⊕S(-14)⊕S(-14)⊕S(-14) <-- S(-15)⊕S(-15)⊕S(-15)⊕S(-15)⊕S(-15)⊕S(-15)⊕S(-15)⊕S(-15)⊕S(-9)⊕S(-15)⊕S(-15)⊕S(-15)⊕S(-15)⊕S(-15)⊕S(-15)⊕S(-15)⊕S(-15)⊕S(-15)⊕S(-15)⊕S(-15)⊕S(-15)⊕S(-15)⊕S(-15)⊕S(-15)⊕S(-15)⊕S(-15)⊕S(-15)⊕S(-15)⊕S(-15)⊕S(-15)⊕S(-15)⊕S(-15)⊕S(-15)⊕S(-15) <-- S(-16)⊕S(-16)⊕S(-16)⊕S(-16)⊕S(-16)⊕S(-16)⊕S(-16)⊕S(-16)⊕S(-16)⊕S(-16)⊕S(-16)⊕S(-16)⊕S(-16)⊕S(-16) <-- 0"
      ]
     },
     "execution_count": 16,
     "metadata": {},
     "output_type": "execute_result"
    }
   ],
   "source": [
    "res = ideal(polys_h + fes_h).graded_free_resolution(algorithm=\"minimal\")\n",
    "res"
   ]
  },
  {
   "cell_type": "code",
   "execution_count": 17,
   "metadata": {},
   "outputs": [
    {
     "data": {
      "text/plain": [
       "13"
      ]
     },
     "execution_count": 17,
     "metadata": {},
     "output_type": "execute_result"
    }
   ],
   "source": [
    "cm_regularity(res)"
   ]
  },
  {
   "cell_type": "markdown",
   "metadata": {},
   "source": [
    "## p = 11, r = 4"
   ]
  },
  {
   "cell_type": "code",
   "execution_count": 18,
   "metadata": {},
   "outputs": [
    {
     "name": "stdout",
     "output_type": "stream",
     "text": [
      "MiMC Parameters\n",
      "Field: Finite Field of size 11\n",
      "r: 4\n",
      "Constants: [4, 2, 0, 7]\n",
      "\n",
      "Plain: 5\n",
      "Key: 1\n",
      "Cipher: 1\n",
      "\n",
      "y^3 + 5*y^2 - x_1 + y + 3\n",
      "x_1^3 + 3*x_1^2*y + 3*x_1*y^2 + y^3 - 5*x_1^2 + x_1*y - 5*y^2 + x_1 - x_2 + y - 3\n",
      "x_2^3 + 3*x_2^2*y + 3*x_2*y^2 + y^3 - x_3\n",
      "x_3^3 + 3*x_3^2*y + 3*x_3*y^2 + y^3 - x_3^2 - 2*x_3*y - y^2 + 4*x_3 + 5*y + 1\n"
     ]
    }
   ],
   "source": [
    "p = 11\n",
    "field = GF(p, \"a\")\n",
    "\n",
    "rounds = 4\n",
    "\n",
    "mimc = MiMC(field=field, rounds=rounds)\n",
    "\n",
    "print(\"\")\n",
    "\n",
    "plain = field.random_element()\n",
    "key = field.random_element()\n",
    "cipher = mimc.encryption(plain, key)\n",
    "print(\"Plain:\", plain)\n",
    "print(\"Key:\", key)\n",
    "print(\"Cipher:\", cipher)\n",
    "\n",
    "polys = mimc.generate_polynomials(plain, cipher, info_level=0)\n",
    "polys_h = [poly.homogenize() for poly in polys]\n",
    "I = ideal(polys)\n",
    "variables = polys[0].parent().gens()\n",
    "fes = [var**field.order() - var for var in variables]\n",
    "fes_h = [fe.homogenize() for fe in fes]\n",
    "\n",
    "print(\"\")\n",
    "\n",
    "for poly in polys:\n",
    "    print(poly)"
   ]
  },
  {
   "cell_type": "code",
   "execution_count": 19,
   "metadata": {},
   "outputs": [
    {
     "name": "stdout",
     "output_type": "stream",
     "text": [
      "Ring: Multivariate Polynomial Ring in x_1, x_2, x_3, y over Finite Field of size 11\n",
      "Input polynomials:\n",
      "[y^3 + 5*y^2 - x_1 + y + 3, x_1^3 + 3*x_1^2*y + 3*x_1*y^2 + y^3 - 5*x_1^2 + x_1*y - 5*y^2 + x_1 - x_2 + y - 3, x_2^3 + 3*x_2^2*y + 3*x_2*y^2 + y^3 - x_3, x_3^3 + 3*x_3^2*y + 3*x_3*y^2 + y^3 - x_3^2 - 2*x_3*y - y^2 + 4*x_3 + 5*y + 1, x_1^11 - x_1, x_2^11 - x_2, x_3^11 - x_3, y^11 - y]\n",
      "\n",
      "--- Degree 0 ---\n",
      "Computing all monomials up to degree: 0\n",
      "Time needed: 0.0007596015930175781\n",
      "Computing Macaulay matrix.\n",
      "Time needed: 1.6689300537109375e-06\n",
      "Performing Gaussian Elimination.\n",
      "Time needed: 0.00010347366333007812\n",
      "Is Groebner Basis: False\n",
      "\n",
      "--- Degree 1 ---\n",
      "Computing all monomials up to degree: 1\n",
      "Time needed: 0.0012156963348388672\n",
      "Computing Macaulay matrix.\n",
      "Time needed: 1.6689300537109375e-06\n",
      "Performing Gaussian Elimination.\n",
      "Time needed: 0.00017213821411132812\n",
      "Is Groebner Basis: False\n",
      "\n",
      "--- Degree 2 ---\n",
      "Computing all monomials up to degree: 2\n",
      "Time needed: 0.0015056133270263672\n",
      "Computing Macaulay matrix.\n",
      "Time needed: 1.6689300537109375e-06\n",
      "Performing Gaussian Elimination.\n",
      "Time needed: 0.00022459030151367188\n",
      "Is Groebner Basis: False\n",
      "\n",
      "--- Degree 3 ---\n",
      "Computing all monomials up to degree: 3\n",
      "Time needed: 0.0024771690368652344\n",
      "Computing Macaulay matrix.\n",
      "Time needed: 2.384185791015625e-06\n",
      "Performing Gaussian Elimination.\n",
      "Time needed: 0.0002808570861816406\n",
      "Is Groebner Basis: False\n",
      "\n",
      "--- Degree 4 ---\n",
      "Computing all monomials up to degree: 4\n",
      "Time needed: 0.004546403884887695\n",
      "Computing Macaulay matrix.\n",
      "Time needed: 2.86102294921875e-06\n",
      "Performing Gaussian Elimination.\n",
      "Time needed: 0.0004734992980957031\n",
      "Is Groebner Basis: False\n",
      "\n",
      "--- Degree 5 ---\n",
      "Computing all monomials up to degree: 5\n",
      "Time needed: 0.004115104675292969\n",
      "Computing Macaulay matrix.\n",
      "Time needed: 6.4373016357421875e-06\n",
      "Performing Gaussian Elimination.\n",
      "Time needed: 0.0026018619537353516\n",
      "Is Groebner Basis: False\n",
      "\n",
      "--- Degree 6 ---\n",
      "Computing all monomials up to degree: 6\n",
      "Time needed: 0.005572795867919922\n",
      "Computing Macaulay matrix.\n",
      "Time needed: 3.0994415283203125e-06\n",
      "Performing Gaussian Elimination.\n",
      "Time needed: 0.002209901809692383\n",
      "Is Groebner Basis: False\n",
      "\n",
      "--- Degree 7 ---\n",
      "Computing all monomials up to degree: 7\n",
      "Time needed: 0.008022785186767578\n",
      "Computing Macaulay matrix.\n",
      "Time needed: 4.5299530029296875e-06\n",
      "Performing Gaussian Elimination.\n",
      "Time needed: 0.006033658981323242\n",
      "Is Groebner Basis: False\n",
      "\n",
      "--- Degree 8 ---\n",
      "Computing all monomials up to degree: 8\n",
      "Time needed: 0.011831283569335938\n",
      "Computing Macaulay matrix.\n",
      "Time needed: 3.814697265625e-06\n",
      "Performing Gaussian Elimination.\n",
      "Time needed: 0.014509439468383789\n",
      "Is Groebner Basis: False\n",
      "\n",
      "--- Degree 9 ---\n",
      "Computing all monomials up to degree: 9\n",
      "Time needed: 0.014578104019165039\n",
      "Computing Macaulay matrix.\n",
      "Time needed: 6.4373016357421875e-06\n",
      "Performing Gaussian Elimination.\n",
      "Time needed: 0.030739545822143555\n",
      "Is Groebner Basis: False\n",
      "\n",
      "--- Degree 10 ---\n",
      "Computing all monomials up to degree: 10\n",
      "Time needed: 0.019273042678833008\n",
      "Computing Macaulay matrix.\n",
      "Time needed: 4.5299530029296875e-06\n",
      "Performing Gaussian Elimination.\n",
      "Time needed: 0.05339407920837402\n",
      "Is Groebner Basis: False\n",
      "\n",
      "--- Degree 11 ---\n",
      "Computing all monomials up to degree: 11\n",
      "Time needed: 0.02490091323852539\n",
      "Computing Macaulay matrix.\n",
      "Time needed: 6.198883056640625e-06\n",
      "Performing Gaussian Elimination.\n",
      "Time needed: 0.11386775970458984\n",
      "Is Groebner Basis: False\n",
      "\n",
      "--- Degree 12 ---\n",
      "Computing all monomials up to degree: 12\n",
      "Time needed: 0.037156105041503906\n",
      "Computing Macaulay matrix.\n",
      "Time needed: 9.059906005859375e-06\n",
      "Performing Gaussian Elimination.\n",
      "Time needed: 0.35701632499694824\n",
      "Is Groebner Basis: False\n",
      "\n",
      "--- Degree 13 ---\n",
      "Computing all monomials up to degree: 13\n",
      "Time needed: 0.043448686599731445\n",
      "Computing Macaulay matrix.\n",
      "Time needed: 7.867813110351562e-06\n",
      "Performing Gaussian Elimination.\n",
      "Time needed: 0.8178613185882568\n",
      "Is Groebner Basis: False\n",
      "\n",
      "--- Degree 14 ---\n",
      "Computing all monomials up to degree: 14\n",
      "Time needed: 0.05491185188293457\n",
      "Computing Macaulay matrix.\n",
      "Time needed: 5.245208740234375e-06\n",
      "Performing Gaussian Elimination.\n",
      "Time needed: 1.0164077281951904\n",
      "Is Groebner Basis: True\n",
      "Total time needed: 5.595064163208008\n"
     ]
    },
    {
     "data": {
      "text/plain": [
       "[y^2 - 1, x_1 - 2*y + 3, x_2 - 3*y - 5, x_3 - y - 2]"
      ]
     },
     "execution_count": 19,
     "metadata": {},
     "output_type": "execute_result"
    }
   ],
   "source": [
    "lazard_gb_algorithm(polys + fes)"
   ]
  },
  {
   "cell_type": "code",
   "execution_count": 20,
   "metadata": {},
   "outputs": [
    {
     "data": {
      "text/plain": [
       "S(0) <-- S(-3)⊕S(-3)⊕S(-3)⊕S(-3)⊕S(-11)⊕S(-11)⊕S(-11)⊕S(-11) <-- S(-6)⊕S(-6)⊕S(-6)⊕S(-6)⊕S(-6)⊕S(-6)⊕S(-14)⊕S(-14)⊕S(-14)⊕S(-14)⊕S(-14)⊕S(-14)⊕S(-14)⊕S(-14)⊕S(-14)⊕S(-14)⊕S(-14)⊕S(-14)⊕S(-14)⊕S(-14)⊕S(-14)⊕S(-14)⊕S(-14)⊕S(-14)⊕S(-14)⊕S(-14)⊕S(-14)⊕S(-14)⊕S(-14)⊕S(-14)⊕S(-14)⊕S(-14)⊕S(-14)⊕S(-14)⊕S(-14)⊕S(-14)⊕S(-14)⊕S(-14)⊕S(-14)⊕S(-14)⊕S(-14)⊕S(-14)⊕S(-14)⊕S(-14)⊕S(-14)⊕S(-14)⊕S(-14)⊕S(-14)⊕S(-14)⊕S(-14)⊕S(-14)⊕S(-14)⊕S(-14)⊕S(-14)⊕S(-14)⊕S(-14)⊕S(-14)⊕S(-14)⊕S(-14)⊕S(-14)⊕S(-14)⊕S(-14)⊕S(-14)⊕S(-14)⊕S(-14)⊕S(-14)⊕S(-14) <-- S(-15)⊕S(-15)⊕S(-15)⊕S(-15)⊕S(-15)⊕S(-15)⊕S(-15)⊕S(-15)⊕S(-15)⊕S(-15)⊕S(-15)⊕S(-15)⊕S(-15)⊕S(-15)⊕S(-15)⊕S(-15)⊕S(-15)⊕S(-15)⊕S(-15)⊕S(-15)⊕S(-15)⊕S(-15)⊕S(-15)⊕S(-9)⊕S(-9)⊕S(-9)⊕S(-9)⊕S(-15)⊕S(-15)⊕S(-15)⊕S(-15)⊕S(-15)⊕S(-15)⊕S(-15)⊕S(-15)⊕S(-15)⊕S(-15)⊕S(-15)⊕S(-15)⊕S(-15)⊕S(-15)⊕S(-15)⊕S(-15)⊕S(-15)⊕S(-15)⊕S(-15)⊕S(-15)⊕S(-15)⊕S(-15)⊕S(-15)⊕S(-15)⊕S(-15)⊕S(-15)⊕S(-15)⊕S(-15)⊕S(-15)⊕S(-15)⊕S(-15)⊕S(-15)⊕S(-15)⊕S(-15)⊕S(-15)⊕S(-15)⊕S(-15)⊕S(-15)⊕S(-15)⊕S(-15)⊕S(-15)⊕S(-15)⊕S(-15)⊕S(-15)⊕S(-15)⊕S(-15)⊕S(-15)⊕S(-15)⊕S(-15)⊕S(-15)⊕S(-15)⊕S(-15)⊕S(-15)⊕S(-15)⊕S(-15)⊕S(-15)⊕S(-15)⊕S(-15)⊕S(-15)⊕S(-15)⊕S(-15)⊕S(-15)⊕S(-15)⊕S(-15)⊕S(-15)⊕S(-15)⊕S(-15)⊕S(-15)⊕S(-15)⊕S(-15)⊕S(-15)⊕S(-15)⊕S(-15)⊕S(-15)⊕S(-15)⊕S(-15)⊕S(-15)⊕S(-15)⊕S(-15)⊕S(-15)⊕S(-15) <-- S(-16)⊕S(-16)⊕S(-16)⊕S(-16)⊕S(-16)⊕S(-16)⊕S(-16)⊕S(-16)⊕S(-16)⊕S(-16)⊕S(-16)⊕S(-16)⊕S(-16)⊕S(-16)⊕S(-16)⊕S(-16)⊕S(-16)⊕S(-16)⊕S(-16)⊕S(-16)⊕S(-17)⊕S(-17)⊕S(-17)⊕S(-17)⊕S(-17)⊕S(-17)⊕S(-17)⊕S(-17)⊕S(-17)⊕S(-17)⊕S(-17)⊕S(-17)⊕S(-17)⊕S(-17)⊕S(-17)⊕S(-17)⊕S(-17)⊕S(-17)⊕S(-17)⊕S(-17)⊕S(-17)⊕S(-17)⊕S(-17)⊕S(-17)⊕S(-17)⊕S(-17)⊕S(-17)⊕S(-17)⊕S(-17)⊕S(-17)⊕S(-17)⊕S(-17)⊕S(-17)⊕S(-17)⊕S(-17)⊕S(-17)⊕S(-12)⊕S(-16)⊕S(-16)⊕S(-16)⊕S(-16)⊕S(-16)⊕S(-16)⊕S(-16)⊕S(-16)⊕S(-16)⊕S(-16) <-- S(-18)⊕S(-18)⊕S(-18)⊕S(-18)⊕S(-18)⊕S(-18)⊕S(-18)⊕S(-18)⊕S(-18)⊕S(-18)⊕S(-18)⊕S(-18)⊕S(-18)⊕S(-18)⊕S(-18)⊕S(-18)⊕S(-18)⊕S(-18)⊕S(-18) <-- 0"
      ]
     },
     "execution_count": 20,
     "metadata": {},
     "output_type": "execute_result"
    }
   ],
   "source": [
    "res = ideal(polys_h + fes_h).graded_free_resolution(algorithm=\"minimal\")\n",
    "res"
   ]
  },
  {
   "cell_type": "code",
   "execution_count": 21,
   "metadata": {},
   "outputs": [
    {
     "data": {
      "text/plain": [
       "14"
      ]
     },
     "execution_count": 21,
     "metadata": {},
     "output_type": "execute_result"
    }
   ],
   "source": [
    "cm_regularity(res)"
   ]
  },
  {
   "cell_type": "markdown",
   "metadata": {},
   "source": [
    "## p = 11, r = 5"
   ]
  },
  {
   "cell_type": "code",
   "execution_count": 22,
   "metadata": {},
   "outputs": [
    {
     "name": "stdout",
     "output_type": "stream",
     "text": [
      "MiMC Parameters\n",
      "Field: Finite Field of size 11\n",
      "r: 5\n",
      "Constants: [5, 10, 8, 3, 4]\n",
      "\n",
      "Plain: 2\n",
      "Key: 5\n",
      "Cipher: 7\n",
      "\n",
      "y^3 - y^2 - x_1 + 4*y + 2\n",
      "x_1^3 + 3*x_1^2*y + 3*x_1*y^2 + y^3 - 3*x_1^2 + 5*x_1*y - 3*y^2 + 3*x_1 - x_2 + 3*y - 1\n",
      "x_2^3 + 3*x_2^2*y + 3*x_2*y^2 + y^3 + 2*x_2^2 + 4*x_2*y + 2*y^2 + 5*x_2 - x_3 + 5*y - 5\n",
      "x_3^3 + 3*x_3^2*y + 3*x_3*y^2 + y^3 - 2*x_3^2 - 4*x_3*y - 2*y^2 + 5*x_3 - x_4 + 5*y + 5\n",
      "x_4^3 + 3*x_4^2*y + 3*x_4*y^2 + y^3 + x_4^2 + 2*x_4*y + y^2 + 4*x_4 + 5*y + 2\n"
     ]
    }
   ],
   "source": [
    "p = 11\n",
    "field = GF(p, \"a\")\n",
    "\n",
    "rounds = 5\n",
    "\n",
    "mimc = MiMC(field=field, rounds=rounds)\n",
    "\n",
    "print(\"\")\n",
    "\n",
    "plain = field.random_element()\n",
    "key = field.random_element()\n",
    "cipher = mimc.encryption(plain, key)\n",
    "print(\"Plain:\", plain)\n",
    "print(\"Key:\", key)\n",
    "print(\"Cipher:\", cipher)\n",
    "\n",
    "polys = mimc.generate_polynomials(plain, cipher, info_level=0)\n",
    "polys_h = [poly.homogenize() for poly in polys]\n",
    "I = ideal(polys)\n",
    "variables = polys[0].parent().gens()\n",
    "fes = [var**field.order() - var for var in variables]\n",
    "fes_h = [fe.homogenize() for fe in fes]\n",
    "\n",
    "print(\"\")\n",
    "\n",
    "for poly in polys:\n",
    "    print(poly)"
   ]
  },
  {
   "cell_type": "code",
   "execution_count": 23,
   "metadata": {},
   "outputs": [
    {
     "name": "stdout",
     "output_type": "stream",
     "text": [
      "Ring: Multivariate Polynomial Ring in x_1, x_2, x_3, x_4, y over Finite Field of size 11\n",
      "Input polynomials:\n",
      "[y^3 - y^2 - x_1 + 4*y + 2, x_1^3 + 3*x_1^2*y + 3*x_1*y^2 + y^3 - 3*x_1^2 + 5*x_1*y - 3*y^2 + 3*x_1 - x_2 + 3*y - 1, x_2^3 + 3*x_2^2*y + 3*x_2*y^2 + y^3 + 2*x_2^2 + 4*x_2*y + 2*y^2 + 5*x_2 - x_3 + 5*y - 5, x_3^3 + 3*x_3^2*y + 3*x_3*y^2 + y^3 - 2*x_3^2 - 4*x_3*y - 2*y^2 + 5*x_3 - x_4 + 5*y + 5, x_4^3 + 3*x_4^2*y + 3*x_4*y^2 + y^3 + x_4^2 + 2*x_4*y + y^2 + 4*x_4 + 5*y + 2, x_1^11 - x_1, x_2^11 - x_2, x_3^11 - x_3, x_4^11 - x_4, y^11 - y]\n",
      "\n",
      "--- Degree 0 ---\n",
      "Computing all monomials up to degree: 0\n",
      "Time needed: 0.000667572021484375\n",
      "Computing Macaulay matrix.\n",
      "Time needed: 1.9073486328125e-06\n",
      "Performing Gaussian Elimination.\n",
      "Time needed: 8.678436279296875e-05\n",
      "Is Groebner Basis: False\n",
      "\n",
      "--- Degree 1 ---\n",
      "Computing all monomials up to degree: 1\n",
      "Time needed: 0.0015513896942138672\n",
      "Computing Macaulay matrix.\n",
      "Time needed: 1.6689300537109375e-06\n",
      "Performing Gaussian Elimination.\n",
      "Time needed: 0.0002086162567138672\n",
      "Is Groebner Basis: False\n",
      "\n",
      "--- Degree 2 ---\n",
      "Computing all monomials up to degree: 2\n",
      "Time needed: 0.0026938915252685547\n",
      "Computing Macaulay matrix.\n",
      "Time needed: 3.337860107421875e-06\n",
      "Performing Gaussian Elimination.\n",
      "Time needed: 0.0003299713134765625\n",
      "Is Groebner Basis: False\n",
      "\n",
      "--- Degree 3 ---\n",
      "Computing all monomials up to degree: 3\n",
      "Time needed: 0.006533622741699219\n",
      "Computing Macaulay matrix.\n",
      "Time needed: 3.337860107421875e-06\n",
      "Performing Gaussian Elimination.\n",
      "Time needed: 0.00046896934509277344\n",
      "Is Groebner Basis: False\n",
      "\n",
      "--- Degree 4 ---\n",
      "Computing all monomials up to degree: 4\n",
      "Time needed: 0.004296541213989258\n",
      "Computing Macaulay matrix.\n",
      "Time needed: 2.6226043701171875e-06\n",
      "Performing Gaussian Elimination.\n",
      "Time needed: 0.000736236572265625\n",
      "Is Groebner Basis: False\n",
      "\n",
      "--- Degree 5 ---\n",
      "Computing all monomials up to degree: 5\n",
      "Time needed: 0.006340503692626953\n",
      "Computing Macaulay matrix.\n",
      "Time needed: 3.5762786865234375e-06\n",
      "Performing Gaussian Elimination.\n",
      "Time needed: 0.0019614696502685547\n",
      "Is Groebner Basis: False\n",
      "\n",
      "--- Degree 6 ---\n",
      "Computing all monomials up to degree: 6\n",
      "Time needed: 0.010731220245361328\n",
      "Computing Macaulay matrix.\n",
      "Time needed: 4.0531158447265625e-06\n",
      "Performing Gaussian Elimination.\n",
      "Time needed: 0.00852203369140625\n",
      "Is Groebner Basis: False\n",
      "\n",
      "--- Degree 7 ---\n",
      "Computing all monomials up to degree: 7\n",
      "Time needed: 0.019494056701660156\n",
      "Computing Macaulay matrix.\n",
      "Time needed: 4.5299530029296875e-06\n",
      "Performing Gaussian Elimination.\n",
      "Time needed: 0.026080846786499023\n",
      "Is Groebner Basis: False\n",
      "\n",
      "--- Degree 8 ---\n",
      "Computing all monomials up to degree: 8\n",
      "Time needed: 0.0252993106842041\n",
      "Computing Macaulay matrix.\n",
      "Time needed: 4.291534423828125e-06\n",
      "Performing Gaussian Elimination.\n",
      "Time needed: 0.05124020576477051\n",
      "Is Groebner Basis: False\n",
      "\n",
      "--- Degree 9 ---\n",
      "Computing all monomials up to degree: 9\n",
      "Time needed: 0.042471885681152344\n",
      "Computing Macaulay matrix.\n",
      "Time needed: 5.4836273193359375e-06\n",
      "Performing Gaussian Elimination.\n",
      "Time needed: 0.21308374404907227\n",
      "Is Groebner Basis: False\n",
      "\n",
      "--- Degree 10 ---\n",
      "Computing all monomials up to degree: 10\n",
      "Time needed: 0.05542135238647461\n",
      "Computing Macaulay matrix.\n",
      "Time needed: 6.4373016357421875e-06\n",
      "Performing Gaussian Elimination.\n",
      "Time needed: 0.3535492420196533\n",
      "Is Groebner Basis: False\n",
      "\n",
      "--- Degree 11 ---\n",
      "Computing all monomials up to degree: 11\n",
      "Time needed: 0.08316969871520996\n",
      "Computing Macaulay matrix.\n",
      "Time needed: 5.4836273193359375e-06\n",
      "Performing Gaussian Elimination.\n",
      "Time needed: 2.110095262527466\n",
      "Is Groebner Basis: False\n",
      "\n",
      "--- Degree 12 ---\n",
      "Computing all monomials up to degree: 12\n",
      "Time needed: 0.14321637153625488\n",
      "Computing Macaulay matrix.\n",
      "Time needed: 7.152557373046875e-06\n",
      "Performing Gaussian Elimination.\n",
      "Time needed: 4.294150114059448\n",
      "Is Groebner Basis: False\n",
      "\n",
      "--- Degree 13 ---\n",
      "Computing all monomials up to degree: 13\n",
      "Time needed: 0.34124159812927246\n",
      "Computing Macaulay matrix.\n",
      "Time needed: 6.67572021484375e-06\n",
      "Performing Gaussian Elimination.\n",
      "Time needed: 11.666802167892456\n",
      "Is Groebner Basis: False\n",
      "\n",
      "--- Degree 14 ---\n",
      "Computing all monomials up to degree: 14\n",
      "Time needed: 0.19141364097595215\n",
      "Computing Macaulay matrix.\n",
      "Time needed: 7.867813110351562e-06\n",
      "Performing Gaussian Elimination.\n",
      "Time needed: 30.387669801712036\n",
      "Is Groebner Basis: True\n",
      "Total time needed: 65.9876012802124\n"
     ]
    },
    {
     "data": {
      "text/plain": [
       "[x_1 - 1, x_2 - 4, x_3 + 4, x_4 + 2, y - 5]"
      ]
     },
     "execution_count": 23,
     "metadata": {},
     "output_type": "execute_result"
    }
   ],
   "source": [
    "lazard_gb_algorithm(polys + fes)"
   ]
  },
  {
   "cell_type": "code",
   "execution_count": 24,
   "metadata": {},
   "outputs": [
    {
     "data": {
      "text/plain": [
       "S(0) <-- S(-3)⊕S(-3)⊕S(-3)⊕S(-3)⊕S(-3)⊕S(-11)⊕S(-11)⊕S(-11)⊕S(-11)⊕S(-11) <-- S(-6)⊕S(-6)⊕S(-6)⊕S(-6)⊕S(-6)⊕S(-6)⊕S(-6)⊕S(-6)⊕S(-6)⊕S(-6)⊕S(-15)⊕S(-14)⊕S(-14)⊕S(-14)⊕S(-14)⊕S(-14)⊕S(-14)⊕S(-14)⊕S(-14)⊕S(-14)⊕S(-14)⊕S(-14)⊕S(-14)⊕S(-14)⊕S(-14)⊕S(-14)⊕S(-14)⊕S(-14)⊕S(-14)⊕S(-14)⊕S(-14)⊕S(-14)⊕S(-14)⊕S(-14)⊕S(-14)⊕S(-14)⊕S(-14)⊕S(-14)⊕S(-14)⊕S(-14)⊕S(-14)⊕S(-14)⊕S(-14)⊕S(-14)⊕S(-14)⊕S(-14)⊕S(-14)⊕S(-14)⊕S(-14)⊕S(-14)⊕S(-14)⊕S(-14)⊕S(-14)⊕S(-14)⊕S(-14)⊕S(-14)⊕S(-14)⊕S(-14)⊕S(-14)⊕S(-14)⊕S(-14)⊕S(-14)⊕S(-14)⊕S(-14)⊕S(-14)⊕S(-14)⊕S(-14)⊕S(-15)⊕S(-15)⊕S(-15)⊕S(-15)⊕S(-15)⊕S(-15)⊕S(-15)⊕S(-15)⊕S(-15)⊕S(-15)⊕S(-15)⊕S(-15)⊕S(-15)⊕S(-15)⊕S(-15)⊕S(-15)⊕S(-15)⊕S(-15)⊕S(-15)⊕S(-15)⊕S(-15)⊕S(-15)⊕S(-15)⊕S(-15)⊕S(-15)⊕S(-15)⊕S(-15)⊕S(-15)⊕S(-15)⊕S(-15)⊕S(-15)⊕S(-15)⊕S(-15)⊕S(-15)⊕S(-15)⊕S(-15)⊕S(-15)⊕S(-15)⊕S(-15)⊕S(-15)⊕S(-15)⊕S(-15)⊕S(-15)⊕S(-15)⊕S(-15)⊕S(-15)⊕S(-15)⊕S(-15)⊕S(-15)⊕S(-15)⊕S(-15)⊕S(-15) <-- S(-9)⊕S(-9)⊕S(-9)⊕S(-9)⊕S(-9)⊕S(-9)⊕S(-9)⊕S(-9)⊕S(-9)⊕S(-9)⊕S(-16)⊕S(-16)⊕S(-16)⊕S(-16)⊕S(-16)⊕S(-16)⊕S(-16)⊕S(-16)⊕S(-16)⊕S(-16)⊕S(-16)⊕S(-16)⊕S(-16)⊕S(-16)⊕S(-16)⊕S(-16)⊕S(-16)⊕S(-16)⊕S(-16)⊕S(-16)⊕S(-16)⊕S(-16)⊕S(-16)⊕S(-16)⊕S(-16)⊕S(-16)⊕S(-16)⊕S(-16)⊕S(-16)⊕S(-16)⊕S(-16)⊕S(-16)⊕S(-16)⊕S(-16)⊕S(-16)⊕S(-16)⊕S(-16)⊕S(-16)⊕S(-16)⊕S(-16)⊕S(-16)⊕S(-16)⊕S(-16)⊕S(-16)⊕S(-16)⊕S(-16)⊕S(-16)⊕S(-16)⊕S(-16)⊕S(-16)⊕S(-16)⊕S(-16)⊕S(-16)⊕S(-16)⊕S(-16)⊕S(-16)⊕S(-16)⊕S(-16)⊕S(-16)⊕S(-16)⊕S(-16)⊕S(-16)⊕S(-16)⊕S(-16)⊕S(-16)⊕S(-16)⊕S(-16)⊕S(-16)⊕S(-16)⊕S(-16)⊕S(-16)⊕S(-16)⊕S(-16)⊕S(-16)⊕S(-16)⊕S(-16)⊕S(-16)⊕S(-16)⊕S(-16)⊕S(-16)⊕S(-16)⊕S(-16)⊕S(-16)⊕S(-16)⊕S(-16)⊕S(-16)⊕S(-16)⊕S(-16)⊕S(-16)⊕S(-16)⊕S(-16)⊕S(-16)⊕S(-16)⊕S(-16)⊕S(-16)⊕S(-16)⊕S(-16)⊕S(-16)⊕S(-16)⊕S(-16)⊕S(-16)⊕S(-16)⊕S(-16)⊕S(-16)⊕S(-16)⊕S(-16)⊕S(-16)⊕S(-16)⊕S(-16)⊕S(-16)⊕S(-16)⊕S(-16)⊕S(-16)⊕S(-16)⊕S(-16)⊕S(-16)⊕S(-16)⊕S(-16)⊕S(-16)⊕S(-16)⊕S(-16)⊕S(-16)⊕S(-16)⊕S(-16)⊕S(-16)⊕S(-16)⊕S(-16)⊕S(-16)⊕S(-16)⊕S(-16)⊕S(-16)⊕S(-16)⊕S(-16)⊕S(-16)⊕S(-16)⊕S(-16)⊕S(-16)⊕S(-16)⊕S(-16)⊕S(-16)⊕S(-16)⊕S(-16)⊕S(-16)⊕S(-16)⊕S(-16)⊕S(-16)⊕S(-16)⊕S(-16)⊕S(-16)⊕S(-16)⊕S(-16)⊕S(-16)⊕S(-16)⊕S(-16)⊕S(-16)⊕S(-16)⊕S(-16)⊕S(-16)⊕S(-16)⊕S(-16)⊕S(-16)⊕S(-16)⊕S(-16)⊕S(-16)⊕S(-16)⊕S(-16)⊕S(-16)⊕S(-16)⊕S(-16)⊕S(-16)⊕S(-16)⊕S(-16)⊕S(-16)⊕S(-16)⊕S(-16)⊕S(-16)⊕S(-16)⊕S(-16)⊕S(-16)⊕S(-16)⊕S(-16)⊕S(-16)⊕S(-16)⊕S(-16)⊕S(-16)⊕S(-16)⊕S(-16)⊕S(-16)⊕S(-16)⊕S(-16)⊕S(-16)⊕S(-16)⊕S(-16)⊕S(-16)⊕S(-16)⊕S(-16)⊕S(-16)⊕S(-16)⊕S(-16)⊕S(-16)⊕S(-16)⊕S(-16)⊕S(-16)⊕S(-16)⊕S(-16)⊕S(-16)⊕S(-16)⊕S(-16)⊕S(-16)⊕S(-16)⊕S(-16)⊕S(-16)⊕S(-16)⊕S(-16)⊕S(-16)⊕S(-16)⊕S(-16)⊕S(-16)⊕S(-16)⊕S(-16)⊕S(-16)⊕S(-16)⊕S(-16)⊕S(-16)⊕S(-16)⊕S(-16)⊕S(-16)⊕S(-16)⊕S(-16)⊕S(-16)⊕S(-16)⊕S(-16)⊕S(-16)⊕S(-16)⊕S(-16)⊕S(-16)⊕S(-16)⊕S(-16)⊕S(-16)⊕S(-16)⊕S(-16)⊕S(-16)⊕S(-16)⊕S(-16)⊕S(-16)⊕S(-16)⊕S(-16)⊕S(-16)⊕S(-16)⊕S(-16)⊕S(-16)⊕S(-16)⊕S(-16)⊕S(-16)⊕S(-16)⊕S(-16)⊕S(-16)⊕S(-16)⊕S(-16)⊕S(-16)⊕S(-16)⊕S(-16)⊕S(-16)⊕S(-16)⊕S(-16)⊕S(-16)⊕S(-16)⊕S(-16)⊕S(-16)⊕S(-16)⊕S(-16)⊕S(-16)⊕S(-16)⊕S(-16)⊕S(-16)⊕S(-16)⊕S(-16)⊕S(-16)⊕S(-16)⊕S(-16)⊕S(-16)⊕S(-16)⊕S(-16)⊕S(-16)⊕S(-16)⊕S(-16)⊕S(-16)⊕S(-16)⊕S(-16)⊕S(-16)⊕S(-16)⊕S(-16)⊕S(-16)⊕S(-16)⊕S(-16)⊕S(-16)⊕S(-16)⊕S(-16)⊕S(-16)⊕S(-16)⊕S(-16)⊕S(-16)⊕S(-16)⊕S(-16)⊕S(-16)⊕S(-16)⊕S(-16)⊕S(-16)⊕S(-16)⊕S(-16)⊕S(-16)⊕S(-16)⊕S(-16)⊕S(-16)⊕S(-16)⊕S(-16)⊕S(-16)⊕S(-16)⊕S(-16)⊕S(-16)⊕S(-16)⊕S(-16)⊕S(-16)⊕S(-16)⊕S(-16)⊕S(-16)⊕S(-16)⊕S(-16)⊕S(-16)⊕S(-16)⊕S(-16)⊕S(-16)⊕S(-16)⊕S(-16)⊕S(-16)⊕S(-16)⊕S(-16)⊕S(-16)⊕S(-16)⊕S(-16)⊕S(-16)⊕S(-16)⊕S(-16)⊕S(-16)⊕S(-16)⊕S(-16)⊕S(-16)⊕S(-16)⊕S(-16)⊕S(-16)⊕S(-16)⊕S(-16)⊕S(-16)⊕S(-16)⊕S(-16)⊕S(-16)⊕S(-16)⊕S(-16)⊕S(-16)⊕S(-16)⊕S(-16)⊕S(-16)⊕S(-16)⊕S(-16)⊕S(-16)⊕S(-16)⊕S(-16)⊕S(-16)⊕S(-16)⊕S(-16)⊕S(-16)⊕S(-16)⊕S(-16)⊕S(-16)⊕S(-16)⊕S(-16)⊕S(-16)⊕S(-16)⊕S(-16)⊕S(-16)⊕S(-16)⊕S(-16)⊕S(-16)⊕S(-16)⊕S(-16)⊕S(-16)⊕S(-16)⊕S(-16)⊕S(-16)⊕S(-16)⊕S(-16)⊕S(-16)⊕S(-16)⊕S(-16)⊕S(-16)⊕S(-16)⊕S(-16)⊕S(-16)⊕S(-16)⊕S(-16)⊕S(-16)⊕S(-16)⊕S(-16)⊕S(-16)⊕S(-16)⊕S(-16)⊕S(-16)⊕S(-16)⊕S(-16)⊕S(-16)⊕S(-16)⊕S(-16)⊕S(-16)⊕S(-16)⊕S(-16)⊕S(-16)⊕S(-16)⊕S(-16)⊕S(-16)⊕S(-16)⊕S(-16)⊕S(-16)⊕S(-16)⊕S(-16)⊕S(-16)⊕S(-16)⊕S(-16)⊕S(-16)⊕S(-16)⊕S(-16)⊕S(-16)⊕S(-16)⊕S(-16)⊕S(-16)⊕S(-16)⊕S(-16)⊕S(-16)⊕S(-16)⊕S(-16)⊕S(-16)⊕S(-16)⊕S(-16)⊕S(-16)⊕S(-16)⊕S(-16)⊕S(-16)⊕S(-16)⊕S(-16)⊕S(-16)⊕S(-16)⊕S(-16)⊕S(-16)⊕S(-16)⊕S(-16)⊕S(-16)⊕S(-16)⊕S(-16)⊕S(-16)⊕S(-16)⊕S(-16)⊕S(-16)⊕S(-16)⊕S(-16)⊕S(-16)⊕S(-16)⊕S(-16)⊕S(-16)⊕S(-16)⊕S(-16)⊕S(-16)⊕S(-16)⊕S(-16)⊕S(-16)⊕S(-16)⊕S(-16)⊕S(-16) <-- S(-17)⊕S(-17)⊕S(-17)⊕S(-17)⊕S(-17)⊕S(-17)⊕S(-17)⊕S(-17)⊕S(-17)⊕S(-17)⊕S(-17)⊕S(-17)⊕S(-17)⊕S(-17)⊕S(-17)⊕S(-17)⊕S(-17)⊕S(-17)⊕S(-17)⊕S(-17)⊕S(-17)⊕S(-17)⊕S(-17)⊕S(-17)⊕S(-17)⊕S(-17)⊕S(-17)⊕S(-17)⊕S(-17)⊕S(-17)⊕S(-17)⊕S(-17)⊕S(-17)⊕S(-17)⊕S(-17)⊕S(-17)⊕S(-17)⊕S(-17)⊕S(-17)⊕S(-17)⊕S(-17)⊕S(-17)⊕S(-17)⊕S(-17)⊕S(-17)⊕S(-17)⊕S(-17)⊕S(-17)⊕S(-17)⊕S(-17)⊕S(-17)⊕S(-17)⊕S(-17)⊕S(-17)⊕S(-17)⊕S(-17)⊕S(-17)⊕S(-17)⊕S(-17)⊕S(-17)⊕S(-17)⊕S(-17)⊕S(-17)⊕S(-17)⊕S(-17)⊕S(-17)⊕S(-17)⊕S(-17)⊕S(-17)⊕S(-17)⊕S(-17)⊕S(-17)⊕S(-17)⊕S(-17)⊕S(-17)⊕S(-17)⊕S(-17)⊕S(-17)⊕S(-17)⊕S(-17)⊕S(-17)⊕S(-17)⊕S(-17)⊕S(-17)⊕S(-17)⊕S(-17)⊕S(-17)⊕S(-17)⊕S(-17)⊕S(-17)⊕S(-17)⊕S(-17)⊕S(-17)⊕S(-17)⊕S(-17)⊕S(-17)⊕S(-17)⊕S(-17)⊕S(-17)⊕S(-17)⊕S(-17)⊕S(-17)⊕S(-17)⊕S(-17)⊕S(-17)⊕S(-17)⊕S(-17)⊕S(-17)⊕S(-17)⊕S(-17)⊕S(-17)⊕S(-17)⊕S(-17)⊕S(-17)⊕S(-17)⊕S(-17)⊕S(-17)⊕S(-17)⊕S(-17)⊕S(-17)⊕S(-17)⊕S(-17)⊕S(-17)⊕S(-17)⊕S(-17)⊕S(-17)⊕S(-17)⊕S(-17)⊕S(-17)⊕S(-17)⊕S(-17)⊕S(-17)⊕S(-17)⊕S(-17)⊕S(-17)⊕S(-17)⊕S(-17)⊕S(-17)⊕S(-17)⊕S(-17)⊕S(-17)⊕S(-17)⊕S(-17)⊕S(-17)⊕S(-17)⊕S(-17)⊕S(-17)⊕S(-17)⊕S(-17)⊕S(-17)⊕S(-17)⊕S(-17)⊕S(-17)⊕S(-17)⊕S(-17)⊕S(-17)⊕S(-17)⊕S(-17)⊕S(-17)⊕S(-17)⊕S(-17)⊕S(-17)⊕S(-17)⊕S(-17)⊕S(-17)⊕S(-17)⊕S(-17)⊕S(-17)⊕S(-17)⊕S(-17)⊕S(-17)⊕S(-17)⊕S(-17)⊕S(-17)⊕S(-17)⊕S(-17)⊕S(-17)⊕S(-17)⊕S(-17)⊕S(-17)⊕S(-17)⊕S(-17)⊕S(-17)⊕S(-17)⊕S(-17)⊕S(-17)⊕S(-17)⊕S(-17)⊕S(-17)⊕S(-17)⊕S(-17)⊕S(-17)⊕S(-17)⊕S(-17)⊕S(-17)⊕S(-17)⊕S(-17)⊕S(-17)⊕S(-17)⊕S(-17)⊕S(-17)⊕S(-17)⊕S(-17)⊕S(-17)⊕S(-17)⊕S(-17)⊕S(-17)⊕S(-17)⊕S(-17)⊕S(-17)⊕S(-17)⊕S(-17)⊕S(-17)⊕S(-17)⊕S(-17)⊕S(-17)⊕S(-17)⊕S(-17)⊕S(-17)⊕S(-17)⊕S(-17)⊕S(-17)⊕S(-17)⊕S(-17)⊕S(-17)⊕S(-17)⊕S(-17)⊕S(-17)⊕S(-17)⊕S(-17)⊕S(-17)⊕S(-17)⊕S(-17)⊕S(-17)⊕S(-17)⊕S(-17)⊕S(-17)⊕S(-17)⊕S(-17)⊕S(-17)⊕S(-17)⊕S(-17)⊕S(-17)⊕S(-17)⊕S(-17)⊕S(-17)⊕S(-17)⊕S(-17)⊕S(-17)⊕S(-17)⊕S(-17)⊕S(-17)⊕S(-17)⊕S(-17)⊕S(-17)⊕S(-17)⊕S(-17)⊕S(-17)⊕S(-17)⊕S(-17)⊕S(-17)⊕S(-17)⊕S(-17)⊕S(-17)⊕S(-17)⊕S(-17)⊕S(-17)⊕S(-17)⊕S(-17)⊕S(-17)⊕S(-17)⊕S(-17)⊕S(-17)⊕S(-17)⊕S(-17)⊕S(-17)⊕S(-17)⊕S(-17)⊕S(-17)⊕S(-17)⊕S(-17)⊕S(-17)⊕S(-17)⊕S(-17)⊕S(-17)⊕S(-17)⊕S(-17)⊕S(-17)⊕S(-17)⊕S(-17)⊕S(-17)⊕S(-17)⊕S(-17)⊕S(-17)⊕S(-17)⊕S(-17)⊕S(-17)⊕S(-17)⊕S(-17)⊕S(-17)⊕S(-17)⊕S(-17)⊕S(-17)⊕S(-17)⊕S(-17)⊕S(-17)⊕S(-17)⊕S(-17)⊕S(-17)⊕S(-17)⊕S(-17)⊕S(-17)⊕S(-17)⊕S(-17)⊕S(-17)⊕S(-17)⊕S(-17)⊕S(-17)⊕S(-17)⊕S(-17)⊕S(-17)⊕S(-17)⊕S(-17)⊕S(-17)⊕S(-17)⊕S(-17)⊕S(-17)⊕S(-17)⊕S(-17)⊕S(-17)⊕S(-17)⊕S(-17)⊕S(-17)⊕S(-17)⊕S(-17)⊕S(-17)⊕S(-17)⊕S(-17)⊕S(-17)⊕S(-17)⊕S(-17)⊕S(-17)⊕S(-17)⊕S(-17)⊕S(-17)⊕S(-17)⊕S(-17)⊕S(-17)⊕S(-17)⊕S(-17)⊕S(-17)⊕S(-17)⊕S(-17)⊕S(-17)⊕S(-17)⊕S(-17)⊕S(-17)⊕S(-17)⊕S(-17)⊕S(-17)⊕S(-17)⊕S(-17)⊕S(-17)⊕S(-17)⊕S(-17)⊕S(-17)⊕S(-17)⊕S(-17)⊕S(-17)⊕S(-17)⊕S(-17)⊕S(-17)⊕S(-17)⊕S(-17)⊕S(-17)⊕S(-17)⊕S(-17)⊕S(-17)⊕S(-17)⊕S(-17)⊕S(-17)⊕S(-17)⊕S(-17)⊕S(-17)⊕S(-17)⊕S(-17)⊕S(-17)⊕S(-17)⊕S(-17)⊕S(-17)⊕S(-17)⊕S(-17)⊕S(-17)⊕S(-17)⊕S(-17)⊕S(-17)⊕S(-17)⊕S(-17)⊕S(-17)⊕S(-17)⊕S(-17)⊕S(-17)⊕S(-17)⊕S(-17)⊕S(-17)⊕S(-17)⊕S(-17)⊕S(-17)⊕S(-17)⊕S(-17)⊕S(-17)⊕S(-17)⊕S(-17)⊕S(-17)⊕S(-17)⊕S(-17)⊕S(-17)⊕S(-17)⊕S(-17)⊕S(-17)⊕S(-17)⊕S(-17)⊕S(-17)⊕S(-17)⊕S(-17)⊕S(-17)⊕S(-17)⊕S(-17)⊕S(-17)⊕S(-17)⊕S(-17)⊕S(-17)⊕S(-17)⊕S(-17)⊕S(-17)⊕S(-17)⊕S(-17)⊕S(-17)⊕S(-17)⊕S(-17)⊕S(-17)⊕S(-17)⊕S(-17)⊕S(-17)⊕S(-17)⊕S(-17)⊕S(-17)⊕S(-17)⊕S(-17)⊕S(-17)⊕S(-17)⊕S(-17)⊕S(-17)⊕S(-17)⊕S(-17)⊕S(-17)⊕S(-17)⊕S(-17)⊕S(-17)⊕S(-17)⊕S(-17)⊕S(-17)⊕S(-17)⊕S(-17)⊕S(-17)⊕S(-17)⊕S(-17)⊕S(-17)⊕S(-17)⊕S(-17)⊕S(-17)⊕S(-17)⊕S(-17)⊕S(-17)⊕S(-17)⊕S(-17)⊕S(-17)⊕S(-17)⊕S(-17)⊕S(-17)⊕S(-17)⊕S(-17)⊕S(-17)⊕S(-17)⊕S(-17)⊕S(-17)⊕S(-17)⊕S(-17)⊕S(-17)⊕S(-17)⊕S(-17)⊕S(-17)⊕S(-17)⊕S(-17)⊕S(-17)⊕S(-17)⊕S(-17)⊕S(-17)⊕S(-17)⊕S(-17)⊕S(-17)⊕S(-17)⊕S(-17)⊕S(-17)⊕S(-17)⊕S(-17)⊕S(-17)⊕S(-17)⊕S(-17)⊕S(-17)⊕S(-17)⊕S(-17)⊕S(-17)⊕S(-17)⊕S(-17)⊕S(-17)⊕S(-17)⊕S(-17)⊕S(-17)⊕S(-17)⊕S(-17)⊕S(-17)⊕S(-17)⊕S(-17)⊕S(-17)⊕S(-17)⊕S(-17)⊕S(-17)⊕S(-17)⊕S(-17)⊕S(-17)⊕S(-17)⊕S(-17)⊕S(-17)⊕S(-17)⊕S(-17)⊕S(-17)⊕S(-17)⊕S(-17)⊕S(-17)⊕S(-17)⊕S(-17)⊕S(-17)⊕S(-17)⊕S(-17)⊕S(-17)⊕S(-17)⊕S(-17)⊕S(-17)⊕S(-17)⊕S(-17)⊕S(-17)⊕S(-17)⊕S(-17)⊕S(-17)⊕S(-17)⊕S(-17)⊕S(-17)⊕S(-17)⊕S(-17)⊕S(-17)⊕S(-17)⊕S(-17)⊕S(-17)⊕S(-17)⊕S(-17)⊕S(-17)⊕S(-17)⊕S(-18)⊕S(-18)⊕S(-18)⊕S(-18)⊕S(-18)⊕S(-18)⊕S(-18)⊕S(-18)⊕S(-18)⊕S(-18)⊕S(-12)⊕S(-12)⊕S(-12)⊕S(-12)⊕S(-12)⊕S(-17)⊕S(-17)⊕S(-17)⊕S(-17)⊕S(-17)⊕S(-17)⊕S(-17)⊕S(-17)⊕S(-17)⊕S(-17)⊕S(-17)⊕S(-17)⊕S(-17)⊕S(-17)⊕S(-17)⊕S(-17)⊕S(-17)⊕S(-17)⊕S(-17)⊕S(-17)⊕S(-17)⊕S(-17)⊕S(-17)⊕S(-17)⊕S(-17)⊕S(-17)⊕S(-17)⊕S(-17)⊕S(-17)⊕S(-17)⊕S(-17)⊕S(-17)⊕S(-17)⊕S(-17)⊕S(-17)⊕S(-17)⊕S(-17)⊕S(-17)⊕S(-17)⊕S(-17)⊕S(-17)⊕S(-17)⊕S(-17)⊕S(-17)⊕S(-17)⊕S(-17)⊕S(-17)⊕S(-17)⊕S(-17)⊕S(-17)⊕S(-17)⊕S(-17)⊕S(-17)⊕S(-17)⊕S(-17)⊕S(-17)⊕S(-17)⊕S(-17)⊕S(-17)⊕S(-17)⊕S(-17)⊕S(-17)⊕S(-17)⊕S(-17)⊕S(-17)⊕S(-17)⊕S(-17)⊕S(-17)⊕S(-17)⊕S(-17)⊕S(-17)⊕S(-17)⊕S(-17)⊕S(-17)⊕S(-17)⊕S(-17)⊕S(-17)⊕S(-17)⊕S(-17)⊕S(-17)⊕S(-17)⊕S(-17)⊕S(-17)⊕S(-17)⊕S(-17)⊕S(-17)⊕S(-17)⊕S(-17)⊕S(-17)⊕S(-17)⊕S(-17)⊕S(-17)⊕S(-17)⊕S(-17)⊕S(-17)⊕S(-17)⊕S(-17)⊕S(-17)⊕S(-17)⊕S(-17)⊕S(-17)⊕S(-17)⊕S(-17)⊕S(-17)⊕S(-17)⊕S(-17)⊕S(-17)⊕S(-18)⊕S(-18) <-- S(-18)⊕S(-18)⊕S(-18)⊕S(-18)⊕S(-18)⊕S(-18)⊕S(-18)⊕S(-18)⊕S(-18)⊕S(-18)⊕S(-18)⊕S(-18)⊕S(-18)⊕S(-18)⊕S(-18)⊕S(-18)⊕S(-18)⊕S(-18)⊕S(-18)⊕S(-18)⊕S(-18)⊕S(-18)⊕S(-18)⊕S(-18)⊕S(-18)⊕S(-18)⊕S(-18)⊕S(-18)⊕S(-18)⊕S(-18)⊕S(-18)⊕S(-18)⊕S(-18)⊕S(-18)⊕S(-18)⊕S(-18)⊕S(-18)⊕S(-18)⊕S(-18)⊕S(-18)⊕S(-18)⊕S(-18)⊕S(-18)⊕S(-18)⊕S(-18)⊕S(-18)⊕S(-18)⊕S(-18)⊕S(-18)⊕S(-18)⊕S(-18)⊕S(-18)⊕S(-18)⊕S(-18)⊕S(-18)⊕S(-18)⊕S(-18)⊕S(-18)⊕S(-18)⊕S(-18)⊕S(-18)⊕S(-18)⊕S(-18)⊕S(-18)⊕S(-18)⊕S(-18)⊕S(-18)⊕S(-18)⊕S(-18)⊕S(-18)⊕S(-18)⊕S(-18)⊕S(-18)⊕S(-18)⊕S(-18)⊕S(-18)⊕S(-18)⊕S(-18)⊕S(-18)⊕S(-18)⊕S(-18)⊕S(-18)⊕S(-18)⊕S(-18)⊕S(-18)⊕S(-18)⊕S(-18)⊕S(-18)⊕S(-18)⊕S(-18)⊕S(-18)⊕S(-18)⊕S(-18)⊕S(-18)⊕S(-18)⊕S(-18)⊕S(-18)⊕S(-18)⊕S(-18)⊕S(-18)⊕S(-18)⊕S(-18)⊕S(-18)⊕S(-18)⊕S(-18)⊕S(-18)⊕S(-18)⊕S(-18)⊕S(-18)⊕S(-18)⊕S(-18)⊕S(-18)⊕S(-18)⊕S(-18)⊕S(-18)⊕S(-18)⊕S(-18)⊕S(-18)⊕S(-18)⊕S(-18)⊕S(-18)⊕S(-18)⊕S(-18)⊕S(-18)⊕S(-18)⊕S(-18)⊕S(-18)⊕S(-18)⊕S(-18)⊕S(-18)⊕S(-18)⊕S(-18)⊕S(-18)⊕S(-18)⊕S(-18)⊕S(-18)⊕S(-18)⊕S(-18)⊕S(-18)⊕S(-18)⊕S(-18)⊕S(-18)⊕S(-18)⊕S(-18)⊕S(-18)⊕S(-18)⊕S(-18)⊕S(-18)⊕S(-18)⊕S(-18)⊕S(-18)⊕S(-18)⊕S(-18)⊕S(-18)⊕S(-18)⊕S(-18)⊕S(-18)⊕S(-18)⊕S(-18)⊕S(-18)⊕S(-18)⊕S(-18)⊕S(-18)⊕S(-18)⊕S(-18)⊕S(-18)⊕S(-18)⊕S(-18)⊕S(-18)⊕S(-18)⊕S(-18)⊕S(-18)⊕S(-18)⊕S(-18)⊕S(-18)⊕S(-18)⊕S(-18)⊕S(-18)⊕S(-18)⊕S(-18)⊕S(-18)⊕S(-18)⊕S(-18)⊕S(-18)⊕S(-18)⊕S(-18)⊕S(-18)⊕S(-18)⊕S(-18)⊕S(-18)⊕S(-18)⊕S(-18)⊕S(-18)⊕S(-18)⊕S(-18)⊕S(-18)⊕S(-18)⊕S(-18)⊕S(-18)⊕S(-18)⊕S(-18)⊕S(-18)⊕S(-18)⊕S(-18)⊕S(-18)⊕S(-18)⊕S(-18)⊕S(-18)⊕S(-18)⊕S(-18)⊕S(-18)⊕S(-18)⊕S(-18)⊕S(-18)⊕S(-18)⊕S(-18)⊕S(-18)⊕S(-18)⊕S(-18)⊕S(-18)⊕S(-18)⊕S(-18)⊕S(-18)⊕S(-18)⊕S(-18)⊕S(-18)⊕S(-18)⊕S(-18)⊕S(-18)⊕S(-18)⊕S(-18)⊕S(-18)⊕S(-18)⊕S(-18)⊕S(-18)⊕S(-18)⊕S(-18)⊕S(-18)⊕S(-18)⊕S(-18)⊕S(-18)⊕S(-18)⊕S(-18)⊕S(-18)⊕S(-18)⊕S(-18)⊕S(-18)⊕S(-18)⊕S(-18)⊕S(-18)⊕S(-18)⊕S(-18)⊕S(-18)⊕S(-18)⊕S(-18)⊕S(-18)⊕S(-18)⊕S(-18)⊕S(-18)⊕S(-18)⊕S(-18)⊕S(-18)⊕S(-18)⊕S(-18)⊕S(-18)⊕S(-18)⊕S(-18)⊕S(-18)⊕S(-18)⊕S(-18)⊕S(-18)⊕S(-18)⊕S(-18)⊕S(-18)⊕S(-18)⊕S(-18)⊕S(-18)⊕S(-18)⊕S(-18)⊕S(-18)⊕S(-18)⊕S(-18)⊕S(-18)⊕S(-18)⊕S(-18)⊕S(-18)⊕S(-18)⊕S(-18)⊕S(-18)⊕S(-18)⊕S(-18)⊕S(-18)⊕S(-18)⊕S(-18)⊕S(-18)⊕S(-18)⊕S(-18)⊕S(-18)⊕S(-18)⊕S(-18)⊕S(-18)⊕S(-18)⊕S(-18)⊕S(-18)⊕S(-18)⊕S(-18)⊕S(-18)⊕S(-18)⊕S(-18)⊕S(-18)⊕S(-18)⊕S(-18)⊕S(-18)⊕S(-18)⊕S(-18)⊕S(-18)⊕S(-18)⊕S(-18)⊕S(-18)⊕S(-18)⊕S(-18)⊕S(-18)⊕S(-18)⊕S(-18)⊕S(-18)⊕S(-18)⊕S(-18)⊕S(-18)⊕S(-18)⊕S(-18)⊕S(-18)⊕S(-18)⊕S(-18)⊕S(-18)⊕S(-18)⊕S(-18)⊕S(-18)⊕S(-18)⊕S(-18)⊕S(-18)⊕S(-18)⊕S(-18)⊕S(-18)⊕S(-18)⊕S(-18)⊕S(-18)⊕S(-18)⊕S(-18)⊕S(-18)⊕S(-18)⊕S(-18)⊕S(-18)⊕S(-18)⊕S(-18)⊕S(-18)⊕S(-18)⊕S(-18)⊕S(-18)⊕S(-18)⊕S(-18)⊕S(-18)⊕S(-18)⊕S(-18)⊕S(-18)⊕S(-18)⊕S(-18)⊕S(-18)⊕S(-18)⊕S(-19)⊕S(-19)⊕S(-19)⊕S(-19)⊕S(-19)⊕S(-19)⊕S(-19)⊕S(-19)⊕S(-19)⊕S(-19)⊕S(-19)⊕S(-19)⊕S(-19)⊕S(-19)⊕S(-19)⊕S(-19)⊕S(-19)⊕S(-19)⊕S(-19)⊕S(-19)⊕S(-19)⊕S(-19)⊕S(-19)⊕S(-15)⊕S(-18)⊕S(-18)⊕S(-18)⊕S(-18)⊕S(-19)⊕S(-19) <-- S(-19)⊕S(-19)⊕S(-19)⊕S(-19)⊕S(-19)⊕S(-19)⊕S(-19)⊕S(-19)⊕S(-19)⊕S(-19)⊕S(-19)⊕S(-19)⊕S(-19)⊕S(-19)⊕S(-19)⊕S(-19)⊕S(-19)⊕S(-19)⊕S(-19)⊕S(-19)⊕S(-19)⊕S(-19)⊕S(-19)⊕S(-19)⊕S(-19)⊕S(-19)⊕S(-19)⊕S(-19)⊕S(-19)⊕S(-19)⊕S(-19)⊕S(-19)⊕S(-19)⊕S(-19)⊕S(-19)⊕S(-19)⊕S(-19)⊕S(-19)⊕S(-19)⊕S(-19)⊕S(-19)⊕S(-19)⊕S(-19)⊕S(-19)⊕S(-19)⊕S(-19)⊕S(-19)⊕S(-19)⊕S(-19)⊕S(-19)⊕S(-19)⊕S(-19)⊕S(-19)⊕S(-19)⊕S(-19)⊕S(-19)⊕S(-19)⊕S(-19)⊕S(-19)⊕S(-19)⊕S(-19)⊕S(-19)⊕S(-19)⊕S(-19)⊕S(-19)⊕S(-19)⊕S(-19)⊕S(-19)⊕S(-19)⊕S(-20)⊕S(-20)⊕S(-20)⊕S(-20)⊕S(-20)⊕S(-20)⊕S(-20)⊕S(-20)⊕S(-20)⊕S(-20)⊕S(-20)⊕S(-20)⊕S(-21) <-- 0"
      ]
     },
     "execution_count": 24,
     "metadata": {},
     "output_type": "execute_result"
    }
   ],
   "source": [
    "res = ideal(polys_h + fes_h).graded_free_resolution(algorithm=\"minimal\")\n",
    "res"
   ]
  },
  {
   "cell_type": "code",
   "execution_count": 25,
   "metadata": {},
   "outputs": [
    {
     "data": {
      "text/plain": [
       "15"
      ]
     },
     "execution_count": 25,
     "metadata": {},
     "output_type": "execute_result"
    }
   ],
   "source": [
    "cm_regularity(res)"
   ]
  }
 ],
 "metadata": {
  "kernelspec": {
   "display_name": "SageMath 10.6",
   "language": "sage",
   "name": "sagemath"
  },
  "language_info": {
   "codemirror_mode": {
    "name": "ipython",
    "version": 3
   },
   "file_extension": ".py",
   "mimetype": "text/x-python",
   "name": "python",
   "nbconvert_exporter": "python",
   "pygments_lexer": "ipython3",
   "version": "3.12.5"
  }
 },
 "nbformat": 4,
 "nbformat_minor": 4
}
