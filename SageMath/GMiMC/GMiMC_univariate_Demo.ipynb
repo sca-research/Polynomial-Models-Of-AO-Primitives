{
 "cells": [
  {
   "cell_type": "markdown",
   "metadata": {},
   "source": [
    "# GMiMC With Multivariate Key Polynomial Model Demonstration"
   ]
  },
  {
   "cell_type": "code",
   "execution_count": 1,
   "metadata": {},
   "outputs": [],
   "source": [
    "load(\"GMiMC_univariate.sage\")"
   ]
  },
  {
   "cell_type": "markdown",
   "metadata": {},
   "source": [
    "## Expanding Round Function"
   ]
  },
  {
   "cell_type": "code",
   "execution_count": 2,
   "metadata": {},
   "outputs": [
    {
     "name": "stdout",
     "output_type": "stream",
     "text": [
      "GMiMC Parameters\n",
      "Field: Finite Field of size 101\n",
      "n: 3\n",
      "r: 7\n",
      "Mode: erf\n",
      "Constants: [26, 41, 23, 17, 77, 58, 89]\n"
     ]
    }
   ],
   "source": [
    "field = GF(101)\n",
    "n = 3\n",
    "r = 7\n",
    "mode = \"erf\"\n",
    "\n",
    "gmimc = GMiMC(field=field, n=n, r=r, mode=mode)"
   ]
  },
  {
   "cell_type": "code",
   "execution_count": 3,
   "metadata": {},
   "outputs": [
    {
     "data": {
      "text/plain": [
       "((79, 69, 85), 68, (10, 59, 49))"
      ]
     },
     "execution_count": 3,
     "metadata": {},
     "output_type": "execute_result"
    }
   ],
   "source": [
    "V = VectorSpace(gmimc.field, gmimc.n)\n",
    "plain = V.random_element()\n",
    "key = gmimc.field.random_element()\n",
    "cipher = gmimc.encrypt(plain, key)\n",
    "plain, key, cipher"
   ]
  },
  {
   "cell_type": "code",
   "execution_count": 4,
   "metadata": {},
   "outputs": [
    {
     "name": "stdout",
     "output_type": "stream",
     "text": [
      "Plain: (79, 69, 85)\n",
      "Cipher: (10, 59, 49)\n",
      "Order: degrevlex\n",
      "----------------------------------------------------------------------\n",
      "y^3 + 12*y^2 - x_1_1 + 48*y + 32\n",
      "y^3 + 12*y^2 - x_2_1 + 48*y + 48\n",
      "-x_3_1 - 22\n",
      "----------------------------------------------------------------------\n",
      "x_1_1^3 + 3*x_1_1^2*y + 3*x_1_1*y^2 + y^3 + 22*x_1_1^2 + 44*x_1_1*y + 22*y^2 - 7*x_1_1 + x_2_1 - x_1_2 - 7*y + 39\n",
      "x_1_1^3 + 3*x_1_1^2*y + 3*x_1_1*y^2 + y^3 + 22*x_1_1^2 + 44*x_1_1*y + 22*y^2 - 7*x_1_1 + x_3_1 - x_2_2 - 7*y + 39\n",
      "x_1_1 - x_3_2\n",
      "----------------------------------------------------------------------\n",
      "x_1_2^3 + 3*x_1_2^2*y + 3*x_1_2*y^2 + y^3 - 32*x_1_2^2 + 37*x_1_2*y - 32*y^2 - 29*x_1_2 + x_2_2 - x_1_3 - 29*y + 47\n",
      "x_1_2^3 + 3*x_1_2^2*y + 3*x_1_2*y^2 + y^3 - 32*x_1_2^2 + 37*x_1_2*y - 32*y^2 - 29*x_1_2 + x_3_2 - x_2_3 - 29*y + 47\n",
      "x_1_2 - x_3_3\n",
      "----------------------------------------------------------------------\n",
      "x_1_3^3 + 3*x_1_3^2*y + 3*x_1_3*y^2 + y^3 - 50*x_1_3^2 + x_1_3*y - 50*y^2 - 42*x_1_3 + x_2_3 - x_1_4 - 42*y - 36\n",
      "x_1_3^3 + 3*x_1_3^2*y + 3*x_1_3*y^2 + y^3 - 50*x_1_3^2 + x_1_3*y - 50*y^2 - 42*x_1_3 + x_3_3 - x_2_4 - 42*y - 36\n",
      "x_1_3 - x_3_4\n",
      "----------------------------------------------------------------------\n",
      "x_1_4^3 + 3*x_1_4^2*y + 3*x_1_4*y^2 + y^3 + 29*x_1_4^2 - 43*x_1_4*y + 29*y^2 + 11*x_1_4 + x_2_4 - x_1_5 + 11*y + 13\n",
      "x_1_4^3 + 3*x_1_4^2*y + 3*x_1_4*y^2 + y^3 + 29*x_1_4^2 - 43*x_1_4*y + 29*y^2 + 11*x_1_4 + x_3_4 - x_2_5 + 11*y + 13\n",
      "x_1_4 - x_3_5\n",
      "----------------------------------------------------------------------\n",
      "x_1_5^3 + 3*x_1_5^2*y + 3*x_1_5*y^2 + y^3 - 28*x_1_5^2 + 45*x_1_5*y - 28*y^2 - 8*x_1_5 + x_2_5 - x_1_6 - 8*y - 20\n",
      "x_1_5^3 + 3*x_1_5^2*y + 3*x_1_5*y^2 + y^3 - 28*x_1_5^2 + 45*x_1_5*y - 28*y^2 - 8*x_1_5 + x_3_5 - x_2_6 - 8*y - 20\n",
      "x_1_5 - x_3_6\n",
      "----------------------------------------------------------------------\n",
      "x_1_6^3 + 3*x_1_6^2*y + 3*x_1_6*y^2 + y^3 - 36*x_1_6^2 + 29*x_1_6*y - 36*y^2 + 28*x_1_6 + x_2_6 + 28*y - 21\n",
      "x_1_6^3 + 3*x_1_6^2*y + 3*x_1_6*y^2 + y^3 - 36*x_1_6^2 + 29*x_1_6*y - 36*y^2 + 28*x_1_6 + x_3_6 + 28*y + 31\n",
      "x_1_6 - 49\n",
      "----------------------------------------------------------------------\n"
     ]
    }
   ],
   "source": [
    "polys = gmimc.generate_polynomials(plain=plain, cipher=cipher)\n",
    "\n",
    "print(70 * \"-\")\n",
    "\n",
    "for i in range(0, gmimc.r):\n",
    "    for j in range(0, gmimc.n):\n",
    "        print(polys[i * gmimc.n + j])\n",
    "    print(70 * \"-\")"
   ]
  },
  {
   "cell_type": "code",
   "execution_count": 5,
   "metadata": {},
   "outputs": [
    {
     "name": "stdout",
     "output_type": "stream",
     "text": [
      "(x_subs_3^3, ..., x_subs_n^3) contained in ideal of leading terms: True\n",
      "All terms of substituted Gröbner basis contained in (x_subs_3, ..., x_subs_n): True\n",
      "----------------------------------------------------------------------\n",
      "Linear polynomials\n",
      "----------------------------------------------------------------------\n",
      "x_1_1 - x_3_3 + x_3_4 - x_3_5 + x_3_6 - 30\n",
      "x_2_1 - x_3_3 + x_3_4 - x_3_5 + x_3_6 - 46\n",
      "x_3_1 + 22\n",
      "x_1_2 - x_3_3\n",
      "x_2_2 - x_3_4 + x_3_5 - x_3_6 - 33\n",
      "x_3_2 - x_3_3 + x_3_4 - x_3_5 + x_3_6 - 30\n",
      "x_1_3 - x_3_4\n",
      "x_2_3 - x_3_3 + x_3_4 - 2*x_3_5 + 2*x_3_6 + 3\n",
      "x_1_4 - x_3_5\n",
      "x_2_4 - x_3_4 + x_3_5 - 2*x_3_6 - 3\n",
      "x_1_5 - x_3_6\n",
      "x_2_5 - x_3_5 + x_3_6 + 3\n",
      "x_1_6 - 49\n",
      "x_2_6 - x_3_6 + 49\n",
      "----------------------------------------------------------------------\n",
      "Substitution polynomials\n",
      "----------------------------------------------------------------------\n",
      "x_3_3 - x_subs_3 + x_subs_7 - 14\n",
      "x_3_4 - x_subs_4 + x_subs_7 - 20\n",
      "x_3_5 - x_subs_5 + x_subs_7 + 40\n",
      "x_3_6 - x_subs_6 + x_subs_7 + 21\n",
      "y - x_subs_7 + 37\n",
      "x_subs_1 - x_subs_7 + 11\n",
      "x_subs_2 - x_subs_3 + x_subs_4 - x_subs_5 + x_subs_6 - x_subs_7 - 9\n",
      "----------------------------------------------------------------------\n",
      "Gröbner basis\n",
      "----------------------------------------------------------------------\n",
      "x_subs_7^3 + 2*x_subs_7^2 - x_subs_3 + x_subs_4 - x_subs_5 + x_subs_6 + 35*x_subs_7 - 18\n",
      "x_subs_3^3 - 3*x_subs_3^2*x_subs_4 + 3*x_subs_3*x_subs_4^2 - x_subs_4^3 + 3*x_subs_3^2*x_subs_5 - 6*x_subs_3*x_subs_4*x_subs_5 + 3*x_subs_4^2*x_subs_5 + 3*x_subs_3*x_subs_5^2 - 3*x_subs_4*x_subs_5^2 + x_subs_5^3 - 3*x_subs_3^2*x_subs_6 + 6*x_subs_3*x_subs_4*x_subs_6 - 3*x_subs_4^2*x_subs_6 - 6*x_subs_3*x_subs_5*x_subs_6 + 6*x_subs_4*x_subs_5*x_subs_6 - 3*x_subs_5^2*x_subs_6 + 3*x_subs_3*x_subs_6^2 - 3*x_subs_4*x_subs_6^2 + 3*x_subs_5*x_subs_6^2 - x_subs_6^3 + 3*x_subs_3^2*x_subs_7 - 6*x_subs_3*x_subs_4*x_subs_7 + 3*x_subs_4^2*x_subs_7 + 6*x_subs_3*x_subs_5*x_subs_7 - 6*x_subs_4*x_subs_5*x_subs_7 + 3*x_subs_5^2*x_subs_7 - 6*x_subs_3*x_subs_6*x_subs_7 + 6*x_subs_4*x_subs_6*x_subs_7 - 6*x_subs_5*x_subs_6*x_subs_7 + 3*x_subs_6^2*x_subs_7 + 3*x_subs_3*x_subs_7^2 - 3*x_subs_4*x_subs_7^2 + 3*x_subs_5*x_subs_7^2 - 3*x_subs_6*x_subs_7^2 + x_subs_7^3 + 27*x_subs_3^2 + 47*x_subs_3*x_subs_4 + 27*x_subs_4^2 - 47*x_subs_3*x_subs_5 + 47*x_subs_4*x_subs_5 + 27*x_subs_5^2 + 47*x_subs_3*x_subs_6 - 47*x_subs_4*x_subs_6 + 47*x_subs_5*x_subs_6 + 27*x_subs_6^2 - 47*x_subs_3*x_subs_7 + 47*x_subs_4*x_subs_7 - 47*x_subs_5*x_subs_7 + 47*x_subs_6*x_subs_7 + 27*x_subs_7^2 + 41*x_subs_3 - 42*x_subs_4 + 42*x_subs_5 - 42*x_subs_6 + 42*x_subs_7 + 29\n",
      "x_subs_3^3 - x_subs_5 + x_subs_6 - 49\n",
      "x_subs_4^3 + x_subs_3 - x_subs_4 + x_subs_5 - 2*x_subs_6 + x_subs_7 - 7\n",
      "x_subs_5^3 + x_subs_4 - x_subs_5 + x_subs_6 - x_subs_7 + 42\n",
      "x_subs_6^3 + x_subs_5 - x_subs_6 + 30\n",
      "x_subs_7^3 + x_subs_6 - x_subs_7 + 21\n"
     ]
    }
   ],
   "source": [
    "polys_lin, polys_subs, gb_subs = gmimc.compute_Groebner_basis(polys)\n",
    "\n",
    "print(70 * \"-\")\n",
    "print(\"Linear polynomials\")\n",
    "print(70 * \"-\")\n",
    "for poly in polys_lin:\n",
    "    print(poly)\n",
    "\n",
    "print(70 * \"-\")\n",
    "print(\"Substitution polynomials\")\n",
    "print(70 * \"-\")\n",
    "for poly in polys_subs:\n",
    "    print(poly)\n",
    "\n",
    "print(70 * \"-\")\n",
    "print(\"Gröbner basis\")\n",
    "print(70 * \"-\")\n",
    "for poly in gb_subs:\n",
    "    print(poly)"
   ]
  },
  {
   "cell_type": "code",
   "execution_count": 6,
   "metadata": {},
   "outputs": [
    {
     "data": {
      "text/plain": [
       "[{x_subs_7: 4, x_subs_6: 20, x_subs_5: 70, x_subs_4: 8, x_subs_3: 75, x_subs_2: 29, x_subs_1: 94, y: 68, x_3_6: 96, x_2_6: 47, x_1_6: 49, x_3_5: 26, x_2_5: 28, x_1_5: 96, x_3_4: 24, x_2_4: 92, x_1_4: 26, x_3_3: 85, x_2_3: 19, x_1_3: 24, x_3_2: 21, x_2_2: 26, x_1_2: 85, x_3_1: 79, x_2_1: 37, x_1_1: 21}]"
      ]
     },
     "execution_count": 6,
     "metadata": {},
     "output_type": "execute_result"
    }
   ],
   "source": [
    "ideal(polys_lin + polys_subs + gb_subs).variety()"
   ]
  },
  {
   "cell_type": "markdown",
   "metadata": {},
   "source": [
    "## Contracting Round Function"
   ]
  },
  {
   "cell_type": "code",
   "execution_count": 7,
   "metadata": {},
   "outputs": [
    {
     "name": "stdout",
     "output_type": "stream",
     "text": [
      "GMiMC Parameters\n",
      "Field: Finite Field of size 101\n",
      "n: 3\n",
      "r: 7\n",
      "Mode: crf\n",
      "Constants: [29, 19, 39, 26, 77, 13, 4]\n"
     ]
    }
   ],
   "source": [
    "field = GF(101)\n",
    "n = 3\n",
    "r = 7\n",
    "mode = \"crf\"\n",
    "\n",
    "gmimc = GMiMC(field=field, n=n, r=r, mode=mode)"
   ]
  },
  {
   "cell_type": "code",
   "execution_count": 8,
   "metadata": {},
   "outputs": [
    {
     "data": {
      "text/plain": [
       "((82, 68, 31), 9, (1, 93, 42))"
      ]
     },
     "execution_count": 8,
     "metadata": {},
     "output_type": "execute_result"
    }
   ],
   "source": [
    "V = VectorSpace(gmimc.field, gmimc.n)\n",
    "plain = V.random_element()\n",
    "key = gmimc.field.random_element()\n",
    "cipher = gmimc.encrypt(plain, key)\n",
    "plain, key, cipher"
   ]
  },
  {
   "cell_type": "code",
   "execution_count": 9,
   "metadata": {},
   "outputs": [
    {
     "name": "stdout",
     "output_type": "stream",
     "text": [
      "Plain: (82, 68, 31)\n",
      "Cipher: (1, 93, 42)\n",
      "Order: degrevlex\n",
      "----------------------------------------------------------------------\n",
      "-x_1_1 - 33\n",
      "-x_2_1 + 31\n",
      "y^3 - 20*y^2 - x_3_1 - 35*y - 31\n",
      "----------------------------------------------------------------------\n",
      "x_2_1 - x_1_2\n",
      "x_3_1 - x_2_2\n",
      "x_2_1^3 + 3*x_2_1^2*x_3_1 + 3*x_2_1*x_3_1^2 + x_3_1^3 + 3*x_2_1^2*y + 6*x_2_1*x_3_1*y + 3*x_3_1^2*y + 3*x_2_1*y^2 + 3*x_3_1*y^2 + y^3 - 44*x_2_1^2 + 13*x_2_1*x_3_1 - 44*x_3_1^2 + 13*x_2_1*y + 13*x_3_1*y - 44*y^2 + x_1_1 - 28*x_2_1 - 28*x_3_1 - x_3_2 - 28*y - 9\n",
      "----------------------------------------------------------------------\n",
      "x_2_2 - x_1_3\n",
      "x_3_2 - x_2_3\n",
      "x_2_2^3 + 3*x_2_2^2*x_3_2 + 3*x_2_2*x_3_2^2 + x_3_2^3 + 3*x_2_2^2*y + 6*x_2_2*x_3_2*y + 3*x_3_2^2*y + 3*x_2_2*y^2 + 3*x_3_2*y^2 + y^3 + 16*x_2_2^2 + 32*x_2_2*x_3_2 + 16*x_3_2^2 + 32*x_2_2*y + 32*x_3_2*y + 16*y^2 + x_1_2 + 18*x_2_2 + 18*x_3_2 - x_3_3 + 18*y + 32\n",
      "----------------------------------------------------------------------\n",
      "x_2_3 - x_1_4\n",
      "x_3_3 - x_2_4\n",
      "x_2_3^3 + 3*x_2_3^2*x_3_3 + 3*x_2_3*x_3_3^2 + x_3_3^3 + 3*x_2_3^2*y + 6*x_2_3*x_3_3*y + 3*x_3_3^2*y + 3*x_2_3*y^2 + 3*x_3_3*y^2 + y^3 - 23*x_2_3^2 - 46*x_2_3*x_3_3 - 23*x_3_3^2 - 46*x_2_3*y - 46*x_3_3*y - 23*y^2 + x_1_3 + 8*x_2_3 + 8*x_3_3 - x_3_4 + 8*y + 2\n",
      "----------------------------------------------------------------------\n",
      "x_2_4 - x_1_5\n",
      "x_3_4 - x_2_5\n",
      "x_2_4^3 + 3*x_2_4^2*x_3_4 + 3*x_2_4*x_3_4^2 + x_3_4^3 + 3*x_2_4^2*y + 6*x_2_4*x_3_4*y + 3*x_3_4^2*y + 3*x_2_4*y^2 + 3*x_3_4*y^2 + y^3 + 29*x_2_4^2 - 43*x_2_4*x_3_4 + 29*x_3_4^2 - 43*x_2_4*y - 43*x_3_4*y + 29*y^2 + x_1_4 + 11*x_2_4 + 11*x_3_4 - x_3_5 + 11*y + 13\n",
      "----------------------------------------------------------------------\n",
      "x_2_5 - x_1_6\n",
      "x_3_5 - x_2_6\n",
      "x_2_5^3 + 3*x_2_5^2*x_3_5 + 3*x_2_5*x_3_5^2 + x_3_5^3 + 3*x_2_5^2*y + 6*x_2_5*x_3_5*y + 3*x_3_5^2*y + 3*x_2_5*y^2 + 3*x_3_5*y^2 + y^3 + 39*x_2_5^2 - 23*x_2_5*x_3_5 + 39*x_3_5^2 - 23*x_2_5*y - 23*x_3_5*y + 39*y^2 + x_1_5 + 2*x_2_5 + 2*x_3_5 - x_3_6 + 2*y - 25\n",
      "----------------------------------------------------------------------\n",
      "x_2_6 - 1\n",
      "x_3_6 + 8\n",
      "x_2_6^3 + 3*x_2_6^2*x_3_6 + 3*x_2_6*x_3_6^2 + x_3_6^3 + 3*x_2_6^2*y + 6*x_2_6*x_3_6*y + 3*x_3_6^2*y + 3*x_2_6*y^2 + 3*x_3_6*y^2 + y^3 + 12*x_2_6^2 + 24*x_2_6*x_3_6 + 12*x_3_6^2 + 24*x_2_6*y + 24*x_3_6*y + 12*y^2 + x_1_6 + 48*x_2_6 + 48*x_3_6 + 48*y + 22\n",
      "----------------------------------------------------------------------\n"
     ]
    }
   ],
   "source": [
    "polys = gmimc.generate_polynomials(plain=plain, cipher=cipher)\n",
    "\n",
    "print(70 * \"-\")\n",
    "\n",
    "for i in range(0, gmimc.r):\n",
    "    for j in range(0, gmimc.n):\n",
    "        print(polys[i * gmimc.n + j])\n",
    "    print(70 * \"-\")"
   ]
  },
  {
   "cell_type": "code",
   "execution_count": 10,
   "metadata": {},
   "outputs": [
    {
     "name": "stdout",
     "output_type": "stream",
     "text": [
      "(x_subs_3^3, ..., x_subs_n^3) contained in ideal of leading terms: True\n",
      "All terms of substituted Gröbner basis contained in (x_subs_3, ..., x_subs_n): True\n",
      "----------------------------------------------------------------------\n",
      "Linear polynomials\n",
      "----------------------------------------------------------------------\n",
      "x_1_1 + 33\n",
      "x_2_1 - 31\n",
      "x_3_1 - x_1_3\n",
      "x_1_2 - 31\n",
      "x_2_2 - x_1_3\n",
      "x_3_2 - x_1_4\n",
      "x_2_3 - x_1_4\n",
      "x_3_3 - x_1_5\n",
      "x_2_4 - x_1_5\n",
      "x_3_4 - x_1_6\n",
      "x_2_5 - x_1_6\n",
      "x_3_5 - 1\n",
      "x_2_6 - 1\n",
      "x_3_6 + 8\n",
      "----------------------------------------------------------------------\n",
      "Substitution polynomials\n",
      "----------------------------------------------------------------------\n",
      "x_1_3 - x_subs_3 + x_subs_4 - x_subs_5 + x_subs_6 - 25\n",
      "x_1_4 - x_subs_4 + x_subs_5 - x_subs_6 + x_subs_7 - 34\n",
      "x_1_5 - x_subs_5 + x_subs_6 - 38\n",
      "x_1_6 - x_subs_6 + x_subs_7 + 17\n",
      "y - x_subs_7 - 3\n",
      "x_subs_1 - x_subs_7 - 32\n",
      "x_subs_2 - x_subs_3 + x_subs_4 - x_subs_5 + x_subs_6 - x_subs_7 + 23\n",
      "----------------------------------------------------------------------\n",
      "Gröbner basis\n",
      "----------------------------------------------------------------------\n",
      "x_subs_7^3 - 11*x_subs_7^2 - x_subs_3 + x_subs_4 - x_subs_5 + x_subs_6 - 27*x_subs_7 - 11\n",
      "x_subs_3^3 - 3*x_subs_3^2*x_subs_4 + 3*x_subs_3*x_subs_4^2 - x_subs_4^3 + 3*x_subs_3^2*x_subs_5 - 6*x_subs_3*x_subs_4*x_subs_5 + 3*x_subs_4^2*x_subs_5 + 3*x_subs_3*x_subs_5^2 - 3*x_subs_4*x_subs_5^2 + x_subs_5^3 - 3*x_subs_3^2*x_subs_6 + 6*x_subs_3*x_subs_4*x_subs_6 - 3*x_subs_4^2*x_subs_6 - 6*x_subs_3*x_subs_5*x_subs_6 + 6*x_subs_4*x_subs_5*x_subs_6 - 3*x_subs_5^2*x_subs_6 + 3*x_subs_3*x_subs_6^2 - 3*x_subs_4*x_subs_6^2 + 3*x_subs_5*x_subs_6^2 - x_subs_6^3 + 3*x_subs_3^2*x_subs_7 - 6*x_subs_3*x_subs_4*x_subs_7 + 3*x_subs_4^2*x_subs_7 + 6*x_subs_3*x_subs_5*x_subs_7 - 6*x_subs_4*x_subs_5*x_subs_7 + 3*x_subs_5^2*x_subs_7 - 6*x_subs_3*x_subs_6*x_subs_7 + 6*x_subs_4*x_subs_6*x_subs_7 - 6*x_subs_5*x_subs_6*x_subs_7 + 3*x_subs_6^2*x_subs_7 + 3*x_subs_3*x_subs_7^2 - 3*x_subs_4*x_subs_7^2 + 3*x_subs_5*x_subs_7^2 - 3*x_subs_6*x_subs_7^2 + x_subs_7^3 + 32*x_subs_3^2 + 37*x_subs_3*x_subs_4 + 32*x_subs_4^2 - 37*x_subs_3*x_subs_5 + 37*x_subs_4*x_subs_5 + 32*x_subs_5^2 + 37*x_subs_3*x_subs_6 - 37*x_subs_4*x_subs_6 + 37*x_subs_5*x_subs_6 + 32*x_subs_6^2 - 37*x_subs_3*x_subs_7 + 37*x_subs_4*x_subs_7 - 37*x_subs_5*x_subs_7 + 37*x_subs_6*x_subs_7 + 32*x_subs_7^2 - 29*x_subs_3 + 28*x_subs_4 - 28*x_subs_5 + 28*x_subs_6 - 28*x_subs_7 - 13\n",
      "x_subs_3^3 - x_subs_5 + x_subs_6 - 7\n",
      "x_subs_4^3 + x_subs_3 - x_subs_4 + x_subs_5 - 2*x_subs_6 + x_subs_7 + 42\n",
      "x_subs_5^3 + x_subs_4 - x_subs_5 + x_subs_6 - x_subs_7 + 33\n",
      "x_subs_6^3 + x_subs_5 - x_subs_6 + 46\n",
      "x_subs_7^3 + x_subs_6 - x_subs_7 + 42\n"
     ]
    }
   ],
   "source": [
    "polys_lin, polys_subs, gb_subs = gmimc.compute_Groebner_basis(polys)\n",
    "\n",
    "print(70 * \"-\")\n",
    "print(\"Linear polynomials\")\n",
    "print(70 * \"-\")\n",
    "for poly in polys_lin:\n",
    "    print(poly)\n",
    "\n",
    "print(70 * \"-\")\n",
    "print(\"Substitution polynomials\")\n",
    "print(70 * \"-\")\n",
    "for poly in polys_subs:\n",
    "    print(poly)\n",
    "\n",
    "print(70 * \"-\")\n",
    "print(\"Gröbner basis\")\n",
    "print(70 * \"-\")\n",
    "for poly in gb_subs:\n",
    "    print(poly)"
   ]
  },
  {
   "cell_type": "code",
   "execution_count": 11,
   "metadata": {},
   "outputs": [
    {
     "data": {
      "text/plain": [
       "[{x_subs_7: 6, x_subs_6: 51, x_subs_5: 68, x_subs_4: 72, x_subs_3: 5, x_subs_2: 34, x_subs_1: 38, y: 9, x_3_6: 93, x_2_6: 1, x_1_6: 28, x_3_5: 1, x_2_5: 28, x_1_5: 55, x_3_4: 28, x_2_4: 55, x_1_4: 83, x_3_3: 55, x_2_3: 83, x_1_3: 76, x_3_2: 83, x_2_2: 76, x_1_2: 31, x_3_1: 76, x_2_1: 31, x_1_1: 68}]"
      ]
     },
     "execution_count": 11,
     "metadata": {},
     "output_type": "execute_result"
    }
   ],
   "source": [
    "ideal(polys_lin + polys_subs + gb_subs).variety()"
   ]
  }
 ],
 "metadata": {
  "kernelspec": {
   "display_name": "SageMath 10.4",
   "language": "sage",
   "name": "sagemath"
  },
  "language_info": {
   "codemirror_mode": {
    "name": "ipython",
    "version": 3
   },
   "file_extension": ".py",
   "mimetype": "text/x-python",
   "name": "python",
   "nbconvert_exporter": "python",
   "pygments_lexer": "ipython3",
   "version": "3.10.12"
  }
 },
 "nbformat": 4,
 "nbformat_minor": 2
}
