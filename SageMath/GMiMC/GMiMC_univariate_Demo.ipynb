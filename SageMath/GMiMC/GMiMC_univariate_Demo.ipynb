{
 "cells": [
  {
   "cell_type": "markdown",
   "metadata": {},
   "source": [
    "# GMiMC With Multivariate Key Polynomial Model Demonstration"
   ]
  },
  {
   "cell_type": "code",
   "execution_count": 1,
   "metadata": {},
   "outputs": [],
   "source": [
    "load(\"GMiMC_univariate.sage\")"
   ]
  },
  {
   "cell_type": "markdown",
   "metadata": {},
   "source": [
    "## Expanding Round Function"
   ]
  },
  {
   "cell_type": "code",
   "execution_count": 2,
   "metadata": {},
   "outputs": [
    {
     "name": "stdout",
     "output_type": "stream",
     "text": [
      "GMiMC Parameters\n",
      "Field: Finite Field of size 101\n",
      "n: 3\n",
      "r: 7\n",
      "Mode: erf\n",
      "Constants: [46, 5, 63, 81, 46, 13, 77]\n"
     ]
    }
   ],
   "source": [
    "field = GF(101)\n",
    "n = 3\n",
    "r = 7\n",
    "mode = \"erf\"\n",
    "\n",
    "gmimc = GMiMC(field=field, n=n, r=r, mode=mode)"
   ]
  },
  {
   "cell_type": "code",
   "execution_count": 3,
   "metadata": {},
   "outputs": [
    {
     "data": {
      "text/plain": [
       "((6, 48, 83), 97, (33, 23, 94))"
      ]
     },
     "execution_count": 3,
     "metadata": {},
     "output_type": "execute_result"
    }
   ],
   "source": [
    "V = VectorSpace(gmimc.field, gmimc.n)\n",
    "plain = V.random_element()\n",
    "key = gmimc.field.random_element()\n",
    "cipher = gmimc.encrypt(plain, key)\n",
    "plain, key, cipher"
   ]
  },
  {
   "cell_type": "code",
   "execution_count": 4,
   "metadata": {},
   "outputs": [
    {
     "name": "stdout",
     "output_type": "stream",
     "text": [
      "Plain: (6, 48, 83)\n",
      "Cipher: (33, 23, 94)\n",
      "Order: degrevlex\n",
      "----------------------------------------------------------------------\n",
      "y^3 - 46*y^2 - x_1_1 + 32*y - 37\n",
      "y^3 - 46*y^2 - x_2_1 + 32*y - 2\n",
      "-x_3_1 + 6\n",
      "----------------------------------------------------------------------\n",
      "x_1_1^3 + 3*x_1_1^2*y + 3*x_1_1*y^2 + y^3 + 15*x_1_1^2 + 30*x_1_1*y + 15*y^2 - 26*x_1_1 + x_2_1 - x_1_2 - 26*y + 24\n",
      "x_1_1^3 + 3*x_1_1^2*y + 3*x_1_1*y^2 + y^3 + 15*x_1_1^2 + 30*x_1_1*y + 15*y^2 - 26*x_1_1 + x_3_1 - x_2_2 - 26*y + 24\n",
      "x_1_1 - x_3_2\n",
      "----------------------------------------------------------------------\n",
      "x_1_2^3 + 3*x_1_2^2*y + 3*x_1_2*y^2 + y^3 - 13*x_1_2^2 - 26*x_1_2*y - 13*y^2 - 11*x_1_2 + x_2_2 - x_1_3 - 11*y - 29\n",
      "x_1_2^3 + 3*x_1_2^2*y + 3*x_1_2*y^2 + y^3 - 13*x_1_2^2 - 26*x_1_2*y - 13*y^2 - 11*x_1_2 + x_3_2 - x_2_3 - 11*y - 29\n",
      "x_1_2 - x_3_3\n",
      "----------------------------------------------------------------------\n",
      "x_1_3^3 + 3*x_1_3^2*y + 3*x_1_3*y^2 + y^3 + 41*x_1_3^2 - 19*x_1_3*y + 41*y^2 - 12*x_1_3 + x_2_3 - x_1_4 - 12*y - 21\n",
      "x_1_3^3 + 3*x_1_3^2*y + 3*x_1_3*y^2 + y^3 + 41*x_1_3^2 - 19*x_1_3*y + 41*y^2 - 12*x_1_3 + x_3_3 - x_2_4 - 12*y - 21\n",
      "x_1_3 - x_3_4\n",
      "----------------------------------------------------------------------\n",
      "x_1_4^3 + 3*x_1_4^2*y + 3*x_1_4*y^2 + y^3 + 37*x_1_4^2 - 27*x_1_4*y + 37*y^2 - 15*x_1_4 + x_2_4 - x_1_5 - 15*y - 28\n",
      "x_1_4^3 + 3*x_1_4^2*y + 3*x_1_4*y^2 + y^3 + 37*x_1_4^2 - 27*x_1_4*y + 37*y^2 - 15*x_1_4 + x_3_4 - x_2_5 - 15*y - 28\n",
      "x_1_4 - x_3_5\n",
      "----------------------------------------------------------------------\n",
      "x_1_5^3 + 3*x_1_5^2*y + 3*x_1_5*y^2 + y^3 + 39*x_1_5^2 - 23*x_1_5*y + 39*y^2 + 2*x_1_5 + x_2_5 - x_1_6 + 2*y - 25\n",
      "x_1_5^3 + 3*x_1_5^2*y + 3*x_1_5*y^2 + y^3 + 39*x_1_5^2 - 23*x_1_5*y + 39*y^2 + 2*x_1_5 + x_3_5 - x_2_6 + 2*y - 25\n",
      "x_1_5 - x_3_6\n",
      "----------------------------------------------------------------------\n",
      "x_1_6^3 + 3*x_1_6^2*y + 3*x_1_6*y^2 + y^3 + 29*x_1_6^2 - 43*x_1_6*y + 29*y^2 + 11*x_1_6 + x_2_6 + 11*y - 20\n",
      "x_1_6^3 + 3*x_1_6^2*y + 3*x_1_6*y^2 + y^3 + 29*x_1_6^2 - 43*x_1_6*y + 29*y^2 + 11*x_1_6 + x_3_6 + 11*y - 10\n",
      "x_1_6 + 7\n",
      "----------------------------------------------------------------------\n"
     ]
    }
   ],
   "source": [
    "polys = gmimc.generate_polynomials(plain=plain, cipher=cipher)\n",
    "\n",
    "print(70 * \"-\")\n",
    "\n",
    "for i in range(0, gmimc.r):\n",
    "    for j in range(0, gmimc.n):\n",
    "        print(polys[i * gmimc.n + j])\n",
    "    print(70 * \"-\")"
   ]
  },
  {
   "cell_type": "code",
   "execution_count": 5,
   "metadata": {},
   "outputs": [
    {
     "name": "stdout",
     "output_type": "stream",
     "text": [
      "(x_subs_3^3, ..., x_subs_n^3) contained in ideal of leading terms: True\n",
      "All terms of substituted Groebner basis contained in (x_subs_3, ..., x_subs_n): True\n",
      "----------------------------------------------------------------------\n",
      "Linear polynomials\n",
      "----------------------------------------------------------------------\n",
      "x_1_1 - x_3_3 + x_3_4 - x_3_5 + x_3_6 + 23\n",
      "x_2_1 - x_3_3 + x_3_4 - x_3_5 + x_3_6 - 12\n",
      "x_3_1 - 6\n",
      "x_1_2 - x_3_3\n",
      "x_2_2 - x_3_4 + x_3_5 - x_3_6 + 6\n",
      "x_3_2 - x_3_3 + x_3_4 - x_3_5 + x_3_6 + 23\n",
      "x_1_3 - x_3_4\n",
      "x_2_3 - x_3_3 + x_3_4 - 2*x_3_5 + 2*x_3_6 + 17\n",
      "x_1_4 - x_3_5\n",
      "x_2_4 - x_3_4 + x_3_5 - 2*x_3_6 - 17\n",
      "x_1_5 - x_3_6\n",
      "x_2_5 - x_3_5 + x_3_6 + 17\n",
      "x_1_6 + 7\n",
      "x_2_6 - x_3_6 - 10\n",
      "----------------------------------------------------------------------\n",
      "Substitution polynomials\n",
      "----------------------------------------------------------------------\n",
      "x_3_3 - x_subs_3 + x_subs_7 - 7\n",
      "x_3_4 - x_subs_4 + x_subs_7 + 11\n",
      "x_3_5 - x_subs_5 + x_subs_7 - 24\n",
      "x_3_6 - x_subs_6 + x_subs_7 + 44\n",
      "y - x_subs_7 - 31\n",
      "x_subs_1 - x_subs_7 + 24\n",
      "x_subs_2 - x_subs_3 + x_subs_4 - x_subs_5 + x_subs_6 - x_subs_7 + 2\n",
      "----------------------------------------------------------------------\n",
      "Gröbner basis\n",
      "----------------------------------------------------------------------\n",
      "x_subs_7^3 + 47*x_subs_7^2 - x_subs_3 + x_subs_4 - x_subs_5 + x_subs_6 - 38*x_subs_7 + 11\n",
      "x_subs_3^3 - 3*x_subs_3^2*x_subs_4 + 3*x_subs_3*x_subs_4^2 - x_subs_4^3 + 3*x_subs_3^2*x_subs_5 - 6*x_subs_3*x_subs_4*x_subs_5 + 3*x_subs_4^2*x_subs_5 + 3*x_subs_3*x_subs_5^2 - 3*x_subs_4*x_subs_5^2 + x_subs_5^3 - 3*x_subs_3^2*x_subs_6 + 6*x_subs_3*x_subs_4*x_subs_6 - 3*x_subs_4^2*x_subs_6 - 6*x_subs_3*x_subs_5*x_subs_6 + 6*x_subs_4*x_subs_5*x_subs_6 - 3*x_subs_5^2*x_subs_6 + 3*x_subs_3*x_subs_6^2 - 3*x_subs_4*x_subs_6^2 + 3*x_subs_5*x_subs_6^2 - x_subs_6^3 + 3*x_subs_3^2*x_subs_7 - 6*x_subs_3*x_subs_4*x_subs_7 + 3*x_subs_4^2*x_subs_7 + 6*x_subs_3*x_subs_5*x_subs_7 - 6*x_subs_4*x_subs_5*x_subs_7 + 3*x_subs_5^2*x_subs_7 - 6*x_subs_3*x_subs_6*x_subs_7 + 6*x_subs_4*x_subs_6*x_subs_7 - 6*x_subs_5*x_subs_6*x_subs_7 + 3*x_subs_6^2*x_subs_7 + 3*x_subs_3*x_subs_7^2 - 3*x_subs_4*x_subs_7^2 + 3*x_subs_5*x_subs_7^2 - 3*x_subs_6*x_subs_7^2 + x_subs_7^3 - 6*x_subs_3^2 + 12*x_subs_3*x_subs_4 - 6*x_subs_4^2 - 12*x_subs_3*x_subs_5 + 12*x_subs_4*x_subs_5 - 6*x_subs_5^2 + 12*x_subs_3*x_subs_6 - 12*x_subs_4*x_subs_6 + 12*x_subs_5*x_subs_6 - 6*x_subs_6^2 - 12*x_subs_3*x_subs_7 + 12*x_subs_4*x_subs_7 - 12*x_subs_5*x_subs_7 + 12*x_subs_6*x_subs_7 - 6*x_subs_7^2 + 12*x_subs_3 - 13*x_subs_4 + 13*x_subs_5 - 13*x_subs_6 + 13*x_subs_7 - 18\n",
      "x_subs_3^3 - x_subs_5 + x_subs_6 + 27\n",
      "x_subs_4^3 + x_subs_3 - x_subs_4 + x_subs_5 - 2*x_subs_6 + x_subs_7 + 12\n",
      "x_subs_5^3 + x_subs_4 - x_subs_5 + x_subs_6 - x_subs_7 + 39\n",
      "x_subs_6^3 + x_subs_5 - x_subs_6 - 43\n",
      "x_subs_7^3 + x_subs_6 - x_subs_7 + 34\n"
     ]
    }
   ],
   "source": [
    "polys_lin, polys_subs, gb_subs = gmimc.compute_Groebner_basis(polys)\n",
    "\n",
    "print(70 * \"-\")\n",
    "print(\"Linear polynomials\")\n",
    "print(70 * \"-\")\n",
    "for poly in polys_lin:\n",
    "    print(poly)\n",
    "\n",
    "print(70 * \"-\")\n",
    "print(\"Substitution polynomials\")\n",
    "print(70 * \"-\")\n",
    "for poly in polys_subs:\n",
    "    print(poly)\n",
    "\n",
    "print(70 * \"-\")\n",
    "print(\"Gröbner basis\")\n",
    "print(70 * \"-\")\n",
    "for poly in gb_subs:\n",
    "    print(poly)"
   ]
  },
  {
   "cell_type": "code",
   "execution_count": 6,
   "metadata": {},
   "outputs": [
    {
     "data": {
      "text/plain": [
       "[{x_subs_7: 66,\n",
       "  x_subs_6: 83,\n",
       "  x_subs_5: 100,\n",
       "  x_subs_4: 45,\n",
       "  x_subs_3: 10,\n",
       "  x_subs_2: 46,\n",
       "  x_subs_1: 42,\n",
       "  y: 97,\n",
       "  x_3_6: 74,\n",
       "  x_2_6: 84,\n",
       "  x_1_6: 94,\n",
       "  x_3_5: 58,\n",
       "  x_2_5: 68,\n",
       "  x_1_5: 74,\n",
       "  x_3_4: 69,\n",
       "  x_2_4: 75,\n",
       "  x_1_4: 58,\n",
       "  x_3_3: 52,\n",
       "  x_2_3: 35,\n",
       "  x_1_3: 69,\n",
       "  x_3_2: 45,\n",
       "  x_2_2: 79,\n",
       "  x_1_2: 52,\n",
       "  x_3_1: 6,\n",
       "  x_2_1: 80,\n",
       "  x_1_1: 45}]"
      ]
     },
     "execution_count": 6,
     "metadata": {},
     "output_type": "execute_result"
    }
   ],
   "source": [
    "ideal(polys_lin + polys_subs + gb_subs).variety()"
   ]
  },
  {
   "cell_type": "markdown",
   "metadata": {},
   "source": [
    "## Contracting Round Function"
   ]
  },
  {
   "cell_type": "code",
   "execution_count": 7,
   "metadata": {},
   "outputs": [
    {
     "name": "stdout",
     "output_type": "stream",
     "text": [
      "GMiMC Parameters\n",
      "Field: Finite Field of size 101\n",
      "n: 3\n",
      "r: 7\n",
      "Mode: crf\n",
      "Constants: [74, 27, 84, 63, 69, 44, 83]\n"
     ]
    }
   ],
   "source": [
    "field = GF(101)\n",
    "n = 3\n",
    "r = 7\n",
    "mode = \"crf\"\n",
    "\n",
    "gmimc = GMiMC(field=field, n=n, r=r, mode=mode)"
   ]
  },
  {
   "cell_type": "code",
   "execution_count": 8,
   "metadata": {},
   "outputs": [
    {
     "data": {
      "text/plain": [
       "((1, 82, 29), 10, (64, 62, 6))"
      ]
     },
     "execution_count": 8,
     "metadata": {},
     "output_type": "execute_result"
    }
   ],
   "source": [
    "V = VectorSpace(gmimc.field, gmimc.n)\n",
    "plain = V.random_element()\n",
    "key = gmimc.field.random_element()\n",
    "cipher = gmimc.encrypt(plain, key)\n",
    "plain, key, cipher"
   ]
  },
  {
   "cell_type": "code",
   "execution_count": 9,
   "metadata": {},
   "outputs": [
    {
     "name": "stdout",
     "output_type": "stream",
     "text": [
      "Plain: (1, 82, 29)\n",
      "Cipher: (64, 62, 6)\n",
      "Order: degrevlex\n",
      "----------------------------------------------------------------------\n",
      "-x_1_1 - 19\n",
      "-x_2_1 + 29\n",
      "y^3 + 50*y^2 - x_3_1 - 42*y + 37\n",
      "----------------------------------------------------------------------\n",
      "x_2_1 - x_1_2\n",
      "x_3_1 - x_2_2\n",
      "x_2_1^3 + 3*x_2_1^2*x_3_1 + 3*x_2_1*x_3_1^2 + x_3_1^3 + 3*x_2_1^2*y + 6*x_2_1*x_3_1*y + 3*x_3_1^2*y + 3*x_2_1*y^2 + 3*x_3_1*y^2 + y^3 - 20*x_2_1^2 - 40*x_2_1*x_3_1 - 20*x_3_1^2 - 40*x_2_1*y - 40*x_3_1*y - 20*y^2 + x_1_1 - 35*x_2_1 - 35*x_3_1 - x_3_2 - 35*y - 12\n",
      "----------------------------------------------------------------------\n",
      "x_2_2 - x_1_3\n",
      "x_3_2 - x_2_3\n",
      "x_2_2^3 + 3*x_2_2^2*x_3_2 + 3*x_2_2*x_3_2^2 + x_3_2^3 + 3*x_2_2^2*y + 6*x_2_2*x_3_2*y + 3*x_3_2^2*y + 3*x_2_2*y^2 + 3*x_3_2*y^2 + y^3 + 50*x_2_2^2 - x_2_2*x_3_2 + 50*x_3_2^2 - x_2_2*y - x_3_2*y + 50*y^2 + x_1_2 - 42*x_2_2 - 42*x_3_2 - x_3_3 - 42*y + 36\n",
      "----------------------------------------------------------------------\n",
      "x_2_3 - x_1_4\n",
      "x_3_3 - x_2_4\n",
      "x_2_3^3 + 3*x_2_3^2*x_3_3 + 3*x_2_3*x_3_3^2 + x_3_3^3 + 3*x_2_3^2*y + 6*x_2_3*x_3_3*y + 3*x_3_3^2*y + 3*x_2_3*y^2 + 3*x_3_3*y^2 + y^3 - 13*x_2_3^2 - 26*x_2_3*x_3_3 - 13*x_3_3^2 - 26*x_2_3*y - 26*x_3_3*y - 13*y^2 + x_1_3 - 11*x_2_3 - 11*x_3_3 - x_3_4 - 11*y - 29\n",
      "----------------------------------------------------------------------\n",
      "x_2_4 - x_1_5\n",
      "x_3_4 - x_2_5\n",
      "x_2_4^3 + 3*x_2_4^2*x_3_4 + 3*x_2_4*x_3_4^2 + x_3_4^3 + 3*x_2_4^2*y + 6*x_2_4*x_3_4*y + 3*x_3_4^2*y + 3*x_2_4*y^2 + 3*x_3_4*y^2 + y^3 + 5*x_2_4^2 + 10*x_2_4*x_3_4 + 5*x_3_4^2 + 10*x_2_4*y + 10*x_3_4*y + 5*y^2 + x_1_4 + 42*x_2_4 + 42*x_3_4 - x_3_5 + 42*y - 44\n",
      "----------------------------------------------------------------------\n",
      "x_2_5 - x_1_6\n",
      "x_3_5 - x_2_6\n",
      "x_2_5^3 + 3*x_2_5^2*x_3_5 + 3*x_2_5*x_3_5^2 + x_3_5^3 + 3*x_2_5^2*y + 6*x_2_5*x_3_5*y + 3*x_3_5^2*y + 3*x_2_5*y^2 + 3*x_3_5*y^2 + y^3 + 31*x_2_5^2 - 39*x_2_5*x_3_5 + 31*x_3_5^2 - 39*x_2_5*y - 39*x_3_5*y + 31*y^2 + x_1_5 - 50*x_2_5 - 50*x_3_5 - x_3_6 - 50*y + 41\n",
      "----------------------------------------------------------------------\n",
      "x_2_6 + 37\n",
      "x_3_6 + 39\n",
      "x_2_6^3 + 3*x_2_6^2*x_3_6 + 3*x_2_6*x_3_6^2 + x_3_6^3 + 3*x_2_6^2*y + 6*x_2_6*x_3_6*y + 3*x_3_6^2*y + 3*x_2_6*y^2 + 3*x_3_6*y^2 + y^3 + 47*x_2_6^2 - 7*x_2_6*x_3_6 + 47*x_3_6^2 - 7*x_2_6*y - 7*x_3_6*y + 47*y^2 + x_1_6 - 38*x_2_6 - 38*x_3_6 - 38*y + 20\n",
      "----------------------------------------------------------------------\n"
     ]
    }
   ],
   "source": [
    "polys = gmimc.generate_polynomials(plain=plain, cipher=cipher)\n",
    "\n",
    "print(70 * \"-\")\n",
    "\n",
    "for i in range(0, gmimc.r):\n",
    "    for j in range(0, gmimc.n):\n",
    "        print(polys[i * gmimc.n + j])\n",
    "    print(70 * \"-\")"
   ]
  },
  {
   "cell_type": "code",
   "execution_count": 10,
   "metadata": {},
   "outputs": [
    {
     "name": "stdout",
     "output_type": "stream",
     "text": [
      "(x_subs_3^3, ..., x_subs_n^3) contained in ideal of leading terms: True\n",
      "All terms of substituted Groebner basis contained in (x_subs_3, ..., x_subs_n): True\n",
      "----------------------------------------------------------------------\n",
      "Linear polynomials\n",
      "----------------------------------------------------------------------\n",
      "x_1_1 + 19\n",
      "x_2_1 - 29\n",
      "x_3_1 - x_1_3\n",
      "x_1_2 - 29\n",
      "x_2_2 - x_1_3\n",
      "x_3_2 - x_1_4\n",
      "x_2_3 - x_1_4\n",
      "x_3_3 - x_1_5\n",
      "x_2_4 - x_1_5\n",
      "x_3_4 - x_1_6\n",
      "x_2_5 - x_1_6\n",
      "x_3_5 + 37\n",
      "x_2_6 + 37\n",
      "x_3_6 + 39\n",
      "----------------------------------------------------------------------\n",
      "Substitution polynomials\n",
      "----------------------------------------------------------------------\n",
      "x_1_3 - x_subs_3 + x_subs_4 - x_subs_5 + x_subs_6 - 18\n",
      "x_1_4 - x_subs_4 + x_subs_5 - x_subs_6 + x_subs_7 - 6\n",
      "x_1_5 - x_subs_5 + x_subs_6 - 39\n",
      "x_1_6 - x_subs_6 + x_subs_7\n",
      "y - x_subs_7 + 7\n",
      "x_subs_1 - x_subs_7 + 34\n",
      "x_subs_2 - x_subs_3 + x_subs_4 - x_subs_5 + x_subs_6 - x_subs_7 + 34\n",
      "----------------------------------------------------------------------\n",
      "Gröbner basis\n",
      "----------------------------------------------------------------------\n",
      "x_subs_7^3 + 29*x_subs_7^2 - x_subs_3 + x_subs_4 - x_subs_5 + x_subs_6 + 11*x_subs_7 - 4\n",
      "x_subs_3^3 - 3*x_subs_3^2*x_subs_4 + 3*x_subs_3*x_subs_4^2 - x_subs_4^3 + 3*x_subs_3^2*x_subs_5 - 6*x_subs_3*x_subs_4*x_subs_5 + 3*x_subs_4^2*x_subs_5 + 3*x_subs_3*x_subs_5^2 - 3*x_subs_4*x_subs_5^2 + x_subs_5^3 - 3*x_subs_3^2*x_subs_6 + 6*x_subs_3*x_subs_4*x_subs_6 - 3*x_subs_4^2*x_subs_6 - 6*x_subs_3*x_subs_5*x_subs_6 + 6*x_subs_4*x_subs_5*x_subs_6 - 3*x_subs_5^2*x_subs_6 + 3*x_subs_3*x_subs_6^2 - 3*x_subs_4*x_subs_6^2 + 3*x_subs_5*x_subs_6^2 - x_subs_6^3 + 3*x_subs_3^2*x_subs_7 - 6*x_subs_3*x_subs_4*x_subs_7 + 3*x_subs_4^2*x_subs_7 + 6*x_subs_3*x_subs_5*x_subs_7 - 6*x_subs_4*x_subs_5*x_subs_7 + 3*x_subs_5^2*x_subs_7 - 6*x_subs_3*x_subs_6*x_subs_7 + 6*x_subs_4*x_subs_6*x_subs_7 - 6*x_subs_5*x_subs_6*x_subs_7 + 3*x_subs_6^2*x_subs_7 + 3*x_subs_3*x_subs_7^2 - 3*x_subs_4*x_subs_7^2 + 3*x_subs_5*x_subs_7^2 - 3*x_subs_6*x_subs_7^2 + x_subs_7^3 - x_subs_3^2 + 2*x_subs_3*x_subs_4 - x_subs_4^2 - 2*x_subs_3*x_subs_5 + 2*x_subs_4*x_subs_5 - x_subs_5^2 + 2*x_subs_3*x_subs_6 - 2*x_subs_4*x_subs_6 + 2*x_subs_5*x_subs_6 - x_subs_6^2 - 2*x_subs_3*x_subs_7 + 2*x_subs_4*x_subs_7 - 2*x_subs_5*x_subs_7 + 2*x_subs_6*x_subs_7 - x_subs_7^2 + 34*x_subs_3 - 35*x_subs_4 + 35*x_subs_5 - 35*x_subs_6 + 35*x_subs_7 - 40\n",
      "x_subs_3^3 - x_subs_5 + x_subs_6 - 10\n",
      "x_subs_4^3 + x_subs_3 - x_subs_4 + x_subs_5 - 2*x_subs_6 + x_subs_7 + 18\n",
      "x_subs_5^3 + x_subs_4 - x_subs_5 + x_subs_6 - x_subs_7 + 43\n",
      "x_subs_6^3 + x_subs_5 - x_subs_6 - 23\n",
      "x_subs_7^3 + x_subs_6 - x_subs_7 - 6\n"
     ]
    }
   ],
   "source": [
    "polys_lin, polys_subs, gb_subs = gmimc.compute_Groebner_basis(polys)\n",
    "\n",
    "print(70 * \"-\")\n",
    "print(\"Linear polynomials\")\n",
    "print(70 * \"-\")\n",
    "for poly in polys_lin:\n",
    "    print(poly)\n",
    "\n",
    "print(70 * \"-\")\n",
    "print(\"Substitution polynomials\")\n",
    "print(70 * \"-\")\n",
    "for poly in polys_subs:\n",
    "    print(poly)\n",
    "\n",
    "print(70 * \"-\")\n",
    "print(\"Gröbner basis\")\n",
    "print(70 * \"-\")\n",
    "for poly in gb_subs:\n",
    "    print(poly)"
   ]
  },
  {
   "cell_type": "code",
   "execution_count": 11,
   "metadata": {},
   "outputs": [
    {
     "data": {
      "text/plain": [
       "[{x_subs_7: 17,\n",
       "  x_subs_6: 59,\n",
       "  x_subs_5: 36,\n",
       "  x_subs_4: 58,\n",
       "  x_subs_3: 24,\n",
       "  x_subs_2: 27,\n",
       "  x_subs_1: 84,\n",
       "  y: 10,\n",
       "  x_3_6: 62,\n",
       "  x_2_6: 64,\n",
       "  x_1_6: 42,\n",
       "  x_3_5: 64,\n",
       "  x_2_5: 42,\n",
       "  x_1_5: 16,\n",
       "  x_3_4: 42,\n",
       "  x_2_4: 16,\n",
       "  x_1_4: 70,\n",
       "  x_3_3: 16,\n",
       "  x_2_3: 70,\n",
       "  x_1_3: 62,\n",
       "  x_3_2: 70,\n",
       "  x_2_2: 62,\n",
       "  x_1_2: 29,\n",
       "  x_3_1: 62,\n",
       "  x_2_1: 29,\n",
       "  x_1_1: 82}]"
      ]
     },
     "execution_count": 11,
     "metadata": {},
     "output_type": "execute_result"
    }
   ],
   "source": [
    "ideal(polys_lin + polys_subs + gb_subs).variety()"
   ]
  }
 ],
 "metadata": {
  "kernelspec": {
   "display_name": "SageMath 10.6",
   "language": "sage",
   "name": "sagemath"
  },
  "language_info": {
   "codemirror_mode": {
    "name": "ipython",
    "version": 3
   },
   "file_extension": ".py",
   "mimetype": "text/x-python",
   "name": "python",
   "nbconvert_exporter": "python",
   "pygments_lexer": "ipython3",
   "version": "3.12.5"
  }
 },
 "nbformat": 4,
 "nbformat_minor": 2
}
