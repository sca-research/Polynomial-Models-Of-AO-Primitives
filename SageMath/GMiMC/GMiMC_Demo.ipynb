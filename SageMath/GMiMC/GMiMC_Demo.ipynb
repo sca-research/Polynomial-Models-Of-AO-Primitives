{
 "cells": [
  {
   "cell_type": "markdown",
   "metadata": {},
   "source": [
    "# GMiMC With Multivariate Key Polynomial Model Demonstration"
   ]
  },
  {
   "cell_type": "code",
   "execution_count": 1,
   "metadata": {},
   "outputs": [],
   "source": [
    "load(\"GMiMC.sage\")"
   ]
  },
  {
   "cell_type": "markdown",
   "metadata": {},
   "source": [
    "## Expanding Round Function"
   ]
  },
  {
   "cell_type": "code",
   "execution_count": 2,
   "metadata": {},
   "outputs": [
    {
     "name": "stdout",
     "output_type": "stream",
     "text": [
      "GMiMC Parameters\n",
      "Field: Finite Field of size 101\n",
      "n: 3\n",
      "r: 7\n",
      "Mode: erf\n",
      "Key schedule matrix:\n",
      "[75 93 24]\n",
      "[88 36 96]\n",
      "[55 24  2]\n",
      "Admissible key schedule matrix: True\n",
      "Constants: [48, 0, 87, 9, 19, 43, 90]\n"
     ]
    }
   ],
   "source": [
    "field = GF(101)\n",
    "n = 3\n",
    "r = 7\n",
    "mode = \"erf\"\n",
    "\n",
    "gmimc = GMiMC(field=field, n=n, r=r, mode=mode)"
   ]
  },
  {
   "cell_type": "code",
   "execution_count": 3,
   "metadata": {},
   "outputs": [
    {
     "data": {
      "text/plain": [
       "((87, 47, 44), (0, 30, 96), (82, 87, 11))"
      ]
     },
     "execution_count": 3,
     "metadata": {},
     "output_type": "execute_result"
    }
   ],
   "source": [
    "V = VectorSpace(gmimc.field, gmimc.n)\n",
    "plain = V.random_element()\n",
    "key = V.random_element()\n",
    "cipher = gmimc.encrypt(plain, key)\n",
    "plain, key, cipher"
   ]
  },
  {
   "cell_type": "code",
   "execution_count": 4,
   "metadata": {},
   "outputs": [
    {
     "name": "stdout",
     "output_type": "stream",
     "text": [
      "Plain: (87, 47, 44)\n",
      "Cipher: (82, 87, 11)\n",
      "Order: degrevlex\n",
      "----------------------------------------------------------------------\n",
      "y_1^3 + y_1^2 - x_1_1 + 34*y_1 - 39\n",
      "y_1^3 + y_1^2 - x_2_1 + 34*y_1 - 42\n",
      "-x_3_1 - 14\n",
      "----------------------------------------------------------------------\n",
      "x_1_1^3 + 3*x_1_1^2*y_2 + 3*x_1_1*y_2^2 + y_2^3 + x_2_1 - x_1_2\n",
      "x_1_1^3 + 3*x_1_1^2*y_2 + 3*x_1_1*y_2^2 + y_2^3 + x_3_1 - x_2_2\n",
      "x_1_1 - x_3_2\n",
      "----------------------------------------------------------------------\n",
      "x_1_2^3 + 3*x_1_2^2*y_3 + 3*x_1_2*y_3^2 + y_3^3 - 42*x_1_2^2 + 17*x_1_2*y_3 - 42*y_3^2 - 18*x_1_2 + x_2_2 - x_1_3 - 18*y_3 - 17\n",
      "x_1_2^3 + 3*x_1_2^2*y_3 + 3*x_1_2*y_3^2 + y_3^3 - 42*x_1_2^2 + 17*x_1_2*y_3 - 42*y_3^2 - 18*x_1_2 + x_3_2 - x_2_3 - 18*y_3 - 17\n",
      "x_1_2 - x_3_3\n",
      "----------------------------------------------------------------------\n",
      "x_1_3^3 + 23*x_1_3^2*y_1 + 8*x_1_3*y_1^2 - 2*y_1^3 - 24*x_1_3^2*y_2 + 36*x_1_3*y_1*y_2 + 37*y_1^2*y_2 - 10*x_1_3*y_2^2 - 43*y_1*y_2^2 - 7*y_2^3 - 29*x_1_3^2*y_3 - 7*x_1_3*y_1*y_3 - 10*y_1^2*y_3 - 41*x_1_3*y_2*y_3 - 45*y_1*y_2*y_3 - 38*y_2^2*y_3 + 11*x_1_3*y_3^2 + 17*y_1*y_3^2 + 13*y_2*y_3^2 - 13*y_3^3 + 27*x_1_3^2 + 10*x_1_3*y_1 - 29*y_1^2 - 28*x_1_3*y_2 + 21*y_1*y_2 + 11*y_2^2 - 17*x_1_3*y_3 + 38*y_1*y_3 + 35*y_2*y_3 - 2*y_3^2 + 41*x_1_3 + x_2_3 - x_1_4 + 45*y_1 - 25*y_2 - 26*y_3 + 22\n",
      "x_1_3^3 + 23*x_1_3^2*y_1 + 8*x_1_3*y_1^2 - 2*y_1^3 - 24*x_1_3^2*y_2 + 36*x_1_3*y_1*y_2 + 37*y_1^2*y_2 - 10*x_1_3*y_2^2 - 43*y_1*y_2^2 - 7*y_2^3 - 29*x_1_3^2*y_3 - 7*x_1_3*y_1*y_3 - 10*y_1^2*y_3 - 41*x_1_3*y_2*y_3 - 45*y_1*y_2*y_3 - 38*y_2^2*y_3 + 11*x_1_3*y_3^2 + 17*y_1*y_3^2 + 13*y_2*y_3^2 - 13*y_3^3 + 27*x_1_3^2 + 10*x_1_3*y_1 - 29*y_1^2 - 28*x_1_3*y_2 + 21*y_1*y_2 + 11*y_2^2 - 17*x_1_3*y_3 + 38*y_1*y_3 + 35*y_2*y_3 - 2*y_3^2 + 41*x_1_3 + x_3_3 - x_2_4 + 45*y_1 - 25*y_2 - 26*y_3 + 22\n",
      "x_1_3 - x_3_4\n",
      "----------------------------------------------------------------------\n",
      "x_1_4^3 - 39*x_1_4^2*y_1 + 2*x_1_4*y_1^2 + 25*y_1^3 + 7*x_1_4^2*y_2 + 20*x_1_4*y_1*y_2 - 29*y_1^2*y_2 + 50*x_1_4*y_2^2 - 44*y_1*y_2^2 - 6*y_2^3 - 15*x_1_4^2*y_3 - 14*x_1_4*y_1*y_3 - 10*y_1^2*y_3 + 31*x_1_4*y_2*y_3 + y_1*y_2*y_3 - 48*y_2^2*y_3 - 26*x_1_4*y_3^2 + 35*y_1*y_3^2 - 27*y_2*y_3^2 - 24*y_3^3 - 44*x_1_4^2 + 33*x_1_4*y_1 + 38*y_1^2 - 37*x_1_4*y_2 - 24*y_1*y_2 + 41*y_2^2 + 36*x_1_4*y_3 + 37*y_1*y_3 - 17*y_2*y_3 + 11*y_3^2 - 28*x_1_4 + x_2_4 - x_1_5 - 40*y_1 + 2*y_2 + 39*y_3 - 9\n",
      "x_1_4^3 - 39*x_1_4^2*y_1 + 2*x_1_4*y_1^2 + 25*y_1^3 + 7*x_1_4^2*y_2 + 20*x_1_4*y_1*y_2 - 29*y_1^2*y_2 + 50*x_1_4*y_2^2 - 44*y_1*y_2^2 - 6*y_2^3 - 15*x_1_4^2*y_3 - 14*x_1_4*y_1*y_3 - 10*y_1^2*y_3 + 31*x_1_4*y_2*y_3 + y_1*y_2*y_3 - 48*y_2^2*y_3 - 26*x_1_4*y_3^2 + 35*y_1*y_3^2 - 27*y_2*y_3^2 - 24*y_3^3 - 44*x_1_4^2 + 33*x_1_4*y_1 + 38*y_1^2 - 37*x_1_4*y_2 - 24*y_1*y_2 + 41*y_2^2 + 36*x_1_4*y_3 + 37*y_1*y_3 - 17*y_2*y_3 + 11*y_3^2 - 28*x_1_4 + x_3_4 - x_2_5 - 40*y_1 + 2*y_2 + 39*y_3 - 9\n",
      "x_1_4 - x_3_5\n",
      "----------------------------------------------------------------------\n",
      "x_1_5^3 - 37*x_1_5^2*y_1 - 15*x_1_5*y_1^2 + 28*y_1^3 - 29*x_1_5^2*y_2 + 42*x_1_5*y_1*y_2 + 44*y_1^2*y_2 + 11*x_1_5*y_2^2 - y_1*y_2^2 - 13*y_2^3 + 6*x_1_5^2*y_3 - 47*x_1_5*y_1*y_3 - 30*y_1^2*y_3 - 15*x_1_5*y_2*y_3 - 17*y_1*y_2*y_3 + 22*y_2^2*y_3 + 12*x_1_5*y_3^2 - 47*y_1*y_3^2 - 15*y_2*y_3^2 + 8*y_3^3 + 28*x_1_5^2 + 50*x_1_5*y_1 - 39*y_1^2 + 31*x_1_5*y_2 - 12*y_1*y_2 - 32*y_2^2 + 11*x_1_5*y_3 - y_1*y_3 - 39*y_2*y_3 + 11*y_3^2 - 8*x_1_5 + x_2_5 - x_1_6 - 36*y_1 + 10*y_2 - 16*y_3 + 20\n",
      "x_1_5^3 - 37*x_1_5^2*y_1 - 15*x_1_5*y_1^2 + 28*y_1^3 - 29*x_1_5^2*y_2 + 42*x_1_5*y_1*y_2 + 44*y_1^2*y_2 + 11*x_1_5*y_2^2 - y_1*y_2^2 - 13*y_2^3 + 6*x_1_5^2*y_3 - 47*x_1_5*y_1*y_3 - 30*y_1^2*y_3 - 15*x_1_5*y_2*y_3 - 17*y_1*y_2*y_3 + 22*y_2^2*y_3 + 12*x_1_5*y_3^2 - 47*y_1*y_3^2 - 15*y_2*y_3^2 + 8*y_3^3 + 28*x_1_5^2 + 50*x_1_5*y_1 - 39*y_1^2 + 31*x_1_5*y_2 - 12*y_1*y_2 - 32*y_2^2 + 11*x_1_5*y_3 - y_1*y_3 - 39*y_2*y_3 + 11*y_3^2 - 8*x_1_5 + x_3_5 - x_2_6 - 36*y_1 + 10*y_2 - 16*y_3 + 20\n",
      "x_1_5 - x_3_6\n",
      "----------------------------------------------------------------------\n",
      "x_1_6^3 + 38*x_1_6^2*y_1 + 10*x_1_6*y_1^2 + 31*y_1^3 - 27*x_1_6^2*y_2 + 23*x_1_6*y_1*y_2 + 11*y_1^2*y_2 + 41*x_1_6*y_2^2 + 48*y_1*y_2^2 - 22*y_2^3 + 8*x_1_6^2*y_3 - 33*x_1_6*y_1*y_3 - 7*y_1^2*y_3 - 43*x_1_6*y_2*y_3 - 6*y_1*y_2*y_3 + 42*y_2^2*y_3 - 46*x_1_6*y_3^2 - 44*y_1*y_3^2 + 10*y_2*y_3^2 + 4*y_3^3 - 33*x_1_6^2 - 28*x_1_6*y_1 - 9*y_1^2 - 12*x_1_6*y_2 + 50*y_1*y_2 - 47*y_2^2 + 26*x_1_6*y_3 - 41*y_1*y_3 - 32*y_2*y_3 + y_3^2 - 41*x_1_6 + x_2_6 - 48*y_1 - 35*y_2 - 42*y_3 + 1\n",
      "x_1_6^3 + 38*x_1_6^2*y_1 + 10*x_1_6*y_1^2 + 31*y_1^3 - 27*x_1_6^2*y_2 + 23*x_1_6*y_1*y_2 + 11*y_1^2*y_2 + 41*x_1_6*y_2^2 + 48*y_1*y_2^2 - 22*y_2^3 + 8*x_1_6^2*y_3 - 33*x_1_6*y_1*y_3 - 7*y_1^2*y_3 - 43*x_1_6*y_2*y_3 - 6*y_1*y_2*y_3 + 42*y_2^2*y_3 - 46*x_1_6*y_3^2 - 44*y_1*y_3^2 + 10*y_2*y_3^2 + 4*y_3^3 - 33*x_1_6^2 - 28*x_1_6*y_1 - 9*y_1^2 - 12*x_1_6*y_2 + 50*y_1*y_2 - 47*y_2^2 + 26*x_1_6*y_3 - 41*y_1*y_3 - 32*y_2*y_3 + y_3^2 - 41*x_1_6 + x_3_6 - 48*y_1 - 35*y_2 - 42*y_3 - 4\n",
      "x_1_6 - 11\n",
      "----------------------------------------------------------------------\n"
     ]
    }
   ],
   "source": [
    "polys = gmimc.generate_polynomials(plain=plain, cipher=cipher)\n",
    "\n",
    "print(70 * \"-\")\n",
    "\n",
    "for i in range(0, gmimc.r):\n",
    "    for j in range(0, gmimc.n):\n",
    "        print(polys[i * gmimc.n + j])\n",
    "    print(70 * \"-\")"
   ]
  },
  {
   "cell_type": "code",
   "execution_count": 5,
   "metadata": {},
   "outputs": [
    {
     "name": "stdout",
     "output_type": "stream",
     "text": [
      "Ideal of leading terms equal to (x_subs_1^3, ..., x_subs_n^3): True\n",
      "All terms of substituted Gröbner basis contained in (x_subs_1, ..., x_subs_n): True\n",
      "----------------------------------------------------------------------\n",
      "Linear polynomials\n",
      "----------------------------------------------------------------------\n",
      "x_1_1 - x_3_3 + x_3_4 - x_3_5 + x_3_6 + 48\n",
      "x_2_1 - x_3_3 + x_3_4 - x_3_5 + x_3_6 - 50\n",
      "x_3_1 + 14\n",
      "x_1_2 - x_3_3\n",
      "x_2_2 - x_3_4 + x_3_5 - x_3_6 - 37\n",
      "x_3_2 - x_3_3 + x_3_4 - x_3_5 + x_3_6 + 48\n",
      "x_1_3 - x_3_4\n",
      "x_2_3 - x_3_3 + x_3_4 - 2*x_3_5 + 2*x_3_6 - 16\n",
      "x_1_4 - x_3_5\n",
      "x_2_4 - x_3_4 + x_3_5 - 2*x_3_6 + 16\n",
      "x_1_5 - x_3_6\n",
      "x_2_5 - x_3_5 + x_3_6 - 16\n",
      "x_1_6 - 11\n",
      "x_2_6 - x_3_6 + 5\n",
      "----------------------------------------------------------------------\n",
      "Substitution polynomials\n",
      "----------------------------------------------------------------------\n",
      "x_3_3 - 39*x_subs_1 + 18*x_subs_2 - 19*x_subs_3 + 18*x_subs_4 - 18*x_subs_5 + 18*x_subs_6 - 38*x_subs_7 - 43\n",
      "x_3_4 + 2*x_subs_1 + 19*x_subs_2 - 19*x_subs_3 + 18*x_subs_4 - 19*x_subs_5 + 19*x_subs_6 - 28*x_subs_7 + 33\n",
      "x_3_5 - 15*x_subs_1 + x_subs_2 - x_subs_3 + x_subs_4 - 2*x_subs_5 + x_subs_6 + 50*x_subs_7 + 33\n",
      "x_3_6 + 14*x_subs_1 - 38*x_subs_2 + 38*x_subs_3 - 38*x_subs_4 + 38*x_subs_5 - 39*x_subs_6 - x_subs_7 + 40\n",
      "y_1 - x_subs_1 + 48\n",
      "y_2 - 31*x_subs_1 - 39*x_subs_2 + 39*x_subs_3 - 39*x_subs_4 + 39*x_subs_5 - 39*x_subs_6 - 41*x_subs_7 + 35\n",
      "y_3 + 39*x_subs_1 - 18*x_subs_2 + 18*x_subs_3 - 18*x_subs_4 + 18*x_subs_5 - 18*x_subs_6 + 38*x_subs_7 + 29\n",
      "----------------------------------------------------------------------\n",
      "Gröbner basis\n",
      "----------------------------------------------------------------------\n",
      "x_subs_1^3 - 42*x_subs_1^2 + 13*x_subs_1 + 38*x_subs_2 - 39*x_subs_3 + 39*x_subs_4 - 39*x_subs_5 + 39*x_subs_6 + 41*x_subs_7 - 5\n",
      "x_subs_2^3 + 31*x_subs_1 - 20*x_subs_2 + 20*x_subs_3 - 21*x_subs_4 + 21*x_subs_5 - 21*x_subs_6 + 22*x_subs_7 - 11\n",
      "x_subs_3^3 - 29*x_subs_1 + 39*x_subs_2 - 39*x_subs_3 + 39*x_subs_4 - 40*x_subs_5 + 40*x_subs_6 - 50*x_subs_7 + 30\n",
      "x_subs_4^3 - 17*x_subs_1 + 25*x_subs_2 - 24*x_subs_3 + 24*x_subs_4 - 24*x_subs_5 + 23*x_subs_6 - 42*x_subs_7 + 38\n",
      "x_subs_5^3 - 31*x_subs_1 + 20*x_subs_2 - 20*x_subs_3 + 21*x_subs_4 - 21*x_subs_5 + 21*x_subs_6 - 22*x_subs_7 + 45\n",
      "x_subs_6^3 + 29*x_subs_1 - 39*x_subs_2 + 39*x_subs_3 - 39*x_subs_4 + 40*x_subs_5 - 40*x_subs_6 + 50*x_subs_7 + 12\n",
      "x_subs_7^3 - 14*x_subs_1 + 38*x_subs_2 - 38*x_subs_3 + 38*x_subs_4 - 38*x_subs_5 + 39*x_subs_6 + x_subs_7 - 26\n"
     ]
    }
   ],
   "source": [
    "polys_lin, polys_subs, gb_subs = gmimc.compute_Groebner_basis(polys)\n",
    "\n",
    "print(70 * \"-\")\n",
    "print(\"Linear polynomials\")\n",
    "print(70 * \"-\")\n",
    "for poly in polys_lin:\n",
    "    print(poly)\n",
    "\n",
    "print(70 * \"-\")\n",
    "print(\"Substitution polynomials\")\n",
    "print(70 * \"-\")\n",
    "for poly in polys_subs:\n",
    "    print(poly)\n",
    "\n",
    "print(70 * \"-\")\n",
    "print(\"Gröbner basis\")\n",
    "print(70 * \"-\")\n",
    "for poly in gb_subs:\n",
    "    print(poly)"
   ]
  },
  {
   "cell_type": "code",
   "execution_count": 6,
   "metadata": {},
   "outputs": [
    {
     "data": {
      "text/plain": [
       "True"
      ]
     },
     "execution_count": 6,
     "metadata": {},
     "output_type": "execute_result"
    }
   ],
   "source": [
    "ideal(polys_lin + polys_subs + gb_subs).basis_is_groebner()"
   ]
  },
  {
   "cell_type": "markdown",
   "metadata": {},
   "source": [
    "## Contracting Round Function"
   ]
  },
  {
   "cell_type": "code",
   "execution_count": 7,
   "metadata": {},
   "outputs": [
    {
     "name": "stdout",
     "output_type": "stream",
     "text": [
      "GMiMC Parameters\n",
      "Field: Finite Field of size 101\n",
      "n: 3\n",
      "r: 7\n",
      "Mode: crf\n",
      "Key schedule matrix:\n",
      "[79 75 68]\n",
      "[68 32 38]\n",
      "[38 42 66]\n",
      "Admissible key schedule matrix: True\n",
      "Constants: [44, 19, 91, 32, 2, 28, 52]\n"
     ]
    }
   ],
   "source": [
    "field = GF(101)\n",
    "n = 3\n",
    "r = 7\n",
    "mode = \"crf\"\n",
    "\n",
    "gmimc = GMiMC(field=field, n=n, r=r, mode=mode)"
   ]
  },
  {
   "cell_type": "code",
   "execution_count": 8,
   "metadata": {},
   "outputs": [
    {
     "data": {
      "text/plain": [
       "((4, 46, 6), (2, 23, 42), (44, 56, 46))"
      ]
     },
     "execution_count": 8,
     "metadata": {},
     "output_type": "execute_result"
    }
   ],
   "source": [
    "V = VectorSpace(gmimc.field, gmimc.n)\n",
    "plain = V.random_element()\n",
    "key = V.random_element()\n",
    "cipher = gmimc.encrypt(plain, key)\n",
    "plain, key, cipher"
   ]
  },
  {
   "cell_type": "code",
   "execution_count": 9,
   "metadata": {},
   "outputs": [
    {
     "name": "stdout",
     "output_type": "stream",
     "text": [
      "Plain: (4, 46, 6)\n",
      "Cipher: (44, 56, 46)\n",
      "Order: degrevlex\n",
      "----------------------------------------------------------------------\n",
      "-x_1_1 + 46\n",
      "-x_2_1 + 6\n",
      "y_1^3 - 15*y_1^2 - x_3_1 - 26*y_1 - 20\n",
      "----------------------------------------------------------------------\n",
      "x_2_1 - x_1_2\n",
      "x_3_1 - x_2_2\n",
      "x_2_1^3 + 3*x_2_1^2*x_3_1 + 3*x_2_1*x_3_1^2 + x_3_1^3 + 3*x_2_1^2*y_2 + 6*x_2_1*x_3_1*y_2 + 3*x_3_1^2*y_2 + 3*x_2_1*y_2^2 + 3*x_3_1*y_2^2 + y_2^3 - 44*x_2_1^2 + 13*x_2_1*x_3_1 - 44*x_3_1^2 + 13*x_2_1*y_2 + 13*x_3_1*y_2 - 44*y_2^2 + x_1_1 - 28*x_2_1 - 28*x_3_1 - x_3_2 - 28*y_2 - 9\n",
      "----------------------------------------------------------------------\n",
      "x_2_2 - x_1_3\n",
      "x_3_2 - x_2_3\n",
      "x_2_2^3 + 3*x_2_2^2*x_3_2 + 3*x_2_2*x_3_2^2 + x_3_2^3 + 3*x_2_2^2*y_3 + 6*x_2_2*x_3_2*y_3 + 3*x_3_2^2*y_3 + 3*x_2_2*y_3^2 + 3*x_3_2*y_3^2 + y_3^3 - 30*x_2_2^2 + 41*x_2_2*x_3_2 - 30*x_3_2^2 + 41*x_2_2*y_3 + 41*x_3_2*y_3 - 30*y_3^2 + x_1_2 - 3*x_2_2 - 3*x_3_2 - x_3_3 - 3*y_3 + 10\n",
      "----------------------------------------------------------------------\n",
      "x_2_3 - x_1_4\n",
      "x_3_3 - x_2_4\n",
      "x_2_3^3 + 3*x_2_3^2*x_3_3 + 3*x_2_3*x_3_3^2 + x_3_3^3 + 35*x_2_3^2*y_1 - 31*x_2_3*x_3_3*y_1 + 35*x_3_3^2*y_1 + 38*x_2_3*y_1^2 + 38*x_3_3*y_1^2 - 43*y_1^3 + 23*x_2_3^2*y_2 + 46*x_2_3*x_3_3*y_2 + 23*x_3_3^2*y_2 - 2*x_2_3*y_1*y_2 - 2*x_3_3*y_1*y_2 + 22*y_1^2*y_2 + 8*x_2_3*y_2^2 + 8*x_3_3*y_2^2 + 26*y_1*y_2^2 - 2*y_2^3 + 2*x_2_3^2*y_3 + 4*x_2_3*x_3_3*y_3 + 2*x_3_3^2*y_3 + 13*x_2_3*y_1*y_3 + 13*x_3_3*y_1*y_3 - 42*y_1^2*y_3 - 3*x_2_3*y_2*y_3 - 3*x_3_3*y_2*y_3 - 35*y_1*y_2*y_3 + 39*y_2^2*y_3 + 35*x_2_3*y_3^2 + 35*x_3_3*y_3^2 + 38*y_1*y_3^2 - y_2*y_3^2 + 19*y_3^3 - 5*x_2_3^2 - 10*x_2_3*x_3_3 - 5*x_3_3^2 + 18*x_2_3*y_1 + 18*x_3_3*y_1 + 4*y_1^2 - 43*x_2_3*y_2 - 43*x_3_3*y_2 + 37*y_1*y_2 - 47*y_2^2 + 27*x_2_3*y_3 + 27*x_3_3*y_3 + 12*y_1*y_3 + 5*y_2*y_3 + 9*y_3^2 + x_1_3 + 42*x_2_3 + 42*x_3_3 - x_3_4 - 15*y_1 + 19*y_2 + 28*y_3 + 44\n",
      "----------------------------------------------------------------------\n",
      "x_2_4 - x_1_5\n",
      "x_3_4 - x_2_5\n",
      "x_2_4^3 + 3*x_2_4^2*x_3_4 + 3*x_2_4*x_3_4^2 + x_3_4^3 + 2*x_2_4^2*y_1 + 4*x_2_4*x_3_4*y_1 + 2*x_3_4^2*y_1 + 35*x_2_4*y_1^2 + 35*x_3_4*y_1^2 + 19*y_1^3 - 5*x_2_4^2*y_2 - 10*x_2_4*x_3_4*y_2 - 5*x_3_4^2*y_2 + 27*x_2_4*y_1*y_2 + 27*x_3_4*y_1*y_2 + 9*y_1^2*y_2 + 42*x_2_4*y_2^2 + 42*x_3_4*y_2^2 + 28*y_1*y_2^2 + 44*y_2^3 + 13*x_2_4^2*y_3 + 26*x_2_4*x_3_4*y_3 + 13*x_3_4^2*y_3 - 50*x_2_4*y_1*y_3 - 50*x_3_4*y_1*y_3 + 17*y_1^2*y_3 + 24*x_2_4*y_2*y_3 + 24*x_3_4*y_2*y_3 + 16*y_1*y_2*y_3 - 20*y_2^2*y_3 - 11*x_2_4*y_3^2 - 11*x_3_4*y_3^2 - 41*y_1*y_3^2 - 49*y_2*y_3^2 + 29*y_3^3 + 6*x_2_4^2 + 12*x_2_4*x_3_4 + 6*x_3_4^2 + 8*x_2_4*y_1 + 8*x_3_4*y_1 - 31*y_1^2 - 20*x_2_4*y_2 - 20*x_3_4*y_2 - 47*y_1*y_2 - 17*y_2^2 - 49*x_2_4*y_3 - 49*x_3_4*y_3 + y_1*y_3 + 48*y_2*y_3 - 22*y_3^2 + x_1_4 + 12*x_2_4 + 12*x_3_4 - x_3_5 + 8*y_1 - 20*y_2 - 49*y_3 + 8\n",
      "----------------------------------------------------------------------\n",
      "x_2_5 - x_1_6\n",
      "x_3_5 - x_2_6\n",
      "x_2_5^3 + 3*x_2_5^2*x_3_5 + 3*x_2_5*x_3_5^2 + x_3_5^3 + 13*x_2_5^2*y_1 + 26*x_2_5*x_3_5*y_1 + 13*x_3_5^2*y_1 - 11*x_2_5*y_1^2 - 11*x_3_5*y_1^2 + 29*y_1^3 + 25*x_2_5^2*y_2 + 50*x_2_5*x_3_5*y_2 + 25*x_3_5^2*y_2 - 19*x_2_5*y_1*y_2 - 19*x_3_5*y_1*y_2 + 43*y_1^2*y_2 + 40*x_2_5*y_2^2 + 40*x_3_5*y_2^2 + 5*y_1*y_2^2 - 46*y_2^3 - 4*x_2_5^2*y_3 - 8*x_2_5*x_3_5*y_3 - 4*x_3_5^2*y_3 - x_2_5*y_1*y_3 - x_3_5*y_1*y_3 - 19*y_1^2*y_3 - 33*x_2_5*y_2*y_3 - 33*x_3_5*y_2*y_3 - 42*y_1*y_2*y_3 + 14*y_2^2*y_3 + 39*x_2_5*y_3^2 + 39*x_3_5*y_3^2 - 33*y_1*y_3^2 + 22*y_2*y_3^2 + 50*y_3^3 - 17*x_2_5^2 - 34*x_2_5*x_3_5 - 17*x_3_5^2 + 21*x_2_5*y_1 + 21*x_3_5*y_1 - 5*y_1^2 - 14*x_2_5*y_2 - 14*x_3_5*y_2 - 27*y_1*y_2 + 9*y_2^2 - 22*x_2_5*y_3 - 22*x_3_5*y_3 - 28*y_1*y_3 - 15*y_2*y_3 - 19*y_3^2 + x_1_5 + 29*x_2_5 + 29*x_3_5 - x_3_6 - 9*y_1 + 6*y_2 - 5*y_3 + 35\n",
      "----------------------------------------------------------------------\n",
      "x_2_6 - 44\n",
      "x_3_6 + 45\n",
      "x_2_6^3 + 3*x_2_6^2*x_3_6 + 3*x_2_6*x_3_6^2 + x_3_6^3 - 39*x_2_6^2*y_1 + 23*x_2_6*x_3_6*y_1 - 39*x_3_6^2*y_1 + 2*x_2_6*y_1^2 + 2*x_3_6*y_1^2 + 25*y_1^3 + 11*x_2_6^2*y_2 + 22*x_2_6*x_3_6*y_2 + 11*x_3_6^2*y_2 + 17*x_2_6*y_1*y_2 + 17*x_3_6*y_1*y_2 + 41*y_1^2*y_2 - 27*x_2_6*y_2^2 - 27*x_3_6*y_2^2 + 48*y_1*y_2^2 - 33*y_2^3 - 48*x_2_6^2*y_3 + 5*x_2_6*x_3_6*y_3 - 48*x_3_6^2*y_3 + 36*x_2_6*y_1*y_3 + 36*x_3_6*y_1*y_3 - 32*y_1^2*y_3 - 49*x_2_6*y_2*y_3 - 49*x_3_6*y_2*y_3 + 31*y_1*y_2*y_3 + 28*y_2^2*y_3 - 40*x_2_6*y_3^2 - 40*x_3_6*y_3^2 + 15*y_1*y_3^2 - 12*y_2*y_3^2 + 45*y_3^3 - 46*x_2_6^2 + 9*x_2_6*x_3_6 - 46*x_3_6^2 - 16*x_2_6*y_1 - 16*x_3_6*y_1 + 3*y_1^2 + 33*x_2_6*y_2 + 33*x_3_6*y_2 - 25*y_1*y_2 + 10*y_2^2 - 43*x_2_6*y_3 - 43*x_3_6*y_3 - 47*y_1*y_3 - 23*y_2*y_3 + 41*y_3^2 + x_1_6 + 32*x_2_6 + 32*x_3_6 - 12*y_1 + 50*y_2 - 7*y_3 - 30\n",
      "----------------------------------------------------------------------\n"
     ]
    }
   ],
   "source": [
    "polys = gmimc.generate_polynomials(plain=plain, cipher=cipher)\n",
    "\n",
    "print(70 * \"-\")\n",
    "\n",
    "for i in range(0, gmimc.r):\n",
    "    for j in range(0, gmimc.n):\n",
    "        print(polys[i * gmimc.n + j])\n",
    "    print(70 * \"-\")"
   ]
  },
  {
   "cell_type": "code",
   "execution_count": 10,
   "metadata": {},
   "outputs": [
    {
     "name": "stdout",
     "output_type": "stream",
     "text": [
      "Ideal of leading terms equal to (x_subs_1^3, ..., x_subs_n^3): True\n",
      "All terms of substituted Gröbner basis contained in (x_subs_1, ..., x_subs_n): True\n",
      "----------------------------------------------------------------------\n",
      "Linear polynomials\n",
      "----------------------------------------------------------------------\n",
      "x_1_1 - 46\n",
      "x_2_1 - 6\n",
      "x_3_1 - x_1_3\n",
      "x_1_2 - 6\n",
      "x_2_2 - x_1_3\n",
      "x_3_2 - x_1_4\n",
      "x_2_3 - x_1_4\n",
      "x_3_3 - x_1_5\n",
      "x_2_4 - x_1_5\n",
      "x_3_4 - x_1_6\n",
      "x_2_5 - x_1_6\n",
      "x_3_5 - 44\n",
      "x_2_6 - 44\n",
      "x_3_6 + 45\n",
      "----------------------------------------------------------------------\n",
      "Substitution polynomials\n",
      "----------------------------------------------------------------------\n",
      "x_1_3 + 11*x_subs_1 - 8*x_subs_2 + 7*x_subs_3 - 7*x_subs_4 + 7*x_subs_5 - 7*x_subs_6 - 10*x_subs_7\n",
      "x_1_4 + 37*x_subs_1 - 42*x_subs_2 + 42*x_subs_3 - 43*x_subs_4 + 43*x_subs_5 - 43*x_subs_6 + 35*x_subs_7 + 19\n",
      "x_1_5 - 10*x_subs_1 - 45*x_subs_2 + 45*x_subs_3 - 45*x_subs_4 + 44*x_subs_5 - 44*x_subs_6 + 6*x_subs_7 - 33\n",
      "x_1_6 + 32*x_subs_1 + 42*x_subs_2 - 42*x_subs_3 + 42*x_subs_4 - 42*x_subs_5 + 41*x_subs_6 + 18*x_subs_7 - 29\n",
      "y_1 - x_subs_1 + 44\n",
      "y_2 - 11*x_subs_1 + 7*x_subs_2 - 7*x_subs_3 + 7*x_subs_4 - 7*x_subs_5 + 7*x_subs_6 + 10*x_subs_7 + 25\n",
      "y_3 - 48*x_subs_1 + 50*x_subs_2 - 50*x_subs_3 + 50*x_subs_4 - 50*x_subs_5 + 50*x_subs_6 - 25*x_subs_7 - 29\n",
      "----------------------------------------------------------------------\n",
      "Gröbner basis\n",
      "----------------------------------------------------------------------\n",
      "x_subs_1^3 - 46*x_subs_1^2 + 43*x_subs_1 - 8*x_subs_2 + 7*x_subs_3 - 7*x_subs_4 + 7*x_subs_5 - 7*x_subs_6 - 10*x_subs_7 + 20\n",
      "x_subs_2^3 + 37*x_subs_1 - 42*x_subs_2 + 42*x_subs_3 - 43*x_subs_4 + 43*x_subs_5 - 43*x_subs_6 + 35*x_subs_7 - 36\n",
      "x_subs_3^3 - 10*x_subs_1 - 45*x_subs_2 + 45*x_subs_3 - 45*x_subs_4 + 44*x_subs_5 - 44*x_subs_6 + 6*x_subs_7 - 27\n",
      "x_subs_4^3 + 21*x_subs_1 + 50*x_subs_2 - 49*x_subs_3 + 49*x_subs_4 - 49*x_subs_5 + 48*x_subs_6 + 28*x_subs_7 - 29\n",
      "x_subs_5^3 - 37*x_subs_1 + 42*x_subs_2 - 42*x_subs_3 + 43*x_subs_4 - 43*x_subs_5 + 43*x_subs_6 - 35*x_subs_7 + 38\n",
      "x_subs_6^3 + 10*x_subs_1 + 45*x_subs_2 - 45*x_subs_3 + 45*x_subs_4 - 44*x_subs_5 + 44*x_subs_6 - 6*x_subs_7 - 23\n",
      "x_subs_7^3 - 32*x_subs_1 - 42*x_subs_2 + 42*x_subs_3 - 42*x_subs_4 + 42*x_subs_5 - 41*x_subs_6 - 18*x_subs_7 - 17\n"
     ]
    }
   ],
   "source": [
    "polys_lin, polys_subs, gb_subs = gmimc.compute_Groebner_basis(polys)\n",
    "\n",
    "print(70 * \"-\")\n",
    "print(\"Linear polynomials\")\n",
    "print(70 * \"-\")\n",
    "for poly in polys_lin:\n",
    "    print(poly)\n",
    "\n",
    "print(70 * \"-\")\n",
    "print(\"Substitution polynomials\")\n",
    "print(70 * \"-\")\n",
    "for poly in polys_subs:\n",
    "    print(poly)\n",
    "\n",
    "print(70 * \"-\")\n",
    "print(\"Gröbner basis\")\n",
    "print(70 * \"-\")\n",
    "for poly in gb_subs:\n",
    "    print(poly)"
   ]
  },
  {
   "cell_type": "code",
   "execution_count": 11,
   "metadata": {},
   "outputs": [
    {
     "data": {
      "text/plain": [
       "True"
      ]
     },
     "execution_count": 11,
     "metadata": {},
     "output_type": "execute_result"
    }
   ],
   "source": [
    "ideal(polys_lin + polys_subs + gb_subs).basis_is_groebner()"
   ]
  }
 ],
 "metadata": {
  "kernelspec": {
   "display_name": "SageMath 10.4",
   "language": "sage",
   "name": "sagemath"
  },
  "language_info": {
   "codemirror_mode": {
    "name": "ipython",
    "version": 3
   },
   "file_extension": ".py",
   "mimetype": "text/x-python",
   "name": "python",
   "nbconvert_exporter": "python",
   "pygments_lexer": "ipython3",
   "version": "3.10.12"
  }
 },
 "nbformat": 4,
 "nbformat_minor": 2
}
