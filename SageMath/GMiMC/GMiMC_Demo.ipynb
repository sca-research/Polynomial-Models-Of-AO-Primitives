{
 "cells": [
  {
   "cell_type": "markdown",
   "metadata": {},
   "source": [
    "# GMiMC With Multivariate Key Polynomial Model Demonstration"
   ]
  },
  {
   "cell_type": "code",
   "execution_count": 1,
   "metadata": {},
   "outputs": [],
   "source": [
    "load(\"GMiMC.sage\")"
   ]
  },
  {
   "cell_type": "markdown",
   "metadata": {},
   "source": [
    "## Expanding Round Function"
   ]
  },
  {
   "cell_type": "code",
   "execution_count": 2,
   "metadata": {},
   "outputs": [
    {
     "name": "stdout",
     "output_type": "stream",
     "text": [
      "GMiMC Parameters\n",
      "Field: Finite Field of size 101\n",
      "n: 3\n",
      "r: 7\n",
      "Mode: erf\n",
      "Key schedule matrix:\n",
      "[49 50  5]\n",
      "[61 35 37]\n",
      "[33  1 86]\n",
      "Admissible key schedule matrix: False\n",
      "Constants: [96, 51, 92, 66, 51, 98, 64]\n"
     ]
    }
   ],
   "source": [
    "field = GF(101)\n",
    "n = 3\n",
    "r = 7\n",
    "mode = \"erf\"\n",
    "\n",
    "gmimc = GMiMC(field=field, n=n, r=r, mode=mode)"
   ]
  },
  {
   "cell_type": "code",
   "execution_count": 3,
   "metadata": {},
   "outputs": [
    {
     "data": {
      "text/plain": [
       "((93, 64, 17), (79, 44, 37), (1, 39, 69))"
      ]
     },
     "execution_count": 3,
     "metadata": {},
     "output_type": "execute_result"
    }
   ],
   "source": [
    "V = VectorSpace(gmimc.field, gmimc.n)\n",
    "plain = V.random_element()\n",
    "key = V.random_element()\n",
    "cipher = gmimc.encrypt(plain, key)\n",
    "plain, key, cipher"
   ]
  },
  {
   "cell_type": "code",
   "execution_count": 4,
   "metadata": {},
   "outputs": [
    {
     "name": "stdout",
     "output_type": "stream",
     "text": [
      "Plain: (93, 64, 17)\n",
      "Cipher: (1, 39, 69)\n",
      "Order: degrevlex\n",
      "----------------------------------------------------------------------\n",
      "y_1^3 - 39*y_1^2 - x_1_1 + 2*y_1 - 12\n",
      "y_1^3 - 39*y_1^2 - x_2_1 + 2*y_1 + 42\n",
      "-x_3_1 - 8\n",
      "----------------------------------------------------------------------\n",
      "x_1_1^3 + 3*x_1_1^2*y_2 + 3*x_1_1*y_2^2 + y_2^3 - 49*x_1_1^2 + 3*x_1_1*y_2 - 49*y_2^2 + 26*x_1_1 + x_2_1 - x_1_2 + 26*y_2 + 38\n",
      "x_1_1^3 + 3*x_1_1^2*y_2 + 3*x_1_1*y_2^2 + y_2^3 - 49*x_1_1^2 + 3*x_1_1*y_2 - 49*y_2^2 + 26*x_1_1 + x_3_1 - x_2_2 + 26*y_2 + 38\n",
      "x_1_1 - x_3_2\n",
      "----------------------------------------------------------------------\n",
      "x_1_2^3 + 3*x_1_2^2*y_3 + 3*x_1_2*y_3^2 + y_3^3 - 27*x_1_2^2 + 47*x_1_2*y_3 - 27*y_3^2 + 41*x_1_2 + x_2_2 - x_1_3 + 41*y_3 - 22\n",
      "x_1_2^3 + 3*x_1_2^2*y_3 + 3*x_1_2*y_3^2 + y_3^3 - 27*x_1_2^2 + 47*x_1_2*y_3 - 27*y_3^2 + 41*x_1_2 + x_3_2 - x_2_3 + 41*y_3 - 22\n",
      "x_1_2 - x_3_3\n",
      "----------------------------------------------------------------------\n",
      "x_1_3^3 + 46*x_1_3^2*y_1 + 32*x_1_3*y_1^2 - 16*y_1^3 + 49*x_1_3^2*y_2 - 46*x_1_3*y_1*y_2 - 16*y_1^2*y_2 + 26*x_1_3*y_2^2 - 39*y_1*y_2^2 - 38*y_2^3 + 15*x_1_3^2*y_3 - 45*x_1_3*y_1*y_3 - 42*y_1^2*y_3 - 15*x_1_3*y_2*y_3 - 28*y_1*y_2*y_3 + 29*y_2^2*y_3 - 26*x_1_3*y_3^2 + 39*y_1*y_3^2 + 13*y_2*y_3^2 + 24*y_3^3 - 4*x_1_3^2 + 12*x_1_3*y_1 - 9*y_1^2 + 4*x_1_3*y_2 - 6*y_1*y_2 - y_2^2 - 40*x_1_3*y_3 - 41*y_1*y_3 + 20*y_2*y_3 + y_3^2 + 39*x_1_3 + x_2_3 - x_1_4 - 8*y_1 + 31*y_2 - 7*y_3 + 50\n",
      "x_1_3^3 + 46*x_1_3^2*y_1 + 32*x_1_3*y_1^2 - 16*y_1^3 + 49*x_1_3^2*y_2 - 46*x_1_3*y_1*y_2 - 16*y_1^2*y_2 + 26*x_1_3*y_2^2 - 39*y_1*y_2^2 - 38*y_2^3 + 15*x_1_3^2*y_3 - 45*x_1_3*y_1*y_3 - 42*y_1^2*y_3 - 15*x_1_3*y_2*y_3 - 28*y_1*y_2*y_3 + 29*y_2^2*y_3 - 26*x_1_3*y_3^2 + 39*y_1*y_3^2 + 13*y_2*y_3^2 + 24*y_3^3 - 4*x_1_3^2 + 12*x_1_3*y_1 - 9*y_1^2 + 4*x_1_3*y_2 - 6*y_1*y_2 - y_2^2 - 40*x_1_3*y_3 - 41*y_1*y_3 + 20*y_2*y_3 + y_3^2 + 39*x_1_3 + x_3_3 - x_2_4 - 8*y_1 + 31*y_2 - 7*y_3 + 50\n",
      "x_1_3 - x_3_4\n",
      "----------------------------------------------------------------------\n",
      "x_1_4^3 - 19*x_1_4^2*y_1 - 48*x_1_4*y_1^2 + 34*y_1^3 + 4*x_1_4^2*y_2 - 17*x_1_4*y_1*y_2 + 37*y_1^2*y_2 + 39*x_1_4*y_2^2 - 45*y_1*y_2^2 - 50*y_2^3 + 10*x_1_4^2*y_3 + 8*x_1_4*y_1*y_3 + 42*y_1^2*y_3 - 7*x_1_4*y_2*y_3 - 23*y_1*y_2*y_3 + 29*y_2^2*y_3 - 34*x_1_4*y_3^2 + 47*y_1*y_3^2 + 22*y_2*y_3^2 - 49*y_3^3 - 49*x_1_4^2 - 19*x_1_4*y_1 - 24*y_1^2 + 4*x_1_4*y_2 + 42*y_1*y_2 - 31*y_2^2 + 10*x_1_4*y_3 + 4*y_1*y_3 + 47*y_2*y_3 - 17*y_3^2 + 26*x_1_4 + x_2_4 - x_1_5 - 30*y_1 + y_2 - 48*y_3 + 38\n",
      "x_1_4^3 - 19*x_1_4^2*y_1 - 48*x_1_4*y_1^2 + 34*y_1^3 + 4*x_1_4^2*y_2 - 17*x_1_4*y_1*y_2 + 37*y_1^2*y_2 + 39*x_1_4*y_2^2 - 45*y_1*y_2^2 - 50*y_2^3 + 10*x_1_4^2*y_3 + 8*x_1_4*y_1*y_3 + 42*y_1^2*y_3 - 7*x_1_4*y_2*y_3 - 23*y_1*y_2*y_3 + 29*y_2^2*y_3 - 34*x_1_4*y_3^2 + 47*y_1*y_3^2 + 22*y_2*y_3^2 - 49*y_3^3 - 49*x_1_4^2 - 19*x_1_4*y_1 - 24*y_1^2 + 4*x_1_4*y_2 + 42*y_1*y_2 - 31*y_2^2 + 10*x_1_4*y_3 + 4*y_1*y_3 + 47*y_2*y_3 - 17*y_3^2 + 26*x_1_4 + x_3_4 - x_2_5 - 30*y_1 + y_2 - 48*y_3 + 38\n",
      "x_1_4 - x_3_5\n",
      "----------------------------------------------------------------------\n",
      "x_1_5^3 - 2*x_1_5^2*y_1 + 35*x_1_5*y_1^2 - 19*y_1^3 + 3*x_1_5^2*y_2 - 4*x_1_5*y_1*y_2 + 35*y_1^2*y_2 + 3*x_1_5*y_2^2 - 2*y_1*y_2^2 + y_2^3 - 45*x_1_5^2*y_3 - 41*x_1_5*y_1*y_3 - 20*y_1^2*y_3 + 11*x_1_5*y_2*y_3 - 41*y_1*y_2*y_3 - 45*y_2^2*y_3 - 32*x_1_5*y_3^2 - 46*y_1*y_3^2 - 32*y_2*y_3^2 - 42*y_3^3 - 9*x_1_5^2 + 12*x_1_5*y_1 - 4*y_1^2 - 18*x_1_5*y_2 + 12*y_1*y_2 - 9*y_2^2 - 33*x_1_5*y_3 + 22*y_1*y_3 - 33*y_2*y_3 - 5*y_3^2 + 27*x_1_5 + x_2_5 - x_1_6 - 18*y_1 + 27*y_2 - y_3 - 27\n",
      "x_1_5^3 - 2*x_1_5^2*y_1 + 35*x_1_5*y_1^2 - 19*y_1^3 + 3*x_1_5^2*y_2 - 4*x_1_5*y_1*y_2 + 35*y_1^2*y_2 + 3*x_1_5*y_2^2 - 2*y_1*y_2^2 + y_2^3 - 45*x_1_5^2*y_3 - 41*x_1_5*y_1*y_3 - 20*y_1^2*y_3 + 11*x_1_5*y_2*y_3 - 41*y_1*y_2*y_3 - 45*y_2^2*y_3 - 32*x_1_5*y_3^2 - 46*y_1*y_3^2 - 32*y_2*y_3^2 - 42*y_3^3 - 9*x_1_5^2 + 12*x_1_5*y_1 - 4*y_1^2 - 18*x_1_5*y_2 + 12*y_1*y_2 - 9*y_2^2 - 33*x_1_5*y_3 + 22*y_1*y_3 - 33*y_2*y_3 - 5*y_3^2 + 27*x_1_5 + x_3_5 - x_2_6 - 18*y_1 + 27*y_2 - y_3 - 27\n",
      "x_1_5 - x_3_6\n",
      "----------------------------------------------------------------------\n",
      "x_1_6^3 - 19*x_1_6^2*y_1 - 48*x_1_6*y_1^2 + 34*y_1^3 - 10*x_1_6^2*y_2 - 8*x_1_6*y_1*y_2 - 42*y_1^2*y_2 - 34*x_1_6*y_2^2 + 47*y_1*y_2^2 + 49*y_2^3 - 10*x_1_6^2 - 8*x_1_6*y_1 - 42*y_1^2 + 33*x_1_6*y_2 - 7*y_1*y_2 + 46*y_2^2 - 34*x_1_6 + x_2_6 + 47*y_1 + 46*y_2 + 48\n",
      "x_1_6^3 - 19*x_1_6^2*y_1 - 48*x_1_6*y_1^2 + 34*y_1^3 - 10*x_1_6^2*y_2 - 8*x_1_6*y_1*y_2 - 42*y_1^2*y_2 - 34*x_1_6*y_2^2 + 47*y_1*y_2^2 + 49*y_2^3 - 10*x_1_6^2 - 8*x_1_6*y_1 - 42*y_1^2 + 33*x_1_6*y_2 - 7*y_1*y_2 + 46*y_2^2 - 34*x_1_6 + x_3_6 + 47*y_1 + 46*y_2 + 10\n",
      "x_1_6 + 32\n",
      "----------------------------------------------------------------------\n"
     ]
    }
   ],
   "source": [
    "polys = gmimc.generate_polynomials(plain=plain, cipher=cipher)\n",
    "\n",
    "print(70 * \"-\")\n",
    "\n",
    "for i in range(0, gmimc.r):\n",
    "    for j in range(0, gmimc.n):\n",
    "        print(polys[i * gmimc.n + j])\n",
    "    print(70 * \"-\")"
   ]
  },
  {
   "cell_type": "code",
   "execution_count": 5,
   "metadata": {},
   "outputs": [
    {
     "name": "stdout",
     "output_type": "stream",
     "text": [
      "Ideal of leading terms equal to (x_subs_1^3, ..., x_subs_n^3): True\n",
      "All terms of substituted Groebner basis contained in (x_subs_1, ..., x_subs_n): True\n",
      "----------------------------------------------------------------------\n",
      "Linear polynomials\n",
      "----------------------------------------------------------------------\n",
      "x_1_1 - x_3_3 + x_3_4 - x_3_5 + x_3_6 + 28\n",
      "x_2_1 - x_3_3 + x_3_4 - x_3_5 + x_3_6 - 26\n",
      "x_3_1 + 8\n",
      "x_1_2 - x_3_3\n",
      "x_2_2 - x_3_4 + x_3_5 - x_3_6 + 34\n",
      "x_3_2 - x_3_3 + x_3_4 - x_3_5 + x_3_6 + 28\n",
      "x_1_3 - x_3_4\n",
      "x_2_3 - x_3_3 + x_3_4 - 2*x_3_5 + 2*x_3_6 - 6\n",
      "x_1_4 - x_3_5\n",
      "x_2_4 - x_3_4 + x_3_5 - 2*x_3_6 + 6\n",
      "x_1_5 - x_3_6\n",
      "x_2_5 - x_3_5 + x_3_6 - 6\n",
      "x_1_6 + 32\n",
      "x_2_6 - x_3_6 + 38\n",
      "----------------------------------------------------------------------\n",
      "Substitution polynomials\n",
      "----------------------------------------------------------------------\n",
      "x_3_3 - 48*x_subs_1 - 40*x_subs_2 + 39*x_subs_3 - 40*x_subs_4 + 40*x_subs_5 - 40*x_subs_6 - 2*x_subs_7 - 41\n",
      "x_3_4 + 17*x_subs_1 + 2*x_subs_2 - 2*x_subs_3 + x_subs_4 - 2*x_subs_5 + 2*x_subs_6 - 25*x_subs_7 - 46\n",
      "x_3_5 - 14*x_subs_1 + 35*x_subs_2 - 35*x_subs_3 + 35*x_subs_4 - 36*x_subs_5 + 35*x_subs_6 - 34*x_subs_7 + 34\n",
      "x_3_6 + 34*x_subs_1 - 6*x_subs_2 + 6*x_subs_3 - 6*x_subs_4 + 6*x_subs_5 - 7*x_subs_6 - 41*x_subs_7 + 26\n",
      "y_1 - x_subs_1 - 5\n",
      "y_2 + 12*x_subs_1 - 30*x_subs_7 + 10\n",
      "y_3 + 48*x_subs_1 + 40*x_subs_2 - 40*x_subs_3 + 40*x_subs_4 - 40*x_subs_5 + 40*x_subs_6 + 2*x_subs_7 + 32\n",
      "----------------------------------------------------------------------\n",
      "Gröbner basis\n",
      "----------------------------------------------------------------------\n",
      "x_subs_1^3 - 24*x_subs_1^2 - 22*x_subs_1 - x_subs_2 + 30*x_subs_7 - 3\n",
      "x_subs_2^3 - 36*x_subs_1 - 39*x_subs_2 + 39*x_subs_3 - 40*x_subs_4 + 40*x_subs_5 - 40*x_subs_6 - 32*x_subs_7 - 28\n",
      "x_subs_3^3 - 48*x_subs_1 + 41*x_subs_2 - 41*x_subs_3 + 41*x_subs_4 - 42*x_subs_5 + 42*x_subs_6 + 7*x_subs_7 - 26\n",
      "x_subs_4^3 + 46*x_subs_1 - 5*x_subs_2 + 6*x_subs_3 - 6*x_subs_4 + 6*x_subs_5 - 7*x_subs_6 + 30*x_subs_7 + 19\n",
      "x_subs_5^3 + 36*x_subs_1 + 39*x_subs_2 - 39*x_subs_3 + 40*x_subs_4 - 40*x_subs_5 + 40*x_subs_6 + 32*x_subs_7 + 48\n",
      "x_subs_6^3 + 48*x_subs_1 - 41*x_subs_2 + 41*x_subs_3 - 41*x_subs_4 + 42*x_subs_5 - 42*x_subs_6 - 7*x_subs_7 + 30\n",
      "x_subs_7^3 - 34*x_subs_1 + 6*x_subs_2 - 6*x_subs_3 + 6*x_subs_4 - 6*x_subs_5 + 7*x_subs_6 + 41*x_subs_7 + 36\n"
     ]
    }
   ],
   "source": [
    "polys_lin, polys_subs, gb_subs = gmimc.compute_Groebner_basis(polys)\n",
    "\n",
    "print(70 * \"-\")\n",
    "print(\"Linear polynomials\")\n",
    "print(70 * \"-\")\n",
    "for poly in polys_lin:\n",
    "    print(poly)\n",
    "\n",
    "print(70 * \"-\")\n",
    "print(\"Substitution polynomials\")\n",
    "print(70 * \"-\")\n",
    "for poly in polys_subs:\n",
    "    print(poly)\n",
    "\n",
    "print(70 * \"-\")\n",
    "print(\"Gröbner basis\")\n",
    "print(70 * \"-\")\n",
    "for poly in gb_subs:\n",
    "    print(poly)"
   ]
  },
  {
   "cell_type": "code",
   "execution_count": 6,
   "metadata": {},
   "outputs": [
    {
     "data": {
      "text/plain": [
       "True"
      ]
     },
     "execution_count": 6,
     "metadata": {},
     "output_type": "execute_result"
    }
   ],
   "source": [
    "ideal(polys_lin + polys_subs + gb_subs).basis_is_groebner()"
   ]
  },
  {
   "cell_type": "markdown",
   "metadata": {},
   "source": [
    "## Contracting Round Function"
   ]
  },
  {
   "cell_type": "code",
   "execution_count": 7,
   "metadata": {},
   "outputs": [
    {
     "name": "stdout",
     "output_type": "stream",
     "text": [
      "GMiMC Parameters\n",
      "Field: Finite Field of size 101\n",
      "n: 3\n",
      "r: 7\n",
      "Mode: crf\n",
      "Key schedule matrix:\n",
      "[95 65 95]\n",
      "[33  8 34]\n",
      "[29 47 36]\n",
      "Admissible key schedule matrix: True\n",
      "Constants: [7, 70, 33, 8, 89, 97, 80]\n"
     ]
    }
   ],
   "source": [
    "field = GF(101)\n",
    "n = 3\n",
    "r = 7\n",
    "mode = \"crf\"\n",
    "\n",
    "gmimc = GMiMC(field=field, n=n, r=r, mode=mode)"
   ]
  },
  {
   "cell_type": "code",
   "execution_count": 8,
   "metadata": {},
   "outputs": [
    {
     "data": {
      "text/plain": [
       "((32, 85, 22), (78, 2, 16), (19, 28, 97))"
      ]
     },
     "execution_count": 8,
     "metadata": {},
     "output_type": "execute_result"
    }
   ],
   "source": [
    "V = VectorSpace(gmimc.field, gmimc.n)\n",
    "plain = V.random_element()\n",
    "key = V.random_element()\n",
    "cipher = gmimc.encrypt(plain, key)\n",
    "plain, key, cipher"
   ]
  },
  {
   "cell_type": "code",
   "execution_count": 9,
   "metadata": {},
   "outputs": [
    {
     "name": "stdout",
     "output_type": "stream",
     "text": [
      "Plain: (32, 85, 22)\n",
      "Cipher: (19, 28, 97)\n",
      "Order: degrevlex\n",
      "----------------------------------------------------------------------\n",
      "-x_1_1 - 16\n",
      "-x_2_1 + 22\n",
      "y_1^3 + 39*y_1^2 - x_3_1 + 2*y_1 + 7\n",
      "----------------------------------------------------------------------\n",
      "x_2_1 - x_1_2\n",
      "x_3_1 - x_2_2\n",
      "x_2_1^3 + 3*x_2_1^2*x_3_1 + 3*x_2_1*x_3_1^2 + x_3_1^3 + 3*x_2_1^2*y_2 + 6*x_2_1*x_3_1*y_2 + 3*x_3_1^2*y_2 + 3*x_2_1*y_2^2 + 3*x_3_1*y_2^2 + y_2^3 + 8*x_2_1^2 + 16*x_2_1*x_3_1 + 8*x_3_1^2 + 16*x_2_1*y_2 + 16*x_3_1*y_2 + 8*y_2^2 + x_1_1 - 46*x_2_1 - 46*x_3_1 - x_3_2 - 46*y_2 + 4\n",
      "----------------------------------------------------------------------\n",
      "x_2_2 - x_1_3\n",
      "x_3_2 - x_2_3\n",
      "x_2_2^3 + 3*x_2_2^2*x_3_2 + 3*x_2_2*x_3_2^2 + x_3_2^3 + 3*x_2_2^2*y_3 + 6*x_2_2*x_3_2*y_3 + 3*x_3_2^2*y_3 + 3*x_2_2*y_3^2 + 3*x_3_2*y_3^2 + y_3^3 - 2*x_2_2^2 - 4*x_2_2*x_3_2 - 2*x_3_2^2 - 4*x_2_2*y_3 - 4*x_3_2*y_3 - 2*y_3^2 + x_1_2 + 35*x_2_2 + 35*x_3_2 - x_3_3 + 35*y_3 - 19\n",
      "----------------------------------------------------------------------\n",
      "x_2_3 - x_1_4\n",
      "x_3_3 - x_2_4\n",
      "x_2_3^3 + 3*x_2_3^2*x_3_3 + 3*x_2_3*x_3_3^2 + x_3_3^3 - 18*x_2_3^2*y_1 - 36*x_2_3*x_3_3*y_1 - 18*x_3_3^2*y_1 + 7*x_2_3*y_1^2 + 7*x_3_3*y_1^2 - 14*y_1^3 - 7*x_2_3^2*y_2 - 14*x_2_3*x_3_3*y_2 - 7*x_3_3^2*y_2 - 17*x_2_3*y_1*y_2 - 17*x_3_3*y_1*y_2 - 50*y_1^2*y_2 + 50*x_2_3*y_2^2 + 50*x_3_3*y_2^2 + 3*y_1*y_2^2 + 6*y_2^3 - 18*x_2_3^2*y_3 - 36*x_2_3*x_3_3*y_3 - 18*x_3_3^2*y_3 + 14*x_2_3*y_1*y_3 + 14*x_3_3*y_1*y_3 - 42*y_1^2*y_3 - 17*x_2_3*y_2*y_3 - 17*x_3_3*y_2*y_3 + y_1*y_2*y_3 + 3*y_2^2*y_3 + 7*x_2_3*y_3^2 + 7*x_3_3*y_3^2 - 42*y_1*y_3^2 - 50*y_2*y_3^2 - 14*y_3^3 + 24*x_2_3^2 + 48*x_2_3*x_3_3 + 24*x_3_3^2 + 15*x_2_3*y_1 + 15*x_3_3*y_1 - 45*y_1^2 - 11*x_2_3*y_2 - 11*x_3_3*y_2 - 35*y_1*y_2 - 4*y_2^2 + 15*x_2_3*y_3 + 15*x_3_3*y_3 + 11*y_1*y_3 - 35*y_2*y_3 - 45*y_3^2 + x_1_3 - 10*x_2_3 - 10*x_3_3 - x_3_4 - 41*y_1 - 44*y_2 - 41*y_3 + 7\n",
      "----------------------------------------------------------------------\n",
      "x_2_4 - x_1_5\n",
      "x_3_4 - x_2_5\n",
      "x_2_4^3 + 3*x_2_4^2*x_3_4 + 3*x_2_4*x_3_4^2 + x_3_4^3 - 2*x_2_4^2*y_1 - 4*x_2_4*x_3_4*y_1 - 2*x_3_4^2*y_1 + 35*x_2_4*y_1^2 + 35*x_3_4*y_1^2 - 19*y_1^3 + 24*x_2_4^2*y_2 + 48*x_2_4*x_3_4*y_2 + 24*x_3_4^2*y_2 - 32*x_2_4*y_1*y_2 - 32*x_3_4*y_1*y_2 - 23*y_1^2*y_2 - 10*x_2_4*y_2^2 - 10*x_3_4*y_2^2 - 27*y_1*y_2^2 + 7*y_2^3 + x_2_4^2*y_3 + 2*x_2_4*x_3_4*y_3 + x_3_4^2*y_3 - 35*x_2_4*y_1*y_3 - 35*x_3_4*y_1*y_3 - 22*y_1^2*y_3 + 16*x_2_4*y_2*y_3 + 16*x_3_4*y_2*y_3 + 23*y_1*y_2*y_3 - 37*y_2^2*y_3 + 34*x_2_4*y_3^2 + 34*x_3_4*y_3^2 + 11*y_1*y_3^2 - 31*y_2*y_3^2 + 15*y_3^3 - 36*x_2_4^2 + 29*x_2_4*x_3_4 - 36*x_3_4^2 + 48*x_2_4*y_1 + 48*x_3_4*y_1 - 16*y_1^2 + 30*x_2_4*y_2 + 30*x_3_4*y_2 - 20*y_1*y_2 + 19*y_2^2 - 24*x_2_4*y_3 - 24*x_3_4*y_3 + 16*y_1*y_3 + 10*y_2*y_3 - 4*y_3^2 + x_1_4 + 28*x_2_4 + 28*x_3_4 - x_3_5 + 15*y_1 + 22*y_2 + 43*y_3 - 11\n",
      "----------------------------------------------------------------------\n",
      "x_2_5 - x_1_6\n",
      "x_3_5 - x_2_6\n",
      "x_2_5^3 + 3*x_2_5^2*x_3_5 + 3*x_2_5*x_3_5^2 + x_3_5^3 - 14*x_2_5^2*y_1 - 28*x_2_5*x_3_5*y_1 - 14*x_3_5^2*y_1 - 2*x_2_5*y_1^2 - 2*x_3_5*y_1^2 + 48*y_1^3 + 40*x_2_5^2*y_2 - 21*x_2_5*x_3_5*y_2 + 40*x_3_5^2*y_2 - 3*x_2_5*y_1*y_2 - 3*x_3_5*y_1*y_2 + 7*y_1^2*y_2 - 39*x_2_5*y_2^2 - 39*x_3_5*y_2^2 - 20*y_1*y_2^2 - 5*y_2^3 + 7*x_2_5^2*y_3 + 14*x_2_5*x_3_5*y_3 + 7*x_3_5^2*y_3 + 2*x_2_5*y_1*y_3 + 2*x_3_5*y_1*y_3 + 29*y_1^2*y_3 - 49*x_2_5*y_2*y_3 - 49*x_3_5*y_2*y_3 - 7*y_1*y_2*y_3 + 10*y_2^2*y_3 + 50*x_2_5*y_3^2 + 50*x_3_5*y_3^2 + 36*y_1*y_3^2 + 27*y_2*y_3^2 - 6*y_3^3 - 12*x_2_5^2 - 24*x_2_5*x_3_5 - 12*x_3_5^2 + 11*x_2_5*y_1 + 11*x_3_5*y_1 + 8*y_1^2 - 17*x_2_5*y_2 - 17*x_3_5*y_2 + 12*y_1*y_2 - 46*y_2^2 + 45*x_2_5*y_3 + 45*x_3_5*y_3 - 8*y_1*y_3 - 6*y_2*y_3 + 2*y_3^2 + x_1_5 + 48*x_2_5 + 48*x_3_5 - x_3_6 - 22*y_1 + 34*y_2 + 11*y_3 + 37\n",
      "----------------------------------------------------------------------\n",
      "x_2_6 - 19\n",
      "x_3_6 - 28\n",
      "x_2_6^3 + 3*x_2_6^2*x_3_6 + 3*x_2_6*x_3_6^2 + x_3_6^3 - 39*x_2_6^2*y_1 + 23*x_2_6*x_3_6*y_1 - 39*x_3_6^2*y_1 + 2*x_2_6*y_1^2 + 2*x_3_6*y_1^2 + 25*y_1^3 + 49*x_2_6^2*y_2 - 3*x_2_6*x_3_6*y_2 + 49*x_3_6^2*y_2 + 39*x_2_6*y_1*y_2 + 39*x_3_6*y_1*y_2 - y_1^2*y_2 + 26*x_2_6*y_2^2 + 26*x_3_6*y_2^2 - 35*y_1*y_2^2 - 38*y_2^3 + 30*x_2_6^2*y_3 - 41*x_2_6*x_3_6*y_3 + 30*x_3_6^2*y_3 + 28*x_2_6*y_1*y_3 + 28*x_3_6*y_1*y_3 + 20*y_1^2*y_3 - 30*x_2_6*y_2*y_3 - 30*x_3_6*y_2*y_3 - 14*y_1*y_2*y_3 - 43*y_2^2*y_3 - 3*x_2_6*y_3^2 - 3*x_3_6*y_3^2 + 39*y_1*y_3^2 - 49*y_2*y_3^2 - 10*y_3^3 + 38*x_2_6^2 - 25*x_2_6*x_3_6 + 38*x_3_6^2 + 22*x_2_6*y_1 + 22*x_3_6*y_1 - 42*y_1^2 - 38*x_2_6*y_2 - 38*x_3_6*y_2 - 11*y_1*y_2 - 41*y_2^2 - 48*x_2_6*y_3 - 48*x_3_6*y_3 + 18*y_1*y_3 + 24*y_2*y_3 - 38*y_3^2 + x_1_6 + 10*x_2_6 + 10*x_3_6 - 29*y_1 - 5*y_2 - y_3 + 35\n",
      "----------------------------------------------------------------------\n"
     ]
    }
   ],
   "source": [
    "polys = gmimc.generate_polynomials(plain=plain, cipher=cipher)\n",
    "\n",
    "print(70 * \"-\")\n",
    "\n",
    "for i in range(0, gmimc.r):\n",
    "    for j in range(0, gmimc.n):\n",
    "        print(polys[i * gmimc.n + j])\n",
    "    print(70 * \"-\")"
   ]
  },
  {
   "cell_type": "code",
   "execution_count": 10,
   "metadata": {},
   "outputs": [
    {
     "name": "stdout",
     "output_type": "stream",
     "text": [
      "Ideal of leading terms equal to (x_subs_1^3, ..., x_subs_n^3): True\n",
      "All terms of substituted Groebner basis contained in (x_subs_1, ..., x_subs_n): True\n",
      "----------------------------------------------------------------------\n",
      "Linear polynomials\n",
      "----------------------------------------------------------------------\n",
      "x_1_1 + 16\n",
      "x_2_1 - 22\n",
      "x_3_1 - x_1_3\n",
      "x_1_2 - 22\n",
      "x_2_2 - x_1_3\n",
      "x_3_2 - x_1_4\n",
      "x_2_3 - x_1_4\n",
      "x_3_3 - x_1_5\n",
      "x_2_4 - x_1_5\n",
      "x_3_4 - x_1_6\n",
      "x_2_5 - x_1_6\n",
      "x_3_5 - 19\n",
      "x_2_6 - 19\n",
      "x_3_6 - 28\n",
      "----------------------------------------------------------------------\n",
      "Substitution polynomials\n",
      "----------------------------------------------------------------------\n",
      "x_1_3 - 36*x_subs_1 + 6*x_subs_2 - 7*x_subs_3 + 7*x_subs_4 - 7*x_subs_5 + 7*x_subs_6 - 47*x_subs_7 - 1\n",
      "x_1_4 - 15*x_subs_1 - 41*x_subs_2 + 41*x_subs_3 - 42*x_subs_4 + 42*x_subs_5 - 42*x_subs_6 - 31*x_subs_7 - 48\n",
      "x_1_5 - 5*x_subs_1 - x_subs_2 + x_subs_3 - x_subs_4 - 31*x_subs_7 - 1\n",
      "x_1_6 + 36*x_subs_1 - 22*x_subs_2 + 22*x_subs_3 - 22*x_subs_4 + 22*x_subs_5 - 23*x_subs_6 + 33*x_subs_7 - 37\n",
      "y_1 - x_subs_1 + 7\n",
      "y_2 + 36*x_subs_1 - 7*x_subs_2 + 7*x_subs_3 - 7*x_subs_4 + 7*x_subs_5 - 7*x_subs_6 + 47*x_subs_7 - 8\n",
      "y_3 - 50*x_subs_1 + 35*x_subs_2 - 35*x_subs_3 + 35*x_subs_4 - 35*x_subs_5 + 35*x_subs_6 - 23*x_subs_7 - 19\n",
      "----------------------------------------------------------------------\n",
      "Gröbner basis\n",
      "----------------------------------------------------------------------\n",
      "x_subs_1^3 + 18*x_subs_1^2 - 29*x_subs_1 + 6*x_subs_2 - 7*x_subs_3 + 7*x_subs_4 - 7*x_subs_5 + 7*x_subs_6 - 47*x_subs_7 + 45\n",
      "x_subs_2^3 - 15*x_subs_1 - 41*x_subs_2 + 41*x_subs_3 - 42*x_subs_4 + 42*x_subs_5 - 42*x_subs_6 - 31*x_subs_7 + 37\n",
      "x_subs_3^3 - 5*x_subs_1 - x_subs_2 + x_subs_3 - x_subs_4 - 31*x_subs_7 + 21\n",
      "x_subs_4^3 - 29*x_subs_1 - 28*x_subs_2 + 29*x_subs_3 - 29*x_subs_4 + 29*x_subs_5 - 30*x_subs_6 - 21*x_subs_7 - 36\n",
      "x_subs_5^3 + 15*x_subs_1 + 41*x_subs_2 - 41*x_subs_3 + 42*x_subs_4 - 42*x_subs_5 + 42*x_subs_6 + 31*x_subs_7 + 29\n",
      "x_subs_6^3 + 5*x_subs_1 + x_subs_2 - x_subs_3 + x_subs_4 + 31*x_subs_7 - 27\n",
      "x_subs_7^3 - 36*x_subs_1 + 22*x_subs_2 - 22*x_subs_3 + 22*x_subs_4 - 22*x_subs_5 + 23*x_subs_6 - 33*x_subs_7 + 41\n"
     ]
    }
   ],
   "source": [
    "polys_lin, polys_subs, gb_subs = gmimc.compute_Groebner_basis(polys)\n",
    "\n",
    "print(70 * \"-\")\n",
    "print(\"Linear polynomials\")\n",
    "print(70 * \"-\")\n",
    "for poly in polys_lin:\n",
    "    print(poly)\n",
    "\n",
    "print(70 * \"-\")\n",
    "print(\"Substitution polynomials\")\n",
    "print(70 * \"-\")\n",
    "for poly in polys_subs:\n",
    "    print(poly)\n",
    "\n",
    "print(70 * \"-\")\n",
    "print(\"Gröbner basis\")\n",
    "print(70 * \"-\")\n",
    "for poly in gb_subs:\n",
    "    print(poly)"
   ]
  },
  {
   "cell_type": "code",
   "execution_count": 11,
   "metadata": {},
   "outputs": [
    {
     "data": {
      "text/plain": [
       "True"
      ]
     },
     "execution_count": 11,
     "metadata": {},
     "output_type": "execute_result"
    }
   ],
   "source": [
    "ideal(polys_lin + polys_subs + gb_subs).basis_is_groebner()"
   ]
  }
 ],
 "metadata": {
  "kernelspec": {
   "display_name": "SageMath 10.6",
   "language": "sage",
   "name": "sagemath"
  },
  "language_info": {
   "codemirror_mode": {
    "name": "ipython",
    "version": 3
   },
   "file_extension": ".py",
   "mimetype": "text/x-python",
   "name": "python",
   "nbconvert_exporter": "python",
   "pygments_lexer": "ipython3",
   "version": "3.12.5"
  }
 },
 "nbformat": 4,
 "nbformat_minor": 2
}
