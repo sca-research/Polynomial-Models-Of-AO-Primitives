{
 "cells": [
  {
   "cell_type": "markdown",
   "metadata": {},
   "source": [
    "# Ciminion2 Polynomial Model Demonstration\n",
    "Usage example of the Ciminion_2 polynomial model."
   ]
  },
  {
   "cell_type": "code",
   "execution_count": 1,
   "metadata": {},
   "outputs": [
    {
     "name": "stdout",
     "output_type": "stream",
     "text": [
      "\r"
     ]
    },
    {
     "data": {
      "text/plain": [
       "generate_Ciminion_2_polynomials (generic function with 1 method)"
      ]
     },
     "metadata": {},
     "output_type": "display_data"
    }
   ],
   "source": [
    "using Oscar\n",
    "include(\"Ciminion_2.jl\")\n",
    "include(\"Ciminion_2_polynomial_model.jl\")"
   ]
  },
  {
   "cell_type": "markdown",
   "metadata": {},
   "source": [
    "## Ciminion2 Instance"
   ]
  },
  {
   "cell_type": "code",
   "execution_count": 2,
   "metadata": {},
   "outputs": [
    {
     "name": "stdout",
     "output_type": "stream",
     "text": [
      "Ciminion parameters\n",
      "Field: Prime field of characteristic 10007\n",
      "Rounds_C: 3\n",
      "Rounds_E: 3\n",
      "Constants_C: [6130 2318 4937; 1427 7078 5005; 1602 1151 8506; 4368 8330 5867]\n",
      "Constants_E: [5255 6676 5726; 7388 5660 507; 8110 9 5962; 5361 4875 2989]\n"
     ]
    }
   ],
   "source": [
    "K = GF(10007)\n",
    "rounds_C = 3\n",
    "rounds_E = 3\n",
    "\n",
    "ciminion_2 = Ciminion_2_constructor(field=K, \n",
    "                                    rounds_C=rounds_C, \n",
    "                                    rounds_E=rounds_E);"
   ]
  },
  {
   "cell_type": "code",
   "execution_count": 3,
   "metadata": {},
   "outputs": [
    {
     "data": {
      "text/html": [
       "[8477; 1860]"
      ],
      "text/latex": [
       "\\begin{array}{c}\n",
       "8477 \\\\\n",
       "1860\n",
       "\\end{array}"
      ],
      "text/plain": [
       "[8477]\n",
       "[1860]"
      ]
     },
     "metadata": {},
     "output_type": "display_data"
    }
   ],
   "source": [
    "plain = zero_matrix(K, 2, 1)\n",
    "plain[1, 1] = rand(K)\n",
    "plain[2, 1] = rand(K)\n",
    "plain"
   ]
  },
  {
   "cell_type": "code",
   "execution_count": 4,
   "metadata": {},
   "outputs": [
    {
     "data": {
      "text/html": [
       "[6908; 9793]"
      ],
      "text/latex": [
       "\\begin{array}{c}\n",
       "6908 \\\\\n",
       "9793\n",
       "\\end{array}"
      ],
      "text/plain": [
       "[6908]\n",
       "[9793]"
      ]
     },
     "metadata": {},
     "output_type": "display_data"
    }
   ],
   "source": [
    "key = zero_matrix(K, 2, 1)\n",
    "key[1, 1] = rand(K)\n",
    "key[2, 1] = rand(K)\n",
    "key"
   ]
  },
  {
   "cell_type": "code",
   "execution_count": 5,
   "metadata": {},
   "outputs": [
    {
     "data": {
      "text/html": [
       "4305"
      ],
      "text/latex": [
       "4305"
      ],
      "text/plain": [
       "4305"
      ]
     },
     "metadata": {},
     "output_type": "display_data"
    }
   ],
   "source": [
    "nonce = rand(K)\n",
    "nonce"
   ]
  },
  {
   "cell_type": "code",
   "execution_count": 6,
   "metadata": {},
   "outputs": [
    {
     "data": {
      "text/html": [
       "[7437; 5786]"
      ],
      "text/latex": [
       "\\begin{array}{c}\n",
       "7437 \\\\\n",
       "5786\n",
       "\\end{array}"
      ],
      "text/plain": [
       "[7437]\n",
       "[5786]"
      ]
     },
     "metadata": {},
     "output_type": "display_data"
    }
   ],
   "source": [
    "cipher = encrypt(plain, \n",
    "                 key, \n",
    "                 nonce, \n",
    "                 ciminion_2)"
   ]
  },
  {
   "cell_type": "code",
   "execution_count": 7,
   "metadata": {},
   "outputs": [
    {
     "data": {
      "text/html": [
       "[8477; 1860]"
      ],
      "text/latex": [
       "\\begin{array}{c}\n",
       "8477 \\\\\n",
       "1860\n",
       "\\end{array}"
      ],
      "text/plain": [
       "[8477]\n",
       "[1860]"
      ]
     },
     "metadata": {},
     "output_type": "display_data"
    }
   ],
   "source": [
    "decrypt(cipher, \n",
    "        key, \n",
    "        nonce, \n",
    "        ciminion_2)"
   ]
  },
  {
   "cell_type": "code",
   "execution_count": 8,
   "metadata": {},
   "outputs": [
    {
     "data": {
      "text/plain": [
       "true"
      ]
     },
     "metadata": {},
     "output_type": "display_data"
    }
   ],
   "source": [
    "plain == decrypt(cipher, key, nonce, ciminion_2)"
   ]
  },
  {
   "cell_type": "markdown",
   "metadata": {},
   "source": [
    "## Ciminion2 Polynomial model\n",
    "Generate the Ciminion_2 polynomial model, and compute a DRL Gröbner basis."
   ]
  },
  {
   "cell_type": "code",
   "execution_count": 9,
   "metadata": {},
   "outputs": [
    {
     "name": "stdout",
     "output_type": "stream",
     "text": [
      "----------------------------------------------------------------------\n",
      "10006*x_C_1__1 + 130*y_1 + y_2 + 6130\n",
      "10006*x_C_2__1 + 1809*y_1 + 4368*y_2 + 1557\n",
      "10006*x_C_3__1 + 131*y_1 + y_2 + 1602\n",
      "----------------------------------------------------------------------\n",
      "x_C_1__1*x_C_2__1 + x_C_3__1 + 10006*x_C_1__2 + y_1 + y_2 + 2318\n",
      "8330*x_C_1__1*x_C_2__1 + x_C_1__1 + 8330*x_C_2__1 + 8330*x_C_3__1 + 10006*x_C_2__2 + 8330*y_1 + 8330*y_2 + 7078\n",
      "x_C_1__1*x_C_2__1 + x_C_2__1 + x_C_3__1 + 10006*x_C_3__2 + y_1 + y_2 + 1151\n",
      "----------------------------------------------------------------------\n",
      "x_C_1__2*x_C_2__2 + x_C_3__2 + 10006*x_E_1__1 + y_1 + y_2 + 4937\n",
      "5867*x_C_1__2*x_C_2__2 + x_C_1__2 + 5867*x_C_2__2 + 5867*x_C_3__2 + 10006*x_E_2__1 + 5867*y_1 + 5867*y_2 + 5005\n",
      "x_C_1__2*x_C_2__2 + x_C_2__2 + x_C_3__2 + 10006*x_E_3__1 + y_1 + y_2 + 8506\n",
      "----------------------------------------------------------------------\n",
      "x_E_1__1*x_E_2__1 + x_E_3__1 + 10006*x_E_1__2 + y_1 + y_2 + 5255\n",
      "5361*x_E_1__1*x_E_2__1 + x_E_1__1 + 5361*x_E_2__1 + 5361*x_E_3__1 + 10006*x_E_2__2 + 5361*y_1 + 5361*y_2 + 7388\n",
      "x_E_1__1*x_E_2__1 + x_E_2__1 + x_E_3__1 + 10006*x_E_3__2 + y_1 + y_2 + 8110\n",
      "----------------------------------------------------------------------\n",
      "x_E_1__2*x_E_2__2 + x_E_3__2 + 10006*x_E_1__3 + y_1 + y_2 + 6676\n",
      "4875*x_E_1__2*x_E_2__2 + x_E_1__2 + 4875*x_E_2__2 + 4875*x_E_3__2 + 10006*x_E_2__3 + 4875*y_1 + 4875*y_2 + 5660\n",
      "x_E_1__2*x_E_2__2 + x_E_2__2 + x_E_3__2 + 10006*x_E_3__3 + y_1 + y_2 + 9\n",
      "----------------------------------------------------------------------\n",
      "x_E_1__3*x_E_2__3 + x_E_3__3 + y_1 + y_2 + 6766\n",
      "2989*x_E_1__3*x_E_2__3 + x_E_1__3 + 2989*x_E_2__3 + 2989*x_E_3__3 + 2989*y_1 + 2989*y_2 + 6588\n",
      "x_E_1__3*x_E_2__3 + x_E_2__3 + x_E_3__3 + y_1 + y_2 + 10006*x + 5962\n",
      "----------------------------------------------------------------------\n"
     ]
    }
   ],
   "source": [
    "polys = generate_Ciminion_2_polynomials(ciminion_2=ciminion_2,\n",
    "                                        plain=plain,\n",
    "                                        cipher=cipher);\n",
    "\n",
    "sep = repeat(\"-\", 70)\n",
    "println(sep)\n",
    "\n",
    "for i in 1:(rounds_C + rounds_E)\n",
    "    for j in 1:3\n",
    "        println(polys[3 * (i - 1) + j])\n",
    "    end\n",
    "    println(sep)\n",
    "end"
   ]
  },
  {
   "cell_type": "markdown",
   "metadata": {},
   "source": [
    "Generate the efficient DRL term order which produces a quadratic DRL Gröbner basis."
   ]
  },
  {
   "cell_type": "code",
   "execution_count": 10,
   "metadata": {},
   "outputs": [],
   "source": [
    "P = parent(polys[1])\n",
    "variables = gens(P)\n",
    "\n",
    "variables_Q = String[]\n",
    "for var in variables\n",
    "    push!(variables_Q, string(var))\n",
    "end\n",
    "\n",
    "variables_Q = [\n",
    "variables_Q[3 * (ciminion_2.rounds_C - 1 + ciminion_2.rounds_E) + 1:3 * (ciminion_2.rounds_C - 1 + ciminion_2.rounds_E) + 2] \n",
    "variables_Q[1:3 * (ciminion_2.rounds_C - 1 + ciminion_2.rounds_E)];\n",
    "variables_Q[3 * (ciminion_2.rounds_C - 1 + ciminion_2.rounds_E) + 3:3 * (ciminion_2.rounds_C - 1 + ciminion_2.rounds_E) + 3]\n",
    "]\n",
    "\n",
    "Q, variables_Q = polynomial_ring(base_ring(P), \n",
    "                                 variables_Q, \n",
    "                                 internal_ordering=:degrevlex);"
   ]
  },
  {
   "cell_type": "markdown",
   "metadata": {},
   "source": [
    "Generate a homomorphism between $P$ and $Q$."
   ]
  },
  {
   "cell_type": "code",
   "execution_count": 11,
   "metadata": {},
   "outputs": [
    {
     "data": {
      "text/plain": [
       "Ring homomorphism\n",
       "  from multivariate polynomial ring in 18 variables over K\n",
       "  to multivariate polynomial ring in 18 variables over K\n",
       "defined by\n",
       "  x_C_1__1 -> x_C_1__1\n",
       "  x_C_2__1 -> x_C_2__1\n",
       "  x_C_3__1 -> x_C_3__1\n",
       "  x_C_1__2 -> x_C_1__2\n",
       "  x_C_2__2 -> x_C_2__2\n",
       "  x_C_3__2 -> x_C_3__2\n",
       "  x_E_1__1 -> x_E_1__1\n",
       "  x_E_2__1 -> x_E_2__1\n",
       "  x_E_3__1 -> x_E_3__1\n",
       "  x_E_1__2 -> x_E_1__2\n",
       "  x_E_2__2 -> x_E_2__2\n",
       "  x_E_3__2 -> x_E_3__2\n",
       "  x_E_1__3 -> x_E_1__3\n",
       "  x_E_2__3 -> x_E_2__3\n",
       "  x_E_3__3 -> x_E_3__3\n",
       "  y_1 -> y_1\n",
       "  y_2 -> y_2\n",
       "  x -> x"
      ]
     },
     "metadata": {},
     "output_type": "display_data"
    }
   ],
   "source": [
    "variables_tmp = [\n",
    "variables_Q[2 + 1:2 + 3 * (ciminion_2.rounds_C - 1 + ciminion_2.rounds_E)];\n",
    "variables_Q[1:2];\n",
    "variables_Q[3 * (ciminion_2.rounds_C - 1 + ciminion_2.rounds_E) + 3:3 * (ciminion_2.rounds_C - 1 + ciminion_2.rounds_E) + 3]\n",
    "]\n",
    "\n",
    "h = hom(P, Q, variables_tmp)"
   ]
  },
  {
   "cell_type": "markdown",
   "metadata": {},
   "source": [
    "Now we compute the DRL Gröbner basis with respect to the efficient term order."
   ]
  },
  {
   "cell_type": "code",
   "execution_count": 12,
   "metadata": {},
   "outputs": [
    {
     "name": "stdout",
     "output_type": "stream",
     "text": [
      "\n",
      "Legend for f4 information\n",
      "--------------------------------------------------------\n",
      "deg       current degree of pairs selected in this round\n",
      "sel       number of pairs selected in this round\n",
      "pairs     total number of pairs in pair list\n",
      "mat       matrix dimensions (# rows x # columns)\n",
      "density   density of the matrix\n",
      "new data  # new elements for basis in this round\n",
      "          # zero reductions during linear algebra\n",
      "time(rd)  time of the current f4 round in seconds given\n",
      "          for real and cpu time\n",
      "--------------------------------------------------------\n",
      "\n",
      "deg     sel   pairs        mat          density            new data         time(rd) in sec (real|cpu)\n",
      "------------------------------------------------------------------------------------------------------\n",
      "  1       2      12       3 x 6          66.67%        2 new       0 zero         0.02 | 0.19         \n",
      "  2      11      11      19 x 25         24.63%       11 new       0 zero         0.04 | 0.46         \n",
      "  2       5       5      36 x 52         10.26%        5 new       0 zero         0.02 | 0.28         \n",
      "------------------------------------------------------------------------------------------------------\n",
      "reduce final basis       18 x 34         17.32%       18 new       0 zero         0.01 | 0.09         \n",
      "------------------------------------------------------------------------------------------------------\n",
      "\n",
      "---------------- TIMINGS ----------------\n",
      "overall(elapsed)        0.14 sec\n",
      "overall(cpu)            1.64 sec\n",
      "select                  0.00 sec   0.1%\n",
      "symbolic prep.          0.00 sec   0.0%\n",
      "update                  0.10 sec  71.5%\n",
      "convert                 0.03 sec  21.5%\n",
      "linear algebra          0.01 sec   6.4%\n",
      "reduce gb               0.00 sec   0.0%\n",
      "-----------------------------------------\n",
      "\n",
      "---------- COMPUTATIONAL DATA -----------\n",
      "size of basis                    18\n",
      "#terms in basis                 116\n",
      "#pairs reduced                   18\n",
      "#GM criterion                   612\n",
      "#redundant elements              18\n",
      "#rows reduced                    54\n",
      "#zero reductions                  0\n",
      "max. matrix data                 36 x 52 (10.256%)\n",
      "max. symbolic hash table size  2^11\n",
      "max. basis hash table size     2^16\n",
      "-----------------------------------------\n",
      "\n"
     ]
    },
    {
     "name": "stderr",
     "output_type": "stream",
     "text": [
      "\n",
      "--------------- INPUT DATA ---------------\n",
      "#variables                      18\n",
      "#equations                      18\n",
      "#invalid equations               0\n",
      "field characteristic         10007\n",
      "homogeneous input?               0\n",
      "signature-based computation      0\n",
      "monomial order                 DRL\n",
      "basis hash table resetting     OFF\n",
      "linear algebra option            2\n",
      "initial hash table size     131072 (2^17)\n",
      "max pair selection             ALL\n",
      "reduce gb                        1\n",
      "#threads                        16\n",
      "info level                       2\n",
      "generate pbm files               0\n",
      "------------------------------------------\n",
      "\n",
      "---------------- TIMINGS ----------------\n",
      "overall(elapsed)        0.14 sec\n",
      "overall(cpu)            1.66 sec\n",
      "select                  0.00 sec   0.0%\n",
      "symbolic prep.          0.00 sec   0.0%\n",
      "update                  0.00 sec   0.0%\n",
      "convert                 0.00 sec   0.0%\n",
      "linear algebra          0.00 sec   0.0%\n",
      "reduce gb               0.00 sec   0.0%\n",
      "-----------------------------------------\n",
      "\n",
      "---------- COMPUTATIONAL DATA -----------\n",
      "size of basis                    18\n",
      "#terms in basis                 116\n",
      "#pairs reduced                    0\n",
      "#GM criterion                     0\n",
      "#redundant elements               0\n",
      "#rows reduced                     0\n",
      "#zero reductions                  0\n",
      "max. matrix data                  0 x 0 (0.000%)\n",
      "max. symbolic hash table size  2^-2147483648\n",
      "max. basis hash table size     2^16\n",
      "-----------------------------------------\n",
      "\n"
     ]
    }
   ],
   "source": [
    "gb_Q = groebner_basis_f4(h(ideal(polys)), nr_thrds=16, info_level=2);"
   ]
  },
  {
   "cell_type": "code",
   "execution_count": 13,
   "metadata": {},
   "outputs": [
    {
     "name": "stdout",
     "output_type": "stream",
     "text": [
      "x_E_2__3 + 10006*x + 9203\n",
      "----------------------------------------------------------------------\n",
      "x_E_1__3 + 2989*x + 8637\n",
      "----------------------------------------------------------------------\n",
      "x_E_2__2 + 10006*x_E_3__3 + 7018*x + 4710\n",
      "----------------------------------------------------------------------\n",
      "x_E_1__2 + 4875*x_E_3__3 + 10006*x + 1009\n",
      "----------------------------------------------------------------------\n",
      "x_E_2__1 + 10006*x_E_3__2 + 5132*x_E_3__3 + x + 1846\n",
      "----------------------------------------------------------------------\n",
      "x_E_1__1 + 5361*x_E_3__2 + 10006*x_E_3__3 + 7018*x + 4796\n",
      "----------------------------------------------------------------------\n",
      "x_C_2__2 + 10006*x_E_3__1 + 4646*x_E_3__2 + x_E_3__3 + 2989*x + 8780\n",
      "----------------------------------------------------------------------\n",
      "x_C_1__2 + 5867*x_E_3__1 + 10006*x_E_3__2 + 5132*x_E_3__3 + x + 7058\n",
      "----------------------------------------------------------------------\n",
      "x_C_3__1 + 2362*x_C_3__2 + 8166*x_E_3__1 + 7645*x_E_3__2 + 3307*x_E_3__3 + 2362*x + 7203\n",
      "----------------------------------------------------------------------\n",
      "x_C_2__1 + 10006*x_C_3__2 + 4140*x_E_3__1 + x_E_3__2 + 4875*x_E_3__3 + 10006*x + 1782\n",
      "----------------------------------------------------------------------\n",
      "x_C_1__1 + 8330*x_C_3__2 + 10006*x_E_3__1 + 4646*x_E_3__2 + x_E_3__3 + 2989*x + 4727\n",
      "----------------------------------------------------------------------\n",
      "y_2 + 3624*x_C_3__2 + 9038*x_E_3__1 + 5049*x_E_3__2 + 522*x_E_3__3 + 4443*x + 7428\n",
      "----------------------------------------------------------------------\n",
      "y_1 + 4039*x_C_3__2 + 8167*x_E_3__1 + 2999*x_E_3__2 + 3306*x_E_3__3 + 9380*x + 7955\n",
      "----------------------------------------------------------------------\n",
      "x^2 + 2547*x_C_3__2 + 3270*x_E_3__1 + 2594*x_E_3__2 + 4444*x_E_3__3 + 9784*x + 5202\n",
      "----------------------------------------------------------------------\n",
      "x_E_3__3^2 + 1743*x_E_3__3*x + 2840*x_C_3__2 + 4872*x_E_3__1 + 342*x_E_3__2 + 3088*x_E_3__3 + 1688*x + 6589\n",
      "----------------------------------------------------------------------\n",
      "x_E_3__2^2 + 1530*x_E_3__2*x_E_3__3 + 8794*x_E_3__2*x + 9616*x_C_3__2 + 7598*x_E_3__1 + 9675*x_E_3__2 + 9502*x_E_3__3 + 3687*x + 344\n",
      "----------------------------------------------------------------------\n",
      "x_E_3__1^2 + 3275*x_E_3__1*x_E_3__2 + 7868*x_E_3__1*x_E_3__3 + 9104*x_E_3__1*x + 5592*x_C_3__2 + 881*x_E_3__1 + 1340*x_E_3__2 + 9757*x_E_3__3 + 2879*x + 9076\n",
      "----------------------------------------------------------------------\n",
      "x_C_3__2^2 + 6231*x_C_3__2*x_E_3__1 + 38*x_C_3__2*x_E_3__2 + 4768*x_C_3__2*x_E_3__3 + 2768*x_C_3__2*x + 5234*x_C_3__2 + 5291*x_E_3__1 + 5221*x_E_3__2 + 6563*x_E_3__3 + 8954*x + 8697\n",
      "----------------------------------------------------------------------\n"
     ]
    }
   ],
   "source": [
    "for poly in gb_Q\n",
    "    println(poly)\n",
    "    println(sep)\n",
    "end"
   ]
  }
 ],
 "metadata": {
  "kernelspec": {
   "display_name": "Julia 1.11.5",
   "language": "julia",
   "name": "julia-1.11"
  },
  "language_info": {
   "file_extension": ".jl",
   "mimetype": "application/julia",
   "name": "julia",
   "version": "1.11.5"
  },
  "orig_nbformat": 4
 },
 "nbformat": 4,
 "nbformat_minor": 2
}
