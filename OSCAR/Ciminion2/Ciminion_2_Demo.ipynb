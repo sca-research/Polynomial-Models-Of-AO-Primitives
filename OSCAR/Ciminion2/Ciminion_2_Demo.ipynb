{
 "cells": [
  {
   "cell_type": "markdown",
   "metadata": {},
   "source": [
    "# Ciminion2 Polynomial Model Demonstration\n",
    "Usage example of the Ciminion_2 polynomial model."
   ]
  },
  {
   "cell_type": "code",
   "execution_count": 1,
   "metadata": {},
   "outputs": [
    {
     "name": "stdout",
     "output_type": "stream",
     "text": [
      "\r"
     ]
    },
    {
     "data": {
      "text/plain": [
       "generate_Ciminion_2_polynomials (generic function with 1 method)"
      ]
     },
     "metadata": {},
     "output_type": "display_data"
    }
   ],
   "source": [
    "using Oscar\n",
    "include(\"Ciminion_2.jl\")\n",
    "include(\"Ciminion_2_polynomial_model.jl\")"
   ]
  },
  {
   "cell_type": "markdown",
   "metadata": {},
   "source": [
    "## Ciminion2 Instance"
   ]
  },
  {
   "cell_type": "code",
   "execution_count": 2,
   "metadata": {},
   "outputs": [
    {
     "name": "stdout",
     "output_type": "stream",
     "text": [
      "Ciminion parameters\n",
      "Field: Prime field of characteristic 10007\n",
      "Rounds_C: 3\n",
      "Rounds_E: 3\n",
      "Constants_C: [6522 764 9310; 223 1946 5499; 3988 8144 9937; 1814 9653 7588]\n",
      "Constants_E: [2130 1462 3355; 8699 5274 4662; 4846 6459 7917; 9745 1768 4019]\n"
     ]
    }
   ],
   "source": [
    "K = GF(10007)\n",
    "rounds_C = 3\n",
    "rounds_E = 3\n",
    "\n",
    "ciminion_2 = Ciminion_2_constructor(field=K, \n",
    "                                    rounds_C=rounds_C, \n",
    "                                    rounds_E=rounds_E);"
   ]
  },
  {
   "cell_type": "code",
   "execution_count": 3,
   "metadata": {},
   "outputs": [
    {
     "data": {
      "text/html": [
       "[1402; 2636]"
      ],
      "text/latex": [
       "\\begin{array}{c}\n",
       "1402 \\\\\n",
       "2636\n",
       "\\end{array}"
      ],
      "text/plain": [
       "[1402]\n",
       "[2636]"
      ]
     },
     "metadata": {},
     "output_type": "display_data"
    }
   ],
   "source": [
    "plain = zero_matrix(K, 2, 1)\n",
    "plain[1, 1] = rand(K)\n",
    "plain[2, 1] = rand(K)\n",
    "plain"
   ]
  },
  {
   "cell_type": "code",
   "execution_count": 4,
   "metadata": {},
   "outputs": [
    {
     "data": {
      "text/html": [
       "[5250; 6037]"
      ],
      "text/latex": [
       "\\begin{array}{c}\n",
       "5250 \\\\\n",
       "6037\n",
       "\\end{array}"
      ],
      "text/plain": [
       "[5250]\n",
       "[6037]"
      ]
     },
     "metadata": {},
     "output_type": "display_data"
    }
   ],
   "source": [
    "key = zero_matrix(K, 2, 1)\n",
    "key[1, 1] = rand(K)\n",
    "key[2, 1] = rand(K)\n",
    "key"
   ]
  },
  {
   "cell_type": "code",
   "execution_count": 5,
   "metadata": {},
   "outputs": [
    {
     "data": {
      "text/html": [
       "126"
      ],
      "text/latex": [
       "126"
      ],
      "text/plain": [
       "126"
      ]
     },
     "metadata": {},
     "output_type": "display_data"
    }
   ],
   "source": [
    "nonce = rand(K)\n",
    "nonce"
   ]
  },
  {
   "cell_type": "code",
   "execution_count": 6,
   "metadata": {},
   "outputs": [
    {
     "data": {
      "text/html": [
       "[5799; 7343]"
      ],
      "text/latex": [
       "\\begin{array}{c}\n",
       "5799 \\\\\n",
       "7343\n",
       "\\end{array}"
      ],
      "text/plain": [
       "[5799]\n",
       "[7343]"
      ]
     },
     "metadata": {},
     "output_type": "display_data"
    }
   ],
   "source": [
    "cipher = encrypt(plain, \n",
    "                 key, \n",
    "                 nonce, \n",
    "                 ciminion_2)"
   ]
  },
  {
   "cell_type": "code",
   "execution_count": 7,
   "metadata": {},
   "outputs": [
    {
     "data": {
      "text/html": [
       "[1402; 2636]"
      ],
      "text/latex": [
       "\\begin{array}{c}\n",
       "1402 \\\\\n",
       "2636\n",
       "\\end{array}"
      ],
      "text/plain": [
       "[1402]\n",
       "[2636]"
      ]
     },
     "metadata": {},
     "output_type": "display_data"
    }
   ],
   "source": [
    "decrypt(cipher, \n",
    "        key, \n",
    "        nonce, \n",
    "        ciminion_2)"
   ]
  },
  {
   "cell_type": "code",
   "execution_count": 8,
   "metadata": {},
   "outputs": [
    {
     "data": {
      "text/plain": [
       "true"
      ]
     },
     "metadata": {},
     "output_type": "display_data"
    }
   ],
   "source": [
    "plain == decrypt(cipher, key, nonce, ciminion_2)"
   ]
  },
  {
   "cell_type": "markdown",
   "metadata": {},
   "source": [
    "## Ciminion2 Polynomial model\n",
    "Generate the Ciminion_2 polynomial model, and compute a DRL Gröbner basis."
   ]
  },
  {
   "cell_type": "code",
   "execution_count": 9,
   "metadata": {},
   "outputs": [
    {
     "name": "stdout",
     "output_type": "stream",
     "text": [
      "----------------------------------------------------------------------\n",
      "10006*x_C_1__1 + 4568*y_1 + y_2 + 6522\n",
      "10006*x_C_2__1 + 2370*y_1 + 1814*y_2 + 4791\n",
      "10006*x_C_3__1 + 4569*y_1 + y_2 + 3988\n",
      "----------------------------------------------------------------------\n",
      "x_C_1__1*x_C_2__1 + x_C_3__1 + 10006*x_C_1__2 + y_1 + y_2 + 764\n",
      "9653*x_C_1__1*x_C_2__1 + x_C_1__1 + 9653*x_C_2__1 + 9653*x_C_3__1 + 10006*x_C_2__2 + 9653*y_1 + 9653*y_2 + 1946\n",
      "x_C_1__1*x_C_2__1 + x_C_2__1 + x_C_3__1 + 10006*x_C_3__2 + y_1 + y_2 + 8144\n",
      "----------------------------------------------------------------------\n",
      "x_C_1__2*x_C_2__2 + x_C_3__2 + 10006*x_E_1__1 + y_1 + y_2 + 9310\n",
      "7588*x_C_1__2*x_C_2__2 + x_C_1__2 + 7588*x_C_2__2 + 7588*x_C_3__2 + 10006*x_E_2__1 + 7588*y_1 + 7588*y_2 + 5499\n",
      "x_C_1__2*x_C_2__2 + x_C_2__2 + x_C_3__2 + 10006*x_E_3__1 + y_1 + y_2 + 9937\n",
      "----------------------------------------------------------------------\n",
      "x_E_1__1*x_E_2__1 + x_E_3__1 + 10006*x_E_1__2 + y_1 + y_2 + 2130\n",
      "9745*x_E_1__1*x_E_2__1 + x_E_1__1 + 9745*x_E_2__1 + 9745*x_E_3__1 + 10006*x_E_2__2 + 9745*y_1 + 9745*y_2 + 8699\n",
      "x_E_1__1*x_E_2__1 + x_E_2__1 + x_E_3__1 + 10006*x_E_3__2 + y_1 + y_2 + 4846\n",
      "----------------------------------------------------------------------\n",
      "x_E_1__2*x_E_2__2 + x_E_3__2 + 10006*x_E_1__3 + y_1 + y_2 + 1462\n",
      "1768*x_E_1__2*x_E_2__2 + x_E_1__2 + 1768*x_E_2__2 + 1768*x_E_3__2 + 10006*x_E_2__3 + 1768*y_1 + 1768*y_2 + 5274\n",
      "x_E_1__2*x_E_2__2 + x_E_2__2 + x_E_3__2 + 10006*x_E_3__3 + y_1 + y_2 + 6459\n",
      "----------------------------------------------------------------------\n",
      "x_E_1__3*x_E_2__3 + x_E_3__3 + y_1 + y_2 + 8965\n",
      "4019*x_E_1__3*x_E_2__3 + x_E_1__3 + 4019*x_E_2__3 + 4019*x_E_3__3 + 4019*y_1 + 4019*y_2 + 9962\n",
      "x_E_1__3*x_E_2__3 + x_E_2__3 + x_E_3__3 + y_1 + y_2 + 10006*x + 7917\n",
      "----------------------------------------------------------------------\n"
     ]
    }
   ],
   "source": [
    "polys = generate_Ciminion_2_polynomials(ciminion_2=ciminion_2,\n",
    "                                        plain=plain,\n",
    "                                        cipher=cipher);\n",
    "\n",
    "sep = repeat(\"-\", 70)\n",
    "println(sep)\n",
    "\n",
    "for i in 1:(rounds_C + rounds_E)\n",
    "    for j in 1:3\n",
    "        println(polys[3 * (i - 1) + j])\n",
    "    end\n",
    "    println(sep)\n",
    "end"
   ]
  },
  {
   "cell_type": "markdown",
   "metadata": {},
   "source": [
    "Generate the efficient DRL term order which produces a quadratic DRL Gröbner basis."
   ]
  },
  {
   "cell_type": "code",
   "execution_count": 10,
   "metadata": {},
   "outputs": [],
   "source": [
    "P = parent(polys[1])\n",
    "variables = gens(P)\n",
    "\n",
    "variables_Q = String[]\n",
    "for var in variables\n",
    "    push!(variables_Q, string(var))\n",
    "end\n",
    "\n",
    "variables_Q = [\n",
    "variables_Q[3 * (ciminion_2.rounds_C - 1 + ciminion_2.rounds_E) + 1:3 * (ciminion_2.rounds_C - 1 + ciminion_2.rounds_E) + 2] \n",
    "variables_Q[1:3 * (ciminion_2.rounds_C - 1 + ciminion_2.rounds_E)];\n",
    "variables_Q[3 * (ciminion_2.rounds_C - 1 + ciminion_2.rounds_E) + 3:3 * (ciminion_2.rounds_C - 1 + ciminion_2.rounds_E) + 3]\n",
    "]\n",
    "\n",
    "Q, variables_Q = polynomial_ring(base_ring(P), \n",
    "                                 variables_Q, \n",
    "                                 internal_ordering=:degrevlex);"
   ]
  },
  {
   "cell_type": "markdown",
   "metadata": {},
   "source": [
    "Generate a homomorphism between $P$ and $Q$."
   ]
  },
  {
   "cell_type": "code",
   "execution_count": 11,
   "metadata": {},
   "outputs": [
    {
     "data": {
      "text/plain": [
       "Ring homomorphism\n",
       "  from multivariate polynomial ring in 18 variables over K\n",
       "  to multivariate polynomial ring in 18 variables over K\n",
       "defined by\n",
       "  x_C_1__1 -> x_C_1__1\n",
       "  x_C_2__1 -> x_C_2__1\n",
       "  x_C_3__1 -> x_C_3__1\n",
       "  x_C_1__2 -> x_C_1__2\n",
       "  x_C_2__2 -> x_C_2__2\n",
       "  x_C_3__2 -> x_C_3__2\n",
       "  x_E_1__1 -> x_E_1__1\n",
       "  x_E_2__1 -> x_E_2__1\n",
       "  x_E_3__1 -> x_E_3__1\n",
       "  x_E_1__2 -> x_E_1__2\n",
       "  x_E_2__2 -> x_E_2__2\n",
       "  x_E_3__2 -> x_E_3__2\n",
       "  x_E_1__3 -> x_E_1__3\n",
       "  x_E_2__3 -> x_E_2__3\n",
       "  x_E_3__3 -> x_E_3__3\n",
       "  y_1 -> y_1\n",
       "  y_2 -> y_2\n",
       "  x -> x"
      ]
     },
     "metadata": {},
     "output_type": "display_data"
    }
   ],
   "source": [
    "variables_tmp = [\n",
    "variables_Q[2 + 1:2 + 3 * (ciminion_2.rounds_C - 1 + ciminion_2.rounds_E)];\n",
    "variables_Q[1:2];\n",
    "variables_Q[3 * (ciminion_2.rounds_C - 1 + ciminion_2.rounds_E) + 3:3 * (ciminion_2.rounds_C - 1 + ciminion_2.rounds_E) + 3]\n",
    "]\n",
    "\n",
    "h = hom(P, Q, variables_tmp)"
   ]
  },
  {
   "cell_type": "markdown",
   "metadata": {},
   "source": [
    "Now we compute the DRL Gröbner basis with respect to the efficient term order."
   ]
  },
  {
   "cell_type": "code",
   "execution_count": 12,
   "metadata": {},
   "outputs": [
    {
     "name": "stdout",
     "output_type": "stream",
     "text": [
      "\n",
      "Legend for f4 information\n",
      "--------------------------------------------------------\n",
      "deg       current degree of pairs selected in this round\n",
      "sel       number of pairs selected in this round\n",
      "pairs     total number of pairs in pair list\n",
      "mat       matrix dimensions (# rows x # columns)\n",
      "density   density of the matrix\n",
      "new data  # new elements for basis in this round\n",
      "          # zero reductions during linear algebra\n",
      "time(rd)  time of the current f4 round in seconds given\n",
      "          for real and cpu time\n",
      "--------------------------------------------------------\n",
      "\n",
      "deg     sel   pairs        mat          density            new data         time(rd) in sec (real|cpu)\n",
      "------------------------------------------------------------------------------------------------------\n",
      "  1       2      12       3 x 6          66.67%        2 new       0 zero         0.01 | 0.23         \n",
      "  2      11      11      19 x 25         24.63%       11 new       0 zero         0.04 | 0.45         \n",
      "  2       5       5      36 x 52         10.26%        5 new       0 zero         0.02 | 0.30         \n",
      "------------------------------------------------------------------------------------------------------\n",
      "reduce final basis       18 x 34         17.32%       18 new       0 zero         0.01 | 0.13         \n",
      "------------------------------------------------------------------------------------------------------\n",
      "\n",
      "---------------- TIMINGS ----------------\n",
      "overall(elapsed)        0.12 sec\n",
      "overall(cpu)            1.71 sec\n",
      "select                  0.00 sec   0.0%\n",
      "symbolic prep.          0.00 sec   0.0%\n",
      "update                  0.08 sec  71.5%\n",
      "convert                 0.03 sec  22.4%\n",
      "linear algebra          0.01 sec   5.9%\n",
      "reduce gb               0.00 sec   0.0%\n",
      "-----------------------------------------\n",
      "\n",
      "---------- COMPUTATIONAL DATA -----------\n",
      "size of basis                    18\n",
      "#terms in basis                 116\n",
      "#pairs reduced                   18\n",
      "#GM criterion                   612\n",
      "#redundant elements              18\n",
      "#rows reduced                    54\n",
      "#zero reductions                  0\n",
      "max. matrix data                 36 x 52 (10.256%)\n",
      "max. symbolic hash table size  2^11\n",
      "max. basis hash table size     2^16\n",
      "-----------------------------------------\n",
      "\n"
     ]
    },
    {
     "name": "stderr",
     "output_type": "stream",
     "text": [
      "\n",
      "--------------- INPUT DATA ---------------\n",
      "#variables                      18\n",
      "#equations                      18\n",
      "#invalid equations               0\n",
      "field characteristic         10007\n",
      "homogeneous input?               0\n",
      "signature-based computation      0\n",
      "monomial order                 DRL\n",
      "basis hash table resetting     OFF\n",
      "linear algebra option            2\n",
      "initial hash table size     131072 (2^17)\n",
      "max pair selection             ALL\n",
      "reduce gb                        1\n",
      "#threads                        16\n",
      "info level                       2\n",
      "generate pbm files               0\n",
      "------------------------------------------\n",
      "\n",
      "---------------- TIMINGS ----------------\n",
      "overall(elapsed)        0.12 sec\n",
      "overall(cpu)            1.71 sec\n",
      "select                  0.00 sec   0.0%\n",
      "symbolic prep.          0.00 sec   0.0%\n",
      "update                  0.00 sec   0.0%\n",
      "convert                 0.00 sec   0.0%\n",
      "linear algebra          0.00 sec   0.0%\n",
      "reduce gb               0.00 sec   0.0%\n",
      "-----------------------------------------\n",
      "\n",
      "---------- COMPUTATIONAL DATA -----------\n",
      "size of basis                    18\n",
      "#terms in basis                 116\n",
      "#pairs reduced                    0\n",
      "#GM criterion                     0\n",
      "#redundant elements               0\n",
      "#rows reduced                     0\n",
      "#zero reductions                  0\n",
      "max. matrix data                  0 x 0 (0.000%)\n",
      "max. symbolic hash table size  2^-2147483648\n",
      "max. basis hash table size     2^16\n",
      "-----------------------------------------\n",
      "\n"
     ]
    }
   ],
   "source": [
    "gb_Q = groebner_basis_f4(h(ideal(polys)), nr_thrds=16, info_level=2);"
   ]
  },
  {
   "cell_type": "code",
   "execution_count": 13,
   "metadata": {},
   "outputs": [
    {
     "name": "stdout",
     "output_type": "stream",
     "text": [
      "x_E_2__3 + 10006*x + 8959\n",
      "----------------------------------------------------------------------\n",
      "x_E_1__3 + 4019*x + 3792\n",
      "----------------------------------------------------------------------\n",
      "x_E_2__2 + 10006*x_E_3__3 + 5988*x + 1205\n",
      "----------------------------------------------------------------------\n",
      "x_E_1__2 + 1768*x_E_3__3 + 10006*x + 2701\n",
      "----------------------------------------------------------------------\n",
      "x_E_2__1 + 10006*x_E_3__2 + 8239*x_E_3__3 + x + 15\n",
      "----------------------------------------------------------------------\n",
      "x_E_1__1 + 9745*x_E_3__2 + 10006*x_E_3__3 + 5988*x + 8667\n",
      "----------------------------------------------------------------------\n",
      "x_C_2__2 + 10006*x_E_3__1 + 262*x_E_3__2 + x_E_3__3 + 4019*x + 1967\n",
      "----------------------------------------------------------------------\n",
      "x_C_1__2 + 7588*x_E_3__1 + 10006*x_E_3__2 + 8239*x_E_3__3 + x + 6303\n",
      "----------------------------------------------------------------------\n",
      "x_C_3__1 + 7839*x_C_3__2 + 724*x_E_3__1 + 2168*x_E_3__2 + 343*x_E_3__3 + 7839*x + 8946\n",
      "----------------------------------------------------------------------\n",
      "x_C_2__1 + 10006*x_C_3__2 + 2419*x_E_3__1 + x_E_3__2 + 1768*x_E_3__3 + 10006*x + 1077\n",
      "----------------------------------------------------------------------\n",
      "x_C_1__1 + 9653*x_C_3__2 + 10006*x_E_3__1 + 262*x_E_3__2 + x_E_3__3 + 4019*x + 4873\n",
      "----------------------------------------------------------------------\n",
      "y_2 + 202*x_C_3__2 + 516*x_E_3__1 + 9751*x_E_3__2 + 8844*x_E_3__3 + 6467*x + 6157\n",
      "----------------------------------------------------------------------\n",
      "y_1 + 8193*x_C_3__2 + 725*x_E_3__1 + 1906*x_E_3__2 + 342*x_E_3__3 + 3820*x + 1539\n",
      "----------------------------------------------------------------------\n",
      "x^2 + 7066*x_C_3__2 + 8354*x_E_3__1 + 1955*x_E_3__2 + 9215*x_E_3__3 + 5994*x + 1357\n",
      "----------------------------------------------------------------------\n",
      "x_E_3__3^2 + 5734*x_E_3__3*x + 5296*x_C_3__2 + 6352*x_E_3__1 + 6177*x_E_3__2 + 5599*x_E_3__3 + 8574*x + 4279\n",
      "----------------------------------------------------------------------\n",
      "x_E_3__2^2 + 6084*x_E_3__2*x_E_3__3 + 3872*x_E_3__2*x + 5054*x_C_3__2 + 9501*x_E_3__1 + 856*x_E_3__2 + 9614*x_E_3__3 + 6046*x + 638\n",
      "----------------------------------------------------------------------\n",
      "x_E_3__1^2 + 4938*x_E_3__1*x_E_3__2 + 7173*x_E_3__1*x_E_3__3 + 788*x_E_3__1*x + 8275*x_C_3__2 + 3188*x_E_3__1 + 1093*x_E_3__2 + 4179*x_E_3__3 + 9374*x + 7387\n",
      "----------------------------------------------------------------------\n",
      "x_C_3__2^2 + 6429*x_C_3__2*x_E_3__1 + 3447*x_C_3__2*x_E_3__2 + 9398*x_C_3__2*x_E_3__3 + 4767*x_C_3__2*x + 6670*x_C_3__2 + 8768*x_E_3__1 + 3447*x_E_3__2 + 2830*x_E_3__3 + 8464*x + 7391\n",
      "----------------------------------------------------------------------\n"
     ]
    }
   ],
   "source": [
    "for poly in gb_Q\n",
    "    println(poly)\n",
    "    println(sep)\n",
    "end"
   ]
  }
 ],
 "metadata": {
  "kernelspec": {
   "display_name": "Julia 1.11.2",
   "language": "julia",
   "name": "julia-1.11"
  },
  "language_info": {
   "file_extension": ".jl",
   "mimetype": "application/julia",
   "name": "julia",
   "version": "1.11.2"
  },
  "orig_nbformat": 4
 },
 "nbformat": 4,
 "nbformat_minor": 2
}
