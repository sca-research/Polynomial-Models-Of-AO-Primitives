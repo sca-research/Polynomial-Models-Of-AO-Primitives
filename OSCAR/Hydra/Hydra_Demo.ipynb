{
 "cells": [
  {
   "cell_type": "markdown",
   "metadata": {},
   "source": [
    "# Hydra Polynomial Model Demonstration\n",
    "Usage example of the Hydra polynomial system."
   ]
  },
  {
   "cell_type": "code",
   "execution_count": 1,
   "metadata": {},
   "outputs": [
    {
     "name": "stdout",
     "output_type": "stream",
     "text": [
      "\r"
     ]
    },
    {
     "data": {
      "text/plain": [
       "non_linear_variable_substitution_Hydra_polynomial_system (generic function with 1 method)"
      ]
     },
     "metadata": {},
     "output_type": "display_data"
    }
   ],
   "source": [
    "using Oscar\n",
    "include(\"Hydra.jl\")\n",
    "include(\"Hydra_polynomial_model.jl\")"
   ]
  },
  {
   "cell_type": "markdown",
   "metadata": {},
   "source": [
    "## Hydra Instance\n",
    "Create a Hydra instance, generate a master key a nonce and a key stream."
   ]
  },
  {
   "cell_type": "code",
   "execution_count": 2,
   "metadata": {},
   "outputs": [
    {
     "name": "stdout",
     "output_type": "stream",
     "text": [
      "Hydra parameters\n",
      "Field: Prime field of characteristic 10007\n",
      "Rounds body E_1: 2\n",
      "Rounds body E_2: 4\n",
      "Rounds body I: 42\n",
      "Rounds head: 4\n",
      "d: 3\n",
      "Matrix body E:\n",
      "[3 2 1 1; 1 3 2 1; 1 1 3 2; 2 1 1 3]\n",
      "Matrix body I:\n",
      "[1 1 1 1; 1 4 1 1; 3 1 3 1; 4 1 1 2]\n",
      "Matrix head:\n",
      "[3 1 1 1 1 1 1 1; 7 3 1 1 1 1 1 1; 4 1 4 1 1 1 1 1; 3 1 1 8 1 1 1 1; 7 1 1 1 7 1 1 1; 8 1 1 1 1 5 1 1; 5 1 1 1 1 1 2 1; 4 1 1 1 1 1 1 6]\n",
      "Constants body:\n",
      "[1909 6423 6551 5438 4613 9197 8882 758 5577 212 1747 1866 3271 4805 4511 3390 2181 598 1175 1147 5865 3151 6515 490 7072 4721 4305 4675 2742 6636 5987 2761 2409 7473 463 8804 6945 304 6405 3419 1136 1581 5792 8985 994 8432 3933 8836; 4533 1074 6957 1218 871 6314 9598 9324 6110 3481 7876 340 7951 1602 4962 6184 9550 6252 2195 3223 9830 1303 103 9133 5392 9218 94 1137 993 8160 1040 9447 4257 4286 6714 1597 1157 7931 1498 274 7437 695 9314 3337 4900 2594 1828 5706; 2055 9836 3263 6623 8190 7225 3575 5288 4537 8506 1518 1874 2963 3666 8935 2319 6028 3708 6935 663 5966 5466 7560 8918 2129 9269 7794 9901 4728 733 4959 1235 4929 3559 6273 6606 781 7539 1717 8117 607 4427 9507 9531 4422 6174 2074 2041; 8788 8086 8779 3570 1161 1146 6369 6885 5490 9150 6098 2235 9523 5713 6074 5011 797 6354 5078 3390 8593 3677 5930 1504 4444 2712 6334 4034 4765 5729 1010 3047 775 7655 5985 3387 8961 2408 9624 9466 9237 8720 6285 2662 2306 8747 925 6915]\n",
      "Constants head:\n",
      "[7312 2287 9675 8034; 8652 2547 4530 5093; 7210 7450 4394 4262; 7079 917 387 6453; 9899 9660 9900 689; 1526 8672 1322 6446; 7201 1012 576 3968; 5304 738 4270 4513]\n",
      "Initial value: [0; 0; 0; 0]\n"
     ]
    }
   ],
   "source": [
    "K = GF(10007)\n",
    "rounds_head = 4\n",
    "m = 2\n",
    "\n",
    "hydra = Hydra_constructor(field=K, \n",
    "                          rounds_head=rounds_head);"
   ]
  },
  {
   "cell_type": "code",
   "execution_count": 3,
   "metadata": {},
   "outputs": [
    {
     "data": {
      "text/html": [
       "8904"
      ],
      "text/latex": [
       "8904"
      ],
      "text/plain": [
       "8904"
      ]
     },
     "metadata": {},
     "output_type": "display_data"
    }
   ],
   "source": [
    "nonce = rand(K)"
   ]
  },
  {
   "cell_type": "code",
   "execution_count": 4,
   "metadata": {},
   "outputs": [
    {
     "data": {
      "text/html": [
       "[6392; 9549; 3823; 5217]"
      ],
      "text/latex": [
       "\\begin{array}{c}\n",
       "6392 \\\\\n",
       "9549 \\\\\n",
       "3823 \\\\\n",
       "5217\n",
       "\\end{array}"
      ],
      "text/plain": [
       "[6392]\n",
       "[9549]\n",
       "[3823]\n",
       "[5217]"
      ]
     },
     "metadata": {},
     "output_type": "display_data"
    }
   ],
   "source": [
    "key = matrix(map(x -> rand(K), 1:4))"
   ]
  },
  {
   "cell_type": "code",
   "execution_count": 5,
   "metadata": {},
   "outputs": [
    {
     "data": {
      "text/plain": [
       "16-element Vector{FqFieldElem}:\n",
       " 586\n",
       " 3620\n",
       " 6974\n",
       " 5155\n",
       " 1772\n",
       " 3651\n",
       " 5171\n",
       " 9740\n",
       " 4196\n",
       " 8967\n",
       " 7419\n",
       " 7648\n",
       " 5772\n",
       " 9833\n",
       " 9320\n",
       " 3974"
      ]
     },
     "metadata": {},
     "output_type": "display_data"
    }
   ],
   "source": [
    "out = key_stream(nonce, key, hydra, m=m)"
   ]
  },
  {
   "cell_type": "markdown",
   "metadata": {},
   "source": [
    "## Hydra Polynomial model\n",
    "Generate the Hydra polynomial model, and compute a DRL Gröbner basis."
   ]
  },
  {
   "cell_type": "code",
   "execution_count": 6,
   "metadata": {},
   "outputs": [
    {
     "name": "stdout",
     "output_type": "stream",
     "text": [
      "Nonce: 8904\n",
      "Number of samples: 2\n",
      "Samples:\n",
      "FqFieldElem[586, 3620, 6974, 5155, 1772, 3651, 5171, 9740, 4196, 8967, 7419, 7648, 5772, 9833, 9320, 3974]\n",
      "Term order: degrevlex\n",
      "----------------------------------------------------------------------\n",
      "10*y_b1^2 + 20*y_b1*y_b2 + 10*y_b2^2 + 20*y_b1*y_b3 + 20*y_b2*y_b3 + 10*y_b3^2 + 20*y_b1*y_b4 + 20*y_b2*y_b4 + 20*y_b3*y_b4 + 10*y_b4^2 + 9987*y_b1*z_b1 + 9987*y_b2*z_b1 + 9987*y_b3*z_b1 + 9987*y_b4*z_b1 + 10*z_b1^2 + 9987*y_b1*z_b2 + 9987*y_b2*z_b2 + 9987*y_b3*z_b2 + 9987*y_b4*z_b2 + 20*z_b1*z_b2 + 10*z_b2^2 + 9987*y_b1*z_b3 + 9987*y_b2*z_b3 + 9987*y_b3*z_b3 + 9987*y_b4*z_b3 + 20*z_b1*z_b3 + 20*z_b2*z_b3 + 10*z_b3^2 + 9987*y_b1*z_b4 + 9987*y_b2*z_b4 + 9987*y_b3*z_b4 + 9987*y_b4*z_b4 + 20*z_b1*z_b4 + 20*z_b2*z_b4 + 20*z_b3*z_b4 + 10*z_b4^2 + 3*y_b1 + y_b2 + y_b3 + y_b4 + z_b1 + z_b2 + z_b3 + z_b4 + 10006*x_s1_b1_r1 + k_b1 + 7312\n",
      "16*y_b1^2 + 32*y_b1*y_b2 + 16*y_b2^2 + 32*y_b1*y_b3 + 32*y_b2*y_b3 + 16*y_b3^2 + 32*y_b1*y_b4 + 32*y_b2*y_b4 + 32*y_b3*y_b4 + 16*y_b4^2 + 9975*y_b1*z_b1 + 9975*y_b2*z_b1 + 9975*y_b3*z_b1 + 9975*y_b4*z_b1 + 16*z_b1^2 + 9975*y_b1*z_b2 + 9975*y_b2*z_b2 + 9975*y_b3*z_b2 + 9975*y_b4*z_b2 + 32*z_b1*z_b2 + 16*z_b2^2 + 9975*y_b1*z_b3 + 9975*y_b2*z_b3 + 9975*y_b3*z_b3 + 9975*y_b4*z_b3 + 32*z_b1*z_b3 + 32*z_b2*z_b3 + 16*z_b3^2 + 9975*y_b1*z_b4 + 9975*y_b2*z_b4 + 9975*y_b3*z_b4 + 9975*y_b4*z_b4 + 32*z_b1*z_b4 + 32*z_b2*z_b4 + 32*z_b3*z_b4 + 16*z_b4^2 + 7*y_b1 + 3*y_b2 + y_b3 + y_b4 + z_b1 + z_b2 + z_b3 + z_b4 + 10006*x_s1_b2_r1 + k_b2 + 8652\n",
      "14*y_b1^2 + 28*y_b1*y_b2 + 14*y_b2^2 + 28*y_b1*y_b3 + 28*y_b2*y_b3 + 14*y_b3^2 + 28*y_b1*y_b4 + 28*y_b2*y_b4 + 28*y_b3*y_b4 + 14*y_b4^2 + 9979*y_b1*z_b1 + 9979*y_b2*z_b1 + 9979*y_b3*z_b1 + 9979*y_b4*z_b1 + 14*z_b1^2 + 9979*y_b1*z_b2 + 9979*y_b2*z_b2 + 9979*y_b3*z_b2 + 9979*y_b4*z_b2 + 28*z_b1*z_b2 + 14*z_b2^2 + 9979*y_b1*z_b3 + 9979*y_b2*z_b3 + 9979*y_b3*z_b3 + 9979*y_b4*z_b3 + 28*z_b1*z_b3 + 28*z_b2*z_b3 + 14*z_b3^2 + 9979*y_b1*z_b4 + 9979*y_b2*z_b4 + 9979*y_b3*z_b4 + 9979*y_b4*z_b4 + 28*z_b1*z_b4 + 28*z_b2*z_b4 + 28*z_b3*z_b4 + 14*z_b4^2 + 4*y_b1 + y_b2 + 4*y_b3 + y_b4 + z_b1 + z_b2 + z_b3 + z_b4 + 10006*x_s1_b3_r1 + k_b3 + 7210\n",
      "17*y_b1^2 + 34*y_b1*y_b2 + 17*y_b2^2 + 34*y_b1*y_b3 + 34*y_b2*y_b3 + 17*y_b3^2 + 34*y_b1*y_b4 + 34*y_b2*y_b4 + 34*y_b3*y_b4 + 17*y_b4^2 + 9973*y_b1*z_b1 + 9973*y_b2*z_b1 + 9973*y_b3*z_b1 + 9973*y_b4*z_b1 + 17*z_b1^2 + 9973*y_b1*z_b2 + 9973*y_b2*z_b2 + 9973*y_b3*z_b2 + 9973*y_b4*z_b2 + 34*z_b1*z_b2 + 17*z_b2^2 + 9973*y_b1*z_b3 + 9973*y_b2*z_b3 + 9973*y_b3*z_b3 + 9973*y_b4*z_b3 + 34*z_b1*z_b3 + 34*z_b2*z_b3 + 17*z_b3^2 + 9973*y_b1*z_b4 + 9973*y_b2*z_b4 + 9973*y_b3*z_b4 + 9973*y_b4*z_b4 + 34*z_b1*z_b4 + 34*z_b2*z_b4 + 34*z_b3*z_b4 + 17*z_b4^2 + 3*y_b1 + y_b2 + y_b3 + 8*y_b4 + z_b1 + z_b2 + z_b3 + z_b4 + 10006*x_s1_b4_r1 + k_b4 + 7079\n",
      "20*y_b1^2 + 40*y_b1*y_b2 + 20*y_b2^2 + 40*y_b1*y_b3 + 40*y_b2*y_b3 + 20*y_b3^2 + 40*y_b1*y_b4 + 40*y_b2*y_b4 + 40*y_b3*y_b4 + 20*y_b4^2 + 9967*y_b1*z_b1 + 9967*y_b2*z_b1 + 9967*y_b3*z_b1 + 9967*y_b4*z_b1 + 20*z_b1^2 + 9967*y_b1*z_b2 + 9967*y_b2*z_b2 + 9967*y_b3*z_b2 + 9967*y_b4*z_b2 + 40*z_b1*z_b2 + 20*z_b2^2 + 9967*y_b1*z_b3 + 9967*y_b2*z_b3 + 9967*y_b3*z_b3 + 9967*y_b4*z_b3 + 40*z_b1*z_b3 + 40*z_b2*z_b3 + 20*z_b3^2 + 9967*y_b1*z_b4 + 9967*y_b2*z_b4 + 9967*y_b3*z_b4 + 9967*y_b4*z_b4 + 40*z_b1*z_b4 + 40*z_b2*z_b4 + 40*z_b3*z_b4 + 20*z_b4^2 + 7*y_b1 + y_b2 + y_b3 + y_b4 + 7*z_b1 + z_b2 + z_b3 + z_b4 + 10006*x_s1_b5_r1 + 3*k_b1 + 2*k_b2 + k_b3 + k_b4 + 9899\n",
      "19*y_b1^2 + 38*y_b1*y_b2 + 19*y_b2^2 + 38*y_b1*y_b3 + 38*y_b2*y_b3 + 19*y_b3^2 + 38*y_b1*y_b4 + 38*y_b2*y_b4 + 38*y_b3*y_b4 + 19*y_b4^2 + 9969*y_b1*z_b1 + 9969*y_b2*z_b1 + 9969*y_b3*z_b1 + 9969*y_b4*z_b1 + 19*z_b1^2 + 9969*y_b1*z_b2 + 9969*y_b2*z_b2 + 9969*y_b3*z_b2 + 9969*y_b4*z_b2 + 38*z_b1*z_b2 + 19*z_b2^2 + 9969*y_b1*z_b3 + 9969*y_b2*z_b3 + 9969*y_b3*z_b3 + 9969*y_b4*z_b3 + 38*z_b1*z_b3 + 38*z_b2*z_b3 + 19*z_b3^2 + 9969*y_b1*z_b4 + 9969*y_b2*z_b4 + 9969*y_b3*z_b4 + 9969*y_b4*z_b4 + 38*z_b1*z_b4 + 38*z_b2*z_b4 + 38*z_b3*z_b4 + 19*z_b4^2 + 8*y_b1 + y_b2 + y_b3 + y_b4 + z_b1 + 5*z_b2 + z_b3 + z_b4 + 10006*x_s1_b6_r1 + k_b1 + 3*k_b2 + 2*k_b3 + k_b4 + 1526\n",
      "13*y_b1^2 + 26*y_b1*y_b2 + 13*y_b2^2 + 26*y_b1*y_b3 + 26*y_b2*y_b3 + 13*y_b3^2 + 26*y_b1*y_b4 + 26*y_b2*y_b4 + 26*y_b3*y_b4 + 13*y_b4^2 + 9981*y_b1*z_b1 + 9981*y_b2*z_b1 + 9981*y_b3*z_b1 + 9981*y_b4*z_b1 + 13*z_b1^2 + 9981*y_b1*z_b2 + 9981*y_b2*z_b2 + 9981*y_b3*z_b2 + 9981*y_b4*z_b2 + 26*z_b1*z_b2 + 13*z_b2^2 + 9981*y_b1*z_b3 + 9981*y_b2*z_b3 + 9981*y_b3*z_b3 + 9981*y_b4*z_b3 + 26*z_b1*z_b3 + 26*z_b2*z_b3 + 13*z_b3^2 + 9981*y_b1*z_b4 + 9981*y_b2*z_b4 + 9981*y_b3*z_b4 + 9981*y_b4*z_b4 + 26*z_b1*z_b4 + 26*z_b2*z_b4 + 26*z_b3*z_b4 + 13*z_b4^2 + 5*y_b1 + y_b2 + y_b3 + y_b4 + z_b1 + z_b2 + 2*z_b3 + z_b4 + 10006*x_s1_b7_r1 + k_b1 + k_b2 + 3*k_b3 + 2*k_b4 + 7201\n",
      "16*y_b1^2 + 32*y_b1*y_b2 + 16*y_b2^2 + 32*y_b1*y_b3 + 32*y_b2*y_b3 + 16*y_b3^2 + 32*y_b1*y_b4 + 32*y_b2*y_b4 + 32*y_b3*y_b4 + 16*y_b4^2 + 9975*y_b1*z_b1 + 9975*y_b2*z_b1 + 9975*y_b3*z_b1 + 9975*y_b4*z_b1 + 16*z_b1^2 + 9975*y_b1*z_b2 + 9975*y_b2*z_b2 + 9975*y_b3*z_b2 + 9975*y_b4*z_b2 + 32*z_b1*z_b2 + 16*z_b2^2 + 9975*y_b1*z_b3 + 9975*y_b2*z_b3 + 9975*y_b3*z_b3 + 9975*y_b4*z_b3 + 32*z_b1*z_b3 + 32*z_b2*z_b3 + 16*z_b3^2 + 9975*y_b1*z_b4 + 9975*y_b2*z_b4 + 9975*y_b3*z_b4 + 9975*y_b4*z_b4 + 32*z_b1*z_b4 + 32*z_b2*z_b4 + 32*z_b3*z_b4 + 16*z_b4^2 + 4*y_b1 + y_b2 + y_b3 + y_b4 + z_b1 + z_b2 + z_b3 + 6*z_b4 + 10006*x_s1_b8_r1 + 2*k_b1 + k_b2 + k_b3 + 3*k_b4 + 5304\n",
      "----------------------------------------------------------------------\n",
      "17*y_b1^2 + 34*y_b1*y_b2 + 17*y_b2^2 + 34*y_b1*y_b3 + 34*y_b2*y_b3 + 17*y_b3^2 + 34*y_b1*y_b4 + 34*y_b2*y_b4 + 34*y_b3*y_b4 + 17*y_b4^2 + 9973*y_b1*z_b1 + 9973*y_b2*z_b1 + 9973*y_b3*z_b1 + 9973*y_b4*z_b1 + 17*z_b1^2 + 9973*y_b1*z_b2 + 9973*y_b2*z_b2 + 9973*y_b3*z_b2 + 9973*y_b4*z_b2 + 34*z_b1*z_b2 + 17*z_b2^2 + 9973*y_b1*z_b3 + 9973*y_b2*z_b3 + 9973*y_b3*z_b3 + 9973*y_b4*z_b3 + 34*z_b1*z_b3 + 34*z_b2*z_b3 + 17*z_b3^2 + 9973*y_b1*z_b4 + 9973*y_b2*z_b4 + 9973*y_b3*z_b4 + 9973*y_b4*z_b4 + 34*z_b1*z_b4 + 34*z_b2*z_b4 + 34*z_b3*z_b4 + 17*z_b4^2 + 3*y_b1 + y_b2 + y_b3 + 8*y_b4 + z_b1 + z_b2 + z_b3 + z_b4 + 10006*x_s1_b4_r1 + k_b4 + 7079\n",
      "20*y_b1^2 + 40*y_b1*y_b2 + 20*y_b2^2 + 40*y_b1*y_b3 + 40*y_b2*y_b3 + 20*y_b3^2 + 40*y_b1*y_b4 + 40*y_b2*y_b4 + 40*y_b3*y_b4 + 20*y_b4^2 + 9967*y_b1*z_b1 + 9967*y_b2*z_b1 + 9967*y_b3*z_b1 + 9967*y_b4*z_b1 + 20*z_b1^2 + 9967*y_b1*z_b2 + 9967*y_b2*z_b2 + 9967*y_b3*z_b2 + 9967*y_b4*z_b2 + 40*z_b1*z_b2 + 20*z_b2^2 + 9967*y_b1*z_b3 + 9967*y_b2*z_b3 + 9967*y_b3*z_b3 + 9967*y_b4*z_b3 + 40*z_b1*z_b3 + 40*z_b2*z_b3 + 20*z_b3^2 + 9967*y_b1*z_b4 + 9967*y_b2*z_b4 + 9967*y_b3*z_b4 + 9967*y_b4*z_b4 + 40*z_b1*z_b4 + 40*z_b2*z_b4 + 40*z_b3*z_b4 + 20*z_b4^2 + 7*y_b1 + y_b2 + y_b3 + y_b4 + 7*z_b1 + z_b2 + z_b3 + z_b4 + 10006*x_s1_b5_r1 + 3*k_b1 + 2*k_b2 + k_b3 + k_b4 + 9899\n",
      "19*y_b1^2 + 38*y_b1*y_b2 + 19*y_b2^2 + 38*y_b1*y_b3 + 38*y_b2*y_b3 + 19*y_b3^2 + 38*y_b1*y_b4 + 38*y_b2*y_b4 + 38*y_b3*y_b4 + 19*y_b4^2 + 9969*y_b1*z_b1 + 9969*y_b2*z_b1 + 9969*y_b3*z_b1 + 9969*y_b4*z_b1 + 19*z_b1^2 + 9969*y_b1*z_b2 + 9969*y_b2*z_b2 + 9969*y_b3*z_b2 + 9969*y_b4*z_b2 + 38*z_b1*z_b2 + 19*z_b2^2 + 9969*y_b1*z_b3 + 9969*y_b2*z_b3 + 9969*y_b3*z_b3 + 9969*y_b4*z_b3 + 38*z_b1*z_b3 + 38*z_b2*z_b3 + 19*z_b3^2 + 9969*y_b1*z_b4 + 9969*y_b2*z_b4 + 9969*y_b3*z_b4 + 9969*y_b4*z_b4 + 38*z_b1*z_b4 + 38*z_b2*z_b4 + 38*z_b3*z_b4 + 19*z_b4^2 + 8*y_b1 + y_b2 + y_b3 + y_b4 + z_b1 + 5*z_b2 + z_b3 + z_b4 + 10006*x_s1_b6_r1 + k_b1 + 3*k_b2 + 2*k_b3 + k_b4 + 1526\n",
      "13*y_b1^2 + 26*y_b1*y_b2 + 13*y_b2^2 + 26*y_b1*y_b3 + 26*y_b2*y_b3 + 13*y_b3^2 + 26*y_b1*y_b4 + 26*y_b2*y_b4 + 26*y_b3*y_b4 + 13*y_b4^2 + 9981*y_b1*z_b1 + 9981*y_b2*z_b1 + 9981*y_b3*z_b1 + 9981*y_b4*z_b1 + 13*z_b1^2 + 9981*y_b1*z_b2 + 9981*y_b2*z_b2 + 9981*y_b3*z_b2 + 9981*y_b4*z_b2 + 26*z_b1*z_b2 + 13*z_b2^2 + 9981*y_b1*z_b3 + 9981*y_b2*z_b3 + 9981*y_b3*z_b3 + 9981*y_b4*z_b3 + 26*z_b1*z_b3 + 26*z_b2*z_b3 + 13*z_b3^2 + 9981*y_b1*z_b4 + 9981*y_b2*z_b4 + 9981*y_b3*z_b4 + 9981*y_b4*z_b4 + 26*z_b1*z_b4 + 26*z_b2*z_b4 + 26*z_b3*z_b4 + 13*z_b4^2 + 5*y_b1 + y_b2 + y_b3 + y_b4 + z_b1 + z_b2 + 2*z_b3 + z_b4 + 10006*x_s1_b7_r1 + k_b1 + k_b2 + 3*k_b3 + 2*k_b4 + 7201\n",
      "16*y_b1^2 + 32*y_b1*y_b2 + 16*y_b2^2 + 32*y_b1*y_b3 + 32*y_b2*y_b3 + 16*y_b3^2 + 32*y_b1*y_b4 + 32*y_b2*y_b4 + 32*y_b3*y_b4 + 16*y_b4^2 + 9975*y_b1*z_b1 + 9975*y_b2*z_b1 + 9975*y_b3*z_b1 + 9975*y_b4*z_b1 + 16*z_b1^2 + 9975*y_b1*z_b2 + 9975*y_b2*z_b2 + 9975*y_b3*z_b2 + 9975*y_b4*z_b2 + 32*z_b1*z_b2 + 16*z_b2^2 + 9975*y_b1*z_b3 + 9975*y_b2*z_b3 + 9975*y_b3*z_b3 + 9975*y_b4*z_b3 + 32*z_b1*z_b3 + 32*z_b2*z_b3 + 16*z_b3^2 + 9975*y_b1*z_b4 + 9975*y_b2*z_b4 + 9975*y_b3*z_b4 + 9975*y_b4*z_b4 + 32*z_b1*z_b4 + 32*z_b2*z_b4 + 32*z_b3*z_b4 + 16*z_b4^2 + 4*y_b1 + y_b2 + y_b3 + y_b4 + z_b1 + z_b2 + z_b3 + 6*z_b4 + 10006*x_s1_b8_r1 + 2*k_b1 + k_b2 + k_b3 + 3*k_b4 + 5304\n",
      "10*x_s1_b1_r1^2 + 20*x_s1_b1_r1*x_s1_b2_r1 + 10*x_s1_b2_r1^2 + 20*x_s1_b1_r1*x_s1_b3_r1 + 20*x_s1_b2_r1*x_s1_b3_r1 + 10*x_s1_b3_r1^2 + 20*x_s1_b1_r1*x_s1_b4_r1 + 20*x_s1_b2_r1*x_s1_b4_r1 + 20*x_s1_b3_r1*x_s1_b4_r1 + 10*x_s1_b4_r1^2 + 9987*x_s1_b1_r1*x_s1_b5_r1 + 9987*x_s1_b2_r1*x_s1_b5_r1 + 9987*x_s1_b3_r1*x_s1_b5_r1 + 9987*x_s1_b4_r1*x_s1_b5_r1 + 10*x_s1_b5_r1^2 + 9987*x_s1_b1_r1*x_s1_b6_r1 + 9987*x_s1_b2_r1*x_s1_b6_r1 + 9987*x_s1_b3_r1*x_s1_b6_r1 + 9987*x_s1_b4_r1*x_s1_b6_r1 + 20*x_s1_b5_r1*x_s1_b6_r1 + 10*x_s1_b6_r1^2 + 9987*x_s1_b1_r1*x_s1_b7_r1 + 9987*x_s1_b2_r1*x_s1_b7_r1 + 9987*x_s1_b3_r1*x_s1_b7_r1 + 9987*x_s1_b4_r1*x_s1_b7_r1 + 20*x_s1_b5_r1*x_s1_b7_r1 + 20*x_s1_b6_r1*x_s1_b7_r1 + 10*x_s1_b7_r1^2 + 9987*x_s1_b1_r1*x_s1_b8_r1 + 9987*x_s1_b2_r1*x_s1_b8_r1 + 9987*x_s1_b3_r1*x_s1_b8_r1 + 9987*x_s1_b4_r1*x_s1_b8_r1 + 20*x_s1_b5_r1*x_s1_b8_r1 + 20*x_s1_b6_r1*x_s1_b8_r1 + 20*x_s1_b7_r1*x_s1_b8_r1 + 10*x_s1_b8_r1^2 + 3*x_s1_b1_r1 + x_s1_b2_r1 + x_s1_b3_r1 + x_s1_b4_r1 + x_s1_b5_r1 + x_s1_b6_r1 + x_s1_b7_r1 + x_s1_b8_r1 + 10006*x_s1_b1_r2 + k_b1 + 2287\n",
      "16*x_s1_b1_r1^2 + 32*x_s1_b1_r1*x_s1_b2_r1 + 16*x_s1_b2_r1^2 + 32*x_s1_b1_r1*x_s1_b3_r1 + 32*x_s1_b2_r1*x_s1_b3_r1 + 16*x_s1_b3_r1^2 + 32*x_s1_b1_r1*x_s1_b4_r1 + 32*x_s1_b2_r1*x_s1_b4_r1 + 32*x_s1_b3_r1*x_s1_b4_r1 + 16*x_s1_b4_r1^2 + 9975*x_s1_b1_r1*x_s1_b5_r1 + 9975*x_s1_b2_r1*x_s1_b5_r1 + 9975*x_s1_b3_r1*x_s1_b5_r1 + 9975*x_s1_b4_r1*x_s1_b5_r1 + 16*x_s1_b5_r1^2 + 9975*x_s1_b1_r1*x_s1_b6_r1 + 9975*x_s1_b2_r1*x_s1_b6_r1 + 9975*x_s1_b3_r1*x_s1_b6_r1 + 9975*x_s1_b4_r1*x_s1_b6_r1 + 32*x_s1_b5_r1*x_s1_b6_r1 + 16*x_s1_b6_r1^2 + 9975*x_s1_b1_r1*x_s1_b7_r1 + 9975*x_s1_b2_r1*x_s1_b7_r1 + 9975*x_s1_b3_r1*x_s1_b7_r1 + 9975*x_s1_b4_r1*x_s1_b7_r1 + 32*x_s1_b5_r1*x_s1_b7_r1 + 32*x_s1_b6_r1*x_s1_b7_r1 + 16*x_s1_b7_r1^2 + 9975*x_s1_b1_r1*x_s1_b8_r1 + 9975*x_s1_b2_r1*x_s1_b8_r1 + 9975*x_s1_b3_r1*x_s1_b8_r1 + 9975*x_s1_b4_r1*x_s1_b8_r1 + 32*x_s1_b5_r1*x_s1_b8_r1 + 32*x_s1_b6_r1*x_s1_b8_r1 + 32*x_s1_b7_r1*x_s1_b8_r1 + 16*x_s1_b8_r1^2 + 7*x_s1_b1_r1 + 3*x_s1_b2_r1 + x_s1_b3_r1 + x_s1_b4_r1 + x_s1_b5_r1 + x_s1_b6_r1 + x_s1_b7_r1 + x_s1_b8_r1 + 10006*x_s1_b2_r2 + k_b2 + 2547\n",
      "14*x_s1_b1_r1^2 + 28*x_s1_b1_r1*x_s1_b2_r1 + 14*x_s1_b2_r1^2 + 28*x_s1_b1_r1*x_s1_b3_r1 + 28*x_s1_b2_r1*x_s1_b3_r1 + 14*x_s1_b3_r1^2 + 28*x_s1_b1_r1*x_s1_b4_r1 + 28*x_s1_b2_r1*x_s1_b4_r1 + 28*x_s1_b3_r1*x_s1_b4_r1 + 14*x_s1_b4_r1^2 + 9979*x_s1_b1_r1*x_s1_b5_r1 + 9979*x_s1_b2_r1*x_s1_b5_r1 + 9979*x_s1_b3_r1*x_s1_b5_r1 + 9979*x_s1_b4_r1*x_s1_b5_r1 + 14*x_s1_b5_r1^2 + 9979*x_s1_b1_r1*x_s1_b6_r1 + 9979*x_s1_b2_r1*x_s1_b6_r1 + 9979*x_s1_b3_r1*x_s1_b6_r1 + 9979*x_s1_b4_r1*x_s1_b6_r1 + 28*x_s1_b5_r1*x_s1_b6_r1 + 14*x_s1_b6_r1^2 + 9979*x_s1_b1_r1*x_s1_b7_r1 + 9979*x_s1_b2_r1*x_s1_b7_r1 + 9979*x_s1_b3_r1*x_s1_b7_r1 + 9979*x_s1_b4_r1*x_s1_b7_r1 + 28*x_s1_b5_r1*x_s1_b7_r1 + 28*x_s1_b6_r1*x_s1_b7_r1 + 14*x_s1_b7_r1^2 + 9979*x_s1_b1_r1*x_s1_b8_r1 + 9979*x_s1_b2_r1*x_s1_b8_r1 + 9979*x_s1_b3_r1*x_s1_b8_r1 + 9979*x_s1_b4_r1*x_s1_b8_r1 + 28*x_s1_b5_r1*x_s1_b8_r1 + 28*x_s1_b6_r1*x_s1_b8_r1 + 28*x_s1_b7_r1*x_s1_b8_r1 + 14*x_s1_b8_r1^2 + 4*x_s1_b1_r1 + x_s1_b2_r1 + 4*x_s1_b3_r1 + x_s1_b4_r1 + x_s1_b5_r1 + x_s1_b6_r1 + x_s1_b7_r1 + x_s1_b8_r1 + 10006*x_s1_b3_r2 + k_b3 + 7450\n",
      "----------------------------------------------------------------------\n",
      "13*y_b1^2 + 26*y_b1*y_b2 + 13*y_b2^2 + 26*y_b1*y_b3 + 26*y_b2*y_b3 + 13*y_b3^2 + 26*y_b1*y_b4 + 26*y_b2*y_b4 + 26*y_b3*y_b4 + 13*y_b4^2 + 9981*y_b1*z_b1 + 9981*y_b2*z_b1 + 9981*y_b3*z_b1 + 9981*y_b4*z_b1 + 13*z_b1^2 + 9981*y_b1*z_b2 + 9981*y_b2*z_b2 + 9981*y_b3*z_b2 + 9981*y_b4*z_b2 + 26*z_b1*z_b2 + 13*z_b2^2 + 9981*y_b1*z_b3 + 9981*y_b2*z_b3 + 9981*y_b3*z_b3 + 9981*y_b4*z_b3 + 26*z_b1*z_b3 + 26*z_b2*z_b3 + 13*z_b3^2 + 9981*y_b1*z_b4 + 9981*y_b2*z_b4 + 9981*y_b3*z_b4 + 9981*y_b4*z_b4 + 26*z_b1*z_b4 + 26*z_b2*z_b4 + 26*z_b3*z_b4 + 13*z_b4^2 + 5*y_b1 + y_b2 + y_b3 + y_b4 + z_b1 + z_b2 + 2*z_b3 + z_b4 + 10006*x_s1_b7_r1 + k_b1 + k_b2 + 3*k_b3 + 2*k_b4 + 7201\n",
      "16*y_b1^2 + 32*y_b1*y_b2 + 16*y_b2^2 + 32*y_b1*y_b3 + 32*y_b2*y_b3 + 16*y_b3^2 + 32*y_b1*y_b4 + 32*y_b2*y_b4 + 32*y_b3*y_b4 + 16*y_b4^2 + 9975*y_b1*z_b1 + 9975*y_b2*z_b1 + 9975*y_b3*z_b1 + 9975*y_b4*z_b1 + 16*z_b1^2 + 9975*y_b1*z_b2 + 9975*y_b2*z_b2 + 9975*y_b3*z_b2 + 9975*y_b4*z_b2 + 32*z_b1*z_b2 + 16*z_b2^2 + 9975*y_b1*z_b3 + 9975*y_b2*z_b3 + 9975*y_b3*z_b3 + 9975*y_b4*z_b3 + 32*z_b1*z_b3 + 32*z_b2*z_b3 + 16*z_b3^2 + 9975*y_b1*z_b4 + 9975*y_b2*z_b4 + 9975*y_b3*z_b4 + 9975*y_b4*z_b4 + 32*z_b1*z_b4 + 32*z_b2*z_b4 + 32*z_b3*z_b4 + 16*z_b4^2 + 4*y_b1 + y_b2 + y_b3 + y_b4 + z_b1 + z_b2 + z_b3 + 6*z_b4 + 10006*x_s1_b8_r1 + 2*k_b1 + k_b2 + k_b3 + 3*k_b4 + 5304\n",
      "10*x_s1_b1_r1^2 + 20*x_s1_b1_r1*x_s1_b2_r1 + 10*x_s1_b2_r1^2 + 20*x_s1_b1_r1*x_s1_b3_r1 + 20*x_s1_b2_r1*x_s1_b3_r1 + 10*x_s1_b3_r1^2 + 20*x_s1_b1_r1*x_s1_b4_r1 + 20*x_s1_b2_r1*x_s1_b4_r1 + 20*x_s1_b3_r1*x_s1_b4_r1 + 10*x_s1_b4_r1^2 + 9987*x_s1_b1_r1*x_s1_b5_r1 + 9987*x_s1_b2_r1*x_s1_b5_r1 + 9987*x_s1_b3_r1*x_s1_b5_r1 + 9987*x_s1_b4_r1*x_s1_b5_r1 + 10*x_s1_b5_r1^2 + 9987*x_s1_b1_r1*x_s1_b6_r1 + 9987*x_s1_b2_r1*x_s1_b6_r1 + 9987*x_s1_b3_r1*x_s1_b6_r1 + 9987*x_s1_b4_r1*x_s1_b6_r1 + 20*x_s1_b5_r1*x_s1_b6_r1 + 10*x_s1_b6_r1^2 + 9987*x_s1_b1_r1*x_s1_b7_r1 + 9987*x_s1_b2_r1*x_s1_b7_r1 + 9987*x_s1_b3_r1*x_s1_b7_r1 + 9987*x_s1_b4_r1*x_s1_b7_r1 + 20*x_s1_b5_r1*x_s1_b7_r1 + 20*x_s1_b6_r1*x_s1_b7_r1 + 10*x_s1_b7_r1^2 + 9987*x_s1_b1_r1*x_s1_b8_r1 + 9987*x_s1_b2_r1*x_s1_b8_r1 + 9987*x_s1_b3_r1*x_s1_b8_r1 + 9987*x_s1_b4_r1*x_s1_b8_r1 + 20*x_s1_b5_r1*x_s1_b8_r1 + 20*x_s1_b6_r1*x_s1_b8_r1 + 20*x_s1_b7_r1*x_s1_b8_r1 + 10*x_s1_b8_r1^2 + 3*x_s1_b1_r1 + x_s1_b2_r1 + x_s1_b3_r1 + x_s1_b4_r1 + x_s1_b5_r1 + x_s1_b6_r1 + x_s1_b7_r1 + x_s1_b8_r1 + 10006*x_s1_b1_r2 + k_b1 + 2287\n",
      "16*x_s1_b1_r1^2 + 32*x_s1_b1_r1*x_s1_b2_r1 + 16*x_s1_b2_r1^2 + 32*x_s1_b1_r1*x_s1_b3_r1 + 32*x_s1_b2_r1*x_s1_b3_r1 + 16*x_s1_b3_r1^2 + 32*x_s1_b1_r1*x_s1_b4_r1 + 32*x_s1_b2_r1*x_s1_b4_r1 + 32*x_s1_b3_r1*x_s1_b4_r1 + 16*x_s1_b4_r1^2 + 9975*x_s1_b1_r1*x_s1_b5_r1 + 9975*x_s1_b2_r1*x_s1_b5_r1 + 9975*x_s1_b3_r1*x_s1_b5_r1 + 9975*x_s1_b4_r1*x_s1_b5_r1 + 16*x_s1_b5_r1^2 + 9975*x_s1_b1_r1*x_s1_b6_r1 + 9975*x_s1_b2_r1*x_s1_b6_r1 + 9975*x_s1_b3_r1*x_s1_b6_r1 + 9975*x_s1_b4_r1*x_s1_b6_r1 + 32*x_s1_b5_r1*x_s1_b6_r1 + 16*x_s1_b6_r1^2 + 9975*x_s1_b1_r1*x_s1_b7_r1 + 9975*x_s1_b2_r1*x_s1_b7_r1 + 9975*x_s1_b3_r1*x_s1_b7_r1 + 9975*x_s1_b4_r1*x_s1_b7_r1 + 32*x_s1_b5_r1*x_s1_b7_r1 + 32*x_s1_b6_r1*x_s1_b7_r1 + 16*x_s1_b7_r1^2 + 9975*x_s1_b1_r1*x_s1_b8_r1 + 9975*x_s1_b2_r1*x_s1_b8_r1 + 9975*x_s1_b3_r1*x_s1_b8_r1 + 9975*x_s1_b4_r1*x_s1_b8_r1 + 32*x_s1_b5_r1*x_s1_b8_r1 + 32*x_s1_b6_r1*x_s1_b8_r1 + 32*x_s1_b7_r1*x_s1_b8_r1 + 16*x_s1_b8_r1^2 + 7*x_s1_b1_r1 + 3*x_s1_b2_r1 + x_s1_b3_r1 + x_s1_b4_r1 + x_s1_b5_r1 + x_s1_b6_r1 + x_s1_b7_r1 + x_s1_b8_r1 + 10006*x_s1_b2_r2 + k_b2 + 2547\n",
      "14*x_s1_b1_r1^2 + 28*x_s1_b1_r1*x_s1_b2_r1 + 14*x_s1_b2_r1^2 + 28*x_s1_b1_r1*x_s1_b3_r1 + 28*x_s1_b2_r1*x_s1_b3_r1 + 14*x_s1_b3_r1^2 + 28*x_s1_b1_r1*x_s1_b4_r1 + 28*x_s1_b2_r1*x_s1_b4_r1 + 28*x_s1_b3_r1*x_s1_b4_r1 + 14*x_s1_b4_r1^2 + 9979*x_s1_b1_r1*x_s1_b5_r1 + 9979*x_s1_b2_r1*x_s1_b5_r1 + 9979*x_s1_b3_r1*x_s1_b5_r1 + 9979*x_s1_b4_r1*x_s1_b5_r1 + 14*x_s1_b5_r1^2 + 9979*x_s1_b1_r1*x_s1_b6_r1 + 9979*x_s1_b2_r1*x_s1_b6_r1 + 9979*x_s1_b3_r1*x_s1_b6_r1 + 9979*x_s1_b4_r1*x_s1_b6_r1 + 28*x_s1_b5_r1*x_s1_b6_r1 + 14*x_s1_b6_r1^2 + 9979*x_s1_b1_r1*x_s1_b7_r1 + 9979*x_s1_b2_r1*x_s1_b7_r1 + 9979*x_s1_b3_r1*x_s1_b7_r1 + 9979*x_s1_b4_r1*x_s1_b7_r1 + 28*x_s1_b5_r1*x_s1_b7_r1 + 28*x_s1_b6_r1*x_s1_b7_r1 + 14*x_s1_b7_r1^2 + 9979*x_s1_b1_r1*x_s1_b8_r1 + 9979*x_s1_b2_r1*x_s1_b8_r1 + 9979*x_s1_b3_r1*x_s1_b8_r1 + 9979*x_s1_b4_r1*x_s1_b8_r1 + 28*x_s1_b5_r1*x_s1_b8_r1 + 28*x_s1_b6_r1*x_s1_b8_r1 + 28*x_s1_b7_r1*x_s1_b8_r1 + 14*x_s1_b8_r1^2 + 4*x_s1_b1_r1 + x_s1_b2_r1 + 4*x_s1_b3_r1 + x_s1_b4_r1 + x_s1_b5_r1 + x_s1_b6_r1 + x_s1_b7_r1 + x_s1_b8_r1 + 10006*x_s1_b3_r2 + k_b3 + 7450\n",
      "17*x_s1_b1_r1^2 + 34*x_s1_b1_r1*x_s1_b2_r1 + 17*x_s1_b2_r1^2 + 34*x_s1_b1_r1*x_s1_b3_r1 + 34*x_s1_b2_r1*x_s1_b3_r1 + 17*x_s1_b3_r1^2 + 34*x_s1_b1_r1*x_s1_b4_r1 + 34*x_s1_b2_r1*x_s1_b4_r1 + 34*x_s1_b3_r1*x_s1_b4_r1 + 17*x_s1_b4_r1^2 + 9973*x_s1_b1_r1*x_s1_b5_r1 + 9973*x_s1_b2_r1*x_s1_b5_r1 + 9973*x_s1_b3_r1*x_s1_b5_r1 + 9973*x_s1_b4_r1*x_s1_b5_r1 + 17*x_s1_b5_r1^2 + 9973*x_s1_b1_r1*x_s1_b6_r1 + 9973*x_s1_b2_r1*x_s1_b6_r1 + 9973*x_s1_b3_r1*x_s1_b6_r1 + 9973*x_s1_b4_r1*x_s1_b6_r1 + 34*x_s1_b5_r1*x_s1_b6_r1 + 17*x_s1_b6_r1^2 + 9973*x_s1_b1_r1*x_s1_b7_r1 + 9973*x_s1_b2_r1*x_s1_b7_r1 + 9973*x_s1_b3_r1*x_s1_b7_r1 + 9973*x_s1_b4_r1*x_s1_b7_r1 + 34*x_s1_b5_r1*x_s1_b7_r1 + 34*x_s1_b6_r1*x_s1_b7_r1 + 17*x_s1_b7_r1^2 + 9973*x_s1_b1_r1*x_s1_b8_r1 + 9973*x_s1_b2_r1*x_s1_b8_r1 + 9973*x_s1_b3_r1*x_s1_b8_r1 + 9973*x_s1_b4_r1*x_s1_b8_r1 + 34*x_s1_b5_r1*x_s1_b8_r1 + 34*x_s1_b6_r1*x_s1_b8_r1 + 34*x_s1_b7_r1*x_s1_b8_r1 + 17*x_s1_b8_r1^2 + 3*x_s1_b1_r1 + x_s1_b2_r1 + x_s1_b3_r1 + 8*x_s1_b4_r1 + x_s1_b5_r1 + x_s1_b6_r1 + x_s1_b7_r1 + x_s1_b8_r1 + 10006*x_s1_b4_r2 + k_b4 + 917\n",
      "20*x_s1_b1_r1^2 + 40*x_s1_b1_r1*x_s1_b2_r1 + 20*x_s1_b2_r1^2 + 40*x_s1_b1_r1*x_s1_b3_r1 + 40*x_s1_b2_r1*x_s1_b3_r1 + 20*x_s1_b3_r1^2 + 40*x_s1_b1_r1*x_s1_b4_r1 + 40*x_s1_b2_r1*x_s1_b4_r1 + 40*x_s1_b3_r1*x_s1_b4_r1 + 20*x_s1_b4_r1^2 + 9967*x_s1_b1_r1*x_s1_b5_r1 + 9967*x_s1_b2_r1*x_s1_b5_r1 + 9967*x_s1_b3_r1*x_s1_b5_r1 + 9967*x_s1_b4_r1*x_s1_b5_r1 + 20*x_s1_b5_r1^2 + 9967*x_s1_b1_r1*x_s1_b6_r1 + 9967*x_s1_b2_r1*x_s1_b6_r1 + 9967*x_s1_b3_r1*x_s1_b6_r1 + 9967*x_s1_b4_r1*x_s1_b6_r1 + 40*x_s1_b5_r1*x_s1_b6_r1 + 20*x_s1_b6_r1^2 + 9967*x_s1_b1_r1*x_s1_b7_r1 + 9967*x_s1_b2_r1*x_s1_b7_r1 + 9967*x_s1_b3_r1*x_s1_b7_r1 + 9967*x_s1_b4_r1*x_s1_b7_r1 + 40*x_s1_b5_r1*x_s1_b7_r1 + 40*x_s1_b6_r1*x_s1_b7_r1 + 20*x_s1_b7_r1^2 + 9967*x_s1_b1_r1*x_s1_b8_r1 + 9967*x_s1_b2_r1*x_s1_b8_r1 + 9967*x_s1_b3_r1*x_s1_b8_r1 + 9967*x_s1_b4_r1*x_s1_b8_r1 + 40*x_s1_b5_r1*x_s1_b8_r1 + 40*x_s1_b6_r1*x_s1_b8_r1 + 40*x_s1_b7_r1*x_s1_b8_r1 + 20*x_s1_b8_r1^2 + 7*x_s1_b1_r1 + x_s1_b2_r1 + x_s1_b3_r1 + x_s1_b4_r1 + 7*x_s1_b5_r1 + x_s1_b6_r1 + x_s1_b7_r1 + x_s1_b8_r1 + 10006*x_s1_b5_r2 + 3*k_b1 + 2*k_b2 + k_b3 + k_b4 + 9660\n",
      "19*x_s1_b1_r1^2 + 38*x_s1_b1_r1*x_s1_b2_r1 + 19*x_s1_b2_r1^2 + 38*x_s1_b1_r1*x_s1_b3_r1 + 38*x_s1_b2_r1*x_s1_b3_r1 + 19*x_s1_b3_r1^2 + 38*x_s1_b1_r1*x_s1_b4_r1 + 38*x_s1_b2_r1*x_s1_b4_r1 + 38*x_s1_b3_r1*x_s1_b4_r1 + 19*x_s1_b4_r1^2 + 9969*x_s1_b1_r1*x_s1_b5_r1 + 9969*x_s1_b2_r1*x_s1_b5_r1 + 9969*x_s1_b3_r1*x_s1_b5_r1 + 9969*x_s1_b4_r1*x_s1_b5_r1 + 19*x_s1_b5_r1^2 + 9969*x_s1_b1_r1*x_s1_b6_r1 + 9969*x_s1_b2_r1*x_s1_b6_r1 + 9969*x_s1_b3_r1*x_s1_b6_r1 + 9969*x_s1_b4_r1*x_s1_b6_r1 + 38*x_s1_b5_r1*x_s1_b6_r1 + 19*x_s1_b6_r1^2 + 9969*x_s1_b1_r1*x_s1_b7_r1 + 9969*x_s1_b2_r1*x_s1_b7_r1 + 9969*x_s1_b3_r1*x_s1_b7_r1 + 9969*x_s1_b4_r1*x_s1_b7_r1 + 38*x_s1_b5_r1*x_s1_b7_r1 + 38*x_s1_b6_r1*x_s1_b7_r1 + 19*x_s1_b7_r1^2 + 9969*x_s1_b1_r1*x_s1_b8_r1 + 9969*x_s1_b2_r1*x_s1_b8_r1 + 9969*x_s1_b3_r1*x_s1_b8_r1 + 9969*x_s1_b4_r1*x_s1_b8_r1 + 38*x_s1_b5_r1*x_s1_b8_r1 + 38*x_s1_b6_r1*x_s1_b8_r1 + 38*x_s1_b7_r1*x_s1_b8_r1 + 19*x_s1_b8_r1^2 + 8*x_s1_b1_r1 + x_s1_b2_r1 + x_s1_b3_r1 + x_s1_b4_r1 + x_s1_b5_r1 + 5*x_s1_b6_r1 + x_s1_b7_r1 + x_s1_b8_r1 + 10006*x_s1_b6_r2 + k_b1 + 3*k_b2 + 2*k_b3 + k_b4 + 8672\n",
      "----------------------------------------------------------------------\n",
      "16*x_s1_b1_r1^2 + 32*x_s1_b1_r1*x_s1_b2_r1 + 16*x_s1_b2_r1^2 + 32*x_s1_b1_r1*x_s1_b3_r1 + 32*x_s1_b2_r1*x_s1_b3_r1 + 16*x_s1_b3_r1^2 + 32*x_s1_b1_r1*x_s1_b4_r1 + 32*x_s1_b2_r1*x_s1_b4_r1 + 32*x_s1_b3_r1*x_s1_b4_r1 + 16*x_s1_b4_r1^2 + 9975*x_s1_b1_r1*x_s1_b5_r1 + 9975*x_s1_b2_r1*x_s1_b5_r1 + 9975*x_s1_b3_r1*x_s1_b5_r1 + 9975*x_s1_b4_r1*x_s1_b5_r1 + 16*x_s1_b5_r1^2 + 9975*x_s1_b1_r1*x_s1_b6_r1 + 9975*x_s1_b2_r1*x_s1_b6_r1 + 9975*x_s1_b3_r1*x_s1_b6_r1 + 9975*x_s1_b4_r1*x_s1_b6_r1 + 32*x_s1_b5_r1*x_s1_b6_r1 + 16*x_s1_b6_r1^2 + 9975*x_s1_b1_r1*x_s1_b7_r1 + 9975*x_s1_b2_r1*x_s1_b7_r1 + 9975*x_s1_b3_r1*x_s1_b7_r1 + 9975*x_s1_b4_r1*x_s1_b7_r1 + 32*x_s1_b5_r1*x_s1_b7_r1 + 32*x_s1_b6_r1*x_s1_b7_r1 + 16*x_s1_b7_r1^2 + 9975*x_s1_b1_r1*x_s1_b8_r1 + 9975*x_s1_b2_r1*x_s1_b8_r1 + 9975*x_s1_b3_r1*x_s1_b8_r1 + 9975*x_s1_b4_r1*x_s1_b8_r1 + 32*x_s1_b5_r1*x_s1_b8_r1 + 32*x_s1_b6_r1*x_s1_b8_r1 + 32*x_s1_b7_r1*x_s1_b8_r1 + 16*x_s1_b8_r1^2 + 7*x_s1_b1_r1 + 3*x_s1_b2_r1 + x_s1_b3_r1 + x_s1_b4_r1 + x_s1_b5_r1 + x_s1_b6_r1 + x_s1_b7_r1 + x_s1_b8_r1 + 10006*x_s1_b2_r2 + k_b2 + 2547\n",
      "14*x_s1_b1_r1^2 + 28*x_s1_b1_r1*x_s1_b2_r1 + 14*x_s1_b2_r1^2 + 28*x_s1_b1_r1*x_s1_b3_r1 + 28*x_s1_b2_r1*x_s1_b3_r1 + 14*x_s1_b3_r1^2 + 28*x_s1_b1_r1*x_s1_b4_r1 + 28*x_s1_b2_r1*x_s1_b4_r1 + 28*x_s1_b3_r1*x_s1_b4_r1 + 14*x_s1_b4_r1^2 + 9979*x_s1_b1_r1*x_s1_b5_r1 + 9979*x_s1_b2_r1*x_s1_b5_r1 + 9979*x_s1_b3_r1*x_s1_b5_r1 + 9979*x_s1_b4_r1*x_s1_b5_r1 + 14*x_s1_b5_r1^2 + 9979*x_s1_b1_r1*x_s1_b6_r1 + 9979*x_s1_b2_r1*x_s1_b6_r1 + 9979*x_s1_b3_r1*x_s1_b6_r1 + 9979*x_s1_b4_r1*x_s1_b6_r1 + 28*x_s1_b5_r1*x_s1_b6_r1 + 14*x_s1_b6_r1^2 + 9979*x_s1_b1_r1*x_s1_b7_r1 + 9979*x_s1_b2_r1*x_s1_b7_r1 + 9979*x_s1_b3_r1*x_s1_b7_r1 + 9979*x_s1_b4_r1*x_s1_b7_r1 + 28*x_s1_b5_r1*x_s1_b7_r1 + 28*x_s1_b6_r1*x_s1_b7_r1 + 14*x_s1_b7_r1^2 + 9979*x_s1_b1_r1*x_s1_b8_r1 + 9979*x_s1_b2_r1*x_s1_b8_r1 + 9979*x_s1_b3_r1*x_s1_b8_r1 + 9979*x_s1_b4_r1*x_s1_b8_r1 + 28*x_s1_b5_r1*x_s1_b8_r1 + 28*x_s1_b6_r1*x_s1_b8_r1 + 28*x_s1_b7_r1*x_s1_b8_r1 + 14*x_s1_b8_r1^2 + 4*x_s1_b1_r1 + x_s1_b2_r1 + 4*x_s1_b3_r1 + x_s1_b4_r1 + x_s1_b5_r1 + x_s1_b6_r1 + x_s1_b7_r1 + x_s1_b8_r1 + 10006*x_s1_b3_r2 + k_b3 + 7450\n",
      "17*x_s1_b1_r1^2 + 34*x_s1_b1_r1*x_s1_b2_r1 + 17*x_s1_b2_r1^2 + 34*x_s1_b1_r1*x_s1_b3_r1 + 34*x_s1_b2_r1*x_s1_b3_r1 + 17*x_s1_b3_r1^2 + 34*x_s1_b1_r1*x_s1_b4_r1 + 34*x_s1_b2_r1*x_s1_b4_r1 + 34*x_s1_b3_r1*x_s1_b4_r1 + 17*x_s1_b4_r1^2 + 9973*x_s1_b1_r1*x_s1_b5_r1 + 9973*x_s1_b2_r1*x_s1_b5_r1 + 9973*x_s1_b3_r1*x_s1_b5_r1 + 9973*x_s1_b4_r1*x_s1_b5_r1 + 17*x_s1_b5_r1^2 + 9973*x_s1_b1_r1*x_s1_b6_r1 + 9973*x_s1_b2_r1*x_s1_b6_r1 + 9973*x_s1_b3_r1*x_s1_b6_r1 + 9973*x_s1_b4_r1*x_s1_b6_r1 + 34*x_s1_b5_r1*x_s1_b6_r1 + 17*x_s1_b6_r1^2 + 9973*x_s1_b1_r1*x_s1_b7_r1 + 9973*x_s1_b2_r1*x_s1_b7_r1 + 9973*x_s1_b3_r1*x_s1_b7_r1 + 9973*x_s1_b4_r1*x_s1_b7_r1 + 34*x_s1_b5_r1*x_s1_b7_r1 + 34*x_s1_b6_r1*x_s1_b7_r1 + 17*x_s1_b7_r1^2 + 9973*x_s1_b1_r1*x_s1_b8_r1 + 9973*x_s1_b2_r1*x_s1_b8_r1 + 9973*x_s1_b3_r1*x_s1_b8_r1 + 9973*x_s1_b4_r1*x_s1_b8_r1 + 34*x_s1_b5_r1*x_s1_b8_r1 + 34*x_s1_b6_r1*x_s1_b8_r1 + 34*x_s1_b7_r1*x_s1_b8_r1 + 17*x_s1_b8_r1^2 + 3*x_s1_b1_r1 + x_s1_b2_r1 + x_s1_b3_r1 + 8*x_s1_b4_r1 + x_s1_b5_r1 + x_s1_b6_r1 + x_s1_b7_r1 + x_s1_b8_r1 + 10006*x_s1_b4_r2 + k_b4 + 917\n",
      "20*x_s1_b1_r1^2 + 40*x_s1_b1_r1*x_s1_b2_r1 + 20*x_s1_b2_r1^2 + 40*x_s1_b1_r1*x_s1_b3_r1 + 40*x_s1_b2_r1*x_s1_b3_r1 + 20*x_s1_b3_r1^2 + 40*x_s1_b1_r1*x_s1_b4_r1 + 40*x_s1_b2_r1*x_s1_b4_r1 + 40*x_s1_b3_r1*x_s1_b4_r1 + 20*x_s1_b4_r1^2 + 9967*x_s1_b1_r1*x_s1_b5_r1 + 9967*x_s1_b2_r1*x_s1_b5_r1 + 9967*x_s1_b3_r1*x_s1_b5_r1 + 9967*x_s1_b4_r1*x_s1_b5_r1 + 20*x_s1_b5_r1^2 + 9967*x_s1_b1_r1*x_s1_b6_r1 + 9967*x_s1_b2_r1*x_s1_b6_r1 + 9967*x_s1_b3_r1*x_s1_b6_r1 + 9967*x_s1_b4_r1*x_s1_b6_r1 + 40*x_s1_b5_r1*x_s1_b6_r1 + 20*x_s1_b6_r1^2 + 9967*x_s1_b1_r1*x_s1_b7_r1 + 9967*x_s1_b2_r1*x_s1_b7_r1 + 9967*x_s1_b3_r1*x_s1_b7_r1 + 9967*x_s1_b4_r1*x_s1_b7_r1 + 40*x_s1_b5_r1*x_s1_b7_r1 + 40*x_s1_b6_r1*x_s1_b7_r1 + 20*x_s1_b7_r1^2 + 9967*x_s1_b1_r1*x_s1_b8_r1 + 9967*x_s1_b2_r1*x_s1_b8_r1 + 9967*x_s1_b3_r1*x_s1_b8_r1 + 9967*x_s1_b4_r1*x_s1_b8_r1 + 40*x_s1_b5_r1*x_s1_b8_r1 + 40*x_s1_b6_r1*x_s1_b8_r1 + 40*x_s1_b7_r1*x_s1_b8_r1 + 20*x_s1_b8_r1^2 + 7*x_s1_b1_r1 + x_s1_b2_r1 + x_s1_b3_r1 + x_s1_b4_r1 + 7*x_s1_b5_r1 + x_s1_b6_r1 + x_s1_b7_r1 + x_s1_b8_r1 + 10006*x_s1_b5_r2 + 3*k_b1 + 2*k_b2 + k_b3 + k_b4 + 9660\n",
      "19*x_s1_b1_r1^2 + 38*x_s1_b1_r1*x_s1_b2_r1 + 19*x_s1_b2_r1^2 + 38*x_s1_b1_r1*x_s1_b3_r1 + 38*x_s1_b2_r1*x_s1_b3_r1 + 19*x_s1_b3_r1^2 + 38*x_s1_b1_r1*x_s1_b4_r1 + 38*x_s1_b2_r1*x_s1_b4_r1 + 38*x_s1_b3_r1*x_s1_b4_r1 + 19*x_s1_b4_r1^2 + 9969*x_s1_b1_r1*x_s1_b5_r1 + 9969*x_s1_b2_r1*x_s1_b5_r1 + 9969*x_s1_b3_r1*x_s1_b5_r1 + 9969*x_s1_b4_r1*x_s1_b5_r1 + 19*x_s1_b5_r1^2 + 9969*x_s1_b1_r1*x_s1_b6_r1 + 9969*x_s1_b2_r1*x_s1_b6_r1 + 9969*x_s1_b3_r1*x_s1_b6_r1 + 9969*x_s1_b4_r1*x_s1_b6_r1 + 38*x_s1_b5_r1*x_s1_b6_r1 + 19*x_s1_b6_r1^2 + 9969*x_s1_b1_r1*x_s1_b7_r1 + 9969*x_s1_b2_r1*x_s1_b7_r1 + 9969*x_s1_b3_r1*x_s1_b7_r1 + 9969*x_s1_b4_r1*x_s1_b7_r1 + 38*x_s1_b5_r1*x_s1_b7_r1 + 38*x_s1_b6_r1*x_s1_b7_r1 + 19*x_s1_b7_r1^2 + 9969*x_s1_b1_r1*x_s1_b8_r1 + 9969*x_s1_b2_r1*x_s1_b8_r1 + 9969*x_s1_b3_r1*x_s1_b8_r1 + 9969*x_s1_b4_r1*x_s1_b8_r1 + 38*x_s1_b5_r1*x_s1_b8_r1 + 38*x_s1_b6_r1*x_s1_b8_r1 + 38*x_s1_b7_r1*x_s1_b8_r1 + 19*x_s1_b8_r1^2 + 8*x_s1_b1_r1 + x_s1_b2_r1 + x_s1_b3_r1 + x_s1_b4_r1 + x_s1_b5_r1 + 5*x_s1_b6_r1 + x_s1_b7_r1 + x_s1_b8_r1 + 10006*x_s1_b6_r2 + k_b1 + 3*k_b2 + 2*k_b3 + k_b4 + 8672\n",
      "13*x_s1_b1_r1^2 + 26*x_s1_b1_r1*x_s1_b2_r1 + 13*x_s1_b2_r1^2 + 26*x_s1_b1_r1*x_s1_b3_r1 + 26*x_s1_b2_r1*x_s1_b3_r1 + 13*x_s1_b3_r1^2 + 26*x_s1_b1_r1*x_s1_b4_r1 + 26*x_s1_b2_r1*x_s1_b4_r1 + 26*x_s1_b3_r1*x_s1_b4_r1 + 13*x_s1_b4_r1^2 + 9981*x_s1_b1_r1*x_s1_b5_r1 + 9981*x_s1_b2_r1*x_s1_b5_r1 + 9981*x_s1_b3_r1*x_s1_b5_r1 + 9981*x_s1_b4_r1*x_s1_b5_r1 + 13*x_s1_b5_r1^2 + 9981*x_s1_b1_r1*x_s1_b6_r1 + 9981*x_s1_b2_r1*x_s1_b6_r1 + 9981*x_s1_b3_r1*x_s1_b6_r1 + 9981*x_s1_b4_r1*x_s1_b6_r1 + 26*x_s1_b5_r1*x_s1_b6_r1 + 13*x_s1_b6_r1^2 + 9981*x_s1_b1_r1*x_s1_b7_r1 + 9981*x_s1_b2_r1*x_s1_b7_r1 + 9981*x_s1_b3_r1*x_s1_b7_r1 + 9981*x_s1_b4_r1*x_s1_b7_r1 + 26*x_s1_b5_r1*x_s1_b7_r1 + 26*x_s1_b6_r1*x_s1_b7_r1 + 13*x_s1_b7_r1^2 + 9981*x_s1_b1_r1*x_s1_b8_r1 + 9981*x_s1_b2_r1*x_s1_b8_r1 + 9981*x_s1_b3_r1*x_s1_b8_r1 + 9981*x_s1_b4_r1*x_s1_b8_r1 + 26*x_s1_b5_r1*x_s1_b8_r1 + 26*x_s1_b6_r1*x_s1_b8_r1 + 26*x_s1_b7_r1*x_s1_b8_r1 + 13*x_s1_b8_r1^2 + 5*x_s1_b1_r1 + x_s1_b2_r1 + x_s1_b3_r1 + x_s1_b4_r1 + x_s1_b5_r1 + x_s1_b6_r1 + 2*x_s1_b7_r1 + x_s1_b8_r1 + 10006*x_s1_b7_r2 + k_b1 + k_b2 + 3*k_b3 + 2*k_b4 + 1012\n",
      "16*x_s1_b1_r1^2 + 32*x_s1_b1_r1*x_s1_b2_r1 + 16*x_s1_b2_r1^2 + 32*x_s1_b1_r1*x_s1_b3_r1 + 32*x_s1_b2_r1*x_s1_b3_r1 + 16*x_s1_b3_r1^2 + 32*x_s1_b1_r1*x_s1_b4_r1 + 32*x_s1_b2_r1*x_s1_b4_r1 + 32*x_s1_b3_r1*x_s1_b4_r1 + 16*x_s1_b4_r1^2 + 9975*x_s1_b1_r1*x_s1_b5_r1 + 9975*x_s1_b2_r1*x_s1_b5_r1 + 9975*x_s1_b3_r1*x_s1_b5_r1 + 9975*x_s1_b4_r1*x_s1_b5_r1 + 16*x_s1_b5_r1^2 + 9975*x_s1_b1_r1*x_s1_b6_r1 + 9975*x_s1_b2_r1*x_s1_b6_r1 + 9975*x_s1_b3_r1*x_s1_b6_r1 + 9975*x_s1_b4_r1*x_s1_b6_r1 + 32*x_s1_b5_r1*x_s1_b6_r1 + 16*x_s1_b6_r1^2 + 9975*x_s1_b1_r1*x_s1_b7_r1 + 9975*x_s1_b2_r1*x_s1_b7_r1 + 9975*x_s1_b3_r1*x_s1_b7_r1 + 9975*x_s1_b4_r1*x_s1_b7_r1 + 32*x_s1_b5_r1*x_s1_b7_r1 + 32*x_s1_b6_r1*x_s1_b7_r1 + 16*x_s1_b7_r1^2 + 9975*x_s1_b1_r1*x_s1_b8_r1 + 9975*x_s1_b2_r1*x_s1_b8_r1 + 9975*x_s1_b3_r1*x_s1_b8_r1 + 9975*x_s1_b4_r1*x_s1_b8_r1 + 32*x_s1_b5_r1*x_s1_b8_r1 + 32*x_s1_b6_r1*x_s1_b8_r1 + 32*x_s1_b7_r1*x_s1_b8_r1 + 16*x_s1_b8_r1^2 + 4*x_s1_b1_r1 + x_s1_b2_r1 + x_s1_b3_r1 + x_s1_b4_r1 + x_s1_b5_r1 + x_s1_b6_r1 + x_s1_b7_r1 + 6*x_s1_b8_r1 + 10006*x_s1_b8_r2 + 2*k_b1 + k_b2 + k_b3 + 3*k_b4 + 738\n",
      "10*x_s1_b1_r2^2 + 20*x_s1_b1_r2*x_s1_b2_r2 + 10*x_s1_b2_r2^2 + 20*x_s1_b1_r2*x_s1_b3_r2 + 20*x_s1_b2_r2*x_s1_b3_r2 + 10*x_s1_b3_r2^2 + 20*x_s1_b1_r2*x_s1_b4_r2 + 20*x_s1_b2_r2*x_s1_b4_r2 + 20*x_s1_b3_r2*x_s1_b4_r2 + 10*x_s1_b4_r2^2 + 9987*x_s1_b1_r2*x_s1_b5_r2 + 9987*x_s1_b2_r2*x_s1_b5_r2 + 9987*x_s1_b3_r2*x_s1_b5_r2 + 9987*x_s1_b4_r2*x_s1_b5_r2 + 10*x_s1_b5_r2^2 + 9987*x_s1_b1_r2*x_s1_b6_r2 + 9987*x_s1_b2_r2*x_s1_b6_r2 + 9987*x_s1_b3_r2*x_s1_b6_r2 + 9987*x_s1_b4_r2*x_s1_b6_r2 + 20*x_s1_b5_r2*x_s1_b6_r2 + 10*x_s1_b6_r2^2 + 9987*x_s1_b1_r2*x_s1_b7_r2 + 9987*x_s1_b2_r2*x_s1_b7_r2 + 9987*x_s1_b3_r2*x_s1_b7_r2 + 9987*x_s1_b4_r2*x_s1_b7_r2 + 20*x_s1_b5_r2*x_s1_b7_r2 + 20*x_s1_b6_r2*x_s1_b7_r2 + 10*x_s1_b7_r2^2 + 9987*x_s1_b1_r2*x_s1_b8_r2 + 9987*x_s1_b2_r2*x_s1_b8_r2 + 9987*x_s1_b3_r2*x_s1_b8_r2 + 9987*x_s1_b4_r2*x_s1_b8_r2 + 20*x_s1_b5_r2*x_s1_b8_r2 + 20*x_s1_b6_r2*x_s1_b8_r2 + 20*x_s1_b7_r2*x_s1_b8_r2 + 10*x_s1_b8_r2^2 + 3*x_s1_b1_r2 + x_s1_b2_r2 + x_s1_b3_r2 + x_s1_b4_r2 + x_s1_b5_r2 + x_s1_b6_r2 + x_s1_b7_r2 + x_s1_b8_r2 + 10006*x_s1_b1_r3 + k_b1 + 9675\n",
      "----------------------------------------------------------------------\n",
      "20*x_s1_b1_r1^2 + 40*x_s1_b1_r1*x_s1_b2_r1 + 20*x_s1_b2_r1^2 + 40*x_s1_b1_r1*x_s1_b3_r1 + 40*x_s1_b2_r1*x_s1_b3_r1 + 20*x_s1_b3_r1^2 + 40*x_s1_b1_r1*x_s1_b4_r1 + 40*x_s1_b2_r1*x_s1_b4_r1 + 40*x_s1_b3_r1*x_s1_b4_r1 + 20*x_s1_b4_r1^2 + 9967*x_s1_b1_r1*x_s1_b5_r1 + 9967*x_s1_b2_r1*x_s1_b5_r1 + 9967*x_s1_b3_r1*x_s1_b5_r1 + 9967*x_s1_b4_r1*x_s1_b5_r1 + 20*x_s1_b5_r1^2 + 9967*x_s1_b1_r1*x_s1_b6_r1 + 9967*x_s1_b2_r1*x_s1_b6_r1 + 9967*x_s1_b3_r1*x_s1_b6_r1 + 9967*x_s1_b4_r1*x_s1_b6_r1 + 40*x_s1_b5_r1*x_s1_b6_r1 + 20*x_s1_b6_r1^2 + 9967*x_s1_b1_r1*x_s1_b7_r1 + 9967*x_s1_b2_r1*x_s1_b7_r1 + 9967*x_s1_b3_r1*x_s1_b7_r1 + 9967*x_s1_b4_r1*x_s1_b7_r1 + 40*x_s1_b5_r1*x_s1_b7_r1 + 40*x_s1_b6_r1*x_s1_b7_r1 + 20*x_s1_b7_r1^2 + 9967*x_s1_b1_r1*x_s1_b8_r1 + 9967*x_s1_b2_r1*x_s1_b8_r1 + 9967*x_s1_b3_r1*x_s1_b8_r1 + 9967*x_s1_b4_r1*x_s1_b8_r1 + 40*x_s1_b5_r1*x_s1_b8_r1 + 40*x_s1_b6_r1*x_s1_b8_r1 + 40*x_s1_b7_r1*x_s1_b8_r1 + 20*x_s1_b8_r1^2 + 7*x_s1_b1_r1 + x_s1_b2_r1 + x_s1_b3_r1 + x_s1_b4_r1 + 7*x_s1_b5_r1 + x_s1_b6_r1 + x_s1_b7_r1 + x_s1_b8_r1 + 10006*x_s1_b5_r2 + 3*k_b1 + 2*k_b2 + k_b3 + k_b4 + 9660\n",
      "19*x_s1_b1_r1^2 + 38*x_s1_b1_r1*x_s1_b2_r1 + 19*x_s1_b2_r1^2 + 38*x_s1_b1_r1*x_s1_b3_r1 + 38*x_s1_b2_r1*x_s1_b3_r1 + 19*x_s1_b3_r1^2 + 38*x_s1_b1_r1*x_s1_b4_r1 + 38*x_s1_b2_r1*x_s1_b4_r1 + 38*x_s1_b3_r1*x_s1_b4_r1 + 19*x_s1_b4_r1^2 + 9969*x_s1_b1_r1*x_s1_b5_r1 + 9969*x_s1_b2_r1*x_s1_b5_r1 + 9969*x_s1_b3_r1*x_s1_b5_r1 + 9969*x_s1_b4_r1*x_s1_b5_r1 + 19*x_s1_b5_r1^2 + 9969*x_s1_b1_r1*x_s1_b6_r1 + 9969*x_s1_b2_r1*x_s1_b6_r1 + 9969*x_s1_b3_r1*x_s1_b6_r1 + 9969*x_s1_b4_r1*x_s1_b6_r1 + 38*x_s1_b5_r1*x_s1_b6_r1 + 19*x_s1_b6_r1^2 + 9969*x_s1_b1_r1*x_s1_b7_r1 + 9969*x_s1_b2_r1*x_s1_b7_r1 + 9969*x_s1_b3_r1*x_s1_b7_r1 + 9969*x_s1_b4_r1*x_s1_b7_r1 + 38*x_s1_b5_r1*x_s1_b7_r1 + 38*x_s1_b6_r1*x_s1_b7_r1 + 19*x_s1_b7_r1^2 + 9969*x_s1_b1_r1*x_s1_b8_r1 + 9969*x_s1_b2_r1*x_s1_b8_r1 + 9969*x_s1_b3_r1*x_s1_b8_r1 + 9969*x_s1_b4_r1*x_s1_b8_r1 + 38*x_s1_b5_r1*x_s1_b8_r1 + 38*x_s1_b6_r1*x_s1_b8_r1 + 38*x_s1_b7_r1*x_s1_b8_r1 + 19*x_s1_b8_r1^2 + 8*x_s1_b1_r1 + x_s1_b2_r1 + x_s1_b3_r1 + x_s1_b4_r1 + x_s1_b5_r1 + 5*x_s1_b6_r1 + x_s1_b7_r1 + x_s1_b8_r1 + 10006*x_s1_b6_r2 + k_b1 + 3*k_b2 + 2*k_b3 + k_b4 + 8672\n",
      "13*x_s1_b1_r1^2 + 26*x_s1_b1_r1*x_s1_b2_r1 + 13*x_s1_b2_r1^2 + 26*x_s1_b1_r1*x_s1_b3_r1 + 26*x_s1_b2_r1*x_s1_b3_r1 + 13*x_s1_b3_r1^2 + 26*x_s1_b1_r1*x_s1_b4_r1 + 26*x_s1_b2_r1*x_s1_b4_r1 + 26*x_s1_b3_r1*x_s1_b4_r1 + 13*x_s1_b4_r1^2 + 9981*x_s1_b1_r1*x_s1_b5_r1 + 9981*x_s1_b2_r1*x_s1_b5_r1 + 9981*x_s1_b3_r1*x_s1_b5_r1 + 9981*x_s1_b4_r1*x_s1_b5_r1 + 13*x_s1_b5_r1^2 + 9981*x_s1_b1_r1*x_s1_b6_r1 + 9981*x_s1_b2_r1*x_s1_b6_r1 + 9981*x_s1_b3_r1*x_s1_b6_r1 + 9981*x_s1_b4_r1*x_s1_b6_r1 + 26*x_s1_b5_r1*x_s1_b6_r1 + 13*x_s1_b6_r1^2 + 9981*x_s1_b1_r1*x_s1_b7_r1 + 9981*x_s1_b2_r1*x_s1_b7_r1 + 9981*x_s1_b3_r1*x_s1_b7_r1 + 9981*x_s1_b4_r1*x_s1_b7_r1 + 26*x_s1_b5_r1*x_s1_b7_r1 + 26*x_s1_b6_r1*x_s1_b7_r1 + 13*x_s1_b7_r1^2 + 9981*x_s1_b1_r1*x_s1_b8_r1 + 9981*x_s1_b2_r1*x_s1_b8_r1 + 9981*x_s1_b3_r1*x_s1_b8_r1 + 9981*x_s1_b4_r1*x_s1_b8_r1 + 26*x_s1_b5_r1*x_s1_b8_r1 + 26*x_s1_b6_r1*x_s1_b8_r1 + 26*x_s1_b7_r1*x_s1_b8_r1 + 13*x_s1_b8_r1^2 + 5*x_s1_b1_r1 + x_s1_b2_r1 + x_s1_b3_r1 + x_s1_b4_r1 + x_s1_b5_r1 + x_s1_b6_r1 + 2*x_s1_b7_r1 + x_s1_b8_r1 + 10006*x_s1_b7_r2 + k_b1 + k_b2 + 3*k_b3 + 2*k_b4 + 1012\n",
      "16*x_s1_b1_r1^2 + 32*x_s1_b1_r1*x_s1_b2_r1 + 16*x_s1_b2_r1^2 + 32*x_s1_b1_r1*x_s1_b3_r1 + 32*x_s1_b2_r1*x_s1_b3_r1 + 16*x_s1_b3_r1^2 + 32*x_s1_b1_r1*x_s1_b4_r1 + 32*x_s1_b2_r1*x_s1_b4_r1 + 32*x_s1_b3_r1*x_s1_b4_r1 + 16*x_s1_b4_r1^2 + 9975*x_s1_b1_r1*x_s1_b5_r1 + 9975*x_s1_b2_r1*x_s1_b5_r1 + 9975*x_s1_b3_r1*x_s1_b5_r1 + 9975*x_s1_b4_r1*x_s1_b5_r1 + 16*x_s1_b5_r1^2 + 9975*x_s1_b1_r1*x_s1_b6_r1 + 9975*x_s1_b2_r1*x_s1_b6_r1 + 9975*x_s1_b3_r1*x_s1_b6_r1 + 9975*x_s1_b4_r1*x_s1_b6_r1 + 32*x_s1_b5_r1*x_s1_b6_r1 + 16*x_s1_b6_r1^2 + 9975*x_s1_b1_r1*x_s1_b7_r1 + 9975*x_s1_b2_r1*x_s1_b7_r1 + 9975*x_s1_b3_r1*x_s1_b7_r1 + 9975*x_s1_b4_r1*x_s1_b7_r1 + 32*x_s1_b5_r1*x_s1_b7_r1 + 32*x_s1_b6_r1*x_s1_b7_r1 + 16*x_s1_b7_r1^2 + 9975*x_s1_b1_r1*x_s1_b8_r1 + 9975*x_s1_b2_r1*x_s1_b8_r1 + 9975*x_s1_b3_r1*x_s1_b8_r1 + 9975*x_s1_b4_r1*x_s1_b8_r1 + 32*x_s1_b5_r1*x_s1_b8_r1 + 32*x_s1_b6_r1*x_s1_b8_r1 + 32*x_s1_b7_r1*x_s1_b8_r1 + 16*x_s1_b8_r1^2 + 4*x_s1_b1_r1 + x_s1_b2_r1 + x_s1_b3_r1 + x_s1_b4_r1 + x_s1_b5_r1 + x_s1_b6_r1 + x_s1_b7_r1 + 6*x_s1_b8_r1 + 10006*x_s1_b8_r2 + 2*k_b1 + k_b2 + k_b3 + 3*k_b4 + 738\n",
      "10*x_s1_b1_r2^2 + 20*x_s1_b1_r2*x_s1_b2_r2 + 10*x_s1_b2_r2^2 + 20*x_s1_b1_r2*x_s1_b3_r2 + 20*x_s1_b2_r2*x_s1_b3_r2 + 10*x_s1_b3_r2^2 + 20*x_s1_b1_r2*x_s1_b4_r2 + 20*x_s1_b2_r2*x_s1_b4_r2 + 20*x_s1_b3_r2*x_s1_b4_r2 + 10*x_s1_b4_r2^2 + 9987*x_s1_b1_r2*x_s1_b5_r2 + 9987*x_s1_b2_r2*x_s1_b5_r2 + 9987*x_s1_b3_r2*x_s1_b5_r2 + 9987*x_s1_b4_r2*x_s1_b5_r2 + 10*x_s1_b5_r2^2 + 9987*x_s1_b1_r2*x_s1_b6_r2 + 9987*x_s1_b2_r2*x_s1_b6_r2 + 9987*x_s1_b3_r2*x_s1_b6_r2 + 9987*x_s1_b4_r2*x_s1_b6_r2 + 20*x_s1_b5_r2*x_s1_b6_r2 + 10*x_s1_b6_r2^2 + 9987*x_s1_b1_r2*x_s1_b7_r2 + 9987*x_s1_b2_r2*x_s1_b7_r2 + 9987*x_s1_b3_r2*x_s1_b7_r2 + 9987*x_s1_b4_r2*x_s1_b7_r2 + 20*x_s1_b5_r2*x_s1_b7_r2 + 20*x_s1_b6_r2*x_s1_b7_r2 + 10*x_s1_b7_r2^2 + 9987*x_s1_b1_r2*x_s1_b8_r2 + 9987*x_s1_b2_r2*x_s1_b8_r2 + 9987*x_s1_b3_r2*x_s1_b8_r2 + 9987*x_s1_b4_r2*x_s1_b8_r2 + 20*x_s1_b5_r2*x_s1_b8_r2 + 20*x_s1_b6_r2*x_s1_b8_r2 + 20*x_s1_b7_r2*x_s1_b8_r2 + 10*x_s1_b8_r2^2 + 3*x_s1_b1_r2 + x_s1_b2_r2 + x_s1_b3_r2 + x_s1_b4_r2 + x_s1_b5_r2 + x_s1_b6_r2 + x_s1_b7_r2 + x_s1_b8_r2 + 10006*x_s1_b1_r3 + k_b1 + 9675\n",
      "16*x_s1_b1_r2^2 + 32*x_s1_b1_r2*x_s1_b2_r2 + 16*x_s1_b2_r2^2 + 32*x_s1_b1_r2*x_s1_b3_r2 + 32*x_s1_b2_r2*x_s1_b3_r2 + 16*x_s1_b3_r2^2 + 32*x_s1_b1_r2*x_s1_b4_r2 + 32*x_s1_b2_r2*x_s1_b4_r2 + 32*x_s1_b3_r2*x_s1_b4_r2 + 16*x_s1_b4_r2^2 + 9975*x_s1_b1_r2*x_s1_b5_r2 + 9975*x_s1_b2_r2*x_s1_b5_r2 + 9975*x_s1_b3_r2*x_s1_b5_r2 + 9975*x_s1_b4_r2*x_s1_b5_r2 + 16*x_s1_b5_r2^2 + 9975*x_s1_b1_r2*x_s1_b6_r2 + 9975*x_s1_b2_r2*x_s1_b6_r2 + 9975*x_s1_b3_r2*x_s1_b6_r2 + 9975*x_s1_b4_r2*x_s1_b6_r2 + 32*x_s1_b5_r2*x_s1_b6_r2 + 16*x_s1_b6_r2^2 + 9975*x_s1_b1_r2*x_s1_b7_r2 + 9975*x_s1_b2_r2*x_s1_b7_r2 + 9975*x_s1_b3_r2*x_s1_b7_r2 + 9975*x_s1_b4_r2*x_s1_b7_r2 + 32*x_s1_b5_r2*x_s1_b7_r2 + 32*x_s1_b6_r2*x_s1_b7_r2 + 16*x_s1_b7_r2^2 + 9975*x_s1_b1_r2*x_s1_b8_r2 + 9975*x_s1_b2_r2*x_s1_b8_r2 + 9975*x_s1_b3_r2*x_s1_b8_r2 + 9975*x_s1_b4_r2*x_s1_b8_r2 + 32*x_s1_b5_r2*x_s1_b8_r2 + 32*x_s1_b6_r2*x_s1_b8_r2 + 32*x_s1_b7_r2*x_s1_b8_r2 + 16*x_s1_b8_r2^2 + 7*x_s1_b1_r2 + 3*x_s1_b2_r2 + x_s1_b3_r2 + x_s1_b4_r2 + x_s1_b5_r2 + x_s1_b6_r2 + x_s1_b7_r2 + x_s1_b8_r2 + 10006*x_s1_b2_r3 + k_b2 + 4530\n",
      "14*x_s1_b1_r2^2 + 28*x_s1_b1_r2*x_s1_b2_r2 + 14*x_s1_b2_r2^2 + 28*x_s1_b1_r2*x_s1_b3_r2 + 28*x_s1_b2_r2*x_s1_b3_r2 + 14*x_s1_b3_r2^2 + 28*x_s1_b1_r2*x_s1_b4_r2 + 28*x_s1_b2_r2*x_s1_b4_r2 + 28*x_s1_b3_r2*x_s1_b4_r2 + 14*x_s1_b4_r2^2 + 9979*x_s1_b1_r2*x_s1_b5_r2 + 9979*x_s1_b2_r2*x_s1_b5_r2 + 9979*x_s1_b3_r2*x_s1_b5_r2 + 9979*x_s1_b4_r2*x_s1_b5_r2 + 14*x_s1_b5_r2^2 + 9979*x_s1_b1_r2*x_s1_b6_r2 + 9979*x_s1_b2_r2*x_s1_b6_r2 + 9979*x_s1_b3_r2*x_s1_b6_r2 + 9979*x_s1_b4_r2*x_s1_b6_r2 + 28*x_s1_b5_r2*x_s1_b6_r2 + 14*x_s1_b6_r2^2 + 9979*x_s1_b1_r2*x_s1_b7_r2 + 9979*x_s1_b2_r2*x_s1_b7_r2 + 9979*x_s1_b3_r2*x_s1_b7_r2 + 9979*x_s1_b4_r2*x_s1_b7_r2 + 28*x_s1_b5_r2*x_s1_b7_r2 + 28*x_s1_b6_r2*x_s1_b7_r2 + 14*x_s1_b7_r2^2 + 9979*x_s1_b1_r2*x_s1_b8_r2 + 9979*x_s1_b2_r2*x_s1_b8_r2 + 9979*x_s1_b3_r2*x_s1_b8_r2 + 9979*x_s1_b4_r2*x_s1_b8_r2 + 28*x_s1_b5_r2*x_s1_b8_r2 + 28*x_s1_b6_r2*x_s1_b8_r2 + 28*x_s1_b7_r2*x_s1_b8_r2 + 14*x_s1_b8_r2^2 + 4*x_s1_b1_r2 + x_s1_b2_r2 + 4*x_s1_b3_r2 + x_s1_b4_r2 + x_s1_b5_r2 + x_s1_b6_r2 + x_s1_b7_r2 + x_s1_b8_r2 + 10006*x_s1_b3_r3 + k_b3 + 4394\n",
      "17*x_s1_b1_r2^2 + 34*x_s1_b1_r2*x_s1_b2_r2 + 17*x_s1_b2_r2^2 + 34*x_s1_b1_r2*x_s1_b3_r2 + 34*x_s1_b2_r2*x_s1_b3_r2 + 17*x_s1_b3_r2^2 + 34*x_s1_b1_r2*x_s1_b4_r2 + 34*x_s1_b2_r2*x_s1_b4_r2 + 34*x_s1_b3_r2*x_s1_b4_r2 + 17*x_s1_b4_r2^2 + 9973*x_s1_b1_r2*x_s1_b5_r2 + 9973*x_s1_b2_r2*x_s1_b5_r2 + 9973*x_s1_b3_r2*x_s1_b5_r2 + 9973*x_s1_b4_r2*x_s1_b5_r2 + 17*x_s1_b5_r2^2 + 9973*x_s1_b1_r2*x_s1_b6_r2 + 9973*x_s1_b2_r2*x_s1_b6_r2 + 9973*x_s1_b3_r2*x_s1_b6_r2 + 9973*x_s1_b4_r2*x_s1_b6_r2 + 34*x_s1_b5_r2*x_s1_b6_r2 + 17*x_s1_b6_r2^2 + 9973*x_s1_b1_r2*x_s1_b7_r2 + 9973*x_s1_b2_r2*x_s1_b7_r2 + 9973*x_s1_b3_r2*x_s1_b7_r2 + 9973*x_s1_b4_r2*x_s1_b7_r2 + 34*x_s1_b5_r2*x_s1_b7_r2 + 34*x_s1_b6_r2*x_s1_b7_r2 + 17*x_s1_b7_r2^2 + 9973*x_s1_b1_r2*x_s1_b8_r2 + 9973*x_s1_b2_r2*x_s1_b8_r2 + 9973*x_s1_b3_r2*x_s1_b8_r2 + 9973*x_s1_b4_r2*x_s1_b8_r2 + 34*x_s1_b5_r2*x_s1_b8_r2 + 34*x_s1_b6_r2*x_s1_b8_r2 + 34*x_s1_b7_r2*x_s1_b8_r2 + 17*x_s1_b8_r2^2 + 3*x_s1_b1_r2 + x_s1_b2_r2 + x_s1_b3_r2 + 8*x_s1_b4_r2 + x_s1_b5_r2 + x_s1_b6_r2 + x_s1_b7_r2 + x_s1_b8_r2 + 10006*x_s1_b4_r3 + k_b4 + 387\n",
      "----------------------------------------------------------------------\n",
      "16*x_s1_b1_r1^2 + 32*x_s1_b1_r1*x_s1_b2_r1 + 16*x_s1_b2_r1^2 + 32*x_s1_b1_r1*x_s1_b3_r1 + 32*x_s1_b2_r1*x_s1_b3_r1 + 16*x_s1_b3_r1^2 + 32*x_s1_b1_r1*x_s1_b4_r1 + 32*x_s1_b2_r1*x_s1_b4_r1 + 32*x_s1_b3_r1*x_s1_b4_r1 + 16*x_s1_b4_r1^2 + 9975*x_s1_b1_r1*x_s1_b5_r1 + 9975*x_s1_b2_r1*x_s1_b5_r1 + 9975*x_s1_b3_r1*x_s1_b5_r1 + 9975*x_s1_b4_r1*x_s1_b5_r1 + 16*x_s1_b5_r1^2 + 9975*x_s1_b1_r1*x_s1_b6_r1 + 9975*x_s1_b2_r1*x_s1_b6_r1 + 9975*x_s1_b3_r1*x_s1_b6_r1 + 9975*x_s1_b4_r1*x_s1_b6_r1 + 32*x_s1_b5_r1*x_s1_b6_r1 + 16*x_s1_b6_r1^2 + 9975*x_s1_b1_r1*x_s1_b7_r1 + 9975*x_s1_b2_r1*x_s1_b7_r1 + 9975*x_s1_b3_r1*x_s1_b7_r1 + 9975*x_s1_b4_r1*x_s1_b7_r1 + 32*x_s1_b5_r1*x_s1_b7_r1 + 32*x_s1_b6_r1*x_s1_b7_r1 + 16*x_s1_b7_r1^2 + 9975*x_s1_b1_r1*x_s1_b8_r1 + 9975*x_s1_b2_r1*x_s1_b8_r1 + 9975*x_s1_b3_r1*x_s1_b8_r1 + 9975*x_s1_b4_r1*x_s1_b8_r1 + 32*x_s1_b5_r1*x_s1_b8_r1 + 32*x_s1_b6_r1*x_s1_b8_r1 + 32*x_s1_b7_r1*x_s1_b8_r1 + 16*x_s1_b8_r1^2 + 4*x_s1_b1_r1 + x_s1_b2_r1 + x_s1_b3_r1 + x_s1_b4_r1 + x_s1_b5_r1 + x_s1_b6_r1 + x_s1_b7_r1 + 6*x_s1_b8_r1 + 10006*x_s1_b8_r2 + 2*k_b1 + k_b2 + k_b3 + 3*k_b4 + 738\n",
      "10*x_s1_b1_r2^2 + 20*x_s1_b1_r2*x_s1_b2_r2 + 10*x_s1_b2_r2^2 + 20*x_s1_b1_r2*x_s1_b3_r2 + 20*x_s1_b2_r2*x_s1_b3_r2 + 10*x_s1_b3_r2^2 + 20*x_s1_b1_r2*x_s1_b4_r2 + 20*x_s1_b2_r2*x_s1_b4_r2 + 20*x_s1_b3_r2*x_s1_b4_r2 + 10*x_s1_b4_r2^2 + 9987*x_s1_b1_r2*x_s1_b5_r2 + 9987*x_s1_b2_r2*x_s1_b5_r2 + 9987*x_s1_b3_r2*x_s1_b5_r2 + 9987*x_s1_b4_r2*x_s1_b5_r2 + 10*x_s1_b5_r2^2 + 9987*x_s1_b1_r2*x_s1_b6_r2 + 9987*x_s1_b2_r2*x_s1_b6_r2 + 9987*x_s1_b3_r2*x_s1_b6_r2 + 9987*x_s1_b4_r2*x_s1_b6_r2 + 20*x_s1_b5_r2*x_s1_b6_r2 + 10*x_s1_b6_r2^2 + 9987*x_s1_b1_r2*x_s1_b7_r2 + 9987*x_s1_b2_r2*x_s1_b7_r2 + 9987*x_s1_b3_r2*x_s1_b7_r2 + 9987*x_s1_b4_r2*x_s1_b7_r2 + 20*x_s1_b5_r2*x_s1_b7_r2 + 20*x_s1_b6_r2*x_s1_b7_r2 + 10*x_s1_b7_r2^2 + 9987*x_s1_b1_r2*x_s1_b8_r2 + 9987*x_s1_b2_r2*x_s1_b8_r2 + 9987*x_s1_b3_r2*x_s1_b8_r2 + 9987*x_s1_b4_r2*x_s1_b8_r2 + 20*x_s1_b5_r2*x_s1_b8_r2 + 20*x_s1_b6_r2*x_s1_b8_r2 + 20*x_s1_b7_r2*x_s1_b8_r2 + 10*x_s1_b8_r2^2 + 3*x_s1_b1_r2 + x_s1_b2_r2 + x_s1_b3_r2 + x_s1_b4_r2 + x_s1_b5_r2 + x_s1_b6_r2 + x_s1_b7_r2 + x_s1_b8_r2 + 10006*x_s1_b1_r3 + k_b1 + 9675\n",
      "16*x_s1_b1_r2^2 + 32*x_s1_b1_r2*x_s1_b2_r2 + 16*x_s1_b2_r2^2 + 32*x_s1_b1_r2*x_s1_b3_r2 + 32*x_s1_b2_r2*x_s1_b3_r2 + 16*x_s1_b3_r2^2 + 32*x_s1_b1_r2*x_s1_b4_r2 + 32*x_s1_b2_r2*x_s1_b4_r2 + 32*x_s1_b3_r2*x_s1_b4_r2 + 16*x_s1_b4_r2^2 + 9975*x_s1_b1_r2*x_s1_b5_r2 + 9975*x_s1_b2_r2*x_s1_b5_r2 + 9975*x_s1_b3_r2*x_s1_b5_r2 + 9975*x_s1_b4_r2*x_s1_b5_r2 + 16*x_s1_b5_r2^2 + 9975*x_s1_b1_r2*x_s1_b6_r2 + 9975*x_s1_b2_r2*x_s1_b6_r2 + 9975*x_s1_b3_r2*x_s1_b6_r2 + 9975*x_s1_b4_r2*x_s1_b6_r2 + 32*x_s1_b5_r2*x_s1_b6_r2 + 16*x_s1_b6_r2^2 + 9975*x_s1_b1_r2*x_s1_b7_r2 + 9975*x_s1_b2_r2*x_s1_b7_r2 + 9975*x_s1_b3_r2*x_s1_b7_r2 + 9975*x_s1_b4_r2*x_s1_b7_r2 + 32*x_s1_b5_r2*x_s1_b7_r2 + 32*x_s1_b6_r2*x_s1_b7_r2 + 16*x_s1_b7_r2^2 + 9975*x_s1_b1_r2*x_s1_b8_r2 + 9975*x_s1_b2_r2*x_s1_b8_r2 + 9975*x_s1_b3_r2*x_s1_b8_r2 + 9975*x_s1_b4_r2*x_s1_b8_r2 + 32*x_s1_b5_r2*x_s1_b8_r2 + 32*x_s1_b6_r2*x_s1_b8_r2 + 32*x_s1_b7_r2*x_s1_b8_r2 + 16*x_s1_b8_r2^2 + 7*x_s1_b1_r2 + 3*x_s1_b2_r2 + x_s1_b3_r2 + x_s1_b4_r2 + x_s1_b5_r2 + x_s1_b6_r2 + x_s1_b7_r2 + x_s1_b8_r2 + 10006*x_s1_b2_r3 + k_b2 + 4530\n",
      "14*x_s1_b1_r2^2 + 28*x_s1_b1_r2*x_s1_b2_r2 + 14*x_s1_b2_r2^2 + 28*x_s1_b1_r2*x_s1_b3_r2 + 28*x_s1_b2_r2*x_s1_b3_r2 + 14*x_s1_b3_r2^2 + 28*x_s1_b1_r2*x_s1_b4_r2 + 28*x_s1_b2_r2*x_s1_b4_r2 + 28*x_s1_b3_r2*x_s1_b4_r2 + 14*x_s1_b4_r2^2 + 9979*x_s1_b1_r2*x_s1_b5_r2 + 9979*x_s1_b2_r2*x_s1_b5_r2 + 9979*x_s1_b3_r2*x_s1_b5_r2 + 9979*x_s1_b4_r2*x_s1_b5_r2 + 14*x_s1_b5_r2^2 + 9979*x_s1_b1_r2*x_s1_b6_r2 + 9979*x_s1_b2_r2*x_s1_b6_r2 + 9979*x_s1_b3_r2*x_s1_b6_r2 + 9979*x_s1_b4_r2*x_s1_b6_r2 + 28*x_s1_b5_r2*x_s1_b6_r2 + 14*x_s1_b6_r2^2 + 9979*x_s1_b1_r2*x_s1_b7_r2 + 9979*x_s1_b2_r2*x_s1_b7_r2 + 9979*x_s1_b3_r2*x_s1_b7_r2 + 9979*x_s1_b4_r2*x_s1_b7_r2 + 28*x_s1_b5_r2*x_s1_b7_r2 + 28*x_s1_b6_r2*x_s1_b7_r2 + 14*x_s1_b7_r2^2 + 9979*x_s1_b1_r2*x_s1_b8_r2 + 9979*x_s1_b2_r2*x_s1_b8_r2 + 9979*x_s1_b3_r2*x_s1_b8_r2 + 9979*x_s1_b4_r2*x_s1_b8_r2 + 28*x_s1_b5_r2*x_s1_b8_r2 + 28*x_s1_b6_r2*x_s1_b8_r2 + 28*x_s1_b7_r2*x_s1_b8_r2 + 14*x_s1_b8_r2^2 + 4*x_s1_b1_r2 + x_s1_b2_r2 + 4*x_s1_b3_r2 + x_s1_b4_r2 + x_s1_b5_r2 + x_s1_b6_r2 + x_s1_b7_r2 + x_s1_b8_r2 + 10006*x_s1_b3_r3 + k_b3 + 4394\n",
      "17*x_s1_b1_r2^2 + 34*x_s1_b1_r2*x_s1_b2_r2 + 17*x_s1_b2_r2^2 + 34*x_s1_b1_r2*x_s1_b3_r2 + 34*x_s1_b2_r2*x_s1_b3_r2 + 17*x_s1_b3_r2^2 + 34*x_s1_b1_r2*x_s1_b4_r2 + 34*x_s1_b2_r2*x_s1_b4_r2 + 34*x_s1_b3_r2*x_s1_b4_r2 + 17*x_s1_b4_r2^2 + 9973*x_s1_b1_r2*x_s1_b5_r2 + 9973*x_s1_b2_r2*x_s1_b5_r2 + 9973*x_s1_b3_r2*x_s1_b5_r2 + 9973*x_s1_b4_r2*x_s1_b5_r2 + 17*x_s1_b5_r2^2 + 9973*x_s1_b1_r2*x_s1_b6_r2 + 9973*x_s1_b2_r2*x_s1_b6_r2 + 9973*x_s1_b3_r2*x_s1_b6_r2 + 9973*x_s1_b4_r2*x_s1_b6_r2 + 34*x_s1_b5_r2*x_s1_b6_r2 + 17*x_s1_b6_r2^2 + 9973*x_s1_b1_r2*x_s1_b7_r2 + 9973*x_s1_b2_r2*x_s1_b7_r2 + 9973*x_s1_b3_r2*x_s1_b7_r2 + 9973*x_s1_b4_r2*x_s1_b7_r2 + 34*x_s1_b5_r2*x_s1_b7_r2 + 34*x_s1_b6_r2*x_s1_b7_r2 + 17*x_s1_b7_r2^2 + 9973*x_s1_b1_r2*x_s1_b8_r2 + 9973*x_s1_b2_r2*x_s1_b8_r2 + 9973*x_s1_b3_r2*x_s1_b8_r2 + 9973*x_s1_b4_r2*x_s1_b8_r2 + 34*x_s1_b5_r2*x_s1_b8_r2 + 34*x_s1_b6_r2*x_s1_b8_r2 + 34*x_s1_b7_r2*x_s1_b8_r2 + 17*x_s1_b8_r2^2 + 3*x_s1_b1_r2 + x_s1_b2_r2 + x_s1_b3_r2 + 8*x_s1_b4_r2 + x_s1_b5_r2 + x_s1_b6_r2 + x_s1_b7_r2 + x_s1_b8_r2 + 10006*x_s1_b4_r3 + k_b4 + 387\n",
      "20*x_s1_b1_r2^2 + 40*x_s1_b1_r2*x_s1_b2_r2 + 20*x_s1_b2_r2^2 + 40*x_s1_b1_r2*x_s1_b3_r2 + 40*x_s1_b2_r2*x_s1_b3_r2 + 20*x_s1_b3_r2^2 + 40*x_s1_b1_r2*x_s1_b4_r2 + 40*x_s1_b2_r2*x_s1_b4_r2 + 40*x_s1_b3_r2*x_s1_b4_r2 + 20*x_s1_b4_r2^2 + 9967*x_s1_b1_r2*x_s1_b5_r2 + 9967*x_s1_b2_r2*x_s1_b5_r2 + 9967*x_s1_b3_r2*x_s1_b5_r2 + 9967*x_s1_b4_r2*x_s1_b5_r2 + 20*x_s1_b5_r2^2 + 9967*x_s1_b1_r2*x_s1_b6_r2 + 9967*x_s1_b2_r2*x_s1_b6_r2 + 9967*x_s1_b3_r2*x_s1_b6_r2 + 9967*x_s1_b4_r2*x_s1_b6_r2 + 40*x_s1_b5_r2*x_s1_b6_r2 + 20*x_s1_b6_r2^2 + 9967*x_s1_b1_r2*x_s1_b7_r2 + 9967*x_s1_b2_r2*x_s1_b7_r2 + 9967*x_s1_b3_r2*x_s1_b7_r2 + 9967*x_s1_b4_r2*x_s1_b7_r2 + 40*x_s1_b5_r2*x_s1_b7_r2 + 40*x_s1_b6_r2*x_s1_b7_r2 + 20*x_s1_b7_r2^2 + 9967*x_s1_b1_r2*x_s1_b8_r2 + 9967*x_s1_b2_r2*x_s1_b8_r2 + 9967*x_s1_b3_r2*x_s1_b8_r2 + 9967*x_s1_b4_r2*x_s1_b8_r2 + 40*x_s1_b5_r2*x_s1_b8_r2 + 40*x_s1_b6_r2*x_s1_b8_r2 + 40*x_s1_b7_r2*x_s1_b8_r2 + 20*x_s1_b8_r2^2 + 7*x_s1_b1_r2 + x_s1_b2_r2 + x_s1_b3_r2 + x_s1_b4_r2 + 7*x_s1_b5_r2 + x_s1_b6_r2 + x_s1_b7_r2 + x_s1_b8_r2 + 10006*x_s1_b5_r3 + 3*k_b1 + 2*k_b2 + k_b3 + k_b4 + 9900\n",
      "19*x_s1_b1_r2^2 + 38*x_s1_b1_r2*x_s1_b2_r2 + 19*x_s1_b2_r2^2 + 38*x_s1_b1_r2*x_s1_b3_r2 + 38*x_s1_b2_r2*x_s1_b3_r2 + 19*x_s1_b3_r2^2 + 38*x_s1_b1_r2*x_s1_b4_r2 + 38*x_s1_b2_r2*x_s1_b4_r2 + 38*x_s1_b3_r2*x_s1_b4_r2 + 19*x_s1_b4_r2^2 + 9969*x_s1_b1_r2*x_s1_b5_r2 + 9969*x_s1_b2_r2*x_s1_b5_r2 + 9969*x_s1_b3_r2*x_s1_b5_r2 + 9969*x_s1_b4_r2*x_s1_b5_r2 + 19*x_s1_b5_r2^2 + 9969*x_s1_b1_r2*x_s1_b6_r2 + 9969*x_s1_b2_r2*x_s1_b6_r2 + 9969*x_s1_b3_r2*x_s1_b6_r2 + 9969*x_s1_b4_r2*x_s1_b6_r2 + 38*x_s1_b5_r2*x_s1_b6_r2 + 19*x_s1_b6_r2^2 + 9969*x_s1_b1_r2*x_s1_b7_r2 + 9969*x_s1_b2_r2*x_s1_b7_r2 + 9969*x_s1_b3_r2*x_s1_b7_r2 + 9969*x_s1_b4_r2*x_s1_b7_r2 + 38*x_s1_b5_r2*x_s1_b7_r2 + 38*x_s1_b6_r2*x_s1_b7_r2 + 19*x_s1_b7_r2^2 + 9969*x_s1_b1_r2*x_s1_b8_r2 + 9969*x_s1_b2_r2*x_s1_b8_r2 + 9969*x_s1_b3_r2*x_s1_b8_r2 + 9969*x_s1_b4_r2*x_s1_b8_r2 + 38*x_s1_b5_r2*x_s1_b8_r2 + 38*x_s1_b6_r2*x_s1_b8_r2 + 38*x_s1_b7_r2*x_s1_b8_r2 + 19*x_s1_b8_r2^2 + 8*x_s1_b1_r2 + x_s1_b2_r2 + x_s1_b3_r2 + x_s1_b4_r2 + x_s1_b5_r2 + 5*x_s1_b6_r2 + x_s1_b7_r2 + x_s1_b8_r2 + 10006*x_s1_b6_r3 + k_b1 + 3*k_b2 + 2*k_b3 + k_b4 + 1322\n",
      "13*x_s1_b1_r2^2 + 26*x_s1_b1_r2*x_s1_b2_r2 + 13*x_s1_b2_r2^2 + 26*x_s1_b1_r2*x_s1_b3_r2 + 26*x_s1_b2_r2*x_s1_b3_r2 + 13*x_s1_b3_r2^2 + 26*x_s1_b1_r2*x_s1_b4_r2 + 26*x_s1_b2_r2*x_s1_b4_r2 + 26*x_s1_b3_r2*x_s1_b4_r2 + 13*x_s1_b4_r2^2 + 9981*x_s1_b1_r2*x_s1_b5_r2 + 9981*x_s1_b2_r2*x_s1_b5_r2 + 9981*x_s1_b3_r2*x_s1_b5_r2 + 9981*x_s1_b4_r2*x_s1_b5_r2 + 13*x_s1_b5_r2^2 + 9981*x_s1_b1_r2*x_s1_b6_r2 + 9981*x_s1_b2_r2*x_s1_b6_r2 + 9981*x_s1_b3_r2*x_s1_b6_r2 + 9981*x_s1_b4_r2*x_s1_b6_r2 + 26*x_s1_b5_r2*x_s1_b6_r2 + 13*x_s1_b6_r2^2 + 9981*x_s1_b1_r2*x_s1_b7_r2 + 9981*x_s1_b2_r2*x_s1_b7_r2 + 9981*x_s1_b3_r2*x_s1_b7_r2 + 9981*x_s1_b4_r2*x_s1_b7_r2 + 26*x_s1_b5_r2*x_s1_b7_r2 + 26*x_s1_b6_r2*x_s1_b7_r2 + 13*x_s1_b7_r2^2 + 9981*x_s1_b1_r2*x_s1_b8_r2 + 9981*x_s1_b2_r2*x_s1_b8_r2 + 9981*x_s1_b3_r2*x_s1_b8_r2 + 9981*x_s1_b4_r2*x_s1_b8_r2 + 26*x_s1_b5_r2*x_s1_b8_r2 + 26*x_s1_b6_r2*x_s1_b8_r2 + 26*x_s1_b7_r2*x_s1_b8_r2 + 13*x_s1_b8_r2^2 + 5*x_s1_b1_r2 + x_s1_b2_r2 + x_s1_b3_r2 + x_s1_b4_r2 + x_s1_b5_r2 + x_s1_b6_r2 + 2*x_s1_b7_r2 + x_s1_b8_r2 + 10006*x_s1_b7_r3 + k_b1 + k_b2 + 3*k_b3 + 2*k_b4 + 576\n",
      "----------------------------------------------------------------------\n",
      "14*x_s1_b1_r2^2 + 28*x_s1_b1_r2*x_s1_b2_r2 + 14*x_s1_b2_r2^2 + 28*x_s1_b1_r2*x_s1_b3_r2 + 28*x_s1_b2_r2*x_s1_b3_r2 + 14*x_s1_b3_r2^2 + 28*x_s1_b1_r2*x_s1_b4_r2 + 28*x_s1_b2_r2*x_s1_b4_r2 + 28*x_s1_b3_r2*x_s1_b4_r2 + 14*x_s1_b4_r2^2 + 9979*x_s1_b1_r2*x_s1_b5_r2 + 9979*x_s1_b2_r2*x_s1_b5_r2 + 9979*x_s1_b3_r2*x_s1_b5_r2 + 9979*x_s1_b4_r2*x_s1_b5_r2 + 14*x_s1_b5_r2^2 + 9979*x_s1_b1_r2*x_s1_b6_r2 + 9979*x_s1_b2_r2*x_s1_b6_r2 + 9979*x_s1_b3_r2*x_s1_b6_r2 + 9979*x_s1_b4_r2*x_s1_b6_r2 + 28*x_s1_b5_r2*x_s1_b6_r2 + 14*x_s1_b6_r2^2 + 9979*x_s1_b1_r2*x_s1_b7_r2 + 9979*x_s1_b2_r2*x_s1_b7_r2 + 9979*x_s1_b3_r2*x_s1_b7_r2 + 9979*x_s1_b4_r2*x_s1_b7_r2 + 28*x_s1_b5_r2*x_s1_b7_r2 + 28*x_s1_b6_r2*x_s1_b7_r2 + 14*x_s1_b7_r2^2 + 9979*x_s1_b1_r2*x_s1_b8_r2 + 9979*x_s1_b2_r2*x_s1_b8_r2 + 9979*x_s1_b3_r2*x_s1_b8_r2 + 9979*x_s1_b4_r2*x_s1_b8_r2 + 28*x_s1_b5_r2*x_s1_b8_r2 + 28*x_s1_b6_r2*x_s1_b8_r2 + 28*x_s1_b7_r2*x_s1_b8_r2 + 14*x_s1_b8_r2^2 + 4*x_s1_b1_r2 + x_s1_b2_r2 + 4*x_s1_b3_r2 + x_s1_b4_r2 + x_s1_b5_r2 + x_s1_b6_r2 + x_s1_b7_r2 + x_s1_b8_r2 + 10006*x_s1_b3_r3 + k_b3 + 4394\n",
      "17*x_s1_b1_r2^2 + 34*x_s1_b1_r2*x_s1_b2_r2 + 17*x_s1_b2_r2^2 + 34*x_s1_b1_r2*x_s1_b3_r2 + 34*x_s1_b2_r2*x_s1_b3_r2 + 17*x_s1_b3_r2^2 + 34*x_s1_b1_r2*x_s1_b4_r2 + 34*x_s1_b2_r2*x_s1_b4_r2 + 34*x_s1_b3_r2*x_s1_b4_r2 + 17*x_s1_b4_r2^2 + 9973*x_s1_b1_r2*x_s1_b5_r2 + 9973*x_s1_b2_r2*x_s1_b5_r2 + 9973*x_s1_b3_r2*x_s1_b5_r2 + 9973*x_s1_b4_r2*x_s1_b5_r2 + 17*x_s1_b5_r2^2 + 9973*x_s1_b1_r2*x_s1_b6_r2 + 9973*x_s1_b2_r2*x_s1_b6_r2 + 9973*x_s1_b3_r2*x_s1_b6_r2 + 9973*x_s1_b4_r2*x_s1_b6_r2 + 34*x_s1_b5_r2*x_s1_b6_r2 + 17*x_s1_b6_r2^2 + 9973*x_s1_b1_r2*x_s1_b7_r2 + 9973*x_s1_b2_r2*x_s1_b7_r2 + 9973*x_s1_b3_r2*x_s1_b7_r2 + 9973*x_s1_b4_r2*x_s1_b7_r2 + 34*x_s1_b5_r2*x_s1_b7_r2 + 34*x_s1_b6_r2*x_s1_b7_r2 + 17*x_s1_b7_r2^2 + 9973*x_s1_b1_r2*x_s1_b8_r2 + 9973*x_s1_b2_r2*x_s1_b8_r2 + 9973*x_s1_b3_r2*x_s1_b8_r2 + 9973*x_s1_b4_r2*x_s1_b8_r2 + 34*x_s1_b5_r2*x_s1_b8_r2 + 34*x_s1_b6_r2*x_s1_b8_r2 + 34*x_s1_b7_r2*x_s1_b8_r2 + 17*x_s1_b8_r2^2 + 3*x_s1_b1_r2 + x_s1_b2_r2 + x_s1_b3_r2 + 8*x_s1_b4_r2 + x_s1_b5_r2 + x_s1_b6_r2 + x_s1_b7_r2 + x_s1_b8_r2 + 10006*x_s1_b4_r3 + k_b4 + 387\n",
      "20*x_s1_b1_r2^2 + 40*x_s1_b1_r2*x_s1_b2_r2 + 20*x_s1_b2_r2^2 + 40*x_s1_b1_r2*x_s1_b3_r2 + 40*x_s1_b2_r2*x_s1_b3_r2 + 20*x_s1_b3_r2^2 + 40*x_s1_b1_r2*x_s1_b4_r2 + 40*x_s1_b2_r2*x_s1_b4_r2 + 40*x_s1_b3_r2*x_s1_b4_r2 + 20*x_s1_b4_r2^2 + 9967*x_s1_b1_r2*x_s1_b5_r2 + 9967*x_s1_b2_r2*x_s1_b5_r2 + 9967*x_s1_b3_r2*x_s1_b5_r2 + 9967*x_s1_b4_r2*x_s1_b5_r2 + 20*x_s1_b5_r2^2 + 9967*x_s1_b1_r2*x_s1_b6_r2 + 9967*x_s1_b2_r2*x_s1_b6_r2 + 9967*x_s1_b3_r2*x_s1_b6_r2 + 9967*x_s1_b4_r2*x_s1_b6_r2 + 40*x_s1_b5_r2*x_s1_b6_r2 + 20*x_s1_b6_r2^2 + 9967*x_s1_b1_r2*x_s1_b7_r2 + 9967*x_s1_b2_r2*x_s1_b7_r2 + 9967*x_s1_b3_r2*x_s1_b7_r2 + 9967*x_s1_b4_r2*x_s1_b7_r2 + 40*x_s1_b5_r2*x_s1_b7_r2 + 40*x_s1_b6_r2*x_s1_b7_r2 + 20*x_s1_b7_r2^2 + 9967*x_s1_b1_r2*x_s1_b8_r2 + 9967*x_s1_b2_r2*x_s1_b8_r2 + 9967*x_s1_b3_r2*x_s1_b8_r2 + 9967*x_s1_b4_r2*x_s1_b8_r2 + 40*x_s1_b5_r2*x_s1_b8_r2 + 40*x_s1_b6_r2*x_s1_b8_r2 + 40*x_s1_b7_r2*x_s1_b8_r2 + 20*x_s1_b8_r2^2 + 7*x_s1_b1_r2 + x_s1_b2_r2 + x_s1_b3_r2 + x_s1_b4_r2 + 7*x_s1_b5_r2 + x_s1_b6_r2 + x_s1_b7_r2 + x_s1_b8_r2 + 10006*x_s1_b5_r3 + 3*k_b1 + 2*k_b2 + k_b3 + k_b4 + 9900\n",
      "19*x_s1_b1_r2^2 + 38*x_s1_b1_r2*x_s1_b2_r2 + 19*x_s1_b2_r2^2 + 38*x_s1_b1_r2*x_s1_b3_r2 + 38*x_s1_b2_r2*x_s1_b3_r2 + 19*x_s1_b3_r2^2 + 38*x_s1_b1_r2*x_s1_b4_r2 + 38*x_s1_b2_r2*x_s1_b4_r2 + 38*x_s1_b3_r2*x_s1_b4_r2 + 19*x_s1_b4_r2^2 + 9969*x_s1_b1_r2*x_s1_b5_r2 + 9969*x_s1_b2_r2*x_s1_b5_r2 + 9969*x_s1_b3_r2*x_s1_b5_r2 + 9969*x_s1_b4_r2*x_s1_b5_r2 + 19*x_s1_b5_r2^2 + 9969*x_s1_b1_r2*x_s1_b6_r2 + 9969*x_s1_b2_r2*x_s1_b6_r2 + 9969*x_s1_b3_r2*x_s1_b6_r2 + 9969*x_s1_b4_r2*x_s1_b6_r2 + 38*x_s1_b5_r2*x_s1_b6_r2 + 19*x_s1_b6_r2^2 + 9969*x_s1_b1_r2*x_s1_b7_r2 + 9969*x_s1_b2_r2*x_s1_b7_r2 + 9969*x_s1_b3_r2*x_s1_b7_r2 + 9969*x_s1_b4_r2*x_s1_b7_r2 + 38*x_s1_b5_r2*x_s1_b7_r2 + 38*x_s1_b6_r2*x_s1_b7_r2 + 19*x_s1_b7_r2^2 + 9969*x_s1_b1_r2*x_s1_b8_r2 + 9969*x_s1_b2_r2*x_s1_b8_r2 + 9969*x_s1_b3_r2*x_s1_b8_r2 + 9969*x_s1_b4_r2*x_s1_b8_r2 + 38*x_s1_b5_r2*x_s1_b8_r2 + 38*x_s1_b6_r2*x_s1_b8_r2 + 38*x_s1_b7_r2*x_s1_b8_r2 + 19*x_s1_b8_r2^2 + 8*x_s1_b1_r2 + x_s1_b2_r2 + x_s1_b3_r2 + x_s1_b4_r2 + x_s1_b5_r2 + 5*x_s1_b6_r2 + x_s1_b7_r2 + x_s1_b8_r2 + 10006*x_s1_b6_r3 + k_b1 + 3*k_b2 + 2*k_b3 + k_b4 + 1322\n",
      "13*x_s1_b1_r2^2 + 26*x_s1_b1_r2*x_s1_b2_r2 + 13*x_s1_b2_r2^2 + 26*x_s1_b1_r2*x_s1_b3_r2 + 26*x_s1_b2_r2*x_s1_b3_r2 + 13*x_s1_b3_r2^2 + 26*x_s1_b1_r2*x_s1_b4_r2 + 26*x_s1_b2_r2*x_s1_b4_r2 + 26*x_s1_b3_r2*x_s1_b4_r2 + 13*x_s1_b4_r2^2 + 9981*x_s1_b1_r2*x_s1_b5_r2 + 9981*x_s1_b2_r2*x_s1_b5_r2 + 9981*x_s1_b3_r2*x_s1_b5_r2 + 9981*x_s1_b4_r2*x_s1_b5_r2 + 13*x_s1_b5_r2^2 + 9981*x_s1_b1_r2*x_s1_b6_r2 + 9981*x_s1_b2_r2*x_s1_b6_r2 + 9981*x_s1_b3_r2*x_s1_b6_r2 + 9981*x_s1_b4_r2*x_s1_b6_r2 + 26*x_s1_b5_r2*x_s1_b6_r2 + 13*x_s1_b6_r2^2 + 9981*x_s1_b1_r2*x_s1_b7_r2 + 9981*x_s1_b2_r2*x_s1_b7_r2 + 9981*x_s1_b3_r2*x_s1_b7_r2 + 9981*x_s1_b4_r2*x_s1_b7_r2 + 26*x_s1_b5_r2*x_s1_b7_r2 + 26*x_s1_b6_r2*x_s1_b7_r2 + 13*x_s1_b7_r2^2 + 9981*x_s1_b1_r2*x_s1_b8_r2 + 9981*x_s1_b2_r2*x_s1_b8_r2 + 9981*x_s1_b3_r2*x_s1_b8_r2 + 9981*x_s1_b4_r2*x_s1_b8_r2 + 26*x_s1_b5_r2*x_s1_b8_r2 + 26*x_s1_b6_r2*x_s1_b8_r2 + 26*x_s1_b7_r2*x_s1_b8_r2 + 13*x_s1_b8_r2^2 + 5*x_s1_b1_r2 + x_s1_b2_r2 + x_s1_b3_r2 + x_s1_b4_r2 + x_s1_b5_r2 + x_s1_b6_r2 + 2*x_s1_b7_r2 + x_s1_b8_r2 + 10006*x_s1_b7_r3 + k_b1 + k_b2 + 3*k_b3 + 2*k_b4 + 576\n",
      "16*x_s1_b1_r2^2 + 32*x_s1_b1_r2*x_s1_b2_r2 + 16*x_s1_b2_r2^2 + 32*x_s1_b1_r2*x_s1_b3_r2 + 32*x_s1_b2_r2*x_s1_b3_r2 + 16*x_s1_b3_r2^2 + 32*x_s1_b1_r2*x_s1_b4_r2 + 32*x_s1_b2_r2*x_s1_b4_r2 + 32*x_s1_b3_r2*x_s1_b4_r2 + 16*x_s1_b4_r2^2 + 9975*x_s1_b1_r2*x_s1_b5_r2 + 9975*x_s1_b2_r2*x_s1_b5_r2 + 9975*x_s1_b3_r2*x_s1_b5_r2 + 9975*x_s1_b4_r2*x_s1_b5_r2 + 16*x_s1_b5_r2^2 + 9975*x_s1_b1_r2*x_s1_b6_r2 + 9975*x_s1_b2_r2*x_s1_b6_r2 + 9975*x_s1_b3_r2*x_s1_b6_r2 + 9975*x_s1_b4_r2*x_s1_b6_r2 + 32*x_s1_b5_r2*x_s1_b6_r2 + 16*x_s1_b6_r2^2 + 9975*x_s1_b1_r2*x_s1_b7_r2 + 9975*x_s1_b2_r2*x_s1_b7_r2 + 9975*x_s1_b3_r2*x_s1_b7_r2 + 9975*x_s1_b4_r2*x_s1_b7_r2 + 32*x_s1_b5_r2*x_s1_b7_r2 + 32*x_s1_b6_r2*x_s1_b7_r2 + 16*x_s1_b7_r2^2 + 9975*x_s1_b1_r2*x_s1_b8_r2 + 9975*x_s1_b2_r2*x_s1_b8_r2 + 9975*x_s1_b3_r2*x_s1_b8_r2 + 9975*x_s1_b4_r2*x_s1_b8_r2 + 32*x_s1_b5_r2*x_s1_b8_r2 + 32*x_s1_b6_r2*x_s1_b8_r2 + 32*x_s1_b7_r2*x_s1_b8_r2 + 16*x_s1_b8_r2^2 + 4*x_s1_b1_r2 + x_s1_b2_r2 + x_s1_b3_r2 + x_s1_b4_r2 + x_s1_b5_r2 + x_s1_b6_r2 + x_s1_b7_r2 + 6*x_s1_b8_r2 + 10006*x_s1_b8_r3 + 2*k_b1 + k_b2 + k_b3 + 3*k_b4 + 4270\n",
      "10*x_s1_b1_r3^2 + 20*x_s1_b1_r3*x_s1_b2_r3 + 10*x_s1_b2_r3^2 + 20*x_s1_b1_r3*x_s1_b3_r3 + 20*x_s1_b2_r3*x_s1_b3_r3 + 10*x_s1_b3_r3^2 + 20*x_s1_b1_r3*x_s1_b4_r3 + 20*x_s1_b2_r3*x_s1_b4_r3 + 20*x_s1_b3_r3*x_s1_b4_r3 + 10*x_s1_b4_r3^2 + 9987*x_s1_b1_r3*x_s1_b5_r3 + 9987*x_s1_b2_r3*x_s1_b5_r3 + 9987*x_s1_b3_r3*x_s1_b5_r3 + 9987*x_s1_b4_r3*x_s1_b5_r3 + 10*x_s1_b5_r3^2 + 9987*x_s1_b1_r3*x_s1_b6_r3 + 9987*x_s1_b2_r3*x_s1_b6_r3 + 9987*x_s1_b3_r3*x_s1_b6_r3 + 9987*x_s1_b4_r3*x_s1_b6_r3 + 20*x_s1_b5_r3*x_s1_b6_r3 + 10*x_s1_b6_r3^2 + 9987*x_s1_b1_r3*x_s1_b7_r3 + 9987*x_s1_b2_r3*x_s1_b7_r3 + 9987*x_s1_b3_r3*x_s1_b7_r3 + 9987*x_s1_b4_r3*x_s1_b7_r3 + 20*x_s1_b5_r3*x_s1_b7_r3 + 20*x_s1_b6_r3*x_s1_b7_r3 + 10*x_s1_b7_r3^2 + 9987*x_s1_b1_r3*x_s1_b8_r3 + 9987*x_s1_b2_r3*x_s1_b8_r3 + 9987*x_s1_b3_r3*x_s1_b8_r3 + 9987*x_s1_b4_r3*x_s1_b8_r3 + 20*x_s1_b5_r3*x_s1_b8_r3 + 20*x_s1_b6_r3*x_s1_b8_r3 + 20*x_s1_b7_r3*x_s1_b8_r3 + 10*x_s1_b8_r3^2 + y_b1 + 3*x_s1_b1_r3 + x_s1_b2_r3 + x_s1_b3_r3 + x_s1_b4_r3 + x_s1_b5_r3 + x_s1_b6_r3 + x_s1_b7_r3 + x_s1_b8_r3 + k_b1 + 7448\n",
      "16*x_s1_b1_r3^2 + 32*x_s1_b1_r3*x_s1_b2_r3 + 16*x_s1_b2_r3^2 + 32*x_s1_b1_r3*x_s1_b3_r3 + 32*x_s1_b2_r3*x_s1_b3_r3 + 16*x_s1_b3_r3^2 + 32*x_s1_b1_r3*x_s1_b4_r3 + 32*x_s1_b2_r3*x_s1_b4_r3 + 32*x_s1_b3_r3*x_s1_b4_r3 + 16*x_s1_b4_r3^2 + 9975*x_s1_b1_r3*x_s1_b5_r3 + 9975*x_s1_b2_r3*x_s1_b5_r3 + 9975*x_s1_b3_r3*x_s1_b5_r3 + 9975*x_s1_b4_r3*x_s1_b5_r3 + 16*x_s1_b5_r3^2 + 9975*x_s1_b1_r3*x_s1_b6_r3 + 9975*x_s1_b2_r3*x_s1_b6_r3 + 9975*x_s1_b3_r3*x_s1_b6_r3 + 9975*x_s1_b4_r3*x_s1_b6_r3 + 32*x_s1_b5_r3*x_s1_b6_r3 + 16*x_s1_b6_r3^2 + 9975*x_s1_b1_r3*x_s1_b7_r3 + 9975*x_s1_b2_r3*x_s1_b7_r3 + 9975*x_s1_b3_r3*x_s1_b7_r3 + 9975*x_s1_b4_r3*x_s1_b7_r3 + 32*x_s1_b5_r3*x_s1_b7_r3 + 32*x_s1_b6_r3*x_s1_b7_r3 + 16*x_s1_b7_r3^2 + 9975*x_s1_b1_r3*x_s1_b8_r3 + 9975*x_s1_b2_r3*x_s1_b8_r3 + 9975*x_s1_b3_r3*x_s1_b8_r3 + 9975*x_s1_b4_r3*x_s1_b8_r3 + 32*x_s1_b5_r3*x_s1_b8_r3 + 32*x_s1_b6_r3*x_s1_b8_r3 + 32*x_s1_b7_r3*x_s1_b8_r3 + 16*x_s1_b8_r3^2 + y_b2 + 7*x_s1_b1_r3 + 3*x_s1_b2_r3 + x_s1_b3_r3 + x_s1_b4_r3 + x_s1_b5_r3 + x_s1_b6_r3 + x_s1_b7_r3 + x_s1_b8_r3 + k_b2 + 1473\n",
      "----------------------------------------------------------------------\n",
      "19*x_s1_b1_r2^2 + 38*x_s1_b1_r2*x_s1_b2_r2 + 19*x_s1_b2_r2^2 + 38*x_s1_b1_r2*x_s1_b3_r2 + 38*x_s1_b2_r2*x_s1_b3_r2 + 19*x_s1_b3_r2^2 + 38*x_s1_b1_r2*x_s1_b4_r2 + 38*x_s1_b2_r2*x_s1_b4_r2 + 38*x_s1_b3_r2*x_s1_b4_r2 + 19*x_s1_b4_r2^2 + 9969*x_s1_b1_r2*x_s1_b5_r2 + 9969*x_s1_b2_r2*x_s1_b5_r2 + 9969*x_s1_b3_r2*x_s1_b5_r2 + 9969*x_s1_b4_r2*x_s1_b5_r2 + 19*x_s1_b5_r2^2 + 9969*x_s1_b1_r2*x_s1_b6_r2 + 9969*x_s1_b2_r2*x_s1_b6_r2 + 9969*x_s1_b3_r2*x_s1_b6_r2 + 9969*x_s1_b4_r2*x_s1_b6_r2 + 38*x_s1_b5_r2*x_s1_b6_r2 + 19*x_s1_b6_r2^2 + 9969*x_s1_b1_r2*x_s1_b7_r2 + 9969*x_s1_b2_r2*x_s1_b7_r2 + 9969*x_s1_b3_r2*x_s1_b7_r2 + 9969*x_s1_b4_r2*x_s1_b7_r2 + 38*x_s1_b5_r2*x_s1_b7_r2 + 38*x_s1_b6_r2*x_s1_b7_r2 + 19*x_s1_b7_r2^2 + 9969*x_s1_b1_r2*x_s1_b8_r2 + 9969*x_s1_b2_r2*x_s1_b8_r2 + 9969*x_s1_b3_r2*x_s1_b8_r2 + 9969*x_s1_b4_r2*x_s1_b8_r2 + 38*x_s1_b5_r2*x_s1_b8_r2 + 38*x_s1_b6_r2*x_s1_b8_r2 + 38*x_s1_b7_r2*x_s1_b8_r2 + 19*x_s1_b8_r2^2 + 8*x_s1_b1_r2 + x_s1_b2_r2 + x_s1_b3_r2 + x_s1_b4_r2 + x_s1_b5_r2 + 5*x_s1_b6_r2 + x_s1_b7_r2 + x_s1_b8_r2 + 10006*x_s1_b6_r3 + k_b1 + 3*k_b2 + 2*k_b3 + k_b4 + 1322\n",
      "13*x_s1_b1_r2^2 + 26*x_s1_b1_r2*x_s1_b2_r2 + 13*x_s1_b2_r2^2 + 26*x_s1_b1_r2*x_s1_b3_r2 + 26*x_s1_b2_r2*x_s1_b3_r2 + 13*x_s1_b3_r2^2 + 26*x_s1_b1_r2*x_s1_b4_r2 + 26*x_s1_b2_r2*x_s1_b4_r2 + 26*x_s1_b3_r2*x_s1_b4_r2 + 13*x_s1_b4_r2^2 + 9981*x_s1_b1_r2*x_s1_b5_r2 + 9981*x_s1_b2_r2*x_s1_b5_r2 + 9981*x_s1_b3_r2*x_s1_b5_r2 + 9981*x_s1_b4_r2*x_s1_b5_r2 + 13*x_s1_b5_r2^2 + 9981*x_s1_b1_r2*x_s1_b6_r2 + 9981*x_s1_b2_r2*x_s1_b6_r2 + 9981*x_s1_b3_r2*x_s1_b6_r2 + 9981*x_s1_b4_r2*x_s1_b6_r2 + 26*x_s1_b5_r2*x_s1_b6_r2 + 13*x_s1_b6_r2^2 + 9981*x_s1_b1_r2*x_s1_b7_r2 + 9981*x_s1_b2_r2*x_s1_b7_r2 + 9981*x_s1_b3_r2*x_s1_b7_r2 + 9981*x_s1_b4_r2*x_s1_b7_r2 + 26*x_s1_b5_r2*x_s1_b7_r2 + 26*x_s1_b6_r2*x_s1_b7_r2 + 13*x_s1_b7_r2^2 + 9981*x_s1_b1_r2*x_s1_b8_r2 + 9981*x_s1_b2_r2*x_s1_b8_r2 + 9981*x_s1_b3_r2*x_s1_b8_r2 + 9981*x_s1_b4_r2*x_s1_b8_r2 + 26*x_s1_b5_r2*x_s1_b8_r2 + 26*x_s1_b6_r2*x_s1_b8_r2 + 26*x_s1_b7_r2*x_s1_b8_r2 + 13*x_s1_b8_r2^2 + 5*x_s1_b1_r2 + x_s1_b2_r2 + x_s1_b3_r2 + x_s1_b4_r2 + x_s1_b5_r2 + x_s1_b6_r2 + 2*x_s1_b7_r2 + x_s1_b8_r2 + 10006*x_s1_b7_r3 + k_b1 + k_b2 + 3*k_b3 + 2*k_b4 + 576\n",
      "16*x_s1_b1_r2^2 + 32*x_s1_b1_r2*x_s1_b2_r2 + 16*x_s1_b2_r2^2 + 32*x_s1_b1_r2*x_s1_b3_r2 + 32*x_s1_b2_r2*x_s1_b3_r2 + 16*x_s1_b3_r2^2 + 32*x_s1_b1_r2*x_s1_b4_r2 + 32*x_s1_b2_r2*x_s1_b4_r2 + 32*x_s1_b3_r2*x_s1_b4_r2 + 16*x_s1_b4_r2^2 + 9975*x_s1_b1_r2*x_s1_b5_r2 + 9975*x_s1_b2_r2*x_s1_b5_r2 + 9975*x_s1_b3_r2*x_s1_b5_r2 + 9975*x_s1_b4_r2*x_s1_b5_r2 + 16*x_s1_b5_r2^2 + 9975*x_s1_b1_r2*x_s1_b6_r2 + 9975*x_s1_b2_r2*x_s1_b6_r2 + 9975*x_s1_b3_r2*x_s1_b6_r2 + 9975*x_s1_b4_r2*x_s1_b6_r2 + 32*x_s1_b5_r2*x_s1_b6_r2 + 16*x_s1_b6_r2^2 + 9975*x_s1_b1_r2*x_s1_b7_r2 + 9975*x_s1_b2_r2*x_s1_b7_r2 + 9975*x_s1_b3_r2*x_s1_b7_r2 + 9975*x_s1_b4_r2*x_s1_b7_r2 + 32*x_s1_b5_r2*x_s1_b7_r2 + 32*x_s1_b6_r2*x_s1_b7_r2 + 16*x_s1_b7_r2^2 + 9975*x_s1_b1_r2*x_s1_b8_r2 + 9975*x_s1_b2_r2*x_s1_b8_r2 + 9975*x_s1_b3_r2*x_s1_b8_r2 + 9975*x_s1_b4_r2*x_s1_b8_r2 + 32*x_s1_b5_r2*x_s1_b8_r2 + 32*x_s1_b6_r2*x_s1_b8_r2 + 32*x_s1_b7_r2*x_s1_b8_r2 + 16*x_s1_b8_r2^2 + 4*x_s1_b1_r2 + x_s1_b2_r2 + x_s1_b3_r2 + x_s1_b4_r2 + x_s1_b5_r2 + x_s1_b6_r2 + x_s1_b7_r2 + 6*x_s1_b8_r2 + 10006*x_s1_b8_r3 + 2*k_b1 + k_b2 + k_b3 + 3*k_b4 + 4270\n",
      "10*x_s1_b1_r3^2 + 20*x_s1_b1_r3*x_s1_b2_r3 + 10*x_s1_b2_r3^2 + 20*x_s1_b1_r3*x_s1_b3_r3 + 20*x_s1_b2_r3*x_s1_b3_r3 + 10*x_s1_b3_r3^2 + 20*x_s1_b1_r3*x_s1_b4_r3 + 20*x_s1_b2_r3*x_s1_b4_r3 + 20*x_s1_b3_r3*x_s1_b4_r3 + 10*x_s1_b4_r3^2 + 9987*x_s1_b1_r3*x_s1_b5_r3 + 9987*x_s1_b2_r3*x_s1_b5_r3 + 9987*x_s1_b3_r3*x_s1_b5_r3 + 9987*x_s1_b4_r3*x_s1_b5_r3 + 10*x_s1_b5_r3^2 + 9987*x_s1_b1_r3*x_s1_b6_r3 + 9987*x_s1_b2_r3*x_s1_b6_r3 + 9987*x_s1_b3_r3*x_s1_b6_r3 + 9987*x_s1_b4_r3*x_s1_b6_r3 + 20*x_s1_b5_r3*x_s1_b6_r3 + 10*x_s1_b6_r3^2 + 9987*x_s1_b1_r3*x_s1_b7_r3 + 9987*x_s1_b2_r3*x_s1_b7_r3 + 9987*x_s1_b3_r3*x_s1_b7_r3 + 9987*x_s1_b4_r3*x_s1_b7_r3 + 20*x_s1_b5_r3*x_s1_b7_r3 + 20*x_s1_b6_r3*x_s1_b7_r3 + 10*x_s1_b7_r3^2 + 9987*x_s1_b1_r3*x_s1_b8_r3 + 9987*x_s1_b2_r3*x_s1_b8_r3 + 9987*x_s1_b3_r3*x_s1_b8_r3 + 9987*x_s1_b4_r3*x_s1_b8_r3 + 20*x_s1_b5_r3*x_s1_b8_r3 + 20*x_s1_b6_r3*x_s1_b8_r3 + 20*x_s1_b7_r3*x_s1_b8_r3 + 10*x_s1_b8_r3^2 + y_b1 + 3*x_s1_b1_r3 + x_s1_b2_r3 + x_s1_b3_r3 + x_s1_b4_r3 + x_s1_b5_r3 + x_s1_b6_r3 + x_s1_b7_r3 + x_s1_b8_r3 + k_b1 + 7448\n",
      "16*x_s1_b1_r3^2 + 32*x_s1_b1_r3*x_s1_b2_r3 + 16*x_s1_b2_r3^2 + 32*x_s1_b1_r3*x_s1_b3_r3 + 32*x_s1_b2_r3*x_s1_b3_r3 + 16*x_s1_b3_r3^2 + 32*x_s1_b1_r3*x_s1_b4_r3 + 32*x_s1_b2_r3*x_s1_b4_r3 + 32*x_s1_b3_r3*x_s1_b4_r3 + 16*x_s1_b4_r3^2 + 9975*x_s1_b1_r3*x_s1_b5_r3 + 9975*x_s1_b2_r3*x_s1_b5_r3 + 9975*x_s1_b3_r3*x_s1_b5_r3 + 9975*x_s1_b4_r3*x_s1_b5_r3 + 16*x_s1_b5_r3^2 + 9975*x_s1_b1_r3*x_s1_b6_r3 + 9975*x_s1_b2_r3*x_s1_b6_r3 + 9975*x_s1_b3_r3*x_s1_b6_r3 + 9975*x_s1_b4_r3*x_s1_b6_r3 + 32*x_s1_b5_r3*x_s1_b6_r3 + 16*x_s1_b6_r3^2 + 9975*x_s1_b1_r3*x_s1_b7_r3 + 9975*x_s1_b2_r3*x_s1_b7_r3 + 9975*x_s1_b3_r3*x_s1_b7_r3 + 9975*x_s1_b4_r3*x_s1_b7_r3 + 32*x_s1_b5_r3*x_s1_b7_r3 + 32*x_s1_b6_r3*x_s1_b7_r3 + 16*x_s1_b7_r3^2 + 9975*x_s1_b1_r3*x_s1_b8_r3 + 9975*x_s1_b2_r3*x_s1_b8_r3 + 9975*x_s1_b3_r3*x_s1_b8_r3 + 9975*x_s1_b4_r3*x_s1_b8_r3 + 32*x_s1_b5_r3*x_s1_b8_r3 + 32*x_s1_b6_r3*x_s1_b8_r3 + 32*x_s1_b7_r3*x_s1_b8_r3 + 16*x_s1_b8_r3^2 + y_b2 + 7*x_s1_b1_r3 + 3*x_s1_b2_r3 + x_s1_b3_r3 + x_s1_b4_r3 + x_s1_b5_r3 + x_s1_b6_r3 + x_s1_b7_r3 + x_s1_b8_r3 + k_b2 + 1473\n",
      "14*x_s1_b1_r3^2 + 28*x_s1_b1_r3*x_s1_b2_r3 + 14*x_s1_b2_r3^2 + 28*x_s1_b1_r3*x_s1_b3_r3 + 28*x_s1_b2_r3*x_s1_b3_r3 + 14*x_s1_b3_r3^2 + 28*x_s1_b1_r3*x_s1_b4_r3 + 28*x_s1_b2_r3*x_s1_b4_r3 + 28*x_s1_b3_r3*x_s1_b4_r3 + 14*x_s1_b4_r3^2 + 9979*x_s1_b1_r3*x_s1_b5_r3 + 9979*x_s1_b2_r3*x_s1_b5_r3 + 9979*x_s1_b3_r3*x_s1_b5_r3 + 9979*x_s1_b4_r3*x_s1_b5_r3 + 14*x_s1_b5_r3^2 + 9979*x_s1_b1_r3*x_s1_b6_r3 + 9979*x_s1_b2_r3*x_s1_b6_r3 + 9979*x_s1_b3_r3*x_s1_b6_r3 + 9979*x_s1_b4_r3*x_s1_b6_r3 + 28*x_s1_b5_r3*x_s1_b6_r3 + 14*x_s1_b6_r3^2 + 9979*x_s1_b1_r3*x_s1_b7_r3 + 9979*x_s1_b2_r3*x_s1_b7_r3 + 9979*x_s1_b3_r3*x_s1_b7_r3 + 9979*x_s1_b4_r3*x_s1_b7_r3 + 28*x_s1_b5_r3*x_s1_b7_r3 + 28*x_s1_b6_r3*x_s1_b7_r3 + 14*x_s1_b7_r3^2 + 9979*x_s1_b1_r3*x_s1_b8_r3 + 9979*x_s1_b2_r3*x_s1_b8_r3 + 9979*x_s1_b3_r3*x_s1_b8_r3 + 9979*x_s1_b4_r3*x_s1_b8_r3 + 28*x_s1_b5_r3*x_s1_b8_r3 + 28*x_s1_b6_r3*x_s1_b8_r3 + 28*x_s1_b7_r3*x_s1_b8_r3 + 14*x_s1_b8_r3^2 + y_b3 + 4*x_s1_b1_r3 + x_s1_b2_r3 + 4*x_s1_b3_r3 + x_s1_b4_r3 + x_s1_b5_r3 + x_s1_b6_r3 + x_s1_b7_r3 + x_s1_b8_r3 + k_b3 + 7295\n",
      "17*x_s1_b1_r3^2 + 34*x_s1_b1_r3*x_s1_b2_r3 + 17*x_s1_b2_r3^2 + 34*x_s1_b1_r3*x_s1_b3_r3 + 34*x_s1_b2_r3*x_s1_b3_r3 + 17*x_s1_b3_r3^2 + 34*x_s1_b1_r3*x_s1_b4_r3 + 34*x_s1_b2_r3*x_s1_b4_r3 + 34*x_s1_b3_r3*x_s1_b4_r3 + 17*x_s1_b4_r3^2 + 9973*x_s1_b1_r3*x_s1_b5_r3 + 9973*x_s1_b2_r3*x_s1_b5_r3 + 9973*x_s1_b3_r3*x_s1_b5_r3 + 9973*x_s1_b4_r3*x_s1_b5_r3 + 17*x_s1_b5_r3^2 + 9973*x_s1_b1_r3*x_s1_b6_r3 + 9973*x_s1_b2_r3*x_s1_b6_r3 + 9973*x_s1_b3_r3*x_s1_b6_r3 + 9973*x_s1_b4_r3*x_s1_b6_r3 + 34*x_s1_b5_r3*x_s1_b6_r3 + 17*x_s1_b6_r3^2 + 9973*x_s1_b1_r3*x_s1_b7_r3 + 9973*x_s1_b2_r3*x_s1_b7_r3 + 9973*x_s1_b3_r3*x_s1_b7_r3 + 9973*x_s1_b4_r3*x_s1_b7_r3 + 34*x_s1_b5_r3*x_s1_b7_r3 + 34*x_s1_b6_r3*x_s1_b7_r3 + 17*x_s1_b7_r3^2 + 9973*x_s1_b1_r3*x_s1_b8_r3 + 9973*x_s1_b2_r3*x_s1_b8_r3 + 9973*x_s1_b3_r3*x_s1_b8_r3 + 9973*x_s1_b4_r3*x_s1_b8_r3 + 34*x_s1_b5_r3*x_s1_b8_r3 + 34*x_s1_b6_r3*x_s1_b8_r3 + 34*x_s1_b7_r3*x_s1_b8_r3 + 17*x_s1_b8_r3^2 + y_b4 + 3*x_s1_b1_r3 + x_s1_b2_r3 + x_s1_b3_r3 + 8*x_s1_b4_r3 + x_s1_b5_r3 + x_s1_b6_r3 + x_s1_b7_r3 + x_s1_b8_r3 + k_b4 + 1298\n",
      "20*x_s1_b1_r3^2 + 40*x_s1_b1_r3*x_s1_b2_r3 + 20*x_s1_b2_r3^2 + 40*x_s1_b1_r3*x_s1_b3_r3 + 40*x_s1_b2_r3*x_s1_b3_r3 + 20*x_s1_b3_r3^2 + 40*x_s1_b1_r3*x_s1_b4_r3 + 40*x_s1_b2_r3*x_s1_b4_r3 + 40*x_s1_b3_r3*x_s1_b4_r3 + 20*x_s1_b4_r3^2 + 9967*x_s1_b1_r3*x_s1_b5_r3 + 9967*x_s1_b2_r3*x_s1_b5_r3 + 9967*x_s1_b3_r3*x_s1_b5_r3 + 9967*x_s1_b4_r3*x_s1_b5_r3 + 20*x_s1_b5_r3^2 + 9967*x_s1_b1_r3*x_s1_b6_r3 + 9967*x_s1_b2_r3*x_s1_b6_r3 + 9967*x_s1_b3_r3*x_s1_b6_r3 + 9967*x_s1_b4_r3*x_s1_b6_r3 + 40*x_s1_b5_r3*x_s1_b6_r3 + 20*x_s1_b6_r3^2 + 9967*x_s1_b1_r3*x_s1_b7_r3 + 9967*x_s1_b2_r3*x_s1_b7_r3 + 9967*x_s1_b3_r3*x_s1_b7_r3 + 9967*x_s1_b4_r3*x_s1_b7_r3 + 40*x_s1_b5_r3*x_s1_b7_r3 + 40*x_s1_b6_r3*x_s1_b7_r3 + 20*x_s1_b7_r3^2 + 9967*x_s1_b1_r3*x_s1_b8_r3 + 9967*x_s1_b2_r3*x_s1_b8_r3 + 9967*x_s1_b3_r3*x_s1_b8_r3 + 9967*x_s1_b4_r3*x_s1_b8_r3 + 40*x_s1_b5_r3*x_s1_b8_r3 + 40*x_s1_b6_r3*x_s1_b8_r3 + 40*x_s1_b7_r3*x_s1_b8_r3 + 20*x_s1_b8_r3^2 + z_b1 + 7*x_s1_b1_r3 + x_s1_b2_r3 + x_s1_b3_r3 + x_s1_b4_r3 + 7*x_s1_b5_r3 + x_s1_b6_r3 + x_s1_b7_r3 + x_s1_b8_r3 + 3*k_b1 + 2*k_b2 + k_b3 + k_b4 + 8924\n",
      "----------------------------------------------------------------------\n",
      "10*x_s1_b1_r3^2 + 20*x_s1_b1_r3*x_s1_b2_r3 + 10*x_s1_b2_r3^2 + 20*x_s1_b1_r3*x_s1_b3_r3 + 20*x_s1_b2_r3*x_s1_b3_r3 + 10*x_s1_b3_r3^2 + 20*x_s1_b1_r3*x_s1_b4_r3 + 20*x_s1_b2_r3*x_s1_b4_r3 + 20*x_s1_b3_r3*x_s1_b4_r3 + 10*x_s1_b4_r3^2 + 9987*x_s1_b1_r3*x_s1_b5_r3 + 9987*x_s1_b2_r3*x_s1_b5_r3 + 9987*x_s1_b3_r3*x_s1_b5_r3 + 9987*x_s1_b4_r3*x_s1_b5_r3 + 10*x_s1_b5_r3^2 + 9987*x_s1_b1_r3*x_s1_b6_r3 + 9987*x_s1_b2_r3*x_s1_b6_r3 + 9987*x_s1_b3_r3*x_s1_b6_r3 + 9987*x_s1_b4_r3*x_s1_b6_r3 + 20*x_s1_b5_r3*x_s1_b6_r3 + 10*x_s1_b6_r3^2 + 9987*x_s1_b1_r3*x_s1_b7_r3 + 9987*x_s1_b2_r3*x_s1_b7_r3 + 9987*x_s1_b3_r3*x_s1_b7_r3 + 9987*x_s1_b4_r3*x_s1_b7_r3 + 20*x_s1_b5_r3*x_s1_b7_r3 + 20*x_s1_b6_r3*x_s1_b7_r3 + 10*x_s1_b7_r3^2 + 9987*x_s1_b1_r3*x_s1_b8_r3 + 9987*x_s1_b2_r3*x_s1_b8_r3 + 9987*x_s1_b3_r3*x_s1_b8_r3 + 9987*x_s1_b4_r3*x_s1_b8_r3 + 20*x_s1_b5_r3*x_s1_b8_r3 + 20*x_s1_b6_r3*x_s1_b8_r3 + 20*x_s1_b7_r3*x_s1_b8_r3 + 10*x_s1_b8_r3^2 + y_b1 + 3*x_s1_b1_r3 + x_s1_b2_r3 + x_s1_b3_r3 + x_s1_b4_r3 + x_s1_b5_r3 + x_s1_b6_r3 + x_s1_b7_r3 + x_s1_b8_r3 + k_b1 + 7448\n",
      "16*x_s1_b1_r3^2 + 32*x_s1_b1_r3*x_s1_b2_r3 + 16*x_s1_b2_r3^2 + 32*x_s1_b1_r3*x_s1_b3_r3 + 32*x_s1_b2_r3*x_s1_b3_r3 + 16*x_s1_b3_r3^2 + 32*x_s1_b1_r3*x_s1_b4_r3 + 32*x_s1_b2_r3*x_s1_b4_r3 + 32*x_s1_b3_r3*x_s1_b4_r3 + 16*x_s1_b4_r3^2 + 9975*x_s1_b1_r3*x_s1_b5_r3 + 9975*x_s1_b2_r3*x_s1_b5_r3 + 9975*x_s1_b3_r3*x_s1_b5_r3 + 9975*x_s1_b4_r3*x_s1_b5_r3 + 16*x_s1_b5_r3^2 + 9975*x_s1_b1_r3*x_s1_b6_r3 + 9975*x_s1_b2_r3*x_s1_b6_r3 + 9975*x_s1_b3_r3*x_s1_b6_r3 + 9975*x_s1_b4_r3*x_s1_b6_r3 + 32*x_s1_b5_r3*x_s1_b6_r3 + 16*x_s1_b6_r3^2 + 9975*x_s1_b1_r3*x_s1_b7_r3 + 9975*x_s1_b2_r3*x_s1_b7_r3 + 9975*x_s1_b3_r3*x_s1_b7_r3 + 9975*x_s1_b4_r3*x_s1_b7_r3 + 32*x_s1_b5_r3*x_s1_b7_r3 + 32*x_s1_b6_r3*x_s1_b7_r3 + 16*x_s1_b7_r3^2 + 9975*x_s1_b1_r3*x_s1_b8_r3 + 9975*x_s1_b2_r3*x_s1_b8_r3 + 9975*x_s1_b3_r3*x_s1_b8_r3 + 9975*x_s1_b4_r3*x_s1_b8_r3 + 32*x_s1_b5_r3*x_s1_b8_r3 + 32*x_s1_b6_r3*x_s1_b8_r3 + 32*x_s1_b7_r3*x_s1_b8_r3 + 16*x_s1_b8_r3^2 + y_b2 + 7*x_s1_b1_r3 + 3*x_s1_b2_r3 + x_s1_b3_r3 + x_s1_b4_r3 + x_s1_b5_r3 + x_s1_b6_r3 + x_s1_b7_r3 + x_s1_b8_r3 + k_b2 + 1473\n",
      "14*x_s1_b1_r3^2 + 28*x_s1_b1_r3*x_s1_b2_r3 + 14*x_s1_b2_r3^2 + 28*x_s1_b1_r3*x_s1_b3_r3 + 28*x_s1_b2_r3*x_s1_b3_r3 + 14*x_s1_b3_r3^2 + 28*x_s1_b1_r3*x_s1_b4_r3 + 28*x_s1_b2_r3*x_s1_b4_r3 + 28*x_s1_b3_r3*x_s1_b4_r3 + 14*x_s1_b4_r3^2 + 9979*x_s1_b1_r3*x_s1_b5_r3 + 9979*x_s1_b2_r3*x_s1_b5_r3 + 9979*x_s1_b3_r3*x_s1_b5_r3 + 9979*x_s1_b4_r3*x_s1_b5_r3 + 14*x_s1_b5_r3^2 + 9979*x_s1_b1_r3*x_s1_b6_r3 + 9979*x_s1_b2_r3*x_s1_b6_r3 + 9979*x_s1_b3_r3*x_s1_b6_r3 + 9979*x_s1_b4_r3*x_s1_b6_r3 + 28*x_s1_b5_r3*x_s1_b6_r3 + 14*x_s1_b6_r3^2 + 9979*x_s1_b1_r3*x_s1_b7_r3 + 9979*x_s1_b2_r3*x_s1_b7_r3 + 9979*x_s1_b3_r3*x_s1_b7_r3 + 9979*x_s1_b4_r3*x_s1_b7_r3 + 28*x_s1_b5_r3*x_s1_b7_r3 + 28*x_s1_b6_r3*x_s1_b7_r3 + 14*x_s1_b7_r3^2 + 9979*x_s1_b1_r3*x_s1_b8_r3 + 9979*x_s1_b2_r3*x_s1_b8_r3 + 9979*x_s1_b3_r3*x_s1_b8_r3 + 9979*x_s1_b4_r3*x_s1_b8_r3 + 28*x_s1_b5_r3*x_s1_b8_r3 + 28*x_s1_b6_r3*x_s1_b8_r3 + 28*x_s1_b7_r3*x_s1_b8_r3 + 14*x_s1_b8_r3^2 + y_b3 + 4*x_s1_b1_r3 + x_s1_b2_r3 + 4*x_s1_b3_r3 + x_s1_b4_r3 + x_s1_b5_r3 + x_s1_b6_r3 + x_s1_b7_r3 + x_s1_b8_r3 + k_b3 + 7295\n",
      "17*x_s1_b1_r3^2 + 34*x_s1_b1_r3*x_s1_b2_r3 + 17*x_s1_b2_r3^2 + 34*x_s1_b1_r3*x_s1_b3_r3 + 34*x_s1_b2_r3*x_s1_b3_r3 + 17*x_s1_b3_r3^2 + 34*x_s1_b1_r3*x_s1_b4_r3 + 34*x_s1_b2_r3*x_s1_b4_r3 + 34*x_s1_b3_r3*x_s1_b4_r3 + 17*x_s1_b4_r3^2 + 9973*x_s1_b1_r3*x_s1_b5_r3 + 9973*x_s1_b2_r3*x_s1_b5_r3 + 9973*x_s1_b3_r3*x_s1_b5_r3 + 9973*x_s1_b4_r3*x_s1_b5_r3 + 17*x_s1_b5_r3^2 + 9973*x_s1_b1_r3*x_s1_b6_r3 + 9973*x_s1_b2_r3*x_s1_b6_r3 + 9973*x_s1_b3_r3*x_s1_b6_r3 + 9973*x_s1_b4_r3*x_s1_b6_r3 + 34*x_s1_b5_r3*x_s1_b6_r3 + 17*x_s1_b6_r3^2 + 9973*x_s1_b1_r3*x_s1_b7_r3 + 9973*x_s1_b2_r3*x_s1_b7_r3 + 9973*x_s1_b3_r3*x_s1_b7_r3 + 9973*x_s1_b4_r3*x_s1_b7_r3 + 34*x_s1_b5_r3*x_s1_b7_r3 + 34*x_s1_b6_r3*x_s1_b7_r3 + 17*x_s1_b7_r3^2 + 9973*x_s1_b1_r3*x_s1_b8_r3 + 9973*x_s1_b2_r3*x_s1_b8_r3 + 9973*x_s1_b3_r3*x_s1_b8_r3 + 9973*x_s1_b4_r3*x_s1_b8_r3 + 34*x_s1_b5_r3*x_s1_b8_r3 + 34*x_s1_b6_r3*x_s1_b8_r3 + 34*x_s1_b7_r3*x_s1_b8_r3 + 17*x_s1_b8_r3^2 + y_b4 + 3*x_s1_b1_r3 + x_s1_b2_r3 + x_s1_b3_r3 + 8*x_s1_b4_r3 + x_s1_b5_r3 + x_s1_b6_r3 + x_s1_b7_r3 + x_s1_b8_r3 + k_b4 + 1298\n",
      "20*x_s1_b1_r3^2 + 40*x_s1_b1_r3*x_s1_b2_r3 + 20*x_s1_b2_r3^2 + 40*x_s1_b1_r3*x_s1_b3_r3 + 40*x_s1_b2_r3*x_s1_b3_r3 + 20*x_s1_b3_r3^2 + 40*x_s1_b1_r3*x_s1_b4_r3 + 40*x_s1_b2_r3*x_s1_b4_r3 + 40*x_s1_b3_r3*x_s1_b4_r3 + 20*x_s1_b4_r3^2 + 9967*x_s1_b1_r3*x_s1_b5_r3 + 9967*x_s1_b2_r3*x_s1_b5_r3 + 9967*x_s1_b3_r3*x_s1_b5_r3 + 9967*x_s1_b4_r3*x_s1_b5_r3 + 20*x_s1_b5_r3^2 + 9967*x_s1_b1_r3*x_s1_b6_r3 + 9967*x_s1_b2_r3*x_s1_b6_r3 + 9967*x_s1_b3_r3*x_s1_b6_r3 + 9967*x_s1_b4_r3*x_s1_b6_r3 + 40*x_s1_b5_r3*x_s1_b6_r3 + 20*x_s1_b6_r3^2 + 9967*x_s1_b1_r3*x_s1_b7_r3 + 9967*x_s1_b2_r3*x_s1_b7_r3 + 9967*x_s1_b3_r3*x_s1_b7_r3 + 9967*x_s1_b4_r3*x_s1_b7_r3 + 40*x_s1_b5_r3*x_s1_b7_r3 + 40*x_s1_b6_r3*x_s1_b7_r3 + 20*x_s1_b7_r3^2 + 9967*x_s1_b1_r3*x_s1_b8_r3 + 9967*x_s1_b2_r3*x_s1_b8_r3 + 9967*x_s1_b3_r3*x_s1_b8_r3 + 9967*x_s1_b4_r3*x_s1_b8_r3 + 40*x_s1_b5_r3*x_s1_b8_r3 + 40*x_s1_b6_r3*x_s1_b8_r3 + 40*x_s1_b7_r3*x_s1_b8_r3 + 20*x_s1_b8_r3^2 + z_b1 + 7*x_s1_b1_r3 + x_s1_b2_r3 + x_s1_b3_r3 + x_s1_b4_r3 + 7*x_s1_b5_r3 + x_s1_b6_r3 + x_s1_b7_r3 + x_s1_b8_r3 + 3*k_b1 + 2*k_b2 + k_b3 + k_b4 + 8924\n",
      "19*x_s1_b1_r3^2 + 38*x_s1_b1_r3*x_s1_b2_r3 + 19*x_s1_b2_r3^2 + 38*x_s1_b1_r3*x_s1_b3_r3 + 38*x_s1_b2_r3*x_s1_b3_r3 + 19*x_s1_b3_r3^2 + 38*x_s1_b1_r3*x_s1_b4_r3 + 38*x_s1_b2_r3*x_s1_b4_r3 + 38*x_s1_b3_r3*x_s1_b4_r3 + 19*x_s1_b4_r3^2 + 9969*x_s1_b1_r3*x_s1_b5_r3 + 9969*x_s1_b2_r3*x_s1_b5_r3 + 9969*x_s1_b3_r3*x_s1_b5_r3 + 9969*x_s1_b4_r3*x_s1_b5_r3 + 19*x_s1_b5_r3^2 + 9969*x_s1_b1_r3*x_s1_b6_r3 + 9969*x_s1_b2_r3*x_s1_b6_r3 + 9969*x_s1_b3_r3*x_s1_b6_r3 + 9969*x_s1_b4_r3*x_s1_b6_r3 + 38*x_s1_b5_r3*x_s1_b6_r3 + 19*x_s1_b6_r3^2 + 9969*x_s1_b1_r3*x_s1_b7_r3 + 9969*x_s1_b2_r3*x_s1_b7_r3 + 9969*x_s1_b3_r3*x_s1_b7_r3 + 9969*x_s1_b4_r3*x_s1_b7_r3 + 38*x_s1_b5_r3*x_s1_b7_r3 + 38*x_s1_b6_r3*x_s1_b7_r3 + 19*x_s1_b7_r3^2 + 9969*x_s1_b1_r3*x_s1_b8_r3 + 9969*x_s1_b2_r3*x_s1_b8_r3 + 9969*x_s1_b3_r3*x_s1_b8_r3 + 9969*x_s1_b4_r3*x_s1_b8_r3 + 38*x_s1_b5_r3*x_s1_b8_r3 + 38*x_s1_b6_r3*x_s1_b8_r3 + 38*x_s1_b7_r3*x_s1_b8_r3 + 19*x_s1_b8_r3^2 + z_b2 + 8*x_s1_b1_r3 + x_s1_b2_r3 + x_s1_b3_r3 + x_s1_b4_r3 + x_s1_b5_r3 + 5*x_s1_b6_r3 + x_s1_b7_r3 + x_s1_b8_r3 + k_b1 + 3*k_b2 + 2*k_b3 + k_b4 + 2795\n",
      "13*x_s1_b1_r3^2 + 26*x_s1_b1_r3*x_s1_b2_r3 + 13*x_s1_b2_r3^2 + 26*x_s1_b1_r3*x_s1_b3_r3 + 26*x_s1_b2_r3*x_s1_b3_r3 + 13*x_s1_b3_r3^2 + 26*x_s1_b1_r3*x_s1_b4_r3 + 26*x_s1_b2_r3*x_s1_b4_r3 + 26*x_s1_b3_r3*x_s1_b4_r3 + 13*x_s1_b4_r3^2 + 9981*x_s1_b1_r3*x_s1_b5_r3 + 9981*x_s1_b2_r3*x_s1_b5_r3 + 9981*x_s1_b3_r3*x_s1_b5_r3 + 9981*x_s1_b4_r3*x_s1_b5_r3 + 13*x_s1_b5_r3^2 + 9981*x_s1_b1_r3*x_s1_b6_r3 + 9981*x_s1_b2_r3*x_s1_b6_r3 + 9981*x_s1_b3_r3*x_s1_b6_r3 + 9981*x_s1_b4_r3*x_s1_b6_r3 + 26*x_s1_b5_r3*x_s1_b6_r3 + 13*x_s1_b6_r3^2 + 9981*x_s1_b1_r3*x_s1_b7_r3 + 9981*x_s1_b2_r3*x_s1_b7_r3 + 9981*x_s1_b3_r3*x_s1_b7_r3 + 9981*x_s1_b4_r3*x_s1_b7_r3 + 26*x_s1_b5_r3*x_s1_b7_r3 + 26*x_s1_b6_r3*x_s1_b7_r3 + 13*x_s1_b7_r3^2 + 9981*x_s1_b1_r3*x_s1_b8_r3 + 9981*x_s1_b2_r3*x_s1_b8_r3 + 9981*x_s1_b3_r3*x_s1_b8_r3 + 9981*x_s1_b4_r3*x_s1_b8_r3 + 26*x_s1_b5_r3*x_s1_b8_r3 + 26*x_s1_b6_r3*x_s1_b8_r3 + 26*x_s1_b7_r3*x_s1_b8_r3 + 13*x_s1_b8_r3^2 + z_b3 + 5*x_s1_b1_r3 + x_s1_b2_r3 + x_s1_b3_r3 + x_s1_b4_r3 + x_s1_b5_r3 + x_s1_b6_r3 + 2*x_s1_b7_r3 + x_s1_b8_r3 + k_b1 + k_b2 + 3*k_b3 + 2*k_b4 + 8804\n",
      "16*x_s1_b1_r3^2 + 32*x_s1_b1_r3*x_s1_b2_r3 + 16*x_s1_b2_r3^2 + 32*x_s1_b1_r3*x_s1_b3_r3 + 32*x_s1_b2_r3*x_s1_b3_r3 + 16*x_s1_b3_r3^2 + 32*x_s1_b1_r3*x_s1_b4_r3 + 32*x_s1_b2_r3*x_s1_b4_r3 + 32*x_s1_b3_r3*x_s1_b4_r3 + 16*x_s1_b4_r3^2 + 9975*x_s1_b1_r3*x_s1_b5_r3 + 9975*x_s1_b2_r3*x_s1_b5_r3 + 9975*x_s1_b3_r3*x_s1_b5_r3 + 9975*x_s1_b4_r3*x_s1_b5_r3 + 16*x_s1_b5_r3^2 + 9975*x_s1_b1_r3*x_s1_b6_r3 + 9975*x_s1_b2_r3*x_s1_b6_r3 + 9975*x_s1_b3_r3*x_s1_b6_r3 + 9975*x_s1_b4_r3*x_s1_b6_r3 + 32*x_s1_b5_r3*x_s1_b6_r3 + 16*x_s1_b6_r3^2 + 9975*x_s1_b1_r3*x_s1_b7_r3 + 9975*x_s1_b2_r3*x_s1_b7_r3 + 9975*x_s1_b3_r3*x_s1_b7_r3 + 9975*x_s1_b4_r3*x_s1_b7_r3 + 32*x_s1_b5_r3*x_s1_b7_r3 + 32*x_s1_b6_r3*x_s1_b7_r3 + 16*x_s1_b7_r3^2 + 9975*x_s1_b1_r3*x_s1_b8_r3 + 9975*x_s1_b2_r3*x_s1_b8_r3 + 9975*x_s1_b3_r3*x_s1_b8_r3 + 9975*x_s1_b4_r3*x_s1_b8_r3 + 32*x_s1_b5_r3*x_s1_b8_r3 + 32*x_s1_b6_r3*x_s1_b8_r3 + 32*x_s1_b7_r3*x_s1_b8_r3 + 16*x_s1_b8_r3^2 + z_b4 + 4*x_s1_b1_r3 + x_s1_b2_r3 + x_s1_b3_r3 + x_s1_b4_r3 + x_s1_b5_r3 + x_s1_b6_r3 + x_s1_b7_r3 + 6*x_s1_b8_r3 + 2*k_b1 + k_b2 + k_b3 + 3*k_b4 + 4780\n",
      "----------------------------------------------------------------------\n"
     ]
    }
   ],
   "source": [
    "polys = generate_Hydra_polynomials_m_samples(hydra=hydra, \n",
    "                                             nonce=nonce, \n",
    "                                             samples=out);\n",
    "\n",
    "sep = repeat(\"-\", 70)\n",
    "println(sep)\n",
    "\n",
    "for i in 1:(2 * rounds_head + 1)\n",
    "    for j in 1:8\n",
    "        println(polys[3 * (i - 1) + j])\n",
    "    end\n",
    "    println(sep)\n",
    "end"
   ]
  },
  {
   "cell_type": "code",
   "execution_count": 7,
   "metadata": {},
   "outputs": [
    {
     "name": "stdout",
     "output_type": "stream",
     "text": [
      "\n",
      "Legend for f4 information\n",
      "--------------------------------------------------------\n",
      "deg       current degree of pairs selected in this round\n",
      "sel       number of pairs selected in this round\n",
      "pairs     total number of pairs in pair list\n",
      "mat       matrix dimensions (# rows x # columns)\n",
      "density   density of the matrix\n",
      "new data  # new elements for basis in this round\n",
      "          # zero reductions during linear algebra\n",
      "time(rd)  time of the current f4 round in seconds given\n",
      "          for real and cpu time\n",
      "--------------------------------------------------------\n",
      "\n",
      "deg     sel   pairs        mat          density            new data         time(rd) in sec (real|cpu)\n",
      "------------------------------------------------------------------------------------------------------\n",
      "  2      63      64      72 x 357        12.73%       63 new       0 zero         0.15 | 2.27         \n",
      "  2      10      10     717 x 735         1.15%       10 new       0 zero         0.03 | 0.44         \n",
      "  3      20      20      66 x 80         23.75%       20 new       0 zero         0.05 | 0.88         \n",
      "  3      24      63      74 x 64         25.97%       13 new      11 zero         0.04 | 0.58         \n",
      "  2      21      37      48 x 28         23.66%        0 new      21 zero         0.01 | 0.02         \n",
      "  3      16      16      45 x 30         22.07%        0 new      16 zero         0.01 | 0.14         \n",
      "------------------------------------------------------------------------------------------------------\n",
      "reduce final basis       68 x 69         10.83%       68 new       0 zero         0.01 | 0.03         \n",
      "------------------------------------------------------------------------------------------------------\n",
      "\n",
      "---------------- TIMINGS ----------------\n",
      "overall(elapsed)        0.46 sec\n",
      "overall(cpu)            6.88 sec\n",
      "select                  0.00 sec   0.2%\n",
      "symbolic prep.          0.00 sec   0.5%\n",
      "update                  0.40 sec  87.9%\n",
      "convert                 0.04 sec   8.3%\n",
      "linear algebra          0.01 sec   2.9%\n",
      "reduce gb               0.00 sec   0.0%\n",
      "-----------------------------------------\n",
      "\n",
      "---------- COMPUTATIONAL DATA -----------\n",
      "size of basis                    68\n",
      "#terms in basis                 136\n",
      "#pairs reduced                  154\n",
      "#GM criterion                 15599\n",
      "#redundant elements             110\n",
      "#rows reduced                   376\n",
      "#zero reductions                 48\n",
      "max. matrix data                717 x 735 (1.151%)\n",
      "max. symbolic hash table size  2^11\n",
      "max. basis hash table size     2^16\n",
      "-----------------------------------------\n",
      "\n"
     ]
    },
    {
     "name": "stderr",
     "output_type": "stream",
     "text": [
      "\n",
      "--------------- INPUT DATA ---------------\n",
      "#variables                      68\n",
      "#equations                      72\n",
      "#invalid equations               0\n",
      "field characteristic         10007\n",
      "homogeneous input?               0\n",
      "signature-based computation      0\n",
      "monomial order                 DRL\n",
      "basis hash table resetting     OFF\n",
      "linear algebra option            2\n",
      "initial hash table size     131072 (2^17)\n",
      "max pair selection             ALL\n",
      "reduce gb                        1\n",
      "#threads                        16\n",
      "info level                       2\n",
      "generate pbm files               0\n",
      "------------------------------------------\n",
      "\n",
      "---------------- TIMINGS ----------------\n",
      "overall(elapsed)        0.46 sec\n",
      "overall(cpu)            6.89 sec\n",
      "select                  0.00 sec   0.0%\n",
      "symbolic prep.          0.00 sec   0.0%\n",
      "update                  0.00 sec   0.0%\n",
      "convert                 0.00 sec   0.0%\n",
      "linear algebra          0.00 sec   0.0%\n",
      "reduce gb               0.00 sec   0.0%\n",
      "-----------------------------------------\n",
      "\n",
      "---------- COMPUTATIONAL DATA -----------\n",
      "size of basis                    68\n",
      "#terms in basis                 136\n",
      "#pairs reduced                    0\n",
      "#GM criterion                     0\n",
      "#redundant elements               0\n",
      "#rows reduced                     0\n",
      "#zero reductions                  0\n",
      "max. matrix data                  0 x 0 (0.000%)\n",
      "max. symbolic hash table size  2^-2147483648\n",
      "max. basis hash table size     2^16\n",
      "-----------------------------------------\n",
      "\n"
     ]
    }
   ],
   "source": [
    "gb = groebner_basis_f4(ideal(polys), nr_thrds=16, info_level=2);"
   ]
  },
  {
   "cell_type": "code",
   "execution_count": 8,
   "metadata": {},
   "outputs": [
    {
     "data": {
      "text/plain": [
       "4-element Vector{FqMPolyRingElem}:\n",
       " k_b4 + 4790\n",
       " k_b3 + 6184\n",
       " k_b2 + 458\n",
       " k_b1 + 3615"
      ]
     },
     "metadata": {},
     "output_type": "display_data"
    }
   ],
   "source": [
    "gens(gb)[1:4]"
   ]
  },
  {
   "cell_type": "code",
   "execution_count": 9,
   "metadata": {},
   "outputs": [
    {
     "data": {
      "text/html": [
       "[3615; 458; 6184; 4790]"
      ],
      "text/latex": [
       "\\begin{array}{c}\n",
       "3615 \\\\\n",
       "458 \\\\\n",
       "6184 \\\\\n",
       "4790\n",
       "\\end{array}"
      ],
      "text/plain": [
       "[3615]\n",
       "[ 458]\n",
       "[6184]\n",
       "[4790]"
      ]
     },
     "metadata": {},
     "output_type": "display_data"
    }
   ],
   "source": [
    "-key"
   ]
  },
  {
   "cell_type": "markdown",
   "metadata": {},
   "source": [
    "### Change Of Coordinates"
   ]
  },
  {
   "cell_type": "code",
   "execution_count": 10,
   "metadata": {},
   "outputs": [
    {
     "name": "stdout",
     "output_type": "stream",
     "text": [
      "Number of non-linear variables: 6\n",
      "Number of polynomials in substituted downsized Hydra polynomial system: 10\n",
      "(x_subs_1^2, ..., x_subs_n^2) contained in leading terms of substituted polynomials: true\n",
      "All terms of donwiszed polynomial system contained in (x_subs_1, ..., x_subs_n): true\n"
     ]
    }
   ],
   "source": [
    "affine_polys, polys_subs, polys_downsized_subs = non_linear_variable_substitution_Hydra_polynomial_system(hydra, \n",
    "                                                                                                          polys, \n",
    "                                                                                                          m);"
   ]
  },
  {
   "cell_type": "code",
   "execution_count": 11,
   "metadata": {},
   "outputs": [
    {
     "name": "stdout",
     "output_type": "stream",
     "text": [
      "9268*x_subs_i1^2 + 7330*x_subs_i1*x_subs_i2 + 4370*x_subs_i2^2 + 7786*x_subs_i1*x_subs_i3 + 4014*x_subs_i2*x_subs_i3 + 4936*x_subs_i3^2 + 8602*x_subs_i1*x_subs_i4 + 7144*x_subs_i2*x_subs_i4 + 8241*x_subs_i3*x_subs_i4 + 4312*x_subs_i4^2 + 5874*x_subs_i1*x_subs_i5 + 9434*x_subs_i2*x_subs_i5 + 6728*x_subs_i3*x_subs_i5 + 1359*x_subs_i4*x_subs_i5 + 5877*x_subs_i5^2 + 9638*x_subs_i1*x_subs_i6 + 3956*x_subs_i2*x_subs_i6 + 5925*x_subs_i3*x_subs_i6 + 5235*x_subs_i4*x_subs_i6 + 478*x_subs_i5*x_subs_i6 + 1738*x_subs_i6^2 + 2754*x_subs_i1 + 5319*x_subs_i2 + 2990*x_subs_i3 + 1460*x_subs_i4 + 9011*x_subs_i5 + 8676*x_subs_i6 + 9233\n",
      "----------------------------------------------------------------------\n",
      "4221*x_subs_i1^2 + 8933*x_subs_i1*x_subs_i2 + 4165*x_subs_i2^2 + 3370*x_subs_i1*x_subs_i3 + 5318*x_subs_i2*x_subs_i3 + 5931*x_subs_i3^2 + 165*x_subs_i1*x_subs_i4 + 5932*x_subs_i2*x_subs_i4 + 1531*x_subs_i3*x_subs_i4 + 327*x_subs_i4^2 + 2306*x_subs_i1*x_subs_i5 + 4607*x_subs_i2*x_subs_i5 + 8782*x_subs_i3*x_subs_i5 + 2954*x_subs_i4*x_subs_i5 + 2387*x_subs_i5^2 + 1036*x_subs_i1*x_subs_i6 + 2009*x_subs_i2*x_subs_i6 + 4579*x_subs_i3*x_subs_i6 + 5198*x_subs_i4*x_subs_i6 + 8116*x_subs_i5*x_subs_i6 + 7100*x_subs_i6^2 + 925*x_subs_i1 + 3013*x_subs_i2 + 4309*x_subs_i3 + 575*x_subs_i4 + 1926*x_subs_i5 + 6596*x_subs_i6 + 8177\n",
      "----------------------------------------------------------------------\n",
      "x_subs_i1^2 + 6040*x_subs_i1 + 9819*x_subs_i2 + 8878*x_subs_i3 + 5187*x_subs_i4 + 7135*x_subs_i5 + 511*x_subs_i6 + 885\n",
      "----------------------------------------------------------------------\n",
      "x_subs_i2^2 + 6909*x_subs_i1 + 4859*x_subs_i2 + 5631*x_subs_i3 + 1204*x_subs_i4 + 8518*x_subs_i5 + 2633*x_subs_i6 + 2965\n",
      "----------------------------------------------------------------------\n",
      "5706*x_subs_i1^2 + 9165*x_subs_i1*x_subs_i2 + 963*x_subs_i2^2 + 412*x_subs_i1*x_subs_i3 + 6964*x_subs_i2*x_subs_i3 + 8142*x_subs_i3^2 + 8744*x_subs_i1*x_subs_i4 + 658*x_subs_i2*x_subs_i4 + 91*x_subs_i3*x_subs_i4 + 2533*x_subs_i4^2 + 2510*x_subs_i1*x_subs_i5 + 2918*x_subs_i2*x_subs_i5 + 7955*x_subs_i3*x_subs_i5 + 7142*x_subs_i4*x_subs_i5 + 6274*x_subs_i5^2 + 260*x_subs_i1*x_subs_i6 + 9309*x_subs_i2*x_subs_i6 + 5125*x_subs_i3*x_subs_i6 + 7570*x_subs_i4*x_subs_i6 + 9369*x_subs_i5*x_subs_i6 + 1996*x_subs_i6^2 + 4030*x_subs_i1 + 1774*x_subs_i2 + 5212*x_subs_i3 + 3515*x_subs_i4 + 4508*x_subs_i5 + 4390*x_subs_i6 + 9040\n",
      "----------------------------------------------------------------------\n",
      "9444*x_subs_i1^2 + 1985*x_subs_i1*x_subs_i2 + 6446*x_subs_i2^2 + 4937*x_subs_i1*x_subs_i3 + 4687*x_subs_i2*x_subs_i3 + 1750*x_subs_i3^2 + 3757*x_subs_i1*x_subs_i4 + 2292*x_subs_i2*x_subs_i4 + 3247*x_subs_i3*x_subs_i4 + 4067*x_subs_i4^2 + 5999*x_subs_i1*x_subs_i5 + 8597*x_subs_i2*x_subs_i5 + 3093*x_subs_i3*x_subs_i5 + 3895*x_subs_i4*x_subs_i5 + 156*x_subs_i5^2 + 6364*x_subs_i1*x_subs_i6 + 5534*x_subs_i2*x_subs_i6 + 9767*x_subs_i3*x_subs_i6 + 7267*x_subs_i4*x_subs_i6 + 8053*x_subs_i5*x_subs_i6 + 9483*x_subs_i6^2 + 6961*x_subs_i1 + 4349*x_subs_i2 + 4123*x_subs_i3 + 4141*x_subs_i4 + 4098*x_subs_i5 + 7024*x_subs_i6 + 8765\n",
      "----------------------------------------------------------------------\n",
      "x_subs_i3^2 + 284*x_subs_i1 + 3758*x_subs_i2 + 5851*x_subs_i3 + 9505*x_subs_i4 + 2827*x_subs_i5 + 6726*x_subs_i6 + 7442\n",
      "----------------------------------------------------------------------\n",
      "x_subs_i4^2 + 8251*x_subs_i1 + 6864*x_subs_i2 + 2261*x_subs_i3 + 9665*x_subs_i4 + 1227*x_subs_i5 + 5180*x_subs_i6 + 1883\n",
      "----------------------------------------------------------------------\n",
      "x_subs_i5^2 + 8082*x_subs_i1 + 4266*x_subs_i2 + 2984*x_subs_i3 + 6311*x_subs_i4 + 7036*x_subs_i5 + 3717*x_subs_i6 + 8609\n",
      "----------------------------------------------------------------------\n",
      "x_subs_i6^2 + 5452*x_subs_i1 + 478*x_subs_i2 + 6887*x_subs_i3 + 2291*x_subs_i4 + 6458*x_subs_i5 + 111*x_subs_i6 + 1460\n",
      "----------------------------------------------------------------------\n"
     ]
    }
   ],
   "source": [
    "for poly in polys_downsized_subs\n",
    "    println(poly)\n",
    "    println(sep)\n",
    "end"
   ]
  },
  {
   "cell_type": "code",
   "execution_count": 12,
   "metadata": {},
   "outputs": [
    {
     "name": "stdout",
     "output_type": "stream",
     "text": [
      "\n",
      "Legend for f4 information\n",
      "--------------------------------------------------------\n",
      "deg       current degree of pairs selected in this round\n",
      "sel       number of pairs selected in this round\n",
      "pairs     total number of pairs in pair list\n",
      "mat       matrix dimensions (# rows x # columns)\n",
      "density   density of the matrix\n",
      "new data  # new elements for basis in this round\n",
      "          # zero reductions during linear algebra\n",
      "time(rd)  time of the current f4 round in seconds given\n",
      "          for real and cpu time\n",
      "--------------------------------------------------------\n",
      "\n",
      "deg     sel   pairs        mat          density            new data         time(rd) in sec (real|cpu)\n",
      "------------------------------------------------------------------------------------------------------\n",
      "  2       4       4      10 x 28         57.14%        4 new       0 zero         0.02 | 0.31         \n",
      "  3      12      12      69 x 83         17.11%       12 new       0 zero         0.04 | 0.56         \n",
      "  3      24      41      81 x 71         19.56%       13 new      11 zero         0.04 | 0.59         \n",
      "  2      21      31      48 x 28         20.24%        0 new      21 zero         0.01 | 0.02         \n",
      "  3      10      10      31 x 22         24.34%        0 new      10 zero         0.01 | 0.13         \n",
      "------------------------------------------------------------------------------------------------------\n",
      "reduce final basis       74 x 75         10.02%       74 new       0 zero         0.01 | 0.15         \n",
      "------------------------------------------------------------------------------------------------------\n",
      "\n",
      "---------------- TIMINGS ----------------\n",
      "overall(elapsed)        0.30 sec\n",
      "overall(cpu)            4.37 sec\n",
      "select                  0.00 sec   0.1%\n",
      "symbolic prep.          0.00 sec   0.2%\n",
      "update                  0.25 sec  84.1%\n",
      "convert                 0.04 sec  11.9%\n",
      "linear algebra          0.01 sec   3.6%\n",
      "reduce gb               0.00 sec   0.0%\n",
      "-----------------------------------------\n",
      "\n",
      "---------- COMPUTATIONAL DATA -----------\n",
      "size of basis                    74\n",
      "#terms in basis                 148\n",
      "#pairs reduced                   71\n",
      "#GM criterion                  5600\n",
      "#redundant elements              33\n",
      "#rows reduced                   216\n",
      "#zero reductions                 42\n",
      "max. matrix data                 81 x 71 (19.562%)\n",
      "max. symbolic hash table size  2^11\n",
      "max. basis hash table size     2^16\n",
      "-----------------------------------------\n",
      "\n"
     ]
    },
    {
     "name": "stderr",
     "output_type": "stream",
     "text": [
      "\n",
      "--------------- INPUT DATA ---------------\n",
      "#variables                      74\n",
      "#equations                      78\n",
      "#invalid equations               0\n",
      "field characteristic         10007\n",
      "homogeneous input?               0\n",
      "signature-based computation      0\n",
      "monomial order                 DRL\n",
      "basis hash table resetting     OFF\n",
      "linear algebra option            2\n",
      "initial hash table size     131072 (2^17)\n",
      "max pair selection             ALL\n",
      "reduce gb                        1\n",
      "#threads                        16\n",
      "info level                       2\n",
      "generate pbm files               0\n",
      "------------------------------------------\n",
      "\n",
      "---------------- TIMINGS ----------------\n",
      "overall(elapsed)        0.30 sec\n",
      "overall(cpu)            4.37 sec\n",
      "select                  0.00 sec   0.0%\n",
      "symbolic prep.          0.00 sec   0.0%\n",
      "update                  0.00 sec   0.0%\n",
      "convert                 0.00 sec   0.0%\n",
      "linear algebra          0.00 sec   0.0%\n",
      "reduce gb               0.00 sec   0.0%\n",
      "-----------------------------------------\n",
      "\n",
      "---------- COMPUTATIONAL DATA -----------\n",
      "size of basis                    74\n",
      "#terms in basis                 148\n",
      "#pairs reduced                    0\n",
      "#GM criterion                     0\n",
      "#redundant elements               0\n",
      "#rows reduced                     0\n",
      "#zero reductions                  0\n",
      "max. matrix data                  0 x 0 (0.000%)\n",
      "max. symbolic hash table size  2^-2147483648\n",
      "max. basis hash table size     2^16\n",
      "-----------------------------------------\n",
      "\n"
     ]
    }
   ],
   "source": [
    "gb = groebner_basis_f4(ideal(affine_polys) + ideal(polys_subs) + ideal(polys_downsized_subs), nr_thrds=16, info_level=2);"
   ]
  },
  {
   "cell_type": "code",
   "execution_count": 13,
   "metadata": {},
   "outputs": [
    {
     "data": {
      "text/plain": [
       "4-element Vector{FqMPolyRingElem}:\n",
       " k_b4 + 4790\n",
       " k_b3 + 6184\n",
       " k_b2 + 458\n",
       " k_b1 + 3615"
      ]
     },
     "metadata": {},
     "output_type": "display_data"
    }
   ],
   "source": [
    "gens(gb)[2 * rounds_head - 1:2 * rounds_head + 2]"
   ]
  },
  {
   "cell_type": "code",
   "execution_count": 14,
   "metadata": {},
   "outputs": [
    {
     "data": {
      "text/html": [
       "[3615; 458; 6184; 4790]"
      ],
      "text/latex": [
       "\\begin{array}{c}\n",
       "3615 \\\\\n",
       "458 \\\\\n",
       "6184 \\\\\n",
       "4790\n",
       "\\end{array}"
      ],
      "text/plain": [
       "[3615]\n",
       "[ 458]\n",
       "[6184]\n",
       "[4790]"
      ]
     },
     "metadata": {},
     "output_type": "display_data"
    }
   ],
   "source": [
    "-key"
   ]
  }
 ],
 "metadata": {
  "kernelspec": {
   "display_name": "Julia 1.11.2",
   "language": "julia",
   "name": "julia-1.11"
  },
  "language_info": {
   "file_extension": ".jl",
   "mimetype": "application/julia",
   "name": "julia",
   "version": "1.11.2"
  },
  "orig_nbformat": 4
 },
 "nbformat": 4,
 "nbformat_minor": 2
}
