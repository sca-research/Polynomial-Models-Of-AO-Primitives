{
 "cells": [
  {
   "cell_type": "markdown",
   "metadata": {},
   "source": [
    "# Hydra Polynomial Model Demonstration\n",
    "Usage example of the Hydra polynomial system."
   ]
  },
  {
   "cell_type": "code",
   "execution_count": 1,
   "metadata": {},
   "outputs": [
    {
     "name": "stdout",
     "output_type": "stream",
     "text": [
      "\r"
     ]
    },
    {
     "data": {
      "text/plain": [
       "non_linear_variable_substitution_Hydra_polynomial_system (generic function with 1 method)"
      ]
     },
     "metadata": {},
     "output_type": "display_data"
    }
   ],
   "source": [
    "using Oscar\n",
    "include(\"Hydra.jl\")\n",
    "include(\"Hydra_polynomial_model.jl\")"
   ]
  },
  {
   "cell_type": "markdown",
   "metadata": {},
   "source": [
    "## Hydra Instance\n",
    "Create a Hydra instance, generate a master key a nonce and a key stream."
   ]
  },
  {
   "cell_type": "code",
   "execution_count": 2,
   "metadata": {},
   "outputs": [
    {
     "name": "stdout",
     "output_type": "stream",
     "text": [
      "Hydra parameters\n",
      "Field: Prime field of characteristic 10007\n",
      "Rounds body E_1: 2\n",
      "Rounds body E_2: 4\n",
      "Rounds body I: 42\n",
      "Rounds head: 4\n",
      "d: 3\n",
      "Matrix body E:\n",
      "[3 2 1 1; 1 3 2 1; 1 1 3 2; 2 1 1 3]\n",
      "Matrix body I:\n",
      "[1 1 1 1; 1 4 1 1; 3 1 3 1; 4 1 1 2]\n",
      "Matrix head:\n",
      "[3 1 1 1 1 1 1 1; 7 3 1 1 1 1 1 1; 4 1 4 1 1 1 1 1; 3 1 1 8 1 1 1 1; 7 1 1 1 7 1 1 1; 8 1 1 1 1 5 1 1; 5 1 1 1 1 1 2 1; 4 1 1 1 1 1 1 6]\n",
      "Constants body:\n",
      "[7542 4320 9770 6331 4276 7570 8310 9646 3174 4074 3482 9502 7118 6733 3770 7303 6746 8975 8120 2726 4304 9933 7023 5436 9367 284 2245 1762 2311 9196 7787 491 6579 6405 1928 6804 5897 3990 2894 5363 4265 9080 8992 9556 9002 4338 6125 2969; 9205 8530 937 4278 2245 3836 3594 1809 9614 6820 624 4740 2696 560 2808 8857 1780 575 6753 2481 8848 7311 4650 9342 2042 6613 1927 3853 7685 7322 532 1685 9069 1830 5544 1967 576 9531 6588 477 5855 5182 2125 6901 5089 1233 5374 229; 6274 3346 8319 6629 7924 5778 2215 9834 7129 8698 179 4062 1783 984 7718 5929 1992 8511 5553 1763 8607 4881 186 9418 7048 3249 584 9285 3545 2033 1628 8808 5891 3010 7897 9610 8150 290 210 6414 1635 5154 8277 9934 4282 8325 8291 1464; 9315 5359 4778 6192 729 1787 5148 5117 1826 4290 1676 629 3427 5412 248 142 963 1962 4780 8911 6187 6328 8843 7100 4422 8630 3849 9515 6040 6433 9665 4607 9683 7442 9015 754 1555 2802 6307 423 873 4387 5223 1792 1293 5891 1527 387]\n",
      "Constants head:\n",
      "[2240 5522 8187 8542; 3378 5405 6664 5035; 9143 3643 9755 6642; 9944 7743 8986 6834; 7861 9797 9408 1070; 7326 7932 7493 8202; 7158 5842 2400 8836; 7228 5485 5245 4628]\n",
      "Initial value: [0; 0; 0; 0]\n"
     ]
    }
   ],
   "source": [
    "K = GF(10007)\n",
    "rounds_head = 4\n",
    "m = 2\n",
    "\n",
    "hydra = Hydra_constructor(field=K, \n",
    "                          rounds_head=rounds_head);"
   ]
  },
  {
   "cell_type": "code",
   "execution_count": 3,
   "metadata": {},
   "outputs": [
    {
     "data": {
      "text/html": [
       "6233"
      ],
      "text/latex": [
       "6233"
      ],
      "text/plain": [
       "6233"
      ]
     },
     "metadata": {},
     "output_type": "display_data"
    }
   ],
   "source": [
    "nonce = rand(K)"
   ]
  },
  {
   "cell_type": "code",
   "execution_count": 4,
   "metadata": {},
   "outputs": [
    {
     "data": {
      "text/html": [
       "[7020; 1454; 4764; 839]"
      ],
      "text/latex": [
       "\\begin{array}{c}\n",
       "7020 \\\\\n",
       "1454 \\\\\n",
       "4764 \\\\\n",
       "839\n",
       "\\end{array}"
      ],
      "text/plain": [
       "[7020]\n",
       "[1454]\n",
       "[4764]\n",
       "[ 839]"
      ]
     },
     "metadata": {},
     "output_type": "display_data"
    }
   ],
   "source": [
    "key = matrix(map(x -> rand(K), 1:4))"
   ]
  },
  {
   "cell_type": "code",
   "execution_count": 5,
   "metadata": {},
   "outputs": [
    {
     "data": {
      "text/plain": [
       "16-element Vector{FqFieldElem}:\n",
       " 4061\n",
       " 6405\n",
       " 2091\n",
       " 5909\n",
       " 1457\n",
       " 8310\n",
       " 186\n",
       " 7875\n",
       " 1000\n",
       " 2323\n",
       " 4370\n",
       " 8545\n",
       " 9005\n",
       " 7227\n",
       " 4722\n",
       " 7482"
      ]
     },
     "metadata": {},
     "output_type": "display_data"
    }
   ],
   "source": [
    "out = key_stream(nonce, key, hydra, m=m)"
   ]
  },
  {
   "cell_type": "markdown",
   "metadata": {},
   "source": [
    "## Hydra Polynomial model\n",
    "Generate the Hydra polynomial model, and compute a DRL Gröbner basis."
   ]
  },
  {
   "cell_type": "code",
   "execution_count": 6,
   "metadata": {},
   "outputs": [
    {
     "name": "stdout",
     "output_type": "stream",
     "text": [
      "Nonce: 6233\n",
      "Number of samples: 2\n",
      "Samples:\n",
      "FqFieldElem[4061, 6405, 2091, 5909, 1457, 8310, 186, 7875, 1000, 2323, 4370, 8545, 9005, 7227, 4722, 7482]\n",
      "Term order: degrevlex\n",
      "----------------------------------------------------------------------\n",
      "10*y_b1^2 + 20*y_b1*y_b2 + 10*y_b2^2 + 20*y_b1*y_b3 + 20*y_b2*y_b3 + 10*y_b3^2 + 20*y_b1*y_b4 + 20*y_b2*y_b4 + 20*y_b3*y_b4 + 10*y_b4^2 + 9987*y_b1*z_b1 + 9987*y_b2*z_b1 + 9987*y_b3*z_b1 + 9987*y_b4*z_b1 + 10*z_b1^2 + 9987*y_b1*z_b2 + 9987*y_b2*z_b2 + 9987*y_b3*z_b2 + 9987*y_b4*z_b2 + 20*z_b1*z_b2 + 10*z_b2^2 + 9987*y_b1*z_b3 + 9987*y_b2*z_b3 + 9987*y_b3*z_b3 + 9987*y_b4*z_b3 + 20*z_b1*z_b3 + 20*z_b2*z_b3 + 10*z_b3^2 + 9987*y_b1*z_b4 + 9987*y_b2*z_b4 + 9987*y_b3*z_b4 + 9987*y_b4*z_b4 + 20*z_b1*z_b4 + 20*z_b2*z_b4 + 20*z_b3*z_b4 + 10*z_b4^2 + 3*y_b1 + y_b2 + y_b3 + y_b4 + z_b1 + z_b2 + z_b3 + z_b4 + 10006*x_s1_b1_r1 + k_b1 + 2240\n",
      "16*y_b1^2 + 32*y_b1*y_b2 + 16*y_b2^2 + 32*y_b1*y_b3 + 32*y_b2*y_b3 + 16*y_b3^2 + 32*y_b1*y_b4 + 32*y_b2*y_b4 + 32*y_b3*y_b4 + 16*y_b4^2 + 9975*y_b1*z_b1 + 9975*y_b2*z_b1 + 9975*y_b3*z_b1 + 9975*y_b4*z_b1 + 16*z_b1^2 + 9975*y_b1*z_b2 + 9975*y_b2*z_b2 + 9975*y_b3*z_b2 + 9975*y_b4*z_b2 + 32*z_b1*z_b2 + 16*z_b2^2 + 9975*y_b1*z_b3 + 9975*y_b2*z_b3 + 9975*y_b3*z_b3 + 9975*y_b4*z_b3 + 32*z_b1*z_b3 + 32*z_b2*z_b3 + 16*z_b3^2 + 9975*y_b1*z_b4 + 9975*y_b2*z_b4 + 9975*y_b3*z_b4 + 9975*y_b4*z_b4 + 32*z_b1*z_b4 + 32*z_b2*z_b4 + 32*z_b3*z_b4 + 16*z_b4^2 + 7*y_b1 + 3*y_b2 + y_b3 + y_b4 + z_b1 + z_b2 + z_b3 + z_b4 + 10006*x_s1_b2_r1 + k_b2 + 3378\n",
      "14*y_b1^2 + 28*y_b1*y_b2 + 14*y_b2^2 + 28*y_b1*y_b3 + 28*y_b2*y_b3 + 14*y_b3^2 + 28*y_b1*y_b4 + 28*y_b2*y_b4 + 28*y_b3*y_b4 + 14*y_b4^2 + 9979*y_b1*z_b1 + 9979*y_b2*z_b1 + 9979*y_b3*z_b1 + 9979*y_b4*z_b1 + 14*z_b1^2 + 9979*y_b1*z_b2 + 9979*y_b2*z_b2 + 9979*y_b3*z_b2 + 9979*y_b4*z_b2 + 28*z_b1*z_b2 + 14*z_b2^2 + 9979*y_b1*z_b3 + 9979*y_b2*z_b3 + 9979*y_b3*z_b3 + 9979*y_b4*z_b3 + 28*z_b1*z_b3 + 28*z_b2*z_b3 + 14*z_b3^2 + 9979*y_b1*z_b4 + 9979*y_b2*z_b4 + 9979*y_b3*z_b4 + 9979*y_b4*z_b4 + 28*z_b1*z_b4 + 28*z_b2*z_b4 + 28*z_b3*z_b4 + 14*z_b4^2 + 4*y_b1 + y_b2 + 4*y_b3 + y_b4 + z_b1 + z_b2 + z_b3 + z_b4 + 10006*x_s1_b3_r1 + k_b3 + 9143\n",
      "17*y_b1^2 + 34*y_b1*y_b2 + 17*y_b2^2 + 34*y_b1*y_b3 + 34*y_b2*y_b3 + 17*y_b3^2 + 34*y_b1*y_b4 + 34*y_b2*y_b4 + 34*y_b3*y_b4 + 17*y_b4^2 + 9973*y_b1*z_b1 + 9973*y_b2*z_b1 + 9973*y_b3*z_b1 + 9973*y_b4*z_b1 + 17*z_b1^2 + 9973*y_b1*z_b2 + 9973*y_b2*z_b2 + 9973*y_b3*z_b2 + 9973*y_b4*z_b2 + 34*z_b1*z_b2 + 17*z_b2^2 + 9973*y_b1*z_b3 + 9973*y_b2*z_b3 + 9973*y_b3*z_b3 + 9973*y_b4*z_b3 + 34*z_b1*z_b3 + 34*z_b2*z_b3 + 17*z_b3^2 + 9973*y_b1*z_b4 + 9973*y_b2*z_b4 + 9973*y_b3*z_b4 + 9973*y_b4*z_b4 + 34*z_b1*z_b4 + 34*z_b2*z_b4 + 34*z_b3*z_b4 + 17*z_b4^2 + 3*y_b1 + y_b2 + y_b3 + 8*y_b4 + z_b1 + z_b2 + z_b3 + z_b4 + 10006*x_s1_b4_r1 + k_b4 + 9944\n",
      "20*y_b1^2 + 40*y_b1*y_b2 + 20*y_b2^2 + 40*y_b1*y_b3 + 40*y_b2*y_b3 + 20*y_b3^2 + 40*y_b1*y_b4 + 40*y_b2*y_b4 + 40*y_b3*y_b4 + 20*y_b4^2 + 9967*y_b1*z_b1 + 9967*y_b2*z_b1 + 9967*y_b3*z_b1 + 9967*y_b4*z_b1 + 20*z_b1^2 + 9967*y_b1*z_b2 + 9967*y_b2*z_b2 + 9967*y_b3*z_b2 + 9967*y_b4*z_b2 + 40*z_b1*z_b2 + 20*z_b2^2 + 9967*y_b1*z_b3 + 9967*y_b2*z_b3 + 9967*y_b3*z_b3 + 9967*y_b4*z_b3 + 40*z_b1*z_b3 + 40*z_b2*z_b3 + 20*z_b3^2 + 9967*y_b1*z_b4 + 9967*y_b2*z_b4 + 9967*y_b3*z_b4 + 9967*y_b4*z_b4 + 40*z_b1*z_b4 + 40*z_b2*z_b4 + 40*z_b3*z_b4 + 20*z_b4^2 + 7*y_b1 + y_b2 + y_b3 + y_b4 + 7*z_b1 + z_b2 + z_b3 + z_b4 + 10006*x_s1_b5_r1 + 3*k_b1 + 2*k_b2 + k_b3 + k_b4 + 7861\n",
      "19*y_b1^2 + 38*y_b1*y_b2 + 19*y_b2^2 + 38*y_b1*y_b3 + 38*y_b2*y_b3 + 19*y_b3^2 + 38*y_b1*y_b4 + 38*y_b2*y_b4 + 38*y_b3*y_b4 + 19*y_b4^2 + 9969*y_b1*z_b1 + 9969*y_b2*z_b1 + 9969*y_b3*z_b1 + 9969*y_b4*z_b1 + 19*z_b1^2 + 9969*y_b1*z_b2 + 9969*y_b2*z_b2 + 9969*y_b3*z_b2 + 9969*y_b4*z_b2 + 38*z_b1*z_b2 + 19*z_b2^2 + 9969*y_b1*z_b3 + 9969*y_b2*z_b3 + 9969*y_b3*z_b3 + 9969*y_b4*z_b3 + 38*z_b1*z_b3 + 38*z_b2*z_b3 + 19*z_b3^2 + 9969*y_b1*z_b4 + 9969*y_b2*z_b4 + 9969*y_b3*z_b4 + 9969*y_b4*z_b4 + 38*z_b1*z_b4 + 38*z_b2*z_b4 + 38*z_b3*z_b4 + 19*z_b4^2 + 8*y_b1 + y_b2 + y_b3 + y_b4 + z_b1 + 5*z_b2 + z_b3 + z_b4 + 10006*x_s1_b6_r1 + k_b1 + 3*k_b2 + 2*k_b3 + k_b4 + 7326\n",
      "13*y_b1^2 + 26*y_b1*y_b2 + 13*y_b2^2 + 26*y_b1*y_b3 + 26*y_b2*y_b3 + 13*y_b3^2 + 26*y_b1*y_b4 + 26*y_b2*y_b4 + 26*y_b3*y_b4 + 13*y_b4^2 + 9981*y_b1*z_b1 + 9981*y_b2*z_b1 + 9981*y_b3*z_b1 + 9981*y_b4*z_b1 + 13*z_b1^2 + 9981*y_b1*z_b2 + 9981*y_b2*z_b2 + 9981*y_b3*z_b2 + 9981*y_b4*z_b2 + 26*z_b1*z_b2 + 13*z_b2^2 + 9981*y_b1*z_b3 + 9981*y_b2*z_b3 + 9981*y_b3*z_b3 + 9981*y_b4*z_b3 + 26*z_b1*z_b3 + 26*z_b2*z_b3 + 13*z_b3^2 + 9981*y_b1*z_b4 + 9981*y_b2*z_b4 + 9981*y_b3*z_b4 + 9981*y_b4*z_b4 + 26*z_b1*z_b4 + 26*z_b2*z_b4 + 26*z_b3*z_b4 + 13*z_b4^2 + 5*y_b1 + y_b2 + y_b3 + y_b4 + z_b1 + z_b2 + 2*z_b3 + z_b4 + 10006*x_s1_b7_r1 + k_b1 + k_b2 + 3*k_b3 + 2*k_b4 + 7158\n",
      "16*y_b1^2 + 32*y_b1*y_b2 + 16*y_b2^2 + 32*y_b1*y_b3 + 32*y_b2*y_b3 + 16*y_b3^2 + 32*y_b1*y_b4 + 32*y_b2*y_b4 + 32*y_b3*y_b4 + 16*y_b4^2 + 9975*y_b1*z_b1 + 9975*y_b2*z_b1 + 9975*y_b3*z_b1 + 9975*y_b4*z_b1 + 16*z_b1^2 + 9975*y_b1*z_b2 + 9975*y_b2*z_b2 + 9975*y_b3*z_b2 + 9975*y_b4*z_b2 + 32*z_b1*z_b2 + 16*z_b2^2 + 9975*y_b1*z_b3 + 9975*y_b2*z_b3 + 9975*y_b3*z_b3 + 9975*y_b4*z_b3 + 32*z_b1*z_b3 + 32*z_b2*z_b3 + 16*z_b3^2 + 9975*y_b1*z_b4 + 9975*y_b2*z_b4 + 9975*y_b3*z_b4 + 9975*y_b4*z_b4 + 32*z_b1*z_b4 + 32*z_b2*z_b4 + 32*z_b3*z_b4 + 16*z_b4^2 + 4*y_b1 + y_b2 + y_b3 + y_b4 + z_b1 + z_b2 + z_b3 + 6*z_b4 + 10006*x_s1_b8_r1 + 2*k_b1 + k_b2 + k_b3 + 3*k_b4 + 7228\n",
      "----------------------------------------------------------------------\n",
      "17*y_b1^2 + 34*y_b1*y_b2 + 17*y_b2^2 + 34*y_b1*y_b3 + 34*y_b2*y_b3 + 17*y_b3^2 + 34*y_b1*y_b4 + 34*y_b2*y_b4 + 34*y_b3*y_b4 + 17*y_b4^2 + 9973*y_b1*z_b1 + 9973*y_b2*z_b1 + 9973*y_b3*z_b1 + 9973*y_b4*z_b1 + 17*z_b1^2 + 9973*y_b1*z_b2 + 9973*y_b2*z_b2 + 9973*y_b3*z_b2 + 9973*y_b4*z_b2 + 34*z_b1*z_b2 + 17*z_b2^2 + 9973*y_b1*z_b3 + 9973*y_b2*z_b3 + 9973*y_b3*z_b3 + 9973*y_b4*z_b3 + 34*z_b1*z_b3 + 34*z_b2*z_b3 + 17*z_b3^2 + 9973*y_b1*z_b4 + 9973*y_b2*z_b4 + 9973*y_b3*z_b4 + 9973*y_b4*z_b4 + 34*z_b1*z_b4 + 34*z_b2*z_b4 + 34*z_b3*z_b4 + 17*z_b4^2 + 3*y_b1 + y_b2 + y_b3 + 8*y_b4 + z_b1 + z_b2 + z_b3 + z_b4 + 10006*x_s1_b4_r1 + k_b4 + 9944\n",
      "20*y_b1^2 + 40*y_b1*y_b2 + 20*y_b2^2 + 40*y_b1*y_b3 + 40*y_b2*y_b3 + 20*y_b3^2 + 40*y_b1*y_b4 + 40*y_b2*y_b4 + 40*y_b3*y_b4 + 20*y_b4^2 + 9967*y_b1*z_b1 + 9967*y_b2*z_b1 + 9967*y_b3*z_b1 + 9967*y_b4*z_b1 + 20*z_b1^2 + 9967*y_b1*z_b2 + 9967*y_b2*z_b2 + 9967*y_b3*z_b2 + 9967*y_b4*z_b2 + 40*z_b1*z_b2 + 20*z_b2^2 + 9967*y_b1*z_b3 + 9967*y_b2*z_b3 + 9967*y_b3*z_b3 + 9967*y_b4*z_b3 + 40*z_b1*z_b3 + 40*z_b2*z_b3 + 20*z_b3^2 + 9967*y_b1*z_b4 + 9967*y_b2*z_b4 + 9967*y_b3*z_b4 + 9967*y_b4*z_b4 + 40*z_b1*z_b4 + 40*z_b2*z_b4 + 40*z_b3*z_b4 + 20*z_b4^2 + 7*y_b1 + y_b2 + y_b3 + y_b4 + 7*z_b1 + z_b2 + z_b3 + z_b4 + 10006*x_s1_b5_r1 + 3*k_b1 + 2*k_b2 + k_b3 + k_b4 + 7861\n",
      "19*y_b1^2 + 38*y_b1*y_b2 + 19*y_b2^2 + 38*y_b1*y_b3 + 38*y_b2*y_b3 + 19*y_b3^2 + 38*y_b1*y_b4 + 38*y_b2*y_b4 + 38*y_b3*y_b4 + 19*y_b4^2 + 9969*y_b1*z_b1 + 9969*y_b2*z_b1 + 9969*y_b3*z_b1 + 9969*y_b4*z_b1 + 19*z_b1^2 + 9969*y_b1*z_b2 + 9969*y_b2*z_b2 + 9969*y_b3*z_b2 + 9969*y_b4*z_b2 + 38*z_b1*z_b2 + 19*z_b2^2 + 9969*y_b1*z_b3 + 9969*y_b2*z_b3 + 9969*y_b3*z_b3 + 9969*y_b4*z_b3 + 38*z_b1*z_b3 + 38*z_b2*z_b3 + 19*z_b3^2 + 9969*y_b1*z_b4 + 9969*y_b2*z_b4 + 9969*y_b3*z_b4 + 9969*y_b4*z_b4 + 38*z_b1*z_b4 + 38*z_b2*z_b4 + 38*z_b3*z_b4 + 19*z_b4^2 + 8*y_b1 + y_b2 + y_b3 + y_b4 + z_b1 + 5*z_b2 + z_b3 + z_b4 + 10006*x_s1_b6_r1 + k_b1 + 3*k_b2 + 2*k_b3 + k_b4 + 7326\n",
      "13*y_b1^2 + 26*y_b1*y_b2 + 13*y_b2^2 + 26*y_b1*y_b3 + 26*y_b2*y_b3 + 13*y_b3^2 + 26*y_b1*y_b4 + 26*y_b2*y_b4 + 26*y_b3*y_b4 + 13*y_b4^2 + 9981*y_b1*z_b1 + 9981*y_b2*z_b1 + 9981*y_b3*z_b1 + 9981*y_b4*z_b1 + 13*z_b1^2 + 9981*y_b1*z_b2 + 9981*y_b2*z_b2 + 9981*y_b3*z_b2 + 9981*y_b4*z_b2 + 26*z_b1*z_b2 + 13*z_b2^2 + 9981*y_b1*z_b3 + 9981*y_b2*z_b3 + 9981*y_b3*z_b3 + 9981*y_b4*z_b3 + 26*z_b1*z_b3 + 26*z_b2*z_b3 + 13*z_b3^2 + 9981*y_b1*z_b4 + 9981*y_b2*z_b4 + 9981*y_b3*z_b4 + 9981*y_b4*z_b4 + 26*z_b1*z_b4 + 26*z_b2*z_b4 + 26*z_b3*z_b4 + 13*z_b4^2 + 5*y_b1 + y_b2 + y_b3 + y_b4 + z_b1 + z_b2 + 2*z_b3 + z_b4 + 10006*x_s1_b7_r1 + k_b1 + k_b2 + 3*k_b3 + 2*k_b4 + 7158\n",
      "16*y_b1^2 + 32*y_b1*y_b2 + 16*y_b2^2 + 32*y_b1*y_b3 + 32*y_b2*y_b3 + 16*y_b3^2 + 32*y_b1*y_b4 + 32*y_b2*y_b4 + 32*y_b3*y_b4 + 16*y_b4^2 + 9975*y_b1*z_b1 + 9975*y_b2*z_b1 + 9975*y_b3*z_b1 + 9975*y_b4*z_b1 + 16*z_b1^2 + 9975*y_b1*z_b2 + 9975*y_b2*z_b2 + 9975*y_b3*z_b2 + 9975*y_b4*z_b2 + 32*z_b1*z_b2 + 16*z_b2^2 + 9975*y_b1*z_b3 + 9975*y_b2*z_b3 + 9975*y_b3*z_b3 + 9975*y_b4*z_b3 + 32*z_b1*z_b3 + 32*z_b2*z_b3 + 16*z_b3^2 + 9975*y_b1*z_b4 + 9975*y_b2*z_b4 + 9975*y_b3*z_b4 + 9975*y_b4*z_b4 + 32*z_b1*z_b4 + 32*z_b2*z_b4 + 32*z_b3*z_b4 + 16*z_b4^2 + 4*y_b1 + y_b2 + y_b3 + y_b4 + z_b1 + z_b2 + z_b3 + 6*z_b4 + 10006*x_s1_b8_r1 + 2*k_b1 + k_b2 + k_b3 + 3*k_b4 + 7228\n",
      "10*x_s1_b1_r1^2 + 20*x_s1_b1_r1*x_s1_b2_r1 + 10*x_s1_b2_r1^2 + 20*x_s1_b1_r1*x_s1_b3_r1 + 20*x_s1_b2_r1*x_s1_b3_r1 + 10*x_s1_b3_r1^2 + 20*x_s1_b1_r1*x_s1_b4_r1 + 20*x_s1_b2_r1*x_s1_b4_r1 + 20*x_s1_b3_r1*x_s1_b4_r1 + 10*x_s1_b4_r1^2 + 9987*x_s1_b1_r1*x_s1_b5_r1 + 9987*x_s1_b2_r1*x_s1_b5_r1 + 9987*x_s1_b3_r1*x_s1_b5_r1 + 9987*x_s1_b4_r1*x_s1_b5_r1 + 10*x_s1_b5_r1^2 + 9987*x_s1_b1_r1*x_s1_b6_r1 + 9987*x_s1_b2_r1*x_s1_b6_r1 + 9987*x_s1_b3_r1*x_s1_b6_r1 + 9987*x_s1_b4_r1*x_s1_b6_r1 + 20*x_s1_b5_r1*x_s1_b6_r1 + 10*x_s1_b6_r1^2 + 9987*x_s1_b1_r1*x_s1_b7_r1 + 9987*x_s1_b2_r1*x_s1_b7_r1 + 9987*x_s1_b3_r1*x_s1_b7_r1 + 9987*x_s1_b4_r1*x_s1_b7_r1 + 20*x_s1_b5_r1*x_s1_b7_r1 + 20*x_s1_b6_r1*x_s1_b7_r1 + 10*x_s1_b7_r1^2 + 9987*x_s1_b1_r1*x_s1_b8_r1 + 9987*x_s1_b2_r1*x_s1_b8_r1 + 9987*x_s1_b3_r1*x_s1_b8_r1 + 9987*x_s1_b4_r1*x_s1_b8_r1 + 20*x_s1_b5_r1*x_s1_b8_r1 + 20*x_s1_b6_r1*x_s1_b8_r1 + 20*x_s1_b7_r1*x_s1_b8_r1 + 10*x_s1_b8_r1^2 + 3*x_s1_b1_r1 + x_s1_b2_r1 + x_s1_b3_r1 + x_s1_b4_r1 + x_s1_b5_r1 + x_s1_b6_r1 + x_s1_b7_r1 + x_s1_b8_r1 + 10006*x_s1_b1_r2 + k_b1 + 5522\n",
      "16*x_s1_b1_r1^2 + 32*x_s1_b1_r1*x_s1_b2_r1 + 16*x_s1_b2_r1^2 + 32*x_s1_b1_r1*x_s1_b3_r1 + 32*x_s1_b2_r1*x_s1_b3_r1 + 16*x_s1_b3_r1^2 + 32*x_s1_b1_r1*x_s1_b4_r1 + 32*x_s1_b2_r1*x_s1_b4_r1 + 32*x_s1_b3_r1*x_s1_b4_r1 + 16*x_s1_b4_r1^2 + 9975*x_s1_b1_r1*x_s1_b5_r1 + 9975*x_s1_b2_r1*x_s1_b5_r1 + 9975*x_s1_b3_r1*x_s1_b5_r1 + 9975*x_s1_b4_r1*x_s1_b5_r1 + 16*x_s1_b5_r1^2 + 9975*x_s1_b1_r1*x_s1_b6_r1 + 9975*x_s1_b2_r1*x_s1_b6_r1 + 9975*x_s1_b3_r1*x_s1_b6_r1 + 9975*x_s1_b4_r1*x_s1_b6_r1 + 32*x_s1_b5_r1*x_s1_b6_r1 + 16*x_s1_b6_r1^2 + 9975*x_s1_b1_r1*x_s1_b7_r1 + 9975*x_s1_b2_r1*x_s1_b7_r1 + 9975*x_s1_b3_r1*x_s1_b7_r1 + 9975*x_s1_b4_r1*x_s1_b7_r1 + 32*x_s1_b5_r1*x_s1_b7_r1 + 32*x_s1_b6_r1*x_s1_b7_r1 + 16*x_s1_b7_r1^2 + 9975*x_s1_b1_r1*x_s1_b8_r1 + 9975*x_s1_b2_r1*x_s1_b8_r1 + 9975*x_s1_b3_r1*x_s1_b8_r1 + 9975*x_s1_b4_r1*x_s1_b8_r1 + 32*x_s1_b5_r1*x_s1_b8_r1 + 32*x_s1_b6_r1*x_s1_b8_r1 + 32*x_s1_b7_r1*x_s1_b8_r1 + 16*x_s1_b8_r1^2 + 7*x_s1_b1_r1 + 3*x_s1_b2_r1 + x_s1_b3_r1 + x_s1_b4_r1 + x_s1_b5_r1 + x_s1_b6_r1 + x_s1_b7_r1 + x_s1_b8_r1 + 10006*x_s1_b2_r2 + k_b2 + 5405\n",
      "14*x_s1_b1_r1^2 + 28*x_s1_b1_r1*x_s1_b2_r1 + 14*x_s1_b2_r1^2 + 28*x_s1_b1_r1*x_s1_b3_r1 + 28*x_s1_b2_r1*x_s1_b3_r1 + 14*x_s1_b3_r1^2 + 28*x_s1_b1_r1*x_s1_b4_r1 + 28*x_s1_b2_r1*x_s1_b4_r1 + 28*x_s1_b3_r1*x_s1_b4_r1 + 14*x_s1_b4_r1^2 + 9979*x_s1_b1_r1*x_s1_b5_r1 + 9979*x_s1_b2_r1*x_s1_b5_r1 + 9979*x_s1_b3_r1*x_s1_b5_r1 + 9979*x_s1_b4_r1*x_s1_b5_r1 + 14*x_s1_b5_r1^2 + 9979*x_s1_b1_r1*x_s1_b6_r1 + 9979*x_s1_b2_r1*x_s1_b6_r1 + 9979*x_s1_b3_r1*x_s1_b6_r1 + 9979*x_s1_b4_r1*x_s1_b6_r1 + 28*x_s1_b5_r1*x_s1_b6_r1 + 14*x_s1_b6_r1^2 + 9979*x_s1_b1_r1*x_s1_b7_r1 + 9979*x_s1_b2_r1*x_s1_b7_r1 + 9979*x_s1_b3_r1*x_s1_b7_r1 + 9979*x_s1_b4_r1*x_s1_b7_r1 + 28*x_s1_b5_r1*x_s1_b7_r1 + 28*x_s1_b6_r1*x_s1_b7_r1 + 14*x_s1_b7_r1^2 + 9979*x_s1_b1_r1*x_s1_b8_r1 + 9979*x_s1_b2_r1*x_s1_b8_r1 + 9979*x_s1_b3_r1*x_s1_b8_r1 + 9979*x_s1_b4_r1*x_s1_b8_r1 + 28*x_s1_b5_r1*x_s1_b8_r1 + 28*x_s1_b6_r1*x_s1_b8_r1 + 28*x_s1_b7_r1*x_s1_b8_r1 + 14*x_s1_b8_r1^2 + 4*x_s1_b1_r1 + x_s1_b2_r1 + 4*x_s1_b3_r1 + x_s1_b4_r1 + x_s1_b5_r1 + x_s1_b6_r1 + x_s1_b7_r1 + x_s1_b8_r1 + 10006*x_s1_b3_r2 + k_b3 + 3643\n",
      "----------------------------------------------------------------------\n",
      "13*y_b1^2 + 26*y_b1*y_b2 + 13*y_b2^2 + 26*y_b1*y_b3 + 26*y_b2*y_b3 + 13*y_b3^2 + 26*y_b1*y_b4 + 26*y_b2*y_b4 + 26*y_b3*y_b4 + 13*y_b4^2 + 9981*y_b1*z_b1 + 9981*y_b2*z_b1 + 9981*y_b3*z_b1 + 9981*y_b4*z_b1 + 13*z_b1^2 + 9981*y_b1*z_b2 + 9981*y_b2*z_b2 + 9981*y_b3*z_b2 + 9981*y_b4*z_b2 + 26*z_b1*z_b2 + 13*z_b2^2 + 9981*y_b1*z_b3 + 9981*y_b2*z_b3 + 9981*y_b3*z_b3 + 9981*y_b4*z_b3 + 26*z_b1*z_b3 + 26*z_b2*z_b3 + 13*z_b3^2 + 9981*y_b1*z_b4 + 9981*y_b2*z_b4 + 9981*y_b3*z_b4 + 9981*y_b4*z_b4 + 26*z_b1*z_b4 + 26*z_b2*z_b4 + 26*z_b3*z_b4 + 13*z_b4^2 + 5*y_b1 + y_b2 + y_b3 + y_b4 + z_b1 + z_b2 + 2*z_b3 + z_b4 + 10006*x_s1_b7_r1 + k_b1 + k_b2 + 3*k_b3 + 2*k_b4 + 7158\n",
      "16*y_b1^2 + 32*y_b1*y_b2 + 16*y_b2^2 + 32*y_b1*y_b3 + 32*y_b2*y_b3 + 16*y_b3^2 + 32*y_b1*y_b4 + 32*y_b2*y_b4 + 32*y_b3*y_b4 + 16*y_b4^2 + 9975*y_b1*z_b1 + 9975*y_b2*z_b1 + 9975*y_b3*z_b1 + 9975*y_b4*z_b1 + 16*z_b1^2 + 9975*y_b1*z_b2 + 9975*y_b2*z_b2 + 9975*y_b3*z_b2 + 9975*y_b4*z_b2 + 32*z_b1*z_b2 + 16*z_b2^2 + 9975*y_b1*z_b3 + 9975*y_b2*z_b3 + 9975*y_b3*z_b3 + 9975*y_b4*z_b3 + 32*z_b1*z_b3 + 32*z_b2*z_b3 + 16*z_b3^2 + 9975*y_b1*z_b4 + 9975*y_b2*z_b4 + 9975*y_b3*z_b4 + 9975*y_b4*z_b4 + 32*z_b1*z_b4 + 32*z_b2*z_b4 + 32*z_b3*z_b4 + 16*z_b4^2 + 4*y_b1 + y_b2 + y_b3 + y_b4 + z_b1 + z_b2 + z_b3 + 6*z_b4 + 10006*x_s1_b8_r1 + 2*k_b1 + k_b2 + k_b3 + 3*k_b4 + 7228\n",
      "10*x_s1_b1_r1^2 + 20*x_s1_b1_r1*x_s1_b2_r1 + 10*x_s1_b2_r1^2 + 20*x_s1_b1_r1*x_s1_b3_r1 + 20*x_s1_b2_r1*x_s1_b3_r1 + 10*x_s1_b3_r1^2 + 20*x_s1_b1_r1*x_s1_b4_r1 + 20*x_s1_b2_r1*x_s1_b4_r1 + 20*x_s1_b3_r1*x_s1_b4_r1 + 10*x_s1_b4_r1^2 + 9987*x_s1_b1_r1*x_s1_b5_r1 + 9987*x_s1_b2_r1*x_s1_b5_r1 + 9987*x_s1_b3_r1*x_s1_b5_r1 + 9987*x_s1_b4_r1*x_s1_b5_r1 + 10*x_s1_b5_r1^2 + 9987*x_s1_b1_r1*x_s1_b6_r1 + 9987*x_s1_b2_r1*x_s1_b6_r1 + 9987*x_s1_b3_r1*x_s1_b6_r1 + 9987*x_s1_b4_r1*x_s1_b6_r1 + 20*x_s1_b5_r1*x_s1_b6_r1 + 10*x_s1_b6_r1^2 + 9987*x_s1_b1_r1*x_s1_b7_r1 + 9987*x_s1_b2_r1*x_s1_b7_r1 + 9987*x_s1_b3_r1*x_s1_b7_r1 + 9987*x_s1_b4_r1*x_s1_b7_r1 + 20*x_s1_b5_r1*x_s1_b7_r1 + 20*x_s1_b6_r1*x_s1_b7_r1 + 10*x_s1_b7_r1^2 + 9987*x_s1_b1_r1*x_s1_b8_r1 + 9987*x_s1_b2_r1*x_s1_b8_r1 + 9987*x_s1_b3_r1*x_s1_b8_r1 + 9987*x_s1_b4_r1*x_s1_b8_r1 + 20*x_s1_b5_r1*x_s1_b8_r1 + 20*x_s1_b6_r1*x_s1_b8_r1 + 20*x_s1_b7_r1*x_s1_b8_r1 + 10*x_s1_b8_r1^2 + 3*x_s1_b1_r1 + x_s1_b2_r1 + x_s1_b3_r1 + x_s1_b4_r1 + x_s1_b5_r1 + x_s1_b6_r1 + x_s1_b7_r1 + x_s1_b8_r1 + 10006*x_s1_b1_r2 + k_b1 + 5522\n",
      "16*x_s1_b1_r1^2 + 32*x_s1_b1_r1*x_s1_b2_r1 + 16*x_s1_b2_r1^2 + 32*x_s1_b1_r1*x_s1_b3_r1 + 32*x_s1_b2_r1*x_s1_b3_r1 + 16*x_s1_b3_r1^2 + 32*x_s1_b1_r1*x_s1_b4_r1 + 32*x_s1_b2_r1*x_s1_b4_r1 + 32*x_s1_b3_r1*x_s1_b4_r1 + 16*x_s1_b4_r1^2 + 9975*x_s1_b1_r1*x_s1_b5_r1 + 9975*x_s1_b2_r1*x_s1_b5_r1 + 9975*x_s1_b3_r1*x_s1_b5_r1 + 9975*x_s1_b4_r1*x_s1_b5_r1 + 16*x_s1_b5_r1^2 + 9975*x_s1_b1_r1*x_s1_b6_r1 + 9975*x_s1_b2_r1*x_s1_b6_r1 + 9975*x_s1_b3_r1*x_s1_b6_r1 + 9975*x_s1_b4_r1*x_s1_b6_r1 + 32*x_s1_b5_r1*x_s1_b6_r1 + 16*x_s1_b6_r1^2 + 9975*x_s1_b1_r1*x_s1_b7_r1 + 9975*x_s1_b2_r1*x_s1_b7_r1 + 9975*x_s1_b3_r1*x_s1_b7_r1 + 9975*x_s1_b4_r1*x_s1_b7_r1 + 32*x_s1_b5_r1*x_s1_b7_r1 + 32*x_s1_b6_r1*x_s1_b7_r1 + 16*x_s1_b7_r1^2 + 9975*x_s1_b1_r1*x_s1_b8_r1 + 9975*x_s1_b2_r1*x_s1_b8_r1 + 9975*x_s1_b3_r1*x_s1_b8_r1 + 9975*x_s1_b4_r1*x_s1_b8_r1 + 32*x_s1_b5_r1*x_s1_b8_r1 + 32*x_s1_b6_r1*x_s1_b8_r1 + 32*x_s1_b7_r1*x_s1_b8_r1 + 16*x_s1_b8_r1^2 + 7*x_s1_b1_r1 + 3*x_s1_b2_r1 + x_s1_b3_r1 + x_s1_b4_r1 + x_s1_b5_r1 + x_s1_b6_r1 + x_s1_b7_r1 + x_s1_b8_r1 + 10006*x_s1_b2_r2 + k_b2 + 5405\n",
      "14*x_s1_b1_r1^2 + 28*x_s1_b1_r1*x_s1_b2_r1 + 14*x_s1_b2_r1^2 + 28*x_s1_b1_r1*x_s1_b3_r1 + 28*x_s1_b2_r1*x_s1_b3_r1 + 14*x_s1_b3_r1^2 + 28*x_s1_b1_r1*x_s1_b4_r1 + 28*x_s1_b2_r1*x_s1_b4_r1 + 28*x_s1_b3_r1*x_s1_b4_r1 + 14*x_s1_b4_r1^2 + 9979*x_s1_b1_r1*x_s1_b5_r1 + 9979*x_s1_b2_r1*x_s1_b5_r1 + 9979*x_s1_b3_r1*x_s1_b5_r1 + 9979*x_s1_b4_r1*x_s1_b5_r1 + 14*x_s1_b5_r1^2 + 9979*x_s1_b1_r1*x_s1_b6_r1 + 9979*x_s1_b2_r1*x_s1_b6_r1 + 9979*x_s1_b3_r1*x_s1_b6_r1 + 9979*x_s1_b4_r1*x_s1_b6_r1 + 28*x_s1_b5_r1*x_s1_b6_r1 + 14*x_s1_b6_r1^2 + 9979*x_s1_b1_r1*x_s1_b7_r1 + 9979*x_s1_b2_r1*x_s1_b7_r1 + 9979*x_s1_b3_r1*x_s1_b7_r1 + 9979*x_s1_b4_r1*x_s1_b7_r1 + 28*x_s1_b5_r1*x_s1_b7_r1 + 28*x_s1_b6_r1*x_s1_b7_r1 + 14*x_s1_b7_r1^2 + 9979*x_s1_b1_r1*x_s1_b8_r1 + 9979*x_s1_b2_r1*x_s1_b8_r1 + 9979*x_s1_b3_r1*x_s1_b8_r1 + 9979*x_s1_b4_r1*x_s1_b8_r1 + 28*x_s1_b5_r1*x_s1_b8_r1 + 28*x_s1_b6_r1*x_s1_b8_r1 + 28*x_s1_b7_r1*x_s1_b8_r1 + 14*x_s1_b8_r1^2 + 4*x_s1_b1_r1 + x_s1_b2_r1 + 4*x_s1_b3_r1 + x_s1_b4_r1 + x_s1_b5_r1 + x_s1_b6_r1 + x_s1_b7_r1 + x_s1_b8_r1 + 10006*x_s1_b3_r2 + k_b3 + 3643\n",
      "17*x_s1_b1_r1^2 + 34*x_s1_b1_r1*x_s1_b2_r1 + 17*x_s1_b2_r1^2 + 34*x_s1_b1_r1*x_s1_b3_r1 + 34*x_s1_b2_r1*x_s1_b3_r1 + 17*x_s1_b3_r1^2 + 34*x_s1_b1_r1*x_s1_b4_r1 + 34*x_s1_b2_r1*x_s1_b4_r1 + 34*x_s1_b3_r1*x_s1_b4_r1 + 17*x_s1_b4_r1^2 + 9973*x_s1_b1_r1*x_s1_b5_r1 + 9973*x_s1_b2_r1*x_s1_b5_r1 + 9973*x_s1_b3_r1*x_s1_b5_r1 + 9973*x_s1_b4_r1*x_s1_b5_r1 + 17*x_s1_b5_r1^2 + 9973*x_s1_b1_r1*x_s1_b6_r1 + 9973*x_s1_b2_r1*x_s1_b6_r1 + 9973*x_s1_b3_r1*x_s1_b6_r1 + 9973*x_s1_b4_r1*x_s1_b6_r1 + 34*x_s1_b5_r1*x_s1_b6_r1 + 17*x_s1_b6_r1^2 + 9973*x_s1_b1_r1*x_s1_b7_r1 + 9973*x_s1_b2_r1*x_s1_b7_r1 + 9973*x_s1_b3_r1*x_s1_b7_r1 + 9973*x_s1_b4_r1*x_s1_b7_r1 + 34*x_s1_b5_r1*x_s1_b7_r1 + 34*x_s1_b6_r1*x_s1_b7_r1 + 17*x_s1_b7_r1^2 + 9973*x_s1_b1_r1*x_s1_b8_r1 + 9973*x_s1_b2_r1*x_s1_b8_r1 + 9973*x_s1_b3_r1*x_s1_b8_r1 + 9973*x_s1_b4_r1*x_s1_b8_r1 + 34*x_s1_b5_r1*x_s1_b8_r1 + 34*x_s1_b6_r1*x_s1_b8_r1 + 34*x_s1_b7_r1*x_s1_b8_r1 + 17*x_s1_b8_r1^2 + 3*x_s1_b1_r1 + x_s1_b2_r1 + x_s1_b3_r1 + 8*x_s1_b4_r1 + x_s1_b5_r1 + x_s1_b6_r1 + x_s1_b7_r1 + x_s1_b8_r1 + 10006*x_s1_b4_r2 + k_b4 + 7743\n",
      "20*x_s1_b1_r1^2 + 40*x_s1_b1_r1*x_s1_b2_r1 + 20*x_s1_b2_r1^2 + 40*x_s1_b1_r1*x_s1_b3_r1 + 40*x_s1_b2_r1*x_s1_b3_r1 + 20*x_s1_b3_r1^2 + 40*x_s1_b1_r1*x_s1_b4_r1 + 40*x_s1_b2_r1*x_s1_b4_r1 + 40*x_s1_b3_r1*x_s1_b4_r1 + 20*x_s1_b4_r1^2 + 9967*x_s1_b1_r1*x_s1_b5_r1 + 9967*x_s1_b2_r1*x_s1_b5_r1 + 9967*x_s1_b3_r1*x_s1_b5_r1 + 9967*x_s1_b4_r1*x_s1_b5_r1 + 20*x_s1_b5_r1^2 + 9967*x_s1_b1_r1*x_s1_b6_r1 + 9967*x_s1_b2_r1*x_s1_b6_r1 + 9967*x_s1_b3_r1*x_s1_b6_r1 + 9967*x_s1_b4_r1*x_s1_b6_r1 + 40*x_s1_b5_r1*x_s1_b6_r1 + 20*x_s1_b6_r1^2 + 9967*x_s1_b1_r1*x_s1_b7_r1 + 9967*x_s1_b2_r1*x_s1_b7_r1 + 9967*x_s1_b3_r1*x_s1_b7_r1 + 9967*x_s1_b4_r1*x_s1_b7_r1 + 40*x_s1_b5_r1*x_s1_b7_r1 + 40*x_s1_b6_r1*x_s1_b7_r1 + 20*x_s1_b7_r1^2 + 9967*x_s1_b1_r1*x_s1_b8_r1 + 9967*x_s1_b2_r1*x_s1_b8_r1 + 9967*x_s1_b3_r1*x_s1_b8_r1 + 9967*x_s1_b4_r1*x_s1_b8_r1 + 40*x_s1_b5_r1*x_s1_b8_r1 + 40*x_s1_b6_r1*x_s1_b8_r1 + 40*x_s1_b7_r1*x_s1_b8_r1 + 20*x_s1_b8_r1^2 + 7*x_s1_b1_r1 + x_s1_b2_r1 + x_s1_b3_r1 + x_s1_b4_r1 + 7*x_s1_b5_r1 + x_s1_b6_r1 + x_s1_b7_r1 + x_s1_b8_r1 + 10006*x_s1_b5_r2 + 3*k_b1 + 2*k_b2 + k_b3 + k_b4 + 9797\n",
      "19*x_s1_b1_r1^2 + 38*x_s1_b1_r1*x_s1_b2_r1 + 19*x_s1_b2_r1^2 + 38*x_s1_b1_r1*x_s1_b3_r1 + 38*x_s1_b2_r1*x_s1_b3_r1 + 19*x_s1_b3_r1^2 + 38*x_s1_b1_r1*x_s1_b4_r1 + 38*x_s1_b2_r1*x_s1_b4_r1 + 38*x_s1_b3_r1*x_s1_b4_r1 + 19*x_s1_b4_r1^2 + 9969*x_s1_b1_r1*x_s1_b5_r1 + 9969*x_s1_b2_r1*x_s1_b5_r1 + 9969*x_s1_b3_r1*x_s1_b5_r1 + 9969*x_s1_b4_r1*x_s1_b5_r1 + 19*x_s1_b5_r1^2 + 9969*x_s1_b1_r1*x_s1_b6_r1 + 9969*x_s1_b2_r1*x_s1_b6_r1 + 9969*x_s1_b3_r1*x_s1_b6_r1 + 9969*x_s1_b4_r1*x_s1_b6_r1 + 38*x_s1_b5_r1*x_s1_b6_r1 + 19*x_s1_b6_r1^2 + 9969*x_s1_b1_r1*x_s1_b7_r1 + 9969*x_s1_b2_r1*x_s1_b7_r1 + 9969*x_s1_b3_r1*x_s1_b7_r1 + 9969*x_s1_b4_r1*x_s1_b7_r1 + 38*x_s1_b5_r1*x_s1_b7_r1 + 38*x_s1_b6_r1*x_s1_b7_r1 + 19*x_s1_b7_r1^2 + 9969*x_s1_b1_r1*x_s1_b8_r1 + 9969*x_s1_b2_r1*x_s1_b8_r1 + 9969*x_s1_b3_r1*x_s1_b8_r1 + 9969*x_s1_b4_r1*x_s1_b8_r1 + 38*x_s1_b5_r1*x_s1_b8_r1 + 38*x_s1_b6_r1*x_s1_b8_r1 + 38*x_s1_b7_r1*x_s1_b8_r1 + 19*x_s1_b8_r1^2 + 8*x_s1_b1_r1 + x_s1_b2_r1 + x_s1_b3_r1 + x_s1_b4_r1 + x_s1_b5_r1 + 5*x_s1_b6_r1 + x_s1_b7_r1 + x_s1_b8_r1 + 10006*x_s1_b6_r2 + k_b1 + 3*k_b2 + 2*k_b3 + k_b4 + 7932\n",
      "----------------------------------------------------------------------\n",
      "16*x_s1_b1_r1^2 + 32*x_s1_b1_r1*x_s1_b2_r1 + 16*x_s1_b2_r1^2 + 32*x_s1_b1_r1*x_s1_b3_r1 + 32*x_s1_b2_r1*x_s1_b3_r1 + 16*x_s1_b3_r1^2 + 32*x_s1_b1_r1*x_s1_b4_r1 + 32*x_s1_b2_r1*x_s1_b4_r1 + 32*x_s1_b3_r1*x_s1_b4_r1 + 16*x_s1_b4_r1^2 + 9975*x_s1_b1_r1*x_s1_b5_r1 + 9975*x_s1_b2_r1*x_s1_b5_r1 + 9975*x_s1_b3_r1*x_s1_b5_r1 + 9975*x_s1_b4_r1*x_s1_b5_r1 + 16*x_s1_b5_r1^2 + 9975*x_s1_b1_r1*x_s1_b6_r1 + 9975*x_s1_b2_r1*x_s1_b6_r1 + 9975*x_s1_b3_r1*x_s1_b6_r1 + 9975*x_s1_b4_r1*x_s1_b6_r1 + 32*x_s1_b5_r1*x_s1_b6_r1 + 16*x_s1_b6_r1^2 + 9975*x_s1_b1_r1*x_s1_b7_r1 + 9975*x_s1_b2_r1*x_s1_b7_r1 + 9975*x_s1_b3_r1*x_s1_b7_r1 + 9975*x_s1_b4_r1*x_s1_b7_r1 + 32*x_s1_b5_r1*x_s1_b7_r1 + 32*x_s1_b6_r1*x_s1_b7_r1 + 16*x_s1_b7_r1^2 + 9975*x_s1_b1_r1*x_s1_b8_r1 + 9975*x_s1_b2_r1*x_s1_b8_r1 + 9975*x_s1_b3_r1*x_s1_b8_r1 + 9975*x_s1_b4_r1*x_s1_b8_r1 + 32*x_s1_b5_r1*x_s1_b8_r1 + 32*x_s1_b6_r1*x_s1_b8_r1 + 32*x_s1_b7_r1*x_s1_b8_r1 + 16*x_s1_b8_r1^2 + 7*x_s1_b1_r1 + 3*x_s1_b2_r1 + x_s1_b3_r1 + x_s1_b4_r1 + x_s1_b5_r1 + x_s1_b6_r1 + x_s1_b7_r1 + x_s1_b8_r1 + 10006*x_s1_b2_r2 + k_b2 + 5405\n",
      "14*x_s1_b1_r1^2 + 28*x_s1_b1_r1*x_s1_b2_r1 + 14*x_s1_b2_r1^2 + 28*x_s1_b1_r1*x_s1_b3_r1 + 28*x_s1_b2_r1*x_s1_b3_r1 + 14*x_s1_b3_r1^2 + 28*x_s1_b1_r1*x_s1_b4_r1 + 28*x_s1_b2_r1*x_s1_b4_r1 + 28*x_s1_b3_r1*x_s1_b4_r1 + 14*x_s1_b4_r1^2 + 9979*x_s1_b1_r1*x_s1_b5_r1 + 9979*x_s1_b2_r1*x_s1_b5_r1 + 9979*x_s1_b3_r1*x_s1_b5_r1 + 9979*x_s1_b4_r1*x_s1_b5_r1 + 14*x_s1_b5_r1^2 + 9979*x_s1_b1_r1*x_s1_b6_r1 + 9979*x_s1_b2_r1*x_s1_b6_r1 + 9979*x_s1_b3_r1*x_s1_b6_r1 + 9979*x_s1_b4_r1*x_s1_b6_r1 + 28*x_s1_b5_r1*x_s1_b6_r1 + 14*x_s1_b6_r1^2 + 9979*x_s1_b1_r1*x_s1_b7_r1 + 9979*x_s1_b2_r1*x_s1_b7_r1 + 9979*x_s1_b3_r1*x_s1_b7_r1 + 9979*x_s1_b4_r1*x_s1_b7_r1 + 28*x_s1_b5_r1*x_s1_b7_r1 + 28*x_s1_b6_r1*x_s1_b7_r1 + 14*x_s1_b7_r1^2 + 9979*x_s1_b1_r1*x_s1_b8_r1 + 9979*x_s1_b2_r1*x_s1_b8_r1 + 9979*x_s1_b3_r1*x_s1_b8_r1 + 9979*x_s1_b4_r1*x_s1_b8_r1 + 28*x_s1_b5_r1*x_s1_b8_r1 + 28*x_s1_b6_r1*x_s1_b8_r1 + 28*x_s1_b7_r1*x_s1_b8_r1 + 14*x_s1_b8_r1^2 + 4*x_s1_b1_r1 + x_s1_b2_r1 + 4*x_s1_b3_r1 + x_s1_b4_r1 + x_s1_b5_r1 + x_s1_b6_r1 + x_s1_b7_r1 + x_s1_b8_r1 + 10006*x_s1_b3_r2 + k_b3 + 3643\n",
      "17*x_s1_b1_r1^2 + 34*x_s1_b1_r1*x_s1_b2_r1 + 17*x_s1_b2_r1^2 + 34*x_s1_b1_r1*x_s1_b3_r1 + 34*x_s1_b2_r1*x_s1_b3_r1 + 17*x_s1_b3_r1^2 + 34*x_s1_b1_r1*x_s1_b4_r1 + 34*x_s1_b2_r1*x_s1_b4_r1 + 34*x_s1_b3_r1*x_s1_b4_r1 + 17*x_s1_b4_r1^2 + 9973*x_s1_b1_r1*x_s1_b5_r1 + 9973*x_s1_b2_r1*x_s1_b5_r1 + 9973*x_s1_b3_r1*x_s1_b5_r1 + 9973*x_s1_b4_r1*x_s1_b5_r1 + 17*x_s1_b5_r1^2 + 9973*x_s1_b1_r1*x_s1_b6_r1 + 9973*x_s1_b2_r1*x_s1_b6_r1 + 9973*x_s1_b3_r1*x_s1_b6_r1 + 9973*x_s1_b4_r1*x_s1_b6_r1 + 34*x_s1_b5_r1*x_s1_b6_r1 + 17*x_s1_b6_r1^2 + 9973*x_s1_b1_r1*x_s1_b7_r1 + 9973*x_s1_b2_r1*x_s1_b7_r1 + 9973*x_s1_b3_r1*x_s1_b7_r1 + 9973*x_s1_b4_r1*x_s1_b7_r1 + 34*x_s1_b5_r1*x_s1_b7_r1 + 34*x_s1_b6_r1*x_s1_b7_r1 + 17*x_s1_b7_r1^2 + 9973*x_s1_b1_r1*x_s1_b8_r1 + 9973*x_s1_b2_r1*x_s1_b8_r1 + 9973*x_s1_b3_r1*x_s1_b8_r1 + 9973*x_s1_b4_r1*x_s1_b8_r1 + 34*x_s1_b5_r1*x_s1_b8_r1 + 34*x_s1_b6_r1*x_s1_b8_r1 + 34*x_s1_b7_r1*x_s1_b8_r1 + 17*x_s1_b8_r1^2 + 3*x_s1_b1_r1 + x_s1_b2_r1 + x_s1_b3_r1 + 8*x_s1_b4_r1 + x_s1_b5_r1 + x_s1_b6_r1 + x_s1_b7_r1 + x_s1_b8_r1 + 10006*x_s1_b4_r2 + k_b4 + 7743\n",
      "20*x_s1_b1_r1^2 + 40*x_s1_b1_r1*x_s1_b2_r1 + 20*x_s1_b2_r1^2 + 40*x_s1_b1_r1*x_s1_b3_r1 + 40*x_s1_b2_r1*x_s1_b3_r1 + 20*x_s1_b3_r1^2 + 40*x_s1_b1_r1*x_s1_b4_r1 + 40*x_s1_b2_r1*x_s1_b4_r1 + 40*x_s1_b3_r1*x_s1_b4_r1 + 20*x_s1_b4_r1^2 + 9967*x_s1_b1_r1*x_s1_b5_r1 + 9967*x_s1_b2_r1*x_s1_b5_r1 + 9967*x_s1_b3_r1*x_s1_b5_r1 + 9967*x_s1_b4_r1*x_s1_b5_r1 + 20*x_s1_b5_r1^2 + 9967*x_s1_b1_r1*x_s1_b6_r1 + 9967*x_s1_b2_r1*x_s1_b6_r1 + 9967*x_s1_b3_r1*x_s1_b6_r1 + 9967*x_s1_b4_r1*x_s1_b6_r1 + 40*x_s1_b5_r1*x_s1_b6_r1 + 20*x_s1_b6_r1^2 + 9967*x_s1_b1_r1*x_s1_b7_r1 + 9967*x_s1_b2_r1*x_s1_b7_r1 + 9967*x_s1_b3_r1*x_s1_b7_r1 + 9967*x_s1_b4_r1*x_s1_b7_r1 + 40*x_s1_b5_r1*x_s1_b7_r1 + 40*x_s1_b6_r1*x_s1_b7_r1 + 20*x_s1_b7_r1^2 + 9967*x_s1_b1_r1*x_s1_b8_r1 + 9967*x_s1_b2_r1*x_s1_b8_r1 + 9967*x_s1_b3_r1*x_s1_b8_r1 + 9967*x_s1_b4_r1*x_s1_b8_r1 + 40*x_s1_b5_r1*x_s1_b8_r1 + 40*x_s1_b6_r1*x_s1_b8_r1 + 40*x_s1_b7_r1*x_s1_b8_r1 + 20*x_s1_b8_r1^2 + 7*x_s1_b1_r1 + x_s1_b2_r1 + x_s1_b3_r1 + x_s1_b4_r1 + 7*x_s1_b5_r1 + x_s1_b6_r1 + x_s1_b7_r1 + x_s1_b8_r1 + 10006*x_s1_b5_r2 + 3*k_b1 + 2*k_b2 + k_b3 + k_b4 + 9797\n",
      "19*x_s1_b1_r1^2 + 38*x_s1_b1_r1*x_s1_b2_r1 + 19*x_s1_b2_r1^2 + 38*x_s1_b1_r1*x_s1_b3_r1 + 38*x_s1_b2_r1*x_s1_b3_r1 + 19*x_s1_b3_r1^2 + 38*x_s1_b1_r1*x_s1_b4_r1 + 38*x_s1_b2_r1*x_s1_b4_r1 + 38*x_s1_b3_r1*x_s1_b4_r1 + 19*x_s1_b4_r1^2 + 9969*x_s1_b1_r1*x_s1_b5_r1 + 9969*x_s1_b2_r1*x_s1_b5_r1 + 9969*x_s1_b3_r1*x_s1_b5_r1 + 9969*x_s1_b4_r1*x_s1_b5_r1 + 19*x_s1_b5_r1^2 + 9969*x_s1_b1_r1*x_s1_b6_r1 + 9969*x_s1_b2_r1*x_s1_b6_r1 + 9969*x_s1_b3_r1*x_s1_b6_r1 + 9969*x_s1_b4_r1*x_s1_b6_r1 + 38*x_s1_b5_r1*x_s1_b6_r1 + 19*x_s1_b6_r1^2 + 9969*x_s1_b1_r1*x_s1_b7_r1 + 9969*x_s1_b2_r1*x_s1_b7_r1 + 9969*x_s1_b3_r1*x_s1_b7_r1 + 9969*x_s1_b4_r1*x_s1_b7_r1 + 38*x_s1_b5_r1*x_s1_b7_r1 + 38*x_s1_b6_r1*x_s1_b7_r1 + 19*x_s1_b7_r1^2 + 9969*x_s1_b1_r1*x_s1_b8_r1 + 9969*x_s1_b2_r1*x_s1_b8_r1 + 9969*x_s1_b3_r1*x_s1_b8_r1 + 9969*x_s1_b4_r1*x_s1_b8_r1 + 38*x_s1_b5_r1*x_s1_b8_r1 + 38*x_s1_b6_r1*x_s1_b8_r1 + 38*x_s1_b7_r1*x_s1_b8_r1 + 19*x_s1_b8_r1^2 + 8*x_s1_b1_r1 + x_s1_b2_r1 + x_s1_b3_r1 + x_s1_b4_r1 + x_s1_b5_r1 + 5*x_s1_b6_r1 + x_s1_b7_r1 + x_s1_b8_r1 + 10006*x_s1_b6_r2 + k_b1 + 3*k_b2 + 2*k_b3 + k_b4 + 7932\n",
      "13*x_s1_b1_r1^2 + 26*x_s1_b1_r1*x_s1_b2_r1 + 13*x_s1_b2_r1^2 + 26*x_s1_b1_r1*x_s1_b3_r1 + 26*x_s1_b2_r1*x_s1_b3_r1 + 13*x_s1_b3_r1^2 + 26*x_s1_b1_r1*x_s1_b4_r1 + 26*x_s1_b2_r1*x_s1_b4_r1 + 26*x_s1_b3_r1*x_s1_b4_r1 + 13*x_s1_b4_r1^2 + 9981*x_s1_b1_r1*x_s1_b5_r1 + 9981*x_s1_b2_r1*x_s1_b5_r1 + 9981*x_s1_b3_r1*x_s1_b5_r1 + 9981*x_s1_b4_r1*x_s1_b5_r1 + 13*x_s1_b5_r1^2 + 9981*x_s1_b1_r1*x_s1_b6_r1 + 9981*x_s1_b2_r1*x_s1_b6_r1 + 9981*x_s1_b3_r1*x_s1_b6_r1 + 9981*x_s1_b4_r1*x_s1_b6_r1 + 26*x_s1_b5_r1*x_s1_b6_r1 + 13*x_s1_b6_r1^2 + 9981*x_s1_b1_r1*x_s1_b7_r1 + 9981*x_s1_b2_r1*x_s1_b7_r1 + 9981*x_s1_b3_r1*x_s1_b7_r1 + 9981*x_s1_b4_r1*x_s1_b7_r1 + 26*x_s1_b5_r1*x_s1_b7_r1 + 26*x_s1_b6_r1*x_s1_b7_r1 + 13*x_s1_b7_r1^2 + 9981*x_s1_b1_r1*x_s1_b8_r1 + 9981*x_s1_b2_r1*x_s1_b8_r1 + 9981*x_s1_b3_r1*x_s1_b8_r1 + 9981*x_s1_b4_r1*x_s1_b8_r1 + 26*x_s1_b5_r1*x_s1_b8_r1 + 26*x_s1_b6_r1*x_s1_b8_r1 + 26*x_s1_b7_r1*x_s1_b8_r1 + 13*x_s1_b8_r1^2 + 5*x_s1_b1_r1 + x_s1_b2_r1 + x_s1_b3_r1 + x_s1_b4_r1 + x_s1_b5_r1 + x_s1_b6_r1 + 2*x_s1_b7_r1 + x_s1_b8_r1 + 10006*x_s1_b7_r2 + k_b1 + k_b2 + 3*k_b3 + 2*k_b4 + 5842\n",
      "16*x_s1_b1_r1^2 + 32*x_s1_b1_r1*x_s1_b2_r1 + 16*x_s1_b2_r1^2 + 32*x_s1_b1_r1*x_s1_b3_r1 + 32*x_s1_b2_r1*x_s1_b3_r1 + 16*x_s1_b3_r1^2 + 32*x_s1_b1_r1*x_s1_b4_r1 + 32*x_s1_b2_r1*x_s1_b4_r1 + 32*x_s1_b3_r1*x_s1_b4_r1 + 16*x_s1_b4_r1^2 + 9975*x_s1_b1_r1*x_s1_b5_r1 + 9975*x_s1_b2_r1*x_s1_b5_r1 + 9975*x_s1_b3_r1*x_s1_b5_r1 + 9975*x_s1_b4_r1*x_s1_b5_r1 + 16*x_s1_b5_r1^2 + 9975*x_s1_b1_r1*x_s1_b6_r1 + 9975*x_s1_b2_r1*x_s1_b6_r1 + 9975*x_s1_b3_r1*x_s1_b6_r1 + 9975*x_s1_b4_r1*x_s1_b6_r1 + 32*x_s1_b5_r1*x_s1_b6_r1 + 16*x_s1_b6_r1^2 + 9975*x_s1_b1_r1*x_s1_b7_r1 + 9975*x_s1_b2_r1*x_s1_b7_r1 + 9975*x_s1_b3_r1*x_s1_b7_r1 + 9975*x_s1_b4_r1*x_s1_b7_r1 + 32*x_s1_b5_r1*x_s1_b7_r1 + 32*x_s1_b6_r1*x_s1_b7_r1 + 16*x_s1_b7_r1^2 + 9975*x_s1_b1_r1*x_s1_b8_r1 + 9975*x_s1_b2_r1*x_s1_b8_r1 + 9975*x_s1_b3_r1*x_s1_b8_r1 + 9975*x_s1_b4_r1*x_s1_b8_r1 + 32*x_s1_b5_r1*x_s1_b8_r1 + 32*x_s1_b6_r1*x_s1_b8_r1 + 32*x_s1_b7_r1*x_s1_b8_r1 + 16*x_s1_b8_r1^2 + 4*x_s1_b1_r1 + x_s1_b2_r1 + x_s1_b3_r1 + x_s1_b4_r1 + x_s1_b5_r1 + x_s1_b6_r1 + x_s1_b7_r1 + 6*x_s1_b8_r1 + 10006*x_s1_b8_r2 + 2*k_b1 + k_b2 + k_b3 + 3*k_b4 + 5485\n",
      "10*x_s1_b1_r2^2 + 20*x_s1_b1_r2*x_s1_b2_r2 + 10*x_s1_b2_r2^2 + 20*x_s1_b1_r2*x_s1_b3_r2 + 20*x_s1_b2_r2*x_s1_b3_r2 + 10*x_s1_b3_r2^2 + 20*x_s1_b1_r2*x_s1_b4_r2 + 20*x_s1_b2_r2*x_s1_b4_r2 + 20*x_s1_b3_r2*x_s1_b4_r2 + 10*x_s1_b4_r2^2 + 9987*x_s1_b1_r2*x_s1_b5_r2 + 9987*x_s1_b2_r2*x_s1_b5_r2 + 9987*x_s1_b3_r2*x_s1_b5_r2 + 9987*x_s1_b4_r2*x_s1_b5_r2 + 10*x_s1_b5_r2^2 + 9987*x_s1_b1_r2*x_s1_b6_r2 + 9987*x_s1_b2_r2*x_s1_b6_r2 + 9987*x_s1_b3_r2*x_s1_b6_r2 + 9987*x_s1_b4_r2*x_s1_b6_r2 + 20*x_s1_b5_r2*x_s1_b6_r2 + 10*x_s1_b6_r2^2 + 9987*x_s1_b1_r2*x_s1_b7_r2 + 9987*x_s1_b2_r2*x_s1_b7_r2 + 9987*x_s1_b3_r2*x_s1_b7_r2 + 9987*x_s1_b4_r2*x_s1_b7_r2 + 20*x_s1_b5_r2*x_s1_b7_r2 + 20*x_s1_b6_r2*x_s1_b7_r2 + 10*x_s1_b7_r2^2 + 9987*x_s1_b1_r2*x_s1_b8_r2 + 9987*x_s1_b2_r2*x_s1_b8_r2 + 9987*x_s1_b3_r2*x_s1_b8_r2 + 9987*x_s1_b4_r2*x_s1_b8_r2 + 20*x_s1_b5_r2*x_s1_b8_r2 + 20*x_s1_b6_r2*x_s1_b8_r2 + 20*x_s1_b7_r2*x_s1_b8_r2 + 10*x_s1_b8_r2^2 + 3*x_s1_b1_r2 + x_s1_b2_r2 + x_s1_b3_r2 + x_s1_b4_r2 + x_s1_b5_r2 + x_s1_b6_r2 + x_s1_b7_r2 + x_s1_b8_r2 + 10006*x_s1_b1_r3 + k_b1 + 8187\n",
      "----------------------------------------------------------------------\n",
      "20*x_s1_b1_r1^2 + 40*x_s1_b1_r1*x_s1_b2_r1 + 20*x_s1_b2_r1^2 + 40*x_s1_b1_r1*x_s1_b3_r1 + 40*x_s1_b2_r1*x_s1_b3_r1 + 20*x_s1_b3_r1^2 + 40*x_s1_b1_r1*x_s1_b4_r1 + 40*x_s1_b2_r1*x_s1_b4_r1 + 40*x_s1_b3_r1*x_s1_b4_r1 + 20*x_s1_b4_r1^2 + 9967*x_s1_b1_r1*x_s1_b5_r1 + 9967*x_s1_b2_r1*x_s1_b5_r1 + 9967*x_s1_b3_r1*x_s1_b5_r1 + 9967*x_s1_b4_r1*x_s1_b5_r1 + 20*x_s1_b5_r1^2 + 9967*x_s1_b1_r1*x_s1_b6_r1 + 9967*x_s1_b2_r1*x_s1_b6_r1 + 9967*x_s1_b3_r1*x_s1_b6_r1 + 9967*x_s1_b4_r1*x_s1_b6_r1 + 40*x_s1_b5_r1*x_s1_b6_r1 + 20*x_s1_b6_r1^2 + 9967*x_s1_b1_r1*x_s1_b7_r1 + 9967*x_s1_b2_r1*x_s1_b7_r1 + 9967*x_s1_b3_r1*x_s1_b7_r1 + 9967*x_s1_b4_r1*x_s1_b7_r1 + 40*x_s1_b5_r1*x_s1_b7_r1 + 40*x_s1_b6_r1*x_s1_b7_r1 + 20*x_s1_b7_r1^2 + 9967*x_s1_b1_r1*x_s1_b8_r1 + 9967*x_s1_b2_r1*x_s1_b8_r1 + 9967*x_s1_b3_r1*x_s1_b8_r1 + 9967*x_s1_b4_r1*x_s1_b8_r1 + 40*x_s1_b5_r1*x_s1_b8_r1 + 40*x_s1_b6_r1*x_s1_b8_r1 + 40*x_s1_b7_r1*x_s1_b8_r1 + 20*x_s1_b8_r1^2 + 7*x_s1_b1_r1 + x_s1_b2_r1 + x_s1_b3_r1 + x_s1_b4_r1 + 7*x_s1_b5_r1 + x_s1_b6_r1 + x_s1_b7_r1 + x_s1_b8_r1 + 10006*x_s1_b5_r2 + 3*k_b1 + 2*k_b2 + k_b3 + k_b4 + 9797\n",
      "19*x_s1_b1_r1^2 + 38*x_s1_b1_r1*x_s1_b2_r1 + 19*x_s1_b2_r1^2 + 38*x_s1_b1_r1*x_s1_b3_r1 + 38*x_s1_b2_r1*x_s1_b3_r1 + 19*x_s1_b3_r1^2 + 38*x_s1_b1_r1*x_s1_b4_r1 + 38*x_s1_b2_r1*x_s1_b4_r1 + 38*x_s1_b3_r1*x_s1_b4_r1 + 19*x_s1_b4_r1^2 + 9969*x_s1_b1_r1*x_s1_b5_r1 + 9969*x_s1_b2_r1*x_s1_b5_r1 + 9969*x_s1_b3_r1*x_s1_b5_r1 + 9969*x_s1_b4_r1*x_s1_b5_r1 + 19*x_s1_b5_r1^2 + 9969*x_s1_b1_r1*x_s1_b6_r1 + 9969*x_s1_b2_r1*x_s1_b6_r1 + 9969*x_s1_b3_r1*x_s1_b6_r1 + 9969*x_s1_b4_r1*x_s1_b6_r1 + 38*x_s1_b5_r1*x_s1_b6_r1 + 19*x_s1_b6_r1^2 + 9969*x_s1_b1_r1*x_s1_b7_r1 + 9969*x_s1_b2_r1*x_s1_b7_r1 + 9969*x_s1_b3_r1*x_s1_b7_r1 + 9969*x_s1_b4_r1*x_s1_b7_r1 + 38*x_s1_b5_r1*x_s1_b7_r1 + 38*x_s1_b6_r1*x_s1_b7_r1 + 19*x_s1_b7_r1^2 + 9969*x_s1_b1_r1*x_s1_b8_r1 + 9969*x_s1_b2_r1*x_s1_b8_r1 + 9969*x_s1_b3_r1*x_s1_b8_r1 + 9969*x_s1_b4_r1*x_s1_b8_r1 + 38*x_s1_b5_r1*x_s1_b8_r1 + 38*x_s1_b6_r1*x_s1_b8_r1 + 38*x_s1_b7_r1*x_s1_b8_r1 + 19*x_s1_b8_r1^2 + 8*x_s1_b1_r1 + x_s1_b2_r1 + x_s1_b3_r1 + x_s1_b4_r1 + x_s1_b5_r1 + 5*x_s1_b6_r1 + x_s1_b7_r1 + x_s1_b8_r1 + 10006*x_s1_b6_r2 + k_b1 + 3*k_b2 + 2*k_b3 + k_b4 + 7932\n",
      "13*x_s1_b1_r1^2 + 26*x_s1_b1_r1*x_s1_b2_r1 + 13*x_s1_b2_r1^2 + 26*x_s1_b1_r1*x_s1_b3_r1 + 26*x_s1_b2_r1*x_s1_b3_r1 + 13*x_s1_b3_r1^2 + 26*x_s1_b1_r1*x_s1_b4_r1 + 26*x_s1_b2_r1*x_s1_b4_r1 + 26*x_s1_b3_r1*x_s1_b4_r1 + 13*x_s1_b4_r1^2 + 9981*x_s1_b1_r1*x_s1_b5_r1 + 9981*x_s1_b2_r1*x_s1_b5_r1 + 9981*x_s1_b3_r1*x_s1_b5_r1 + 9981*x_s1_b4_r1*x_s1_b5_r1 + 13*x_s1_b5_r1^2 + 9981*x_s1_b1_r1*x_s1_b6_r1 + 9981*x_s1_b2_r1*x_s1_b6_r1 + 9981*x_s1_b3_r1*x_s1_b6_r1 + 9981*x_s1_b4_r1*x_s1_b6_r1 + 26*x_s1_b5_r1*x_s1_b6_r1 + 13*x_s1_b6_r1^2 + 9981*x_s1_b1_r1*x_s1_b7_r1 + 9981*x_s1_b2_r1*x_s1_b7_r1 + 9981*x_s1_b3_r1*x_s1_b7_r1 + 9981*x_s1_b4_r1*x_s1_b7_r1 + 26*x_s1_b5_r1*x_s1_b7_r1 + 26*x_s1_b6_r1*x_s1_b7_r1 + 13*x_s1_b7_r1^2 + 9981*x_s1_b1_r1*x_s1_b8_r1 + 9981*x_s1_b2_r1*x_s1_b8_r1 + 9981*x_s1_b3_r1*x_s1_b8_r1 + 9981*x_s1_b4_r1*x_s1_b8_r1 + 26*x_s1_b5_r1*x_s1_b8_r1 + 26*x_s1_b6_r1*x_s1_b8_r1 + 26*x_s1_b7_r1*x_s1_b8_r1 + 13*x_s1_b8_r1^2 + 5*x_s1_b1_r1 + x_s1_b2_r1 + x_s1_b3_r1 + x_s1_b4_r1 + x_s1_b5_r1 + x_s1_b6_r1 + 2*x_s1_b7_r1 + x_s1_b8_r1 + 10006*x_s1_b7_r2 + k_b1 + k_b2 + 3*k_b3 + 2*k_b4 + 5842\n",
      "16*x_s1_b1_r1^2 + 32*x_s1_b1_r1*x_s1_b2_r1 + 16*x_s1_b2_r1^2 + 32*x_s1_b1_r1*x_s1_b3_r1 + 32*x_s1_b2_r1*x_s1_b3_r1 + 16*x_s1_b3_r1^2 + 32*x_s1_b1_r1*x_s1_b4_r1 + 32*x_s1_b2_r1*x_s1_b4_r1 + 32*x_s1_b3_r1*x_s1_b4_r1 + 16*x_s1_b4_r1^2 + 9975*x_s1_b1_r1*x_s1_b5_r1 + 9975*x_s1_b2_r1*x_s1_b5_r1 + 9975*x_s1_b3_r1*x_s1_b5_r1 + 9975*x_s1_b4_r1*x_s1_b5_r1 + 16*x_s1_b5_r1^2 + 9975*x_s1_b1_r1*x_s1_b6_r1 + 9975*x_s1_b2_r1*x_s1_b6_r1 + 9975*x_s1_b3_r1*x_s1_b6_r1 + 9975*x_s1_b4_r1*x_s1_b6_r1 + 32*x_s1_b5_r1*x_s1_b6_r1 + 16*x_s1_b6_r1^2 + 9975*x_s1_b1_r1*x_s1_b7_r1 + 9975*x_s1_b2_r1*x_s1_b7_r1 + 9975*x_s1_b3_r1*x_s1_b7_r1 + 9975*x_s1_b4_r1*x_s1_b7_r1 + 32*x_s1_b5_r1*x_s1_b7_r1 + 32*x_s1_b6_r1*x_s1_b7_r1 + 16*x_s1_b7_r1^2 + 9975*x_s1_b1_r1*x_s1_b8_r1 + 9975*x_s1_b2_r1*x_s1_b8_r1 + 9975*x_s1_b3_r1*x_s1_b8_r1 + 9975*x_s1_b4_r1*x_s1_b8_r1 + 32*x_s1_b5_r1*x_s1_b8_r1 + 32*x_s1_b6_r1*x_s1_b8_r1 + 32*x_s1_b7_r1*x_s1_b8_r1 + 16*x_s1_b8_r1^2 + 4*x_s1_b1_r1 + x_s1_b2_r1 + x_s1_b3_r1 + x_s1_b4_r1 + x_s1_b5_r1 + x_s1_b6_r1 + x_s1_b7_r1 + 6*x_s1_b8_r1 + 10006*x_s1_b8_r2 + 2*k_b1 + k_b2 + k_b3 + 3*k_b4 + 5485\n",
      "10*x_s1_b1_r2^2 + 20*x_s1_b1_r2*x_s1_b2_r2 + 10*x_s1_b2_r2^2 + 20*x_s1_b1_r2*x_s1_b3_r2 + 20*x_s1_b2_r2*x_s1_b3_r2 + 10*x_s1_b3_r2^2 + 20*x_s1_b1_r2*x_s1_b4_r2 + 20*x_s1_b2_r2*x_s1_b4_r2 + 20*x_s1_b3_r2*x_s1_b4_r2 + 10*x_s1_b4_r2^2 + 9987*x_s1_b1_r2*x_s1_b5_r2 + 9987*x_s1_b2_r2*x_s1_b5_r2 + 9987*x_s1_b3_r2*x_s1_b5_r2 + 9987*x_s1_b4_r2*x_s1_b5_r2 + 10*x_s1_b5_r2^2 + 9987*x_s1_b1_r2*x_s1_b6_r2 + 9987*x_s1_b2_r2*x_s1_b6_r2 + 9987*x_s1_b3_r2*x_s1_b6_r2 + 9987*x_s1_b4_r2*x_s1_b6_r2 + 20*x_s1_b5_r2*x_s1_b6_r2 + 10*x_s1_b6_r2^2 + 9987*x_s1_b1_r2*x_s1_b7_r2 + 9987*x_s1_b2_r2*x_s1_b7_r2 + 9987*x_s1_b3_r2*x_s1_b7_r2 + 9987*x_s1_b4_r2*x_s1_b7_r2 + 20*x_s1_b5_r2*x_s1_b7_r2 + 20*x_s1_b6_r2*x_s1_b7_r2 + 10*x_s1_b7_r2^2 + 9987*x_s1_b1_r2*x_s1_b8_r2 + 9987*x_s1_b2_r2*x_s1_b8_r2 + 9987*x_s1_b3_r2*x_s1_b8_r2 + 9987*x_s1_b4_r2*x_s1_b8_r2 + 20*x_s1_b5_r2*x_s1_b8_r2 + 20*x_s1_b6_r2*x_s1_b8_r2 + 20*x_s1_b7_r2*x_s1_b8_r2 + 10*x_s1_b8_r2^2 + 3*x_s1_b1_r2 + x_s1_b2_r2 + x_s1_b3_r2 + x_s1_b4_r2 + x_s1_b5_r2 + x_s1_b6_r2 + x_s1_b7_r2 + x_s1_b8_r2 + 10006*x_s1_b1_r3 + k_b1 + 8187\n",
      "16*x_s1_b1_r2^2 + 32*x_s1_b1_r2*x_s1_b2_r2 + 16*x_s1_b2_r2^2 + 32*x_s1_b1_r2*x_s1_b3_r2 + 32*x_s1_b2_r2*x_s1_b3_r2 + 16*x_s1_b3_r2^2 + 32*x_s1_b1_r2*x_s1_b4_r2 + 32*x_s1_b2_r2*x_s1_b4_r2 + 32*x_s1_b3_r2*x_s1_b4_r2 + 16*x_s1_b4_r2^2 + 9975*x_s1_b1_r2*x_s1_b5_r2 + 9975*x_s1_b2_r2*x_s1_b5_r2 + 9975*x_s1_b3_r2*x_s1_b5_r2 + 9975*x_s1_b4_r2*x_s1_b5_r2 + 16*x_s1_b5_r2^2 + 9975*x_s1_b1_r2*x_s1_b6_r2 + 9975*x_s1_b2_r2*x_s1_b6_r2 + 9975*x_s1_b3_r2*x_s1_b6_r2 + 9975*x_s1_b4_r2*x_s1_b6_r2 + 32*x_s1_b5_r2*x_s1_b6_r2 + 16*x_s1_b6_r2^2 + 9975*x_s1_b1_r2*x_s1_b7_r2 + 9975*x_s1_b2_r2*x_s1_b7_r2 + 9975*x_s1_b3_r2*x_s1_b7_r2 + 9975*x_s1_b4_r2*x_s1_b7_r2 + 32*x_s1_b5_r2*x_s1_b7_r2 + 32*x_s1_b6_r2*x_s1_b7_r2 + 16*x_s1_b7_r2^2 + 9975*x_s1_b1_r2*x_s1_b8_r2 + 9975*x_s1_b2_r2*x_s1_b8_r2 + 9975*x_s1_b3_r2*x_s1_b8_r2 + 9975*x_s1_b4_r2*x_s1_b8_r2 + 32*x_s1_b5_r2*x_s1_b8_r2 + 32*x_s1_b6_r2*x_s1_b8_r2 + 32*x_s1_b7_r2*x_s1_b8_r2 + 16*x_s1_b8_r2^2 + 7*x_s1_b1_r2 + 3*x_s1_b2_r2 + x_s1_b3_r2 + x_s1_b4_r2 + x_s1_b5_r2 + x_s1_b6_r2 + x_s1_b7_r2 + x_s1_b8_r2 + 10006*x_s1_b2_r3 + k_b2 + 6664\n",
      "14*x_s1_b1_r2^2 + 28*x_s1_b1_r2*x_s1_b2_r2 + 14*x_s1_b2_r2^2 + 28*x_s1_b1_r2*x_s1_b3_r2 + 28*x_s1_b2_r2*x_s1_b3_r2 + 14*x_s1_b3_r2^2 + 28*x_s1_b1_r2*x_s1_b4_r2 + 28*x_s1_b2_r2*x_s1_b4_r2 + 28*x_s1_b3_r2*x_s1_b4_r2 + 14*x_s1_b4_r2^2 + 9979*x_s1_b1_r2*x_s1_b5_r2 + 9979*x_s1_b2_r2*x_s1_b5_r2 + 9979*x_s1_b3_r2*x_s1_b5_r2 + 9979*x_s1_b4_r2*x_s1_b5_r2 + 14*x_s1_b5_r2^2 + 9979*x_s1_b1_r2*x_s1_b6_r2 + 9979*x_s1_b2_r2*x_s1_b6_r2 + 9979*x_s1_b3_r2*x_s1_b6_r2 + 9979*x_s1_b4_r2*x_s1_b6_r2 + 28*x_s1_b5_r2*x_s1_b6_r2 + 14*x_s1_b6_r2^2 + 9979*x_s1_b1_r2*x_s1_b7_r2 + 9979*x_s1_b2_r2*x_s1_b7_r2 + 9979*x_s1_b3_r2*x_s1_b7_r2 + 9979*x_s1_b4_r2*x_s1_b7_r2 + 28*x_s1_b5_r2*x_s1_b7_r2 + 28*x_s1_b6_r2*x_s1_b7_r2 + 14*x_s1_b7_r2^2 + 9979*x_s1_b1_r2*x_s1_b8_r2 + 9979*x_s1_b2_r2*x_s1_b8_r2 + 9979*x_s1_b3_r2*x_s1_b8_r2 + 9979*x_s1_b4_r2*x_s1_b8_r2 + 28*x_s1_b5_r2*x_s1_b8_r2 + 28*x_s1_b6_r2*x_s1_b8_r2 + 28*x_s1_b7_r2*x_s1_b8_r2 + 14*x_s1_b8_r2^2 + 4*x_s1_b1_r2 + x_s1_b2_r2 + 4*x_s1_b3_r2 + x_s1_b4_r2 + x_s1_b5_r2 + x_s1_b6_r2 + x_s1_b7_r2 + x_s1_b8_r2 + 10006*x_s1_b3_r3 + k_b3 + 9755\n",
      "17*x_s1_b1_r2^2 + 34*x_s1_b1_r2*x_s1_b2_r2 + 17*x_s1_b2_r2^2 + 34*x_s1_b1_r2*x_s1_b3_r2 + 34*x_s1_b2_r2*x_s1_b3_r2 + 17*x_s1_b3_r2^2 + 34*x_s1_b1_r2*x_s1_b4_r2 + 34*x_s1_b2_r2*x_s1_b4_r2 + 34*x_s1_b3_r2*x_s1_b4_r2 + 17*x_s1_b4_r2^2 + 9973*x_s1_b1_r2*x_s1_b5_r2 + 9973*x_s1_b2_r2*x_s1_b5_r2 + 9973*x_s1_b3_r2*x_s1_b5_r2 + 9973*x_s1_b4_r2*x_s1_b5_r2 + 17*x_s1_b5_r2^2 + 9973*x_s1_b1_r2*x_s1_b6_r2 + 9973*x_s1_b2_r2*x_s1_b6_r2 + 9973*x_s1_b3_r2*x_s1_b6_r2 + 9973*x_s1_b4_r2*x_s1_b6_r2 + 34*x_s1_b5_r2*x_s1_b6_r2 + 17*x_s1_b6_r2^2 + 9973*x_s1_b1_r2*x_s1_b7_r2 + 9973*x_s1_b2_r2*x_s1_b7_r2 + 9973*x_s1_b3_r2*x_s1_b7_r2 + 9973*x_s1_b4_r2*x_s1_b7_r2 + 34*x_s1_b5_r2*x_s1_b7_r2 + 34*x_s1_b6_r2*x_s1_b7_r2 + 17*x_s1_b7_r2^2 + 9973*x_s1_b1_r2*x_s1_b8_r2 + 9973*x_s1_b2_r2*x_s1_b8_r2 + 9973*x_s1_b3_r2*x_s1_b8_r2 + 9973*x_s1_b4_r2*x_s1_b8_r2 + 34*x_s1_b5_r2*x_s1_b8_r2 + 34*x_s1_b6_r2*x_s1_b8_r2 + 34*x_s1_b7_r2*x_s1_b8_r2 + 17*x_s1_b8_r2^2 + 3*x_s1_b1_r2 + x_s1_b2_r2 + x_s1_b3_r2 + 8*x_s1_b4_r2 + x_s1_b5_r2 + x_s1_b6_r2 + x_s1_b7_r2 + x_s1_b8_r2 + 10006*x_s1_b4_r3 + k_b4 + 8986\n",
      "----------------------------------------------------------------------\n",
      "16*x_s1_b1_r1^2 + 32*x_s1_b1_r1*x_s1_b2_r1 + 16*x_s1_b2_r1^2 + 32*x_s1_b1_r1*x_s1_b3_r1 + 32*x_s1_b2_r1*x_s1_b3_r1 + 16*x_s1_b3_r1^2 + 32*x_s1_b1_r1*x_s1_b4_r1 + 32*x_s1_b2_r1*x_s1_b4_r1 + 32*x_s1_b3_r1*x_s1_b4_r1 + 16*x_s1_b4_r1^2 + 9975*x_s1_b1_r1*x_s1_b5_r1 + 9975*x_s1_b2_r1*x_s1_b5_r1 + 9975*x_s1_b3_r1*x_s1_b5_r1 + 9975*x_s1_b4_r1*x_s1_b5_r1 + 16*x_s1_b5_r1^2 + 9975*x_s1_b1_r1*x_s1_b6_r1 + 9975*x_s1_b2_r1*x_s1_b6_r1 + 9975*x_s1_b3_r1*x_s1_b6_r1 + 9975*x_s1_b4_r1*x_s1_b6_r1 + 32*x_s1_b5_r1*x_s1_b6_r1 + 16*x_s1_b6_r1^2 + 9975*x_s1_b1_r1*x_s1_b7_r1 + 9975*x_s1_b2_r1*x_s1_b7_r1 + 9975*x_s1_b3_r1*x_s1_b7_r1 + 9975*x_s1_b4_r1*x_s1_b7_r1 + 32*x_s1_b5_r1*x_s1_b7_r1 + 32*x_s1_b6_r1*x_s1_b7_r1 + 16*x_s1_b7_r1^2 + 9975*x_s1_b1_r1*x_s1_b8_r1 + 9975*x_s1_b2_r1*x_s1_b8_r1 + 9975*x_s1_b3_r1*x_s1_b8_r1 + 9975*x_s1_b4_r1*x_s1_b8_r1 + 32*x_s1_b5_r1*x_s1_b8_r1 + 32*x_s1_b6_r1*x_s1_b8_r1 + 32*x_s1_b7_r1*x_s1_b8_r1 + 16*x_s1_b8_r1^2 + 4*x_s1_b1_r1 + x_s1_b2_r1 + x_s1_b3_r1 + x_s1_b4_r1 + x_s1_b5_r1 + x_s1_b6_r1 + x_s1_b7_r1 + 6*x_s1_b8_r1 + 10006*x_s1_b8_r2 + 2*k_b1 + k_b2 + k_b3 + 3*k_b4 + 5485\n",
      "10*x_s1_b1_r2^2 + 20*x_s1_b1_r2*x_s1_b2_r2 + 10*x_s1_b2_r2^2 + 20*x_s1_b1_r2*x_s1_b3_r2 + 20*x_s1_b2_r2*x_s1_b3_r2 + 10*x_s1_b3_r2^2 + 20*x_s1_b1_r2*x_s1_b4_r2 + 20*x_s1_b2_r2*x_s1_b4_r2 + 20*x_s1_b3_r2*x_s1_b4_r2 + 10*x_s1_b4_r2^2 + 9987*x_s1_b1_r2*x_s1_b5_r2 + 9987*x_s1_b2_r2*x_s1_b5_r2 + 9987*x_s1_b3_r2*x_s1_b5_r2 + 9987*x_s1_b4_r2*x_s1_b5_r2 + 10*x_s1_b5_r2^2 + 9987*x_s1_b1_r2*x_s1_b6_r2 + 9987*x_s1_b2_r2*x_s1_b6_r2 + 9987*x_s1_b3_r2*x_s1_b6_r2 + 9987*x_s1_b4_r2*x_s1_b6_r2 + 20*x_s1_b5_r2*x_s1_b6_r2 + 10*x_s1_b6_r2^2 + 9987*x_s1_b1_r2*x_s1_b7_r2 + 9987*x_s1_b2_r2*x_s1_b7_r2 + 9987*x_s1_b3_r2*x_s1_b7_r2 + 9987*x_s1_b4_r2*x_s1_b7_r2 + 20*x_s1_b5_r2*x_s1_b7_r2 + 20*x_s1_b6_r2*x_s1_b7_r2 + 10*x_s1_b7_r2^2 + 9987*x_s1_b1_r2*x_s1_b8_r2 + 9987*x_s1_b2_r2*x_s1_b8_r2 + 9987*x_s1_b3_r2*x_s1_b8_r2 + 9987*x_s1_b4_r2*x_s1_b8_r2 + 20*x_s1_b5_r2*x_s1_b8_r2 + 20*x_s1_b6_r2*x_s1_b8_r2 + 20*x_s1_b7_r2*x_s1_b8_r2 + 10*x_s1_b8_r2^2 + 3*x_s1_b1_r2 + x_s1_b2_r2 + x_s1_b3_r2 + x_s1_b4_r2 + x_s1_b5_r2 + x_s1_b6_r2 + x_s1_b7_r2 + x_s1_b8_r2 + 10006*x_s1_b1_r3 + k_b1 + 8187\n",
      "16*x_s1_b1_r2^2 + 32*x_s1_b1_r2*x_s1_b2_r2 + 16*x_s1_b2_r2^2 + 32*x_s1_b1_r2*x_s1_b3_r2 + 32*x_s1_b2_r2*x_s1_b3_r2 + 16*x_s1_b3_r2^2 + 32*x_s1_b1_r2*x_s1_b4_r2 + 32*x_s1_b2_r2*x_s1_b4_r2 + 32*x_s1_b3_r2*x_s1_b4_r2 + 16*x_s1_b4_r2^2 + 9975*x_s1_b1_r2*x_s1_b5_r2 + 9975*x_s1_b2_r2*x_s1_b5_r2 + 9975*x_s1_b3_r2*x_s1_b5_r2 + 9975*x_s1_b4_r2*x_s1_b5_r2 + 16*x_s1_b5_r2^2 + 9975*x_s1_b1_r2*x_s1_b6_r2 + 9975*x_s1_b2_r2*x_s1_b6_r2 + 9975*x_s1_b3_r2*x_s1_b6_r2 + 9975*x_s1_b4_r2*x_s1_b6_r2 + 32*x_s1_b5_r2*x_s1_b6_r2 + 16*x_s1_b6_r2^2 + 9975*x_s1_b1_r2*x_s1_b7_r2 + 9975*x_s1_b2_r2*x_s1_b7_r2 + 9975*x_s1_b3_r2*x_s1_b7_r2 + 9975*x_s1_b4_r2*x_s1_b7_r2 + 32*x_s1_b5_r2*x_s1_b7_r2 + 32*x_s1_b6_r2*x_s1_b7_r2 + 16*x_s1_b7_r2^2 + 9975*x_s1_b1_r2*x_s1_b8_r2 + 9975*x_s1_b2_r2*x_s1_b8_r2 + 9975*x_s1_b3_r2*x_s1_b8_r2 + 9975*x_s1_b4_r2*x_s1_b8_r2 + 32*x_s1_b5_r2*x_s1_b8_r2 + 32*x_s1_b6_r2*x_s1_b8_r2 + 32*x_s1_b7_r2*x_s1_b8_r2 + 16*x_s1_b8_r2^2 + 7*x_s1_b1_r2 + 3*x_s1_b2_r2 + x_s1_b3_r2 + x_s1_b4_r2 + x_s1_b5_r2 + x_s1_b6_r2 + x_s1_b7_r2 + x_s1_b8_r2 + 10006*x_s1_b2_r3 + k_b2 + 6664\n",
      "14*x_s1_b1_r2^2 + 28*x_s1_b1_r2*x_s1_b2_r2 + 14*x_s1_b2_r2^2 + 28*x_s1_b1_r2*x_s1_b3_r2 + 28*x_s1_b2_r2*x_s1_b3_r2 + 14*x_s1_b3_r2^2 + 28*x_s1_b1_r2*x_s1_b4_r2 + 28*x_s1_b2_r2*x_s1_b4_r2 + 28*x_s1_b3_r2*x_s1_b4_r2 + 14*x_s1_b4_r2^2 + 9979*x_s1_b1_r2*x_s1_b5_r2 + 9979*x_s1_b2_r2*x_s1_b5_r2 + 9979*x_s1_b3_r2*x_s1_b5_r2 + 9979*x_s1_b4_r2*x_s1_b5_r2 + 14*x_s1_b5_r2^2 + 9979*x_s1_b1_r2*x_s1_b6_r2 + 9979*x_s1_b2_r2*x_s1_b6_r2 + 9979*x_s1_b3_r2*x_s1_b6_r2 + 9979*x_s1_b4_r2*x_s1_b6_r2 + 28*x_s1_b5_r2*x_s1_b6_r2 + 14*x_s1_b6_r2^2 + 9979*x_s1_b1_r2*x_s1_b7_r2 + 9979*x_s1_b2_r2*x_s1_b7_r2 + 9979*x_s1_b3_r2*x_s1_b7_r2 + 9979*x_s1_b4_r2*x_s1_b7_r2 + 28*x_s1_b5_r2*x_s1_b7_r2 + 28*x_s1_b6_r2*x_s1_b7_r2 + 14*x_s1_b7_r2^2 + 9979*x_s1_b1_r2*x_s1_b8_r2 + 9979*x_s1_b2_r2*x_s1_b8_r2 + 9979*x_s1_b3_r2*x_s1_b8_r2 + 9979*x_s1_b4_r2*x_s1_b8_r2 + 28*x_s1_b5_r2*x_s1_b8_r2 + 28*x_s1_b6_r2*x_s1_b8_r2 + 28*x_s1_b7_r2*x_s1_b8_r2 + 14*x_s1_b8_r2^2 + 4*x_s1_b1_r2 + x_s1_b2_r2 + 4*x_s1_b3_r2 + x_s1_b4_r2 + x_s1_b5_r2 + x_s1_b6_r2 + x_s1_b7_r2 + x_s1_b8_r2 + 10006*x_s1_b3_r3 + k_b3 + 9755\n",
      "17*x_s1_b1_r2^2 + 34*x_s1_b1_r2*x_s1_b2_r2 + 17*x_s1_b2_r2^2 + 34*x_s1_b1_r2*x_s1_b3_r2 + 34*x_s1_b2_r2*x_s1_b3_r2 + 17*x_s1_b3_r2^2 + 34*x_s1_b1_r2*x_s1_b4_r2 + 34*x_s1_b2_r2*x_s1_b4_r2 + 34*x_s1_b3_r2*x_s1_b4_r2 + 17*x_s1_b4_r2^2 + 9973*x_s1_b1_r2*x_s1_b5_r2 + 9973*x_s1_b2_r2*x_s1_b5_r2 + 9973*x_s1_b3_r2*x_s1_b5_r2 + 9973*x_s1_b4_r2*x_s1_b5_r2 + 17*x_s1_b5_r2^2 + 9973*x_s1_b1_r2*x_s1_b6_r2 + 9973*x_s1_b2_r2*x_s1_b6_r2 + 9973*x_s1_b3_r2*x_s1_b6_r2 + 9973*x_s1_b4_r2*x_s1_b6_r2 + 34*x_s1_b5_r2*x_s1_b6_r2 + 17*x_s1_b6_r2^2 + 9973*x_s1_b1_r2*x_s1_b7_r2 + 9973*x_s1_b2_r2*x_s1_b7_r2 + 9973*x_s1_b3_r2*x_s1_b7_r2 + 9973*x_s1_b4_r2*x_s1_b7_r2 + 34*x_s1_b5_r2*x_s1_b7_r2 + 34*x_s1_b6_r2*x_s1_b7_r2 + 17*x_s1_b7_r2^2 + 9973*x_s1_b1_r2*x_s1_b8_r2 + 9973*x_s1_b2_r2*x_s1_b8_r2 + 9973*x_s1_b3_r2*x_s1_b8_r2 + 9973*x_s1_b4_r2*x_s1_b8_r2 + 34*x_s1_b5_r2*x_s1_b8_r2 + 34*x_s1_b6_r2*x_s1_b8_r2 + 34*x_s1_b7_r2*x_s1_b8_r2 + 17*x_s1_b8_r2^2 + 3*x_s1_b1_r2 + x_s1_b2_r2 + x_s1_b3_r2 + 8*x_s1_b4_r2 + x_s1_b5_r2 + x_s1_b6_r2 + x_s1_b7_r2 + x_s1_b8_r2 + 10006*x_s1_b4_r3 + k_b4 + 8986\n",
      "20*x_s1_b1_r2^2 + 40*x_s1_b1_r2*x_s1_b2_r2 + 20*x_s1_b2_r2^2 + 40*x_s1_b1_r2*x_s1_b3_r2 + 40*x_s1_b2_r2*x_s1_b3_r2 + 20*x_s1_b3_r2^2 + 40*x_s1_b1_r2*x_s1_b4_r2 + 40*x_s1_b2_r2*x_s1_b4_r2 + 40*x_s1_b3_r2*x_s1_b4_r2 + 20*x_s1_b4_r2^2 + 9967*x_s1_b1_r2*x_s1_b5_r2 + 9967*x_s1_b2_r2*x_s1_b5_r2 + 9967*x_s1_b3_r2*x_s1_b5_r2 + 9967*x_s1_b4_r2*x_s1_b5_r2 + 20*x_s1_b5_r2^2 + 9967*x_s1_b1_r2*x_s1_b6_r2 + 9967*x_s1_b2_r2*x_s1_b6_r2 + 9967*x_s1_b3_r2*x_s1_b6_r2 + 9967*x_s1_b4_r2*x_s1_b6_r2 + 40*x_s1_b5_r2*x_s1_b6_r2 + 20*x_s1_b6_r2^2 + 9967*x_s1_b1_r2*x_s1_b7_r2 + 9967*x_s1_b2_r2*x_s1_b7_r2 + 9967*x_s1_b3_r2*x_s1_b7_r2 + 9967*x_s1_b4_r2*x_s1_b7_r2 + 40*x_s1_b5_r2*x_s1_b7_r2 + 40*x_s1_b6_r2*x_s1_b7_r2 + 20*x_s1_b7_r2^2 + 9967*x_s1_b1_r2*x_s1_b8_r2 + 9967*x_s1_b2_r2*x_s1_b8_r2 + 9967*x_s1_b3_r2*x_s1_b8_r2 + 9967*x_s1_b4_r2*x_s1_b8_r2 + 40*x_s1_b5_r2*x_s1_b8_r2 + 40*x_s1_b6_r2*x_s1_b8_r2 + 40*x_s1_b7_r2*x_s1_b8_r2 + 20*x_s1_b8_r2^2 + 7*x_s1_b1_r2 + x_s1_b2_r2 + x_s1_b3_r2 + x_s1_b4_r2 + 7*x_s1_b5_r2 + x_s1_b6_r2 + x_s1_b7_r2 + x_s1_b8_r2 + 10006*x_s1_b5_r3 + 3*k_b1 + 2*k_b2 + k_b3 + k_b4 + 9408\n",
      "19*x_s1_b1_r2^2 + 38*x_s1_b1_r2*x_s1_b2_r2 + 19*x_s1_b2_r2^2 + 38*x_s1_b1_r2*x_s1_b3_r2 + 38*x_s1_b2_r2*x_s1_b3_r2 + 19*x_s1_b3_r2^2 + 38*x_s1_b1_r2*x_s1_b4_r2 + 38*x_s1_b2_r2*x_s1_b4_r2 + 38*x_s1_b3_r2*x_s1_b4_r2 + 19*x_s1_b4_r2^2 + 9969*x_s1_b1_r2*x_s1_b5_r2 + 9969*x_s1_b2_r2*x_s1_b5_r2 + 9969*x_s1_b3_r2*x_s1_b5_r2 + 9969*x_s1_b4_r2*x_s1_b5_r2 + 19*x_s1_b5_r2^2 + 9969*x_s1_b1_r2*x_s1_b6_r2 + 9969*x_s1_b2_r2*x_s1_b6_r2 + 9969*x_s1_b3_r2*x_s1_b6_r2 + 9969*x_s1_b4_r2*x_s1_b6_r2 + 38*x_s1_b5_r2*x_s1_b6_r2 + 19*x_s1_b6_r2^2 + 9969*x_s1_b1_r2*x_s1_b7_r2 + 9969*x_s1_b2_r2*x_s1_b7_r2 + 9969*x_s1_b3_r2*x_s1_b7_r2 + 9969*x_s1_b4_r2*x_s1_b7_r2 + 38*x_s1_b5_r2*x_s1_b7_r2 + 38*x_s1_b6_r2*x_s1_b7_r2 + 19*x_s1_b7_r2^2 + 9969*x_s1_b1_r2*x_s1_b8_r2 + 9969*x_s1_b2_r2*x_s1_b8_r2 + 9969*x_s1_b3_r2*x_s1_b8_r2 + 9969*x_s1_b4_r2*x_s1_b8_r2 + 38*x_s1_b5_r2*x_s1_b8_r2 + 38*x_s1_b6_r2*x_s1_b8_r2 + 38*x_s1_b7_r2*x_s1_b8_r2 + 19*x_s1_b8_r2^2 + 8*x_s1_b1_r2 + x_s1_b2_r2 + x_s1_b3_r2 + x_s1_b4_r2 + x_s1_b5_r2 + 5*x_s1_b6_r2 + x_s1_b7_r2 + x_s1_b8_r2 + 10006*x_s1_b6_r3 + k_b1 + 3*k_b2 + 2*k_b3 + k_b4 + 7493\n",
      "13*x_s1_b1_r2^2 + 26*x_s1_b1_r2*x_s1_b2_r2 + 13*x_s1_b2_r2^2 + 26*x_s1_b1_r2*x_s1_b3_r2 + 26*x_s1_b2_r2*x_s1_b3_r2 + 13*x_s1_b3_r2^2 + 26*x_s1_b1_r2*x_s1_b4_r2 + 26*x_s1_b2_r2*x_s1_b4_r2 + 26*x_s1_b3_r2*x_s1_b4_r2 + 13*x_s1_b4_r2^2 + 9981*x_s1_b1_r2*x_s1_b5_r2 + 9981*x_s1_b2_r2*x_s1_b5_r2 + 9981*x_s1_b3_r2*x_s1_b5_r2 + 9981*x_s1_b4_r2*x_s1_b5_r2 + 13*x_s1_b5_r2^2 + 9981*x_s1_b1_r2*x_s1_b6_r2 + 9981*x_s1_b2_r2*x_s1_b6_r2 + 9981*x_s1_b3_r2*x_s1_b6_r2 + 9981*x_s1_b4_r2*x_s1_b6_r2 + 26*x_s1_b5_r2*x_s1_b6_r2 + 13*x_s1_b6_r2^2 + 9981*x_s1_b1_r2*x_s1_b7_r2 + 9981*x_s1_b2_r2*x_s1_b7_r2 + 9981*x_s1_b3_r2*x_s1_b7_r2 + 9981*x_s1_b4_r2*x_s1_b7_r2 + 26*x_s1_b5_r2*x_s1_b7_r2 + 26*x_s1_b6_r2*x_s1_b7_r2 + 13*x_s1_b7_r2^2 + 9981*x_s1_b1_r2*x_s1_b8_r2 + 9981*x_s1_b2_r2*x_s1_b8_r2 + 9981*x_s1_b3_r2*x_s1_b8_r2 + 9981*x_s1_b4_r2*x_s1_b8_r2 + 26*x_s1_b5_r2*x_s1_b8_r2 + 26*x_s1_b6_r2*x_s1_b8_r2 + 26*x_s1_b7_r2*x_s1_b8_r2 + 13*x_s1_b8_r2^2 + 5*x_s1_b1_r2 + x_s1_b2_r2 + x_s1_b3_r2 + x_s1_b4_r2 + x_s1_b5_r2 + x_s1_b6_r2 + 2*x_s1_b7_r2 + x_s1_b8_r2 + 10006*x_s1_b7_r3 + k_b1 + k_b2 + 3*k_b3 + 2*k_b4 + 2400\n",
      "----------------------------------------------------------------------\n",
      "14*x_s1_b1_r2^2 + 28*x_s1_b1_r2*x_s1_b2_r2 + 14*x_s1_b2_r2^2 + 28*x_s1_b1_r2*x_s1_b3_r2 + 28*x_s1_b2_r2*x_s1_b3_r2 + 14*x_s1_b3_r2^2 + 28*x_s1_b1_r2*x_s1_b4_r2 + 28*x_s1_b2_r2*x_s1_b4_r2 + 28*x_s1_b3_r2*x_s1_b4_r2 + 14*x_s1_b4_r2^2 + 9979*x_s1_b1_r2*x_s1_b5_r2 + 9979*x_s1_b2_r2*x_s1_b5_r2 + 9979*x_s1_b3_r2*x_s1_b5_r2 + 9979*x_s1_b4_r2*x_s1_b5_r2 + 14*x_s1_b5_r2^2 + 9979*x_s1_b1_r2*x_s1_b6_r2 + 9979*x_s1_b2_r2*x_s1_b6_r2 + 9979*x_s1_b3_r2*x_s1_b6_r2 + 9979*x_s1_b4_r2*x_s1_b6_r2 + 28*x_s1_b5_r2*x_s1_b6_r2 + 14*x_s1_b6_r2^2 + 9979*x_s1_b1_r2*x_s1_b7_r2 + 9979*x_s1_b2_r2*x_s1_b7_r2 + 9979*x_s1_b3_r2*x_s1_b7_r2 + 9979*x_s1_b4_r2*x_s1_b7_r2 + 28*x_s1_b5_r2*x_s1_b7_r2 + 28*x_s1_b6_r2*x_s1_b7_r2 + 14*x_s1_b7_r2^2 + 9979*x_s1_b1_r2*x_s1_b8_r2 + 9979*x_s1_b2_r2*x_s1_b8_r2 + 9979*x_s1_b3_r2*x_s1_b8_r2 + 9979*x_s1_b4_r2*x_s1_b8_r2 + 28*x_s1_b5_r2*x_s1_b8_r2 + 28*x_s1_b6_r2*x_s1_b8_r2 + 28*x_s1_b7_r2*x_s1_b8_r2 + 14*x_s1_b8_r2^2 + 4*x_s1_b1_r2 + x_s1_b2_r2 + 4*x_s1_b3_r2 + x_s1_b4_r2 + x_s1_b5_r2 + x_s1_b6_r2 + x_s1_b7_r2 + x_s1_b8_r2 + 10006*x_s1_b3_r3 + k_b3 + 9755\n",
      "17*x_s1_b1_r2^2 + 34*x_s1_b1_r2*x_s1_b2_r2 + 17*x_s1_b2_r2^2 + 34*x_s1_b1_r2*x_s1_b3_r2 + 34*x_s1_b2_r2*x_s1_b3_r2 + 17*x_s1_b3_r2^2 + 34*x_s1_b1_r2*x_s1_b4_r2 + 34*x_s1_b2_r2*x_s1_b4_r2 + 34*x_s1_b3_r2*x_s1_b4_r2 + 17*x_s1_b4_r2^2 + 9973*x_s1_b1_r2*x_s1_b5_r2 + 9973*x_s1_b2_r2*x_s1_b5_r2 + 9973*x_s1_b3_r2*x_s1_b5_r2 + 9973*x_s1_b4_r2*x_s1_b5_r2 + 17*x_s1_b5_r2^2 + 9973*x_s1_b1_r2*x_s1_b6_r2 + 9973*x_s1_b2_r2*x_s1_b6_r2 + 9973*x_s1_b3_r2*x_s1_b6_r2 + 9973*x_s1_b4_r2*x_s1_b6_r2 + 34*x_s1_b5_r2*x_s1_b6_r2 + 17*x_s1_b6_r2^2 + 9973*x_s1_b1_r2*x_s1_b7_r2 + 9973*x_s1_b2_r2*x_s1_b7_r2 + 9973*x_s1_b3_r2*x_s1_b7_r2 + 9973*x_s1_b4_r2*x_s1_b7_r2 + 34*x_s1_b5_r2*x_s1_b7_r2 + 34*x_s1_b6_r2*x_s1_b7_r2 + 17*x_s1_b7_r2^2 + 9973*x_s1_b1_r2*x_s1_b8_r2 + 9973*x_s1_b2_r2*x_s1_b8_r2 + 9973*x_s1_b3_r2*x_s1_b8_r2 + 9973*x_s1_b4_r2*x_s1_b8_r2 + 34*x_s1_b5_r2*x_s1_b8_r2 + 34*x_s1_b6_r2*x_s1_b8_r2 + 34*x_s1_b7_r2*x_s1_b8_r2 + 17*x_s1_b8_r2^2 + 3*x_s1_b1_r2 + x_s1_b2_r2 + x_s1_b3_r2 + 8*x_s1_b4_r2 + x_s1_b5_r2 + x_s1_b6_r2 + x_s1_b7_r2 + x_s1_b8_r2 + 10006*x_s1_b4_r3 + k_b4 + 8986\n",
      "20*x_s1_b1_r2^2 + 40*x_s1_b1_r2*x_s1_b2_r2 + 20*x_s1_b2_r2^2 + 40*x_s1_b1_r2*x_s1_b3_r2 + 40*x_s1_b2_r2*x_s1_b3_r2 + 20*x_s1_b3_r2^2 + 40*x_s1_b1_r2*x_s1_b4_r2 + 40*x_s1_b2_r2*x_s1_b4_r2 + 40*x_s1_b3_r2*x_s1_b4_r2 + 20*x_s1_b4_r2^2 + 9967*x_s1_b1_r2*x_s1_b5_r2 + 9967*x_s1_b2_r2*x_s1_b5_r2 + 9967*x_s1_b3_r2*x_s1_b5_r2 + 9967*x_s1_b4_r2*x_s1_b5_r2 + 20*x_s1_b5_r2^2 + 9967*x_s1_b1_r2*x_s1_b6_r2 + 9967*x_s1_b2_r2*x_s1_b6_r2 + 9967*x_s1_b3_r2*x_s1_b6_r2 + 9967*x_s1_b4_r2*x_s1_b6_r2 + 40*x_s1_b5_r2*x_s1_b6_r2 + 20*x_s1_b6_r2^2 + 9967*x_s1_b1_r2*x_s1_b7_r2 + 9967*x_s1_b2_r2*x_s1_b7_r2 + 9967*x_s1_b3_r2*x_s1_b7_r2 + 9967*x_s1_b4_r2*x_s1_b7_r2 + 40*x_s1_b5_r2*x_s1_b7_r2 + 40*x_s1_b6_r2*x_s1_b7_r2 + 20*x_s1_b7_r2^2 + 9967*x_s1_b1_r2*x_s1_b8_r2 + 9967*x_s1_b2_r2*x_s1_b8_r2 + 9967*x_s1_b3_r2*x_s1_b8_r2 + 9967*x_s1_b4_r2*x_s1_b8_r2 + 40*x_s1_b5_r2*x_s1_b8_r2 + 40*x_s1_b6_r2*x_s1_b8_r2 + 40*x_s1_b7_r2*x_s1_b8_r2 + 20*x_s1_b8_r2^2 + 7*x_s1_b1_r2 + x_s1_b2_r2 + x_s1_b3_r2 + x_s1_b4_r2 + 7*x_s1_b5_r2 + x_s1_b6_r2 + x_s1_b7_r2 + x_s1_b8_r2 + 10006*x_s1_b5_r3 + 3*k_b1 + 2*k_b2 + k_b3 + k_b4 + 9408\n",
      "19*x_s1_b1_r2^2 + 38*x_s1_b1_r2*x_s1_b2_r2 + 19*x_s1_b2_r2^2 + 38*x_s1_b1_r2*x_s1_b3_r2 + 38*x_s1_b2_r2*x_s1_b3_r2 + 19*x_s1_b3_r2^2 + 38*x_s1_b1_r2*x_s1_b4_r2 + 38*x_s1_b2_r2*x_s1_b4_r2 + 38*x_s1_b3_r2*x_s1_b4_r2 + 19*x_s1_b4_r2^2 + 9969*x_s1_b1_r2*x_s1_b5_r2 + 9969*x_s1_b2_r2*x_s1_b5_r2 + 9969*x_s1_b3_r2*x_s1_b5_r2 + 9969*x_s1_b4_r2*x_s1_b5_r2 + 19*x_s1_b5_r2^2 + 9969*x_s1_b1_r2*x_s1_b6_r2 + 9969*x_s1_b2_r2*x_s1_b6_r2 + 9969*x_s1_b3_r2*x_s1_b6_r2 + 9969*x_s1_b4_r2*x_s1_b6_r2 + 38*x_s1_b5_r2*x_s1_b6_r2 + 19*x_s1_b6_r2^2 + 9969*x_s1_b1_r2*x_s1_b7_r2 + 9969*x_s1_b2_r2*x_s1_b7_r2 + 9969*x_s1_b3_r2*x_s1_b7_r2 + 9969*x_s1_b4_r2*x_s1_b7_r2 + 38*x_s1_b5_r2*x_s1_b7_r2 + 38*x_s1_b6_r2*x_s1_b7_r2 + 19*x_s1_b7_r2^2 + 9969*x_s1_b1_r2*x_s1_b8_r2 + 9969*x_s1_b2_r2*x_s1_b8_r2 + 9969*x_s1_b3_r2*x_s1_b8_r2 + 9969*x_s1_b4_r2*x_s1_b8_r2 + 38*x_s1_b5_r2*x_s1_b8_r2 + 38*x_s1_b6_r2*x_s1_b8_r2 + 38*x_s1_b7_r2*x_s1_b8_r2 + 19*x_s1_b8_r2^2 + 8*x_s1_b1_r2 + x_s1_b2_r2 + x_s1_b3_r2 + x_s1_b4_r2 + x_s1_b5_r2 + 5*x_s1_b6_r2 + x_s1_b7_r2 + x_s1_b8_r2 + 10006*x_s1_b6_r3 + k_b1 + 3*k_b2 + 2*k_b3 + k_b4 + 7493\n",
      "13*x_s1_b1_r2^2 + 26*x_s1_b1_r2*x_s1_b2_r2 + 13*x_s1_b2_r2^2 + 26*x_s1_b1_r2*x_s1_b3_r2 + 26*x_s1_b2_r2*x_s1_b3_r2 + 13*x_s1_b3_r2^2 + 26*x_s1_b1_r2*x_s1_b4_r2 + 26*x_s1_b2_r2*x_s1_b4_r2 + 26*x_s1_b3_r2*x_s1_b4_r2 + 13*x_s1_b4_r2^2 + 9981*x_s1_b1_r2*x_s1_b5_r2 + 9981*x_s1_b2_r2*x_s1_b5_r2 + 9981*x_s1_b3_r2*x_s1_b5_r2 + 9981*x_s1_b4_r2*x_s1_b5_r2 + 13*x_s1_b5_r2^2 + 9981*x_s1_b1_r2*x_s1_b6_r2 + 9981*x_s1_b2_r2*x_s1_b6_r2 + 9981*x_s1_b3_r2*x_s1_b6_r2 + 9981*x_s1_b4_r2*x_s1_b6_r2 + 26*x_s1_b5_r2*x_s1_b6_r2 + 13*x_s1_b6_r2^2 + 9981*x_s1_b1_r2*x_s1_b7_r2 + 9981*x_s1_b2_r2*x_s1_b7_r2 + 9981*x_s1_b3_r2*x_s1_b7_r2 + 9981*x_s1_b4_r2*x_s1_b7_r2 + 26*x_s1_b5_r2*x_s1_b7_r2 + 26*x_s1_b6_r2*x_s1_b7_r2 + 13*x_s1_b7_r2^2 + 9981*x_s1_b1_r2*x_s1_b8_r2 + 9981*x_s1_b2_r2*x_s1_b8_r2 + 9981*x_s1_b3_r2*x_s1_b8_r2 + 9981*x_s1_b4_r2*x_s1_b8_r2 + 26*x_s1_b5_r2*x_s1_b8_r2 + 26*x_s1_b6_r2*x_s1_b8_r2 + 26*x_s1_b7_r2*x_s1_b8_r2 + 13*x_s1_b8_r2^2 + 5*x_s1_b1_r2 + x_s1_b2_r2 + x_s1_b3_r2 + x_s1_b4_r2 + x_s1_b5_r2 + x_s1_b6_r2 + 2*x_s1_b7_r2 + x_s1_b8_r2 + 10006*x_s1_b7_r3 + k_b1 + k_b2 + 3*k_b3 + 2*k_b4 + 2400\n",
      "16*x_s1_b1_r2^2 + 32*x_s1_b1_r2*x_s1_b2_r2 + 16*x_s1_b2_r2^2 + 32*x_s1_b1_r2*x_s1_b3_r2 + 32*x_s1_b2_r2*x_s1_b3_r2 + 16*x_s1_b3_r2^2 + 32*x_s1_b1_r2*x_s1_b4_r2 + 32*x_s1_b2_r2*x_s1_b4_r2 + 32*x_s1_b3_r2*x_s1_b4_r2 + 16*x_s1_b4_r2^2 + 9975*x_s1_b1_r2*x_s1_b5_r2 + 9975*x_s1_b2_r2*x_s1_b5_r2 + 9975*x_s1_b3_r2*x_s1_b5_r2 + 9975*x_s1_b4_r2*x_s1_b5_r2 + 16*x_s1_b5_r2^2 + 9975*x_s1_b1_r2*x_s1_b6_r2 + 9975*x_s1_b2_r2*x_s1_b6_r2 + 9975*x_s1_b3_r2*x_s1_b6_r2 + 9975*x_s1_b4_r2*x_s1_b6_r2 + 32*x_s1_b5_r2*x_s1_b6_r2 + 16*x_s1_b6_r2^2 + 9975*x_s1_b1_r2*x_s1_b7_r2 + 9975*x_s1_b2_r2*x_s1_b7_r2 + 9975*x_s1_b3_r2*x_s1_b7_r2 + 9975*x_s1_b4_r2*x_s1_b7_r2 + 32*x_s1_b5_r2*x_s1_b7_r2 + 32*x_s1_b6_r2*x_s1_b7_r2 + 16*x_s1_b7_r2^2 + 9975*x_s1_b1_r2*x_s1_b8_r2 + 9975*x_s1_b2_r2*x_s1_b8_r2 + 9975*x_s1_b3_r2*x_s1_b8_r2 + 9975*x_s1_b4_r2*x_s1_b8_r2 + 32*x_s1_b5_r2*x_s1_b8_r2 + 32*x_s1_b6_r2*x_s1_b8_r2 + 32*x_s1_b7_r2*x_s1_b8_r2 + 16*x_s1_b8_r2^2 + 4*x_s1_b1_r2 + x_s1_b2_r2 + x_s1_b3_r2 + x_s1_b4_r2 + x_s1_b5_r2 + x_s1_b6_r2 + x_s1_b7_r2 + 6*x_s1_b8_r2 + 10006*x_s1_b8_r3 + 2*k_b1 + k_b2 + k_b3 + 3*k_b4 + 5245\n",
      "10*x_s1_b1_r3^2 + 20*x_s1_b1_r3*x_s1_b2_r3 + 10*x_s1_b2_r3^2 + 20*x_s1_b1_r3*x_s1_b3_r3 + 20*x_s1_b2_r3*x_s1_b3_r3 + 10*x_s1_b3_r3^2 + 20*x_s1_b1_r3*x_s1_b4_r3 + 20*x_s1_b2_r3*x_s1_b4_r3 + 20*x_s1_b3_r3*x_s1_b4_r3 + 10*x_s1_b4_r3^2 + 9987*x_s1_b1_r3*x_s1_b5_r3 + 9987*x_s1_b2_r3*x_s1_b5_r3 + 9987*x_s1_b3_r3*x_s1_b5_r3 + 9987*x_s1_b4_r3*x_s1_b5_r3 + 10*x_s1_b5_r3^2 + 9987*x_s1_b1_r3*x_s1_b6_r3 + 9987*x_s1_b2_r3*x_s1_b6_r3 + 9987*x_s1_b3_r3*x_s1_b6_r3 + 9987*x_s1_b4_r3*x_s1_b6_r3 + 20*x_s1_b5_r3*x_s1_b6_r3 + 10*x_s1_b6_r3^2 + 9987*x_s1_b1_r3*x_s1_b7_r3 + 9987*x_s1_b2_r3*x_s1_b7_r3 + 9987*x_s1_b3_r3*x_s1_b7_r3 + 9987*x_s1_b4_r3*x_s1_b7_r3 + 20*x_s1_b5_r3*x_s1_b7_r3 + 20*x_s1_b6_r3*x_s1_b7_r3 + 10*x_s1_b7_r3^2 + 9987*x_s1_b1_r3*x_s1_b8_r3 + 9987*x_s1_b2_r3*x_s1_b8_r3 + 9987*x_s1_b3_r3*x_s1_b8_r3 + 9987*x_s1_b4_r3*x_s1_b8_r3 + 20*x_s1_b5_r3*x_s1_b8_r3 + 20*x_s1_b6_r3*x_s1_b8_r3 + 20*x_s1_b7_r3*x_s1_b8_r3 + 10*x_s1_b8_r3^2 + y_b1 + 3*x_s1_b1_r3 + x_s1_b2_r3 + x_s1_b3_r3 + x_s1_b4_r3 + x_s1_b5_r3 + x_s1_b6_r3 + x_s1_b7_r3 + x_s1_b8_r3 + k_b1 + 4481\n",
      "16*x_s1_b1_r3^2 + 32*x_s1_b1_r3*x_s1_b2_r3 + 16*x_s1_b2_r3^2 + 32*x_s1_b1_r3*x_s1_b3_r3 + 32*x_s1_b2_r3*x_s1_b3_r3 + 16*x_s1_b3_r3^2 + 32*x_s1_b1_r3*x_s1_b4_r3 + 32*x_s1_b2_r3*x_s1_b4_r3 + 32*x_s1_b3_r3*x_s1_b4_r3 + 16*x_s1_b4_r3^2 + 9975*x_s1_b1_r3*x_s1_b5_r3 + 9975*x_s1_b2_r3*x_s1_b5_r3 + 9975*x_s1_b3_r3*x_s1_b5_r3 + 9975*x_s1_b4_r3*x_s1_b5_r3 + 16*x_s1_b5_r3^2 + 9975*x_s1_b1_r3*x_s1_b6_r3 + 9975*x_s1_b2_r3*x_s1_b6_r3 + 9975*x_s1_b3_r3*x_s1_b6_r3 + 9975*x_s1_b4_r3*x_s1_b6_r3 + 32*x_s1_b5_r3*x_s1_b6_r3 + 16*x_s1_b6_r3^2 + 9975*x_s1_b1_r3*x_s1_b7_r3 + 9975*x_s1_b2_r3*x_s1_b7_r3 + 9975*x_s1_b3_r3*x_s1_b7_r3 + 9975*x_s1_b4_r3*x_s1_b7_r3 + 32*x_s1_b5_r3*x_s1_b7_r3 + 32*x_s1_b6_r3*x_s1_b7_r3 + 16*x_s1_b7_r3^2 + 9975*x_s1_b1_r3*x_s1_b8_r3 + 9975*x_s1_b2_r3*x_s1_b8_r3 + 9975*x_s1_b3_r3*x_s1_b8_r3 + 9975*x_s1_b4_r3*x_s1_b8_r3 + 32*x_s1_b5_r3*x_s1_b8_r3 + 32*x_s1_b6_r3*x_s1_b8_r3 + 32*x_s1_b7_r3*x_s1_b8_r3 + 16*x_s1_b8_r3^2 + y_b2 + 7*x_s1_b1_r3 + 3*x_s1_b2_r3 + x_s1_b3_r3 + x_s1_b4_r3 + x_s1_b5_r3 + x_s1_b6_r3 + x_s1_b7_r3 + x_s1_b8_r3 + k_b2 + 8637\n",
      "----------------------------------------------------------------------\n",
      "19*x_s1_b1_r2^2 + 38*x_s1_b1_r2*x_s1_b2_r2 + 19*x_s1_b2_r2^2 + 38*x_s1_b1_r2*x_s1_b3_r2 + 38*x_s1_b2_r2*x_s1_b3_r2 + 19*x_s1_b3_r2^2 + 38*x_s1_b1_r2*x_s1_b4_r2 + 38*x_s1_b2_r2*x_s1_b4_r2 + 38*x_s1_b3_r2*x_s1_b4_r2 + 19*x_s1_b4_r2^2 + 9969*x_s1_b1_r2*x_s1_b5_r2 + 9969*x_s1_b2_r2*x_s1_b5_r2 + 9969*x_s1_b3_r2*x_s1_b5_r2 + 9969*x_s1_b4_r2*x_s1_b5_r2 + 19*x_s1_b5_r2^2 + 9969*x_s1_b1_r2*x_s1_b6_r2 + 9969*x_s1_b2_r2*x_s1_b6_r2 + 9969*x_s1_b3_r2*x_s1_b6_r2 + 9969*x_s1_b4_r2*x_s1_b6_r2 + 38*x_s1_b5_r2*x_s1_b6_r2 + 19*x_s1_b6_r2^2 + 9969*x_s1_b1_r2*x_s1_b7_r2 + 9969*x_s1_b2_r2*x_s1_b7_r2 + 9969*x_s1_b3_r2*x_s1_b7_r2 + 9969*x_s1_b4_r2*x_s1_b7_r2 + 38*x_s1_b5_r2*x_s1_b7_r2 + 38*x_s1_b6_r2*x_s1_b7_r2 + 19*x_s1_b7_r2^2 + 9969*x_s1_b1_r2*x_s1_b8_r2 + 9969*x_s1_b2_r2*x_s1_b8_r2 + 9969*x_s1_b3_r2*x_s1_b8_r2 + 9969*x_s1_b4_r2*x_s1_b8_r2 + 38*x_s1_b5_r2*x_s1_b8_r2 + 38*x_s1_b6_r2*x_s1_b8_r2 + 38*x_s1_b7_r2*x_s1_b8_r2 + 19*x_s1_b8_r2^2 + 8*x_s1_b1_r2 + x_s1_b2_r2 + x_s1_b3_r2 + x_s1_b4_r2 + x_s1_b5_r2 + 5*x_s1_b6_r2 + x_s1_b7_r2 + x_s1_b8_r2 + 10006*x_s1_b6_r3 + k_b1 + 3*k_b2 + 2*k_b3 + k_b4 + 7493\n",
      "13*x_s1_b1_r2^2 + 26*x_s1_b1_r2*x_s1_b2_r2 + 13*x_s1_b2_r2^2 + 26*x_s1_b1_r2*x_s1_b3_r2 + 26*x_s1_b2_r2*x_s1_b3_r2 + 13*x_s1_b3_r2^2 + 26*x_s1_b1_r2*x_s1_b4_r2 + 26*x_s1_b2_r2*x_s1_b4_r2 + 26*x_s1_b3_r2*x_s1_b4_r2 + 13*x_s1_b4_r2^2 + 9981*x_s1_b1_r2*x_s1_b5_r2 + 9981*x_s1_b2_r2*x_s1_b5_r2 + 9981*x_s1_b3_r2*x_s1_b5_r2 + 9981*x_s1_b4_r2*x_s1_b5_r2 + 13*x_s1_b5_r2^2 + 9981*x_s1_b1_r2*x_s1_b6_r2 + 9981*x_s1_b2_r2*x_s1_b6_r2 + 9981*x_s1_b3_r2*x_s1_b6_r2 + 9981*x_s1_b4_r2*x_s1_b6_r2 + 26*x_s1_b5_r2*x_s1_b6_r2 + 13*x_s1_b6_r2^2 + 9981*x_s1_b1_r2*x_s1_b7_r2 + 9981*x_s1_b2_r2*x_s1_b7_r2 + 9981*x_s1_b3_r2*x_s1_b7_r2 + 9981*x_s1_b4_r2*x_s1_b7_r2 + 26*x_s1_b5_r2*x_s1_b7_r2 + 26*x_s1_b6_r2*x_s1_b7_r2 + 13*x_s1_b7_r2^2 + 9981*x_s1_b1_r2*x_s1_b8_r2 + 9981*x_s1_b2_r2*x_s1_b8_r2 + 9981*x_s1_b3_r2*x_s1_b8_r2 + 9981*x_s1_b4_r2*x_s1_b8_r2 + 26*x_s1_b5_r2*x_s1_b8_r2 + 26*x_s1_b6_r2*x_s1_b8_r2 + 26*x_s1_b7_r2*x_s1_b8_r2 + 13*x_s1_b8_r2^2 + 5*x_s1_b1_r2 + x_s1_b2_r2 + x_s1_b3_r2 + x_s1_b4_r2 + x_s1_b5_r2 + x_s1_b6_r2 + 2*x_s1_b7_r2 + x_s1_b8_r2 + 10006*x_s1_b7_r3 + k_b1 + k_b2 + 3*k_b3 + 2*k_b4 + 2400\n",
      "16*x_s1_b1_r2^2 + 32*x_s1_b1_r2*x_s1_b2_r2 + 16*x_s1_b2_r2^2 + 32*x_s1_b1_r2*x_s1_b3_r2 + 32*x_s1_b2_r2*x_s1_b3_r2 + 16*x_s1_b3_r2^2 + 32*x_s1_b1_r2*x_s1_b4_r2 + 32*x_s1_b2_r2*x_s1_b4_r2 + 32*x_s1_b3_r2*x_s1_b4_r2 + 16*x_s1_b4_r2^2 + 9975*x_s1_b1_r2*x_s1_b5_r2 + 9975*x_s1_b2_r2*x_s1_b5_r2 + 9975*x_s1_b3_r2*x_s1_b5_r2 + 9975*x_s1_b4_r2*x_s1_b5_r2 + 16*x_s1_b5_r2^2 + 9975*x_s1_b1_r2*x_s1_b6_r2 + 9975*x_s1_b2_r2*x_s1_b6_r2 + 9975*x_s1_b3_r2*x_s1_b6_r2 + 9975*x_s1_b4_r2*x_s1_b6_r2 + 32*x_s1_b5_r2*x_s1_b6_r2 + 16*x_s1_b6_r2^2 + 9975*x_s1_b1_r2*x_s1_b7_r2 + 9975*x_s1_b2_r2*x_s1_b7_r2 + 9975*x_s1_b3_r2*x_s1_b7_r2 + 9975*x_s1_b4_r2*x_s1_b7_r2 + 32*x_s1_b5_r2*x_s1_b7_r2 + 32*x_s1_b6_r2*x_s1_b7_r2 + 16*x_s1_b7_r2^2 + 9975*x_s1_b1_r2*x_s1_b8_r2 + 9975*x_s1_b2_r2*x_s1_b8_r2 + 9975*x_s1_b3_r2*x_s1_b8_r2 + 9975*x_s1_b4_r2*x_s1_b8_r2 + 32*x_s1_b5_r2*x_s1_b8_r2 + 32*x_s1_b6_r2*x_s1_b8_r2 + 32*x_s1_b7_r2*x_s1_b8_r2 + 16*x_s1_b8_r2^2 + 4*x_s1_b1_r2 + x_s1_b2_r2 + x_s1_b3_r2 + x_s1_b4_r2 + x_s1_b5_r2 + x_s1_b6_r2 + x_s1_b7_r2 + 6*x_s1_b8_r2 + 10006*x_s1_b8_r3 + 2*k_b1 + k_b2 + k_b3 + 3*k_b4 + 5245\n",
      "10*x_s1_b1_r3^2 + 20*x_s1_b1_r3*x_s1_b2_r3 + 10*x_s1_b2_r3^2 + 20*x_s1_b1_r3*x_s1_b3_r3 + 20*x_s1_b2_r3*x_s1_b3_r3 + 10*x_s1_b3_r3^2 + 20*x_s1_b1_r3*x_s1_b4_r3 + 20*x_s1_b2_r3*x_s1_b4_r3 + 20*x_s1_b3_r3*x_s1_b4_r3 + 10*x_s1_b4_r3^2 + 9987*x_s1_b1_r3*x_s1_b5_r3 + 9987*x_s1_b2_r3*x_s1_b5_r3 + 9987*x_s1_b3_r3*x_s1_b5_r3 + 9987*x_s1_b4_r3*x_s1_b5_r3 + 10*x_s1_b5_r3^2 + 9987*x_s1_b1_r3*x_s1_b6_r3 + 9987*x_s1_b2_r3*x_s1_b6_r3 + 9987*x_s1_b3_r3*x_s1_b6_r3 + 9987*x_s1_b4_r3*x_s1_b6_r3 + 20*x_s1_b5_r3*x_s1_b6_r3 + 10*x_s1_b6_r3^2 + 9987*x_s1_b1_r3*x_s1_b7_r3 + 9987*x_s1_b2_r3*x_s1_b7_r3 + 9987*x_s1_b3_r3*x_s1_b7_r3 + 9987*x_s1_b4_r3*x_s1_b7_r3 + 20*x_s1_b5_r3*x_s1_b7_r3 + 20*x_s1_b6_r3*x_s1_b7_r3 + 10*x_s1_b7_r3^2 + 9987*x_s1_b1_r3*x_s1_b8_r3 + 9987*x_s1_b2_r3*x_s1_b8_r3 + 9987*x_s1_b3_r3*x_s1_b8_r3 + 9987*x_s1_b4_r3*x_s1_b8_r3 + 20*x_s1_b5_r3*x_s1_b8_r3 + 20*x_s1_b6_r3*x_s1_b8_r3 + 20*x_s1_b7_r3*x_s1_b8_r3 + 10*x_s1_b8_r3^2 + y_b1 + 3*x_s1_b1_r3 + x_s1_b2_r3 + x_s1_b3_r3 + x_s1_b4_r3 + x_s1_b5_r3 + x_s1_b6_r3 + x_s1_b7_r3 + x_s1_b8_r3 + k_b1 + 4481\n",
      "16*x_s1_b1_r3^2 + 32*x_s1_b1_r3*x_s1_b2_r3 + 16*x_s1_b2_r3^2 + 32*x_s1_b1_r3*x_s1_b3_r3 + 32*x_s1_b2_r3*x_s1_b3_r3 + 16*x_s1_b3_r3^2 + 32*x_s1_b1_r3*x_s1_b4_r3 + 32*x_s1_b2_r3*x_s1_b4_r3 + 32*x_s1_b3_r3*x_s1_b4_r3 + 16*x_s1_b4_r3^2 + 9975*x_s1_b1_r3*x_s1_b5_r3 + 9975*x_s1_b2_r3*x_s1_b5_r3 + 9975*x_s1_b3_r3*x_s1_b5_r3 + 9975*x_s1_b4_r3*x_s1_b5_r3 + 16*x_s1_b5_r3^2 + 9975*x_s1_b1_r3*x_s1_b6_r3 + 9975*x_s1_b2_r3*x_s1_b6_r3 + 9975*x_s1_b3_r3*x_s1_b6_r3 + 9975*x_s1_b4_r3*x_s1_b6_r3 + 32*x_s1_b5_r3*x_s1_b6_r3 + 16*x_s1_b6_r3^2 + 9975*x_s1_b1_r3*x_s1_b7_r3 + 9975*x_s1_b2_r3*x_s1_b7_r3 + 9975*x_s1_b3_r3*x_s1_b7_r3 + 9975*x_s1_b4_r3*x_s1_b7_r3 + 32*x_s1_b5_r3*x_s1_b7_r3 + 32*x_s1_b6_r3*x_s1_b7_r3 + 16*x_s1_b7_r3^2 + 9975*x_s1_b1_r3*x_s1_b8_r3 + 9975*x_s1_b2_r3*x_s1_b8_r3 + 9975*x_s1_b3_r3*x_s1_b8_r3 + 9975*x_s1_b4_r3*x_s1_b8_r3 + 32*x_s1_b5_r3*x_s1_b8_r3 + 32*x_s1_b6_r3*x_s1_b8_r3 + 32*x_s1_b7_r3*x_s1_b8_r3 + 16*x_s1_b8_r3^2 + y_b2 + 7*x_s1_b1_r3 + 3*x_s1_b2_r3 + x_s1_b3_r3 + x_s1_b4_r3 + x_s1_b5_r3 + x_s1_b6_r3 + x_s1_b7_r3 + x_s1_b8_r3 + k_b2 + 8637\n",
      "14*x_s1_b1_r3^2 + 28*x_s1_b1_r3*x_s1_b2_r3 + 14*x_s1_b2_r3^2 + 28*x_s1_b1_r3*x_s1_b3_r3 + 28*x_s1_b2_r3*x_s1_b3_r3 + 14*x_s1_b3_r3^2 + 28*x_s1_b1_r3*x_s1_b4_r3 + 28*x_s1_b2_r3*x_s1_b4_r3 + 28*x_s1_b3_r3*x_s1_b4_r3 + 14*x_s1_b4_r3^2 + 9979*x_s1_b1_r3*x_s1_b5_r3 + 9979*x_s1_b2_r3*x_s1_b5_r3 + 9979*x_s1_b3_r3*x_s1_b5_r3 + 9979*x_s1_b4_r3*x_s1_b5_r3 + 14*x_s1_b5_r3^2 + 9979*x_s1_b1_r3*x_s1_b6_r3 + 9979*x_s1_b2_r3*x_s1_b6_r3 + 9979*x_s1_b3_r3*x_s1_b6_r3 + 9979*x_s1_b4_r3*x_s1_b6_r3 + 28*x_s1_b5_r3*x_s1_b6_r3 + 14*x_s1_b6_r3^2 + 9979*x_s1_b1_r3*x_s1_b7_r3 + 9979*x_s1_b2_r3*x_s1_b7_r3 + 9979*x_s1_b3_r3*x_s1_b7_r3 + 9979*x_s1_b4_r3*x_s1_b7_r3 + 28*x_s1_b5_r3*x_s1_b7_r3 + 28*x_s1_b6_r3*x_s1_b7_r3 + 14*x_s1_b7_r3^2 + 9979*x_s1_b1_r3*x_s1_b8_r3 + 9979*x_s1_b2_r3*x_s1_b8_r3 + 9979*x_s1_b3_r3*x_s1_b8_r3 + 9979*x_s1_b4_r3*x_s1_b8_r3 + 28*x_s1_b5_r3*x_s1_b8_r3 + 28*x_s1_b6_r3*x_s1_b8_r3 + 28*x_s1_b7_r3*x_s1_b8_r3 + 14*x_s1_b8_r3^2 + y_b3 + 4*x_s1_b1_r3 + x_s1_b2_r3 + 4*x_s1_b3_r3 + x_s1_b4_r3 + x_s1_b5_r3 + x_s1_b6_r3 + x_s1_b7_r3 + x_s1_b8_r3 + k_b3 + 4551\n",
      "17*x_s1_b1_r3^2 + 34*x_s1_b1_r3*x_s1_b2_r3 + 17*x_s1_b2_r3^2 + 34*x_s1_b1_r3*x_s1_b3_r3 + 34*x_s1_b2_r3*x_s1_b3_r3 + 17*x_s1_b3_r3^2 + 34*x_s1_b1_r3*x_s1_b4_r3 + 34*x_s1_b2_r3*x_s1_b4_r3 + 34*x_s1_b3_r3*x_s1_b4_r3 + 17*x_s1_b4_r3^2 + 9973*x_s1_b1_r3*x_s1_b5_r3 + 9973*x_s1_b2_r3*x_s1_b5_r3 + 9973*x_s1_b3_r3*x_s1_b5_r3 + 9973*x_s1_b4_r3*x_s1_b5_r3 + 17*x_s1_b5_r3^2 + 9973*x_s1_b1_r3*x_s1_b6_r3 + 9973*x_s1_b2_r3*x_s1_b6_r3 + 9973*x_s1_b3_r3*x_s1_b6_r3 + 9973*x_s1_b4_r3*x_s1_b6_r3 + 34*x_s1_b5_r3*x_s1_b6_r3 + 17*x_s1_b6_r3^2 + 9973*x_s1_b1_r3*x_s1_b7_r3 + 9973*x_s1_b2_r3*x_s1_b7_r3 + 9973*x_s1_b3_r3*x_s1_b7_r3 + 9973*x_s1_b4_r3*x_s1_b7_r3 + 34*x_s1_b5_r3*x_s1_b7_r3 + 34*x_s1_b6_r3*x_s1_b7_r3 + 17*x_s1_b7_r3^2 + 9973*x_s1_b1_r3*x_s1_b8_r3 + 9973*x_s1_b2_r3*x_s1_b8_r3 + 9973*x_s1_b3_r3*x_s1_b8_r3 + 9973*x_s1_b4_r3*x_s1_b8_r3 + 34*x_s1_b5_r3*x_s1_b8_r3 + 34*x_s1_b6_r3*x_s1_b8_r3 + 34*x_s1_b7_r3*x_s1_b8_r3 + 17*x_s1_b8_r3^2 + y_b4 + 3*x_s1_b1_r3 + x_s1_b2_r3 + x_s1_b3_r3 + 8*x_s1_b4_r3 + x_s1_b5_r3 + x_s1_b6_r3 + x_s1_b7_r3 + x_s1_b8_r3 + k_b4 + 925\n",
      "20*x_s1_b1_r3^2 + 40*x_s1_b1_r3*x_s1_b2_r3 + 20*x_s1_b2_r3^2 + 40*x_s1_b1_r3*x_s1_b3_r3 + 40*x_s1_b2_r3*x_s1_b3_r3 + 20*x_s1_b3_r3^2 + 40*x_s1_b1_r3*x_s1_b4_r3 + 40*x_s1_b2_r3*x_s1_b4_r3 + 40*x_s1_b3_r3*x_s1_b4_r3 + 20*x_s1_b4_r3^2 + 9967*x_s1_b1_r3*x_s1_b5_r3 + 9967*x_s1_b2_r3*x_s1_b5_r3 + 9967*x_s1_b3_r3*x_s1_b5_r3 + 9967*x_s1_b4_r3*x_s1_b5_r3 + 20*x_s1_b5_r3^2 + 9967*x_s1_b1_r3*x_s1_b6_r3 + 9967*x_s1_b2_r3*x_s1_b6_r3 + 9967*x_s1_b3_r3*x_s1_b6_r3 + 9967*x_s1_b4_r3*x_s1_b6_r3 + 40*x_s1_b5_r3*x_s1_b6_r3 + 20*x_s1_b6_r3^2 + 9967*x_s1_b1_r3*x_s1_b7_r3 + 9967*x_s1_b2_r3*x_s1_b7_r3 + 9967*x_s1_b3_r3*x_s1_b7_r3 + 9967*x_s1_b4_r3*x_s1_b7_r3 + 40*x_s1_b5_r3*x_s1_b7_r3 + 40*x_s1_b6_r3*x_s1_b7_r3 + 20*x_s1_b7_r3^2 + 9967*x_s1_b1_r3*x_s1_b8_r3 + 9967*x_s1_b2_r3*x_s1_b8_r3 + 9967*x_s1_b3_r3*x_s1_b8_r3 + 9967*x_s1_b4_r3*x_s1_b8_r3 + 40*x_s1_b5_r3*x_s1_b8_r3 + 40*x_s1_b6_r3*x_s1_b8_r3 + 40*x_s1_b7_r3*x_s1_b8_r3 + 20*x_s1_b8_r3^2 + z_b1 + 7*x_s1_b1_r3 + x_s1_b2_r3 + x_s1_b3_r3 + x_s1_b4_r3 + 7*x_s1_b5_r3 + x_s1_b6_r3 + x_s1_b7_r3 + x_s1_b8_r3 + 3*k_b1 + 2*k_b2 + k_b3 + k_b4 + 9620\n",
      "----------------------------------------------------------------------\n",
      "10*x_s1_b1_r3^2 + 20*x_s1_b1_r3*x_s1_b2_r3 + 10*x_s1_b2_r3^2 + 20*x_s1_b1_r3*x_s1_b3_r3 + 20*x_s1_b2_r3*x_s1_b3_r3 + 10*x_s1_b3_r3^2 + 20*x_s1_b1_r3*x_s1_b4_r3 + 20*x_s1_b2_r3*x_s1_b4_r3 + 20*x_s1_b3_r3*x_s1_b4_r3 + 10*x_s1_b4_r3^2 + 9987*x_s1_b1_r3*x_s1_b5_r3 + 9987*x_s1_b2_r3*x_s1_b5_r3 + 9987*x_s1_b3_r3*x_s1_b5_r3 + 9987*x_s1_b4_r3*x_s1_b5_r3 + 10*x_s1_b5_r3^2 + 9987*x_s1_b1_r3*x_s1_b6_r3 + 9987*x_s1_b2_r3*x_s1_b6_r3 + 9987*x_s1_b3_r3*x_s1_b6_r3 + 9987*x_s1_b4_r3*x_s1_b6_r3 + 20*x_s1_b5_r3*x_s1_b6_r3 + 10*x_s1_b6_r3^2 + 9987*x_s1_b1_r3*x_s1_b7_r3 + 9987*x_s1_b2_r3*x_s1_b7_r3 + 9987*x_s1_b3_r3*x_s1_b7_r3 + 9987*x_s1_b4_r3*x_s1_b7_r3 + 20*x_s1_b5_r3*x_s1_b7_r3 + 20*x_s1_b6_r3*x_s1_b7_r3 + 10*x_s1_b7_r3^2 + 9987*x_s1_b1_r3*x_s1_b8_r3 + 9987*x_s1_b2_r3*x_s1_b8_r3 + 9987*x_s1_b3_r3*x_s1_b8_r3 + 9987*x_s1_b4_r3*x_s1_b8_r3 + 20*x_s1_b5_r3*x_s1_b8_r3 + 20*x_s1_b6_r3*x_s1_b8_r3 + 20*x_s1_b7_r3*x_s1_b8_r3 + 10*x_s1_b8_r3^2 + y_b1 + 3*x_s1_b1_r3 + x_s1_b2_r3 + x_s1_b3_r3 + x_s1_b4_r3 + x_s1_b5_r3 + x_s1_b6_r3 + x_s1_b7_r3 + x_s1_b8_r3 + k_b1 + 4481\n",
      "16*x_s1_b1_r3^2 + 32*x_s1_b1_r3*x_s1_b2_r3 + 16*x_s1_b2_r3^2 + 32*x_s1_b1_r3*x_s1_b3_r3 + 32*x_s1_b2_r3*x_s1_b3_r3 + 16*x_s1_b3_r3^2 + 32*x_s1_b1_r3*x_s1_b4_r3 + 32*x_s1_b2_r3*x_s1_b4_r3 + 32*x_s1_b3_r3*x_s1_b4_r3 + 16*x_s1_b4_r3^2 + 9975*x_s1_b1_r3*x_s1_b5_r3 + 9975*x_s1_b2_r3*x_s1_b5_r3 + 9975*x_s1_b3_r3*x_s1_b5_r3 + 9975*x_s1_b4_r3*x_s1_b5_r3 + 16*x_s1_b5_r3^2 + 9975*x_s1_b1_r3*x_s1_b6_r3 + 9975*x_s1_b2_r3*x_s1_b6_r3 + 9975*x_s1_b3_r3*x_s1_b6_r3 + 9975*x_s1_b4_r3*x_s1_b6_r3 + 32*x_s1_b5_r3*x_s1_b6_r3 + 16*x_s1_b6_r3^2 + 9975*x_s1_b1_r3*x_s1_b7_r3 + 9975*x_s1_b2_r3*x_s1_b7_r3 + 9975*x_s1_b3_r3*x_s1_b7_r3 + 9975*x_s1_b4_r3*x_s1_b7_r3 + 32*x_s1_b5_r3*x_s1_b7_r3 + 32*x_s1_b6_r3*x_s1_b7_r3 + 16*x_s1_b7_r3^2 + 9975*x_s1_b1_r3*x_s1_b8_r3 + 9975*x_s1_b2_r3*x_s1_b8_r3 + 9975*x_s1_b3_r3*x_s1_b8_r3 + 9975*x_s1_b4_r3*x_s1_b8_r3 + 32*x_s1_b5_r3*x_s1_b8_r3 + 32*x_s1_b6_r3*x_s1_b8_r3 + 32*x_s1_b7_r3*x_s1_b8_r3 + 16*x_s1_b8_r3^2 + y_b2 + 7*x_s1_b1_r3 + 3*x_s1_b2_r3 + x_s1_b3_r3 + x_s1_b4_r3 + x_s1_b5_r3 + x_s1_b6_r3 + x_s1_b7_r3 + x_s1_b8_r3 + k_b2 + 8637\n",
      "14*x_s1_b1_r3^2 + 28*x_s1_b1_r3*x_s1_b2_r3 + 14*x_s1_b2_r3^2 + 28*x_s1_b1_r3*x_s1_b3_r3 + 28*x_s1_b2_r3*x_s1_b3_r3 + 14*x_s1_b3_r3^2 + 28*x_s1_b1_r3*x_s1_b4_r3 + 28*x_s1_b2_r3*x_s1_b4_r3 + 28*x_s1_b3_r3*x_s1_b4_r3 + 14*x_s1_b4_r3^2 + 9979*x_s1_b1_r3*x_s1_b5_r3 + 9979*x_s1_b2_r3*x_s1_b5_r3 + 9979*x_s1_b3_r3*x_s1_b5_r3 + 9979*x_s1_b4_r3*x_s1_b5_r3 + 14*x_s1_b5_r3^2 + 9979*x_s1_b1_r3*x_s1_b6_r3 + 9979*x_s1_b2_r3*x_s1_b6_r3 + 9979*x_s1_b3_r3*x_s1_b6_r3 + 9979*x_s1_b4_r3*x_s1_b6_r3 + 28*x_s1_b5_r3*x_s1_b6_r3 + 14*x_s1_b6_r3^2 + 9979*x_s1_b1_r3*x_s1_b7_r3 + 9979*x_s1_b2_r3*x_s1_b7_r3 + 9979*x_s1_b3_r3*x_s1_b7_r3 + 9979*x_s1_b4_r3*x_s1_b7_r3 + 28*x_s1_b5_r3*x_s1_b7_r3 + 28*x_s1_b6_r3*x_s1_b7_r3 + 14*x_s1_b7_r3^2 + 9979*x_s1_b1_r3*x_s1_b8_r3 + 9979*x_s1_b2_r3*x_s1_b8_r3 + 9979*x_s1_b3_r3*x_s1_b8_r3 + 9979*x_s1_b4_r3*x_s1_b8_r3 + 28*x_s1_b5_r3*x_s1_b8_r3 + 28*x_s1_b6_r3*x_s1_b8_r3 + 28*x_s1_b7_r3*x_s1_b8_r3 + 14*x_s1_b8_r3^2 + y_b3 + 4*x_s1_b1_r3 + x_s1_b2_r3 + 4*x_s1_b3_r3 + x_s1_b4_r3 + x_s1_b5_r3 + x_s1_b6_r3 + x_s1_b7_r3 + x_s1_b8_r3 + k_b3 + 4551\n",
      "17*x_s1_b1_r3^2 + 34*x_s1_b1_r3*x_s1_b2_r3 + 17*x_s1_b2_r3^2 + 34*x_s1_b1_r3*x_s1_b3_r3 + 34*x_s1_b2_r3*x_s1_b3_r3 + 17*x_s1_b3_r3^2 + 34*x_s1_b1_r3*x_s1_b4_r3 + 34*x_s1_b2_r3*x_s1_b4_r3 + 34*x_s1_b3_r3*x_s1_b4_r3 + 17*x_s1_b4_r3^2 + 9973*x_s1_b1_r3*x_s1_b5_r3 + 9973*x_s1_b2_r3*x_s1_b5_r3 + 9973*x_s1_b3_r3*x_s1_b5_r3 + 9973*x_s1_b4_r3*x_s1_b5_r3 + 17*x_s1_b5_r3^2 + 9973*x_s1_b1_r3*x_s1_b6_r3 + 9973*x_s1_b2_r3*x_s1_b6_r3 + 9973*x_s1_b3_r3*x_s1_b6_r3 + 9973*x_s1_b4_r3*x_s1_b6_r3 + 34*x_s1_b5_r3*x_s1_b6_r3 + 17*x_s1_b6_r3^2 + 9973*x_s1_b1_r3*x_s1_b7_r3 + 9973*x_s1_b2_r3*x_s1_b7_r3 + 9973*x_s1_b3_r3*x_s1_b7_r3 + 9973*x_s1_b4_r3*x_s1_b7_r3 + 34*x_s1_b5_r3*x_s1_b7_r3 + 34*x_s1_b6_r3*x_s1_b7_r3 + 17*x_s1_b7_r3^2 + 9973*x_s1_b1_r3*x_s1_b8_r3 + 9973*x_s1_b2_r3*x_s1_b8_r3 + 9973*x_s1_b3_r3*x_s1_b8_r3 + 9973*x_s1_b4_r3*x_s1_b8_r3 + 34*x_s1_b5_r3*x_s1_b8_r3 + 34*x_s1_b6_r3*x_s1_b8_r3 + 34*x_s1_b7_r3*x_s1_b8_r3 + 17*x_s1_b8_r3^2 + y_b4 + 3*x_s1_b1_r3 + x_s1_b2_r3 + x_s1_b3_r3 + 8*x_s1_b4_r3 + x_s1_b5_r3 + x_s1_b6_r3 + x_s1_b7_r3 + x_s1_b8_r3 + k_b4 + 925\n",
      "20*x_s1_b1_r3^2 + 40*x_s1_b1_r3*x_s1_b2_r3 + 20*x_s1_b2_r3^2 + 40*x_s1_b1_r3*x_s1_b3_r3 + 40*x_s1_b2_r3*x_s1_b3_r3 + 20*x_s1_b3_r3^2 + 40*x_s1_b1_r3*x_s1_b4_r3 + 40*x_s1_b2_r3*x_s1_b4_r3 + 40*x_s1_b3_r3*x_s1_b4_r3 + 20*x_s1_b4_r3^2 + 9967*x_s1_b1_r3*x_s1_b5_r3 + 9967*x_s1_b2_r3*x_s1_b5_r3 + 9967*x_s1_b3_r3*x_s1_b5_r3 + 9967*x_s1_b4_r3*x_s1_b5_r3 + 20*x_s1_b5_r3^2 + 9967*x_s1_b1_r3*x_s1_b6_r3 + 9967*x_s1_b2_r3*x_s1_b6_r3 + 9967*x_s1_b3_r3*x_s1_b6_r3 + 9967*x_s1_b4_r3*x_s1_b6_r3 + 40*x_s1_b5_r3*x_s1_b6_r3 + 20*x_s1_b6_r3^2 + 9967*x_s1_b1_r3*x_s1_b7_r3 + 9967*x_s1_b2_r3*x_s1_b7_r3 + 9967*x_s1_b3_r3*x_s1_b7_r3 + 9967*x_s1_b4_r3*x_s1_b7_r3 + 40*x_s1_b5_r3*x_s1_b7_r3 + 40*x_s1_b6_r3*x_s1_b7_r3 + 20*x_s1_b7_r3^2 + 9967*x_s1_b1_r3*x_s1_b8_r3 + 9967*x_s1_b2_r3*x_s1_b8_r3 + 9967*x_s1_b3_r3*x_s1_b8_r3 + 9967*x_s1_b4_r3*x_s1_b8_r3 + 40*x_s1_b5_r3*x_s1_b8_r3 + 40*x_s1_b6_r3*x_s1_b8_r3 + 40*x_s1_b7_r3*x_s1_b8_r3 + 20*x_s1_b8_r3^2 + z_b1 + 7*x_s1_b1_r3 + x_s1_b2_r3 + x_s1_b3_r3 + x_s1_b4_r3 + 7*x_s1_b5_r3 + x_s1_b6_r3 + x_s1_b7_r3 + x_s1_b8_r3 + 3*k_b1 + 2*k_b2 + k_b3 + k_b4 + 9620\n",
      "19*x_s1_b1_r3^2 + 38*x_s1_b1_r3*x_s1_b2_r3 + 19*x_s1_b2_r3^2 + 38*x_s1_b1_r3*x_s1_b3_r3 + 38*x_s1_b2_r3*x_s1_b3_r3 + 19*x_s1_b3_r3^2 + 38*x_s1_b1_r3*x_s1_b4_r3 + 38*x_s1_b2_r3*x_s1_b4_r3 + 38*x_s1_b3_r3*x_s1_b4_r3 + 19*x_s1_b4_r3^2 + 9969*x_s1_b1_r3*x_s1_b5_r3 + 9969*x_s1_b2_r3*x_s1_b5_r3 + 9969*x_s1_b3_r3*x_s1_b5_r3 + 9969*x_s1_b4_r3*x_s1_b5_r3 + 19*x_s1_b5_r3^2 + 9969*x_s1_b1_r3*x_s1_b6_r3 + 9969*x_s1_b2_r3*x_s1_b6_r3 + 9969*x_s1_b3_r3*x_s1_b6_r3 + 9969*x_s1_b4_r3*x_s1_b6_r3 + 38*x_s1_b5_r3*x_s1_b6_r3 + 19*x_s1_b6_r3^2 + 9969*x_s1_b1_r3*x_s1_b7_r3 + 9969*x_s1_b2_r3*x_s1_b7_r3 + 9969*x_s1_b3_r3*x_s1_b7_r3 + 9969*x_s1_b4_r3*x_s1_b7_r3 + 38*x_s1_b5_r3*x_s1_b7_r3 + 38*x_s1_b6_r3*x_s1_b7_r3 + 19*x_s1_b7_r3^2 + 9969*x_s1_b1_r3*x_s1_b8_r3 + 9969*x_s1_b2_r3*x_s1_b8_r3 + 9969*x_s1_b3_r3*x_s1_b8_r3 + 9969*x_s1_b4_r3*x_s1_b8_r3 + 38*x_s1_b5_r3*x_s1_b8_r3 + 38*x_s1_b6_r3*x_s1_b8_r3 + 38*x_s1_b7_r3*x_s1_b8_r3 + 19*x_s1_b8_r3^2 + z_b2 + 8*x_s1_b1_r3 + x_s1_b2_r3 + x_s1_b3_r3 + x_s1_b4_r3 + x_s1_b5_r3 + 5*x_s1_b6_r3 + x_s1_b7_r3 + x_s1_b8_r3 + k_b1 + 3*k_b2 + 2*k_b3 + k_b4 + 9899\n",
      "13*x_s1_b1_r3^2 + 26*x_s1_b1_r3*x_s1_b2_r3 + 13*x_s1_b2_r3^2 + 26*x_s1_b1_r3*x_s1_b3_r3 + 26*x_s1_b2_r3*x_s1_b3_r3 + 13*x_s1_b3_r3^2 + 26*x_s1_b1_r3*x_s1_b4_r3 + 26*x_s1_b2_r3*x_s1_b4_r3 + 26*x_s1_b3_r3*x_s1_b4_r3 + 13*x_s1_b4_r3^2 + 9981*x_s1_b1_r3*x_s1_b5_r3 + 9981*x_s1_b2_r3*x_s1_b5_r3 + 9981*x_s1_b3_r3*x_s1_b5_r3 + 9981*x_s1_b4_r3*x_s1_b5_r3 + 13*x_s1_b5_r3^2 + 9981*x_s1_b1_r3*x_s1_b6_r3 + 9981*x_s1_b2_r3*x_s1_b6_r3 + 9981*x_s1_b3_r3*x_s1_b6_r3 + 9981*x_s1_b4_r3*x_s1_b6_r3 + 26*x_s1_b5_r3*x_s1_b6_r3 + 13*x_s1_b6_r3^2 + 9981*x_s1_b1_r3*x_s1_b7_r3 + 9981*x_s1_b2_r3*x_s1_b7_r3 + 9981*x_s1_b3_r3*x_s1_b7_r3 + 9981*x_s1_b4_r3*x_s1_b7_r3 + 26*x_s1_b5_r3*x_s1_b7_r3 + 26*x_s1_b6_r3*x_s1_b7_r3 + 13*x_s1_b7_r3^2 + 9981*x_s1_b1_r3*x_s1_b8_r3 + 9981*x_s1_b2_r3*x_s1_b8_r3 + 9981*x_s1_b3_r3*x_s1_b8_r3 + 9981*x_s1_b4_r3*x_s1_b8_r3 + 26*x_s1_b5_r3*x_s1_b8_r3 + 26*x_s1_b6_r3*x_s1_b8_r3 + 26*x_s1_b7_r3*x_s1_b8_r3 + 13*x_s1_b8_r3^2 + z_b3 + 5*x_s1_b1_r3 + x_s1_b2_r3 + x_s1_b3_r3 + x_s1_b4_r3 + x_s1_b5_r3 + x_s1_b6_r3 + 2*x_s1_b7_r3 + x_s1_b8_r3 + k_b1 + k_b2 + 3*k_b3 + 2*k_b4 + 8650\n",
      "16*x_s1_b1_r3^2 + 32*x_s1_b1_r3*x_s1_b2_r3 + 16*x_s1_b2_r3^2 + 32*x_s1_b1_r3*x_s1_b3_r3 + 32*x_s1_b2_r3*x_s1_b3_r3 + 16*x_s1_b3_r3^2 + 32*x_s1_b1_r3*x_s1_b4_r3 + 32*x_s1_b2_r3*x_s1_b4_r3 + 32*x_s1_b3_r3*x_s1_b4_r3 + 16*x_s1_b4_r3^2 + 9975*x_s1_b1_r3*x_s1_b5_r3 + 9975*x_s1_b2_r3*x_s1_b5_r3 + 9975*x_s1_b3_r3*x_s1_b5_r3 + 9975*x_s1_b4_r3*x_s1_b5_r3 + 16*x_s1_b5_r3^2 + 9975*x_s1_b1_r3*x_s1_b6_r3 + 9975*x_s1_b2_r3*x_s1_b6_r3 + 9975*x_s1_b3_r3*x_s1_b6_r3 + 9975*x_s1_b4_r3*x_s1_b6_r3 + 32*x_s1_b5_r3*x_s1_b6_r3 + 16*x_s1_b6_r3^2 + 9975*x_s1_b1_r3*x_s1_b7_r3 + 9975*x_s1_b2_r3*x_s1_b7_r3 + 9975*x_s1_b3_r3*x_s1_b7_r3 + 9975*x_s1_b4_r3*x_s1_b7_r3 + 32*x_s1_b5_r3*x_s1_b7_r3 + 32*x_s1_b6_r3*x_s1_b7_r3 + 16*x_s1_b7_r3^2 + 9975*x_s1_b1_r3*x_s1_b8_r3 + 9975*x_s1_b2_r3*x_s1_b8_r3 + 9975*x_s1_b3_r3*x_s1_b8_r3 + 9975*x_s1_b4_r3*x_s1_b8_r3 + 32*x_s1_b5_r3*x_s1_b8_r3 + 32*x_s1_b6_r3*x_s1_b8_r3 + 32*x_s1_b7_r3*x_s1_b8_r3 + 16*x_s1_b8_r3^2 + z_b4 + 4*x_s1_b1_r3 + x_s1_b2_r3 + x_s1_b3_r3 + x_s1_b4_r3 + x_s1_b5_r3 + x_s1_b6_r3 + x_s1_b7_r3 + 6*x_s1_b8_r3 + 2*k_b1 + k_b2 + k_b3 + 3*k_b4 + 6760\n",
      "----------------------------------------------------------------------\n"
     ]
    }
   ],
   "source": [
    "polys = generate_Hydra_polynomials_m_samples(hydra=hydra, \n",
    "                                             nonce=nonce, \n",
    "                                             samples=out);\n",
    "\n",
    "sep = repeat(\"-\", 70)\n",
    "println(sep)\n",
    "\n",
    "for i in 1:(2 * rounds_head + 1)\n",
    "    for j in 1:8\n",
    "        println(polys[3 * (i - 1) + j])\n",
    "    end\n",
    "    println(sep)\n",
    "end"
   ]
  },
  {
   "cell_type": "code",
   "execution_count": 7,
   "metadata": {},
   "outputs": [
    {
     "name": "stdout",
     "output_type": "stream",
     "text": [
      "\n",
      "Legend for f4 information\n",
      "--------------------------------------------------------\n",
      "deg       current degree of pairs selected in this round\n",
      "sel       number of pairs selected in this round\n",
      "pairs     total number of pairs in pair list\n",
      "mat       matrix dimensions (# rows x # columns)\n",
      "density   density of the matrix\n",
      "new data  # new elements for basis in this round\n",
      "          # zero reductions during linear algebra\n",
      "time(rd)  time of the current f4 round in seconds given\n",
      "          for real and cpu time\n",
      "--------------------------------------------------------\n",
      "\n",
      "deg     sel   pairs        mat          density            new data         time(rd) in sec (real|cpu)\n",
      "------------------------------------------------------------------------------------------------------\n",
      "  2      63      64      72 x 357        12.73%       63 new       0 zero         0.18 | 1.93         \n",
      "  2      10      10     717 x 735         1.15%       10 new       0 zero         0.04 | 0.43         \n",
      "  3      20      20      66 x 80         23.75%       20 new       0 zero         0.07 | 0.71         \n",
      "  3      24      63      74 x 64         25.97%       13 new      11 zero         0.05 | 0.48         \n",
      "  2      21      38      48 x 28         23.66%        0 new      21 zero         0.01 | 0.09         \n",
      "  3      17      17      46 x 30         21.74%        0 new      17 zero         0.01 | 0.09         \n",
      "------------------------------------------------------------------------------------------------------\n",
      "reduce final basis       68 x 69         10.83%       68 new       0 zero         0.01 | 0.09         \n",
      "------------------------------------------------------------------------------------------------------\n",
      "\n",
      "---------------- TIMINGS ----------------\n",
      "overall(elapsed)        0.55 sec\n",
      "overall(cpu)            5.93 sec\n",
      "select                  0.00 sec   0.2%\n",
      "symbolic prep.          0.00 sec   0.5%\n",
      "update                  0.48 sec  87.4%\n",
      "convert                 0.05 sec   9.1%\n",
      "linear algebra          0.01 sec   2.6%\n",
      "reduce gb               0.00 sec   0.0%\n",
      "-----------------------------------------\n",
      "\n",
      "---------- COMPUTATIONAL DATA -----------\n",
      "size of basis                    68\n",
      "#terms in basis                 136\n",
      "#pairs reduced                  155\n",
      "#GM criterion                 15598\n",
      "#redundant elements             110\n",
      "#rows reduced                   378\n",
      "#zero reductions                 49\n",
      "max. matrix data                717 x 735 (1.151%)\n",
      "max. symbolic hash table size  2^11\n",
      "max. basis hash table size     2^16\n",
      "-----------------------------------------\n",
      "\n"
     ]
    },
    {
     "name": "stderr",
     "output_type": "stream",
     "text": [
      "\n",
      "--------------- INPUT DATA ---------------\n",
      "#variables                      68\n",
      "#equations                      72\n",
      "#invalid equations               0\n",
      "field characteristic         10007\n",
      "homogeneous input?               0\n",
      "signature-based computation      0\n",
      "monomial order                 DRL\n",
      "basis hash table resetting     OFF\n",
      "linear algebra option            2\n",
      "initial hash table size     131072 (2^17)\n",
      "max pair selection             ALL\n",
      "reduce gb                        1\n",
      "#threads                        16\n",
      "info level                       2\n",
      "generate pbm files               0\n",
      "------------------------------------------\n",
      "\n",
      "---------------- TIMINGS ----------------\n",
      "overall(elapsed)        0.55 sec\n",
      "overall(cpu)            5.93 sec\n",
      "select                  0.00 sec   0.0%\n",
      "symbolic prep.          0.00 sec   0.0%\n",
      "update                  0.00 sec   0.0%\n",
      "convert                 0.00 sec   0.0%\n",
      "linear algebra          0.00 sec   0.0%\n",
      "reduce gb               0.00 sec   0.0%\n",
      "-----------------------------------------\n",
      "\n",
      "---------- COMPUTATIONAL DATA -----------\n",
      "size of basis                    68\n",
      "#terms in basis                 136\n",
      "#pairs reduced                    0\n",
      "#GM criterion                     0\n",
      "#redundant elements               0\n",
      "#rows reduced                     0\n",
      "#zero reductions                  0\n",
      "max. matrix data                  0 x 0 (0.000%)\n",
      "max. symbolic hash table size  2^-2147483648\n",
      "max. basis hash table size     2^16\n",
      "-----------------------------------------\n",
      "\n"
     ]
    }
   ],
   "source": [
    "gb = groebner_basis_f4(ideal(polys), nr_thrds=16, info_level=2);"
   ]
  },
  {
   "cell_type": "code",
   "execution_count": 8,
   "metadata": {},
   "outputs": [
    {
     "data": {
      "text/plain": [
       "4-element Vector{FqMPolyRingElem}:\n",
       " k_b4 + 9168\n",
       " k_b3 + 5243\n",
       " k_b2 + 8553\n",
       " k_b1 + 2987"
      ]
     },
     "metadata": {},
     "output_type": "display_data"
    }
   ],
   "source": [
    "gens(gb)[1:4]"
   ]
  },
  {
   "cell_type": "code",
   "execution_count": 9,
   "metadata": {},
   "outputs": [
    {
     "data": {
      "text/html": [
       "[2987; 8553; 5243; 9168]"
      ],
      "text/latex": [
       "\\begin{array}{c}\n",
       "2987 \\\\\n",
       "8553 \\\\\n",
       "5243 \\\\\n",
       "9168\n",
       "\\end{array}"
      ],
      "text/plain": [
       "[2987]\n",
       "[8553]\n",
       "[5243]\n",
       "[9168]"
      ]
     },
     "metadata": {},
     "output_type": "display_data"
    }
   ],
   "source": [
    "-key"
   ]
  },
  {
   "cell_type": "markdown",
   "metadata": {},
   "source": [
    "### Change Of Coordinates"
   ]
  },
  {
   "cell_type": "code",
   "execution_count": 10,
   "metadata": {},
   "outputs": [
    {
     "name": "stdout",
     "output_type": "stream",
     "text": [
      "Number of non-linear variables: 6\n",
      "Number of polynomials in substituted downsized Hydra polynomial system: 10\n",
      "(x_subs_1^2, ..., x_subs_n^2) contained in leading terms of substituted polynomials: true\n",
      "All terms of donwiszed polynomial system contained in (x_subs_1, ..., x_subs_n): true\n"
     ]
    }
   ],
   "source": [
    "affine_polys, polys_subs, polys_downsized_subs = non_linear_variable_substitution_Hydra_polynomial_system(hydra, \n",
    "                                                                                                          polys, \n",
    "                                                                                                          m);"
   ]
  },
  {
   "cell_type": "code",
   "execution_count": 11,
   "metadata": {},
   "outputs": [
    {
     "name": "stdout",
     "output_type": "stream",
     "text": [
      "9268*x_subs_i1^2 + 7330*x_subs_i1*x_subs_i2 + 4370*x_subs_i2^2 + 7786*x_subs_i1*x_subs_i3 + 4014*x_subs_i2*x_subs_i3 + 4936*x_subs_i3^2 + 8602*x_subs_i1*x_subs_i4 + 7144*x_subs_i2*x_subs_i4 + 8241*x_subs_i3*x_subs_i4 + 4312*x_subs_i4^2 + 5874*x_subs_i1*x_subs_i5 + 9434*x_subs_i2*x_subs_i5 + 6728*x_subs_i3*x_subs_i5 + 1359*x_subs_i4*x_subs_i5 + 5877*x_subs_i5^2 + 9638*x_subs_i1*x_subs_i6 + 3956*x_subs_i2*x_subs_i6 + 5925*x_subs_i3*x_subs_i6 + 5235*x_subs_i4*x_subs_i6 + 478*x_subs_i5*x_subs_i6 + 1738*x_subs_i6^2 + 5091*x_subs_i1 + 3614*x_subs_i2 + 5493*x_subs_i3 + 8333*x_subs_i4 + 2648*x_subs_i5 + 4*x_subs_i6 + 3037\n",
      "----------------------------------------------------------------------\n",
      "4221*x_subs_i1^2 + 8933*x_subs_i1*x_subs_i2 + 4165*x_subs_i2^2 + 3370*x_subs_i1*x_subs_i3 + 5318*x_subs_i2*x_subs_i3 + 5931*x_subs_i3^2 + 165*x_subs_i1*x_subs_i4 + 5932*x_subs_i2*x_subs_i4 + 1531*x_subs_i3*x_subs_i4 + 327*x_subs_i4^2 + 2306*x_subs_i1*x_subs_i5 + 4607*x_subs_i2*x_subs_i5 + 8782*x_subs_i3*x_subs_i5 + 2954*x_subs_i4*x_subs_i5 + 2387*x_subs_i5^2 + 1036*x_subs_i1*x_subs_i6 + 2009*x_subs_i2*x_subs_i6 + 4579*x_subs_i3*x_subs_i6 + 5198*x_subs_i4*x_subs_i6 + 8116*x_subs_i5*x_subs_i6 + 7100*x_subs_i6^2 + 4508*x_subs_i1 + 4890*x_subs_i2 + 9414*x_subs_i3 + 7135*x_subs_i4 + 2331*x_subs_i5 + 1692*x_subs_i6 + 78\n",
      "----------------------------------------------------------------------\n",
      "x_subs_i1^2 + 6040*x_subs_i1 + 9819*x_subs_i2 + 8878*x_subs_i3 + 5187*x_subs_i4 + 7135*x_subs_i5 + 511*x_subs_i6 + 5720\n",
      "----------------------------------------------------------------------\n",
      "x_subs_i2^2 + 6909*x_subs_i1 + 4859*x_subs_i2 + 5631*x_subs_i3 + 1204*x_subs_i4 + 8518*x_subs_i5 + 2633*x_subs_i6 + 4319\n",
      "----------------------------------------------------------------------\n",
      "5706*x_subs_i1^2 + 9165*x_subs_i1*x_subs_i2 + 963*x_subs_i2^2 + 412*x_subs_i1*x_subs_i3 + 6964*x_subs_i2*x_subs_i3 + 8142*x_subs_i3^2 + 8744*x_subs_i1*x_subs_i4 + 658*x_subs_i2*x_subs_i4 + 91*x_subs_i3*x_subs_i4 + 2533*x_subs_i4^2 + 2510*x_subs_i1*x_subs_i5 + 2918*x_subs_i2*x_subs_i5 + 7955*x_subs_i3*x_subs_i5 + 7142*x_subs_i4*x_subs_i5 + 6274*x_subs_i5^2 + 260*x_subs_i1*x_subs_i6 + 9309*x_subs_i2*x_subs_i6 + 5125*x_subs_i3*x_subs_i6 + 7570*x_subs_i4*x_subs_i6 + 9369*x_subs_i5*x_subs_i6 + 1996*x_subs_i6^2 + 9455*x_subs_i1 + 8277*x_subs_i2 + 7918*x_subs_i3 + 4855*x_subs_i4 + 5792*x_subs_i5 + 980*x_subs_i6 + 3171\n",
      "----------------------------------------------------------------------\n",
      "9444*x_subs_i1^2 + 1985*x_subs_i1*x_subs_i2 + 6446*x_subs_i2^2 + 4937*x_subs_i1*x_subs_i3 + 4687*x_subs_i2*x_subs_i3 + 1750*x_subs_i3^2 + 3757*x_subs_i1*x_subs_i4 + 2292*x_subs_i2*x_subs_i4 + 3247*x_subs_i3*x_subs_i4 + 4067*x_subs_i4^2 + 5999*x_subs_i1*x_subs_i5 + 8597*x_subs_i2*x_subs_i5 + 3093*x_subs_i3*x_subs_i5 + 3895*x_subs_i4*x_subs_i5 + 156*x_subs_i5^2 + 6364*x_subs_i1*x_subs_i6 + 5534*x_subs_i2*x_subs_i6 + 9767*x_subs_i3*x_subs_i6 + 7267*x_subs_i4*x_subs_i6 + 8053*x_subs_i5*x_subs_i6 + 9483*x_subs_i6^2 + 9945*x_subs_i1 + 2812*x_subs_i2 + 2905*x_subs_i3 + 4232*x_subs_i4 + 9089*x_subs_i5 + 5516*x_subs_i6 + 4096\n",
      "----------------------------------------------------------------------\n",
      "x_subs_i3^2 + 284*x_subs_i1 + 3758*x_subs_i2 + 5851*x_subs_i3 + 9505*x_subs_i4 + 2827*x_subs_i5 + 6726*x_subs_i6 + 189\n",
      "----------------------------------------------------------------------\n",
      "x_subs_i4^2 + 8251*x_subs_i1 + 6864*x_subs_i2 + 2261*x_subs_i3 + 9665*x_subs_i4 + 1227*x_subs_i5 + 5180*x_subs_i6 + 2247\n",
      "----------------------------------------------------------------------\n",
      "x_subs_i5^2 + 8082*x_subs_i1 + 4266*x_subs_i2 + 2984*x_subs_i3 + 6311*x_subs_i4 + 7036*x_subs_i5 + 3717*x_subs_i6 + 6143\n",
      "----------------------------------------------------------------------\n",
      "x_subs_i6^2 + 5452*x_subs_i1 + 478*x_subs_i2 + 6887*x_subs_i3 + 2291*x_subs_i4 + 6458*x_subs_i5 + 111*x_subs_i6 + 4666\n",
      "----------------------------------------------------------------------\n"
     ]
    }
   ],
   "source": [
    "for poly in polys_downsized_subs\n",
    "    println(poly)\n",
    "    println(sep)\n",
    "end"
   ]
  },
  {
   "cell_type": "code",
   "execution_count": 12,
   "metadata": {},
   "outputs": [
    {
     "name": "stdout",
     "output_type": "stream",
     "text": [
      "\n",
      "Legend for f4 information\n",
      "--------------------------------------------------------\n",
      "deg       current degree of pairs selected in this round\n",
      "sel       number of pairs selected in this round\n",
      "pairs     total number of pairs in pair list\n",
      "mat       matrix dimensions (# rows x # columns)\n",
      "density   density of the matrix\n",
      "new data  # new elements for basis in this round\n",
      "          # zero reductions during linear algebra\n",
      "time(rd)  time of the current f4 round in seconds given\n",
      "          for real and cpu time\n",
      "--------------------------------------------------------\n",
      "\n",
      "deg     sel   pairs        mat          density            new data         time(rd) in sec (real|cpu)\n",
      "------------------------------------------------------------------------------------------------------\n",
      "  2       4       4      10 x 28         57.14%        4 new       0 zero         0.02 | 0.25         \n",
      "  3      12      12      69 x 83         17.11%       12 new       0 zero         0.04 | 0.48         \n",
      "  3      24      41      81 x 71         19.56%       13 new      11 zero         0.05 | 0.49         \n",
      "  2      21      29      48 x 28         20.24%        0 new      21 zero         0.01 | 0.09         \n",
      "  3       8       8      29 x 22         25.39%        0 new       8 zero         0.01 | 0.10         \n",
      "------------------------------------------------------------------------------------------------------\n",
      "reduce final basis       74 x 75         10.02%       74 new       0 zero         0.01 | 0.07         \n",
      "------------------------------------------------------------------------------------------------------\n",
      "\n",
      "---------------- TIMINGS ----------------\n",
      "overall(elapsed)        0.36 sec\n",
      "overall(cpu)            3.80 sec\n",
      "select                  0.00 sec   0.1%\n",
      "symbolic prep.          0.00 sec   0.2%\n",
      "update                  0.30 sec  83.3%\n",
      "convert                 0.04 sec  11.6%\n",
      "linear algebra          0.02 sec   4.6%\n",
      "reduce gb               0.00 sec   0.0%\n",
      "-----------------------------------------\n",
      "\n",
      "---------- COMPUTATIONAL DATA -----------\n",
      "size of basis                    74\n",
      "#terms in basis                 148\n",
      "#pairs reduced                   69\n",
      "#GM criterion                  5602\n",
      "#redundant elements              33\n",
      "#rows reduced                   212\n",
      "#zero reductions                 40\n",
      "max. matrix data                 81 x 71 (19.562%)\n",
      "max. symbolic hash table size  2^11\n",
      "max. basis hash table size     2^16\n",
      "-----------------------------------------\n",
      "\n"
     ]
    },
    {
     "name": "stderr",
     "output_type": "stream",
     "text": [
      "\n",
      "--------------- INPUT DATA ---------------\n",
      "#variables                      74\n",
      "#equations                      78\n",
      "#invalid equations               0\n",
      "field characteristic         10007\n",
      "homogeneous input?               0\n",
      "signature-based computation      0\n",
      "monomial order                 DRL\n",
      "basis hash table resetting     OFF\n",
      "linear algebra option            2\n",
      "initial hash table size     131072 (2^17)\n",
      "max pair selection             ALL\n",
      "reduce gb                        1\n",
      "#threads                        16\n",
      "info level                       2\n",
      "generate pbm files               0\n",
      "------------------------------------------\n",
      "\n",
      "---------------- TIMINGS ----------------\n",
      "overall(elapsed)        0.36 sec\n",
      "overall(cpu)            3.80 sec\n",
      "select                  0.00 sec   0.0%\n",
      "symbolic prep.          0.00 sec   0.0%\n",
      "update                  0.00 sec   0.0%\n",
      "convert                 0.00 sec   0.0%\n",
      "linear algebra          0.00 sec   0.0%\n",
      "reduce gb               0.00 sec   0.0%\n",
      "-----------------------------------------\n",
      "\n",
      "---------- COMPUTATIONAL DATA -----------\n",
      "size of basis                    74\n",
      "#terms in basis                 148\n",
      "#pairs reduced                    0\n",
      "#GM criterion                     0\n",
      "#redundant elements               0\n",
      "#rows reduced                     0\n",
      "#zero reductions                  0\n",
      "max. matrix data                  0 x 0 (0.000%)\n",
      "max. symbolic hash table size  2^-2147483648\n",
      "max. basis hash table size     2^16\n",
      "-----------------------------------------\n",
      "\n"
     ]
    }
   ],
   "source": [
    "gb = groebner_basis_f4(ideal(affine_polys) + ideal(polys_subs) + ideal(polys_downsized_subs), nr_thrds=16, info_level=2);"
   ]
  },
  {
   "cell_type": "code",
   "execution_count": 13,
   "metadata": {},
   "outputs": [
    {
     "data": {
      "text/plain": [
       "4-element Vector{FqMPolyRingElem}:\n",
       " k_b4 + 9168\n",
       " k_b3 + 5243\n",
       " k_b2 + 8553\n",
       " k_b1 + 2987"
      ]
     },
     "metadata": {},
     "output_type": "display_data"
    }
   ],
   "source": [
    "gens(gb)[2 * rounds_head - 1:2 * rounds_head + 2]"
   ]
  },
  {
   "cell_type": "code",
   "execution_count": 14,
   "metadata": {},
   "outputs": [
    {
     "data": {
      "text/html": [
       "[2987; 8553; 5243; 9168]"
      ],
      "text/latex": [
       "\\begin{array}{c}\n",
       "2987 \\\\\n",
       "8553 \\\\\n",
       "5243 \\\\\n",
       "9168\n",
       "\\end{array}"
      ],
      "text/plain": [
       "[2987]\n",
       "[8553]\n",
       "[5243]\n",
       "[9168]"
      ]
     },
     "metadata": {},
     "output_type": "display_data"
    }
   ],
   "source": [
    "-key"
   ]
  }
 ],
 "metadata": {
  "kernelspec": {
   "display_name": "Julia 1.11.5",
   "language": "julia",
   "name": "julia-1.11"
  },
  "language_info": {
   "file_extension": ".jl",
   "mimetype": "application/julia",
   "name": "julia",
   "version": "1.11.5"
  },
  "orig_nbformat": 4
 },
 "nbformat": 4,
 "nbformat_minor": 2
}
