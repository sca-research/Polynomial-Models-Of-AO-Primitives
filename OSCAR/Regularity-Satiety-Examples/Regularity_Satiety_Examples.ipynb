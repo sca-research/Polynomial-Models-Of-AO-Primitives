{
 "cells": [
  {
   "cell_type": "markdown",
   "metadata": {},
   "source": [
    "# Castelnuovo-Mumford Regularity and Satiety Examples"
   ]
  },
  {
   "cell_type": "code",
   "execution_count": 1,
   "metadata": {},
   "outputs": [
    {
     "name": "stdout",
     "output_type": "stream",
     "text": [
      "\r"
     ]
    }
   ],
   "source": [
    "using Oscar"
   ]
  },
  {
   "cell_type": "code",
   "execution_count": 2,
   "metadata": {},
   "outputs": [
    {
     "data": {
      "text/plain": [
       "highest_degree_component (generic function with 1 method)"
      ]
     },
     "metadata": {},
     "output_type": "display_data"
    }
   ],
   "source": [
    "function highest_degree_component(polynomial)\n",
    "    d = total_degree(polynomial)\n",
    "    polynomial_top = zero(parent(polynomial))\n",
    "    for t in terms(polynomial)\n",
    "        if total_degree(t) == d\n",
    "            polynomial_top += t\n",
    "        end\n",
    "    end\n",
    "    return polynomial_top\n",
    "end"
   ]
  },
  {
   "cell_type": "code",
   "execution_count": 3,
   "metadata": {},
   "outputs": [
    {
     "data": {
      "text/plain": [
       "satiety_generic_monomial_ideal (generic function with 1 method)"
      ]
     },
     "metadata": {},
     "output_type": "display_data"
    }
   ],
   "source": [
    "function satiety_generic_monomial_ideal(I)\n",
    "    \"\"\"\n",
    "    Computes the satiety with Corollary 2.1 of\n",
    "    https://doi.org/10.1090/S0025-5718-2011-02515-9.\n",
    "    \"\"\"\n",
    "    variables = gens(base_ring(I))\n",
    "    J = ideal(last(variables))\n",
    "    B = gens(quotient(I, J))\n",
    "    @req all(x -> length(terms(x)) == 1, B) \"Ideal quotient with respect to last variable must be monomial ideal.\"\n",
    "    B = filter(x -> !(x in I), B)\n",
    "    if B == []\n",
    "        return 0\n",
    "    end\n",
    "    d = 0\n",
    "    while B != []\n",
    "        d = maximum(total_degree, B)\n",
    "        B = map(x -> map(var -> var * x, variables), B)\n",
    "        B = filter(x -> !(x in I), collect(Iterators.Flatten(B)))\n",
    "    end\n",
    "    return d + 1\n",
    "end"
   ]
  },
  {
   "cell_type": "code",
   "execution_count": 4,
   "metadata": {},
   "outputs": [],
   "source": [
    "sep = repeat(\"-\", 100);"
   ]
  },
  {
   "cell_type": "markdown",
   "metadata": {},
   "source": [
    "## Example 1\n",
    "\n",
    "$$\n",
    "    \\mathcal{F} = \\left\\{  x_1^m, x_2^m, x_3^m, x_1 \\cdot x_2 \\cdot x_3, x_3^m + x_3 \\right\\}\n",
    "$$"
   ]
  },
  {
   "cell_type": "code",
   "execution_count": 5,
   "metadata": {},
   "outputs": [
    {
     "name": "stdout",
     "output_type": "stream",
     "text": [
      "m: 9\n",
      "F: x1^9, x2^9, x3^9, x1*x2*x3, x3^9 + x3, \n",
      "F^hom: x1^9, x2^9, x3^9, x1*x2*x3, x3^9 + x3*x_4^8, \n",
      "G: x3, x2^9, x1^9, \n",
      "G^hom: x1*x2*x3, x3*x_4^8, x3^9, x2^9, x1^9, \n",
      "----------------------------------------------------------------------------------------------------\n",
      "Degree of regularity F: 17\n",
      "Degree of regularity G: 17\n",
      "----------------------------------------------------------------------------------------------------\n",
      "2 * m - 1: 17\n",
      "----------------------------------------------------------------------------------------------------\n",
      "Satiety of F^hom: 24\n",
      "Castelnuovo-Mumford regularity F^hom: 24\n",
      "----------------------------------------------------------------------------------------------------\n",
      "3 * m - 3: 24\n",
      "----------------------------------------------------------------------------------------------------\n"
     ]
    }
   ],
   "source": [
    "m = 9\n",
    "\n",
    "P, (x1, x2, x3) = polynomial_ring(QQ, [\"x1\", \"x2\", \"x3\"])\n",
    "P_gr, _ = grade(P)\n",
    "H = homogenizer(P, \"x_4\")\n",
    "\n",
    "F = [x1^m,\n",
    "     x2^m,\n",
    "     x3^m,\n",
    "     x1 * x2 * x3,\n",
    "     x3^m + x3]\n",
    "F_top = map(highest_degree_component, F)\n",
    "F_h = map(H, F)\n",
    "\n",
    "G = groebner_basis(ideal(F), complete_reduction=true)\n",
    "G_top = map(highest_degree_component, G)\n",
    "\n",
    "G_h = groebner_basis(ideal(F_h), complete_reduction=true)\n",
    "\n",
    "A, _ = quo(P_gr, ideal(P_gr, F_top))\n",
    "f = hilbert_series_reduced(A)\n",
    "d_reg_F = degree(f[1]) - degree(f[2]) + 1\n",
    "\n",
    "A, _ = quo(P_gr, ideal(P_gr, G_top))\n",
    "f = hilbert_series_reduced(A)\n",
    "d_reg_G = degree(f[1]) - degree(f[2]) + 1\n",
    "\n",
    "reg = cm_regularity(ideal(F_h))\n",
    "sat = satiety_generic_monomial_ideal(ideal(G_h))\n",
    "\n",
    "println(\"m: \", m)\n",
    "println(\"F: \", prod(map(poly -> string(poly) * \", \", F)))\n",
    "println(\"F^hom: \", prod(map(poly -> string(poly) * \", \", F_h)))\n",
    "println(\"G: \", prod(map(poly -> string(poly) * \", \", G)))\n",
    "println(\"G^hom: \", prod(map(poly -> string(poly) * \", \", G_h)))\n",
    "println(sep)\n",
    "println(\"Degree of regularity F: \", d_reg_F)\n",
    "println(\"Degree of regularity G: \", d_reg_G)\n",
    "println(sep)\n",
    "println(\"2 * m - 1: \", 2 * m - 1)\n",
    "println(sep)\n",
    "println(\"Satiety of F^hom: \", sat)\n",
    "println(\"Castelnuovo-Mumford regularity F^hom: \", reg)\n",
    "println(sep)\n",
    "println(\"3 * m - 3: \", 3 * m - 3)\n",
    "println(sep)"
   ]
  },
  {
   "cell_type": "markdown",
   "metadata": {},
   "source": [
    "## Example 2\n",
    "\n",
    "$$\n",
    "    \\mathcal{F} = \\left\\{ x^{2 \\cdot m + 1}, x \\cdot y, y^{m + 1}, y^{m + 1} + y \\right\\}\n",
    "$$"
   ]
  },
  {
   "cell_type": "code",
   "execution_count": 6,
   "metadata": {},
   "outputs": [
    {
     "name": "stdout",
     "output_type": "stream",
     "text": [
      "m: 21\n",
      "F: x^43, x*y, y^22, y^22 + y, \n",
      "F^hom: x^43, x*y, y^22, y^22 + y*z^21, \n",
      "G: y, x^43, \n",
      "G^hom: x*y, y*z^21, y^22, x^43, \n",
      "----------------------------------------------------------------------------------------------------\n",
      "Degree of regularity F: 43\n",
      "Degree of regularity G: 43\n",
      "----------------------------------------------------------------------------------------------------\n",
      "2 * m + 1: 43\n",
      "----------------------------------------------------------------------------------------------------\n",
      "Satiety of F^hom: 42\n",
      "----------------------------------------------------------------------------------------------------\n",
      "2 * m: 42\n",
      "----------------------------------------------------------------------------------------------------\n",
      "Castelnuovo-Mumford regularity F^hom: 43\n",
      "----------------------------------------------------------------------------------------------------\n",
      "2 * m + 1: 43\n",
      "----------------------------------------------------------------------------------------------------\n"
     ]
    }
   ],
   "source": [
    "m = 21\n",
    "\n",
    "P, (x, y) = polynomial_ring(QQ, [\"x\", \"y\"])\n",
    "P_gr, _ = grade(P)\n",
    "H = homogenizer(P, \"z\")\n",
    "\n",
    "F = [x^(2 * m + 1),\n",
    "     x * y,\n",
    "     y^(m + 1),\n",
    "     y^(m + 1) + y]\n",
    "F_top = map(highest_degree_component, F)\n",
    "F_h = map(H, F)\n",
    "\n",
    "G = groebner_basis(ideal(F), complete_reduction=true)\n",
    "G_top = map(highest_degree_component, G)\n",
    "\n",
    "G_h = groebner_basis(ideal(F_h), complete_reduction=true)\n",
    "\n",
    "A, _ = quo(P_gr, ideal(P_gr, F_top))\n",
    "f = hilbert_series_reduced(A)\n",
    "d_reg_F = degree(f[1]) - degree(f[2]) + 1\n",
    "\n",
    "A, _ = quo(P_gr, ideal(P_gr, G_top))\n",
    "f = hilbert_series_reduced(A)\n",
    "d_reg_G = degree(f[1]) - degree(f[2]) + 1\n",
    "\n",
    "reg = cm_regularity(ideal(F_h))\n",
    "sat = satiety_generic_monomial_ideal(ideal(G_h))\n",
    "\n",
    "println(\"m: \", m)\n",
    "println(\"F: \", prod(map(poly -> string(poly) * \", \", F)))\n",
    "println(\"F^hom: \", prod(map(poly -> string(poly) * \", \", F_h)))\n",
    "println(\"G: \", prod(map(poly -> string(poly) * \", \", G)))\n",
    "println(\"G^hom: \", prod(map(poly -> string(poly) * \", \", G_h)))\n",
    "println(sep)\n",
    "println(\"Degree of regularity F: \", d_reg_F)\n",
    "println(\"Degree of regularity G: \", d_reg_G)\n",
    "println(sep)\n",
    "println(\"2 * m + 1: \", 2 * m + 1)\n",
    "println(sep)\n",
    "println(\"Satiety of F^hom: \", sat)\n",
    "println(sep)\n",
    "println(\"2 * m: \", 2 * m)\n",
    "println(sep)\n",
    "println(\"Castelnuovo-Mumford regularity F^hom: \", reg)\n",
    "println(sep)\n",
    "println(\"2 * m + 1: \", 2 * m + 1)\n",
    "println(sep)"
   ]
  },
  {
   "cell_type": "markdown",
   "metadata": {},
   "source": [
    "## Example 3\n",
    "\n",
    "$$\n",
    "    \\mathcal{F} = \\left\\{ x^{2 \\cdot m + 1}, x \\cdot y, y^{2 \\cdot m + 1} + y^{2 \\cdot m} \\right\\}\n",
    "$$"
   ]
  },
  {
   "cell_type": "code",
   "execution_count": 7,
   "metadata": {},
   "outputs": [
    {
     "name": "stdout",
     "output_type": "stream",
     "text": [
      "m: 14\n",
      "F: x^29, x*y, y^29, y^29 + y^28, \n",
      "F^hom: x^29, x*y, y^29, y^29 + y^28*z, \n",
      "G: x*y, y^28, x^29, \n",
      "G^hom: x*y, y^28*z, y^29, x^29, \n",
      "----------------------------------------------------------------------------------------------------\n",
      "Degree of regularity F: 29\n",
      "Degree of regularity G: 29\n",
      "Satiety of F^hom: 29\n",
      "Castelnuovo-Mumford regularity F^hom: 29\n",
      "----------------------------------------------------------------------------------------------------\n",
      "2 * m + 1: 29\n",
      "----------------------------------------------------------------------------------------------------\n"
     ]
    }
   ],
   "source": [
    "m = 14\n",
    "\n",
    "P, (x, y) = polynomial_ring(QQ, [\"x\", \"y\"])\n",
    "P_gr, _ = grade(P)\n",
    "H = homogenizer(P, \"z\")\n",
    "\n",
    "F = [x^(2 * m + 1),\n",
    "     x * y,\n",
    "     y^(2 * m + 1),\n",
    "     y^(2 * m + 1) + y^(2 * m)]\n",
    "F_top = map(highest_degree_component, F)\n",
    "F_h = map(H, F)\n",
    "\n",
    "G = groebner_basis(ideal(F), complete_reduction=true)\n",
    "G_top = map(highest_degree_component, G)\n",
    "\n",
    "G_h = groebner_basis(ideal(F_h), complete_reduction=true)\n",
    "\n",
    "A, _ = quo(P_gr, ideal(P_gr, F_top))\n",
    "f = hilbert_series_reduced(A)\n",
    "d_reg_F = degree(f[1]) - degree(f[2]) + 1\n",
    "\n",
    "A, _ = quo(P_gr, ideal(P_gr, G_top))\n",
    "f = hilbert_series_reduced(A)\n",
    "d_reg_G = degree(f[1]) - degree(f[2]) + 1\n",
    "\n",
    "reg = cm_regularity(ideal(F_h))\n",
    "sat = satiety_generic_monomial_ideal(ideal(G_h))\n",
    "\n",
    "println(\"m: \", m)\n",
    "println(\"F: \", prod(map(poly -> string(poly) * \", \", F)))\n",
    "println(\"F^hom: \", prod(map(poly -> string(poly) * \", \", F_h)))\n",
    "println(\"G: \", prod(map(poly -> string(poly) * \", \", G)))\n",
    "println(\"G^hom: \", prod(map(poly -> string(poly) * \", \", G_h)))\n",
    "println(sep)\n",
    "println(\"Degree of regularity F: \", d_reg_F)\n",
    "println(\"Degree of regularity G: \", d_reg_G)\n",
    "println(\"Satiety of F^hom: \", sat)\n",
    "println(\"Castelnuovo-Mumford regularity F^hom: \", reg)\n",
    "println(sep)\n",
    "println(\"2 * m + 1: \", 2 * m + 1)\n",
    "println(sep)"
   ]
  }
 ],
 "metadata": {
  "kernelspec": {
   "display_name": "Julia 1.11.5",
   "language": "julia",
   "name": "julia-1.11"
  },
  "language_info": {
   "file_extension": ".jl",
   "mimetype": "application/julia",
   "name": "julia",
   "version": "1.11.5"
  }
 },
 "nbformat": 4,
 "nbformat_minor": 2
}
